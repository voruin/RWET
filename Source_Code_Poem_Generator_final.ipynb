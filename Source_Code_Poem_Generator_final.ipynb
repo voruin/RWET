{
 "cells": [
  {
   "cell_type": "markdown",
   "id": "701a2cf7",
   "metadata": {},
   "source": [
    "# 1. Randomly generate source code poem base on corpus"
   ]
  },
  {
   "cell_type": "code",
   "execution_count": 334,
   "id": "db5faa17",
   "metadata": {},
   "outputs": [],
   "source": [
    "import random\n",
    "import textwrap"
   ]
  },
  {
   "cell_type": "code",
   "execution_count": 337,
   "id": "01595391",
   "metadata": {},
   "outputs": [],
   "source": [
    "import spacy\n",
    "import numpy as np\n",
    "nlp = spacy.load('en_core_web_md')"
   ]
  },
  {
   "cell_type": "code",
   "execution_count": 342,
   "id": "d40e647a",
   "metadata": {},
   "outputs": [],
   "source": [
    "import gzip, json, random\n",
    "lines = []\n",
    "for line in gzip.open(\"./gutenberg-poetry-v001.ndjson.gz\"):\n",
    "    data = json.loads(line)\n",
    "    lines.append(data['s'])"
   ]
  },
  {
   "cell_type": "code",
   "execution_count": 351,
   "id": "d8850deb",
   "metadata": {},
   "outputs": [],
   "source": [
    "all_text= ' '.join(lines)[0:1000000-1]\n",
    "doc = nlp(all_text)"
   ]
  },
  {
   "cell_type": "code",
   "execution_count": 468,
   "id": "e0095a34",
   "metadata": {},
   "outputs": [
    {
     "name": "stdout",
     "output_type": "stream",
     "text": [
      "Nouns: ['legends', 'stories', 'tribes', 'bahm', 'go', 'qua', 'fur', 'trader', 'gus', 'coday', 'way', 'daughter', 'tribe', 'mother', 'revision', 'basis', 'poem', 'popularity', 'plagiary', 'secret', 'fact', 'meter', 'credit', 'notes', 'note', 'father', 'roots', 'em', 'portions', 'fire', 'fly', 'insect', 'dancing', 'creature', 'candle', 'bed', 'sleep', 'eyelids', 'traditions', 'odors', 'forest', 'dew', 'damp', 'meadows', 'curling', 'smoke', 'wigwams', 'rushing', 'rivers', 'repetitions', 'reverberations', 'thunder', 'mountains', 'forests', 'prairies', 'lakes', 'land', 'dacotahs', 'moors', 'lands', 'heron', 'gah', 'reeds', 'lips', 'musician', 'singer', 'songs', 'nests', 'lodges', 'beaver', 'hoofprint', 'bison', 'eyry', 'eagle', 'fowl', 'moorlands', 'marshes', 'plover', 'loon', 'goose', 'shuh', 'grouse', 'inquiries', 'words', 'follow', 'vale', 'valley', 'water', 'courses', 'village', 'corn', 'fields', 'groves', 'pine', 'trees', 'winter', 'spring', 'time', 'alders', 'line', 'birth', 'being', 'men', 'people', 'haunts', 'sunshine', 'meadow', 'shadow', 'wind', 'branches', 'rain', 'shower', 'snow', 'storm', 'palisades', 'echoes', 'flap', 'eagles', 'nation', 'ballads', 'voices', 'call', 'tones', 'childlike', 'ear', 'hearts', 'faith', 'ages', 'heart', 'bosoms', 'longings', 'yearnings', 'good', 'hands', 'darkness', 'hand', 'story', 'rambles', 'lanes', 'country', 'barberry', 'bushes', 'tufts', 'berries', 'stone', 'walls', 'mosses', 'graveyard', 'while', 'inscription', 'skill', 'song', 'craft', 'phrases', 'letter', 'hope', 'break', 'pathos', 'crags', 'quarry', 'nations', 'footprints', 'river', 'light', 'morning', 'precipice', 'comet', 'finger', 'pathway', 'fragment', 'pipe', 'head', 'figures', 'margin', 'reed', 'stem', 'leaves', 'bark', 'willow', 'neighboring', 'boughs', 'flame', 'calumet', 'signal', 'tranquil', 'air', 'vapor', 'unfolding', 'tree', 'tops', 'top', 'wand', 'warriors', 'council', 'weapons', 'war', 'gear', 'sky', 'faces', 'defiance', 'feuds', 'hatred', 'thirst', 'vengeance', 'creator', 'compassion', 'love', 'pity', 'wrath', 'wrangling', 'quarrels', 'children', 'fights', 'natures', 'fever', 'voice', 'sound', 'waters', 'abysses', 'warning', 'chiding', 'wisdom', 'streams', 'bear', 'roe', 'reindeer', 'brant', 'fishes', 'weary', 'wars', 'bloodshed', 'prayers', 'wranglings', 'dissensions', 'strength', 'union', 'danger', 'discord', 'peace', 'brothers', 'deliverer', 'counsels', 'warnings', 'stream', 'paint', 'blood', 'stains', 'fingers', 'clubs', 'feathers', 'ground', 'cloaks', 'shirts', 'deer', 'skin', 'streaks', 'crimson', 'banks', 'silence', 'homeward', 'opening', 'cloud', 'curtains', 'doorways', 'regions', 'kingdom', 'neck', 'terror', 'summit', 'rock', 'nails', 'monster', 'breath', 'nostrils', 'ears', 'eyes', 'nose', 'muffle', 'breathing', 'club', 'cry', 'middle', 'forehead', 'blow', 'knees', 'woman', 'haunches', 'derision', 'coward', 'battle', 'groan', 'whimper', 'skull', 'ice', 'shout', 'dominion', 'winds', 'others', 'arrows', 'hill', 'cheeks', 'hunter', 'birds', 'flowers', 'fog', 'ghost', 'sunrise', 'maiden', 'flags', 'thing', 'rushes', 'coming', 'earth', 'caresses', 'smile', 'sighing', 'singing', 'softest', 'music', 'bosom', 'robes', 'star', 'heavens', 'dwelling', 'icebergs', 'drifts', 'scarlet', 'red', 'flake', 'sifting', 'ponds', 'sea', 'gull', 'southward', 'cormorant', 'curlew', 'sedge', 'tang', 'realms', 'lodge', 'home', 'hair', 'wintry', 'diver', 'strings', 'fish', 'dares', 'dominions', 'wigwam', 'night', 'flue', 'poles', 'fury', 'curtain', 'door', 'logs', 'firewood', 'moon', 'food', 'merry', 'eating', 'fellow', 'presence', 'coldness', 'icy', 'laughing', 'log', 'sparks', 'tresses', 'drops', 'sweat', 'dints', 'ashes', 'eaves', 'drooping', 'hemlock', 'hollows', 'heat', 'laughter', 'fens', 'fainter', 'grasp', 'feebler', 'gusty', 'fat', 'wood', 'robin', 'bluebird', 'swallow', 'melons', 'tobacco', 'grapes', 'clusters', 'haze', 'softness', 'twinkle', 'hills', 'summer', 'north', 'shoes', 'life', 'sorrow', 'prairie', 'standing', 'slender', 'garments', 'day', 'passion', 'longing', 'maid', 'whiteness', 'flakes', 'brother', 'sighs', 'thistle', 'sight', 'dandelion', 'sons', 'stations', 'corners', 'evening', 'twilight', 'days', 'wife', 'women', 'swing', 'grape', 'vines', 'rival', 'jealousy', 'twain', 'muskoday', 'full', 'blossoms', 'ferns', 'lilies', 'moonlight', 'starlight', 'name', 'daughters', 'beauty', 'beware', 'grasses', 'sweetness', 'son', 'child', 'wonder', 'anguish', 'art', 'work', 'weeping', 'shores', 'cones', 'linden', 'cradle', 'sinews', 'wail', 'thee', 'slumber', 'owlet', 'things', 'stars', 'spirits', 'plumes', 'flaring', 'northward', 'nights', 'road', 'ghosts', 'shadows', 'evenings', 'whispering', 'lapping', 'sounds', 'dusk', 'brakes', 'little', 'flecks', 'warrior', 'grandmother', 'midnight', 'body', 'rainbow', 'heaven', 'owls', 'hooting', 'owl', 'language', 'bird', 'names', 'secrets', 'beasts', 'beavers', 'squirrels', 'acorns', 'rabbit', 'boaster', 'teller', 'traveller', 'talker', 'friend', 'branch', 'ash', 'oak', 'flint', 'cord', 'herd', 'roebuck', 'antlers', 'straightway', 'bow', 'squirrel', 'distance', 'half', 'fear', 'frolic', 'thoughts', 'tracks', 'ford', 'alder', 'thicket', 'point', 'birch', 'leaf', 'palpitated', 'knee', 'uprising', 'arrow', 'twig', 'motion', 'hoofs', 'foot', 'wasp', 'applauses', 'hide', 'cloak', 'flesh', 'banquet', 'honor', 'guests', 'taysee', 'childhood', 'manhood', 'hunters', 'lore', 'sports', 'pastimes', 'arts', 'labors', 'swift', 'fleetness', 'swiftness', 'tenth', 'string', 'mittens', 'rocks', 'powder', 'moccasins', 'ankles', 'feet', 'stride', 'mile', 'falsehood', 'coal', 'portals', 'travel', 'hunting', 'shirt', 'leggings', 'quills', 'wampum', 'waist', 'belt', 'quiver', 'jasper', 'magic', 'cunning', 'fearless', 'vapors', 'woods', 'antelope', 'esconaba', 'dwellings', 'summits', 'ruler', 'awe', 'aspect', 'joy', 'youth', 'face', 'grave', 'age', 'prowess', 'adventures', 'courage', 'boasting', 'threat', 'menace', 'word', 'yonder', 'look', 'benignant', 'countenance', 'paternal', 'pride', 'figure', 'bulrush', 'matters', 'death', 'footsteps', 'nod', 'gesture', 'jutting', 'crag', 'fragments', 'tempest', 'anger', 'assailant', 'fibres', 'ooze', 'conflict', 'wings', 'masses', 'wawbeek', 'tumult', 'confusion', 'shoutings', 'remotest', 'border', 'spaces', 'sun', 'flamingo', 'nest', 'nightfall', 'length', 'immortal', 'trial', 'prize', 'valor', 'toil', 'fishing', 'grounds', 'monsters', 'magicians', 'wendigoes', 'giants', 'serpents', 'shah', 'traces', 'landscape', 'bitterness', 'brain', 'thought', 'pace', 'heads', 'maker', 'gleam', 'sandstone', 'chalcedony', 'edges', 'moods', 'shade', 'fall', 'rustling', 'one', 'screen', 'visions', 'brains', 'dreams', 'sunset', 'meeting', 'fight', 'fasting', 'triumphs', 'profit', 'advantage', 'burrow', 'pheasant', 'drumming', 'hoard', 'pigeon', 'building', 'pinetrees', 'flocks', 'whirring', 'lives', 'brink', 'rice', 'blueberry', 'strawberry', 'gooseberry', 'vine', 'fragrance', 'lake', 'sturgeon', 'leaping', 'beads', 'perch', 'sunbeam', 'pike', 'herring', 'crawfish', 'couch', 'dizzy', 'gleaming', 'splendor', 'bent', 'doorway', 'form', 'accents', 'triumph', 'man', 'struggle', 'labor', 'rise', 'faint', 'famine', 'flush', 'touch', 'vigor', 'nerve', 'fibre', 'glory', 'lamentation', 'scream', 'pain', 'tomorrow', 'mists', 'misty', 'morrow', 'cinder', 'hearth', 'fell', 'strife', 'shape', 'going', 'tall', 'encounter', 'to', 'plumage', 'weed', 'worm', 'raven', 'whippoorwill', 'rivulet', 'passing', 'murmurs', 'whispers', 'hunger', 'field', 'walking', 'haggard', 'leaps', 'net', 'meshes', 'ring', 'horizon', 'suns', 'combat', 'wrestlers', 'greensward', 'exertion', 'breathless', 'place', 'mould', 'weeds', 'insects', 'scoffs', 'king', 'ravens', 'feather', 'maize', 'rapture', 'vision', 'wrestling', 'gift', 'kernels', 'husks', 'wrestler', 'friends', 'grass', 'falsehoods', 'tellers', 'mischief', 'makers', 'will', 'counsel', 'musicians', 'sweetest', 'singers', 'souls', 'brook', 'murmur', 'woodland', 'chatter', 'waves', 'frenzy', 'gladness', 'sobbing', 'sadness', 'nature', 'freedom', 'gentleness', 'mortals', 'mightiest', 'goodness', 'dreamy', 'firebrands', 'nets', 'yenadizze', 'answer', 'wisp', 'straw', 'hunt', 'pass', 'brooklet', 'trail', 'mud', 'passage', 'trunks', 'lengthwise', 'crosswise', 'woodchuck', 'clamber', 'path', 'cedars', 'lances', 'quoit', 'challenge', 'foundation', 'moment', 'sheer', 'rapids', 'companions', 'currents', 'surface', 'whirlpools', 'islands', 'by', 'triumphant', 'shoulders', 'sailing', 'canoe', 'wrapper', 'awaking', 'gheezis', 'breeze', 'sigh', 'patience', 'knife', 'trunk', 'bottom', 'wedge', 'horror', 'resistance', 'cedar', 'frame', 'bows', 'ends', 'tassels', 'balm', 'fir', 'balsam', 'resin', 'seams', 'shore', 'pebbles', 'wailing', 'tears', 'seam', 'fissure', 'crevice', 'necklace', 'girdle', 'drowsy', 'tangle', 'whiskers', 'juice', 'breast', 'mystery', 'lightness', 'toughness', 'larch', 'supple', 'paddles', 'none', 'wishes', 'pleasure', 'sand', 'bars', 'otter', 'arm', 'pits', 'bends', 'windings', 'deeps', 'shallows', 'root', 'bar', 'channel', 'springs', 'swimming', 'depths', 'craw', 'spider', 'tail', 'gills', 'fins', 'floor', 'armor', 'side', 'shield', 'plates', 'bone', 'sides', 'spines', 'paints', 'azure', 'spots', 'brown', 'purple', 'bait', 'clamor', 'shouting', 'jerk', 'endwise', 'scorn', 'bream', 'scales', 'weight', 'whirlpool', 'circles', 'round', 'eddies', 'beaches', 'margins', 'disk', 'refulgent', 'jaws', 'cavern', 'shoots', 'beating', 'fist', 'sick', 'safety', 'turmoil', 'thanks', 'boys', 'landward', 'strand', 'clang', 'screaming', 'prey', 'ribs', 'gulls', 'caverns', 'ye', 'rifts', 'claws', 'openings', 'prison', 'achievements', 'beak', 'peril', 'feed', 'meal', 'craws', 'feasting', 'pots', 'kettles', 'oil', 'set', 'fiery', 'patient', 'places', 'rib', 'bones', 'sands', 'skeleton', 'clouds', 'parties', 'ambush', 'glare', 'features', 'pitch', 'coiling', 'stretching', 'wiles', 'exhalations', 'disease', 'magician', 'murder', 'palm', 'glee', 'darling', 'forward', 'exulting', 'wild', 'fowls', 'sparkling', 'lying', 'crests', 'fogs', 'journey', 'twanging', 'whizzing', 'wisps', 'fires', 'encampments', 'mosquito', 'flies', 'torches', 'bull', 'frog', 'whistles', 'hero', 'realm', 'level', 'upland', 'beach', 'shod', 'end', 'tighter', 'herald', 'bearer', 'message', 'stature', 'shoulder', 'tone', 'deeds', 'actions', 'boastings', 'shafts', 'blows', 'desponding', 'leather', 'fungus', 'woodpecker', 'tuft', 'crown', 'swifter', 'wounding', 'sorer', 'sorest', 'service', 'symbol', 'back', 'trophy', 'conquest', 'wealth', 'skins', 'ermine', 'belts', 'pouches', 'quivers', 'silver', 'weltering', 'trophies', 'dances', 'feast', 'memory', 'token', 'friendship', 'mark', 'remembrance', 'crest', 'wooing', 'feelings', 'stranger', 'neighbor', 'strangers', 'firelight', 'errands', 'sunlight', 'wounds', 'ache', 'reason', 'moor', 'cataract', 'outskirts', 'herds', 'errand', 'mats', 'past', 'future', 'wing', 'thinking', 'tongues', 'mat', 'footstep', 'cheek', 'woodlands', 'burden', 'accent', 'vessels', 'bowls', 'bass', 'guest', 'dream', 'happiness', 'plenty', 'years', 'warfare', 'ojibways', 'seat', 'husband', 'flute', 'piping', 'beckons', 'mountain', 'steps', 'arms', 'plume', 'sleepless', 'lovers', 'peering', 'ease', 'hate', 'splendors', 'mine', 'wedding', 'tales', 'adventure', 'spoons', 'horn', 'wands', 'sign', 'invitation', 'raiment', 'hump', 'cakes', 'pouch', 'pipes', 'south', 'herbs', 'dance', 'play', 'quoits', 'ball', 'games', 'hazard', 'stones', 'gambler', 'jesting', 'insults', 'maidens', 'inwrought', 'hedgehog', 'buck', 'swan', 'heels', 'tails', 'foxes', 'fan', 'vermilion', 'shone', 'braids', 'flutes', 'drums', 'measure', 'step', 'panther', 'whirling', 'dust', 'gestures', 'whirlwind', 'snowdrifts', 'turkey', 'emotion', 'flower', 'fawn', 'lookest', 'sings', 'smilest', 'ripples', 'cloudless', 'skies', 'applause', 'looks', 'deed', 'credence', 'journeys', 'wonders', 'jest', 'address', 'hearers', 'framework', 'tale', 'descending', 'plain', 'melts', 'bead', 'haste', 'beginning', 'lithe', 'wayward', 'sisters', 'husbands', 'suitors', 'coughing', 'spirit', 'tenderness', 'jests', 'oweenee', 'intent', 'showain', 'sister', 'storms', 'mouldering', 'yawning', 'staff', 'sweetheart', 'kindness', 'whisper', 'vastness', 'tender', 'spells', 'charms', 'powers', 'evil', 'virtues', 'clay', 'shells', 'doom', 'ascending', 'dewy', 'dishes', 'roof', 'rods', 'shards', 'beetles', 'jays', 'magpies', 'fans', 'thistledown', 'welcome', 'locks', 'cage', 'beams', 'rays', 'power', 'enchantment', 'flutter', 'boy', 'aunts', 'uncles', 'fluttering', 'transformation', 'planet', 'spell', 'bowman', 'island', 'faithful', 'pygmies', 'headlands', 'low', 'fisher', 'listeners', 'fate', 'jesters', 'applauding', 'lover', 'pledge', 'mysteries', 'hatchet', 'sugar', 'maple', 'harvest', 'cornfields', 'circle', 'destruction', 'blast', 'mildew', 'blight', 'thief', 'doors', 'eye', 'borders', 'garment', 'dragon', 'grasshopper', 'caterpillars', 'crows', 'band', 'marauders', 'plots', 'noiseless', 'hemlocks', 'panting', 'mantle', 'blackbirds', 'spite', 'lesson', 'daybreak', 'grove', 'caw', 'devastation', 'talon', 'snares', 'mercy', 'tens', 'twenties', 'bodies', 'scarecrows', 'leader', 'hostage', 'prisoner', 'cords', 'elm', 'ridge', 'pole', 'robbers', 'plotter', 'contriver', 'outrage', 'behavior', 'displeasure', 'pinions', 'ardor', 'sheaths', 'verdure', 'husking', 'talking', 'robins', 'seats', 'misshapen', 'gait', 'medas', 'generations', 'speechless', 'posts', 'fathers', 'signs', 'graves', 'pervert', 'welfare', 'colors', 'shapes', 'meaning', 'egg', 'points', 'serpent', 'beast', 'reptile', 'space', 'daytime', 'left', 'right', 'noontide', 'weather', 'lines', 'palms', 'household', 'owner', 'chief', 'medicine', 'crane', 'hen', 'hawk', 'captains', 'medicines', 'interpretation', 'painting', 'drum', 'shelter', 'blushes', 'centre', 'sleeping', 'slumbers', 'image', 'league', 'harm', 'speed', 'commotion', 'unktahee', 'god', 'wolves', 'black', 'robe', 'weeks', 'moan', 'complaining', 'lamenting', 'vain', 'procession', 'healing', 'lynx', 'simples', 'mourning', 'drink', 'spearmint', 'yarrow', 'rattles', 'chorus', 'wayha', 'prophet', 'trembles', 'noise', 'madness', 'affliction', 'invocation', 'obedient', 'summons', 'brand', 'camp', 'homes', 'wreath', 'trod', 'year', 'feasted', 'burdens', 'living', 'use', 'antidotes', 'poisons', 'cure', 'diseases', 'disturbance', 'flight', 'transmigrations', 'dunes', 'search', 'hole', 'turn', 'achievement', 'fists', 'foreheads', 'cricket', 'wolf', 'manner', 'game', 'pieces', 'ininewug', 'ozawabeeks', 'ducklings', 'brass', 'bowl', 'piece', 'ozawabeek', 'chances', 'changes', 'meanings', 'eagerness', 'countries', 'lessons', 'dresses', 'treasures', 'wanderings', 'need', 'companion', 'attendant', 'winnings', 'throw', 'summers', 'nephew', 'eyebrows', 'bony', 'players', 'stripling', 'gambling', 'freshness', 'streamlets', 'gray', 'feeding', 'rattle', 'insult', 'master', 'taunt', 'disorder', 'whistling', 'acorn', 'mirth', 'return', 'chickens', 'headland', 'hundreds', 'tidings', 'misdemeanors', 'malice', 'teeth', 'resentment', 'humming', 'hornet', 'slay', 'world', 'pursuit', 'whortleberry', 'impress', 'lowlands', 'brake', 'streamlet', 'dam', 'pond', 'deep', 'question', 'reserve', 'sinks', 'patches', 'waving', 'entreating', 'contrivance', 'fox', 'fringes', 'times', 'hoards', 'piles', 'heaps', 'chambers', 'state', 'watchman', 'station', 'tramping', 'crashing', 'bladder', 'disguises', 'limber', 'thongs', 'vanishing', 'squares', 'white', 'beaks', 'smooth', 'bill', 'whir', 'beat', 'flying', 'heed', 'mischance', 'mishap', 'mist', 'miles', 'flock', 'ether', 'broader', 'outcry', 'balance', 'soul', 'rubbish', 'shreds', 'splinters', 'gust', 'lightning', 'ruins', 'tricks', 'gambols', 'making', 'whirlwinds', 'fame', 'fairies', 'mushrooms', 'naw', 'baigs', 'weakness', 'weapon', 'seed', 'cone', 'overhang', 'wait', 'afternoon', 'gliding', 'buzzing', 'current', 'hosts', 'attendants', 'tumbling', 'legions', 'drowsiness', 'paddle', 'third', 'encampment', 'defenceless', 'plunges', 'vulture', 'desert', 'out', 'plunge', 'speck', 'disasters', 'motions', 'descends', 'victim', 'plains', 'sundown', 'wreaths', 'salutation', 'recognition', 'corner', 'koho', 'corpses', 'handsomer', 'promise', 'fireside', 'morsels', 'change', 'daylight', 'burning', 'rebuke', 'impatience', 'rights', 'virtue', 'giving', 'brands', 'glimmering', 'hides', 'couches', 'unkindness', 'duties', 'cries', 'grief', 'lamentations', 'furs', 'dead', 'approaches', 'proof', 'fail', 'rustle', 'covering', 'track', 'wasting', 'blasting', 'foremost', 'firmness', 'brow', 'hour', 'desolation', 'echo', 'crying', 'thickets', 'roaring', 'waste', 'moaning', 'fro', 'swoon', 'task', 'drift', 'dull', 'coals', 'bunch', 'embers', 'hoary', 'holes', 'ringlets', 'showers', 'plants', 'wave', 'foliage', 'robed', 'tongue', 'scent', 'miskodeed', 'blossom', 'waw', 'be', 'pairs', 'covert', 'mouth', 'chins', 'jeering', 'vessel', 'swarms', 'bee', 'honey', 'marches', 'axes', 'towns', 'valleys', 'canoes', 'remnants', 'rack', 'departure', 'bees', 'trace', 'exultation', 'pelican', 'pale', 'guides', 'cross', 'town', 'flavor', 'speech', 'prayer', 'pardon', 'basswood', 'dippers', 'smoking', 'purport', 'mission', 'disciples', 'chiefs', 'shrill', 'coolness', 'sunbeams', 'spears', 'shields', 'farewell', 'watch', 'ward', 'molests', 'suspicion', 'moons', 'winters', 'truth', 'redness', 'shame', 'teacher', 'pawns', 'pickerel', 'wusk', 'copper', 'meat', 'shawgashee', 'ducks', 'grebe', 'family', 'coat', 'juggler', 'idler', 'tast', 'woe', 'loss', 'eden', 'aid', 'dost', 'present', 'raise', 'support', 'highth', 'argument', 'wayes', 'view', 'tract', 'restraint', 'revolt', 'guile', 'host', 'peers', 'aim', 'attempt', 'headlong', 'ruine', 'combustion', 'perdition', 'durst', 'crew', 'dismay', 'situation', 'flames', 'sights', 'shades', 'rest', 'torture', 'deluge', 'portion', 'thrice', 'crime', 'transcendent', 'brightnes', 'enterprize', 'misery', 'ruin', 'provd', 'force', 'rage', 'lustre', 'mind', 'disdain', 'sence', 'merit', 'contention', 'reign', 'throne', 'study', 'revenge', 'grace', 'terrour', 'empire', 'ignominy', 'downfall', 'substance', 'experience', 'event', 'foresight', 'excess', 'reigning', 'despare', 'imbattelld', 'conduct', 'supremacy', 'overthrow', 'defeat', 'essences', 'vigour', 'returns', 'ours', 'intire', 'pains', 'ire', 'thralls', 'business', 'undiminisht', 'punishment', 'fiend', 'suffering', 'delight', 'contrary', 'labour', 'means', 'destind', 'hath', 'occasion', 'yon', 'voyd', 'tossing', 'repair', 'calamity', 'reinforcement', 'resolution', 'lift', 'rood', 'bulk', 'fables', 'size', 'typhon', 'works', 'swim', 'foam', 'rind', 'morn', 'delayes', 'permission', 'designs', 'crimes', 'damnation', 'spires', 'billows', 'midst', 'incumbent', 'hue', 'thundring', 'entrals', 'stench', 'smoak', 'resting', 'sole', 'mate', 'stygian', 'flood', 'sufferance', 'gloom', 'equals', 'dwells', 'horrours', 'possessor', 'self', 'hee', 'envy', 'choyce', 'ambition', 'associates', 'copartners', 'pool', 'part', 'satan', 'armies', 'foyld', 'fears', 'dangers', 'extreams', 'edge', 'battel', 'assaults', 'groveling', 'prostrate', 'temper', 'massy', 'circumference', 'tuscan', 'views', 'ammiral', 'imbowr', 'orion', 'carkases', 'bestrown', 'amazement', 'yours', 'astonishment', 'toyl', 'vertue', 'posture', 'pursuers', 'tread', 'abasht', 'duty', 'plight', 'ore', 'pharoah', 'hung', 'numberless', 'angels', 'spear', 'course', 'ballance', 'brimstone', 'multitude', 'rhene', 'forthwith', 'leaders', 'commander', 'forms', 'excelling', 'human', 'earst', 'rebellion', 'gods', 'tryal', 'falsities', 'brute', 'devils', 'deities', 'idols', 'emperors', 'worth', 'croud', 'pit', 'altars', 'feasts', 'sacrifice', 'parents', 'childrens', 'watry', 'arnon', 'content', 'neighbourhood', 'fraud', 'vally', 'thence', 'type', 'dread', 'abarim', 'seons', 'flowry', 'march', 'rites', 'orgies', 'scandal', 'lust', 'euphrates', 'parts', 'male', 'assume', 'joynt', 'limb', 'aerie', 'purposes', 'enmity', 'fulfill', 'foes', 'troop', 'phoenicians', 'vows', 'unsung', 'idolatresses', 'thammuz', 'wound', 'damsels', 'dittyes', 'sions', 'wanton', 'passions', 'worshipers', 'frontier', 'bounds', 'fertil', 'house', 'mode', 'whereon', 'offrings', 'train', 'sorceries', 'infection', 'gold', 'sin', 'belial', 'noyse', 'riot', 'ascends', 'injury', 'insolence', 'wine', 'rape', 'prime', 'order', 'might', 'brood', 'birthright', 'saturn', 'olympus', 'cast', 'som', 'glimps', 'despair', 'recollecting', 'semblance', 'strait', 'honour', 'cherube', 'streaming', 'mettal', 'array', 'depth', 'phalanx', 'mood', 'recorders', 'stead', 'firm', 'retreat', 'touches', 'doubt', 'minds', 'front', 'guise', 'warriers', 'command', 'visages', 'number', 'distends', 'hardning', 'glories', 'infantry', 'cranes', 'ilium', 'romance', 'peerage', 'fontarabbia', 'compare', 'brightness', 'ruind', 'eclips', 'scars', 'intrencht', 'remorse', 'fellows', 'followers', 'bliss', 'lot', 'fault', 'growth', 'stands', 'ranks', 'attention', 'myriads', 'knowledge', 'repulse', 'exile', 'witness', 'hopes', 'repute', 'consent', 'custome', 'design', 'foe', 'generation', 'choice', 'regard', 'prie', 'eruption', 'cover', 'millions', 'swords', 'thighs', 'blaze', 'hell', 'din', 'vault', 'glossie', 'womb', 'bands', 'riches', 'pavement', 'beatific', 'suggestion', 'bowels', 'bane', 'wondring', 'tell', 'kings', 'reprobate', 'toyle', 'cells', 'veins', 'massie', 'kinde', 'dross', 'conveyance', 'nook', 'organ', 'row', 'board', 'breaths', 'exhalation', 'pillars', 'cornice', 'sculptures', 'magnificence', 'belus', 'pile', 'dores', 'foulds', 'pendant', 'praise', 'structure', 'high', 'residence', 'lemnos', 'rout', 'engins', 'solemn', 'pandaemonium', 'regiment', 'thousands', 'trooping', 'access', 'porches', 'bold', 'chair', 'chivalry', 'hiss', 'rides', 'dews', 'suburb', 'affairs', 'crowd', 'bigness', 'dwarfs', 'room', 'revels', 'neerer', 'dimensions', 'recess', 'conclave', 'consult', 'showrs', 'eminence', 'aspires', 'insatiate', 'success', 'imaginations', 'gulf', 'descent', 'vertues', 'farr', 'dignity', 'bulwark', 'share', 'faction', 'accord', 'inheritance', 'prosperity', 'trust', 'care', 'sentence', 'fugitives', 'delay', 'resistless', 'tortures', 'torments', 'drench', 'benumme', 'compulsion', 'ascent', 'vassals', 'houre', 'inrodes', 'act', 'person', 'exploit', 'vice', 'eare', 'conjecture', 'dissolution', 'scope', 'surprize', 'stain', 'baser', 'eternity', 'sense', 'impotence', 'enemies', 'wish', 'refuge', 'stores', 'cataracts', 'horrors', 'fierie', 'sport', 'groans', 'unrepreevd', 'race', 'chains', 'advice', 'victors', 'ordains', 'contending', 'bonds', 'essence', 'vapour', 'void', 'chance', 'appeers', 'selves', 'reasons', 'sloath', 'overpower', 'subjection', 'sing', 'offerings', 'worship', 'vassalage', 'live', 'liberty', 'yoke', 'greatness', 'endurance', 'doth', 'covers', 'thunders', 'soile', 'whence', 'elements', 'evils', 'finisht', 'cadence', 'lull', 'orewatcht', 'anchors', 'desire', 'pollicy', 'process', 'emulation', 'beelzebub', 'publick', 'sage', 'monarchies', 'audience', 'tide', 'thrones', 'vote', 'dungeon', 'jurisdiction', 'bondage', 'curb', 'foild', 'tearms', 'custody', 'stripes', 'hostility', 'reluctance', 'expedition', 'assault', 'siege', 'excellence', 'whol', 'creatures', 'inhabit', 'suttlety', 'defence', 'onset', 'creation', 'habitants', 'upraise', 'originals', 'attempting', 'empires', 'author', 'mankind', 'assent', 'debate', 'spight', 'confines', 'excursion', 'brightning', 'beam', 'purge', 'balme', 'evasion', 'circumspection', 'suffrage', 'expectation', 'suspence', 'voyage', 'demurr', 'convex', 'gates', 'egress', 'gaping', 'region', 'escape', 'difficulty', 'charm', 'coasts', 'deliverance', 'reply', 'opinion', 'rivals', 'forbidding', 'remote', 'reverence', 'zeal', 'consultations', 'extend', 'rings', 'concord', 'enmitie', 'levie', 'warres', 'waite', 'th', 'antagonist', 'pomp', 'imblazonrie', 'result', 'mouths', 'acclaim', 'wandring', 'inclination', 'perplext', 'hours', 'sublime', 'wheels', 'brigads', 'feats', 'welkin', 'typhoean', 'uproar', 'lichas', 'milde', 'harmony', 'ravishment', 'discourse', 'mazes', 'sorcerie', 'brest', 'steel', 'habitation', 'ways', 'acheron', 'phlegeton', 'torrent', 'inflame', 'forgets', 'heap', 'frore', 'effect', 'harpy', 'furies', 'revolutions', 'turns', 'beds', 'warmth', 'lethean', 'augment', 'drop', 'forgetfulness', 'neer', 'withstands', 'guards', 'taste', 'wight', 'lip', 'dens', 'curse', 'breeds', 'inutterable', 'puts', 'coast', 'concave', 'bengala', 'iles', 'trading', 'folds', 'fould', 'sting', 'cerberean', 'peal', 'woomb', 'kennel', 'bathing', 'hoarce', 'smell', 'infant', 'witches', 'eclipses', 'member', 'dart', 'likeness', 'strides', 'thou', 'advance', 'athwart', 'leave', 'askt', 'retire', 'folly', 'daies', 'doomd', 'fugitive', 'whip', 'scorpions', 'lingring', 'stroke', 'pangs', 'grieslie', 'threatning', 'deform', 'indignation', 'aime', 'fatall', 'frown', 'rung', 'drudge', 'bids', 'spares', 'conspiracy', 'graces', 'remaind', 'key', 'charge', 'throes', 'offspring', 'entrails', 'caves', 'embraces', 'sawst', 'infinite', 'repast', 'terrours', 'intermission', 'opposition', 'want', 'involvd', 'dint', 'learnd', 'sire', 'dalliance', 'joys', 'unthought', 'enemie', 'immense', 'quest', 'foretold', 'pourlieues', 'broiles', 'odours', 'seemd', 'mawe', 'commands', 'inhabitant', 'terrors', 'clamors', 'wilt', 'beseems', 'instrument', 'drew', 'wards', 'flie', 'recoile', 'hinges', 'stood', 'ensigns', 'marching', 'rankt', 'dimension', 'breadth', 'warrs', 'stand', 'fierce', 'strive', 'embryon', 'atoms', 'flag', 'swarm', 'barca', 'soil', 'decision', 'fray', 'causes', 'materials', 'abyss', 'noises', 'battering', 'engines', 'rase', 'mutinie', 'sail', 'vacuitie', 'pennons', 'plumb', 'rebuff', 'fares', 'consistence', 'stelth', 'purloind', 'bog', 'wades', 'creeps', 'flyes', 'hubbub', 'vehemence', 'nethermost', 'lyes', 'spread', 'consort', 'imbroild', 'chaos', 'purpose', 'constraint', 'desart', 'lies', 'guide', 'gloomie', 'recompence', 'behoof', 'usurpation', 'sway', 'visage', 'intestine', 'scepter', 'chain', 'walk', 'goe', 'havock', 'gain', 'alacritie', 'expanse', 'shock', 'steard', 'alteration', 'intercourse', 'guard', 'influence', 'dawn', 'verge', 'outmost', 'leasure', 'circuit', 'square', 'effluence', 'increate', 'fountain', 'didst', 'sojourn', 'utter', 'piercing', 'ray', 'quencht', 'suffusion', 'veild', 'cease', 'muses', 'flow', 'somtimes', 'renown', 'numbers', 'approach', 'bloom', 'dark', 'waies', 'book', 'blanc', 'wisdome', 'entrance', 'plant', 'beatitude', 'utterance', 'fruits', 'solitude', 'wall', 'outside', 'prospect', 'adversarie', 'barrs', 'interrupt', 'obedience', 'allegiance', 'necessitie', 'belongd', 'predestination', 'decree', 'foreknowledge', 'unforeknown', 'impulse', 'authors', 'sort', 'glorie', 'shon', 'praises', 'judgest', 'thine', 'questiond', 'voutsaft', 'desires', 'condition', 'betimes', 'senses', 'stonie', 'repentance', 'arrive', 'fealtie', 'sinns', 'posteritie', 'satisfaction', 'dwels', 'charitie', 'mans', 'behalf', 'forfeiture', 'ransom', 'redemption', 'fulness', 'dearest', 'mediation', 'renewd', 'speediest', 'messengers', 'comes', 'aide', 'sins', 'meet', 'sake', 'vanquisht', 'debt', 'soule', 'corruption', 'spoile', 'deaths', 'mortall', 'redeemd', 'reconcilement', 'entire', 'admiration', 'complacence', 'redeeme', 'joyne', 'destroyes', 'owne', 'fruition', 'humiliation', 'shalt', 'windes', 'saints', 'tribulations', 'triumphing', 'adoration', 'inwove', 'offence', 'flours', 'garlands', 'symphonie', 'raptures', 'skirts', 'impresst', 'effulgence', 'abides', 'necks', 'acclaime', 'pitie', 'encline', 'wrauth', 'matter', 'disjoine', 'inroad', 'walks', 'skie', 'reflection', 'snowie', 'kids', 'lights', 'plaines', 'canie', 'waggons', 'liveless', 'store', 'vapours', 'transitorie', 'vanity', 'filld', 'reward', 'superstition', 'retribution', 'fleet', 'argent', 'hither', 'builders', 'designe', 'wherewithall', 'dying', 'planets', 'habits', 'wearers', 'upwhirld', 'backside', 'limbo', 'untrod', 'gleame', 'turnd', 'thither', 'descries', 'degrees', 'esau', 'stair', 'alwaies', 'exclusion', 'wider', 'behests', 'paneas', 'fount', 'dawne', 'climbing', 'guilds', 'maligne', 'faire', 'surveys', 'bredth', 'precipitant', 'marble', 'starrs', 'nigh', 'center', 'constellations', 'compute', 'months', 'penetration', 'spot', 'lucent', 'expression', 'aught', 'cleer', 'twelve', 'aarons', 'plate', 'philosophers', 'proteus', 'forme', 'produces', 'humor', 'colour', 'obstacle', 'opaque', 'tiar', 'fledge', 'cogitation', 'impure', 'journies', 'haire', 'curles', 'plaid', 'habit', 'favour', 'gaze', 'dissembler', 'unperceivd', 'wisdoms', 'impostor', 'foule', 'blame', 'merits', 'report', 'alwayes', 'worlds', 'infinitude', 'bidding', 'quintessence', 'universe', 'interposes', 'borrowd', 'triform', 'empties', 'loftie', 'canst', 'niphates', 'warnd', 'snare', 'ere', 'kind', 'cause', 'boiles', 'recoiles', 'stirr', 'conscience', 'slumberd', 'memorie', 'sufferings', 'grievd', 'crownd', 'matchless', 'gratitude', 'owes', 'dischargd', 'destiny', 'ordaind', 'temptations', 'hadst', 'accurst', 'rues', 'despaire', 'relent', 'submission', 'promises', 'vaunts', 'findes', 'relapse', 'deare', 'punisher', 'reigne', 'envie', 'counterfet', 'mindes', 'distempers', 'perturbation', 'calme', 'practisd', 'falshood', 'conceale', 'markd', 'demeanour', 'crowns', 'enclosure', 'green', 'mound', 'wilderness', 'woodie', 'theatre', 'neighbouring', 'circling', 'loaden', 'enameld', 'colours', 'fanning', 'perfumes', 'balmie', 'spoiles', 'cape', 'smiles', 'sweets', 'fishie', 'fume', 'spouse', 'tobits', 'undergrowth', 'shrubs', 'arch', 'fellon', 'disdaind', 'contempt', 'haunt', 'eeve', 'fence', 'cash', 'window', 'climbes', 'tiles', 'hirelings', 'climbe', 'immortalitie', 'perverts', 'abuse', 'eminent', 'dear', 'rill', 'glade', 'neather', 'runs', 'divers', 'account', 'error', 'knots', 'boon', 'bowrs', 'fruit', 'burnisht', 'amiable', 'lawns', 'downs', 'herb', 'palmie', 'hilloc', 'lap', 'slope', 'floure', 'gatherd', 'orontes', 'cham', 'issue', 'dayes', 'saw', 'worthie', 'autoritie', 'sex', 'contemplation', 'shee', 'rule', 'forelock', 'vail', 'tendrils', 'receivd', 'conceald', 'guiltie', 'shews', 'banisht', 'innocence', 'passd', 'pair', 'imbraces', 'zephyr', 'easie', 'appetite', 'boughes', 'recline', 'downie', 'damaskt', 'pulp', 'rinde', 'couple', 'playd', 'chase', 'rampd', 'paw', 'twine', 'pasture', 'carreer', 'faild', 'resemblance', 'delights', 'amitie', 'haply', 'limits', 'ofspring', 'tyrants', 'plea', 'kindes', 'action', 'markt', 'tiger', 'fawnes', 'couchant', 'partner', 'joyes', 'signes', 'prohibition', 'bountie', 'wee', 'odds', 'bank', 'appeerd', 'sympathie', 'multitudes', 'amiablie', 'solace', 'excelld', 'attraction', 'surrender', 'leand', 'kisses', 'leer', 'askance', 'tormenting', 'fill', 'pines', 'reasonless', 'ignorance', 'pleasures', 'woes', 'roam', 'flaming', 'shooting', 'autumn', 'cours', 'troubles', 'perfet', 'vigilance', 'oreleapt', 'earthie', 'telst', 'nightingale', 'descant', 'lids', 'animals', 'range', 'doings', 'streak', 'allies', 'noon', 'manuring', 'lie', 'riddance', 'wills', 'adornd', 'womans', 'seasons', 'flour', 'eevning', 'possession', 'heate', 'foment', 'kinds', 'apter', 'spectators', 'ceasless', 'joind', 'roofe', 'bushie', 'shrub', 'hues', 'flourisht', 'inlay', 'emblem', 'shadier', 'faunus', 'gifts', 'unwiser', 'imployd', 'happie', 'help', 'abundance', 'uncropt', 'bower', 'putting', 'troublesom', 'wear', 'connubial', 'puritie', 'increase', 'source', 'proprietie', 'imploies', 'fair', 'lulld', 'nightingales', 'imbraceing', 'limbs', 'shaddowie', 'accustomd', 'wheel', 'wheeling', 'secure', 'decline', 'files', 'illusions', 'list', 'venom', 'animal', 'distemperd', 'aimes', 'conceits', 'spark', 'rumord', 'smuttie', 'graine', 'unmovd', 'throng', 'wast', 'beautie', 'sender', 'wonn', 'reind', 'hautie', 'iron', 'closing', 'gabriel', 'port', 'gate', 'contest', 'lours', 'approachd', 'coucht', 'transgressions', 'example', 'esteem', 'object', 'surer', 'stay', 'durance', 'violence', 'warlike', 'boldness', 'seavenfold', 'hardie', 'knowst', 'random', 'inexperience', 'assaies', 'successes', 'abode', 'distances', 'faithfulness', 'discipline', 'supream', 'hypocrite', 'patron', 'avant', 'fledst', 'hallowd', 'chaind', 'threats', 'talk', 'load', 'progress', 'rode', 'hornes', 'plowman', 'floore', 'sheaves', 'chaff', 'graspe', 'torne', 'scorpion', 'weighd', 'counterpoise', 'events', 'weights', 'sequel', 'follie', 'permits', 'mire', 'lookt', 'scale', 'customd', 'digestion', 'rills', 'bough', 'breathes', 'trouble', 'yields', 'dewie', 'growes', 'mayst', 'confind', 'outstretcht', 'exaltation', 'affects', 'faculties', 'office', 'joyning', 'disjoyning', 'frames', 'cell', 'absence', 'misjoyning', 'matching', 'resemblances', 'addition', 'imployments', 'choicest', 'tear', 'sluce', 'cleard', 'brim', 'paralel', 'style', 'strains', 'eloquence', 'flowd', 'prose', 'verse', 'symphonies', 'joyn', 'fairest', 'fallst', 'quaternion', 'multiform', 'uncolourd', 'thirstie', 'fountains', 'tune', 'glide', 'creep', 'vocal', 'recoverd', 'calm', 'mornings', 'dewes', 'reachd', 'pittie', 'marriage', 'seaventimes', 'raisd', 'repose', 'deceit', 'unadmonisht', 'fulfilld', 'justice', 'springing', 'parting', 'opend', 'turning', 'kenns', 'soare', 'reliques', 'cliff', 'lineaments', 'loines', 'heele', 'featherd', 'maile', 'grain', 'thir', 'tents', 'wantond', 'com', 'discernd', 'dore', 'coole', 'earths', 'dinner', 'draughts', 'mid', 'behest', 'poure', 'givers', 'bestowd', 'stalk', 'gains', 'consumes', 'bounties', 'tastes', 'joynd', 'yeilds', 'shoare', 'coate', 'rough', 'husk', 'shell', 'moust', 'meathes', 'dulcet', 'creams', 'perfections', 'horses', 'grooms', 'agape', 'awd', 'meek', 'possess', 'answerd', 'flourets', 'smells', 'strove', 'table', 'substances', 'facultie', 'know', 'nourishment', 'continent', 'orbes', 'imparts', 'sups', 'frutage', 'bounty', 'viands', 'gloss', 'dispatch', 'redounds', 'sooty', 'metals', 'drossiest', 'cups', 'liquors', 'meats', 'drinks', 'perfection', 'sphears', 'assignd', 'consummate', 'fansie', 'understanding', 'discursive', 'degree', 'fare', 'nutriments', 'progenie', 'caution', 'necessity', 'voluntarie', 'acceptance', 'hold', 'surety', 'instructer', 'move', 'relation', 'request', 'pause', 'assenting', 'exploits', 'reach', 'shaddow', 'rowl', 'orders', 'distinction', 'tissues', 'acts', 'ingulft', 'solem', 'wheeles', 'listens', 'tables', 'refection', 'mount', 'changd', 'veile', 'roseat', 'pavilions', 'reard', 'praeeminence', 'conceiving', 'yesterday', 'dissent', 'laws', 'doubtful', 'shadowie', 'entertainment', 'messiah', 'hierarchies', 'associate', 'commanding', 'casts', 'jealousies', 'integritie', 'starrie', 'discernes', 'resplendence', 'omnipotence', 'imploy', 'unawares', 'designes', 'tumults', 'flouer', 'mightie', 'regencies', 'pyramids', 'equality', 'imitation', 'reception', 'eclipst', 'honours', 'tribute', 'prostration', 'possest', 'law', 'zeale', 'peeres', 'obloquie', 'condemne', 'saist', 'libertie', 'dignitie', 'count', 'fervent', 'season', 'rash', 'transferd', 'doctrin', 'begot', 'puissance', 'equal', 'supplication', 'carrie', 'contagion', 'recall', 'disobedience', 'advise', 'learne', 'dreadless', 'vicissitude', 'issues', 'vanisht', 'coverd', 'steeds', 'news', 'acclamations', 'servant', 'maintaind', 'testimonie', 'reproach', 'perverse', 'wreathes', 'upbore', 'summond', 'tenfold', 'terrene', 'skirt', 'envier', 'hosting', 'festivals', 'sate', 'interval', 'haughtie', 'explores', 'realtie', 'disputes', 'prevention', 'fool', 'limit', 'prefer', 'returnst', 'assay', 'soules', 'bin', 'traind', 'brief', 'find', 'servitude', 'rebelld', 'saidst', 'greeting', 'intercept', 'paces', 'recoild', 'presage', 'trumpet', 'furie', 'volies', 'vaulted', 'maine', 'warring', 'expert', 'ridges', 'attack', 'toile', 'adherents', 'doome', 'paine', 'erre', 'addrest', 'imagination', 'fit', 'repeate', 'sword', 'confidence', 'die', 'texture', 'ensignes', 'vaunting', 'scorcht', 'overthrew', 'oblivion', 'dispraise', 'inrode', 'scarse', 'sinne', 'advantages', 'sinnd', 'truce', 'dinn', 'disappeerd', 'potentates', 'overpowerd', 'pretense', 'renowne', 'powerfullest', 'disadvantage', 'injurie', 'remedie', 'consultation', 'assembly', 'principalities', 'enjoyment', 'armes', 'repine', 'aright', 'spume', 'rammd', 'bore', 'implements', 'orewhelm', 'bolt', 'invention', 'inventer', 'machination', 'slaughter', 'crude', 'diggd', 'balls', 'incentive', 'provide', 'scoure', 'quarter', 'alt', 'gird', 'helme', 'gripe', 'eevn', 'showr', 'impediment', 'cube', 'training', 'interview', 'composure', 'readie', 'overture', 'lopt', 'mouthes', 'orifice', 'vent', 'belcht', 'roar', 'glut', 'contraction', 'dissipation', 'rusht', 'indecent', 'displode', 'tire', 'terms', 'composition', 'vagaries', 'proposals', 'contents', 'veine', 'scoffing', 'inventions', 'variety', 'foundations', 'shaggie', 'lifting', 'jaculation', 'heapt', 'sum', 'tame', 'solution', 'reines', 'sufferd', 'governd', 'heir', 'chariot', 'thigh', 'answering', 'gladlier', 'mildness', 'amber', 'urim', 'rowld', 'ensign', 'perverseness', 'obdurate', 'prevaile', 'pourd', 'appertains', 'floods', 'foure', 'draind', 'spiritless', 'overthrown', 'gap', 'themselvs', 'breach', 'expulsion', 'triumphal', 'witnesses', 'befel', 'aspiring', 'bereavd', 'transgress', 'converse', 'thy', 'tempring', 'safetie', 'least', 'clime', 'forlorne', 'spheare', 'dissonance', 'revellers', 'dround', 'dreame', 'angel', 'apostates', 'tasts', 'storie', 'sinless', 'drouth', 'streame', 'liquid', 'excites', 'eares', 'admonishment', 'sovran', 'instruction', 'knowing', 'maist', 'suspens', 'listning', 'shine', 'suffice', 'hearing', 'abstain', 'communicable', 'temperance', 'retaines', 'ministeries', 'harme', 'damage', 'detriment', 'notion', 'rejoycing', 'habitations', 'moving', 'profunditie', 'dregs', 'ther', 'sprung', 'partition', 'misrule', 'extreames', 'humour', 'moisture', 'backs', 'precipitance', 'drie', 'flouds', 'ebbing', 'washie', 'traine', 'receptacle', 'vallies', 'stemm', 'alterne', 'unlightsom', 'magnitude', 'horns', 'tincture', 'peculiar', 'diminution', 'east', 'longitude', 'leveld', 'mirror', 'keepes', 'luminaries', 'swarme', 'shoales', 'sculles', 'stray', 'glance', 'coats', 'dropt', 'nutriment', 'dolphins', 'wallowing', 'ocean', 'swimmes', 'spouts', 'hatch', 'rupture', 'eyries', 'warbling', 'layes', 'clarion', 'replenisht', 'formes', 'upsprung', 'hinder', 'main', 'branching', 'bleating', 'exact', 'dect', 'corpulence', 'provident', 'pattern', 'waxen', 'extent', 'movers', 'wheeld', 'attire', 'lovly', 'swum', 'devotion', 'similitude', 'multiplie', 'sorts', 'yeelds', 'penaltie', 'surprise', 'desisting', 'acclamation', 'harpes', 'harmonies', 'heardst', 'jubilant', 'deigne', 'priviledge', 'harp', 'organs', 'stop', 'fret', 'tunings', 'incense', 'apostat', 'vaine', 'worshippers', 'amplitude', 'condescention', 'remaines', 'magnitudes', 'numberd', 'incomprehensible', 'survey', 'disproportions', 'revolution', 'compass', 'receaves', 'failes', 'lowliness', 'bud', 'tendance', 'digressions', 'dispute', 'conjugal', 'goddess', 'shot', 'darts', 'quaint', 'opinions', 'appeerances', 'reasoning', 'benefit', 'comparison', 'glistering', 'may', 'containe', 'barren', 'workes', 'habitant', 'stretcht', 'uses', 'gaine', 'rounds', 'retrograde', 'contrarie', 'thwart', 'obliquities', 'rhomb', 'fetch', 'aire', 'inhabitants', 'descrie', 'sexes', 'unpossest', 'predominant', 'serene', 'intricacies', 'bid', 'dwell', 'cares', 'notions', 'roaving', 'emptiness', 'impertinence', 'satietie', 'ineloquent', 'comliness', 'spie', 'incenst', 'lament', 'soundest', 'beames', 'thitherward', 'endevoring', 'movd', 'joints', 'praeeminent', 'profuse', 'oppression', 'apparition', 'shadowd', 'till', 'dearth', 'operation', 'consequence', 'interdiction', 'knowledg', 'apprehension', 'mankinde', 'naming', 'contentment', 'pastime', 'beare', 'deprecation', 'substitute', 'inferiour', 'unequals', 'societie', 'harmonie', 'proportion', 'disparitie', 'fellowship', 'lioness', 'ape', 'descents', 'deficience', 'conversation', 'like', 'defects', 'propagat', 'imperfection', 'unitie', 'defective', 'secresie', 'communication', 'companie', 'earthly', 'transe', 'methought', 'grew', 'summd', 'containd', 'amends', 'benigne', 'gratulation', 'aires', 'delicacies', 'melodie', 'enjoyments', 'beauties', 'subducting', 'character', 'loveliness', 'compleat', 'shewes', 'nobleness', 'cherishing', 'honouring', 'value', 'profits', 'realities', 'shows', 'enlarges', 'procreation', 'decencies', 'compliance', 'wedded', 'subject', 'objects', 'wert', 'membrane', 'desiring', 'sets', 'weal', 'rejoyce', 'temptation', 'repel', 'benediction', 'condescension', 'distrust', 'distaste', 'judgement', 'heroic', 'achilles', 'turnus', 'lavinia', 'greek', 'visitation', 'slumbring', 'choosing', 'maistrie', 'havoc', 'fortitude', 'furniture', 'bases', 'seneshals', 'skilld', 'climat', 'tigris', 'searcht', 'west', 'orantes', 'flowes', 'ganges', 'inspection', 'opportune', 'irresolute', 'suggestions', 'wilie', 'wit', 'plaints', 'interchange', 'contraries', 'destroyd', 'wo', 'adorers', 'endow', 'original', 'spoils', 'indignitie', 'earthlie', 'mazie', 'slime', 'imbrute', 'hight', 'soard', 'creeping', 'enterd', 'prune', 'prop', 'labours', 'refreshment', 'paths', 'bowers', 'retirement', 'returne', 'somwhere', 'dishonour', 'staies', 'austeer', 'shut', 'misthought', 'asperses', 'scorne', 'wrong', 'affront', 'contemn', 'esteeme', 'dishonor', 'surmise', 'unassaid', 'sustaind', 'well', 'mistrust', 'enjoynes', 'subsist', 'subornd', 'deception', 'constancie', 'unsought', 'us', 'securer', 'absents', 'relie', 'willinger', 'seek', 'deport', 'proserpina', 'afternoons', 'failing', 'rancor', 'appearance', 'purposd', 'plot', 'lay', 'plantation', 'hap', 'spies', 'roses', 'glowd', 'spect', 'unsustaind', 'neererhe', 'laertes', 'houses', 'conceaves', 'earlie', 'rapine', 'fierceness', 'burnes', 'attempts', 'approacht', 'shew', 'reare', 'base', 'maze', 'cadmus', 'ship', 'steers', 'saile', 'disport', 'boulder', 'admiring', 'turret', 'gaind', 'beholders', 'lest', 'mute', 'miracle', 'odour', 'teats', 'milk', 'apples', 'deferr', 'perswaders', 'envying', 'plentie', 'retaind', 'speculations', 'untoucht', 'provision', 'tangles', 'invirons', 'agitation', 'wanderer', 'snake', 'effects', 'tempter', 'orator', 'renound', 'preface', 'upgrown', 'impassiond', 'cleere', 'agents', 'doe', 'trespass', 'shunnd', 'obeid', 'feare', 'forbid', 'belief', 'brests', 'humane', 'seeming', 'elocution', 'forbids', 'prohibitions', 'after', 'unsuspect', 'satiate', 'dieted', 'somtime', 'enjoying', 'sap', 'wove', 'garland', 'somthing', 'excuse', 'misst', 'opener', 'deitie', 'blithe', 'distemper', 'don', 'chill', 'joynts', 'slack', 'deflourd', 'forbiddance', 'afford', 'remediless', 'abstinence', 'undoe', 'evidence', 'attaine', 'prooff', 'resolvd', 'proceeds', 'unequald', 'compleating', 'divinitie', 'savour', 'relish', 'tasting', 'toy', 'guilt', 'fumes', 'unrest', 'viewing', 'righteousness', 'constraind', 'ornaments', 'soild', 'staind', 'concupiscence', 'umbrage', 'sowd', 'loyns', 'commer', 'figtree', 'malabar', 'shelters', 'loopholes', 'american', 'claimd', 'despoild', 'default', 'bere', 'gainsay', 'permit', 'dismiss', 'transgressing', 'accuser', 'ensue', 'indulgence', 'accusation', 'seeing', 'minde', 'injunction', 'inclining', 'transgression', 'stroak', 'forbearance', 'acquittance', 'collegue', 'transgressors', 'obtaine', 'attendance', 'conviction', 'collateral', 'ministrant', 'minutes', 'usher', 'dutie', 'erewhile', 'loth', 'obstinacie', 'faultring', 'complaint', 'doing', 'resigne', 'unseemly', 'heel', 'ascention', 'usurpt', 'bruise', 'conception', 'eate', 'servants', 'nakedness', 'intercession', 'counterview', 'amity', 'difficultie', 'transmigration', 'instinct', 'leads', 'sent', 'carnage', 'feature', 'slimie', 'smote', 'wraught', 'fenceless', 'selfsame', 'bare', 'zenith', 'slunk', 'covertures', 'plaint', 'architect', 'connexion', 'foile', 'quadrature', 'exercise', 'thrall', 'affaires', 'surge', 'flown', 'pandemonium', 'seate', 'allusion', 'calld', 'retreate', 'adventurer', 'unmarkt', 'militant', 'glitter', 'returnd', 'consulting', 'successful', 'uproare', 'supreame', 'performance', 'punisht', 'accessories', 'taile', 'cerastes', 'hornd', 'ellops', 'drear', 'penance', 'furder', 'parcht', 'snakie', 'spattering', 'constraining', 'drugd', 'cinders', 'illusion', 'enjoynd', 'tradition', 'purchase', 'horse', 'travail', 'threshold', 'ravin', 'unhide', 'homely', 'mowes', 'utterd', 'dogs', 'laugh', 'hounds', 'draff', 'filth', 'taint', 'suckt', 'offal', 'fling', 'sanctitie', 'staine', 'precedes', 'halleluia', 'restorer', 'descend', 'precept', 'tollerable', 'aspects', 'efficacie', 'bluster', 'turne', 'amaine', 'flaw', 'thrascias', 'upturn', 'serraliona', 'rush', 'antipathie', 'miseries', 'miserable', 'miserie', 'deservings', 'curses', 'ancestor', 'execration', 'reflux', 'conditions', 'retort', 'election', 'mothers', 'clod', 'contradiction', 'angers', 'finite', 'defensless', 'evasions', 'reasonings', 'sourse', 'damps', 'resound', 'vanitie', 'forewarning', 'vertu', 'sinister', 'noveltie', 'defect', 'disturbances', 'conjunction', 'misfortune', 'mistake', 'calamitie', 'confound', 'disorderd', 'unweeting', 'suppliant', 'distress', 'injuries', 'importune', 'lowlie', 'seeking', 'decrees', 'frailtie', 'infirmer', 'contend', 'offices', 'evill', 'experiment', 'relief', 'extremes', 'devourd', 'remaine', 'torment', 'supply', 'feares', 'heer', 'contemnes', 'saught', 'regret', 'snatcht', 'contumacie', 'childless', 'barrenness', 'savours', 'bearing', 'aslope', 'bread', 'idleness', 'unbesaught', 'shroud', 'cold', 'collision', 'attrite', 'slant', 'misdeeds', 'comforts', 'faults', 'favor', 'repentant', 'suiters', 'chaste', 'drownd', 'vagabond', 'intercede', 'contrition', 'advocate', 'propitiation', 'mixture', 'endowd', 'tribulation', 'renovation', 'judgments', 'watchd', 'oreb', 'fellowships', 'repents', 'fitter', 'warriours', 'unholie', 'banishment', 'reveale', 'janus', 'perswasion', 'title', 'transgressour', 'droop', 'walkes', 'blush', 'tour', 'brace', 'forerunners', 'discharge', 'releast', 'shelterd', 'determin', 'militarie', 'wooff', 'seisure', 'claimes', 'respit', 'climate', 'addressd', 'dejection', 'consolation', 'appeer', 'availes', 'winde', 'deprivd', 'monument', 'appearances', 'omnipresence', 'signe', 'expect', 'sinfulness', 'moderation', 'overcom', 'won', 'paquin', 'cusco', 'ingredients', 'intranst', 'tilth', 'reapt', 'sheep', 'tillage', 'steame', 'unjust', 'gore', 'inabstinence', 'maladies', 'spasm', 'qualmes', 'dismist', 'faultie', 'deformities', 'disfiguring', 'rules', 'sickness', 'passages', 'grazing', 'instruments', 'chime', 'chords', 'volant', 'proportions', 'fugue', 'clods', 'underground', 'he', 'dreind', 'moulds', 'tooles', 'mettle', 'hether', 'gems', 'dress', 'rein', 'liking', 'invoke', 'hymen', 'wickedness', 'slew', 'apperence', 'trains', 'atheists', 'indirect', 'tenor', 'effeminate', 'slackness', 'receavd', 'select', 'forage', 'fleecy', 'ewes', 'flye', 'joine', 'assaulting', 'product', 'imprudence', 'bodie', 'destroyers', 'rightlier', 'ceast', 'jollitie', 'marrying', 'prostituting', 'whereso', 'hewing', 'provisions', 'seavens', 'supplie', 'ceeling', 'prow', 'rould', 'luxurie', 'depopulation', 'comfortless', 'utterdst', 'foreknowing', 'consume', 'titles', 'wantonness', 'conquerd', 'pietie', 'invaders', 'dissolute', 'custom', 'impenitence', 'observd', 'fountaines', 'inundation', 'moovd', 'pushd', 'salt', 'mews', 'lookd', 'hull', 'floud', 'shrink', 'ebbe', 'sluces', 'windows', 'flotes', 'fixt', 'tyde', 'messenger', 'agen', 'leafe', 'gay', 'preserve', 'voutsafes', 'colourd', 'stock', 'impaire', 'sours', 'apace', 'crop', 'oyle', 'equalitie', 'brethren', 'tyrannous', 'gurge', 'brick', 'stuff', 'gabble', 'calls', 'fatherly', 'absolute', 'donation', 'reserving', 'usurper', 'encroachment', 'stayes', 'lapse', 'annext', 'iniquities', 'idol', 'showre', 'chaldaea', 'canaan', 'ponder', 'abraham', 'increast', 'departs', 'yonger', 'sequent', 'overgrowth', 'inmate', 'slaves', 'males', 'claime', 'enthralment', 'frogs', 'intrusion', 'must', 'blaines', 'imboss', 'blot', 'sojourners', 'rod', 'shoar', 'obdurat', 'elect', 'inexpert', 'rashness', 'government', 'appertaine', 'types', 'shadowes', 'beares', 'tabernacle', 'prescript', 'battels', 'win', 'reveald', 'reside', 'pravitie', 'expiations', 'bloud', 'justification', 'ceremonies', 'imposition', 'lead', 'joshua', 'judges', 'renownd', 'succession', 'enshrine', 'registerd', 'summe', 'captivitie', 'seventie', 'babylon', 'edifie', 'estate', 'factious', 'dissension', 'pollution', 'quire', 'hereditarie', 'needs', 'capital', 'naild', 'redeems', 'neglect', 'imbrace', 'stings', 'wafting', 'resurrection', 'profluent', 'redeemer', 'victory', 'realme', 'period', 'wors', 'cruelties', 'consolations', 'persecuters', 'apostles', 'miracles', 'receave', 'doctrine', 'teachers', 'superstitions', 'anothers', 'persecution', 'waight', 'groaning', 'respiration', 'date', 'prediction', 'providence', 'depend', 'subverting', 'truths', 'knewst', 'enjoydst', 'exacts', 'remove', 'meditation', 'presaging', 'meteorous', 'glides', 'brandisht', 'adust', 'temperate', 'shepherd', 'oracle', 'rhyme', 'temples', 'height', 'lords', 'monarchy', 'furnace', 'sulphur', 'outshine', 'enterprise', 'contentions', 'sybstance', 'tyranny', 'apostate', 'avail', 'ofttimes', 'ministers', 'hail', 'enemy', 'uplift', 'den', 'pilot', 'skiff', 'seamen', 'anchor', 'delays', 'co', 'partners', 'mansion', 'scare', 'orb', 'glass', 'artist', 'globe', 'mast', 'marl', 'brooks', 'embower', 'carcases', 'resounded:--\"princes', 'vales', 'thunderbolts', 'locusts', 'cope', 'loins', 'squadron', 'heavenly', 'records', 'religions', 'altar', 'sanctuary', 'shrines', 'abominations', 'timbrels', 'watery', 'temple', 'flowery', 'dale', 'homicide', 'fulfil', 'queen', 'crescent', 'virgins', 'ditties', 'porch', 'idolatries', 'ark', 'grunsel', 'leper', 'king--', 'conqueror', 'disparage', 'renown--', 'train--', 'calf', 'priest', 'courts', 'palaces', 'cities', 'towers', 'streets', 'matron', 'isles', 'downcast', 'glimpse', 'fainting', 'trumpets', 'clarions', 'standard', 'meteor', 'metal', 'banners', 'helms', 'heroes', 'battalion', 'knights', 'infidel', 'tower', 'eclipse', 'monarchs', 'archangel', 'brows', 'waiting', 'pain--', 'splendours', 'oaks', 'heath', 'forseeing', 'concealed--', 'pry', 'scurf', 'brigade', 'royal', 'rampart', 'on--', 'monuments', 'bullion', 'fabric', 'pilasters', 'architrave', 'graven', 'luxury', 'lamps', 'cressets', 'hierarchy', 'crystal', 'battlements', 'isle', 'ceremony', 'hall', 'champions', 'career', 'lance', 'hive', 'plank', 'citadel', 'faery', 'elves', 'peasant', 'arbitress', 'court', 'demi', 'outshone', 'pearl', 'untaught', 'engine', 'benumb', 'scourge', 'torturing', 'inroads', 'manna', 'insurrection', 'firmament', 'designing', 'garb', 'sloth', 'hymns', 'hallelujahs', 'sovereign', 'pinnace', 'bay', 'policy', 'pillar', 'sceptre', 'oath', 'subtlety', 'party', 'bliss--', 'zone', 'scar', 'senteries', 'suspense', 'adamant', 'sovereignty', 'splendour', 'royalties', 'respite', 'prudent', 'louring', 'element', 'devil', 'emblazonry', 'session', 'alchemy', 'wandering', 'goal', 'brigades', 'burns', 'apathy', 'philosophy!--', 'sorcery', 'squadrons', 'disgorge', 'streams--', 'labyrinth', 'bogs', 'death--', 'merchants', 'drugs', 'fold', 'hag', 'labouring', 'traitor', 'lord', 'lingering', 'pestilence', 'artillery', 'combatants', 'snaky', 'bids--', 'phantasm', 'foul?--once', 'parent', 'morsel', 'pretences', 'purlieus', 'broils', 'maw', 'agony', 'clamours', 'portcullis', 'recoil', 'chariots', 'ancestors', 'anarchy', 'mastery', 'clans', 'umpire', 'embroils', 'arbiter', 'worlds--', 'city', 'mutiny', 'axle', 'vans', 'vacuity', 'down', 'nitre', 'stayed--', 'gryphon', 'pavilion', 'thus:--\"ye', 'spy', 'mean', 'recompense', 'frontiers', 'alacrity', 'pyramid', 'larboard', 'amain', 'bridge', 'wafts', 'shrouds', 'leisure', 'sapphire', 'firstborn', 'lyre', 'lamp', 'orbs', 'prophets', 'darkling', 'rose', 'blank', 'empyrean', 'garden', 'precincts', 'glozing', 'progeny', 'judge', 'nought', 'deity', 'fealty', 'treason', 'posterity', 'charity', 'atonement', 'vanquisher', 'spoil', 'maugre', 'carcase', 'redeemed', 'redeem', 'tribunal', 'amarant', 'harps', 'preamble', 'symphony', 'shrine', 'drovest', 'disjoin', 'sphere', 'vultur', 'lambs', 'chineses', 'sails', 'cany', 'elysium', 'trumpery', 'trepidation', 'wicket', 'keys', 'leagues', 'cowls', 'hoods', 'rags', 'indulgences', 'dispenses', 'pardons', 'bulls', 'palace', 'frontispiece', 'diamond', 'portal', 'model', 'pencil', 'stairs', 'guardians', 'dreaming', 'waking', 'scout', 'metropolis', 'pinnacles', 'malign', 'canopy', 'seas', 'gardens', 'eccentrick', 'keep', 'carbuncle', 'topaz', 'limbeck', 'chemick', 'culminate', 'equator', 'coronet', 'curls', 'accosts', 'authentick', 'embassy', 'quires', 'simplicity', 'foul', 'uprightness', 'mass', 'material', 'quarters', 'hemisphere', 'aery', 'rolling', 'recoils', 'meridian', 'burdensome', 'diadem', 'show', 'champaign', 'sylvan', 'scene', 'woody', 'gales', 'spicy', 'felon', 'shepherds', 'eve', 'cotes', 'burgher', 'climbs', 'church', 'immortality', 'nectar', 'gums', 'hillock', 'thorn', 'grots', 'myrtle', 'airs', 'stepdame', 'authority', 'hyacinthine', 'veil', 'gardening', 'supper', 'compliant', 'lion', 'kid', 'bears', 'tigers', 'ounces', 'pards', 'elephant', 'proboscis', 'insinuating', 'tyrant', 'purlieu', 'fawns', 'pre', 'cave', 'sympathy', 'platane', 'flyest', 'mayflowers', 'alabaster', 'angelick', 'heroick', 'armoury', 'mariner', 'livery', 'grassy', 'sapphires', 'threw', 'arbours', 'alleys', 'harmonick', 'jessamin', 'violet', 'hyacinth', 'extol', 'hypocrites', 'purity', 'encrease', 'propriety', 'relations', 'charities', 'patriarchs', 'employs', 'harlots', 'amours', 'mask', 'serenate', 'sublunar', 'ivory', 'watches', 'parade', 'toad', 'fancy', 'phantasms', 'aims', 'magazine', 'steed', 'assays', 'liar', 'supreme', 'facile', 'limitary', 'compeers', 'battles', 'customed', 'bland', 'matin', 'citron', 'myrrh', 'grows', 'mayest', 'savoury', 'employments', 'sluice', 'parallel', 'orisons', 'crownest', 'circlet', 'hast', 'join', 'ascend', 'marriageable', 'dower', 'seventimes', 'ardours', 'globes', 'soar', 'phoenix', 'ornament', 'mail', 'cassia', 'fancies', 'risen', 'bestow', 'delicacy', 'bestirs', 'meaths', 'berry', 'princes', 'vouchsafe', 'arbour', 'flowerets', 'save', 'infirm', 'turf', 'mossy', 'faculty', 'fruitage', 'yield', 'alchemist', 'liquours', 'reigned', 'conference', 'minister', 'vouchsafed', 'spheres', 'diet', 'patriarch', 'progenitor', 'musick', 'spiritual', 'gonfalons', 'memorials', 'breaks', 'resembles', 'communion', 'surfeit', 'outspread', 'tabernacles', 'spake', 'hierarchal', 'integrity', 'discerns', 'rebels', 'globose', 'quarries', 'dialect', 'natives', 'controul', 'obloquy', 'monarch', 'loyalty', 'champain', 'testimony', 'depart', 'reigns', 'prince', 'rebellious', 'joined', 'province', 'helmets', 'realty', 'unsound', 'proud', 'piety', 'returnest', 'minstrelsy', 'upbraid', 'armour', 'clashing', 'vollies', 'army', 'legion', 'warriour', 'avenging', 'repeat', 'reverse', 'entering', 'liver', 'reins', 'intellect', 'cloven', 'charioteer', 'pretence', 'remedy', 'nativity', 'cheer', 'mineral', 'victor', 'panoply', 'scouts', 'scour', 'halt', 'helm', 'alarm', 'enginery', 'unfold', 'flank', 'tipt', 'mates', 'vein', 'shaggy', 'promontories', 'overspread', 'disordered', 'unction', 'rebelled', 'undrawn', 'beryl', 'showery', 'effusion', 'crystalline', 'throned', 'prevail', 'appoints', 'volley', 'goats', 'despite', 'dwellest', 'tempering', 'bard', 'clamour', 'muse', 'blessedness', 'doubts', 'interpreter', 'ambient', 'embracing', 'commission', 'lax', 'rejoicing', 'radiance', 'sapience', 'equipage', 'compasses', 'profundity', 'exhaling', 'dividing', 'immature', 'channels', 'gourd', 'bush', 'altern', 'unlightsome', 'urns', 'mirrour', 'spawn', 'whales', 'creek', 'shoals', 'sculls', 'seal', 'leviathan', 'sleeps', 'callow', 'pens', 'stork', 'cliffs', 'caravan', 'lays', 'dank', 'aereal', 'cock', 'rainbows', 'lair', 'cattle', 'mane', 'ounce', 'libbard', 'mole', 'hillocks', 'stag', 'crocodile', 'liveries', 'minims', 'emmet', 'drone', 'terrifick', 'sanctity', 'diest', 'penalty', 'idea', 'galaxy', 'forerunning', 'privilege', 'dulcimer', 'wire', 'unison', 'censers', 'createst', 'hyaline', 'glassy', 'halleluiahs', 'atom', 'majestick', 'nursery', 'auditress', 'relater', 'fabrick', 'cycle', 'epicycle', 'supposest', 'edifice', 'descry', 'roving', 'concern', 'satiety', 'comeliness', 'endeavouring', 'sliding', 'lose', 'society', 'disparity', 'ox', 'unity', 'secresy', 'company', 'trance', 'giver', 'spousal', 'melody', 'loses', 'sayest', 'enjoyest', 'arbitrement', 'harbinger', 'patroness', 'martyrdom', 'races', 'caparisons', 'tinsel', 'trappings', 'joust', 'tournament', 'sewers', 'artifice', 'regent', 'car', 'colure', 'imp', 'sleights', 'indignity', 'favourite', 'possessing', 'scents', 'commune', 'woodbine', 'ivy', 'unite', 'domestick', 'mis', 'constancy', 'seemest', 'tools', 'virgin', 'rancour', 'arborets', 'villages', 'farms', 'kine', 'dairy', 'nymph', 'sums', 'plat', 'steersmen', 'veers', 'rusling', 'fawning', 'proem', 'fennel', 'persuaders', 'equivalent', 'second', 'adder', 'myrtles', 'environs', 'misleads', 'mires', 'fluctuates', 'brooking', 'science', 'threatener', 'impart', 'breasts', 'conceals', 'jocund', 'copartner', 'reapers', 'prologue', 'apology', 'renounce', 'devote', 'link', 'ban', 'bond', 'ardour', 'violets', 'asphodel', 'err', 'harlot', 'comer', 'fig', 'twigs', 'herdsman', 'pasturing', 'loop', 'targe', 'cincture', 'condemning', 'transgression,--death', 'denounced', 'easy', 'colleague', 'manifest', 'transgressours', 'obtain', 'rebel', 'revile', 'belly', 'ascension', 'eat', 'thorns', 'arraying', 'avengers', 'carcasses', 'nostril', 'drove', 'eastward', 'mace', 'petrifick', 'trident', 'pins', 'disguise', 'pontifice', 'enchanting', 'overlay', 'foil', 'substitutes', 'causey', 'overbuilt', 'inland', 'emperour', 'apple', 'pain?--ye', 'legs', 'elops', 'dipsas', 'soot', 'ops', 'ravine', 'corps', 'sithe', 'mows', 'sling', 'descend.--such', 'trine', 'efficacy', 'unbenign', 'antipathy', 'happiness!--yet']\n",
      "Adjectives: ['many', 'north', 'american', 'indian', 'northern', 'reknowned', 'bah', 'ojibway', 'much', 'material', 'latter', 'finnish', 'epic', 'personal', 'gee', 'little', 'flitting', 'white', 'great', 'frequent', 'wild', 'sweet', 'wayward', 'melancholy', 'blue', 'such', 'green', 'silent', 'pleasant', 'black', 'wondrous', 'innumerable', 'plain', 'fresh', 'simple', 'human', 'savage', 'feeble', 'helpless', 'right', 'tangled', 'crimson', 'gray', 'homely', 'full', 'tender', 'rude', 'mighty', 'red', 'erect', 'long', 'dark', 'single', 'denser', 'bluer', 'distant', 'other', 'stern', 'hereditary', 'ancestral', 'paternal', 'stubborn', 'majestic', 'deep', 'spake', 'wise', 'poor', 'weary', 'unheeded', 'brightest', 'limpid', 'clean', 'warlike', 'old', 'sacred', 'asleep', 'cumbrous', 'brown', 'hot', 'round', 'small', 'heavy', 'loud', 'miserable', 'hostile', 'strongest', 'wretched', 'supreme', 'cruel', 'fierce', 'beautiful', 'wabun', 'silver', 'sad', 'alone', 'first', 'lonely', 'solitary', 'flattering', 'sweetest', 'everlasting', 'yellow', 'frozen', 'trailing', 'warm', 'mortal', 'crusted', 'thicker', 'challenged', 'naked', 'panting', 'shawondasee', 'lazy', 'drowsy', 'dreamy', 'purple', 'rugged', 'smoothness', 'dreary', 'careless', 'tall', 'fat', 'indolent', 'easy', 'whitest', 'prairie', 'more', 'unremembered', 'leafy', 'twisted', 'affrighted', 'slender', 'low', 'soft', 'gentle', 'false', 'faithless', 'heartless', 'dead', 'thou', 'gloomy', 'firs', 'clear', 'sunny', 'wrinkled', 'fretful', 'fiery', 'frosty', 'broad', 'good', 'angry', 'eastern', 'native', 'timid', 'marvellous', 'famous', 'scarce', 'wary', 'fatal', 'skilled', 'youthful', 'manly', 'magic', 'enchanted', 'fleetest', 'ancient', 'cloudy', 'lovely', 'perilous', 'indomitable', 'invulnerable', 'afraid', 'gracious', 'graceful', 'uncertain', 'young', 'hoary', 'remorseful', 'giant', 'deadly', 'huge', 'whole', 'empty', 'impossible', 'last', 'awful', 'thenceforward', 'dreadful', 'hard', 'polished', 'keen', 'costly', 'eyed', 'alternate', 'rapid', 'musical', 'greater', 'renown', 'blithe', 'desponding', 'next', 'third', 'still', 'transparent', 'fourth', 'exhausted', 'half', 'open', 'shadowy', 'golden', 'new', 'stronger', 'enough', 'western', 'invisible', 'loose', 'darksome', 'far', 'seventh', 'desolate', 'shining', 'glossy', 'undaunted', 'strong', 'victorious', 'juicy', 'ripened', 'known', 'closest', 'utter', 'eager', 'beloved', 'best', 'pliant', 'hollow', 'mellow', 'owaissa', 'dear', 'very', 'idle', 'listless', 'dull', 'coldest', 'dripping', 'narrow', 'further', 'left', 'swift', 'sheer', 'terrified', 'stately', 'light', 'lowest', 'wooden', 'unbroken', 'steady', 'firm', 'bended', 'fibrous', 'tough', 'sombre', 'safe', 'sleepy', 'resplendent', 'slow', 'sunken', 'certain', 'sandy', 'sable', 'unnecessary', 'bottom', 'upward', 'wavering', 'downward', 'bright', 'headlong', 'faint', 'peering', 'larger', 'free', 'clamorous', 'wider', 'lifeless', 'pallid', 'sated', 'hungry', 'oily', 'eastward', 'bloody', 'wicked', 'pestilential', 'poisonous', 'merciless', 'cheemaun', 'noble', 'woful', 'fearless', 'sluggish', 'dismal', 'reedy', 'pale', 'dry', 'faithful', 'lofty', 'terrible', 'big', 'sharp', 'better', 'mightier', 'greatest', 'useless', 'second', 'windy', 'latest', 'grateful', 'narrower', 'joyous', 'various', 'westward', 'handsomest', 'unskilful', 'unwilling', 'nimble', 'willing', 'unforgotten', 'fair', 'united', 'handsome', 'interminable', 'uninterrupted', 'fallow', 'unfinished', 'welcome', 'spacious', 'dressed', 'whitened', 'earthen', 'peaceful', 'reluctant', 'lean', 'stranger', 'fairest', 'short', 'wide', 'curious', 'sweetly', 'happy', 'mystic', 'restless', 'quiet', 'imperious', 'strange', 'contented', 'richest', 'careful', 'brisk', 'busy', 'ample', 'merry', 'thick', 'scented', 'solemn', 'swifter', 'frenzied', 'awake', 'like', 'pleased', 'darkened', 'troubled', 'brightened', 'cold', 'immeasurable', 'boastful', 'bolder', 'high', 'wonderful', 'own', 'ugly', 'remembered', 'closer', 'familiar', 'comely', 'oweenee', 'youngest', 'wilful', 'married', 'brave', 'haughty', 'weak', 'eldest', 'unseemly', 'straight', 'echoing', 'slower', 'starry', 'dusky', 'topmost', 'glittering', 'airy', 'celestial', 'cheerful', 'radiant', 'serene', 'envious', 'evil', 'prospered', 'unseen', 'grassy', 'craggy', 'pensive', 'fruitful', 'thoughtful', 'caterpillar', 'mournful', 'unaffrighted', 'fast', 'watchful', 'scornful', 'cunning', 'entangled', 'bravest', 'captive', 'grim', 'sulky', 'south', 'ripe', 'ready', 'fragrant', 'gamesome', 'noisy', 'lucky', 'crooked', 'husking', 'mildewed', 'bent', 'double', 'unborn', 'mysterious', 'absent', 'secret', 'different', 'smooth', 'crafty', 'separate', 'mystical', 'subtle', 'potent', 'dangerous', 'powerful', 'same', 'heedless', 'childlike', 'withered', 'treacherous', 'fearful', 'grave', 'ye', 'hi', 'au', 'moody', 'simples', 'monstrous', 'perpetual', 'freshet', 'highest', 'tired', 'endless', 'skilful', 'shaggy', 'early', 'farthest', 'fluttering', 'silly', 'unguarded', 'stealthy', 'rocky', 'plashed', 'dizzy', 'rough', 'tranquil', 'silvery', 'calm', 'large', 'largest', 'deeper', 'swollen', 'manifold', 'lithe', 'strove', 'rounded', 'befall', 'forgetful', 'broken', 'tempest', 'ended', 'gusty', 'mischievous', 'hateful', 'outrageous', 'audacious', 'overbearing', 'only', 'malicious', 'resounding', 'languid', 'burnished', 'murmur', 'slumbrous', 'sound', 'blind', 'wooded', 'armed', 'brawny', 'sudden', 'otter', 'sick', 'wounded', 'aerial', 'watery', 'choicest', 'wakeful', 'hospitable', 'harder', 'wandering', 'ghastly', 'parley', 'haggard', 'stony', 'vast', 'vacant', 'bitter', 'pathless', 'handed', 'hearted', 'motionless', 'unconscious', 'fashioned', 'onward', 'earliest', 'unheard', 'intolerable', 'clangorous', 'sorrowing', 'infinite', 'else', 'bigger', 'tallest', 'true', 'bearded', 'unknown', 'crowded', 'darker', 'drearier', 'vague', 'cloud', 'weakened', 'parted', 'hazy', 'waited', 'unfamiliar', 'generous', 'birchen', 'well', 'blessed', 'sultry', 'ceaseless', 'thicket', 'dingle', 'luminous', 'spirit', 'raven', 'serpent', 'pelican', 'coward', 'swallow', 'dandy', 'blissful', 'didst', 'adventrous', 'middle', 'unattempted', 'th', 'upright', 'pure', 'outspread', 'pregnant', 'infernal', 'ambitious', 'impious', 'proud', 'vain', 'hideous', 'bottomless', 'penal', 'horrid', 'immortal', 'baleful', 'obdurate', 'stedfast', 'wilde', 'horrible', 'visible', 'doleful', 'rebellious', 'tempestuous', 'bold', 'mutual', 'equal', 'highth', 'dire', 'outward', 'fixt', 'utmost', 'adverse', 'dubious', 'unconquerable', 'suppliant', 'empyreal', 'worse', 'successful', 'eternal', 'grand', 'sole', 'foul', 'invincible', 'extinct', 'less', 'vengeful', 'speedy', 'arch', 'sure', 'inmost', 'oreblown', 'impetuous', 'boundless', 'scorn', 'seest', 'forlorn', 'livid', 'neerest', 'prone', 'hugest', 'skaly', 'treble', 'backward', 'pointing', 'unusual', 'solid', 'liquid', 'subterranean', 'combustible', 'mineral', 'singed', 'unblest', 'supernal', 'fardest', 'supream', 'hail', 'profoundest', 'least', 'secure', 'worth', 'oblivious', 'unhappy', 'rallied', 'regaind', 'omnipotent', 'liveliest', 'worst', 'surest', 'astounded', 'pernicious', 'superiour', 'ponderous', 'spotty', 'norwegian', 'uneasie', 'torrid', 'memphian', 'perfidious', 'abject', 'pitchy', 'bad', 'upper', 'uplifted', 'thir', 'populous', 'barbarous', 'memorial', 'gay', 'bare', 'promiscuous', 'aloof', 'cursed', 'holy', 'argob', 'wisest', 'opprobrious', 'obscene', 'lustful', 'uncompounded', 'brittle', 'obscure', 'unfrequented', 'righteous', 'bestial', 'despicable', 'offensive', 'uxorious', 'annual', 'syrian', 'amorous', 'alienated', 'brute', 'flat', 'delightful', 'lucid', 'ahaz', 'sottish', 'odious', 'brutish', 'lewd', 'gross', 'luxurious', 'loftiest', 'confest', 'boasted', 'enormous', 'younger', 'damp', 'doubtful', 'upreard', 'rich', 'seraphic', 'sonorous', 'martial', 'universal', 'perfect', 'dorian', 'noblest', 'deliberate', 'valour', 'painful', 'due', 'imbodied', 'auxiliar', 'fable', 'eminent', 'original', 'dim', 'disastrous', 'dauntless', 'faithfull', 'witherd', 'blasted', 'mute', 'inglorious', 'puissant', 'dread', 'close', 'rife', 'top', 'entire', 'undoubted', 'metallic', 'numerous', 'divine', 'pretious', 'incessant', 'doric', 'overlaid', 'bossy', 'serapis', 'brazen', 'arched', 'suttle', 'hasty', 'chrystal', 'industrious', 'winged', 'worthiest', 'chief', 'smoothed', 'smallest', 'immense', 'gorgeous', 'displaid', 'opprest', 'lost', 'glorious', 'unenvied', 'happier', 'inferior', 'present', 'just', 'covert', 'fiercest', 'fiercer', 'unexpert', 'difficult', 'steep', 'higher', 'proper', 'late', 'laborious', 'easie', 'unextinguishable', 'abolisht', 'essential', 'sufficient', 'inaccessible', 'desperate', 'humane', 'fairer', 'perplex', 'slothful', 'perswasive', 'main', 'immediate', 'ominous', 'mistrustful', 'impregnable', 'blackest', 'purest', 'incorruptible', 'unpolluted', 'ethereal', 'incapable', 'final', 'intellectual', 'uncreated', 'belike', 'unaware', 'sevenfold', 'intermitted', 'transfixt', 'unpitied', 'hopeless', 'vile', 'inevitable', 'unjust', 'purer', 'noxious', 'milde', 'future', 'ill', 'garb', 'ignoble', 'fickle', 'former', 'humble', 'envied', 'servile', 'wearisom', 'unacceptable', 'splendid', 'accountable', 'conspicuous', 'useful', 'hurtful', 'prosperous', 'hidden', 'severe', 'sensible', 'hoarse', 'opposite', 'front', 'engraven', 'fit', 'mightiest', 'imperial', 'stile', 'popular', 'exempt', 'strictest', 'irreparable', 'arbitrary', 'easier', 'prophetic', 'som', 'advantagious', 'common', 'frail', 'devilish', 'opportune', 'delicious', 'corrosive', 'palpable', 'uncouth', 'indefatigable', 'abrupt', 'strict', 'transcendent', 'past', 'profound', 'unessential', 'abortive', 'public', 'tollerable', 'cheap', 'general', 'specious', 'matchless', 'chearful', 'lantskip', 'devil', 'rational', 'heavenly', 'hellish', 'imitated', 'horrent', 'regal', 'presumptuous', 'several', 'irksome', 'pythian', 'thickest', 'angelical', 'heroic', 'hapless', 'partial', 'elevate', 'absolute', 'pleasing', 'anguish', 'excite', 'obdured', 'triple', 'ruful', 'infixt', 'tempting', 'gorgonian', 'lamentable', 'dolorous', 'prodigious', 'abominable', 'mean', 'circling', 'formidable', 'scaly', 'uglier', 'distinguishable', 'disdainful', 'execrable', 'miscreated', 'seise', 'joyn', 'mid', 'interposest', 'detestable', 'thine', 'deemd', 'affraid', 'attractive', 'averse', 'excessive', 'rueful', 'begotten', 'violent', 'forcible', 'foule', 'ceasless', 'conscious', 'mine', 'milder', 'unforeseen', 'unfounded', 'void', 'upstart', 'buxom', 'pleasd', 'tartarus', 'voluptuous', 'key', 'stygian', 'intricate', 'sollid', 'jarring', 'spread', 'ruddy', 'moist', 'lighter', 'mixt', 'ordain', 'warie', 'ruinous', 'tumultuous', 'crude', 'strait', 'dense', 'rare', 'stunning', 'loudest', 'wasteful', 'readiest', 'confine', 'direct', 'glad', 'special', 'calmer', 'emptier', 'pendant', 'fraught', 'coeternal', 'unapproached', 'formless', 'sovran', 'vital', 'flowrie', 'warbling', 'harmonious', 'shadiest', 'nocturnal', 'vernal', 'onely', 'unrivald', 'sublime', 'wherein', 'sincere', 'constant', 'despoild', 'passive', 'servd', 'ambrosial', 'ineffable', 'frustrate', 'naught', 'heavier', 'corrupted', 'effectual', 'exorbitant', 'peculiar', 'warnd', 'sinful', 'incensed', 'don', 'disloyal', 'able', 'rigid', 'deare', 'quire', 'appeerd', 'thy', 'unprevented', 'gloomie', 'loathsom', 'unspotted', 'returne', 'thenceforth', 'meek', 'shon', 'filial', 'canst', 'unrighteous', 'incarnate', 'anointed', 'arraignd', 'blest', 'reverent', 'aspiring', 'extold', 'copious', 'happie', 'opacous', 'convex', 'inclement', 'vext', 'barren', 'fond', 'unaccomplisht', 'neighbouring', 'likely', 'betwixt', 'aetna', 'transverse', 'awry', 'devious', 'few', 'magnificent', 'orient', 'inimitable', 'beneath', 'land', 'lower', 'desart', 'goodly', 'forein', 'renownd', 'fleecie', 'oblique', 'flourie', 'eccentric', 'vulgar', 'turnd', 'magnetic', 'inward', 'mettal', 'seemd', 'unbound', 'forth', 'vertuous', 'remote', 'terrestrial', 'precious', 'visual', 'stripling', 'colourd', 'succinct', 'decent', 'authentic', 'likeliest', 'unspeakable', 'ordaind', 'fixed', 'deepest', 'permissive', 'sharpest', 'sighted', 'fraudulent', 'uprightness', 'returnd', 'excess', 'orbicular', 'hither', 'timely', 'monthly', 'superior', 'staid', 'furious', 'innocent', 'devillish', 'revolving', 'diminisht', 'friendly', 'easiest', 'burthensome', 'unbounded', 'hell', 'vaine', 'recal', 'unsay', 'smart', 'aware', 'mad', 'rural', 'hairie', 'overgrown', 'stateliest', 'verdurous', 'neather', 'goodliest', 'humid', 'odoriferous', 'odorous', 'prowling', 'substantial', 'barrd', 'meanest', 'vegetable', 'porous', 'thirst', 'crisped', 'worthy', 'nice', 'noontide', 'irriguous', 'umbrageous', 'coole', 'mantling', 'luxuriant', 'fringed', 'faire', 'libyan', 'abassin', 'undelighted', 'nobler', 'unadorned', 'coy', 'modest', 'dishonest', 'dishonorable', 'happiest', 'spotless', 'lovliest', 'whispering', 'compliant', 'endearing', 'unwieldy', 'wove', 'gordian', 'enterd', 'forlorne', 'streight', 'widest', 'loath', 'harmless', 'sportful', 'liberal', 'unlimited', 'toilsom', 'daily', 'preeminent', 'individual', 'conjugal', 'submissive', 'juno', 'jealous', 'plaind', 'thrust', 'longing', 'suspicious', 'sly', 'accessible', 'unarmed', 'zealous', 'alien', 'minded', 'spiritual', 'corporeal', 'prime', 'incredible', 'volubil', 'shorter', 'sober', 'slunk', 'apparent', 'peerless', 'successive', 'unactive', 'scant', 'unsmooth', 'mild', 'total', 'warme', 'stellar', 'unbeheld', 'responsive', 'instrumental', 'harmonic', 'inwoven', 'verdant', 'beauteous', 'costliest', 'sequesterd', 'genial', 'unanimous', 'adulterous', 'holiest', 'domestic', 'loveless', 'joyless', 'unindeard', 'casual', 'wingd', 'leav', 'nook', 'inordinate', 'nitrous', 'rebell', 'superfluous', 'undiminisht', 'inviolable', 'lovly', 'sent', 'glorie', 'brief', 'busied', 'contemptuous', 'soonest', 'wilt', 'askt', 'courageous', 'deserted', 'whereof', 'military', 'triumphant', 'mooned', 'ported', 'doubting', 'threshing', 'hopeful', 'astrea', 'pendulous', 'quick', 'rosie', 'shrill', 'unquiet', 'cordial', 'zephyrus', 'touching', 'whisperd', 'tended', 'irksom', 'sleepst', 'cool', 'methought', 'interdicted', 'ventrous', 'abundant', 'worthier', 'wee', 'live', 'lesser', 'external', 'private', 'most', 'cheard', 'pious', 'arborous', 'prompt', 'tuneable', 'choral', 'hast', 'warble', 'morn', 'bounteous', 'overwoodie', 'mariageable', 'sociable', 'disturbd', 'mutable', 'unforewarnd', 'angelic', 'unconform', 'steddie', 'polar', 'fervid', 'nectarous', 'frugal', 'dispenst', 'dispatchful', 'intent', 'inelegant', 'kindliest', 'inoffensive', 'berrie', 'prest', 'primitive', 'compleat', 'tedious', 'besmeard', 'voutsafe', 'meridian', 'vaile', 'mossie', 'unsavourie', 'ingrateful', 'intelligential', 'digest', 'assimilate', 'sustaind', 'fed', 'grosser', 'alimental', 'mellifluous', 'pearly', 'real', 'concoctive', 'possible', 'unlibidinous', 'so', 'inhabitant', 'lowly', 'earthly', 'spiritous', 'active', 'gradual', 'oftest', 'differing', 'inconvenient', 'corporal', 'favourable', 'propitious', 'immutable', 'necessitated', 'attentive', 'delighted', 'eare', 'lawful', 'durable', 'inexpressible', 'gerent', 'nearest', 'regular', 'irregular', 'charming', 'delectable', 'desirous', 'unsleeping', 'globous', 'impaird', 'subordinate', 'unwarie', 'ambiguous', 'spred', 'content', 'dextrous', 'globose', 'blazing', 'calumnious', 'titular', 'unpaid', 'freedome', 'controule', 'blasphemous', 'rightful', 'unsucceeded', 'provident', 'illustrious', 'zeale', 'singular', 'secondarie', 'breake', 'dore', 'obsequious', 'midst', 'godless', 'receave', 'gan', 'quadrate', 'irresistible', 'obvious', 'orderly', 'battailous', 'banded', 'twixt', 'weakest', 'boldest', 'aught', 'daring', 'solitarie', 'finisht', 'erroneous', 'seditious', 'merited', 'unwise', 'erst', 'ruin', 'tenth', 'flaming', 'inextinguishable', 'limited', 'unbecoming', 'eeven', 'tenfold', 'plenteous', 'heaviest', 'mingle', 'augmented', 'airie', 'fablest', 'likest', 'unsafe', 'imminent', 'might', 'sore', 'discontinuous', 'divisible', 'gash', 'fluid', 'meaner', 'gastly', 'unmindful', 'atheist', 'nameless', 'therfore', 'overturnd', 'fierie', 'satanic', 'liable', 'cubic', 'unobnoxious', 'foughten', 'prevalent', 'too', 'fallible', 'omniscient', 'valid', 'unequal', 'unpaind', 'impassive', 'calmest', 'unwounded', 'uninvented', 'ethereous', 'adornd', 'surveyes', 'ambient', 'hallow', 'infuriate', 'unfound', 'missive', 'matin', 'refulgent', 'speediest', 'swiftest', 'arme', 'adamantine', 'orbed', 'disturb', 'heavie', 'stand', 'tipt', 'nicest', 'outragious', 'extravagant', 'seated', 'rebel', 'whelmd', 'implacable', 'civil', 'disobedient', 'perverse', 'exprest', 'godhead', 'undying', 'unmixt', 'impure', 'bickering', 'unexpected', 'uprooted', 'wonted', 'dwell', 'behold', 'emulous', 'contiguous', 'fourfold', 'timerous', 'wastful', 'unsufferable', 'mural', 'maist', 'warne', 'weaker', 'diurnal', 'rapt', 'compast', 'affable', 'slight', 'unimaginable', 'current', 'concernd', 'deign', 'florid', 'unforbid', 'aske', 'unapparent', 'illustrous', 'godlike', 'supprest', 'brighter', 'dispossest', 'vacuous', 'stead', 'harnest', 'brooding', 'tartareous', 'uttermost', 'circumfluous', 'immature', 'prolific', 'upheave', 'tumid', 'capacious', 'drie', 'implicit', 'everie', 'dividual', 'jointed', 'tepid', 'prudent', 'smaller', 'oarie', 'stiff', 'crested', 'innumerous', 'grown', 'grassie', 'brinded', 'sinuous', 'numberless', 'terrific', 'image', 'distinct', 'unwearied', 'impereal', 'relate', 'usest', 'empyrean', 'unsearchable', 'rowle', 'punctual', 'sumless', 'incorporeal', 'studious', 'capable', 'unattended', 'unbuild', 'ere', 'wandring', 'transpicuous', 'reciprocal', 'attendant', 'habitable', 'perplexing', 'anxious', 'apt', 'concerne', 'unseasonable', 'sweeter', 'pleasantest', 'ungraceful', 'lowd', 'instinctive', 'lively', 'droused', 'insensible', 'plaine', 'scarse', 'gratious', 'signe', 'thinner', 'blandishment', 'intense', 'whereto', 'proposest', 'thinkst', 'possest', 'shouldst', 'collateral', 'deerest', 'social', 'unmeet', 'intended', 'internal', 'amiable', 'nuptial', 'gesture', 'enviest', 'unsought', 'obtrusive', 'desirable', 'selectest', 'bridal', 'vehement', 'transported', 'proof', 'exact', 'vertuousest', 'folly', 'loveliest', 'diffident', 'overmuch', 'excellent', 'yeild', 'adorn', 'judicious', 'carnal', 'out', 'virtual', 'exclusive', 'indulgent', 'venial', 'tragic', 'troy', 'answerable', 'nightly', 'unpremeditated', 'sedulous', 'gorgious', 'cautious', 'eighth', 'unsuspected', 'suttlest', 'fittest', 'diabolic', 'officious', 'animate', 'relentless', 'base', 'obnoxious', 'basest', 'nocent', 'unfeard', 'brutal', 'gratefull', 'vocal', 'intervene', 'lovelier', 'greedy', 'seemliest', 'ineffectual', 'accent', 'exterior', 'imperfet', 'deficient', 'avoide', 'likelie', 'seemst', 'ardent', 'mindless', 'unsupported', 'storn', 'voluble', 'tedded', 'overawd', 'abstracted', 'informidable', 'indented', 'circular', 'redundant', 'interrupt', 'varied', 'tortuous', 'duteous', 'sleek', 'shallow', 'marveling', 'articulat', 'speakable', 'commandst', 'trodden', 'appetite', 'alluring', 'keene', 'spirited', 'overpraising', 'seem', 'unctuous', 'delusive', 'succour', 'credulous', 'pretty', 'ignorant', 'wisht', 'whoso', 'replete', 'forborn', 'irrational', 'rash', 'fansied', 'hitherto', 'mature', 'continual', 'undesireable', 'sciential', 'bland', 'faded', 'calme', 'hainous', 'unhallowd', 'earnest', 'undergoe', 'perswade', 'harsh', 'recompence', 'enticing', 'femal', 'lascivious', 'elegant', 'palate', 'contagious', 'softest', 'fallacious', 'unkindly', 'evident', 'earst', 'impenetrable', 'unclean', 'dreaded', 'unlike', 'tost', 'sensual', 'unhappie', 'needless', 'hadst', 'discernd', 'liveless', 'joyd', 'fruitless', 'condemning', 'despightfull', 'complete', 'unwelcome', 'unsuccessful', 'dismaid', 'sincerest', 'necessitate', 'lightest', 'unclouded', 'satisfied', 'whence', 'entertaind', 'revile', 'calamitous', 'insupportable', 'acceptable', 'loquacious', 'unable', 'accurst', 'instant', 'ofspring', 'connatural', 'secretest', 'inseparable', 'impervious', 'unagreeable', 'felt', 'meager', 'behinde', 'enterprisest', 'ravenous', 'aggregated', 'asphaltic', 'indignant', 'pendent', 'outside', 'unminded', 'guileful', 'stupendious', 'unvoyageable', 'portentous', 'triumphal', 'thorough', 'associate', 'inland', 'paragond', 'sollicitous', 'shew', 'plebeian', 'fulgent', 'beheld', 'unreal', 'untractable', 'unoriginal', 'man', 'allarme', 'grievous', 'spare', 'hiss', 'complicated', 'amphisbaena', 'revolted', 'laden', 'thurst', 'lapst', 'yearly', 'wide-', 'actual', 'habitual', 'earnd', 'undreaded', 'famin', 'incestuous', 'unimmortal', 'random', 'solstitial', 'planetarie', 'unbenigne', 'malignant', 'unbenighted', 'sideral', 'corrupt', 'haile', 'thundrous', 'lateral', 'gloomiest', 'natural', 'fleeting', 'lasting', 'inexplicable', 'overlive', 'deathless', 'guiltless', 'slowest', 'overweening', 'fell', 'repulst', 'miserie', 'unfortunate', 'tolerable', 'unbegot', 'childless', 'conversing', 'loving', 'shortest', 'minde', 'safer', 'piteous', 'foretold', 'unworthie', 'incline', 'sere', 'pusht', 'comfortable', 'penitent', 'lowliest', 'speedier', 'important', 'devout', 'unharmoneous', 'incorrupt', 'peccant', 'variable', 'disconsolate', 'opiate', 'above', 'placable', 'demeanour', 'rather', 'imprest', 'stoopt', 'gayest', 'confide', 'redeem', 'rapacious', 'chilling', 'audible', 'assiduous', 'angrie', 'slepst', 'earne', 'cleerest', 'amplest', 'modern', 'richer', 'clearer', 'mental', 'arable', 'cleft', 'noysom', 'feavorous', 'colic', 'busiest', 'delaid', 'firmer', 'unsightly', 'inhuman', 'likeness', 'healthful', 'gluttonous', 'combrous', 'melodious', 'fled', 'resonant', 'washt', 'guise', 'conformitie', 'religious', 'larg', 'bereft', 'ensanguind', 'encampt', 'sulfurous', 'gigantic', 'factious', 'wrong', 'massacher', 'subdue', 'beset', 'beaked', 'stoodst', 'allurement', 'alive', 'beheldst', 'sooner', 'horned', 'olive', 'multiplie', 'fraternal', 'arrogate', 'bituminous', 'disperst', 'foraign', 'ridiculous', 'thin', 'famish', 'irreverent', 'vitious', 'polluted', 'stupid', 'kindred', 'hamath', 'childe', 'seaven', 'lawless', 'compelld', 'dismissd', 'christal', 'adjourne', 'shadowie', 'moral', 'servil', 'national', 'clouded', 'scrowle', 'moderate', 'squadrond', 'breathd', 'steddiest', 'local', 'deadlier', 'reproachful', 'legal', 'shameful', 'temporal', 'certaine', 'unfaithful', 'proudest', 'endue', 'secular', 'inrould', 'engrave', 'infallible', 'slandrous', 'amplier', 'reveald', 'perverted', 'conflagrant', 'transient', 'merciful', 'precise', 'descended', 'nigh', 'marish', 'adventurous', 'steadfast', 'unconsumed', 'bright!--if', 'injured', 'advanced', 'irreconcilable', 'undiminished', 'sure--', 'sulphurous', 'blazed', 'shattered', 'recovered', 'sovereign', 'amazed', 'optic', 'tuscan', 'uneasy', 'autumnal', 'etrurian', 'scattered', 'feminine', 'joint', 'sidonian', 'fertile', 'renowned', 'ionian', 'snowy', 'hesperian', 'upreared', 'dazzling', 'experienced', 'british', 'armoric', 'horizontal', 'way:--', 'illumined', 'belched', 'beatific', 'sweet--', 'frieze', 'towered', 'unadored', 'ausonian', 'aegaean', 'squared', 'covered', 'pygmean', 'jocund', 'royal', 'barbaric', 'sceptred', 'almighty', 'tartarean', 'rear', 'revenge', 'timorous', 'persuasive', 'bordering', 'repulsed', 'cure--', 'unreprieved', 'venturous', 'igominy', 'counselled', 'warbled', 'forced', 'wearisome', 'removed', 'untamed', 'advantageous', 'puny', 'brightening', 'unbottomed', 'hardy', 'monarchal', 'demur', 'undismayed', 'perplexed', 'olympian', 'fronted', 'typhoean', 'envenomed', 'thessalian', 'serbonian', 'lethean', 'confused', 'dens', 'obominable', 'equinoctial', 'spicy', 'voluminous', 'cerberean', 'trinacrian', 'admired--', 'outcast', 'grisly', 'threatening', 'arctic', 'surprised', 'unthought', 'bannered', 'illimitable', 'chaos', 'mixed', 'boggy', 'nearer', 'endangered', 'verge', 'torn', 'undetermined', 'opal', 'shady', 'voluntary', 'unforeknown', 'unchangeable', 'uttering', 'fallen', 'undone', 'loathsome', 'vaunted', 'reconcilement', 'virgin', 'guilty', 'elysian', 'amber', 'inclined', 'unexampled', 'vexed', 'aereal', 'transitory', 'unaccomplished', 'wherewithal', 'upwhirled', 'unpeopled', 'foreign', 'extended', 'fortunate', 'luminary', 'lordly', 'magnetick', 'informed', 'chrysolite', 'potable', 'virtuous', 'suitable', 'coloured', 'wonderous', 'hoped', 'horrour', 'diminished', 'unshaken', 'counterfeit', 'saintly', 'conceal', 'assyrian', 'unobserved', 'hairy', 'grotesque', 'overhead', 'upgrew', 'insuperable', 'dispense', 'balmy', 'sabean', 'fishy', 'entwined', 'continued', 'hurdled', 'cross', 'virtue', 'grecian', 'diverse', 'unpierced', 'palmy', 'inspired', 'castalian', 'nyseian', 'delight', 'seemed', 'dishonourable', 'mere', 'sufficed', 'wholesome', 'nectarine', 'downy', 'savoury', 'braided', 'purposed', 'footed', 'unespied', 'knowest', 'toilsome', 'unexperienced', 'unfulfilled', 'theirs', 'unspied', 'tellest', 'unemployed', 'bestrown', 'kindly', 'bushy', 'flourished', 'troublesome', 'connubial', 'loyal', 'domestick', 'undefiled', 'chaste', 'unendeared', 'showered', 'accustomed', 'unsearched', 'smutty', 'stoodest', 'impaired', 'dismayed', 'untried', 'acknowledged', 'hallowed', 'unremoved', 'disturbed', 'balanced', 'rosy', 'temperate', 'unwakened', 'enamoured', 'startled', 'sleepest', 'fancy', 'unreproved', 'choisest', 'lute', 'climbest', 'fallest', 'flyest', 'mystick', 'uncoloured', 'thirsty', 'pampered', 'unadmonished', 'unforewarned', 'unconformed', 'milky', 'juciest', 'alcinous', 'unfumed', 'awed', 'undecked', 'danced', 'unsavoury', 'unpurged', 'drossiest', 'ministered', 'refined', 'intuitive', 'angelick', 'enjoinest', 'likening', 'unrevoked', 'vice', 'waked', 'eminence', 'unobeyed', 'unwary', 'abstrusest', 'dost', 'thee', 'sayest', 'secondary', 'rememberest', 'quickening', 'unseduced', 'unterrified', 'servant', 'defied', 'unopposed', 'sect', 'wished', 'depravest', 'conflicting', 'callest', 'convolved', 'necturous', 'sanguine', 'elect', 'ignominy', 'overturned', 'overpowered', 'riven', 'hewn', 'unpained', 'languished', 'hollowed', 'despised', 'belial', 'whelmed', 'prepared', 'unmixed', 'infixed', 'bereaved', 'pegasean', 'aleian', 'unsung', 'unchanged', 'thracian', 'consorted', 'floried', 'ungodly', 'unformed', 'firmament', 'elemental', 'uprolled', 'washy', 'oose', 'congregated', 'corny', 'frizzled', 'fry', 'coral', 'dropt', 'promontory', 'unnumbered', 'oary', 'replenished', 'fifth', 'sixth', 'tawny', 'rampant', 'parsimonious', 'commonalty', 'female', 'subtlest', 'eatest', 'seekest', 'numbered', 'sedentary', 'swiftness', 'center', 'contrary', 'softened', 'unpossessed', 'advance', 'unprepared', 'here?--', 'untroubled', 'soughtest', 'displeased', 'defective', 'accompanied', 'spakest', 'sawest', 'couldest', 'uninformed', 'benign', 'discountenanced', 'admirest', 'fabled', 'antarctick', 'wily', 'diabolick', 'receivest', 'productive', 'longer', 'mazy', 'subtile', 'unfeared', 'yonder', 'houshold', 'austere', 'fearest', 'matrimonial', 'unassayed', 'imperfect', 'ware', 'despoiled', 'chanced', 'woven', 'sapient', 'circean', 'uncalled', 'marvelling', 'unamazed', 'articulate', 'untouched', 'petty', 'regarded', 'fancied', 'openest', 'undesirable', 'sometime', 'blank', 'forego', 'remediless', 'heinous', 'foretasted', 'unhallowed', 'proportional', 'dignified', 'ennobled', 'loved', 'freshest', 'confounded', 'decan', 'pillared', 'amazonian', 'distempered', 'altered', 'possessed', 'gainsay', 'despiteful', 'assembled', 'even', 'judged', 'obstinacy', 'madest', 'overwhelmed', 'usurped', 'impassable', 'murky', 'slimy', 'crouded', 'cathaian', 'memnonian', 'unhoped', 'stupendous', 'solicitous', 'russian', 'unmarked', 'plutonian', 'fabrick', 'hatefullest', 'famine', 'unspared', 'crammed', 'planetary', 'sextile', 'square', 'vernant', 'tasted', 'thyestean', 'pestilent', 'stormy', 'upturn', 'thunderous']\n",
      "Verbs: ['based', 'collected', 'married', 'credited', 'researched', 'authenticated', 'compiled', 'included', 'published', 'used', 'began', 'completed', 'assured', 'criticized', 'made', 'gave', 'add', 'include', 'rock', 'sleep', 'reading', 'light', 'lay', 'close', 'ask', 'answer', 'tell', 'feeds', 'rushes', 'repeat', 'heard', 'found', 'sang', 'spread', 'stood', 'singing', 'sighing', 'trace', 'dwelt', 'prayed', 'fasted', 'lived', 'toiled', 'suffered', 'prosper', 'advance', 'love', 'listen', 'pause', 'speak', 'distinguish', 'sung', 'have', 'believe', 'are', 'strivings', 'comprehend', 'groping', 'lifted', 'neglected', 'muse', 'ponder', 'effaced', 'written', 'stay', 'read', 'descending', 'called', 'flowed', 'plunging', 'stooping', 'traced', 'winding', 'saying', 'run', 'broke', 'moulded', 'shaped', 'fashioned', 'took', 'filled', 'breathed', 'chafe', 'burst', 'kindled', 'erect', 'smoked', 'rose', 'rising', 'touched', 'rolled', 'beheld', 'saw', 'ascending', 'bending', 'waving', 'beckons', 'calls', 'came', 'drawn', 'painted', 'glaring', 'looked', 'stretched', 'subdue', 'allay', 'falling', 'given', 'hunt', 'fish', 'contented', 'live', 'send', 'guide', 'teach', 'toil', 'suffer', 'multiply', 'pass', 'fade', 'perish', 'wash', 'break', 'make', 'take', 'grow', 'deck', 'smoke', 'threw', 'rushing', 'washed', 'soiled', 'stained', 'mingled', 'buried', 'smiled', 'smoothed', 'formed', 'decked', 'departed', 'vanished', 'cried', 'stolen', 'spotted', 'stole', 'scared', 'warmed', 'drew', 'swung', 'shouted', 'smote', 'bewildered', 'trembled', 'whimpered', 'reeled', 'staggered', 'sat', 'standing', 'taunted', 'hark', 'pretended', 'cry', 'whimper', 'know', 'find', 'go', 'sneaking', 'hiding', 'conquered', 'uttered', 'sit', 'disgrace', 'crying', 'raised', 'broken', 'goes', 'slain', 'exclaimed', 'hold', 'call', 'chosen', 'kept', 'brought', 'chased', 'awoke', 'coming', 'gazing', 'sleeping', 'walking', 'gathering', 'looking', 'loved', 'waited', 'wooed', 'whispers', 'folded', 'changed', 'trembling', 'seen', 'had', 'sent', 'hissing', 'drove', 'issued', 'besprinkled', 'streamed', 'howled', 'hurried', 'lingering', 'dares', 'brave', 'gone', 'put', 'smouldering', 'wailing', 'shook', 'feared', 'cared', 'served', 'blazing', 'laughing', 'entered', 'felt', 'cease', 'leave', 'turned', 'burn', 'fly', 'fell', 'making', 'drips', 'melting', 'defeated', 'bear', 'rushed', 'stamped', 'come', 'wrestle', 'went', 'wrestled', 'grew', 'retreated', 'baffled', 'beaten', 'hearing', 'ending', 'maiden', 'gazed', 'sighed', 'bestir', 'woo', 'pursue', 'persuade', 'covered', 'laid', 'won', 'wandered', 'seemed', 'see', 'deluded', 'puffed', 'blown', 'divided', 'forgotten', 'sporting', 'swinging', 'rejected', 'cut', 'falls', 'said', 'bore', 'born', 'warned', 'repeating', 'tells', 'lie', 'stoop', 'harm', 'heeded', 'whispering', 'lying', 'died', 'deserted', 'wept', 'murmured', 'shining', 'beat', 'nursed', 'rocked', 'bedded', 'bound', 'stilled', 'hear', 'lulled', 'lights', 'taught', 'shine', 'showed', 'running', 'crowded', 'flitting', 'lighting', 'rise', 'rounding', 'whispered', 'answered', 'seized', 'talking', 'scolding', 'learned', 'built', 'hid', 'talked', 'met', 'ran', 'tipped', 'winged', 'kill', 'walked', 'shoot', 'coughed', 'chattered', 'laughed', 'fastened', 'leading', 'hidden', 'look', 'windward', 'flecked', 'fluttered', 'aimed', 'moved', 'stirred', 'rustled', 'started', 'listened', 'uplifted', 'meet', 'buzzed', 'stung', 'exulted', 'hailed', 'feasted', 'praised', 'grown', 'left', 'fallen', 'wore', 'smite', 'grind', 'round', 'tied', 'measured', 'questioned', 'living', 'fares', 'dressed', 'armed', 'wrought', 'strung', 'oaken', 'strode', 'burning', 'journeyed', 'crossed', 'passed', 'tossed', 'drifting', 'waiting', 'bring', 'listening', 'betrayed', 'is', 'paused', 'held', 'resolving', 'pluck', 'dissembled', 'touch', 'remembered', 'related', 'killed', 'trampled', 'confess', 'bowed', 'assented', 'threatening', 'rent', 'crushed', 'hurled', 'blew', 'dragged', 'hand', 'screamed', 'flapped', 'lashed', 'starting', 'stumbling', 'fighting', 'pursued', 'sinks', 'drops', 'prove', 'receive', 'cleanse', 'harms', 'clear', 'slay', 'slew', 'draws', 'share', 'fought', 'sees', 'scattered', 'growing', 'slackened', 'halted', 'purchase', 'leap', 'sharpened', 'frowned', 'flowing', 'named', 'peeping', 'glancing', 'hears', 'say', 'fill', 'told', 'reached', 'fasting', 'start', 'rattling', 'flying', 'depend', 'trailing', 'filling', 'pondered', 'scattering', 'swimming', 'approaching', 'wasted', 'features', 'pray', 'warn', 'instruct', 'gain', 'strove', 'struggled', 'smiling', 'sets', 'try', 'sinking', 'knew', 'leaving', 'fainting', 'reeling', 'comes', 'appearing', 'returning', 'taking', 'touches', 'fro', 'waved', 'nodded', 'give', 'conquer', 'fall', 'warm', 'strip', 'nodding', 'let', 'disturb', 'molest', 'haunt', 'watch', 'wake', 'slept', 'complaining', 'perched', 'rippling', 'subsided', 'imploring', 'bewailing', 'tasted', 'wait', 'setting', 'ended', 'fearing', 'fail', 'pointing', 'lengthened', 'dropped', 'floating', 'floats', 'beckoned', 'spun', 'leaped', 'struggles', 'flared', 'panting', 'palpitating', 'dishevelled', 'torn', 'tattered', 'commanded', 'stripped', 'accomplished', 'faded', 'shot', 'yellow', 'gathered', 'withered', 'singled', 'breed', 'pondering', 'contriving', 'melted', 'pity', 'ceased', 'flow', 'borrowed', 'softened', 'undying', 'allied', 'played', 'fished', 'hunted', 'entreated', 'besought', 'help', 'roaming', 'cowering', 'hanging', 'freezing', 'wring', 'dry', 'hung', 'dripping', 'wrung', 'breaking', 'snapped', 'led', 'marked', 'shut', 'barred', 'uprooted', 'forbidding', 'clamber', 'get', 'straightway', 'lighted', 'finished', 'cleared', 'sported', 'leaning', 'pitch', 'turning', 'poised', 'pitched', 'foaming', 'sailed', 'struggling', 'speaking', 'pausing', 'plunged', 'bubbling', 'followed', 'stayed', 'reappeared', 'build', 'float', 'need', 'behold', 'girdled', 'oozing', 'cleft', 'hewed', 'bind', 'enter', 'wet', 'shivered', 'tore', 'sewed', 'sobbed', 'rattled', 'smeared', 'gleaming', 'builded', 'floated', 'paddles', 'needed', 'glided', 'veered', 'dived', 'scouted', 'tugged', 'scooped', 'waded', 'catch', 'exulting', 'erected', 'fanned', 'winnowed', 'swept', 'guard', 'shoulders', 'projecting', 'sailing', 'wearied', 'tighten', 'frisking', 'wanted', 'whirled', 'gurgling', 'lifting', 'ringing', 'quivering', 'clashing', 'darted', 'flashing', 'opened', 'swallowed', 'plunges', 'groped', 'throbbing', 'gurgle', 'drag', 'chatted', 'gives', 'quivered', 'drifted', 'grated', 'grate', 'flapping', 'assembling', 'contending', 'glittering', 'widen', 'set', 'calling', 'released', 'pointed', 'feeding', 'drive', 'saved', 'toiling', 'alternate', 'burned', 'retreating', 'dwells', 'guarded', 'playing', 'descended', 'seek', 'sends', 'headed', 'smear', 'save', 'breathes', 'avenge', 'launched', 'patted', 'hurtled', 'coiled', 'breathing', 'weltering', 'anointed', 'rotting', 'shimmering', 'illumined', 'mislead', 'thrust', 'fixed', 'sank', 'heralded', 'fared', 'stared', 'tangled', 'landed', 'rested', 'pressed', 'jasperheaded', 'waits', 'clad', 'crested', 'streaming', 'hasten', 'stand', 'daunted', 'witnessed', 'lasted', 'hit', 'dealt', 'dash', 'wounded', 'rest', 'trailed', 'coated', 'aim', 'strike', 'flew', 'throw', 'struck', 'piercing', 'wears', 'wheeled', 'clamored', 'hovering', 'welcomed', 'adorned', 'shared', 'bends', 'obeys', 'follows', 'perplexed', 'hoping', 'dreaming', 'dissuading', 'like', 'move', 'lives', 'lodge', 'open', 'healed', 'striding', 'meadow', 'outran', 'resting', 'twixt', 'swerve', 'sped', 'thinking', 'buy', 'fight', 'lingered', 'praise', 'glowing', 'stooped', 'uprose', 'drink', 'continued', 'added', 'last', 'clasped', 'be', 'wishes', 'blushed', 'follow', 'fare', 'murmuring', 'flaunting', 'leads', 'checked', 'thought', 'swaying', 'travelling', 'watched', 'having', 'checkered', 'rule', 'polished', 'assembled', 'ate', 'caught', 'cooked', 'smoking', 'mixed', 'dance', 'please', 'fringed', 'ermine', 'embroidered', 'parted', 'plaited', 'danced', 'treading', 'spinning', 'leaping', 'eddying', 'whirling', 'became', 'sifted', 'heaping', 'beloved', 'feel', 'sings', 'drop', 'gleam', 'makes', 'smiles', 'smile', 'lose', 'beating', 'daring', 'done', 'trapped', 'dive', 'swim', 'carved', 'staining', 'flushed', 'reddened', 'trembles', 'suspended', 'passes', 'flouted', 'coughing', 'care', 'invited', 'stopped', 'murmur', 'praying', 'stumble', 'crumbling', 'wrinkled', 'transfigured', 'restored', 'tottered', 'soothed', 'lost', 'ascend', 'taste', 'stands', 'blessed', 'has', 'change', 'glimmer', 'glisten', 'comprehended', 'tremble', 'shake', 'kettles', 'thrushes', 'blackbirds', 'hopped', 'twittered', 'perked', 'strutted', 'unfolded', 'returned', 'transformed', 'swayed', 'alighted', 'hang', 'glistening', 'back', 'mocked', 'glimmers', 'yonder', 'twinkles', 'heed', 'darts', 'uses', 'delight', 'wafted', 'bringing', 'reassumed', 'remained', 'dancing', 'known', 'understand', 'jeer', 'learn', 'delighted', 'mean', 'wonder', 'think', 'sing', 'was', 'roved', 'worked', 'planted', 'bless', 'draw', 'protect', 'steals', 'shuts', 'walk', 'burrowing', 'clothed', 'wrapped', 'boast', 'dawned', 'stamps', 'risen', 'neighboring', 'clamor', 'settling', 'delving', 'perceived', 'imprisoned', 'quailed', 'destroyed', 'consecrated', 'spared', 'keep', 'sitting', 'croaking', 'kisses', 'ripened', 'bursting', 'gather', 'rejoicing', 'chattering', 'responded', 'husking', 'blighted', 'crept', 'limped', 'rang', 'croaked', 'die', 'reach', 'kindred', 'dwell', 'learns', 'betray', 'reveal', 'musing', 'suggested', 'depicted', 'creeping', 'darkened', 'did', 'wondering', 'interpreted', 'paint', 'inverted', 'chanted', 'colored', 'listens', 'eclipsed', 'dying', 'pierced', 'grasping', 'recorded', 'seated', 'represented', 'cast', 'lies', 'whisper', 'destroy', 'fear', 'roofed', 'hissed', 'heeding', 'drowned', 'lamenting', 'uttering', 'console', 'mingling', 'visit', 'appease', 'bearing', 'naught', 'uncovered', 'helps', 'blow', 'heal', 'replied', 'shakes', 'begin', 'tread', 'upstarting', 'awakened', 'summoned', 'forbade', 'telling', 'kindle', 'passing', 'bent', 'carried', 'moving', 'teaching', 'vexed', 'climbed', 'essayed', 'tried', 'cracked', 'shattered', 'disappeared', 'amuse', 'burnished', 'placed', 'jostled', 'exclaiming', 'explaining', 'counted', 'displayed', 'explained', 'plays', 'despoiled', 'glared', 'venture', 'heaped', 'burns', 'glowed', 'clutched', 'ring', 'carry', 'bid', 'hopping', 'screaming', 'piled', 'whistling', 'splashed', 'swam', 'hovered', 'brushed', 'slaughtered', 'slaying', 'muttered', 'attain', 'overtake', 'bounded', 'overflowed', 'spake', 'consult', 'matted', 'dashed', 'gleams', 'rustling', 'slide', 'arching', 'warning', 'sucked', 'vain', 'bruised', 'pounded', 'blowing', 'ere', 'panted', 'steering', 'brightened', 'shouting', 'happen', 'fled', 'buoyed', 'wheeling', 'struggle', 'regain', 'receding', 'survived', 'seize', 'gliding', 'giving', 'closed', 'sweeping', 'crouched', 'jutting', 'search', 'soar', 'sail', 'dared', 'strive', 'compete', 'plotted', 'conspired', 'tearing', 'rending', 'becomes', 'eaten', 'murder', 'rid', 'pierce', 'weapon', 'wound', 'smooth', 'motionless', 'glistened', 'skated', 'overhanging', 'soft', 'surrounded', 'wielded', 'tumbled', 'abandoned', 'swerved', 'roared', 'troubled', 'groaned', 'split', 'stoops', 'soaring', 'watching', 'pursues', 'scanning', 'strewn', 'gleamed', 'painting', 'uninvited', 'crouching', 'muttering', 'hooting', 'springing', 'asking', 'thanking', 'devoured', 'famished', 'do', 'delights', 'eat', 'unmoving', 'hunting', 'question', 'reproved', 'shown', 'endured', 'lessened', 'flickering', 'repeated', 'pushed', 'weeping', 'afflicted', 'sob', 'perchance', 'wronged', 'grieved', 'failed', 'sobbing', 'knows', 'heeds', 'bury', 'lack', 'grope', 'force', 'sought', 'perished', 'hollow', 'shuddered', 'maddened', 'froze', 'resounding', 'clasping', 'encumbered', 'rocking', 'moaning', 'moaned', 'extinguished', 'wear', 'waste', 'low', 'seeing', 'plumed', 'travelled', 'breathe', 'spring', 'rush', 'frowning', 'wither', 'wander', 'hide', 'lift', 'shoots', 'shrunk', 'dwindled', 'ascended', 'smouldered', 'speaks', 'piped', 'beholds', 'greet', 'swarms', 'stinging', 'welcome', 'hail', 'striving', 'feeling', 'warring', 'shone', 'reflected', 'flecks', 'rifted', 'extended', 'stranded', 'awaits', 'bloomed', 'blossom', 'removed', 'seem', 'stammering', 'labored', 'scourged', 'crucified', 'rippled', 'slumbered', 'simmering', 'searched', 'going', 'want', 'persuading', 'parting', 'shoved', 'dried', 'restore', 'inspire', 'thee', 'intends', 'prefer', 'brooding', 'assert', 'justifie', 'hides', 'transgress', 'aspiring', 'trusted', 'flaming', 'defie', 'measures', 'rowling', 'lasting', 'torments', 'throws', 'views', 'discover', 'hope', 'urges', 'fed', 'discerns', 'weltring', 'beest', 'outshine', 'hath', 'seest', 'inflict', 'repent', 'contend', 'dislike', 'preferring', 'submit', 'yield', 'overcome', 'extort', 'bow', 'sue', 'deifie', 'doubted', 'resolve', 'wage', 'guile', 'triumphs', 'holds', 'rackt', 'upheld', 'rue', 'remains', 'hav', 'support', 'suffice', 'work', 'avail', 'undergo', 'whereto', 'doing', 'ill', 'resist', 'pervert', 'succeed', 'grieve', 'spent', 'ceases', 'bellow', 'slip', 'satiate', 'casts', 'tend', 'harbour', 'reassembling', 'offend', 'sparkling', 'created', 'slumbring', 'deeming', 'invests', 'wished', 'stretcht', 'ruling', 'reiterated', 'shewn', 'rears', 'slope', 'expanded', 'stears', 'transports', 'conceiving', 'aid', 'glorying', 'dispose', 'brings', 'matter', 'reign', 'serve', 'astonisht', 'beelzebub', 'resume', 'revive', 'lye', 'erewhile', 'descry', 'equal', 'walkt', 'vaulted', 'inflamed', 'strow', 'vext', 'orethrew', 'covering', 'resounded', 'sieze', 'ye', 'repose', 'slumber', 'sworn', 'adore', 'discern', 'linked', 'arise', 'sprung', 'dread', 'perceave', 'warping', 'surrounding', 'direct', 'hast', 'blotted', 'got', 'wandring', 'corrupted', 'forsake', 'transform', 'fix', 'abide', 'thundring', 'self', 'affront', 'tears', 'cries', 'peor', 'wanton', 'cost', 'homicide', 'bordring', 'founded', 'choose', 'dilated', 'execute', 'forsook', 'bowing', 'sunk', 'paid', 'lament', 'infected', 'lopt', 'dreaded', 'disparage', 'displace', 'scape', 'bleating', 'turns', 'violence', 'flown', 'witness', 'yielded', 'prevent', 'usurping', 'ore', 'flocking', 'wonted', 'fainted', 'commands', 'full', 'upsent', 'thronging', 'serried', 'arming', 'wanting', 'mitigate', 'swage', 'chase', 'burnt', 'dazling', 'awaiting', 'impose', 'traverse', 'summs', 'resounds', 'charlemain', 'looks', 'sheds', 'considerate', 'flung', 'bend', 'enclose', 'assayd', 'weep', 'interwove', 'testifies', 'utter', 'foreseeing', 'presaging', 'beleeve', 'emptied', 'faile', 're', 'repossess', 'reigns', 'tempted', 'provoke', 'effected', 'overcomes', 'produce', 'intended', 'create', 'plant', 'favour', 'mature', 'understood', 'confirm', 'grasped', 'sounding', 'hurling', 'forerun', 'trench', 'admiring', 'aught', 'admire', 'deserve', 'outdone', 'perform', 'severing', 'boyling', 'fretted', 'inshrine', 'fixt', 'strait', 'yeilded', 'exalted', 'thrown', 'dewy', 'relate', 'sound', 'proclaim', 'squared', 'attended', 'ride', 'carreer', 'russling', 'expatiate', 'confer', 'seemd', 'surpass', 'fome', 'belated', 'dreams', 'sits', 'charm', 'rebounds', 'incorporeal', 'untaught', 'appear', 'trust', 'envy', 'exposes', 'aime', 'condemns', 'claim', 'covet', 'return', 'debate', 'advise', 'reckd', 'lingring', 'accept', 'invented', 'seems', 'scale', 'bethink', 'abhorred', 'exercise', 'torturing', 'expire', 'doubt', 'incense', 'consume', 'reduce', 'deeds', 'perswade', 'disswade', 'excels', 'counsels', 'grounds', 'render', 'bordering', 'scorning', 'confound', 'expel', 'purge', 'exasperate', 'spend', 'end', 'loose', 'swallowd', 'saves', 'punish', 'counsel', 'decreed', 'consulting', 'afflicting', 'shelter', 'plunge', 'arme', 'plague', 'spout', 'threatning', 'designing', 'exhorting', 'racking', 'wrapt', 'converse', 'disswades', 'deceive', 'derides', 'frustrate', 'doe', 'laugh', 'shrink', 'endure', 'sustain', 'remit', 'mind', 'offending', 'raging', 'stir', 'procure', 'belial', 'disinthrone', 'unthrone', 'everlasting', 'yeild', 'judge', 'argues', 'supream', 'suppose', 'relent', 'publish', 'celebrate', 'hate', 'reside', 'resembles', 'imitate', 'wants', 'raise', 'shew', 'become', 'needs', 'remove', 'invite', 'compose', 'dismissing', 'retain', 'blustring', 'faring', 'advising', 'renounce', 'changing', 'continue', 'dream', 'remaine', 'extend', 'inflicted', 'plotting', 'reap', 'rejoyce', 'suffering', 'invade', 'enterprize', 'rules', 'attempted', 'possess', 'driven', 'seduce', 'repenting', 'abolish', 'interrupt', 'partake', 'curse', 'hatching', 'pleaded', 'mingle', 'involve', 'spite', 'serves', 'vote', 'renews', 'neighbouring', 'chance', 'unvisited', 'breath', 'tempt', 'arrive', 'relies', 'oppose', 'undertake', 'red', 'hardie', 'proffer', 'devour', 'immures', 'prohibit', 'receives', 'deterre', 'attempting', 'assume', 'refuse', 'refusing', 'intend', 'ease', 'respite', 'slack', 'intermit', 'prevented', 'offer', 'erst', 'winning', 'earn', 'express', 'excites', 'rejoycing', 'tops', 'sleeps', 'renew', 'disagree', 'proclaiming', 'wasting', 'induce', 'accord', 'deafning', 'ranged', 'entertain', 'curb', 'shun', 'fronted', 'appears', 'rend', 'complain', 'enthrall', 'charms', 'foreknowledge', 'disgorge', 'styx', 'lethe', 'roules', 'drinks', 'forgets', 'gathers', 'parching', 'performs', 'footed', 'starve', 'ferry', 'wish', 'flies', 'roving', 'march', 'shuddring', 'agast', 'dies', 'scours', 'shaves', 'soares', 'touring', 'stemming', 'bounds', 'reaching', 'threefold', 'ceasing', 'rung', 'list', 'creep', 'parts', 'riding', 'labouring', 'outcast', 'scorn', 'enrage', 'least', 'unfelt', 'fires', 'hands', 'front', 'frownd', 'possesses', 'laughs', 'forgot', 'dim', 'swumm', 'flames', 'recoild', 'thy', 'viewing', 'arose', 'distorted', 'inbred', 'brandishing', 'overtook', 'dismaid', 'begot', 'yelling', 'surround', 'bred', 'gnaw', 'vex', 'forewarn', 'showst', 'mention', 'pretenses', 'expose', 'concurring', 'supply', 'haste', 'blest', 'bespake', 'forbidden', 'unlock', 'interpose', 'hates', 'art', 'thou', 'obey', 'rouling', 'redounding', 'levied', 'side', 'poise', 'adhere', 'imbroiles', 'governs', 'cross', 'compare', 'spreads', 'surging', 'spurns', 'failing', 'meets', 'unawares', 'fluttring', 'behoves', 'swims', 'vested', 'explore', 'som', 'travel', 'mine', 'faultring', 'overthrown', 'frighted', 'confounded', 'defend', 'weakning', 'stretching', 'spoil', 'staid', 'reply', 'wins', 'beset', 'betwixt', 'justling', 'following', 'boiling', 'perverse', 'glimmering', 'begins', 'retire', 'works', 'resembling', 'hies', 'ofspring', 'wert', 'invest', 'borne', 'reascend', 'revisit', 'thick', 'forget', 'feed', 'darkling', 'surrounds', 'presented', 'disperse', 'view', 'reaping', 'coasting', 'beholding', 'begotten', 'redound', 'wings', 'assay', 'glozing', 'ingrate', 'faild', 'accuse', 'foreknew', 'foreseen', 'trespass', 'remain', 'revoke', 'excel', 'elect', 'extoll', 'wherewith', 'resound', 'man', 'circumvented', 'obtain', 'fulfill', 'wilt', 'unmake', 'lapsed', 'forfeit', 'invites', 'cleer', 'place', 'persisting', 'neglect', 'blinded', 'exclude', 'disobeying', 'breaks', 'affecting', 'loosing', 'expiate', 'devote', 'pay', 'redeem', 'finds', 'unsought', 'offering', 'wreck', 'givn', 'vanted', 'lead', 'maugre', 'show', 'ruin', 'glut', 'attends', 'spare', 'guiltie', 'imputed', 'absolve', 'transplanted', 'satisfie', 'ransomd', 'outdoo', 'redeeme', 'degrade', 'enjoying', 'quitted', 'abounded', 'abounds', 'exalt', 'bide', 'summoning', 'proclaime', 'cited', 'rouse', 'sink', 'compass', 'honour', 'bloom', 'grows', 'shading', 'charming', 'introduce', 'waken', 'exempt', 'joine', 'veil', 'shines', 'rests', 'stop', 'disarraid', 'doome', 'perceive', 'doom', 'pitie', 'hymning', 'divides', 'chaos', 'gaines', 'ridge', 'dislodging', 'gorge', 'yeanling', 'seeking', 'dreamd', 'renownd', 'enjoy', 'roam', 'weighs', 'ascent', 'blows', 'wanderd', 'dawning', 'waking', 'meant', 'sayling', 'dare', 'aggravate', 'obtains', 'discovers', 'glistering', 'adornd', 'circling', 'bears', 'stayd', 'enquire', 'chearing', 'warms', 'lands', 'binde', 'mixt', 'gaze', 'objects', 'beaming', 'beginning', 'appeers', 'satan', 'interpreter', 'attend', 'drivn', 'repair', 'walks', 'thinks', 'tends', 'glorifie', 'reaches', 'heare', 'hasted', 'spirited', 'appointed', 'walles', 'renewing', 'fills', 'enlighten', 'checks', 'point', 'miss', 'requires', 'neglects', 'top', 'distract', 'wakes', 'ensue', 'fixes', 'surpassing', 'deservd', 'afford', 'sdeind', 'quit', 'paying', 'ow', 'forgetful', 'receivd', 'owing', 'pays', 'deals', 'flie', 'opens', 'forbids', 'boasting', 'groane', 'obtaine', 'swore', 'recant', 'reconcilement', 'bought', 'granting', 'begging', 'excluded', 'marrd', 'betraid', 'befall', 'branching', 'aire', 'inspires', 'gales', 'dispense', 'saile', 'entertaind', 'journied', 'tangling', 'perplext', 'drives', 'pen', 'unhoord', 'bolted', 'clomb', 'regaind', 'devising', 'value', 'stretchd', 'blooming', 'knowing', 'visiting', 'grasing', 'creeps', 'unite', 'quire', 'apply', 'aires', 'attune', 'gathring', 'journey', 'curles', 'honor', 'meer', 'seeming', 'naked', 'shund', 'loves', 'recommend', 'wholsom', 'chew', 'thirsted', 'scoop', 'brimming', 'mirth', 'wreathd', 'breaded', 'fild', 'ruminating', 'hasting', 'approaches', 'vanish', 'deliver', 'pittie', 'unpittied', 'unfould', 'thank', 'puts', 'wrong', 'wrongd', 'conquering', 'compels', 'abhorre', 'alights', 'fourfooted', 'mark', 'stalkes', 'chose', 'seise', 'eare', 'merited', 'performe', 'beare', 'knowst', 'possesse', 'prune', 'owe', 'remember', 'returnd', 'answering', 'staies', 'methought', 'turnd', 'lent', 'neerest', 'imbracing', 'swelling', 'impregns', 'shed', 'thir', 'excite', 'reject', 'learnt', 'dale', 'eevning', 'thwarts', 'shews', 'beware', 'approach', 'markt', 'discernd', 'sitst', 'lurk', 'arraying', 'accompanied', 'rode', 'unvaild', 'inclines', 'declares', 'takes', 'reform', 'overgrown', 'mock', 'require', 'lop', 'dropping', 'bids', 'bidst', 'ordains', 'conversing', 'glistring', 'fragrant', 'ascends', 'finish', 'regaine', 'extinguish', 'nourish', 'echoing', 'note', 'divide', 'mans', 'underfoot', 'haunted', 'smelling', 'deckt', 'endowd', 'likes', 'handed', 'wee', 'weene', 'talk', 'defaming', 'leaves', 'wedded', 'raunge', 'write', 'sin', 'blame', 'unbefitting', 'waves', 'issuing', 'watches', 'coast', 'part', 'calld', 'assaying', 'forge', 'inspiring', 'taint', 'discontented', 'ingendring', 'intent', 'starts', 'store', 'inflames', 'accost', 'soare', 'revolted', 'stoodst', 'rebuke', 'chaumping', 'discerne', 'disturbd', 'approve', 'violate', 'dwelling', 'finding', 'doomd', 'mightst', 'implies', 'follie', 'overthrew', 'returns', 'judges', 'scourge', 'blasting', 'volied', 'seconded', 'behooves', 'hazard', 'undertook', 'wing', 'spie', 'settle', 'hymne', 'cringe', 'pretending', 'professing', 'dissolve', 'dispossess', 'arreede', 'limits', 'appeer', 'scorne', 'waxing', 'expect', 'prevailing', 'sharpning', 'hemm', 'collecting', 'gon', 'rack', 'signe', 'ponders', 'kickt', 'spying', 'trample', 'mounted', 'morn', 'fuming', 'paints', 'extracting', 'morrows', 'warbling', 'sweetest', 'reignes', 'regard', 'desire', 'attracted', 'directed', 'wondring', 'locks', 'deigns', 'envie', 'withhold', 'pluckt', 'honourd', 'dearer', 'represent', 'forms', 'affirm', 'deny', 'retires', 'mimic', 'produces', 'methinks', 'didst', 'cloud', 'smells', 'cheard', 'offended', 'scarce', 'discovering', 'adoring', 'thine', 'declare', 'belong', 'crownst', 'arises', 'acknowledge', 'meetst', 'elements', 'mix', 'steaming', 'wave', 'dispels', 'firm', 'check', 'twines', 'adopted', 'adorn', 'designes', 'respit', 'warne', 'enemie', 'withstood', 'transgressing', 'pretend', 'delaid', 'obstruct', 'observes', 'appeering', 'speeds', 'enshrine', 'shade', 'mantling', 'skirted', 'thighes', 'dipt', 'guessd', 'flouring', 'pouring', 'womb', 'disrelish', 'voutsafe', 'goe', 'contain', 'bestow', 'multiplies', 'instructs', 'hallowd', 'hangs', 'storing', 'tribute', 'unsparing', 'crushes', 'tempers', 'infirme', 'autumn', 'perfet', 'descends', 'turn', 'doth', 'exhale', 'brush', 'varied', 'transubstantiate', 'transpires', 'excuse', 'exceeded', 'accepted', 'proceed', 'tending', 'aspire', 'convert', 'participate', 'entire', 'apprehend', 'persevere', 'disobedience', 'assure', 'tellst', 'consent', 'injoinst', 'surmounts', 'delineate', 'whoseop', 'appoint', 'disobeyes', 'smooths', 'own', 'ours', 'rubied', 'flows', 'outspred', 'dislodge', 'remembrest', 'impart', 'assemble', 'prepare', 'guides', 'burne', 'banded', 'concernes', 'trie', 'secure', 'quell', 'counterfeted', 'degrees', 'consist', 'govern', 'farr', 'expected', 'shalt', 'dispute', 'grant', 'equals', 'crownd', 'beseeching', 'besieging', 'intercept', 'alienate', 'spred', 'indulgent', 'bruise', 'devoted', 'devouring', 'uncreate', 'susteind', 'retorted', 'enters', 'veile', 'reflecting', 'reported', 'applauded', 'aided', 'pursuing', 'darken', 'rowl', 'command', 'ranks', 'skirt', 'weend', 'towring', 'strength', 'fails', 'trusting', 'win', 'deal', 'stepping', 'unguarded', 'defeat', 'unaided', 'err', 'allow', 'comst', 'errst', 'erring', 'excells', 'ministring', 'upstaid', 'forcing', 'shout', 'sounded', 'storming', 'clamour', 'madding', 'encountring', 'weild', 'arm', 'tormented', 'raunging', 'withstand', 'visage', 'uncreated', 'avenging', 'transact', 'join', 'decide', 'determine', 'entring', 'griding', 'bleed', 'annihilating', 'limb', 'condense', 'bellowing', 'annoy', 'blasted', 'seeks', 'deformed', 'recoyld', 'inducing', 'affect', 'sustaind', 'proves', 'deem', 'forme', 'closing', 'preserve', 'understanding', 'disclose', 'havoc', 'hewn', 'cloudie', 'free', 'availes', 'subdues', 'remiss', 'overturnes', 'invent', 'deserves', 'abound', 'devise', 'arguing', 'adusted', 'veins', 'descrie', 'pour', 'conjecture', 'drizling', 'ratling', 'barbd', 'instant', 'shaddowing', 'discharge', 'propound', 'scoffing', 'right', 'portending', 'suspense', 'throated', 'disgorging', 'evaded', 'relax', 'overthrow', 'fierce', 'propounded', 'compel', 'match', 'easie', 'derided', 'prompted', 'situate', 'loosning', 'invaded', 'shadowing', 'pent', 'strugling', 'wind', 'sinning', 'wrack', 'overspred', 'permitted', 'compute', 'suspend', 'manifest', 'deserved', 'despise', 'messiah', 'fulfil', 'resign', 'revolt', 'separate', 'sate', 'instinct', 'careering', 'inlaid', 'sparkles', 'twentie', 'imbodied', 'rallied', 'convince', 'availe', 'reclame', 'grieving', 'disdaining', 'cursed', 'belongs', 'appoints', 'envied', 'according', 'measure', 'helmed', 'root', 'ruining', 'incumberd', 'receavd', 'repaird', 'rowld', 'celebrated', 'measuring', 'rebelld', 'envies', 'profit', 'descend', 'guided', 'dismounted', 'purples', 'rapture', 'implores', 'shee', 'befell', 'interdicted', 'consorted', 'neer', 'redounded', 'doubts', 'concern', 'eyes', 'proceeded', 'differing', 'forewarne', 'bin', 'observe', 'yeelds', 'begun', 'magnifie', 'heares', 'delay', 'dismiss', 'recount', 'inferr', 'withheld', 'frequent', 'repaire', 'don', 'overshadowing', 'act', 'receave', 'maligne', 'diffuse', 'assault', 'circumscribe', 'void', 'downward', 'disparted', 'uncelebrated', 'exhaling', 'distemper', 'fermented', 'conceave', 'conglobing', 'troop', 'congregated', 'yeilding', 'waterd', 'ordaine', 'illuminate', 'surveying', 'sowd', 'retaine', 'guilds', 'augment', 'shedding', 'borrowing', 'spangling', 'generate', 'generated', 'oft', 'bended', 'play', 'shoares', 'callow', 'fledge', 'easing', 'arched', 'sounds', 'wonns', 'pasturing', 'pawing', 'streaking', 'swarming', 'builds', 'repeaed', 'correspond', 'worship', 'moves', 'intermixt', 'acts', 'tongue', 'impair', 'diminish', 'withdraw', 'seekes', 'lessen', 'allayd', 'attributed', 'consisting', 'officiate', 'reasoning', 'commit', 'attaines', 'describe', 'intermix', 'solve', 'learne', 'conceal', 'divulge', 'model', 'calculate', 'contrive', 'gird', 'guess', 'supposest', 'receaves', 'consider', 'inferrs', 'attribute', 'adde', 'resides', 'urge', 'admitting', 'presume', 'ascribe', 'rain', 'eate', 'allotted', 'animate', 'contribute', 'returnes', 'paces', 'feare', 'pleases', 'creatures', 'freed', 'roave', 'renders', 'somthing', 'relating', 'detaine', 'inviting', 'mute', 'formes', 'inquire', 'durst', 'enure', 'strong', 'reaking', 'name', 'livd', 'sliding', 'count', 'dye', 'incur', 'cowring', 'provided', 'partakes', 'ordering', 'sort', 'suite', 'bird', 'solace', 'beget', 'finde', 'expressing', 'imparted', 'streind', 'forming', 'disappeerd', 'deplore', 'abjure', 'forbear', 'extracted', 'forgoe', 'nature', 'blushing', 'transported', 'weake', 'excell', 'wills', 'degraded', 'consummate', 'contracted', 'deserts', 'needst', 'attributing', 'weigh', 'grounded', 'propagated', 'findst', 'loving', 'dost', 'consists', 'refines', 'representing', 'embrace', 'soul', 'depart', 'sway', 'admit', 'persevering', 'permitting', 'breach', 'deignes', 'dictates', 'dissect', 'tilting', 'damp', 'veild', 'meditated', 'hap', 'compassing', 'forewarnd', 'traversing', 'wraught', 'sleights', 'griefe', 'preferrd', 'reforming', 'concentring', 'extends', 'centring', 'joy', 'maistring', 'destroying', 'range', 'almightie', 'subjected', 'elude', 'glide', 'contended', 'incarnate', 'ambition', 'aspires', 'recoiles', 'reck', 'next', 'provokes', 'repaid', 'possessing', 'dawne', 'commune', 'ply', 'outgrew', 'labour', 'dress', 'climb', 'redress', 'object', 'intermits', 'wel', 'studie', 'promote', 'brute', 'irksom', 'circumvent', 'lend', 'shades', 'protects', 'lurks', 'guards', 'endures', 'repell', 'healing', 'dissuade', 'avoid', 'tempts', 'prooff', 'resent', 'avert', 'utmost', 'precedes', 'affronts', 'sticks', 'suspect', 'ordaind', 'creating', 'dictate', 'missinforme', 'forbid', 'keeping', 'attest', 'summon', 'words', 'shame', 'withdrew', 'desiring', 'repast', 'bushing', 'upstaies', 'spot', 'pleasing', 'tortures', 'recollects', 'beautie', 'fould', 'carbuncle', 'floted', 'transformd', 'shifts', 'lure', 'busied', 'rusling', 'bowd', 'rude', 'demurre', 'claims', 'graze', 'apprehended', 'roaving', 'tasting', 'longing', 'sated', 'degree', 'unwarie', 'disburden', 'mischief', 'elevates', 'brooking', 'ventring', 'atchieving', 'leade', 'hurt', 'removes', 'awe', 'putting', 'participating', 'proceeds', 'producing', 'eats', 'attains', 'import', 'sollicited', 'naming', 'communicated', 'profits', 'hinders', 'slunk', 'regarded', 'eating', 'diverted', 'adorne', 'misgave', 'prompt', 'addrest', 'restraind', 'obeying', 'joyne', 'permit', 'flushing', 'yeelded', 'recomforted', 'submitting', 'peril', 'coveting', 'recall', 'foretasted', 'tastes', 'inducement', 'repeate', 'ruind', 'exceeding', 'ingaging', 'emulate', 'affords', 'declaring', 'oblige', 'incurr', 'iterate', 'soothe', 'intoxicated', 'fansie', 'breeding', 'enflaming', 'dalliance', 'disport', 'exhilerating', 'plaid', 'destitute', 'counterfet', 'dazle', 'cover', 'girded', 'reproach', 'spreds', 'shunning', 'heate', 'girt', 'teares', 'intermitted', 'hadst', 'conclude', 'wandering', 'upbraided', 'lurking', 'attempt', 'overtrusting', 'restraint', 'brook', 'perverted', 'deceave', 'repulst', 'violated', 'prevail', 'speed', 'believing', 'presumes', 'sending', 'unfoulding', 'decree', 'temper', 'illustrate', 'counts', 'fan', 'sentence', 'detains', 'detect', 'conceale', 'attract', 'confessing', 'transferre', 'polluted', 'vitiated', 'groveling', 'triumpht', 'foretold', 'multiplie', 'concerning', 'thistles', 'taken', 'dust', 'returne', 'pittying', 'cloath', 'past', 'mixing', 'belching', 'thrives', 'provides', 'fit', 'drawes', 'prevailes', 'lag', 'sented', 'shoaling', 'beach', 'yoke', 'stearing', 'unweeting', 'escape', 'listning', 'fraught', 'unites', 'fortifie', 'overlay', 'glorie', 'dore', 'acquaint', 'depends', 'spreading', 'sufferd', 'rebounding', 'expecting', 'shape', 'blaze', 'expedite', 'increase', 'sharp', 'clung', 'entwining', 'supplanted', 'spoke', 'forked', 'exploding', 'imagining', 'scalding', 'delude', 'abstain', 'hatefullest', 'worn', 'humbling', 'encroaching', 'stuff', 'residing', 'infect', 'season', 'betook', 'impute', 'conniving', 'gratifie', 'lick', 'polluting', 'glutted', 'yawning', 'seal', 'extenuate', 'sorted', 'rowle', 'recompence', 'rounded', 'inhabited', 'avoided', 'pinching', 'scorching', 'zephir', 'abandond', 'becom', 'encrease', 'request', 'mould', 'sollicite', 'contest', 'refusd', 'cavil', 'mockt', 'torment', 'infinite', 'bereaving', 'perpetuitie', 'incorporate', 'disinherited', 'acquitted', 'fearst', 'concludes', 'lamented', 'mends', 'snare', 'persisted', 'cause', 'houshold', 'tresses', 'besaught', 'beg', 'clasp', 'bereave', 'betake', 'scarse', 'joyning', 'relented', 'faire', 'sustaine', 'feelst', 'alter', 'visited', 'committed', 'burden', 'recovering', 'miserable', 'embraces', 'languish', 'languishing', 'shivering', 'hopes', 'argue', 'refutes', 'evade', 'crush', 'proposest', 'double', 'cuts', 'reviling', 'earne', 'injure', 'pitying', 'means', 'shattering', 'cherish', 'grinde', 'flame', 'supplie', 'use', 'repairing', 'vvatering', 'contrite', 'pardon', 'sighs', 'pyrrha', 'missed', 'implanted', 'manuring', 'plead', 'reverse', 'yeeld', 'tainted', 'eternize', 'resignes', 'resorting', 'pronounced', 'defended', 'sorrows', 'denounce', 'faint', 'sorrowing', 'fright', 'faces', 'drouze', 'resalute', 'concerne', 'incline', 'assures', 'entitle', 'deserving', 'stray', 'enjoind', 'surprize', 'veils', 'dire', 'behest', 'reare', 'ranke', 'sight', 'interrupted', 'abides', 'tould', 'performing', 'wearie', 'stifling', 'breaths', 'afflicts', 'departing', 'appeerd', 'pile', 'michael', 'fomented', 'surmise', 'drencht', 'foresight', 'angola', 'geryons', 'ope', 'derive', 'sacrificing', 'gushing', 'sense', 'miserie', 'tended', 'wrested', 'obtruded', 'retaining', 'image', 'loathsom', 'reverence', 'outlive', 'reigne', 'waigh', 'prolong', 'rendring', 'livst', 'lookd', 'moovd', 'stops', 'transverse', 'treat', 'marriage', 'portends', 'polish', 'troule', 'roule', 'erelong', 'weepe', 'wield', 'mustring', 'tacks', 'exploded', 'mated', 'spoils', 'merits', 'beheldst', 'hated', 'roar', 'luxurie', 'allurd', 'preachd', 'mourns', 'gaining', 'hee', 'corrupt', 'spilt', 'coold', 'practice', 'degenerate', 'admonish', 'denouncing', 'powre', 'heave', 'usurp', 'adrift', 'attributes', 'abated', 'tripping', 'stopt', 'showr', 'relents', 'blot', 'drown', 'beast', 'com', 'flock', 'claming', 'joyns', 'tyrannize', 'marching', 'rase', 'sow', 'jangling', 'rises', 'storm', 'affirming', 'convey', 'pine', 'inordinate', 'upstart', 'permits', 'subjects', 'decline', 'deprives', 'select', 'believes', 'founted', 'reveald', 'sojourn', 'kills', 'spoile', 'denies', 'unshed', 'rouls', 'devours', 'overshadow', 'submits', 'humbles', 'swallows', 'lets', 'defends', 'trouble', 'craze', 'overwhelm', 'informing', 'meanes', 'achieve', 'deliverance', 'beseech', 'report', 'grants', 'instructed', 'foretell', 'voutsafes', 'overlaid', 'unmerited', 'evince', 'stirring', 'wilderness', 'provoking', 'prey', 'remembring', 'proclaims', 'discerning', 'finisher', 'joynes', 'foil', 'recure', 'fulfilling', 'slaine', 'nailes', 'revives', 'defeating', 'redeems', 'baptizing', 'washing', 'triumphing', 'surprise', 'reward', 'occasiond', 'men', 'deliverer', 'betide', 'deale', 'working', 'quench', 'supported', 'amaze', 'evangelize', 'turne', 'feigning', 'appropriating', 'unbuild', 'containe', 'overcoming', 'accomplishing', 'attaind', 'ground', 'vapour', 'parch', 'hastning', 'slow', 'outspread', 'justify', 'favoured', 'seduced', 'deceived', 'equalled', 'opposed', 'defy', 'vanquished', 'rolling', 'reserved', 'flamed', 'prepared', 'ordained', 'joined', 'proved', 'deify', 'racked', 'throned', 'embattled', 'replied:--', 'destined', 'recalled', 'received', 'warred', 'slumbering', 'foundered', 'chained', 'heaved', 'enraged', 'poured', 'steers', 'appeared', 'thundering', 'fuelled', 'involved', 'scaped', 'astonished', 'regained', 'foiled', 'raged', 'grovelling', 'entranced', 'abashed', 'obeyed', 'form', 'excelling', 'rased', 'roused', 'adored', 'profaned', 'besmeared', 'worshiped', 'enticed', 'enlarged', 'manacled', 'condensed', 'beguiled', 'allured', 'supposed', 'surveyed', 'mourned', 'maimed', 'shamed', 'reared', 'gained', 'abused', 'disguised', 'composed', 'doubled', 'grazed', 'exposed', 'confessed', 'reigned', 'ruled', 'roamed', 'dispelled', 'claimed', 'unfurled', 'emblazed', 'unmoved', 'charmed', 'ordered', 'sums', 'hardening', 'embodied', 'merit', 'baptized', 'observed', 'ruined', 'obscured', 'intrenched', 'condemned', 'amerced', 'scathed', 'assayed', 'thrice', 'shunned', 'provoked', 'despaired', 'resolved', 'clashed', 'hastened', 'enjoyed', 'ransacked', 'rifled', 'digged', 'sluiced', 'scummed', 'opening', 'sceptred', 'fabled', 'eve', 'availed', 'thronged', 'defied', 'swarmed', 'rubbed', 'straitened', 'reduced', 'displayed:--', 'oppressed', 'achieved', 'recovered', 'established', 'deemed', 'recked', 'spake:--', 'abolished', 'alarm', 'denounced', 'pleased', 'urged', 'awaked', 'transfixed', 'concealed', 'dissuades', 'expelled', 'punished', 'slacken', 'inured', 'conformed', 'disenthrone', 'overpower', 'imposed', 'obtained', 'unobscured', 'mustering', 'settled', 'blustering', 'doomed', 'determined', 'enslaved', 'rejoice', 'confirmed', 'endued', 'devised', 'proposed', 'sparkled', 'judged', 'deter', 'honoured', 'refused', 'despised', 'damned', 'varnished', 'shower', 'levy', 'dissolved', 'enclosed', 'deafening', 'waged', 'couch', 'crowned', 'retired', 'reasoned', 'argued', 'rolls', 'haled', 'infixed', 'shuddering', 'aghast', 'viewed', 'feigned', 'conceived', 'soars', 'towering', 'descried', 'impaled', 'barked', 'disturbed', 'bathing', 'lured', 'valued', 'asked', 'conjured', 'incensed', 'matched', 'spares', 'combined', 'recoiled', 'enamoured', 'dismayed', 'howl', 'tempered', 'surcharged', 'designed', 'embalmed', 'rejoiced', 'sire:--', 'confined', 'compassed', 'ranked', 'unnumbered', 'pealed', 'storms', 'fluttering', 'fathom', 'quenched', 'oar', 'purloined', 'bog', 'confused', 'assaults', 'plies', 'enthroned', 'embroiled', 'faltering', 'incomposed', 'art--', 'encroached', 'weakening', 'renewed', 'steered', 'tackle', 'roll', 'brooks', 'hearken', 'extol', 'spoken', 'soften', 'losing', 'intercessour', 'account', 'wreak', 'spoiled', 'disarmed', 'offered', 'satisfy', 'ransomed', 'outdo', 'destroys', 'arraigned', 'inwreathed', 'impurpled', 'tuned', 'dazzle', 'impressed', 'transfused', 'disarrayed', 'extolled', 'purposed', 'discerned', 'nought', 'dreamed', 'fields', 'renowned', 'strayed', 'crystalling', 'descries', 'arrived', 'scaled', 'gilds', 'seised', 'pole', 'famed', 'cheering', 'glazed', 'compared', 'imagined', 'drained', 'circled', 'employed', 'diffused', 'sprinkled', 'admonished', 'bestowed', 'unperceived', 'resigns', 'glorify', 'revenged', 'boils', 'sdeined', 'discharged', 'aspired', 'accursed', 'groan', 'dimmed', 'marred', 'practised', 'couched', 'disfigured', 'denied', 'enamelled', 'showered', 'cheered', 'entertained', 'disdained', 'prowling', 'unhoard', 'caused', 'watered', 'fount', 'grazing', 'interposed', 'lays', 'dispersed', 'kings', 'sanctitude', 'declared', 'implied', 'required', 'banished', 'boughs', 'damasked', 'ramped', 'gambolled', 'wreathed', 'bedward', 'secured', 'fenced', 'unpitied', 'unfold', 'abhor', 'excused', 'stalks', 'spied', 'ear', 'conferred', 'reposed', 'pined', 'stays', 'espied', 'flyest', 'excelled', 'unreproved', 'embracing', 'leaned', 'eyed', 'plained', 'scornful', 'exercised', 'fired', 'shows', 'described', 'ventured', 'knowest', 'promised', 'evening', 'unveiled', 'framed', 'sequestered', 'quires', 'endowed', 'avenged', 'starry', 'madest', 'observing', 'eased', 'ween', 'starved', 'repaired', 'escaped', 'dazzling', 'distempered', 'ingendering', 'discovered', 'rumoured', 'adjudged', 'undiminished', 'resemblest', 'reined', 'champing', 'quelled', 'approached', 'prescribed', 'recompense', 'bar', 'unlicensed', 'incurrest', 'alleged', 'vollied', 'spy', 'hymn', 'engaged', 'fawned', 'cringed', 'arreed', 'threatened', 'drawest', 'paved', 'sharpening', 'mooned', 'hem', 'ported', 'sways', 'alarmed', 'ensued', 'cope', 'weighed', 'kicked', 'sowed', 'waked', 'discomposed', 'espoused', 'laboured', 'orbed', 'distilled', 'plucked', 'chilled', 'vouched', 'overjoyed', 'impaired', 'quickened', 'outstretched', 'joining', 'disjoining', 'mimick', 'misjoining', 'disheartened', 'bosomed', 'wiped', 'kissed', 'circle', 'meetest', 'vary', 'spoused', 'deigned', 'hearest', 'designs', 'findest', 'fulfilled', 'delayed', 'veiled', 'kens', 'winnows', 'shadowed', 'feathered', 'tinctured', 'guessed', 'flowering', 'wantoned', 'vouchsafe', 'givers', 'disburthening', 'inspired', 'dispensed', 'contrived', 'strows', 'retinue', 'altered', 'unmeasured', 'sustained', 'perfect', 'sufficed', 'burdened', 'depraved', 'assigned', 'proportioned', 'improved', 'continuest', 'advised', 'deepest', 'applied', 'imblazed', 'imbosomed', 'disobeys', 'intervolved', 'exhaled', 'roseate', 'disposed', 'proclaimed', 'rememberest', 'infused', 'disincumbered', 'concerns', 'employ', 'counterfeited', 'engrossed', 'possessed', 'edict', 'condemn', 'sayest', 'circumscribed', 'angelick', 'transferred', 'begirt', 'echoed', 'encompassed', 'forsaken', 'vouchsafed', 'unpursued', 'unbarred', 'arrayed', 'maintained', 'approved', 'scorned', 'ardour', 'straitening', 'marched', 'tenfold', 'bristled', 'shields', 'portrayed', 'weened', 'advanced', 'whelmed', 'faith', 'comest', 'unanswered', 'trained', 'rebelled', 'enthralled', 'darest', 'brayed', 'encountering', 'limited', 'numbered', 'relied', 'ranging', 'felled', 'subdued', 'instilled', 'style', 'addressed', 'combat', 'writhed', 'humbled', 'refrained', 'mangled', 'redoubled', 'scorched', 'cancelled', 'dispraise', 'gored', 'sinned', 'disobeyed', 'pained', 'dislodged', 'contemned', 'avails', 'overturns', 'surveys', 'rammed', 'revived', 'admired', 'conveyed', 'lodged', 'drizzling', 'barbed', 'commanding', 'gaped', 'amused', 'belched', 'embowelled', 'forced', 'displode', 'stumbled', 'hightened', 'presumed', 'loosening', 'helped', 'encountered', 'performed', 'governed', 'expressed', 'declarest', 'lovest', 'convoyed', 'stored', 'bickering', 'blazed', 'circumfused', 'hardened', 'reclaim', 'visaged', 'disclosed', 'incumbered', 'revealed', 'unreined', 'visitest', 'forewarned', 'befel', 'charged', 'repealed', 'allayed', 'concerned', 'yields', 'interfused', 'absolved', 'magnify', 'infer', 'suppressed', 'dispossessed', 'retains', 'dispeopled', 'uncircumscribed', 'harnessed', 'centered', 'purged', 'conglobed', 'sojourned', 'softening', 'conceive', 'yielding', 'flowered', 'flourished', 'clustering', 'gemmed', 'rained', 'ordain', 'levelled', 'keeps', 'revolved', 'multiplied', 'jointed', 'wallowing', 'summed', 'wedge', 'branch', 'solaced', 'bathed', 'rows', 'coloured', 'solemnized', 'teemed', 'wons', 'den', 'calved', 'crumbled', 'upheaved', 'fleeced', 'gavest', 'becamest', 'deign', 'hallowed', 'intermixed', 'magnified', 'repelled', 'informed', 'entering', 'prospered', 'preferred', 'reckon', 'scanned', 'scribbled', 'infers', 'thinkest', 'fetch', 'enlightening', 'communicating', 'satisfied', 'rove', 'detain', 'inure', 'barricadoed', 'induced', 'reeking', 'perused', 'enlightened', 'pre', 'know.--', 'transgressed', 'implored', 'suit', 'propagate', 'deified', 'emboldened', 'strained', 'colloquy', 'dazzled', 'contained', 'forego', 'needest', 'managed', 'divulged', 'unfeigned', 'blamest', 'restrained', 'tragick', 'alienated', 'argument', 'quaint', 'foreworned', 'considered', 'mastering', 'styled', 'pry', 'constrained', 'down', 'soared', 'recoils', 'dawn', 'enjoined', 'unearned', 'motioned', 'study', 'debar', 'severed', 'repel', 'shaken', 'inform', 'enjoins', 'suborned', 'rely', 'surpassed', 'specked', 'unsustained', 'upstays', 'traversed', 'imbordered', 'conceives', 'overawed', 'debased', 'enfeebled', 'curled', 'licked', 'glozed', 'camest', 'commandest', 'chanced', 'defer', 'tempting', 'retained', 'compelled', 'succour', 'glistered', 'impassioned', 'attained', 'venturing', 'deterred', 'achieving', 'impregned', 'solicited', 'mused', 'befallen', 'ingorged', 'infamed', 'dieted', 'givest', 'derived', 'wondered', 'deprived', 'prevailed', 'unshared', 'relaxed', 'deflowered', 'loth', 'fickle', 'favours', 'engaging', 'menaced', 'unequalled', 'embraced', 'scrupled', 'loured', 'completing', 'sooth', 'inflaming', 'purveyed', 'abstained', 'refreshed', 'inflame', 'imbowered', 'exhilarating', 'strucken', 'star', 'counselled', 'estranged', 'hearkened', 'callest', 'happened', 'been', 'joyed', 'erred', 'hindered', 'repulsed', 'incurred', 'flattered', 'unfolding', 'train', 'declined', 'detains?--come', 'devolved', 'conceal.--', 'accused', 'transfer', 'verified', 'triumphed', 'clothe', 'appeased', 'prevails', 'snuffed', 'encamped', 'scented', 'upturned', 'dear', 'terrified', 'encreased', 'viewest', 'divined', 'impowered', 'fortify', 'victor', 'dismissed', 'assailed', 'paragoned', 'voyaged', 'protesting', 'horned', 'drear', 'ingendered', 'catched', 'parched', 'chewed', 'drugged', 'plagued', 'resumed', 'earned', 'gratify', 'gorged', 'produced', 'upturns', 'introduced']\n"
     ]
    }
   ],
   "source": [
    "nouns = []\n",
    "adjectives = []\n",
    "verbs = []\n",
    "\n",
    "for token in doc:\n",
    "    pos_tag = token.pos_\n",
    "    if pos_tag == 'NOUN' and token.text.lower() not in nouns and len(token.text)>=2 and \"'\" not in token.text:\n",
    "        nouns.append(token.text.lower())\n",
    "    elif pos_tag == 'ADJ' and token.text.lower() not in adjectives and len(token.text)>=2 and \"'\" not in token.text:\n",
    "        adjectives.append(token.text.lower())\n",
    "    elif pos_tag == 'VERB' and token.text.lower() not in verbs and len(token.text)>=2 and \"'\" not in token.text:\n",
    "        verbs.append(token.text.lower())\n",
    "\n",
    "\n",
    "print(\"Nouns:\", nouns)\n",
    "print(\"Adjectives:\", adjectives)\n",
    "print(\"Verbs:\", verbs)"
   ]
  },
  {
   "cell_type": "code",
   "execution_count": 469,
   "id": "306b1930",
   "metadata": {},
   "outputs": [
    {
     "data": {
      "text/plain": [
       "['The Song of Hiawatha is based on the legends and stories of',\n",
       " 'many North American Indian tribes',\n",
       " 'but especially those of the',\n",
       " 'Ojibway Indians of northern Michigan',\n",
       " 'They were collected by Henry Rowe Schoolcraft',\n",
       " 'Schoolcraft married Jane',\n",
       " 'and O-shau-gus-coday-way-qua (The Woman of the Green',\n",
       " 'who was a daughter of Waub-o-jeeg (The White Fisher)',\n",
       " 'who was Chief of the Ojibway tribe at La Pointe',\n",
       " 'Jane and her mother are credited with having researched',\n",
       " 'and compiled much of the material Schoolcraft',\n",
       " 'included in his Algic Researches (1839) and a revision published',\n",
       " 'in 1856 as The Myth of Hiawatha',\n",
       " 'It was this latter revision',\n",
       " 'that Longfellow used as the basis for The Song of Hiawatha',\n",
       " 'Longfellow began Hiawatha on June 25',\n",
       " 'he completed it',\n",
       " 'soon as the poem was  published its popularity was assured',\n",
       " 'it also was severely criticized as a plagiary of the',\n",
       " 'Finnish epic poem Kalevala',\n",
       " 'Longfellow made no secret of the',\n",
       " 'fact that he had used the meter of the Kalevala',\n",
       " 'but as for the',\n",
       " 'he openly gave credit to Schoolcraft in his notes to the',\n",
       " 'I would add a personal note here',\n",
       " \"My father's roots include\",\n",
       " 'Ojibway Indians: his mother',\n",
       " 'Margaret Caroline Davenport',\n",
       " 'daughter of Susan des Carreaux',\n",
       " 'O-gee-em-a-qua (The Chief Woman)',\n",
       " 'my mother used to rock me to sleep reading portions of',\n",
       " 'Hiawatha to me',\n",
       " 'Light me with your little candle',\n",
       " 'Ere upon my bed I lay me',\n",
       " 'Ere in sleep I close my eyelids',\n",
       " 'Should you ask me',\n",
       " 'whence these stories',\n",
       " 'Whence these legends and traditions',\n",
       " 'With the odors of the forest',\n",
       " 'With the dew and damp of meadows',\n",
       " 'With the curling smoke of wigwams',\n",
       " 'With the rushing of great rivers',\n",
       " 'With their frequent repetitions',\n",
       " 'And their wild reverberations',\n",
       " 'As of thunder in the mountains',\n",
       " 'I should answer',\n",
       " 'I should tell you',\n",
       " '\"From the forests and the prairies',\n",
       " 'From the great lakes of the Northland',\n",
       " 'From the land of the Ojibways',\n",
       " 'From the land of the Dacotahs',\n",
       " 'From the mountains',\n",
       " 'Where the heron',\n",
       " 'Feeds among the reeds and rushes',\n",
       " 'I repeat them as I heard them',\n",
       " 'From the lips of Nawadaha',\n",
       " 'the sweet singer',\n",
       " 'Should you ask where Nawadaha',\n",
       " 'Found these songs so wild and wayward',\n",
       " 'Found these legends and traditions',\n",
       " 'I should answer',\n",
       " 'I should tell you',\n",
       " '\"In the bird\\'s-nests of the forest',\n",
       " 'In the lodges of the beaver',\n",
       " 'In the hoofprint of the bison',\n",
       " 'In the eyry of the eagle',\n",
       " '\"All the wild-fowl sang them to him',\n",
       " 'In the moorlands and the fen-lands',\n",
       " 'In the melancholy marshes',\n",
       " 'The blue heron',\n",
       " 'And the grouse',\n",
       " 'If still further you should ask me',\n",
       " 'Tell us of this Nawadaha',\n",
       " 'I should answer your inquiries',\n",
       " 'Straightway in such words as follow',\n",
       " '\"In the vale of Tawasentha',\n",
       " 'In the green and silent valley',\n",
       " 'By the pleasant water-courses',\n",
       " 'Dwelt the singer Nawadaha',\n",
       " 'Round about the Indian village',\n",
       " 'Spread the meadows and the corn-fields',\n",
       " 'And beyond them stood the forest',\n",
       " 'Stood the groves of singing pine-trees',\n",
       " 'Green in Summer',\n",
       " 'white in Winter',\n",
       " '\"And the pleasant water-courses',\n",
       " 'You could trace them through the valley',\n",
       " 'By the rushing in the Spring-time',\n",
       " 'By the alders in the Summer',\n",
       " 'By the white fog in the Autumn',\n",
       " 'By the black line in the Winter',\n",
       " 'And beside them dwelt the singer',\n",
       " 'In the vale of Tawasentha',\n",
       " 'In the green and silent valley',\n",
       " '\"There he sang of Hiawatha',\n",
       " 'Sang his wondrous birth and being',\n",
       " 'How he prayed and how be fasted',\n",
       " 'How he lived',\n",
       " 'That the tribes of men might prosper',\n",
       " 'That he might advance his people',\n",
       " 'Ye who love the haunts of Nature',\n",
       " 'Love the sunshine of the meadow',\n",
       " 'Love the shadow of the forest',\n",
       " 'Love the wind among the branches',\n",
       " 'And the rain-shower and the snow-storm',\n",
       " 'And the rushing of great rivers',\n",
       " 'Through their palisades of pine-trees',\n",
       " 'And the thunder in the mountains',\n",
       " 'Whose innumerable echoes',\n",
       " 'Flap like eagles in their eyries',\n",
       " 'Listen to these wild traditions',\n",
       " 'To this Song of Hiawatha',\n",
       " \"Ye who love a nation's legends\",\n",
       " 'Love the ballads of a people',\n",
       " 'That like voices from afar off',\n",
       " 'Call to us to pause and listen',\n",
       " 'Speak in tones so plain and childlike',\n",
       " 'Scarcely can the ear distinguish',\n",
       " 'Whether they are sung or spoken',\n",
       " 'Listen to this Indian Legend',\n",
       " 'To this Song of Hiawatha',\n",
       " 'Ye whose hearts are fresh and simple',\n",
       " 'Who have faith in God and Nature',\n",
       " 'Who believe that in all ages',\n",
       " 'Every human heart is human',\n",
       " 'That in even savage bosoms',\n",
       " 'There are longings',\n",
       " 'For the good they comprehend not',\n",
       " 'That the feeble hands and helpless',\n",
       " 'Groping blindly in the darkness',\n",
       " \"Touch God's right hand in that darkness\",\n",
       " 'And are lifted up and strengthened',\n",
       " 'Listen to this simple story',\n",
       " 'To this Song of Hiawatha',\n",
       " 'in your rambles',\n",
       " 'Through the green lanes of the country',\n",
       " 'Where the tangled barberry-bushes',\n",
       " 'Hang their tufts of crimson berries',\n",
       " 'Over stone walls gray with mosses',\n",
       " 'Pause by some neglected graveyard',\n",
       " 'For a while to muse',\n",
       " 'On a half-effaced inscription',\n",
       " 'Written with little skill of song-craft',\n",
       " 'but each letter',\n",
       " 'Full of hope and yet of heart-break',\n",
       " 'Full of all the tender pathos',\n",
       " 'Stay and read this rude inscription',\n",
       " 'Read this Song of Hiawatha',\n",
       " 'On the great Red Pipe-stone Quarry',\n",
       " 'He the Master of Life',\n",
       " 'On the red crags of the quarry',\n",
       " 'and called the nations',\n",
       " 'Called the tribes of men together',\n",
       " 'From his footprints flowed a river',\n",
       " 'Leaped into the light of morning',\n",
       " \"O'er the precipice plunging downward\",\n",
       " 'Gleamed like Ishkoodah',\n",
       " 'And the Spirit',\n",
       " 'With his finger on the meadow',\n",
       " 'Traced a winding pathway for it',\n",
       " 'Saying to it',\n",
       " '\"Run in this way',\n",
       " 'From the red stone of the quarry',\n",
       " 'With his hand he broke a fragment',\n",
       " 'Moulded it into a pipe-head',\n",
       " 'Shaped and fashioned it with figures',\n",
       " 'From the margin of the river',\n",
       " 'Took a long reed for a pipe-stem',\n",
       " 'With its dark green leaves upon it',\n",
       " 'Filled the pipe with bark of willow',\n",
       " 'With the bark of the red willow',\n",
       " 'Breathed upon the neighboring forest',\n",
       " 'Made its great boughs chafe together',\n",
       " 'Till in flame they burst and kindled',\n",
       " 'And erect upon the mountains',\n",
       " 'Smoked the calumet',\n",
       " 'As a signal to the nations',\n",
       " 'And the smoke rose slowly',\n",
       " 'Through the tranquil air of morning',\n",
       " 'First a single line of darkness',\n",
       " 'Then a denser',\n",
       " 'Then a snow-white cloud unfolding',\n",
       " 'Like the tree-tops of the forest',\n",
       " 'Till it touched the top of heaven',\n",
       " 'Till it broke against the heaven',\n",
       " 'And rolled outward all around it',\n",
       " 'From the groves of Tuscaloosa',\n",
       " 'From the far-off Rocky Mountains',\n",
       " 'From the Northern lakes and rivers',\n",
       " 'All the tribes beheld the signal',\n",
       " 'Saw the distant smoke ascending',\n",
       " 'And the Prophets of the nations',\n",
       " 'By the signal of the Peace-Pipe',\n",
       " 'Bending like a wand of willow',\n",
       " 'Waving like a hand that beckons',\n",
       " 'Calls the tribes of men together',\n",
       " 'Calls the warriors to his council',\n",
       " 'Down the rivers',\n",
       " \"o'er the prairies\",\n",
       " 'Came the warriors of the nations',\n",
       " 'All the warriors drawn together',\n",
       " 'By the signal of the Peace-Pipe',\n",
       " 'To the great Red Pipe-stone Quarry',\n",
       " 'And they stood there on the meadow',\n",
       " 'With their weapons and their war-gear',\n",
       " 'Painted like the leaves of Autumn',\n",
       " 'Painted like the sky of morning',\n",
       " 'Wildly glaring at each other',\n",
       " 'In their faces stern defiance',\n",
       " 'In their hearts the feuds of ages',\n",
       " 'The hereditary hatred',\n",
       " 'The ancestral thirst of vengeance',\n",
       " 'The creator of the nations',\n",
       " 'Looked upon them with compassion',\n",
       " 'With paternal love and pity',\n",
       " 'Looked upon their wrath and wrangling',\n",
       " 'But as quarrels among children',\n",
       " 'But as feuds and fights of children',\n",
       " 'Over them he stretched his right hand',\n",
       " 'To subdue their stubborn natures',\n",
       " 'To allay their thirst and fever',\n",
       " 'By the shadow of his right hand',\n",
       " 'Spake to them with voice majestic',\n",
       " 'As the sound of far-off waters',\n",
       " 'Falling into deep abysses',\n",
       " 'spake in this wise:',\n",
       " '\"O my children',\n",
       " 'my poor children',\n",
       " 'Listen to the words of wisdom',\n",
       " 'Listen to the words of warning',\n",
       " 'From the lips of the Great Spirit',\n",
       " 'From the Master of Life',\n",
       " 'who made you',\n",
       " '\"I have given you lands to hunt in',\n",
       " 'I have given you streams to fish in',\n",
       " 'I have given you bear and bison',\n",
       " 'I have given you roe and reindeer',\n",
       " 'I have given you brant and beaver',\n",
       " 'Filled the marshes full of wild-fowl',\n",
       " 'Filled the rivers full of fishes:',\n",
       " 'Why then are you not contented',\n",
       " 'Why then will you hunt each other',\n",
       " '\"I am weary of your quarrels',\n",
       " 'Weary of your wars and bloodshed',\n",
       " 'Weary of your prayers for vengeance',\n",
       " 'Of your wranglings and dissensions',\n",
       " 'All your strength is in your union',\n",
       " 'All your danger is in discord',\n",
       " 'Therefore be at peace henceforward',\n",
       " 'And as brothers live together',\n",
       " '\"I will send a Prophet to you',\n",
       " 'A Deliverer of the nations',\n",
       " 'Who shall guide you and shall teach you',\n",
       " 'Who shall toil and suffer with you',\n",
       " 'If you listen to his counsels',\n",
       " 'You will multiply and prosper',\n",
       " 'If his warnings pass unheeded',\n",
       " 'You will fade away and perish',\n",
       " '\"Bathe now in the stream before you',\n",
       " 'Wash the war-paint from your faces',\n",
       " 'Wash the blood-stains from your fingers',\n",
       " 'Bury your war-clubs and your weapons',\n",
       " 'Break the red stone from this quarry',\n",
       " 'Mould and make it into Peace-Pipes',\n",
       " 'Take the reeds that grow beside you',\n",
       " 'Deck them with your brightest feathers',\n",
       " 'Smoke the calumet together',\n",
       " 'And as brothers live henceforward',\n",
       " 'Then upon the ground the warriors',\n",
       " 'Threw their cloaks and shirts of deer-skin',\n",
       " 'Threw their weapons and their war-gear',\n",
       " 'Leaped into the rushing river',\n",
       " 'Washed the war-paint from their faces',\n",
       " 'Clear above them flowed the water',\n",
       " 'Clear and limpid from the footprints',\n",
       " 'Of the Master of Life descending',\n",
       " 'Dark below them flowed the water',\n",
       " 'Soiled and stained with streaks of crimson',\n",
       " 'As if blood were mingled with it',\n",
       " 'From the river came the warriors',\n",
       " 'Clean and washed from all their war-paint',\n",
       " 'On the banks their clubs they buried',\n",
       " 'Buried all their warlike weapons',\n",
       " 'The Great Spirit',\n",
       " 'Smiled upon his helpless children',\n",
       " 'And in silence all the warriors',\n",
       " 'Broke the red stone of the quarry',\n",
       " 'Smoothed and formed it into Peace-Pipes',\n",
       " 'Broke the long reeds by the river',\n",
       " 'Decked them with their brightest feathers',\n",
       " 'And departed each one homeward',\n",
       " 'While the Master of Life',\n",
       " 'Through the opening of cloud-curtains',\n",
       " 'Through the doorways of the heaven',\n",
       " 'Vanished from before their faces',\n",
       " 'In the smoke that rolled around him',\n",
       " 'Cried the warriors',\n",
       " 'cried the old men',\n",
       " 'When he came in triumph homeward',\n",
       " 'With the sacred Belt of Wampum',\n",
       " 'From the regions of the North-Wind',\n",
       " 'From the kingdom of Wabasso',\n",
       " 'From the land of the White Rabbit',\n",
       " 'He had stolen the Belt of Wampum',\n",
       " 'From the neck of Mishe-Mokwa',\n",
       " 'From the Great Bear of the mountains',\n",
       " 'From the terror of the nations',\n",
       " 'As he lay asleep and cumbrous',\n",
       " 'On the summit of the mountains',\n",
       " 'Like a rock with mosses on it',\n",
       " 'Spotted brown and gray with mosses',\n",
       " 'Silently he stole upon him',\n",
       " 'Till the red nails of the monster',\n",
       " 'Almost touched him',\n",
       " 'almost scared him',\n",
       " 'Till the hot breath of his nostrils',\n",
       " 'Warmed the hands of Mudjekeewis',\n",
       " 'As he drew the Belt of Wampum',\n",
       " 'Over the round ears',\n",
       " 'that heard not',\n",
       " 'Over the small eyes',\n",
       " 'that saw not',\n",
       " 'Over the long nose and nostrils',\n",
       " 'The black muffle of the nostrils',\n",
       " 'Out of which the heavy breathing',\n",
       " 'Warmed the hands of Mudjekeewis',\n",
       " 'Then he swung aloft his war-club',\n",
       " 'Shouted loud and long his war-cry',\n",
       " 'Smote the mighty Mishe-Mokwa',\n",
       " 'In the middle of the forehead',\n",
       " 'Right between the eyes he smote him',\n",
       " 'With the heavy blow bewildered',\n",
       " 'Rose the Great Bear of the mountains',\n",
       " 'But his knees beneath him trembled',\n",
       " 'And he whimpered like a woman',\n",
       " 'As he reeled and staggered forward',\n",
       " 'As he sat upon his haunches',\n",
       " 'And the mighty Mudjekeewis',\n",
       " 'Standing fearlessly before him',\n",
       " 'Taunted him in loud derision',\n",
       " 'Spake disdainfully in this wise:',\n",
       " 'you are a coward',\n",
       " 'And no Brave',\n",
       " 'as you pretended',\n",
       " 'Else you would not cry and whimper',\n",
       " 'Like a miserable woman',\n",
       " 'you know our tribes are hostile',\n",
       " 'Long have been at war together',\n",
       " 'Now you find that we are strongest',\n",
       " 'You go sneaking in the forest',\n",
       " 'You go hiding in the mountains',\n",
       " 'Had you conquered me in battle',\n",
       " 'Not a groan would I have uttered',\n",
       " 'sit here and whimper',\n",
       " 'And disgrace your tribe by crying',\n",
       " 'Like a wretched Shaugodaya',\n",
       " 'Like a cowardly old woman',\n",
       " 'Then again he raised his war-club',\n",
       " 'Smote again the Mishe-Mokwa',\n",
       " 'In the middle of his forehead',\n",
       " 'Broke his skull',\n",
       " 'as ice is broken',\n",
       " 'When one goes to fish in Winter',\n",
       " 'Thus was slain the Mishe-Mokwa',\n",
       " 'He the Great Bear of the mountains',\n",
       " 'He the terror of the nations',\n",
       " 'With a shout exclaimed the people',\n",
       " 'Henceforth he shall be the West-Wind',\n",
       " 'And hereafter and forever',\n",
       " 'Shall he hold supreme dominion',\n",
       " 'Over all the winds of heaven',\n",
       " 'Call him no more Mudjekeewis',\n",
       " 'Thus was Mudjekeewis chosen',\n",
       " 'For himself he kept the West-Wind',\n",
       " 'Gave the others to his children',\n",
       " 'Unto Wabun gave the East-Wind',\n",
       " 'And the North-Wind',\n",
       " 'wild and cruel',\n",
       " 'To the fierce Kabibonokka',\n",
       " 'Young and beautiful was Wabun',\n",
       " 'He it was who brought the morning',\n",
       " 'He it was whose silver arrows',\n",
       " \"Chased the dark o'er hill and valley\",\n",
       " 'He it was whose cheeks were painted',\n",
       " 'With the brightest streaks of crimson',\n",
       " 'And whose voice awoke the village',\n",
       " 'Called the deer',\n",
       " 'and called the hunter',\n",
       " 'Though the birds sang gayly to him',\n",
       " 'Though the wild-flowers of the meadow',\n",
       " 'Filled the air with odors for him',\n",
       " 'Though the forests and the rivers',\n",
       " 'Sang and shouted at his coming',\n",
       " 'Still his heart was sad within him',\n",
       " 'For he was alone in heaven',\n",
       " 'But one morning',\n",
       " 'While the village still was sleeping',\n",
       " 'And the fog lay on the river',\n",
       " 'Like a ghost',\n",
       " 'that goes at sunrise',\n",
       " 'He beheld a maiden walking',\n",
       " 'All alone upon a meadow',\n",
       " 'Gathering water-flags and rushes',\n",
       " 'By a river in the meadow',\n",
       " 'Still the first thing he beheld there',\n",
       " 'Was her blue eyes looking at him',\n",
       " 'Two blue lakes among the rushes',\n",
       " 'And he loved the lonely maiden',\n",
       " 'Who thus waited for his coming',\n",
       " 'For they both were solitary',\n",
       " 'She on earth and he in heaven',\n",
       " 'And he wooed her with caresses',\n",
       " 'Wooed her with his smile of sunshine',\n",
       " 'With his flattering words he wooed her',\n",
       " 'With his sighing and his singing',\n",
       " 'Gentlest whispers in the branches',\n",
       " 'Till he drew her to his bosom',\n",
       " 'Folded in his robes of crimson',\n",
       " 'Till into a star he changed her',\n",
       " 'Trembling still upon his bosom',\n",
       " 'And forever in the heavens',\n",
       " 'They are seen together walking',\n",
       " 'But the fierce Kabibonokka',\n",
       " 'Had his dwelling among icebergs',\n",
       " 'In the everlasting snow-drifts',\n",
       " 'In the kingdom of Wabasso',\n",
       " 'In the land of the White Rabbit',\n",
       " 'He it was whose hand in Autumn',\n",
       " 'Painted all the trees with scarlet',\n",
       " 'Stained the leaves with red and yellow',\n",
       " 'He it was who sent the snow-flake',\n",
       " 'hissing through the forest',\n",
       " 'Froze the ponds',\n",
       " 'Drove the loon and sea-gull southward',\n",
       " 'Drove the cormorant and curlew',\n",
       " 'To their nests of sedge and sea-tang',\n",
       " 'In the realms of Shawondasee',\n",
       " 'Once the fierce Kabibonokka',\n",
       " 'Issued from his lodge of snow-drifts',\n",
       " 'From his home among the icebergs',\n",
       " 'And his hair',\n",
       " 'with snow besprinkled',\n",
       " 'Streamed behind him like a river',\n",
       " 'Like a black and wintry river',\n",
       " 'As he howled and hurried southward',\n",
       " 'Over frozen lakes and moorlands',\n",
       " 'There among the reeds and rushes',\n",
       " 'Found he Shingebis',\n",
       " 'Trailing strings of fish behind him',\n",
       " \"O'er the frozen fens and moorlands\",\n",
       " 'Lingering still among the moorlands',\n",
       " 'Though his tribe had long departed',\n",
       " 'To the land of Shawondasee',\n",
       " 'Cried the fierce Kabibonokka',\n",
       " '\"Who is this that dares to brave me',\n",
       " 'Dares to stay in my dominions',\n",
       " 'When the Wawa has departed',\n",
       " 'When the wild-goose has gone southward',\n",
       " 'And the heron',\n",
       " 'Long ago departed southward',\n",
       " 'I will go into his wigwam',\n",
       " 'I will put his smouldering fire out',\n",
       " 'And at night Kabibonokka',\n",
       " 'To the lodge came wild and wailing',\n",
       " 'Heaped the snow in drifts about it',\n",
       " 'Shouted down into the smoke-flue',\n",
       " 'Shook the lodge-poles in his fury',\n",
       " 'Flapped the curtain of the door-way',\n",
       " 'Four great logs had he for firewood',\n",
       " 'One for each moon of the winter',\n",
       " 'And for food the fishes served him',\n",
       " 'By his blazing fire he sat there',\n",
       " 'Warm and merry',\n",
       " 'You are but my fellow-mortal',\n",
       " 'Then Kabibonokka entered',\n",
       " 'And though Shingebis',\n",
       " 'Felt his presence by the coldness',\n",
       " 'Felt his icy breath upon him',\n",
       " 'Still he did not cease his singing',\n",
       " 'Still he did not leave his laughing',\n",
       " 'Only turned the log a little',\n",
       " 'Only made the fire burn brighter',\n",
       " 'Made the sparks fly up the smoke-flue',\n",
       " \"From Kabibonokka's forehead\",\n",
       " 'From his snow-besprinkled tresses',\n",
       " 'Drops of sweat fell fast and heavy',\n",
       " 'Making dints upon the ashes',\n",
       " 'As along the eaves of lodges',\n",
       " 'As from drooping boughs of hemlock',\n",
       " 'Drips the melting snow in spring-time',\n",
       " 'Making hollows in the snow-drifts',\n",
       " 'Till at last he rose defeated',\n",
       " 'Could not bear the heat and laughter',\n",
       " 'Could not bear the merry singing',\n",
       " 'But rushed headlong through the door-way',\n",
       " 'Stamped upon the crusted snow-drifts',\n",
       " 'Stamped upon the lakes and rivers',\n",
       " 'Made the snow upon them harder',\n",
       " 'Made the ice upon them thicker',\n",
       " 'To come forth and wrestle with him',\n",
       " 'To come forth and wrestle naked',\n",
       " 'On the frozen fens and moorlands',\n",
       " 'Forth went Shingebis',\n",
       " 'Wrestled all night with the North-Wind',\n",
       " 'Wrestled naked on the moorlands',\n",
       " 'With the fierce Kabibonokka',\n",
       " 'Till his panting breath grew fainter',\n",
       " 'Till his frozen grasp grew feebler',\n",
       " 'Till he reeled and staggered backward',\n",
       " 'To the kingdom of Wabasso',\n",
       " 'To the land of the White Rabbit',\n",
       " 'Hearing still the gusty laughter',\n",
       " 'You are but my fellow-mortal',\n",
       " 'fat and lazy',\n",
       " 'Had his dwelling far to southward',\n",
       " 'In the drowsy',\n",
       " 'In the never-ending Summer',\n",
       " 'He it was who sent the wood-birds',\n",
       " 'Sent the robin',\n",
       " 'Sent the bluebird',\n",
       " 'Sent the Shawshaw',\n",
       " 'sent the swallow',\n",
       " 'Sent the wild-goose',\n",
       " 'Sent the melons and tobacco',\n",
       " 'And the grapes in purple clusters',\n",
       " 'From his pipe the smoke ascending',\n",
       " 'Filled the sky with haze and vapor',\n",
       " 'Filled the air with dreamy softness',\n",
       " 'Gave a twinkle to the water',\n",
       " 'Touched the rugged hills with smoothness',\n",
       " 'Brought the tender Indian Summer',\n",
       " 'To the melancholy north-land',\n",
       " 'In the dreary Moon of Snow-shoes',\n",
       " 'In his life he had one shadow',\n",
       " 'In his heart one sorrow had he',\n",
       " 'as he was gazing northward',\n",
       " 'Far away upon a prairie',\n",
       " 'He beheld a maiden standing',\n",
       " 'Saw a tall and slender maiden',\n",
       " 'All alone upon a prairie',\n",
       " 'Brightest green were all her garments',\n",
       " 'And her hair was like the sunshine',\n",
       " 'Day by day he gazed upon her',\n",
       " 'Day by day he sighed with passion',\n",
       " 'Day by day his heart within him',\n",
       " 'Grew more hot with love and longing',\n",
       " 'For the maid with yellow tresses',\n",
       " 'But he was too fat and lazy',\n",
       " 'To bestir himself and woo her',\n",
       " 'too indolent and easy',\n",
       " 'To pursue her and persuade her',\n",
       " 'So he only gazed upon her',\n",
       " 'Only sat and sighed with passion',\n",
       " 'For the maiden of the prairie',\n",
       " 'Till one morning',\n",
       " 'He beheld her yellow tresses',\n",
       " \"Changed and covered o'er with whiteness\",\n",
       " 'Covered as with whitest snow-flakes',\n",
       " 'my brother from the North-land',\n",
       " 'From the kingdom of Wabasso',\n",
       " 'From the land of the White Rabbit',\n",
       " 'You have stolen the maiden from me',\n",
       " 'You have laid your hand upon her',\n",
       " 'You have wooed and won my maiden',\n",
       " 'With your stories of the North-land',\n",
       " 'Thus the wretched Shawondasee',\n",
       " 'Breathed into the air his sorrow',\n",
       " \"And the South-Wind o'er the prairie\",\n",
       " 'Wandered warm with sighs of passion',\n",
       " 'With the sighs of Shawondasee',\n",
       " 'Till the air seemed full of snow-flakes',\n",
       " 'Full of thistle-down the prairie',\n",
       " 'And the maid with hair like sunshine',\n",
       " 'Vanished from his sight forever',\n",
       " 'Never more did Shawondasee',\n",
       " 'See the maid with yellow tresses',\n",
       " \"'T was no woman that you gazed at\",\n",
       " \"'T was no maiden that you sighed for\",\n",
       " \"'T was the prairie dandelion\",\n",
       " 'That through all the dreamy Summer',\n",
       " 'You had gazed at with such longing',\n",
       " 'You had sighed for with such passion',\n",
       " 'And had puffed away forever',\n",
       " 'Blown into the air with sighing',\n",
       " 'Thus the Four Winds were divided',\n",
       " 'Thus the sons of Mudjekeewis',\n",
       " 'Had their stations in the heavens',\n",
       " 'At the corners of the heavens',\n",
       " 'For himself the West-Wind only',\n",
       " 'Kept the mighty Mudjekeewis',\n",
       " 'Downward through the evening twilight',\n",
       " 'In the days that are forgotten',\n",
       " 'In the unremembered ages',\n",
       " 'From the full moon fell Nokomis',\n",
       " 'Fell the beautiful Nokomis',\n",
       " 'She a wife',\n",
       " 'but not a mother',\n",
       " 'She was sporting with her women',\n",
       " 'Swinging in a swing of grape-vines',\n",
       " 'When her rival the rejected',\n",
       " 'Full of jealousy and hatred',\n",
       " 'Cut the leafy swing asunder',\n",
       " 'Cut in twain the twisted grape-vines',\n",
       " 'And Nokomis fell affrighted',\n",
       " 'Downward through the evening twilight',\n",
       " 'On the Muskoday',\n",
       " 'On the prairie full of blossoms',\n",
       " 'a star falls',\n",
       " '\" said the people',\n",
       " '\"From the sky a star is falling',\n",
       " 'There among the ferns and mosses',\n",
       " 'There among the prairie lilies',\n",
       " 'On the Muskoday',\n",
       " 'In the moonlight and the starlight',\n",
       " 'Fair Nokomis bore a daughter',\n",
       " 'And she called her name Wenonah',\n",
       " 'As the first-born of her daughters',\n",
       " 'And the daughter of Nokomis',\n",
       " 'Grew up like the prairie lilies',\n",
       " 'Grew a tall and slender maiden',\n",
       " 'With the beauty of the moonlight',\n",
       " 'With the beauty of the starlight',\n",
       " 'And Nokomis warned her often',\n",
       " 'and oft repeating',\n",
       " 'beware of Mudjekeewis',\n",
       " 'Listen not to what he tells you',\n",
       " 'Lie not down upon the meadow',\n",
       " 'Stoop not down among the lilies',\n",
       " 'Lest the West-Wind come and harm you',\n",
       " 'But she heeded not the warning',\n",
       " 'Heeded not those words of wisdom',\n",
       " 'And the West-Wind came at evening',\n",
       " \"Walking lightly o'er the prairie\",\n",
       " 'Whispering to the leaves and blossoms',\n",
       " 'Bending low the flowers and grasses',\n",
       " 'Found the beautiful Wenonah',\n",
       " 'Lying there among the lilies',\n",
       " 'Wooed her with his words of sweetness',\n",
       " 'Wooed her with his soft caresses',\n",
       " 'Till she bore a son in sorrow',\n",
       " 'Bore a son of love and sorrow',\n",
       " 'Thus was born my Hiawatha',\n",
       " 'Thus was born the child of wonder',\n",
       " 'But the daughter of Nokomis',\n",
       " \"Hiawatha's gentle mother\",\n",
       " 'In her anguish died deserted',\n",
       " 'By the West-Wind',\n",
       " 'false and faithless',\n",
       " 'By the heartless Mudjekeewis',\n",
       " 'For her daughter long and loudly',\n",
       " 'Wailed and wept the sad Nokomis',\n",
       " '\"Oh that I were dead',\n",
       " '\" she murmured',\n",
       " '\"Oh that I were dead',\n",
       " 'as thou art',\n",
       " 'No more work',\n",
       " 'and no more weeping',\n",
       " 'By the shores of Gitche Gumee',\n",
       " 'By the shining Big-Sea-Water',\n",
       " 'Stood the wigwam of Nokomis',\n",
       " 'Dark behind it rose the forest',\n",
       " 'Rose the black and gloomy pine-trees',\n",
       " 'Rose the firs with cones upon them',\n",
       " 'Bright before it beat the water',\n",
       " 'Beat the clear and sunny water',\n",
       " 'Beat the shining Big-Sea-Water',\n",
       " 'There the wrinkled old Nokomis',\n",
       " 'Nursed the little Hiawatha',\n",
       " 'Rocked him in his linden cradle',\n",
       " 'Bedded soft in moss and rushes',\n",
       " 'Safely bound with reindeer sinews',\n",
       " 'Stilled his fretful wail by saying',\n",
       " 'the Naked Bear will hear thee',\n",
       " 'Lulled him into slumber',\n",
       " 'my little owlet',\n",
       " 'Who is this',\n",
       " 'that lights the wigwam',\n",
       " 'With his great eyes lights the wigwam',\n",
       " 'my little owlet',\n",
       " 'Many things Nokomis taught him',\n",
       " 'Of the stars that shine in heaven',\n",
       " 'Showed him Ishkoodah',\n",
       " 'with fiery tresses',\n",
       " 'Showed the Death-Dance of the spirits',\n",
       " 'Warriors with their plumes and war-clubs',\n",
       " 'Flaring far away to northward',\n",
       " 'In the frosty nights of Winter',\n",
       " 'Showed the broad white road in heaven',\n",
       " 'Pathway of the ghosts',\n",
       " 'Running straight across the heavens',\n",
       " 'Crowded with the ghosts',\n",
       " 'At the door on summer evenings',\n",
       " 'Sat the little Hiawatha',\n",
       " 'Heard the whispering of the pine-trees',\n",
       " 'Heard the lapping of the waters',\n",
       " 'Sounds of music',\n",
       " 'words of wonder',\n",
       " '\" said the Pine-trees',\n",
       " '\" said the water',\n",
       " 'Saw the fire-fly',\n",
       " 'Flitting through the dusk of evening',\n",
       " 'With the twinkle of its candle',\n",
       " 'Lighting up the brakes and bushes',\n",
       " 'And he sang the song of children',\n",
       " 'Sang the song Nokomis taught him:',\n",
       " 'Light me with your little candle',\n",
       " 'Ere upon my bed I lay me',\n",
       " 'Ere in sleep I close my eyelids',\n",
       " 'Saw the moon rise from the water',\n",
       " 'rounding from the water',\n",
       " 'Saw the flecks and shadows on it',\n",
       " '\"What is that',\n",
       " 'And the good Nokomis answered:',\n",
       " '\"Once a warrior',\n",
       " 'Seized his grandmother',\n",
       " 'and threw her',\n",
       " 'Up into the sky at midnight',\n",
       " 'Right against the moon he threw her',\n",
       " \"'T is her body that you see there\",\n",
       " 'Saw the rainbow in the heaven',\n",
       " 'In the eastern sky',\n",
       " '\"What is that',\n",
       " 'And the good Nokomis answered:',\n",
       " '\"\\'T is the heaven of flowers you see there',\n",
       " 'All the wild-flowers of the forest',\n",
       " 'All the lilies of the prairie',\n",
       " 'When on earth they fade and perish',\n",
       " 'Blossom in that heaven above us',\n",
       " 'When he heard the owls at midnight',\n",
       " 'laughing in the forest',\n",
       " '\"What is that',\n",
       " '\" he cried in terror',\n",
       " '\"What is that',\n",
       " '\" he said',\n",
       " 'And the good Nokomis answered:',\n",
       " '\"That is but the owl and owlet',\n",
       " 'Talking in their native language',\n",
       " 'scolding at each other',\n",
       " 'Then the little Hiawatha',\n",
       " 'Learned of every bird its language',\n",
       " 'Learned their names and all their secrets',\n",
       " 'How they built their nests in Summer',\n",
       " 'Where they hid themselves in Winter',\n",
       " \"Talked with them whene'er he met them\",\n",
       " 'Called them \"Hiawatha\\'s Chickens',\n",
       " 'Of all beasts he learned the language',\n",
       " 'Learned their names and all their secrets',\n",
       " 'How the beavers built their lodges',\n",
       " 'Where the squirrels hid their acorns',\n",
       " 'How the reindeer ran so swiftly',\n",
       " 'Why the rabbit was so timid',\n",
       " \"Talked with them whene'er he met them\",\n",
       " 'Called them \"Hiawatha\\'s Brothers',\n",
       " 'the great boaster',\n",
       " 'He the marvellous story-teller',\n",
       " 'He the traveller and the talker',\n",
       " 'He the friend of old Nokomis',\n",
       " 'From a branch of ash he made it',\n",
       " 'From an oak-bough made the arrows',\n",
       " 'Tipped with flint',\n",
       " 'and winged with feathers',\n",
       " 'And the cord he made of deer-skin',\n",
       " 'Then he said to Hiawatha:',\n",
       " 'into the forest',\n",
       " 'Where the red deer herd together',\n",
       " 'Kill for us a famous roebuck',\n",
       " 'Kill for us a deer with antlers',\n",
       " 'Forth into the forest straightway',\n",
       " 'All alone walked Hiawatha',\n",
       " 'with his bow and arrows',\n",
       " 'And the birds sang round him',\n",
       " '\"Do not shoot us',\n",
       " 'Sang the robin',\n",
       " 'Sang the bluebird',\n",
       " '\"Do not shoot us',\n",
       " 'Up the oak-tree',\n",
       " 'close beside him',\n",
       " 'Sprang the squirrel',\n",
       " 'In and out among the branches',\n",
       " 'Coughed and chattered from the oak-tree',\n",
       " 'and said between his laughing',\n",
       " '\"Do not shoot me',\n",
       " 'And the rabbit from his pathway',\n",
       " 'and at a distance',\n",
       " 'Sat erect upon his haunches',\n",
       " 'Half in fear and half in frolic',\n",
       " 'Saying to the little hunter',\n",
       " '\"Do not shoot me',\n",
       " 'But he heeded not',\n",
       " 'nor heard them',\n",
       " 'For his thoughts were with the red deer',\n",
       " 'On their tracks his eyes were fastened',\n",
       " 'Leading downward to the river',\n",
       " 'To the ford across the river',\n",
       " 'And as one in slumber walked he',\n",
       " 'Hidden in the alder-bushes',\n",
       " 'There he waited till the deer came',\n",
       " 'Till he saw two antlers lifted',\n",
       " 'Saw two eyes look from the thicket',\n",
       " 'Saw two nostrils point to windward',\n",
       " 'And a deer came down the pathway',\n",
       " 'Flecked with leafy light and shadow',\n",
       " 'And his heart within him fluttered',\n",
       " 'Trembled like the leaves above him',\n",
       " 'Like the birch-leaf palpitated',\n",
       " 'As the deer came down the pathway',\n",
       " 'upon one knee uprising',\n",
       " 'Hiawatha aimed an arrow',\n",
       " 'Scarce a twig moved with his motion',\n",
       " 'Scarce a leaf was stirred or rustled',\n",
       " 'But the wary roebuck started',\n",
       " 'Stamped with all his hoofs together',\n",
       " 'Listened with one foot uplifted',\n",
       " 'Leaped as if to meet the arrow',\n",
       " 'Like a wasp it buzzed and stung him',\n",
       " 'Dead he lay there in the forest',\n",
       " 'By the ford across the river',\n",
       " 'Beat his timid heart no longer',\n",
       " 'But the heart of Hiawatha',\n",
       " 'Throbbed and shouted and exulted',\n",
       " 'As he bore the red deer homeward',\n",
       " 'Hailed his coming with applauses',\n",
       " \"From the red deer's hide Nokomis\",\n",
       " 'Made a cloak for Hiawatha',\n",
       " \"From the red deer's flesh Nokomis\",\n",
       " 'Made a banquet to his honor',\n",
       " 'All the village came and feasted',\n",
       " 'All the guests praised Hiawatha',\n",
       " 'Called him Strong-Heart',\n",
       " 'Called him Loon-Heart',\n",
       " 'Out of childhood into manhood',\n",
       " 'Now had grown my Hiawatha',\n",
       " 'Skilled in all the craft of hunters',\n",
       " 'Learned in all the lore of old men',\n",
       " 'In all youthful sports and pastimes',\n",
       " 'In all manly arts and labors',\n",
       " 'Swift of foot was Hiawatha',\n",
       " 'He could shoot an arrow from him',\n",
       " 'And run forward with such fleetness',\n",
       " 'That the arrow fell behind him',\n",
       " 'He could shoot ten arrows upward',\n",
       " 'Shoot them with such strength and swiftness',\n",
       " 'That the tenth had left the bow-string',\n",
       " 'Ere the first to earth had fallen',\n",
       " 'He had mittens',\n",
       " 'Magic mittens made of deer-skin',\n",
       " 'When upon his hands he wore them',\n",
       " 'He could smite the rocks asunder',\n",
       " 'He could grind them into powder',\n",
       " 'He had moccasins enchanted',\n",
       " 'Magic moccasins of deer-skin',\n",
       " 'When he bound them round his ankles',\n",
       " 'When upon his feet he tied them',\n",
       " 'At each stride a mile he measured',\n",
       " 'Much he questioned old Nokomis',\n",
       " 'Of his father Mudjekeewis',\n",
       " 'Learned from her the fatal secret',\n",
       " 'Of the beauty of his mother',\n",
       " 'Of the falsehood of his father',\n",
       " 'And his heart was hot within him',\n",
       " 'Like a living coal his heart was',\n",
       " 'Then he said to old Nokomis',\n",
       " '\"I will go to Mudjekeewis',\n",
       " 'See how fares it with my father',\n",
       " 'At the doorways of the West-Wind',\n",
       " 'At the portals of the Sunset',\n",
       " 'From his lodge went Hiawatha',\n",
       " 'Dressed for travel',\n",
       " 'armed for hunting',\n",
       " 'Dressed in deer-skin shirt and leggings',\n",
       " 'Richly wrought with quills and wampum',\n",
       " 'On his head his eagle-feathers',\n",
       " 'Round his waist his belt of wampum',\n",
       " 'In his hand his bow of ash-wood',\n",
       " 'Strung with sinews of the reindeer',\n",
       " 'In his quiver oaken arrows',\n",
       " 'Tipped with jasper',\n",
       " 'winged with feathers',\n",
       " 'With his mittens',\n",
       " 'With his moccasins enchanted',\n",
       " 'Warning said the old Nokomis',\n",
       " '\"Go not forth',\n",
       " 'To the kingdom of the West-Wind',\n",
       " 'To the realms of Mudjekeewis',\n",
       " 'Lest he harm you with his magic',\n",
       " 'Lest he kill you with his cunning',\n",
       " 'But the fearless Hiawatha',\n",
       " \"Heeded not her woman's warning\",\n",
       " 'Forth he strode into the forest',\n",
       " 'At each stride a mile he measured',\n",
       " 'Lurid seemed the sky above him',\n",
       " 'Lurid seemed the earth beneath him',\n",
       " 'Hot and close the air around him',\n",
       " 'Filled with smoke and fiery vapors',\n",
       " 'As of burning woods and prairies',\n",
       " 'For his heart was hot within him',\n",
       " 'Like a living coal his heart was',\n",
       " 'So he journeyed westward',\n",
       " 'Left the fleetest deer behind him',\n",
       " 'Left the antelope and bison',\n",
       " 'Crossed the rushing Esconaba',\n",
       " 'Crossed the mighty Mississippi',\n",
       " 'Passed the land of Crows and Foxes',\n",
       " 'Passed the dwellings of the Blackfeet',\n",
       " 'Came unto the Rocky Mountains',\n",
       " 'To the kingdom of the West-Wind',\n",
       " 'Where upon the gusty summits',\n",
       " 'Sat the ancient Mudjekeewis',\n",
       " 'Ruler of the winds of heaven',\n",
       " 'Filled with awe was Hiawatha',\n",
       " 'At the aspect of his father',\n",
       " 'On the air about him wildly',\n",
       " 'Tossed and streamed his cloudy tresses',\n",
       " 'Gleamed like drifting snow his tresses',\n",
       " 'Glared like Ishkoodah',\n",
       " 'Like the star with fiery tresses',\n",
       " 'Filled with joy was Mudjekeewis',\n",
       " 'When he looked on Hiawatha',\n",
       " 'Saw his youth rise up before him',\n",
       " 'In the face of Hiawatha',\n",
       " 'Saw the beauty of Wenonah',\n",
       " 'From the grave rise up before him',\n",
       " '\" said he',\n",
       " 'To the kingdom of the West-Wind',\n",
       " 'Long have I been waiting for you',\n",
       " 'Youth is lovely',\n",
       " 'age is lonely',\n",
       " 'Youth is fiery',\n",
       " 'age is frosty',\n",
       " 'You bring back the days departed',\n",
       " 'You bring back my youth of passion',\n",
       " 'And the beautiful Wenonah',\n",
       " 'Many days they talked together',\n",
       " 'Much the mighty Mudjekeewis',\n",
       " 'Boasted of his ancient prowess',\n",
       " 'Of his perilous adventures',\n",
       " 'His indomitable courage',\n",
       " 'His invulnerable body',\n",
       " \"Listening to his father's boasting\",\n",
       " 'With a smile he sat and listened',\n",
       " 'Uttered neither threat nor menace',\n",
       " 'Neither word nor look betrayed him',\n",
       " 'But his heart was hot within him',\n",
       " 'Like a living coal his heart was',\n",
       " 'Then he said',\n",
       " 'Is there nothing that can harm you',\n",
       " 'Nothing that you are afraid of',\n",
       " 'And the mighty Mudjekeewis',\n",
       " 'Grand and gracious in his boasting',\n",
       " '\"There is nothing',\n",
       " 'Nothing but the black rock yonder',\n",
       " 'Nothing but the fatal Wawbeek',\n",
       " 'And he looked at Hiawatha',\n",
       " 'With a wise look and benignant',\n",
       " 'With a countenance paternal',\n",
       " 'Looked with pride upon the beauty',\n",
       " 'Of his tall and graceful figure',\n",
       " 'Is there anything can harm you',\n",
       " 'Anything you are afraid of',\n",
       " 'But the wary Hiawatha',\n",
       " 'as if uncertain',\n",
       " 'Held his peace',\n",
       " 'as if resolving',\n",
       " 'And then answered',\n",
       " '\"There is nothing',\n",
       " 'Nothing but the bulrush yonder',\n",
       " 'Nothing but the great Apukwa',\n",
       " 'And as Mudjekeewis',\n",
       " 'Stretched his hand to pluck the bulrush',\n",
       " 'Hiawatha cried in terror',\n",
       " 'Cried in well-dissembled terror',\n",
       " 'do not touch it',\n",
       " '\" said Mudjekeewis',\n",
       " 'I will not touch it',\n",
       " 'Then they talked of other matters',\n",
       " \"First of Hiawatha's brothers\",\n",
       " \"Then of Hiawatha's mother\",\n",
       " 'Of the beautiful Wenonah',\n",
       " 'Of her birth upon the meadow',\n",
       " 'Of her death',\n",
       " 'as old Nokomis',\n",
       " 'Had remembered and related',\n",
       " 'And he cried',\n",
       " 'It was you who killed Wenonah',\n",
       " 'Took her young life and her beauty',\n",
       " 'Trampled it beneath your footsteps',\n",
       " 'You confess it',\n",
       " 'you confess it',\n",
       " 'And the mighty Mudjekeewis',\n",
       " 'Tossed upon the wind his tresses',\n",
       " 'Bowed his hoary head in anguish',\n",
       " 'With a silent nod assented',\n",
       " 'Then up started Hiawatha',\n",
       " 'And with threatening look and gesture',\n",
       " 'Laid his hand upon the black rock',\n",
       " 'On the fatal Wawbeek laid it',\n",
       " 'With his mittens',\n",
       " 'Rent the jutting crag asunder',\n",
       " 'Smote and crushed it into fragments',\n",
       " 'Hurled them madly at his father',\n",
       " ...]"
      ]
     },
     "execution_count": 469,
     "metadata": {},
     "output_type": "execute_result"
    }
   ],
   "source": [
    "shorten_text = '\\n'.join(lines)[0:1000000-1]\n",
    "shorten_lines = shorten_text.split('\\n')\n",
    "# delimiter = ',|.'\n",
    "# finalLines = [phrase.strip() for phrase in re.split(delimiter, shorten_lines)]\n",
    "\n",
    "finalLines=[]\n",
    "\n",
    "for sentence in shorten_lines:\n",
    "    reSentence = sentence.replace(',','.')\n",
    "    reSentence = reSentence.replace(';','.')\n",
    "    reSentence = reSentence.replace('!','.')\n",
    "    reSentence = reSentence.replace('?','.')\n",
    "    reSentence = reSentence.split('.')\n",
    "    for s in reSentence:\n",
    "        if (len(s.split())>=3):\n",
    "            finalLines.append(s.strip())\n",
    "\n",
    "finalLines"
   ]
  },
  {
   "cell_type": "code",
   "execution_count": 386,
   "id": "bb927f4b",
   "metadata": {},
   "outputs": [
    {
     "name": "stdout",
     "output_type": "stream",
     "text": [
      "['based on the legends and stories of', 'many North American Indian tribes', 'collected by Henry Rowe Schoolcraft', 'married Jane', 'man of the Green', 'hite Fisher)', 'be at La Pointe', 'credited with having researched', 'compiled much of the material Schoolcraft', 'included in his Algic Researches (1839) and a revision published', 'is latter revision', 'used as the basis for The Song of Hiawatha', 'began Hiawatha on June 25', 'completed it', 'published its popularity was assured', 'criticized as a plagiary of the', 'ish epic poem Kalevala', 'made no secret of the', 'used the meter of the Kalevala', 'gave credit to Schoolcraft in his notes to the', 'add a personal note here', 'roots include', 'is mother', 'aret Caroline Davenport', 'aughter of Susan des Carreaux', 'used to rock me to sleep reading portions of', 'lay me', 'sleep I close my eyelids', 'ask me', 'ends and traditions', 'dors of the forest', 'damp of meadows', 'smoke of wigwams', 'rushing of great rivers', 'requent repetitions', 'tell you', 'rests and the prairies', 'eat lakes of the Northland', 'ere the heron', 'reeds and rushes', 'repeat them as I heard them', 'weet singer', 'ask where Nawadaha', 'ends and traditions', 'tell you', \"bird's-nests of the forest\", 'lodges of the beaver', 'sang them to him', 'lands and the fen-lands', 'ask me', 'is Nawadaha', 'answer your inquiries', 'words as follow', 'reen and silent valley', 'singer Nawadaha', 'read the meadows and the corn-fields', 'stood the forest', 'singing pine-trees', 'reen in Summer', 'hite in Winter', 'trace them through the valley', 'rushing in the Spring-time', 'hite fog in the Autumn', 'lack line in the Winter', 'dwelt the singer', 'reen and silent valley', 'sang of Hiawatha', 'wondrous birth and being', 'prayed and how be fasted', 'ow he lived', 'bes of men might prosper', 'advance his people', 'love the haunts of Nature', 'shine of the meadow', 'hadow of the forest', 'wind among the branches', 'shower and the snow-storm', 'rushing of great rivers', 'isades of pine-trees', 'like eagles in their eyries', 'isten to these wild traditions', 'is Song of Hiawatha', \"love a nation's legends\", 'from afar off', 'pause and listen', 'ear distinguish', 'sung or spoken', 'isten to this Indian Legend', 'is Song of Hiawatha', 'are fresh and simple', 'have faith in God and Nature', 'believe that in all ages', 'heart is human', 'even savage bosoms', 'are longings', 'comprehend not', 'hands and helpless', 'hand in that darkness', 'are lifted up and strengthened', 'isten to this simple story', 'is Song of Hiawatha', 'reen lanes of the country', 'led barberry-bushes', 'neglected graveyard', 'effaced inscription', 'kill of song-craft', 'hope and yet of heart-break', 'tender pathos', 'read this rude inscription', 'is Song of Hiawatha', 'eat Red Pipe-stone Quarry', 'red crags of the quarry', 'called the nations', 'led the tribes of men together', 'flowed a river', 'light of morning', 'plunging downward', 'like Ishkoodah', 'is finger on the meadow', 'winding pathway for it', 'is way', 'red stone of the quarry', 'broke a fragment', 'fashioned it with figures', 'reed for a pipe-stem', 'leaves upon it', 'led the pipe with bark of willow', 'red willow', 'neighboring forest', 'chafe together', 'burst and kindled', 'erect upon the mountains', 'rose slowly', 'ranquil air of morning', 'single line of darkness', 'hite cloud unfolding', 'ree-tops of the forest', 'touched the top of heaven', 'broke against the heaven', 'rolled outward all around it', 'roves of Tuscaloosa', 'beheld the signal', 'smoke ascending', 'ending like a wand of willow', 'hand that beckons', 'bes of men together', 'is council', 'own the rivers', 'drawn together', 'eat Red Pipe-stone Quarry', 'stood there on the meadow', 'weapons and their war-gear', 'leaves of Autumn', 'like the sky of morning', 'glaring at each other', 'faces stern defiance', 'hearts the feuds of ages', 'ereditary hatred', 'thirst of vengeance', 'eator of the nations', 'hem with compassion', 'love and pity', 'rels among children', 'fights of children', 'stretched his right hand', 'subdue their stubborn natures', 'lay their thirst and fever', 'hadow of his right hand', 'hem with voice majestic', 'sound of far-off waters', 'is wise:', 'isten to the words of wisdom', 'isten to the words of warning', 'eat Spirit', 'made you', 'have given you lands to hunt in', 'have given you streams to fish in', 'have given you bear and bison', 'have given you roe and reindeer', 'have given you brant and beaver', 'led the marshes full of wild-fowl', 'led the rivers full of fishes:', 'are you not contented', 'hunt each other', 'weary of your quarrels', 'eary of your wars and bloodshed', 'prayers for vengeance', 'ranglings and dissensions', 'is in your union', 'is in discord', 'be at peace henceforward', 'live together', 'send a Prophet to you', 'liverer of the nations', 'guide you and shall teach you', 'toil and suffer with you', 'listen to his counsels', 'multiply and prosper', 'pass unheeded', 'fade away and perish', 'before you', 'from your faces', 'from your fingers', 'is quarry', 'make it into Peace-Pipes', 'grow beside you', 'rightest feathers', 'met together', 'live henceforward', 'round the warriors', 'rew their cloaks and shirts of deer-skin', 'weapons and their war-gear', 'rushing river', 'from their faces', 'flowed the water', 'from the footprints', 'flowed the water', 'stained with streaks of crimson', 'mingled with it', 'came the warriors', 'washed from all their war-paint', 'like weapons', 'eat Spirit', 'is helpless children', 'red stone of the quarry', 'formed it into Peace-Pipes', 'reeds by the river', 'rightest feathers', 'departed each one homeward', 'opening of cloud-curtains', 'doorways of the heaven', 'ished from before their faces', 'rolled around him', 'cried the old men', 'came in triumph homeward', 'red Belt of Wampum', 'regions of the North-Wind', 'dom of Wabasso', 'hite Rabbit', 'stolen the Belt of Wampum', 'eat Bear of the mountains', 'error of the nations', 'sleep and cumbrous', 'rock with mosses on it', 'own and gray with mosses', 'stole upon him', 'ill the red nails of the monster', 'touched him', 'ared him', 'is nostrils', 'armed the hands of Mudjekeewis', 'drew the Belt of Wampum', 'round ears', 'heard not', 'saw not', 'lack muffle of the nostrils', 'armed the hands of Mudjekeewis', 'swung aloft his war-club', 'is war-cry', 'smote him', 'blow bewildered', 'eat Bear of the mountains', 'is knees beneath him trembled', 'whimpered like a woman', 'reeled and staggered forward', 'sat upon his haunches', 'before him', 'isdainfully in this wise:', 'are a coward', 'cry and whimper', 'iserable woman', 'are hostile', 'have been at war together', 'are strongest', 'go sneaking in the forest', 'go hiding in the mountains', 'conquered me in battle', 'have uttered', 'sit here and whimper', 'disgrace your tribe by crying', 'retched Shaugodaya', 'owardly old woman', 'raised his war-club', 'gain the Mishe-Mokwa', 'is forehead', 'is skull', 'is broken', 'fish in Winter', 'slain the Mishe-Mokwa', 'eat Bear of the mountains', 'error of the nations', 'exclaimed the people', 'be the West-Wind', 'ereafter and forever', 'hold supreme dominion', 'winds of heaven', 'ore Mudjekeewis', 'is chosen', 'kept the West-Wind', 'is children', 'gave the East-Wind', 'fierce Kabibonokka', 'beautiful was Wabun', 'brought the morning', 'was whose silver arrows', \"hased the dark o'er hill and valley\", 'was whose cheeks were painted', 'reaks of crimson', 'awoke the village', 'led the deer', 'called the hunter', 'sang gayly to him', 'flowers of the meadow', 'led the air with odors for him', 'rests and the rivers', 'shouted at his coming', 'heart was sad within him', 'was alone in heaven', 'was sleeping', 'lay on the river', 'goes at sunrise', 'beheld a maiden walking', 'ater-flags and rushes', 'beheld there', 'looking at him', 'loved the lonely maiden', 'waited for his coming', 'ere solitary', 'arth and he in heaven', 'wooed her with caresses', 'is smile of sunshine', 'wooed her', 'sighing and his singing', 'whispers in the branches', 'drew her to his bosom', 'is robes of crimson', 'changed her', 'is bosom', 'orever in the heavens', 'are seen together walking', 'fierce Kabibonokka', 'is dwelling among icebergs', 'lasting snow-drifts', 'dom of Wabasso', 'hite Rabbit', 'hand in Autumn', 'rees with scarlet', 'leaves with red and yellow', 'sent the snow-flake', 'hissing through the forest', 'rove the loon and sea-gull southward', 'rant and curlew', 'realms of Shawondasee', 'fierce Kabibonokka', 'is lodge of snow-drifts', 'is home among the icebergs', 'is hair', 'ow besprinkled', 'like a river', 'try river', 'howled and hurried southward', 'frozen lakes and moorlands', 'ere among the reeds and rushes', 'fish behind him', 'frozen fens and moorlands', 'ring still among the moorlands', 'had long departed', 'fierce Kabibonokka', 'ares to brave me', 'ares to stay in my dominions', 'has departed', 'goose has gone southward', 'departed southward', 'go into his wigwam', 'put his smouldering fire out', 'came wild and wailing', 'ow in drifts about it', 'down into the smoke-flue', 'is fury', 'had he for firewood', 'fishes served him', 'sat there', 'arm and merry', 'are but my fellow-mortal', 'though Shingebis', 'is presence by the coldness', 'is icy breath upon him', 'cease his singing', 'leave his laughing', 'turned the log a little', 'made the fire burn brighter', 'fly up the smoke-flue', 'besprinkled tresses', 'fell fast and heavy', 'from drooping boughs of hemlock', 'melting snow in spring-time', 'hollows in the snow-drifts', 'rose defeated', 'bear the heat and laughter', 'bear the merry singing', 'rushed headlong through the door-way', 'ow upon them harder', 'hem thicker', 'come forth and wrestle with him', 'come forth and wrestle naked', 'frozen fens and moorlands', 'went Shingebis', 'led all night with the North-Wind', 'led naked on the moorlands', 'fierce Kabibonokka', 'grew fainter', 'grew feebler', 'reeled and staggered backward', 'dom of Wabasso', 'hite Rabbit', 'ring still the gusty laughter', 'are but my fellow-mortal', 'is dwelling far to southward', 'ending Summer', 'sent the wood-birds', 'sent the swallow', 'smoke ascending', 'led the sky with haze and vapor', 'led the air with dreamy softness', 'winkle to the water', 'ills with smoothness', 'tender Indian Summer', 'reary Moon of Snow-shoes', 'had one shadow', 'had he', 'gazing northward', 'beheld a maiden standing', 'ender maiden', 'ere all her garments', 'like the sunshine', 'gazed upon her', 'sighed with passion', 'heart within him', 'love and longing', 'yellow tresses', 'was too fat and lazy', 'bestir himself and woo her', 'dolent and easy', 'pursue her and persuade her', 'gazed upon her', 'sat and sighed with passion', 'maiden of the prairie', 'ill one morning', 'beheld her yellow tresses', \"covered o'er with whiteness\", 'hitest snow-flakes', 'from the North-land', 'dom of Wabasso', 'hite Rabbit', 'have stolen the maiden from me', 'have laid your hand upon her', 'have wooed and won my maiden', 'retched Shawondasee', 'is sorrow', 'warm with sighs of passion', 'sighs of Shawondasee', 'seemed full of snow-flakes', 'istle-down the prairie', 'like sunshine', 'ished from his sight forever', 'did Shawondasee', 'yellow tresses', 'gazed at', 'maiden that you sighed for', 'was the prairie dandelion', 'reamy Summer', 'had gazed at with such longing', 'had sighed for with such passion', 'had puffed away forever', 'lown into the air with sighing', 'ere divided', 'self the West-Wind only', 'ownward through the evening twilight', 'are forgotten', 'remembered ages', 'fell Nokomis', 'beautiful Nokomis', 'sporting with her women', 'winging in a swing of grape-vines', 'wing asunder', 'isted grape-vines', 'fell affrighted', 'ownward through the evening twilight', 'full of blossoms', 'star falls', 'said the people', 'is falling', 'ere among the ferns and mosses', 'ere among the prairie lilies', 'light and the starlight', 'bore a daughter', 'called her name Wenonah', 'born of her daughters', 'aughter of Nokomis', 'like the prairie lilies', 'rew a tall and slender maiden', 'beauty of the moonlight', 'beauty of the starlight', 'warned her often', 'oft repeating', 'are of Mudjekeewis', 'tells you', 'down upon the meadow', 'down among the lilies', 'come and harm you', 'heeded not the warning', 'words of wisdom', 'came at evening', \"lightly o'er the prairie\", 'leaves and blossoms', 'ending low the flowers and grasses', 'beautiful Wenonah', 'ere among the lilies', 'is words of sweetness', 'is soft caresses', 'bore a son in sorrow', 'love and sorrow', 'born my Hiawatha', 'born the child of wonder', 'aughter of Nokomis', 'died deserted', 'heartless Mudjekeewis', 'aughter long and loudly', 'wept the sad Nokomis', 'ere dead', 'ere dead', 'thou art', 'ore work', 'ore weeping', 'ores of Gitche Gumee', 'shining Big-Sea-Water', 'rose the forest', 'lack and gloomy pine-trees', 'beat the water', 'clear and sunny water', 'shining Big-Sea-Water', 'led old Nokomis', 'is linden cradle', 'soft in moss and rushes', 'bound with reindeer sinews', 'is fretful wail by saying', 'hear thee', 'led him into slumber', 'is this', 'lights the wigwam', 'lights the wigwam', 'taught him', 'shine in heaven', 'owed him Ishkoodah', 'eath-Dance of the spirits', 'ring far away to northward', 'frosty nights of Winter', 'hite road in heaven', 'cross the heavens', 'owded with the ghosts', 'door on summer evenings', 'whispering of the pine-trees', 'eard the lapping of the waters', 'words of wonder', 'said the Pine-trees', 'said the water', 'winkle of its candle', 'sang the song of children', 'taught him:', 'lay me', 'sleep I close my eyelids', 'rise from the water', 'rounding from the water', 'hadows on it', 'is that', 'good Nokomis answered:', 'is grandmother', 'threw her', 'threw her', 'see there', 'bow in the heaven', 'is that', 'good Nokomis answered:', 'see there', 'flowers of the forest', 'lies of the prairie', 'fade and perish', 'som in that heaven above us', 'heard the owls at midnight', 'laughing in the forest', 'is that', 'cried in terror', 'is that', 'good Nokomis answered:', 'is but the owl and owlet', 'scolding at each other', 'earned of every bird its language', 'earned their names and all their secrets', 'built their nests in Summer', 'hid themselves in Winter', 'met them', 'led them \"Hiawatha\\'s Chickens', 'learned the language', 'earned their names and all their secrets', 'built their lodges', 'hid their acorns', 'ran so swiftly', 'was so timid', 'met them', 'led them \"Hiawatha\\'s Brothers', 'eat boaster', 'traveller and the talker', 'end of old Nokomis', 'made it', 'made the arrows', 'winged with feathers', 'made of deer-skin', 'said to Hiawatha:', 'ere the red deer herd together', 'ill for us a famous roebuck', 'ill for us a deer with antlers', 'rest straightway', 'walked Hiawatha', 'is bow and arrows', 'sang round him', 'shoot us', 'shoot us', 'close beside him', 'rang the squirrel', 'chattered from the oak-tree', 'said between his laughing', 'shoot me', 'is pathway', 'erect upon his haunches', 'fear and half in frolic', 'shoot me', 'heeded not', 'heard them', 'is thoughts were with the red deer', 'is eyes were fastened', 'downward to the river', 'cross the river', 'walked he', 'den in the alder-bushes', 'waited till the deer came', 'saw two antlers lifted', 'look from the thicket', 'point to windward', 'came down the pathway', 'light and shadow', 'heart within him fluttered', 'leaves above him', 'came down the pathway', 'aimed an arrow', 'moved with his motion', 'stirred or rustled', 'is hoofs together', 'istened with one foot uplifted', 'meet the arrow', 'buzzed and stung him', 'lay there in the forest', 'cross the river', 'heart no longer', 'heart of Hiawatha', 'shouted and exulted', 'bore the red deer homeward', 'coming with applauses', 'hide Nokomis', \"red deer's flesh Nokomis\", 'is honor', 'came and feasted', 'raised Hiawatha', 'led him Strong-Heart', 'led him Loon-Heart', 'grown my Hiawatha', 'killed in all the craft of hunters', 'ore of old men', 'arts and labors', 'was Hiawatha', 'shoot an arrow from him', 'run forward with such fleetness', 'fell behind him', 'shoot ten arrows upward', 'rength and swiftness', 'had left the bow-string', 'had fallen', 'had mittens', 'made of deer-skin', 'wore them', 'rocks asunder', 'grind them into powder', 'had moccasins enchanted', 'sins of deer-skin', 'bound them round his ankles', 'tied them', 'ride a mile he measured', 'questioned old Nokomis', 'is father Mudjekeewis', 'from her the fatal secret', 'is mother', 'is father', 'heart was hot within him', 'heart was', 'said to old Nokomis', 'go to Mudjekeewis', 'ares it with my father', 'doorways of the West-Wind', 'went Hiawatha', 'ressed for travel', 'armed for hunting', 'ressed in deer-skin shirt and leggings', 'wrought with quills and wampum', 'is head his eagle-feathers', 'is waist his belt of wampum', 'is hand his bow of ash-wood', 'rung with sinews of the reindeer', 'oaken arrows', 'winged with feathers', 'is mittens', 'is moccasins enchanted', 'said the old Nokomis', 'dom of the West-Wind', 'realms of Mudjekeewis', 'harm you with his magic', 'kill you with his cunning', 'fearless Hiawatha', \"man's warning\", 'strode into the forest', 'ride a mile he measured', 'seemed the sky above him', 'seemed the earth beneath him', 'close the air around him', 'smoke and fiery vapors', 'burning woods and prairies', 'heart was hot within him', 'heart was', 'journeyed westward', 'behind him', 'lope and bison', 'rushing Esconaba', 'ows and Foxes', 'dwellings of the Blackfeet', 'dom of the West-Wind', 'ere upon the gusty summits', 'winds of heaven', 'led with awe was Hiawatha', 'is father', 'streamed his cloudy tresses', 'drifting snow his tresses', 'ared like Ishkoodah', 'star with fiery tresses', 'led with joy was Mudjekeewis', 'looked on Hiawatha', 'rise up before him', 'beauty of Wenonah', 'rise up before him', 'said he', 'dom of the West-Wind', 'have I been waiting for you', 'is lovely', 'is lonely', 'is fiery', 'is frosty', 'bring back the days departed', 'bring back my youth of passion', 'beautiful Wenonah', 'talked together', 'is ancient prowess', 'is perilous adventures', 'is indomitable courage', 'is invulnerable body', \"istening to his father's boasting\", 'sat and listened', 'ered neither threat nor menace', 'look betrayed him', 'heart was hot within him', 'heart was', 'harm you', 'are afraid of', 'rand and gracious in his boasting', 'is nothing', 'rock yonder', 'looked at Hiawatha', 'look and benignant', 'countenance paternal', 'ride upon the beauty', 'is tall and graceful figure', 'harm you', 'are afraid of', 'is peace', 'is nothing', 'rush yonder', 'eat Apukwa', 'is hand to pluck the bulrush', 'cried in terror', 'issembled terror', 'touch it', 'said Mudjekeewis', 'touch it', 'talked of other matters', 'beautiful Wenonah', 'remembered and related', 'killed Wenonah', 'led it beneath your footsteps', 'confess it', 'confess it', 'is tresses', 'is hoary head in anguish', 'lent nod assented', 'started Hiawatha', 'look and gesture', 'is hand upon the black rock', 'laid it', 'is mittens', 'jutting crag asunder', 'rushed it into fragments', 'is father', 'remorseful Mudjekeewis', 'heart was hot within him', 'heart was', 'ruler of the West-Wind', 'from him', 'is nostrils', 'is anger', 'is assailant', 'roots and fibres', 'laughed Hiawatha', 'began the deadly conflict', 'hand among the mountains', 'is eyry screamed the eagle', 'eat war-eagle', 'round them', 'is wings above them', 'ree in the tempest', 'lashed the giant bulrush', 'fell the fatal Wawbeek', 'shook with the tumult', 'was full of shoutings', 'retreated Mudjekeewis', 'down the mountains', 'retreated fighting', 'pursued by Hiawatha', 'doorways of the West-Wind', 'remotest border', 'ere into the empty spaces', 'cried Mudjekeewis', 'kill me', 'kill the immortal', 'have put you to this trial', 'know and prove your courage', 'receive the prize of valor', 'back to your home and people', 'toil among them', 'harms it', 'fishing-grounds and rivers', 'lay all monsters and magicians', 'slew the Mishe-Mokwa', 'eat Bear of the mountains', 'draws near you', 'yes of Pauguk', 'are upon you in the darkness', 'are my kingdom with you', 'be thenceforward', 'fought that famous battle', 'readful days of Shah-shah', 'since departed', 'dom of the West-Wind', 'hunter sees its traces', \"ered far o'er hill and valley\", 'rush growing', 'ill in every valley', 'went Hiawatha', 'round him', 'was the air above him', 'departed wholly from him', 'is brain the thought of vengeance', 'burning fever', 'is pace he slackened', 'used or halted', 'used to purchase heads of arrows', 'gleam among the oak-trees', 'leap into the valley', 'ere the ancient Arrow-maker', 'is arrow-heads of sandstone', 'ow-heads of chalcedony', 'ow-heads of flint and jasper', 'sharpened at the edges', 'dwelt his dark-eyed daughter', 'hade and sunshine', 'smiled and frowned alternate', 'flowing like the water', 'named her from the river', 'named her', 'ow-heads of chalcedony', 'ow-heads of flint and jasper', 'see the maiden', 'from behind the curtain', 'rustling of her garments', 'waving curtain', 'sees the Minnehaha', 'glancing through the branches', 'hears the Laughing Water', 'behind its screen of branches', 'say what thoughts and visions', 'ill the fiery brains of young men', 'say what dreams of beauty', 'heart of Hiawatha', 'told to old Nokomis', 'reached the lodge at sunset', 'meeting with his father', 'is fight with Mudjekeewis', 'said of arrows', 'hear how Hiawatha', 'fasted in the forest', 'kill in hunting', 'ater craft in fishing', 'triumphs in the battle', 'renown among the warriors', 'profit of the people', 'built a lodge for fasting', 'shining Big-Sea-Water', 'built it', 'isions many', 'even whole days and nights he fasted', 'is fasting', 'woods he wandered', 'start from the thicket', 'is burrow', 'eard the pheasant', 'eard the squirrel', 'is hoard of acorns', 'locks the wild-goose', 'lying to the fen-lands northward', 'wailing far above him', 'lives depend on these things', 'is fasting', 'illing all the air with fragrance', 'lives depend on these things', 'is fasting', 'sat and pondered', 'drops like beads of wampum', 'yellow perch', 'beam in the water', 'lives depend on these things', 'is fasting', 'lay exhausted', 'leaves and branches', 'open eyelids', 'hadowy dreams and visions', 'gleaming of the water', 'dor of the sunset', 'saw a youth approaching', 'ressed in garments green and yellow', 'dor of the sunset', 'is forehead', 'is hair was soft and golden', 'open doorway', 'looked at Hiawatha', 'pity and compassion', 'is wasted form and features', 'like the sighing', 'heard in heaven', 'pray not like the others', 'kill in hunting', 'ater craft in fishing', 'renown among the warriors', 'profit of the people', 'end of man', 'warn you and instruct you', 'struggle and by labor', 'prayed for', 'ise up from your bed of branches', 'wrestle with me', 'is bed of branches', 'light of his wigwam', 'wrestled with Mondamin', 'felt new courage', 'is brain and bosom', 'hope and vigor', 'every nerve and fibre', 'wrestled there together', 'strove and struggled', 'grew Hiawatha', 'fell around them', 'cry of lamentation', 'ream of pain and famine', 'is enough', 'said Mondamin', 'come again to try you', 'seen not', 'sinking as the rain sinks', 'rising as the mists rise', 'saw not', 'saw that he had vanished', 'isty lake below him', 'reeling stars above him', 'ow and the next day', 'heaven descending', 'burning cinder', 'hearth of the Great Spirit', 'lent as the dew comes', 'arth it touches', 'isible to all men', 'coming and its going', 'wrestled there together', 'fell around them', 'ill the heron', 'cry of famine', 'used to listen', 'stood there', 'is garments green and yellow', 'is plumes above him', 'is breathing', 'eat of the encounter', 'drops of dew upon him', 'have you wrestled with me', 'have wrestled stoutly with me', 'sees us', 'give to you the triumph', 'said: \"To-morrow', 'last day of your conflict', 'last day of your fasting', 'come me', 'fall upon me', 'come and warm me', 'reen and yellow', 'is nodding plumage from me', 'make it', 'light above me', 'isturb my slumber', 'molest me', 'molest me', 'come yourself to watch me', 'ill I wake', 'leap into the sunshine\"', 'slept Hiawatha', 'heard the Wawonaissa', 'ill complaining', 'is lonely wigwam', 'rushing Sebowisha', 'let rippling near him', 'some forest', 'sighing of the branches', 'lifted and subsided', 'passing of the night-wind', 'hears in slumber', 'slept Hiawatha', 'came Nokomis', 'is fasting', 'imploring and bewailing', 'come him', 'is fasting should be fatal', 'tasted not', 'touched not', 'said to her', 'is setting', 'falls around us', 'ill the heron', 'from the desolate marshes', 'is ended', 'went Nokomis', 'is strength should fail him', 'is fasting should be fatal', 'sat weary waiting', 'coming of Mondamin', 'ill the shadows', 'from the heaven', 'aters westward', 'red leaf in the Autumn', 'floats upon the water', 'sinks into its bosom', 'shining tresses', 'is garments green and yellow', 'is long and glossy plumage', 'beckoned at the doorway', 'ber walking', 'wrestled with Mondamin', 'spun the landscape', 'reeled together', 'heart leaped within him', 'leaps and struggles', 'break its meshes', 'round him', 'ared the red horizon', 'seemed looking', 'combat of the wrestlers', 'denly upon the greensward', 'stood Hiawatha', 'is wild exertion', 'before him breathless', 'arments tattered', 'lay there in the sunset', 'victorious Hiawatha', 'from Mondamin', 'is tattered plumage from him', 'aid him in the earth', 'made it', 'light above him', 'cry of lamentation', 'cry of pain and anguish', 'went Hiawatha', 'lodge of old Nokomis', 'is fasting', 'ished and completed', 'was not forgotten', 'wrestled with Mondamin', 'gotten nor neglected', 'lay Mondamin', 'rain and sunshine', 'is scattered plumes and garments', 'rain and sunshine', 'watch beside it', 'soft above it', 'from weeds and insects', 'ill at length a small green feather', 'shot slowly upward', 'before the Summer ended', 'shining robes about it', 're Hiawatha', 'is Mondamin', 'end of man', 'called to old Nokomis', 'eat boaster', 'was growing', 'wondrous vision', 'is wrestling and his triumph', 'is new gift to the nations', 'be their food forever', 'ill later', 'hanged the long', 'leaves to yellow', 'soft and juicy kernels', 'like wampum hard and yellow', 'ripened ears he gathered', 'from off them', 'had stripped the wrestler', 'made known unto the people', 'is new gift of the Great Spirit', 'good friends had Hiawatha', 'from all the others', 'closest union', 'gave the right hand', 'is heart', 'joy and sorrow', 'strong man', 'ran the pathway', 'grew the grass upon it', 'utter falsehoods', 'ear to listen', 'breed ill-will between them', \"kept each other's counsel\", 'hearts together', 'ring much and much contriving', 'bes of men might prosper', 'loved by Hiawatha', 'best of all musicians', 'weetest of all singers', 'like was he', 'man is', 'soft as woman', 'ately as a deer with antlers', 'illage listened', 'round him', 'came to hear him', 'stirred their souls to passion', 'melted them to pity', 'hollow reeds he fashioned', 'murmur in the woodland', 'ceased from singing', 'is chatter in the oak-tree', 'look and listen', 'flow in music', 'oftly as your words in singing', 'full of frenzy', 'weet and tender', 'full of gladness', 'full of sadness', 'sounds of nature', 'is singing', 'hearts of men were softened', 'is music', 'sang of peace and freedom', 'dom of Ponemah', 'ear to Hiawatha', 'best of all musicians', 'weetest of all singers', 'loved him', 'is singing', 'strong man', 'strongest of all mortals', 'loved him', 'lied to goodness', 'is youth was Kwasind', 'layed with other children', 'fished and never hunted', 'like other children was he', 'saw that much he fasted', 'is Manito entreated', 'is Guardian Spirit', 'said his mother', 'help me', 'are roaming', 'fields and forests', 'are cowering', 'rands in the wigwam', 'break the ice for fishing', 'help me', 'are hanging', 'freezing with the water', 'wring them', 'dry them in the sunshine', 'from the ashes', 'made no angry answer', 'went forth in silence', 'hung together', 'freezing at the doorway', 'rung them', 'broke them', 'wring them without breaking', 'is fingers', 'said his father', 'hunt you never help me', 'is broken', 'every arrow', 'come with me to the forest', 'hunting homeward', 'pass they wandered', 'let led them onward', 'ere the trail of deer and bison', 'soft mud on the margin', 'found all further passage', 'gainst them', 'runks of trees uprooted', 'forbidding further passage', 'go back', 'said the old man', 'woodchuck could get through them', \"clamber o'er them\", 'is pipe he lighted', 'smoke and ponder', 'is pipe was finished', 'ared before him', 'runks had Kwasind lifted', 'right hand', 'left hand', 'rees swift as arrows', 'light as lances', 'said the young men', 'sported in the meadow:', 'looking at us', 'rock behind you', 'wrestle with the others', 'pitch the quoit together', 'made no answer', 'made no answer', 'lowly turning', 'rock in his fingers', 'from its deep foundation', 'ised it in the air a moment', 'sheer into the river', 'heer into the swift Pauwating', 'seen in Summer', 'foaming river', 'own the rapids of Pauwating', 'is companions', 'saw a beaver', 'rushing currents', 'sinking in the water', 'leaped into the river', 'bubbling surface', 'chased the beaver', 'lowed him among the islands', 'beneath the water', 'is terrified companions', 'good-by to Kwasind', 'see Kwasind', 'ared triumphant', 'shining shoulders', 'have told you', 'ere the friends of Hiawatha', 'strong man', 'lived in peace together', 'hearts together', 'ring much and much contriving', 'bes of men might prosper', 'yellow bark', 'rushing river', 'ately in the valley', 'light canoe will build me', 'heemaun for sailing', 'float upon the river', 'yellow leaf in Autumn', 'yellow water-lily', 'side your cloak', 'hite-skin wrapper', 'is coming', 'is warm in heaven', 'need no white-skin wrapper', 'cried Hiawatha', 'rushing Taquamenaw', 'singing gayly', 'ere singing', 'sleep awaking', 'arted up and said', 'eat Sun', 'ree with all its branches', 'led in the breeze of morning', 'is knife the tree he girdled', 'beneath its lowest branches', 'cut it', 'came oozing outward', 'own the trunk', 'from top to bottom', 'left the bark asunder', 'raised it', 'runk unbroken', 'strong and pliant branches', 'make more steady', 'beneath me', 'cry of horror', 'murmur of resistance', 'hewed the boughs of cedar', 'straightway to a frame-work', 'shaped them', 'ended bows together', 'bind together', 'bind the ends together', 'ater may not enter', 'wet me', 'ered in the air of morning', 'is forehead with its tassels', 'hem all', 'tore the fibres', 'ore the tough roots of the Larch-tree', 'sewed the bark together', 'closely to the frame-work', 'close the seams together', 'ater may not enter', 'wet me', 'bed through all its robes of darkness', 'led like a shore with pebbles', 'took the tears of balsam', 'resin of the Fir-tree', 'ared therewith each seam and fissure', 'from water', 'make a necklace of them', 'girdle for my beauty', 'deck her bosom', 'hollow tree the Hedgehog', 'sleepy eyes looked at him', 'shining quills', 'owsy murmur', 'is whiskers', 'round the quills he gathered', 'shining arrows', 'red and blue and yellow', 'roots and berries', 'wrought them', 'shining girdle', 'gleaming necklace', 'reast two stars resplendent', 'was builded', 'som of the forest', \"rest's life was in it\", 'lightness of the birch-tree', 'floated on the river', 'yellow leaf in Autumn', 'yellow water-lily', 'addles none had Hiawatha', 'addles none he had or needed', 'addles served him', 'guide him', 'low at will he glided', 'left at pleasure', 'called aloud to Kwasind', 'is friend', 'strong man', 'is river', 'sunken logs and sand-bars', 'ere an otter', 'ere a beaver', 'is waist in water', 'is arm-pits in the river', 'scouted in the river', 'sunken logs and branches', 'is hands he scooped the sand-bars', 'is feet the ooze and tangle', 'led my Hiawatha', 'rushing Taquamenaw', 'led through all its bends and windings', 'led through all its deeps and shallows', 'is friend', 'strong man', 'lows waded', 'went they', 'ared its bed of root and sand-bar', 'from its channel', 'passage safe and certain', 'rings among the mountains', 'aters of Pauwating', 'shining Big-Sea-Water', 'fishing-line of cedar', 'isted bark of cedar', 'catch the sturgeon Nahma', 'is birch canoe exulting', 'went Hiawatha', 'fishes swimming', 'below him', 'yellow perch', 'beam in the water', 'hite and sandy bottom', 'sat Hiawatha', 'fishing-line of cedar', 'is plumes the breeze of morning', 'layed as in the hemlock branches', 'is fur the breeze of morning', 'layed as in the prairie grasses', 'hite sand of the bottom', 'breathed the water', 'is fins he fanned and winnowed', 'wept the sand-floor', 'lay in all his armor', 'guard him', 'is forehead', 'is sides and back and shoulders', 'ates of bone with spines projecting', 'is war-paints', 'own and spots of sable', 'lay there on the bottom', 'is fins of purple', 'came sailing', 'fishing-line of cedar', 'cried Hiawatha', 'beneath him', 'from below the water', 'see which is the stronger', 'is line of cedar', 'vainly for an answer', 'sat waiting for an answer', 'repeating loud and louder', 'lay the sturgeon', 'lowly in the water', 'call and clamor', 'is unnecessary tumult', 'wearied of the shouting', 'said to the Kenozha', 'is rude fellow', 'reak the line of Hiawatha', 'is fingers Hiawatha', 'loose line jerk and tighten', 'drew it in', 'tugged so', 'stood endwise', 'isking on the summit', 'was Hiawatha', 'saw the fish rise upward', 'arer to him', 'shouted through the water', 'shame upon you', 'are but the pike', 'are not the fish I wanted', 'downward to the bottom', 'eat confusion', 'aid to Ugudwash', 'scales of crimson', 'is great boaster', 'reak the line of Hiawatha', 'is weight upon it', 'led the birch canoe in circles', 'round in gurgling eddies', 'ill the circles in the water', 'ater-flags and rushes', 'istant margins', 'saw him', 'rising through the water', 'is disk refulgent', 'shouted in derision', 'shame upon you', 'are Ugudwash', 'are not the fish I wanted', 'gain the sturgeon', 'shout of Hiawatha', 'is challenge of defiance', 'cross the water', 'hite sand of the bottom', 'rose with angry gesture', 'ring in each nerve and fibre', 'is plates of armor', 'is war-paint', 'is wrath he darted upward', 'leaped into the sunshine', 'is great jaws', 'some cavern', 'lack river', 'plunges down the rapids', 'self in utter darkness', 'helpless wonder', 'felt a great heart beating', 'utter darkness', 'smote it in his anger', 'is fist', 'heart of Nahma', 'round him', 'staggered through it', 'faint and weary', 'ise then did Hiawatha', 'is birch-canoe for safety', 'from out the jaws of Nahma', 'hurled and perish', 'isked and chatted very gayly', 'led and tugged with Hiawatha', 'was completed', 'said Hiawatha to him', 'toiled to help me', 'thanks of Hiawatha', 'gives you', 'ereafter and forever', 'call you Adjidaumo', 'call you', 'gain the sturgeon', 'quivered in the water', 'was still', 'drifted landward', 'grated on the pebbles', 'listening Hiawatha', 'grate upon the margin', 'rand upon the pebbles', 'ere dead upon the margin', 'heard a clang and flapping', 'wings assembling', 'screaming and confusion', 'rey contending', 'light above him', 'glittering eyes of sea-gulls', 'saying to each other', 'is our brother', 'shouted from below them', 'from the caverns:', 'ye sea-gulls', 'have slain the sturgeon', 'openings widen', 'is dark prison', 'speak of your achievements', 'clamorous sea-gulls', 'led with beak and claws together', 'openings wider', 'from peril and from prison', 'peril of the water', 'released my Hiawatha', 'standing near his wigwam', 'called to old Nokomis', 'beckoned to Nokomis', 'feeding on him', 'have slain the Mishe-Nahma', 'said he', 'feed upon him', 'ends Kayoshk', 'hem not away', 'have saved me from great peril', 'is ended', 'are full with feasting', 'ill they homeward fly', 'bring all your pots and kettles', 'make oil for us in Winter', 'waited till the sun set', 'ill the pallid moon', 'ranquil water', 'sated sea-gulls', 'rose with clamor', 'cross the fiery sunset', 'sleep went Hiawatha', 'is to her labor', 'changed places', 'was red with sunrise', 'hungry sea-gulls', 'from the reedy islands', 'morning banquet', 'ree whole days and nights alternate', 'is and the sea-gulls', 'washed through the rib-bones', 'came no longer', 'lay nothing', 'leton of Nahma', 'ores of Gitche Gumee', 'shining Big-Sea-Water', 'pointing westward', 'clouds of sunset', 'red sun descending', 'is way along the heavens', 'behind him', 'is ambush', 'lowed fast those bloody footprints', 'lowed in that fiery war-trail', 'are upon his features', 'words to Hiawatha:', 'dwells the great Pearl-Feather', 'is fiery serpents', 'lack pitch-water', 'see his fiery serpents', 'eat serpents', 'laying in the water', 'see the black pitch-water', 'beyond them', 'clouds of sunset', 'slew my father', 'is wicked wiles and cunning', 'from the moon descended', 'came on earth to seek me', 'from the marshes', 'ends the pestilential vapors', 'isonous exhalations', 'from the fen-lands', 'isease and death among us', 'smear its sides', 'pass the black pitch-water', 'lay this merciless magician', 'from the fever', 'breathes across the fen-lands', \"avenge my father's murder\", 'is war-gear', 'is birch-canoe for sailing', 'is palm its sides he patted', 'aid with glee', 'see the fiery serpents', 'see the black pitch-water', 'leaped Cheemaun exulting', 'is war-song wild and woful', 'eat war-eagle', 'owls with feathers', 'led through the heavens', 'reached the fiery serpents', 'eat serpents', 'rippling in the water', 'led across the passage', 'blazing crests uplifted', 'eathing fiery fogs and vapors', 'pass beyond them', 'fearless Hiawatha', 'is wise', 'pass my way', 'go upon my journey', 'made answer:', 'ised his mighty bow of ash-tree', 'is arrows', 'hem fast among the serpents', 'cry and a death-cry', 'eath-song of Kenabeek', 'ring in the bloody water', 'lay all the fiery serpents', 'hem Hiawatha', 'cried exulting:', 'lack pitch-water', 'took the oil of Nahma', 'bows and sides anointed', 'ared them well with oil', 'pass the black pitch-water', 'led upon it', 'ish water', 'ered with its mould of ages', 'rotting water-rushes', 'leaves of lilies', 'shimmering moonlight', 'isps illumined', 'res by ghosts of dead men kindled', 'weary night-encampments', 'hite with moonlight', 'ater black with shadow', 'round him the Suggema', 'sang his war-song', 'islead him', 'is head into the moonlight', 'is yellow eyes upon him', 'sank beneath the surface', 'thousand whistles', 'ered over all the fen-lands', 'reedy margin', 'ared Hiawatha', 'realm of Megissogwon', 'oward the land of the Pearl-Feather', 'ared at him', 'ared pale and haggard', 'behind him', 'burned upon his shoulders', 'before him on the upland', 'see the Shining Wigwam', 'ore Cheemaun he patted', 'is birch-canoe said', 'stirred in all its fibres', 'bound of triumph', 'cross the water-lilies', 'led flags and rushes', 'beach beyond them', 'landed Hiawatha', 'took his bow of ash-tree', 'end he rested', 'is knee he pressed the middle', 'ring tighter', 'singing as a herald', 'arer of his message', 'is challenge loud and lofty:', 'from your lodge', 'waits your coming', 'from the Shining Wigwam', 'errible in aspect', 'from head to foot in wampum', 'is warlike weapons', 'like the sky of morning', 'reaked with crimson', 'rested with great eagle-feathers', 'know you', 'back among the women', 'lay you as you stand there', 'slew her father', 'smite like war-clubs', 'is not a bow-string', 'are not so sharp as arrows', 'are better things than words are', 'began the greatest battle', 'looked on', 'birds ever witnessed', 'rise to the sunset', 'hit the shirt of wampum', 'fell the blows he dealt it', 'is mittens', 'fell the heavy war-club', 'rocks asunder', 'break the meshes', 'set Hiawatha', 'is bow of ash-tree', 'is mighty war-club broken', 'is mittens torn and tattered', 'ree useless arrows only', 'used to rest beneath a pine-tree', 'ranches trailed the mosses', 'runk was coated over', \"man's Moccasin-leather\", 'hite and yellow', 'from the boughs above him', 'lack tresses', 'be wounded', 'tipped with jasper', \"flew Hiawatha's arrow\", 'ised a heavy stone to throw it', 'struck him', 'is long tresses', 'reeled and staggered forward', 'wounded bison', 'is on the prairie', 'flew the second arrow', 'orer than the other', 'like windy reeds beneath him', 'trembled like the rushes', 'atest arrow', 'wounded sorest', 'yes of Pauguk', 'are at him', 'call in the darkness', 'lay the great Pearl-Feather', 'grateful Hiawatha', 'led the Mama', 'is perch among the branches', 'is service', 'is day he wears it', 'ears the tuft of crimson feathers', 'is service', 'stripped the shirt of wampum', 'back of Megissogwon', 'is conquest', 'left the body', 'is feet were buried', 'is face was in the water', 'led and clamored', 'eat war-eagle', 'round in narrower circles', 'ore the wealth of Megissogwon', 'is wealth of skins and wampum', 'ison and of beaver', 'belts and strings and pouches', 'wrought with beads of wampum', 'led with arrows', 'led exulting', 'lack pitch-water', 'weltering serpents', 'hies of the battle', 'shout and song of triumph', 'stood old Nokomis', 'stood Chibiabos', 'strong man', 'istening to his songs of triumph', 'comed him with songs and dances', 'joyous feast', 'slain the great Pearl-Feather', 'sent the fiery fever', 'from the fen-lands', 'isease and death among us', 'ear to Hiawatha', 'is friendship', 'is remembrance', 'decked his pipe-stem', 'rest of Mama', 'hies of the battle', 'divided with his people', 'ared it equally among them', 'bow the cord is', 'is woman', 'bends him', 'obeys him', 'draws him', 'yet she follows', 'thout the other', 'aid within himself and pondered', 'perplexed by various feelings', 'ill of Minnehaha', 'lovely Laughing Water', 'maiden of your people', 'said the old Nokomis', 'go not westward', 'know not', 're upon the hearth-stone', 'light or the moonlight', 'handsomest of strangers', 'issuading spake Nokomis', 'is: \"Dear old Nokomis', 'is the firelight', 'light better', 'like the moonlight', 'said old Nokomis:', 'ring not here an idle maiden', 'ring not here a useless woman', 'ring a wife with nimble fingers', 'hand that move together', 'run on willing errands', 'answered Hiawatha:', \"maker's daughter\", 'somest of all the women', 'bring her to your wigwam', 'run upon your errands', 'light of my people', 'said Nokomis:', 'lodge a stranger', 'are the Dacotahs', 'is there war between us', 'are feuds yet unforgotten', 'ill may open', 'answered Hiawatha:', 'bes might be united', 'be forgotten', 'led forever', 'departed Hiawatha', 'handsome women', 'riding over moor and meadow', 'interrupted silence', 'is moccasins of magic', 'ride a mile he measured', 'seemed long before him', 'heart outran his footsteps', 'journeyed without resting', \"heard the cataract's laughter\", 'is the sound', 'calls me', 'skirts of the forests', 'hadow and the sunshine', 'fallow deer were feeding', 'saw not Hiawatha', 'is bow he whispered', 'is arrow whispered', 'singing on its errand', 'heart of the roebuck', 'is shoulder', 'sped forward without pausing', 'is wigwam', 'ow-heads of jasper', 'ow-heads of chalcedony', 'is side', 'lovely Minnehaha', 'is daughter', 'lags and rushes', 'thoughts were', \"maiden's of the future\", 'was thinking', 'sat there', 'had struck the deer and bison', 'clamorous Wawa', 'eat war-parties', 'came to buy his arrows', 'is arrows', 'ore such noble warriors', 'found on earth as they were', 'like women', 'used their tongues for weapons', 'thinking of a hunter', 'be and country', \"buy her father's arrows\", 'rested in the wigwam', 'ered long about the doorway', 'back as he departed', 'heard her father praise him', 'ise his courage and his wisdom', 'come again for arrows', 'lay idle', 'ere very dreamy', 'heard a footstep', 'rustling in the branches', 'glowing cheek and forehead', 'is shoulders', 'from out the woodlands', 'stood before them', 'is labor', 'ished arrow', 'enter at the doorway', 'rose to meet him', 'are welcome', 'laid his burden', 'is shoulders', 'looked up at him', 'from her mat of rushes', 'look and accent', 'are welcome', 'was the wigwam', 'dressed and whitened', 'painted on its curtains', 'stooped to enter', 'touched his eagle-feathers', 'entered at the doorway', 'rose the Laughing Water', 'round fair Minnehaha', 'aid aside her mat unfinished', 'set before them', 'brought them from the brooklet', 'arthen vessels', 'drink in bowls of bass-wood', 'istened while the guest was speaking', 'istened while her father answered', 'single word she uttered', 'ream she listened', 'words of Hiawatha', 'talked of old Nokomis', 'had nursed him in his childhood', 'is companions', 'strong man', 'happiness and plenty', 'years of warfare', 'years of strife and bloodshed', 'is peace between the Ojibways', 'be of the Dacotahs', 'continued Hiawatha', 'is peace may last forever', 'hands be clasped more closely', 'hearts be more united', 'is maiden', 'liest of Dacotah women', 'used a moment ere he answered', 'looked at Laughing Water', 'made answer very gravely:', 'heart speak', 'lovely Laughing Water', 'stood there', 'illing nor reluctant', 'went to Hiawatha', 'took the seat beside him', 'say it', 'follow you', \"is was Hiawatha's wooing\", 'won the daughter', 'went together', 'woodland and the meadow', 'standing lonely', 'is wigwam', 'from the distance', 'from afar off', 'are thee well', 'is labor', 'is sunny doorway', 'ring to himself', 'leave us', 'love us', 'have learned to help us', 'are old and lean upon them', 'flaunting feathers', 'is flute of reeds', 'rest maiden', 'follows where he leads her', 'was the journey homeward', 'seemed to Hiawatha', 'journeyed very slowly', 'is pace he checked and slackened', 'rushing rivers', 'bore the maiden', 'thought her as a feather', 'is head-gear', 'ared the tangled pathway for her', 'swaying branches', 'lodge of branches', 'bed with boughs of hemlock', 'before the doorway', 'dry cones of the pine-tree', 'went with them', 'looked at them', 'sleepless eyes their slumber', 'is ambush in the oak-tree', 'yes the lovers', 'from the path before them', 'is burrow', 'erect upon his haunches', 'yes the lovers', 'was the journey homeward', 'sang loud and sweetly', \"happiness and heart's-ease\", 'are you', 'love you', 'are you', 'hem through the branches', 'is sunshine', 'is shadow', 'hade and sunshine', 'looked at them', 'led the lodge with mystic splendors', 'ispered to them', 'is restless', 'is quiet', 'is mine', 'though I follow', 'journeyed homeward', 'was that Hiawatha', 'lodge of old Nokomis', 'shine of his people', 'somest of all the women', 'handsome women', 'hear how Pau-Puk-Keewis', 'handsome Yenadizze', 'ow the gentle Chibiabos', 'weetest of musicians', 'love and longing', 'eat boaster', 'range adventure', 'be more joyous', 'pass more gayly', 'be more contented', 'was the feast Nokomis', 'made of bass-wood', 'ished very smoothly', 'ished very smoothly', 'had sent through all the village', 'bes of fur and belts of wampum', 'did with their paint and plumage', 'beads and tassels', 'ate the sturgeon', 'cooked by old Nokomis', 'low cakes of the Mondamin', 'lovely Laughing Water', 'areful old Nokomis', 'before them', 'waited on the others', 'served their guests in silence', 'had finished', 'isk and busy', 'led the red-stone pipes for smoking', 'from the South-land', 'red willow', 'leaves of fragrance', 'erry dances', 'please us', 'be more joyous', 'pass more gayly', 'be more contented', 'handsome Pau-Puk-Keewis', 'erry mischief-maker', 'called the Storm-Fool', 'killed was he in sports and pastimes', 'dance of snow-shoes', 'lay of quoits and ball-play', 'killed was he in games of hazard', 'kill and hazard', 'called him Faint-Heart', 'led him coward', 'heeded he their jesting', 'ared he for their insults', 'men and the maidens', 'handsome Pau-Puk-Keewis', 'dressed in shirt of doeskin', 'hite and soft', 'fringed with ermine', 'wrought with beads of wampum', 'dressed in deer-skin leggings', 'ringed with hedgehog quills and ermine', 'sins of buck-skin', 'beads embroidered', \"is head were plumes of swan's down\", 'is heels were tails of foxes', 'hand a fan of feathers', 'was in the other', 'red with streaks of red and yellow', 'reaks of blue and bright vermilion', 'fell his tresses', \"like a woman's\", 'right with oil', 'aids of scented grasses', 'sound of flutes and singing', 'sound of drums and voices', 'handsome Pau-Puk-Keewis', 'began his mystic dances', 'danced a solemn measure', 'low in step and gesture', 'hadows and the sunshine', 'reading softly like a panther', 'ill swifter', 'round in circles', 'round and round the wigwam', 'leaves went whirling with him', 'ill the dust and wind together', 'wept in eddies round about him', 'sped with frenzied gestures', 'tossed it', 'round him', 'came a whirlwind', 'blown and sifted', \"eat snowdrifts o'er the landscape\", 'ores with Sand Dunes', 'erry Pau-Puk-Keewis', \"is Beggar's Dance to please them\", 'sat down laughing', 'ere among the guests assembled', 'fanned himself serenely', 'is fan of turkey-feathers', 'said to Chibiabos', 'end of Hiawatha', 'weetest of all singers', 'best of all musicians', 'love and songs of longing', 'be more joyous', 'pass more gayly', 'be more contented', 'weet and tender', 'love and songs of longing', 'ill at Hiawatha', 'sang in this wise:', 'flower of the forest', 'bird of the prairie', 'soft and fawn-like', 'lookest at me', 'lies of the prairie', 'feel the dew upon them', 'is as the fragrance', 'flowers in the morning', 'rance is at evening', 'are falling', 'meet thee', 'meet thee', 'meet the sunshine', 'are brightest', 'heart sings to thee', 'art near me', 'art not pleased', 'heart is sad and darkened', 'shining river darkens', 'hadows on it', 'thou smilest', 'heart is brightened', 'shine gleam the ripples', 'makes in rivers', 'smile the waters', 'cloudless skies above us', 'lose the way of smiling', 'art no longer near me', 'beating heart', 'love and longing', 'eat boaster', 'end of old Nokomis', 'weet musician', 'gave him', 'round him', 'looks and gestures', 'hear his pleasant stories', 'is immeasurable falsehoods', 'was Iagoo', 'heard he an adventure', 'had met a greater', 'ever any deed of daring', 'had done a bolder', 'ever any marvellous story', 'tell a stranger', 'listen to his boasting', 'give him credence', 'shot an arrow', 'caught so many fishes', 'killed so many reindeer', 'trapped so many beaver', 'run so fast as he could', 'dive so deep as he could', 'swim so far as he could', 'made so many journeys', 'seen so many wonders', 'wonderful Iagoo', 'is marvellous story-teller', 'came a by-word', 'boastful hunter', 'address too highly', 'is achievements', 'arers cried', 'goo come among us', 'carved the cradle', 'work out of linden', 'reindeer sinews', 'taught him later', 'make his bows and arrows', 'make the bows of ash-tree', 'ows of the oak-tree', 'good Iagoo', 'ow a tale of wonder', 'range adventure', 'be more joyous', 'pass more gayly', 'be more contented', 'answered straightway', 'hear a tale of wonder', 'hear the strange adventures', 'be the sun descending', 'evel plain of water', 'waves with crimson', 'illing all the air with splendor', 'dor of its plumage', 'is the sun descending', 'down into the water', 'stained with purple', 'ater flushed with crimson', 'is the Red Swan floating', 'beneath the water', 'are lifted', 'are reddened', 'trembles through the purple', 'ended in the twilight', 'is a bead of wampum', 'bes of the Great Spirit', 'passes through the twilight', 'beheld Iagoo', 'hold it', 'red Star of Evening', 'hear a tale of wonder', 'ear the story of Osseo', 'ore remembered', 'arer the beginning', 'closer to us', 'ere more familiar', 'lived a hunter', 'comely daughters', 'rest of the sisters', 'married warriors', 'brave and haughty husbands', 'flouted all her lovers', 'handsome suitors', 'married old Osseo', 'like a squirrel', 'beautiful within him', 'tenderness and passion', 'is bosom', 'is spirit', 'is being', 'is language', 'belts of wampum', 'paint and feathers', 'lowed her with jest and laughter', 'are not for you', 'are not for your belts of wampum', 'are not for your paint and feathers', 'are not for your jests and laughter', 'happy with Osseo', 'eat feast invited', 'damp and dusk of evening', 'gether the ten sisters', 'gether with their husbands', 'followed old Osseo', 'beside him', 'chatted gayly', 'walked in silence', 'gazed imploring', 'trembling Star of Evening', 'tender Star of Woman', 'heard him murmur softly', 'said the eldest sister', 'is praying to his father', 'pity that the old man', 'stumble in the pathway', 'break his neck by falling', 'laughed till all the forest', 'seemly laughter', 'storms uprooted', 'runk of an oak-tree', 'leaves and mosses', 'saw it', 'cry of anguish', 'yawning cavern', 'went in an old man', 'came a young man', 'strong and handsome', 'was transfigured', 'tored to youth and beauty', 'good Osseo', 'was she transfigured', 'hanged into a weak old woman', 'tottered onward', 'isters and their husbands', 'echoing forest', 'seemly laughter', 'turned not from her', 'beside her', 'own and withered', 'is in Winter', 'led her sweetheart', 'soft words of kindness', 'reached the lodge of feasting', 'sat down in the wigwam', 'tender Star of Woman', 'lost in dreaming', 'sat Osseo', 'ere merry', 'ere happy', 'ere joyous but Osseo', 'drink he tasted', 'speak nor listen', 'bewildered sat he', 'reamily and sadly', 'gleaming sky above them', 'was heard', 'from the starry distance', 'from the empty vastness', \"said: 'O Osseo\", 'best beloved', 'are the spells that bound you', 'harms of the magicians', 'owers of evil', 'stands before you:', 'is blessed and enchanted', 'has magic virtues in it', 'change you to a spirit', 'bowls and all your kettles', 'lay no longer', 'changed to wampum', 'be silver', 'shine like shells of scarlet', 'gleam and glimmer', 'men shall no longer', 'doom of labor', 'changed to birds', 'beauty of the starlight', 'clouds of evening', 'heard as whispers', 'words he comprehended', 'birds afar off', 'ill afar off', 'some forest', 'began to tremble', 'began to shake and tremble', 'felt it rising', 'lowly through the air ascending', 'dewy starlight', 'passed the topmost branches', 'wooden dishes', 'changed to shells of scarlet', 'arthen kettles', 'changed to bowls of silver', 'poles of the wigwam', 'glittering rods of silver', 'bark upon them', 'shining shards of beetles', 'gazed around him', 'saw the nine fair sisters', 'isters and their husbands', 'hanged to birds of various plumage', 'ere jays and some were magpies', 'uttered all their feathers', 'shining plumage', 'like fans unfolded', 'sat in silence', 'cry of anguish', 'cry as he had uttered', 'ree in the forest', 'turned her youth and beauty', 'soiled and tattered garments', 'formed to robes of ermine', 'came a feather', 'shining silver feather', 'gain the wigwam trembled', 'rushed through airy currents', 'arent cloud and vapor', 'falls on snow-flake', 'drops on a river', 'istledown on water', 'words of welcome', 'locks of silver', 'erene and tender', 'said: `My son', 'bring there', 'listening feathers', 'doorway of my wigwam', 'hung the bird-cage', 'entered in and gladly', \"istened to Osseo's father\", 'said: `O my Osseo', 'have had compassion on you', 'back your youth and beauty', 'birds of various plumage', 'isters and their husbands', 'because they mocked you', 're of the old man', 'see your heart of passion', 'see your youth immortal', 'loved you', 'lodge that glimmers yonder', 'star that twinkles', 'left hand', 'formed you to an old man', 'is beams fall on you', 'round him', 'is enchantment', 're the arrows that he uses', 'is father', 'doorway of the wigwam', 'ore a son unto Osseo', 'is mother', 'is father', 'grew up and prospered', 'light him', 'bows and arrows', 'eat cage of silver', 'is aunts and uncles', 'birds with glossy feathers', 'shoot at', 'round they wheeled and darted', 'led the Evening Star with music', 'joy and freedom', 'led the Evening Star with splendor', 'uttering of their plumage', 'ill the boy', 'is bow and shot an arrow', 'shining feathers', 'fell wounded sorely', 'wondrous transformation', 'saw before him', 'beautiful young woman', 'ow in her bosom', 'fell on the planet', 'red Star of Evening', 'was the spell of magic', 'range enchantment', 'fearless bowman', 'felt himself descending', 'seen hands', 'ownward through the empty spaces', 'ownward through the clouds and vapors', 'rested on an island', 'reen and grassy', 'saw descending', 'shining feathers', 'painted leaves of Autumn', 'lodge with poles of silver', 'like wings of beetles', 'shining shards of beetles', 'winds of heaven uplifted', 'sank upon the island', 'good Osseo', 'assumed the shape of mortals', 'remained as Little People', 'was shining', 'hand they danced together', \"island's craggy headlands\", 'beach low and level', 'seen there', 'ranquil Summer evenings', 'ore the fisher', 'hears their happy voices', 'dancing in the starlight', 'was completed', 'wondrous tale was ended', 'round upon his listeners', 'goo added:', 'are great men', 'have known such', 'stand not', 'make a jest of', 'jeer at in derision', 'ate of jesters', 'istened to the marvellous story', 'laughing and applauding', 'whispered to each other:', 'mean himself', 'are we the aunts and uncles', 'sang Chibiabos', 'love and longing', 'weet and tender', 'pensive sadness', \"maiden's lamentation\", 'think of my beloved', 'think of my beloved', 'heart is thinking of him', 'from him', 'hung the wampum', 'hite wampum', 'go with you', 'go with you', 'is my native country', 'looked back to behold him', 'ere we parted', 'hold him', 'was gazing', 'was standing', 'fallen tree was standing', 'had dropped into the water', 'think of my beloved', 'think of my beloved', 'heart is thinking of him', \"was Hiawatha's Wedding\", 'dance of Pau-Puk-Keewis', 'happy days that followed', 'was the bloody hatchet', 'readful war-club', 'like weapons', 'cry was forgotten', 'was peace among the nations', 'molested roved the hunters', 'fish in lake and river', 'trapped the beaver', 'molested worked the women', 'from the maple', 'ered wild rice in the meadows', 'ressed the skins of deer and beaver', 'round the happy village', 'reen and shining', 'reen plumes of Mondamin', 'is soft and sunny tresses', 'illing all the land with plenty', 'was the women who in Spring-time', 'fields and fruitful', 'arth Mondamin', 'was the women who in Autumn', 'yellow husks of harvest', 'from Mondamin', 'taught them', 'was planted', 'ise and thoughtful', 'said to Minnehaha', 'is wife', 'bless to-night the cornfields', 'round them', 'from destruction', 'last of mildew', 'light of insect', 'steals the maize-ear', 'is silence', 'is darkness', 'doors of all the wigwams', 'hear you', 'see you', 'ise up from your bed in silence', 'arments wholly', 'round the fields you planted', 'ered by your tresses only', 'bed with darkness as a garment', 'be more fruitful', 'passing of your footsteps', 'round them', 'light nor mildew', 'burrowing worm nor insect', \"pass o'er the magic circle\", 'ree-tops near the cornfields', 'hungry crows and ravens', 'is band of black marauders', 'laughed at Hiawatha', 'shook with laughter', 'words of Hiawatha', 'said they', 'hear the Wise Man', 'ear the plots of Hiawatha', 'iseless night descended', 'sang among the hemlocks', 'doors of all the wigwams', 'rose Laughing Water', 'aid aside her garments wholly', 'clothed and guarded', 'shamed and unaffrighted', 'round the cornfields', 'rew the sacred', 'round the cornfields', 'beauty in the darkness', 'panting of her bosom', 'is sacred mantle', 'see her beauty', 'saw her', 'is black marauders', 'ows and blackbirds', 'fields of Hiawatha', 'drag Mondamin', 'said they', 'is buried', 'round it', 'red footprints', 'stamps upon it', 'heard the scornful laughter', 'from the tree-tops', 'ends the ravens', 'teach you all a lesson', 'be soon forgotten', 'had risen before the daybreak', \"spread o'er all the cornfields\", 'ares to catch the black marauders', 'lying now in ambush', 'neighboring grove of pine-trees', 'ows and blackbirds', 'came with caw and clamor', 'cry of voices', 'work of devastation', 'down upon the cornfields', 'beak and talon', 'kill in wiles of warfare', 'perceived no danger near them', 'came entangled', 'found themselves imprisoned', 'ares of Hiawatha', 'came he', 'riding terrible among them', 'is aspect', 'bravest quailed with terror', 'destroyed them', 'oft on poles for scarecrows', 'ated cornfields', 'is vengeance', 'warning to marauders', 'ared among them', 'is people', 'bound him', 'is wigwam', 'is wigwam', 'said he', 'leader of the robbers', 'is mischief', 'is outrage', 'keep you', 'hold you', 'good behavior', 'left him', 'morning sunshine', 'is displeasure', 'is great sable pinions', 'is freedom', 'calling on his people', \"is sighs o'er all the landscape\", 'sent his ardor', 'isses warm and tender', 'grew and ripened', 'stood in all the splendor', 'reen and yellow', 'full and shining', 'bursting sheaths of verdure', 'said to Minnehaha:', 'is the Moon when', 'are falling', 'been gathered', 'is ripe and ready', 'gather in the harvest', 'wrestle with Mondamin', 'is plumes and tassels', 'is garments green and yellow', 'erry Laughing Water', 'from the wigwam', 'called the women round them', 'led the young men and the maidens', 'husking of the maize-ear', 'rant pine-trees', 'men and the warriors', 'interrupted silence', 'some labor', 'men and the women', 'istened to their noisy talking', 'aughter and their singing', 'like the magpies', 'laughing like the blue-jays', 'singing like the robins', 'some lucky maiden', 'red ear in the husking', 'red as blood is', 'cried they all together', 'have a sweetheart', 'have a handsome husband', 'men all responded', 'beneath the pine-trees', 'ear in husking', 'ear in the husking', 'sang together', 'limped about the cornfields', 'bent almost double', 'singly or together:', 'steals the maize-ear', 'rang with laughter', \"from Hiawatha's wigwam\", 'is anger', 'from all the neighboring tree-tops', 'croaked the black marauders', 'men all responded', 'beneath the pine-trees', 'said Hiawatha', 'fade and perish', 'eat traditions', 'achievements of the warriors', 'ventures of the hunters', 'isdom of the Medas', 'reams and visions', 'are forgotten', 'ise men speak', 'words of wisdom', 'hear them', 'reach the generations', 'yet unborn', 're no signs', 'res painted', 'are in those graves we know not', 'are our fathers', 'are and kindred', 'know not', 'are our fathers', 'speak together', 'speak when absent', 'send our voices from us', 'dwell afar off', 'send a secret message', 'arer learns our secret', 'pervert it', 'betray it', 'reveal it unto others', 'said Hiawatha', 'sing in the forest', 'are of his people', 'took his colors', 'is paints of different colors', 'smooth bark of a birch-tree', 'many shapes and figures', 'had a meaning', 'thought suggested', 'points projecting', 'winds of the heavens', 'is symbol', 'readful Spirit of Evil', 'was depicted', 'eat serpent', 'creeping Spirit of Evil', 'is symbol', 'drew as circles', 'was white', 'was darkened', 'stars he painted', 'fish and reptile', 'drew a straight line', 'bow above it', 'hite the space between for daytime', 'led with little stars for night-time', 'left a point for sunrise', 'point for sunset', 'point for noontide', 'cloudy weather', 'descending from it', 'pointing towards a wigwam', 'ere a sign of invitation', 'ere a sign of guests assembling', 'hands with palms uplifted', 'ere a symbol of destruction', 'ere a hostile sign and symbol', 'did Hiawatha', 'wondering people', 'interpreted their meaning', 'said: \"Behold', 'paint them all with figures', 'hold symbol', 'own ancestral Totem', 'follow after', 'distinguish them and know them', 'painted on the grave-posts', 'yet unforgotten', 'is own ancestral Totem', 'is household', 'inverted as a token', 'was departed', 'bore the symbol', 'beneath in dust and ashes', 'bark and deer-skin', 'res for the songs they chanted', 'ate symbol', 'res mystical and awful', 'range and brightly colored', 'had its meaning', 'some magic song suggested', 'light through all the heaven', 'is bloody crest erected', 'looking into heaven', 'eclipsed and dying', 'rane and hen-hawk', 'bird of magic', 'walk the heavens', 'lying pierced with arrows', 'hands of death uplifted', 'lags on graves', 'eat war-captains', 'arth and heaven', 'hapes they painted', 'bark and the deer-skin', 'written in these figures', 'had its meaning', 'ate song recorded', 'gotten was the Love-Song', 'ore than war or hunting', 'was recorded', 're standing', 'rightest scarlet', 'is the lover', 'meaning is', 'owerful over others', 're seated', 'laying on a drum of magic', 'is my voice you hear', 'red figure seated', 'shelter of a wigwam', 'meaning of the symbol', 'sit beside you', 'man and woman', 'hand in hand together', 'hands so clasped together', 'seemed in one united', 'words thus represented', 'see your heart within you', 'are red with blushes', 'maiden on an island', 're of an Island', 'is shape suggested', 'ere at a distance', 'ere upon some far-off island', 'cast upon you', 'ower of passion', 'straightway draw you to me', 're of the maiden', 'lover near her', 'ispering to her in her slumbers', 'from me', 'love would reach you', 'last of all the figures', 'heart within a circle', 'had this meaning:', 'lies your heart before me', 'heart I whisper', 'was that Hiawatha', 'is wisdom', 'taught the people', 'smooth bark of the birch-tree', 'hite skin of the reindeer', \"ring Hiawatha's wisdom\", 'love for Chibiabos', 'faithful friendship', 'words and actions', 'gainst them', 'molest them and destroy them', 'ise and wary', 'said to Chibiabos', 'leave me', 'harm you', 'shook his coal-black tresses', 'ered ever sweet and childlike', 'fear for me', 'come not near me', 'fed with ice the Big-Sea-Water', 'issed among the withered oak-leaves', 'hanged the pine-trees into wigwams', 'ered all the earth with silence', \"is brother's warning\", 'hunt the deer with antlers', 'went Chibiabos', 'cross the Big-Sea-Water', 'rang with speed the deer before him', 'ow he followed', 'reacherous ice he followed', 'fierce commotion', 're of the hunting', 'waiting for him', 'beneath him', 'downward to the bottom', 'is body', 'god of water', 'owned him in the deep abysses', 'lands Hiawatha', 'fearful lamentation', 'used to listen', 'howled from the prairies', 'answered \"Baim-wawa', 'is face with black he painted', 'is robe his head he covered', 'sat lamenting', 'sat lamenting', 'is moan of sorrow:', 'is dead', 'weet musician', 'weetest of all singers', 'gone from us forever', 'moved a little nearer', 'reen fans above him', 'console him', 'is lamentation', 'vain for Chibiabos', 'rushes in the meadow', 'sang the bluebird', 'is dead', 'weet musician', 'sang the robin', 'is dead', 'weetest singer', 'ill complaining', 'went the Wawonaissa', 'is dead', 'weet musician', 'weetest of all singers', 'sit Hiawatha', 'beside him', 'appease him', 'console him', 'ring each a pouch of healing', 'led with magic roots and simples', 'led with very potent medicines', 'heard their steps approaching', 'ceased lamenting', 'led no more on Chibiabos', 'aught he questioned', 'naught he answered', 'is mournful head uncovered', 'is face the mourning colors', 'lowly and in silence', 'lowly and in silence followed', 'gave him', 'eat their drums', 'shook their rattles', 'singly and in chorus', 'like these', 'is the great Gray Eagle talking', 'hite crows', 'come and hear him', 'speaking thunder helps me', 'seen spirits help me', 'hear their voices calling', 'hear them', 'blow you strong', 'heal you', 'lied the chorus', 'are all the serpents', 'shake my skin of hen-hawk', 'hite loon', 'kill him', 'heart and kill it', 'blow you strong', 'heal you', 'lied the chorus', 'speak the wigwam trembles', 'red Lodge with terror', 'seen begin to shake it', 'read on', 'makes a noise beneath me', 'blow you strong', 'ise and speak', 'lied the chorus', 'shook their medicine-pouches', 'round him', 'starting wild and haggard', 'from dreams awakened', 'is madness', 'are swept from heaven', 'is brain departed', 'is moody melancholy', 'wept from rivers', 'heart departed', 'is sorrow and affliction', 'summoned Chibiabos', 'is grave beneath the waters', 'was the magic', 'cry and invocation', 'lay there', 'rose and listened', 'eard the music and the singing', 'bedient to the summons', 'doorway of the wigwam', 'enter they forbade him', 'burning fire-brand', 'made him', 're to kindle', 'died thereafter', 'res for their night encampments', 'dom of Ponemah', 'is childhood', 'knew him', 'sing silent through the forest', 'smoke-wreath wafted sideways', 'vanished Chibiabos', 'ere he passed', 'ranches moved not', 'ere he trod', 'bent not', 'leaves of last year', 'is footstep', 'journeyed onward', 'own the pathway of the dead men', 'berry feasted', 'swinging log he crossed it', 'was carried', 'saw he', 'den with war-clubs', 'bows and arrows', 'bes of fur', 'had given', 'do the living', 'said they', 'burdens on us', 'go naked', 'go fasting', 'bear such heavy burdens', 'weary journey', 'issued Hiawatha', 'use of simples', 'dotes for poisons', 're of all diseases', 'made known to mortals', 'red art of healing', 'hear how Pau-Puk-Keewis', 'handsome Yenadizze', 'called the Storm-Fool', 'illage with disturbance', 'hear of all his mischief', 'light from Hiawatha', 'wondrous transmigrations', 'is adventures', 'ores of Gitche Gumee', 'gow Wudjoo', 'shining Big-Sea-Water', 'lodge of Pau-Puk-Keewis', 'is frenzy', 'drifting sands together', 'gow Wudjoo', 'errily and madly', 'please them', 'search of new adventures', 'went Pau-Puk-Keewis', 'speed into the village', 'men all assembled', 'lodge of old Iagoo', 'istening to his monstrous stories', 'wonderful adventures', 'telling them the story', 'made a hole in heaven', 'bed up into heaven', 'let out the summer-weather', 'sayed it', 'eat achievement', 'ists against the heavens', 'gainst the sky their foreheads', 'racked the sky', 'break it', 'ow the Wolverine', 'ready for the encounter', 'is knees down', 'like a squirrel', 'is arms back', 'like a cricket', 'said old Iagoo', 'rise beneath it', 'racked the sky', 'is at highest', 'shattered sky asunder', 'ared within it', 'went in behind him', 'shouted Pau-Puk-Keewis', 'entered at the doorway', 'is talking', \"goo's stories\", \"red of Hiawatha's wisdom\", 'muse you', 'is endless talking', 'is pouch of wolf-skin', 'owl and Counters', 'thirteen pieces', 'hite on one side were they painted', 'beeks or great serpents', 'eat war-club', 'ender fish', 'round pieces', 'ree Sheshebwug or ducklings', 'made of bone and painted', 'ere brass', 'side burnished', 'ere black upon the other', 'wooden bowl he placed them', 'led them together', 'round before him', 'aiming and explaining:', 'are all the pieces', 'beek standing', 'side of a brass piece', 'burnished Ozawabeek', 'are counted', 'shook the pieces', 'led them together', 'round before him', 'aiming and explaining:', 'are both the great Kenabeeks', 'hite the Ininewug', 'are all the other pieces', 'are counted', 'taught the game of hazard', 'layed it and explained it', 'ared at him', 'ared at him', 'said old Iagoo', 'kill and hazard', 'seen in different nations', 'layed in different countries', 'lays with old Iagoo', 'have very nimble fingers', 'think yourself so skilful', 'beat you', 'give you lessons', 'owl and Counters', 'layed together', 'men and the young men', 'layed for dresses', 'layed till midnight', 'layed till morning', 'layed until the Yenadizze', 'ill the cunning Pau-Puk-Keewis', 'had despoiled them', 'best of all their dresses', 'bes of ermine', 'rests of feathers', 'ared wildly at him', 'ared at him', 'aid the lucky Pau-Puk-Keewis:', 'rings and adventures', 'have need of a companion', 'have a Meshinauwa', 'tendant and pipe-bearer', 'venture all these winnings', 'heaped about me', 'is wampum', 'throw will venture', 'gainst the young man yonder', 'was a youth of sixteen summers', 'was a nephew of Iagoo', 'called him', 'burns in a pipe-head', 'beneath the ashes', 'is shaggy eyebrows', 'lowed the eyes of old Iagoo', 'answered very fiercely', 'answered all and each one', 'wooden bowl the old man', 'is bony fingers', 'fiercely and with fury', 'ring together', 'threw them down before him', 'ere both the great Kenabeeks', 'lack the four brass Ozawabeeks', 'hite alone the fish', 'smiling Pau-Puk-Keewis', 'threw the pieces', 'tossed them', 'fell about him scattered', 'right the Ozawabeeks', 'hite the other pieces', 'right among the others', 'was standing', 'mine the game is', 'ared at him fiercely', 'ared at him', 'turned and left the wigwam', 'is arms the winnings', 'bes of ermine', 'said Pau-Puk-Keewis', 'is fan of feathers', 'gow Wudjoo', 'smoke and gambling', 'ere the eyes of Pau-Puk-Keewis', 'came forth to the freshness', 'singing gayly', 'flowing swiftly', 'heart of Pau-Puk-Keewis', 're as the birds sing', 'like the streamlets', 'wandered through the village', 'early gray of morning', 'is fan of turkey-feathers', \"is plumes and tufts of swan's down\", 'reached the farthest wigwam', 'lodge of Hiawatha', 'was it and deserted', 'met him at the doorway', 'came to bid him welcome', 'singing round it', 'round the doorway', 'oft upon the ridge-pole', 'is wings at Pau-Puk-Keewis', 'are gone', 'is empty', 'was spake Pau-Puk-Keewis', 'heart resolving mischief', 'is wary Hiawatha', 'illy Laughing Water', 'left unguarded', 'seized the raven', 'round him like a rattle', 'shook it', 'ridge-pole of the wigwam', 'thy step he entered', 'lodge in wild disorder', 'hold things about him', 'led together in confusion', 'wood and earthen kettles', 'bes of buffalo and beaver', 'departed Pau-Puk-Keewis', 'singing through the forest', 'istling gayly to the squirrels', 'from hollow boughs above him', 'wood birds', 'from out the leafy darkness', 'ered with a song as merry', 'rocky headlands', 'self upon their summit', 'full of mirth and mischief', 'return of Hiawatha', 'lay there', 'lashed the waters', 'washed the dreamy waters', 'swam the heavens', 'wept and wheeled about him', 'rushed him with their pinions', 'lay there', 'ered them by tens and twenties', 'dies down the headland', 'beach below him', 'ill at length Kayoshk', 'laying us by hundreds', 'end a message to our brother', 'send to Hiawatha', 'was Hiawatha', 'came into the village', 'eard of all the misdemeanors', 'came through his nostrils', 'buzzed and muttered', 'like a hornet', 'lay this Pau-Puk-Keewis', 'lay this mischief-maker', 'said he', 'rude and rough the way is', 'attain him', 'reach him', 'suit departed', 'passed it', 'ere he rested', 'found not Pau-Puk-Keewis', 'trampled grasses', 'had rested', 'is body', 'beneath them', 're of defiance', 're of derision', 'cried Hiawatha', 'rude and rough the way is', 'take you', 'attain you', 'rock and over river', 'lope he bounded', 'came unto a streamlet', 'let still and tranquil', 'flowed its margin', 'made by the beavers', 'ere knee-deep the trees were standing', 'lies floated', 'rushes waved and whispered', 'stood Pau-Puk-Keewis', 'runks and branches', 'flowed the streamlet', 'rose the beaver', 'eat eyes of wonder', 'ask a question', 'stood Pau-Puk-Keewis', 'flowed the streamlet', 'lowed the bright and silvery water', 'spake unto the beaver', 'is wise:', 'end Ahmeek', 'is the water', 'dive into the water', 'rest there in your lodges', 'lied the beaver', 'made answer:', 'consult the others', 'ask the other beavers', 'sank into the water', 'sank he', 'leaves and branches', 'matted at the bottom', 'stood Pau-Puk-Keewis', 'flowed the streamlet', 'beneath him', 'read serene and calm before him', 'shine and the shadows', 'gleams upon him', 'shining patches', 'rose the beavers', 'lently above the surface', 'seemed full of beavers', 'shining faces', 'beavers Pau-Puk-Keewis', 'said in this wise:', 'is your dwelling', 'from danger', 'isdom and contrivance', 'lied Ahmeek', 'slide down among us', 'ranquil water', 'own into the pond among them', 'sank Pau-Puk-Keewis', 'came his shirt of deer-skin', 'is moccasins and leggings', 'behind him', 'read his fox-tails and his fringes', 'changed into a beaver', 'said Pau-Puk-Keewis', 'make me larger', 'beaver chief responded', 'lodge below you enter', 'make you', 'sank Pau-Puk-Keewis:', 'covered over', 'runks of trees and branches', 'gainst the winter', 'gainst the famine', 'lodge with arching doorway', 'made him large and larger', 'be our ruler', 'said they', 'had Pau-Puk-Keewis', 'ate among the beavers', 'came a voice', 'is station', 'ater-flags and lilies', 'is hunters', 'heard a cry above them', 'shouting and a tramping', 'eard a crashing and a rushing', \"round and o'er them\", 'sucked away in eddies', 'knew their dam was broken', \"lodge's roof the hunters\", 'broke it all asunder', 'shine through the crevice', 'rang the beavers through the doorway', 'hemselves in deeper water', 'pass beneath the doorway', 'puffed with pride and feeding', 'like a bladder', 'looked Hiawatha', 'are all your craft and cunning', 'manifold disguises', 'know you', 'beat and bruised him', 'eat to death poor Pau-Puk-Keewis', 'is pounded', 'rushed to pieces', 'ore him home on poles and branches', 'ore the body of the beaver', 'felt as Pau-Puk-Keewis', 'lived on as Pau-Puk-Keewis', 'is blowing', 'drew itself together', 'rose up from the body', 'took the form and features', 'ishing into the forest', 'ere it vanished', 'form of Pau-Puk-Keewis', 'soft blue shadow', 'rees of the forest', 'ares of white beyond it', 'opening in the forest', 'rushed and panted', 'ending all the boughs before it', 'behind it', 'rain comes', 'many islands', 'eathless Pau-Puk-Keewis', 'ere among the water-lilies', 'rushes floating', 'ring through the reedy Islands', 'beaks they lifted', 'plunged beneath the water', 'darkened in the shadow', 'brightened in the sunshine', 'cried Pau-Puk-Keewis', 'said he', 'rant with plumage', 'shining neck and feathers', 'make me larger', 'changed him', 'smooth and rounded', 'like two great paddles', 'from the forest', 'stood Hiawatha', 'rose with cry and clamor', 'beat of pinions', 'from the reedy Islands', 'ater-flags and lilies', 'said to Pau-Puk-Keewis:', 'look not downward', 'good heed and look not downward', 'range mischance should happen', 'ishap befall you', 'led to northward', 'ist and sunshine', 'reeds and rushes', 'ow as they journeyed', 'lifted by the South-wind', 'behind them', 'sound of human voices', 'from beneath them', 'lodges of a village', 'beneath them', 'rant with wonder', 'wings of Pau-Puk-Keewis', 'doorway curtains', 'heard the shouting', 'cry of Iagoo', 'getful of the warning', 'is neck in', 'looked downward', 'blew behind him', 'is mighty fan of feathers', 'did Pau-Puk-Keewis', 'is balance', 'round and round and downward', 'beheld in turn the village', 'turn the flock above him', 'coming nearer', 'receding farther', 'growing louder', 'shouting and the laughter', 'ore the flocks above him', 'saw the earth beneath him', 'shouting people', 'sound and sullen', 'broken pinions', 'is soul', 'survived as Pau-Puk-Keewis', 'gain the form and features', 'handsome Yenadizze', 'rushing onward', 'lowed fast by Hiawatha', 'take you', 'attain you', 'ear he came', 'ear him', 'stretched to seize him', 'hold him', 'spun about in circles', 'leaves about him', 'whirling eddies', 'rang into a hollow oak-tree', 'hanged himself into a serpent', 'root and rubbish', 'is right hand Hiawatha', 'hollow oak-tree', 'reds and splinters', 'lying there in fragments', 'gain in human figure', 'ran on before him', 'ores of Gitche Gumee', 'rocky headlands', 'red Rocks of sandstone', 'rocky doorways', 'is deep abysses', 'is shelter', 'is caverns dark and dreary', 'is welcome', 'is gloomy lodge of sandstone', 'stood Hiawatha', 'closed against him', 'is mittens', 'eat caverns in the sandstone', 'made no answer', 'lent crags of sandstone', 'rock abysses', 'raised his hands to heaven', 'imploring on the tempest', 'came with night and darkness', 'down the Big-Sea-Water', 'istant Thunder Mountains', 'trembling Pau-Puk-Keewis', 'eard the footsteps of the thunder', 'yes of the lightning', 'crouched and trembled', 'doorways of the caverns', 'smote the doorways', 'jutting crags of sandstone', 'down into the caverns', 'beneath them', 'rocky ruins', 'handsome Yenadizze', 'is own human figure', 'is wild adventures', 'is tricks and gambols', 'is craft and cunning', 'is mischief-making', 'is gambling and his dancing', 'wooing of the maidens', 'is soul', 'said: \"O Pau-Puk-Keewis', 'ore in human figure', 'search for new adventures', 'ore with jest and laughter', 'leaves in whirlwinds', 'ere in the heavens', 'soar and sail in circles', 'change you to an eagle', 'eat war-eagle', 'owls with feathers', 'name of Pau-Puk-Keewis', 'ill among the people', 'ill among the singers', 'round the lodges', 'wind in gusty tumult', 'smoke-flue pipes and whistles', 'is dancing through the village', 'gathering in his harvest', 'read the name and fame of Kwasind', 'ared to strive with Kwasind', 'compete with Kwasind', 'ischievous Puk-Wudjies', 'gainst him', 'is hateful Kwasind', 'said they', 'is great', 'ring everything he touches', 'ending everything to pieces', 'illing all the world with wonder', 'comes of the Puk-Wudjies', 'are for the Puk-Wudjies', 'read us down like mushrooms', 'be eaten', 'gainst the Strong Man', 'conspired to murder Kwasind', 'rid the world of Kwasind', 'wondrous strength of Kwasind', 'is crown alone was seated', 'is crown too was his weakness', 'be wounded', 'ere else could weapon pierce him', 'harm him', 'ere the only weapon', 'wound him', 'lay him', 'seed-cone of the pine-tree', \"is was Kwasind's fatal secret\", 'man among mortals', 'knew the secret', 'kill him', 'gathered cones together', 'seed-cones of the pine-tree', 'ered blue cones of the fir-tree', 'woods by Taquamenaw', \"hem to the river's margin\", 'eat piles together', 'rocks from the margin', 'hang the river', 'lay in wait for Kwasind', 'was an afternoon in Summer', 'ill the air was', 'gliding river', 'sleeping shadows:', 'listened in the sunshine', 'ated on the water', 'led the drowsy air with buzzing', 'resounding war-cry', 'came the Strong Man', 'came Kwasind', 'down the current', 'ish Taquamenaw', 'sleepy with the silence', 'hanging branches', 'oft the Spirit of Sleep descended', 'is airy hosts surrounded', 'is invisible attendants', 'burnished Dush-kwo-ne-she', 'owsy head of Kwasind', 'came a murmur', 'waves upon a sea-shore', 'winds among the pine-trees', 'felt upon his forehead', 'lows of little airy war-clubs', 'breathing on him', 'blow of their war-clubs', 'owsiness on Kwasind', 'smote him', 'addle rested', 'is vision', 'led the landscape Into darkness', 'sleep was Kwasind', 'floated down the river', 'ated upright', 'ated down the Taquamenaw', 'trembling birch-trees', 'wooded headlands', 'eath the war encampment', 'ere they stood', 'armed and waiting', 'led the pine-cones down upon him', 'is brawny shoulders', 'is crown defenceless struck him', 'eath to Kwasind', 'was the sudden', 'cry of the Little People', 'swayed and tumbled', 'fell into the river', 'ish water', 'down the river', 'swerved and drifted:', 'seen of Kwasind', 'ered long among the people', 'ever through the forest', 'ared the wintry tempest', 'tossed and troubled', 'groaned and split asunder', 'cried they', 'is Kwasind', 'gathering in his fire-wood', 'stoops the soaring vulture', 'is quarry in the desert', 'wounded bison', 'is high aerial look-out', 'downward plunge', 'pursues the second', 'isible ether', 'is dark with pinions', 'come not singly', 'watched and waited', 'is dark with anguish', 'reary North-land', 'eathing on the lakes and rivers', 'changed their waters', 'shook the snow-flakes', 'ere strewn with whiteness', 'interrupted level', 'smoothed them over', 'hunter on his snow-shoes', 'worked the women', 'dressed the deer-skin', 'layed together', 'isy ball-play', 'dance of snow-shoes', 'hunt returning', 'gleamed the firelight', 'reaks of crimson', 'yes of old Nokomis', 'like the watery moonlight', 'yes of Laughing Water', 'listened like the sun in water', 'behind them crouched their shadows', 'smoke in wreaths above them', 'crowded through the smoke-flue', 'was slowly lifted', 'glowed the fire a moment', 'swerved the smoke-wreath', 'entered softly', 'doorway uninvited', 'thout word of salutation', 'thout sign of recognition', 'down in the farthest corner', 'low among the shadows', 'seemed they in the village', 'ere they', 'sat there sad and silent', 'cowering with the shadows', 'wind above the smoke-flue', 'uttering down into the wigwam', 'ismal forest', 'said in the silence:', 'are corpses clad in garments', 'are ghosts that come to haunt you', 'dom of Ponemah', 'came Hiawatha', 'hunting in the forest', 'is tresses', 'is shoulders', 'threw his lifeless burden', 'handsomer she thought him', 'came to woo her', 'threw down the deer before her', 'is wishes', 'ise of the future', 'saw the strangers', 'crouching with the shadows', 'aid within himself', 'are they', 'range guests has Minnehaha', 'questioned not the strangers', 'bid them welcome', 'is lodge', 'was ready', 'had been divided', 'from among the shadows', 'hite fat of the roebuck', 'art for Laughing Water', 'devoured the morsels', 'back among the shadows', 'spake Hiawatha', 'made Nokomis', 're Laughing Water', \"came o'er their features\", 'are famished', 'lights them', 'hem eat', 'are famished', 'light dawned and darkened', 'shook off the daylight', 'shakes off the snow-flakes', 'ere silent in the wigwam', 'storm or starlight', 'went into the forest', 'wood to the wigwam', 'ringing pine-cones for the burning', 'ever Hiawatha', 'fishing or from hunting', 'was ready', 'had been divided', 'from their darksome corner', 'side for Laughing Water', 'rebuke or question', 'back among the shadows', 'had Hiawatha', 'look reproved them', 'had old Nokomis', 're of impatience', 'had Laughing Water', 'sentment at the outrage', 'had they endured in silence', 'rights of guest and stranger', 'look might not be lessened', 'be broken', 'rands that still were burning', 'eard a sighing', 'rose Hiawatha', 'hides of bison', 'side the deer-skin curtain', 'right on their couches', 'lent midnight', 'said: \"O guests', 'is it', 'are so afflicted', 'sob so in the midnight', 'perchance the old Nokomis', 'grieved you by unkindness', 'led in hospitable duties', 'hadows ceased from weeping', 'from sobbing and lamenting', 'are ghosts of the departed', 'ere with you', 'realms of Chibiabos', 'have we come to try you', 'have we come to warn you', 'ish from the living', 'back their friends departed', 'adden us with useless sorrow', 'have we come to try you', 'knows us', 'heeds us', 'are but a burden to you', 'see that the departed', 'place among the living', 'ore with lamentations', 'adden the souls of the departed', 'lay such heavy burdens', 'weight of furs and wampum', 'weight of pots and kettles', 'beneath them', 'give them food to carry', 'light them', \"is the spirit's journey\", 'be lighted', 'are buried', 'be kindled', 'soul upon its journey', 'lack the cheerful firelight', 'grope about in darkness', 'have put you to the trial', 'have put your patience', 'found you great and noble', 'ater trial', 'den darkness', 'filled the silent wigwam', 'heard a rustle', 'trailing by him', 'eard the curtain of the doorway', 'saw not', 'eath of the night air', 'saw the starlight', 'saw the ghosts no longer', 'ring spirits', 'dom of Ponemah', 'reary Winter', 'ruel Winter', \"ow o'er all the landscape\", 'ring snow', 'round the village', 'buried wigwam', 'hunter force a passage', 'is mittens and his snow-shoes', 'walked he through the forest', 'found none', 'rack of deer or rabbit', 'beheld no footprints', 'rise from weakness', 'ished there from cold and hunger', 'mine and the fever', 'wasting of the famine', 'lasting of the fever', 'wailing of the children', 'ish of the women', 'was sick and famished', 'round them', 'was the sky above them', 'hungry stars in heaven', 'ared at them', 'be invited', 'ere without word of welcome', 'eat of Laughing Water', 'yes and hollow', 'hold me', 'hold me', 'lovely Minnehaha', 'looked upon her', 'ered at the words they uttered', 'bed in silence', 'made no answer', 'ere trembling', 'looks they cast upon her', 'fearful words they uttered', 'addened Hiawatha', 'heart was deadly sorrow', 'is face a stony firmness', 'is brow the sweat of anguish', 'fell not', 'armed for hunting', 'is mighty bow of ash-tree', 'is quiver full of arrows', 'is mittens', 'strode he forward', 'is face uplifted', 'ren food', 'dying Minnehaha', 'resounding forest', 'rest vast and vacant', 'cry of desolation', 'came no other answer', 'is crying', 'roved Hiawatha', 'hadow of whose thickets', 'gotten Summer', 'brought his young wife homeward', 'sang in the thickets', 'laughed and glistened', 'was full of fragrance', 'lovely Laughing Water', 'did not tremble', 'follow you', 'watched her', 'was lying', 'dying Minnehaha', 'hear a rushing', 'ring and a rushing', 'from a distance', 'said old Nokomis', 'is the night-wind in the pine-trees', 'see my father', 'is doorway', 'is wigwam', 'said old Nokomis', 'is the smoke', 'waves and beckons', 'said she', 'yes of Pauguk', 'are upon me in the darkness', 'is icy fingers', 'mine amid the darkness', 'ate Hiawatha', 'cry of anguish', 'eard the voice of Minnehaha', 'waste and pathless', 'bered branches', 'hurried Hiawatha', 'is moaning', 'perished for you', 'ere dead as you are', 'rushed into the wigwam', 'is slowly', 'fro and moaning', 'lovely Minnehaha', 'before him', 'bursting heart within him', 'cry of anguish', 'rest moaned and shuddered', 'stars in heaven', 'trembled with his anguish', 'sat down', 'ill and speechless', 'illing feet', 'lightly run to meet him', 'lightly follow', 'is face he covered', 'sat there', 'sat there', 'light or the darkness', 'buried Minnehaha', 'made her', 'rest deep and darksome', 'eath the moaning hemlocks', 'lothed her in her richest garments', 'bes of ermine', 'ered her with snow', 'buried Minnehaha', 'was lighted', 'was kindled', 'soul upon its journey', 'is doorway Hiawatha', 'burning in the forest', 'sleepless bed uprising', 'watched it at the doorway', 'be extinguished', 'leave her in the darkness', 'said he', 'buried with you', 'go onward with you', 'gain to labor', 'gain to suffer', 'heart and waste the body', 'ask will be completed', \"hite Man's Foot\", 'is lodge beside a river', 'frozen river', 'is hair was as a snow-drift', 'is fire was burning', 'shook and trembled', 'is tattered white-skin-wrapper', 'ring nothing but the tempest', 'ared along the forest', 'issed and drifted', 'hite with ashes', 'was slowly dying', 'open doorway entered', 'is cheeks were', 'is eyes', 'stars in Spring-time', 'is forehead was with grasses', 'plumed with scented grasses', 'is lips a smile of beauty', 'lodge with sunshine', 'is hand a bunch of blossoms', 'lodge with sweetness', 'exclaimed the old man', 'are my eyes to see you', 'beside me', 'dying embers', 'pass the night together', 'range adventures', 'have travelled', 'tell you of my prowess', 'deeds of wonder', 'drew his peace-pipe', 'rangely fashioned', 'was the pipe-head', 'reed with feathers', 'led the pipe with bark of willow', 'burning coal upon it', 'is guest', 'began to speak in this wise:', 'blow my breath about me', 'eathe upon the landscape', 'are all the rivers', 'comes the water', 'man answered', 'blow my breath about me', 'eathe upon the landscape', \"ring up o'er all the meadows\", 'rush the rivers', 'shake my hoary tresses', 'aid the old man darkly frowning', 'is covered', 'leaves from all the branches', 'fade and die and wither', 'are not', 'aters and the marshes', 'goose and the heron', 'istant regions', 'are not', \"ere'er my footsteps wander\", 'beasts of the forest', 'hemselves in holes and caverns', 'comes as flintstone', 'flowing ringlets', 'aid the young man', 'fall warm and welcome', 'lift up their heads rejoicing', 'goose and the heron', 'shoots the arrowy swallow', 'bird and the robin', \"ere'er my footsteps wander\", 'meadows wave with blossoms', 'woodlands ring with music', 'are dark with foliage', 'istant realms of Wabun', 'shining lodge of silver', 'bed and painted', 'eat sun', 'was speechless', 'grew warm and pleasant', 'bird and the robin', 'began to murmur', 'growing grasses', 'lodge was gently wafted', 'istinctly in the daylight', 'before him', 'is eyes the tears were flowing', 'melting lakes the streamlets', 'runk and dwindled', 'shouting sun ascended', 'ill into the air it faded', 'round it vanished', 'saw before him', 'hearth-stone of the wigwam', 'smoked and smouldered', 'liest flower of Spring-time', 'iskodeed in blossom', 'was that in the North-land', 'heard-of coldness', 'ring with all its splendor', 'birds and all its blossoms', 'leaves and grasses', 'wind to northward', 'lying in great flocks', 'shot through heaven', 'man speaks', 'snapped asunder', 'hite goose', 'singly flying', 'gorous pinions', 'thickets and the meadows', 'covert of the pine-trees', 'owing Hiawatha', 'is infinite sorrow', 'calling to him', 'is gloomy doorway', 'gazed into the heaven', 'arth and waters', 'is wanderings far to eastward', 'regions of the morning', 'shining land of Wabun', 'turned Iagoo', 'eat traveller', 'eat boaster', 'range adventures', 'many and many wonders', 'istened to him as he told them', 'is marvellous adventures', 'answered him in this wise:', 'is indeed Iagoo', 'holds such wonders', 'had seen', 'drink it', 'looked the warriors', 'men at each other', 'be so', 'be so', 'is water', 'eat canoe with pinions', 'came flying', 'rove of pine-trees', 'men and the women', 'believe it', 'greet him', 'tell us', 'came a people', 'eat canoe with pinions', 'red warriors', 'hite were all their faces', 'ere covered', 'shouted in derision', 'ows upon the hemlocks', 'tell us', 'believe them', 'laughed not', 'spake and answered', 'jeering and their jesting:', 'tells us', 'have seen it in a vision', 'eat canoe with pinions', 'hite faces', 'coming of this bearded', 'wooden vessel', 'regions of the morning', 'shining land of Wabun', 'is errand', 'is message', \"eresoe'er they move\", 'warms the stinging fly', 'warms the bee', \"eresoe'er they tread\", 'known among us', \"hite-man's Foot in blossom\", 'ends and brothers', \"heart's right hand of friendship\", 'come to see us', 'is to me in my vision', 'rets of the future', 'istant days that shall be', 'beheld the westward marches', 'was full of people', 'many tongues', 'beat in their bosoms', 'woodlands rang their axes', 'owns in all the valleys', 'eat canoes of thunder', 'before me', 'beheld our nation scattered', 'getful of my counsels', 'ring with each other:', 'remnants of our people', 'rack of a tempest', 'leaves of Autumn', 'ore of Gitche Gumee', 'shining Big-Sea-Water', 'is wigwam', 'stood and waited', 'was full of freshness', 'was bright and joyous', 'before him', 'neighboring forest', 'golden swarms the Ahmo', 'singing in the sunshine', 'shone the heavens', 'spread the lake before him', 'leaped the sturgeon', 'flashing in the sunshine', 'eat forest', 'reflected in the water', 'had its shadow', 'beneath the water', 'ow of Hiawatha', 'trace of sorrow', 'from off the water', 'ist from off the meadow', 'smile of joy and triumph', 'look of exultation', 'is to be', 'is not', 'waited Hiawatha', 'is hands were lifted', 'spread out against it', 'between the parted fingers', 'shine on his features', 'light his naked shoulders', 'falls and flecks an oak-tree', 'leaves and branches', 'ater floating', 'mething in the hazy distance', 'mething in the mists of morning', 'lifted from the water', 'seemed floating', 'seemed flying', 'is the diver', 'hite goose', 'ater dripping', 'goose nor diver', 'ater floating', 'shining mist of morning', 'sinking on the water', 'flashing in the sunshine', 'came a people', 'istant land of Wabun', 'realms of morning', 'be chief', 'guides and his companions', 'is hands aloft extended', 'oft in sign of welcome', 'full of exultation', 'ill the birch canoe with paddles', 'shining pebbles', 'randed on the sandy margin', 'be chief', 'is bosom', 'joyous Hiawatha', 'is wise:', 'is the sun', 'come so far to see us', 'waits you', 'stand open for you', 'enter all our wigwams', \"heart's right hand we give you\", 'bloomed the earth so gayly', 'shone the sun so brightly', 'shine and blossom', 'come so far to see us', 'was our lake so tranquil', 'from rocks', 'rock and sand-bar', 'had our tobacco', 'weet and pleasant flavor', 'leaves of our cornfields', 'look on', 'seem to us this morning', 'come so far to see us', 'made answer', 'is speech a little', 'yet unfamiliar:', 'be with you', 'be with you and your people', 'rangers to his wigwam', 'ated them on skins of bison', 'ated them on skins of ermine', 'areful old Nokomis', 'bowls of basswood', 'brought in birchen dippers', 'lighted for their smoking', 'men of the village', 'rangers welcome', 'is well\"', 'come so far to see us', 'round the doorway', 'sat in silence', 'hold the strangers', 'receive their message', 'be chief', 'came to greet them', 'is speech a little', 'yet unfamiliar', 'is well', 'come so far to see us', 'be chief', 'is message to the people', 'is mission', 'hem of the Virgin Mary', 'blessed Son', 'istant lands and ages', 'lived on earth as we do', 'ow he fasted', 'rose from where they laid him', 'is disciples', 'ended into heaven', 'made answer', 'listened to your message', 'heard your words of wisdom', 'tell us', 'is well for us', 'come so far to see us', 'rose up and departed', 'is wigwam', 'men and the women', 'had sent them', 'shining land of Wabun', 'eat and silence', 'rew the afternoon of Summer', 'sound the forest', 'round the sultry wigwam', 'sleep the water', 'led on the beach below it', 'ill and ceaseless', 'eat of Summer', 'try wigwam', 'ring landscape', \"evening's dusk and coolness\", 'evel sunbeams', 'ears into the forest', 'reaking through its shields of shadow', 'ret ambush', 'arched each thicket', 'ill the guests of Hiawatha', 'bered in the silent wigwam', 'rose Hiawatha', 'arewell to old Nokomis', 'is wise', 'wake the guests', 'istant journey', 'regions of the home-wind', 'leave behind me', 'leave them', 'comes near them', 'molests them', 'ever danger nor suspicion', 'want of food or shelter', 'lodge of Hiawatha', 'went he', 'arewell to all the warriors', 'arewell to all the young men', 'is wise:', 'istant journey', 'many winters', 'have come', 'have vanished', 'come again to see you', 'leave behind me', 'isten to their words of wisdom', 'tell you', 'sent them', 'light and morning', 'stood Hiawatha', 'is hand at parting', 'clear and luminous water', 'is birch canoe for sailing', 'ispered to it', 'darted forward', 'evening sun descending', 're with redness', 'like a prairie', 'evel water', 'rack and trail of splendor', 'own whose stream', 'down a river', 'led into the fiery sunset', 'led into the purple vapors', 'led into the dusk of evening:', 'from the margin', 'seemed lifted', 'sank into the vapors', 'waves upon the margin', 'rippling on the pebbles', 'haunts among the fen-lands', 'departed Hiawatha', 'ists of evening', 'regions of the home-wind', 'red squirrel', 'sound of the thunder', 'end of Hiawatha', 'ruler of the Land of Spirits', 'gon fly', 'shame upon you', 'eat Spirit', 'aughter of Nokomis', 'boaster and story-teller', 'eat war-eagle', 'eat Pearl-Feather', 'running into the', 'ississippi between Fort Snelling and the', 'eat Bear', 'eat Sturgeon', 'sound of waves on a shore', 'ater herring', 'round piece of brass or copper', 'handsome Yenadizze', 'eat of the deer or buffalo', 'dried and pounded', 'men of the', 'cry of lamentation', 'hite skin wrapper', 'hite goose', 'aughter of Nokomis', 'bidden Tree', 'eath into the World', 'ater Man', 'issful Seat', 'ret top', 'chosen Seed', \"ow the Heav'ns and Earth\", 'light thee more', 'aid to my adventrous Song', 'light intends to soar', 'rose or Rhime', 'fly Thou O Spirit', 'dost prefer', 'heart and pure', 'from the first', 'wings outspread', 'satst brooding on the vast Abyss', 'is dark', 'is low raise and support', 'is great Argument', \"assert th' Eternal Providence\", 'justifie the wayes of God to men', 'hides nothing from thy view', 'act of Hell', 'say first what cause', 'arents in that happy State', 'fall off', 'ransgress his Will', 'owl revolt', 'infernal Serpent', 'is Pride', \"from Heav'n\", 'is Host', 'bel Angels', 'aid aspiring', 'is Peers', \"have equal'd the most High\", \"is'd impious War in Heav'n and Battel proud\", 'vain attempt', \"from th' Ethereal Skie\", 'hideous ruine and combustion down', 'ere to dwell', 'mantine Chains and penal Fire', \"defie th' Omnipotent to Arms\", 'measures Day and Night', 'is horrid crew', 'rowling in the fiery Gulfe', 'founded though immortal: But his doom', 'ore wrath', 'ow the thought', 'lasting pain', 'round he throws his baleful eyes', \"witness'd huge affliction and dismay\", 'ate pride and stedfast hate:', 'ismal Situation waste and wilde', 'sides round', \"eat Furnace flam'd\", 'from those flames', 'iscover sights of woe', 'rest can never dwell', 'hope never comes', 'comes to all', 're without end', \"burning Sulphur unconsum'd:\", \"had prepar'd\", \"ison ordain'd\", 'utter darkness', \"light of Heav'n\", \"from the Center thrice to th' utmost Pole\", 'from whence they fell', 'is fall', 'winds of tempestuous fire', 'is side', 'self in power', 'next in crime', 'known in PALESTINE', \"call'd Satan\", 'rid silence thus began', 'beest he', \"ow fall'n\", 'happy Realms of Light', 'ranscendent brightnes didst outshine', 'though bright: If he whom mutual league', 'thoughts and counsels', 'hazard in the Glorious Enterprize', 'isery hath joynd', 'equal ruin: into what Pit thou seest', 'stronger provd', 'is Thunder: and till then who knew', 'force of those dire Arms', 'yet not for those', 'is rage', 'do I repent or change', \"hang'd in outward lustre\", 'fixt mind', \"from sence of injur'd merit\", \"is'd me to contend\", 'brought along', \"force of Spirits arm'd\", 'islike his reign', \"is utmost power with adverse power oppos'd\", 'shook his throne', 'be lost', 'is not lost', 'conquerable Will', 'study of revenge', 'submit or yield:', 'is else not to be overcome', 'is wrath or might', 'from me', 'bow and sue for grace', 'is power', 'is Arm so late', 'is Empire', 'ere low indeed', 'ere an ignominy and shame beneath', 'ate the strength of Gods', 'is Empyreal substance cannot fail', 'is great event', \"oresight much advanc't\", 'hope resolve', 'force or guile eternal Warr', 'rand Foe', 'ow triumphs', \"holds the Tyranny of Heav'n\", 'ate Angel', 'though in pain', 'rackt with deep despare:', \"answer'd soon his bold Compeer\", 'many Throned Powers', 'telld Seraphim to Warr', 'thy conduct', 'readful deeds', \"endanger'd Heav'ns perpetual King\", 'put to proof his high Supremacy', 'held by strength', 'see and rue the dire event', 'throw and foul defeat', \"lost us Heav'n\", 'is mighty Host', 'laid thus low', 'ish: for the mind and spirit remains', 'gour soon returns', 'happy state', \"ere swallow'd up in endless misery\", 'believe Almighty', 'since no less', 'force as ours)', 'left us this our spirit and strength intire', 'suffer and support our pains', 'is vengeful ire', 'is thralls', 'right of Warr', 'is business be', 'heart of Hell to work in Fire', 'rands in the gloomy Deep', 'avail though yet we feel', 'go eternal punishment', \"ereto with speedy words th' Arch-fiend reply'd\", 'is miserable', 'is be sure', 'good never will be our task', 'do ill our sole delight', 'is high will', 'is Providence', 'seek to bring forth good', 'be to pervert that end', 'find means of evil', 'oft times may succeed', 'grieve him', 'fail not', 'is inmost counsels from their destind aim', \"see the angry Victor hath recall'd\", 'is Ministers of vengeance and pursuit', \"ates of Heav'n: The Sulphurous Hail\", 'blown hath laid', 'from the Precipice', \"receiv'd us falling\", 'red Lightning and impetuous rage', 'is shafts', 'ceases now', 'boundless Deep', \"slip th' occasion\", 'satiate fury yield it from our Foe', 'reary Plain', 'eat of desolation', 'glimmering of these livid flames', 'let us tend', 'sing of these fiery waves', 'rest can harbour there', 'assembling our afflicted Powers', 'ow we may henceforth most offend', 'own loss how repair', 'come this dire Calamity', 'gain from Hope', 'from despare', 'talking to his neerest Mate', 'lift above the wave', \"sparkling blaz'd\", 'is other Parts besides', 'ended long and large', 'floating many a rood', 'name of monstrous size', 'is works', \"ated hugest that swim th' Ocean stream:\", 'bring on the NORWAY foam', \"founder'd Skiff\", 'some Island', 'men tell', 'is skaly rind', 'is side under the Lee', 'ished Morn delayes:', 'stretcht out huge in length the Arch-fiend lay', 'burning Lake', 'ever thence', \"is'n or heav'd his head\", 'ission of all-ruling Heaven', 'is own dark designs', 'ated crimes he might', 'self damnation', 'bring forth', 'from off the Pool', 'is mighty Stature', 'hand the flames', 'pointing spires', \"leave i'th' midst a horrid Vale\", 'is flight', 'bent on the dusky Air', 'felt unusual weight', 'dry Land', \"ere Land that ever burn'd\", \"appear'd in hue\", 'ranean wind transports a Hill', 'from PELORUS', 'ring AETNA', 'conceiving Fire', 'aid the Winds', \"leave a singed bottom all involv'd\", 'found the sole', 'blest feet', 'is next Mate', \"have scap't the STYGIAN flood\", \"recover'd strength\", 'sufferance of supernal Power', 'is the Region', 'is the Soil', 'lost Arch Angel', 'is the seat', \"change for Heav'n\", 'is mournful gloom', 'ran can dispose and bid', 'is best', 'hath equald', 'made supream', 'is equals', 'arewel happy Fields', 'dwells: Hail horrours', 'foundest Hell', 'thy new Possessor: One who brings', \"be chang'd by Place or Time\", 'is its own place', \"make a Heav'n of Hell\", 'matter where', 'be still the same', 'made greater', 'ere at least', 'be free', 'hath not built', 'is envy', 'drive us hence:', 'ere we may reign secure', 'is worth ambition though in Hell:', 'reign in Hell', \"serve in Heav'n\", 'let we then our faithful friends', 'ates and copartners of our loss', \"isht on th' oblivious Pool\", 'are with us their part', 'is unhappy Mansion', 'lied Arms to try what may be yet', \"gaind in Heav'n\", 'lost in Hell', 'have foyld', 'hear that voyce', 'liveliest pledge', 'fears and dangers', 'heard so oft', 'perilous edge', 'rest signal', 'ill soon resume', 'though now they lye', 'ate on yon Lake of Fire', \"fall'n such a pernicious highth\", \"had ceas't when the superiour Fiend\", 'moving toward the shore', 'ponderous shield', 'is shoulders like the Moon', 'ist views', 'from the top of FESOLE', 'cry new Lands', 'spotty Globe', 'equal which the tallest Pine', 'be the Mast', 'eat Ammiral', 'ere but a wand', 'walkt with to support uneasie steps', 'burning Marle', 'like those steps', 'rid Clime', 'ore besides', 'vaulted with Fire', 'ill on the Beach', 'inflamed Sea', \"stood and call'd\", \"lay intrans't\", 'strow the Brooks', \"ere th' ETRURIAN shades\", \"fierce Winds ORION arm'd\", 'vext the Red-Sea Coast', 'waves orethrew', 'is MEMPHIAN Chivalrie', \"red they pursu'd\", 'floating Carkases', 'broken Chariot Wheels', 'thick bestrown', 'lay these', 'ring the Flood', 'hideous change', \"call'd so loud\", 'hollow Deep', \"lowr of Heav'n\", 'ishment as this can sieze', \"have ye chos'n this place\", 'wearied vertue', 'ease you find', 'ber here', 'have ye sworn', 'dore the Conquerour', 'ow beholds', 'be and Seraph rowling in the Flood', \"pursuers from Heav'n Gates discern\", 'read us down', 'linked Thunderbolts', 'ransfix us to the bottom of this Gulfe', \"be for ever fall'n\", 'ere abasht', 'wont to watch', 'sleeping found by whom they dread', 'bestir themselves ere well awake', 'did they not perceave the evil plight', 'fierce pains not feel', 'round the Coast', \"call'd a pitchy cloud\", 'warping on the Eastern Wind', 'ore the Realm of impious PHAROAH hung', \"darken'd all the Land of NILE:\", 'berless were those bad Angels seen', 'ring on wing under the Cope of Hell', 'rounding Fires', 'lifted Spear', 'waving to direct', 'down they light', 'firm brimstone', 'fill all the Plain', 'like which the populous North', 'from her frozen loyns', 'barbarous Sons', 'like a Deluge on the South', 'eath GIBRALTAR to the LYBIAN sands', 'from every Squadron and each Band', 'hither hast where stood', 'eat Commander', 'like shapes and forms', 'sat on Thrones', \"blotted out and ras'd\", 'thir Rebellion', 'from the Books of Life', 'had they yet among the Sons of EVE', 'hem new Names', 'ring ore the Earth', 'sufferance for the tryal of man', 'sities and lyes the greatest part', 'corrupted to forsake', 'made them', 'full of Pomp and Gold', 'dore for Deities:', 'known to men by various Names', 'dols through the Heathen World', 'from the slumber', 'eat Emperors call', 'next in worth', 'stood on the bare strand', 'stood yet aloof', 'from the Pit of Hell', 'seek their prey on earth', 'eats long after next the Seat of God', 'is Altar', 'durst abide', 'ring out of SION', 'ween the Cherubim', 'is Sanctuary it self their Shrines', 'cursed things', 'is holy Rites', 'is light', \"smear'd with blood\", 'man sacrifice', 'arents tears', 'rels loud', 'cries unheard', 'past through fire', 'is grim Idol', 'try Plain', 'utmost ARNON', 'isest heart', 'led by fraud to build', 'is Temple right against the Temple of God', 'made his Grove', \"lack GEHENNA call'd\", 'read of MOABS Sons', 'flowry Dale of SIBMA clad with Vines', 'is other Name', 'from NILE', 'do him wanton rites', 'cost them woe', \"is lustful Orgies he enlarg'd\", 'ill of scandal', 'good JOSIAH drove them thence to Hell', 'came they', 'from the bordring flood', 'is their Essence pure', \"manacl'd with joynt or limb\", 'founded on the brittle strength of bones', 'hape they choose', \"ated or condens't\", 'right or obscure', 'cute their aerie purposes', 'love or enmity fulfill', 'oft forsook', 'living strength', 'requented left', 'is righteous Altar', 'lowly down', 'bestial Gods', 'down in Battel', 'before the Spear', 'rescent Horns', 'right Image nightly by the Moon', 'aid their Vows and Songs', 'heart though large', 'dols foul', 'came next behind', \"wound in LEBANON allur'd\", 'is fate', 'yes all a Summers day', 'is native Rock', 'wounded: the Love-tale', 'like heat', 'passions in the sacred Porch', 'ision led', \"is eye survay'd the dark Idolatries\", 'lienated JUDAH', 'came one', 'is brute Image', 'hands lopt off', 'is own Temple', 'runsel edge', 'fell flat', 'is Worshipers:', 'had his Temple high', \"ear'd in AZOTUS\", 'readed through the Coast', 'frontier bounds', \"follow'd RIMMON\", 'lightful Seat', 'gainst the house of God was bold:', \"gain'd a King\", 'is sottish Conquerour', 'isparage and displace', 'ereon to burn', 'is odious offrings', 'dore the Gods', 'had vanquisht', 'rew who under Names of old Renown', \"hapes and sorceries abus'd\", \"isguis'd in brutish forms\", 'did ISRAEL scape', \"ow'd Gold compos'd\", 'bel King', 'sin in BETHEL and in DAN', 'is Maker to the Grazed Ox', 'born and all her bleating Gods', 'came last', 'ore lewd', 'from Heaven', 'ore gross to love', 'self: To him no Temple stood', 'yet who more oft then hee', \"did ELY'S Sons\", 'violence the house of God', 'ere the noyse', 'ascends above thir loftiest Towrs', 'kens the Streets', 'wander forth the Sons', 'flown with insolence and wine', 'reets of SODOM', 'prevent worse rape', 'ere the prime in order and in might', 'rest were long to tell', \"though far renown'd\", 'sue held', \"ater then Heav'n and Earth\", 'boasted Parents', 'is enormous brood', \"right seis'd\", 'from mightier JOVE', \"is own and RHEA'S Son like measure found\", \"reign'd: these first in CREET\", 'owy top', \"led over ADRIA to th' HESPERIAN Fields\", \"ore the CELTIC roam'd the utmost Isles\", 'came flocking', 'cast and damp', \"erein appear'd\", 're som glimps of joy', 'found thir chief', 'found themselves not lost', \"is count'nance cast\", 'wonted pride', 'fainted courage', \"ispel'd their fears\", 'like sound', 'be upreard', 'is mighty Standard', \"honour claim'd\", 'is right', 'be tall:', 'from the glittering Staff unfurld', \"full high advanc't\", 'streaming to the Wind', \"re rich imblaz'd\", 'hies: all the while', 'mettal blowing Martial sounds:', 'tore Hells Concave', 'righted the Reign of CHAOS and old Night', 'ere seen', 'rise into the Air', 'waving: with them rose', 'rest huge of Spears: and thronging Helms', 'serried Shields in thick array', 'perfect PHALANX to the Dorian mood', 'soft Recorders', \"blest temper Hero's old\", \"berate valour breath'd\", \"firm and unmov'd\", 'light or foul retreat', 'ate and swage', 'ish and doubt and fear and sorrow and pain', 'fixed thought', \"soft Pipes that charm'd\", 'burnt soyle', 'view they stand', 'rid Front', 'readful length and dazling Arms', 'ear and Shield', 'waiting what command thir mighty Chief', 'armed Files', \"is experienc't eye\", 'thir order due', 'isages and stature as of Gods', 'last he summs', 'is heart', 'istends with pride', 'is strength', 'ated man', 'died force', 'ore then that small infantry', 'ranes: though all the Giant brood', \"ere joyn'd\", \"fought at THEB'S and ILIUM\", 'girt with BRITISH and ARMORIC Knights', 'sent from AFRIC shore', 'is Peerage fell', 'are of mortal prowess', 'read Commander: he above the rest', 're proudly eminent', 'like a Towr', 'had yet not lost', 'isty Air', 'is Beams', 'from behind the Moon', 'light sheds', 'fear of change', 'is face', 'had intrencht', 'faded cheek', 'ate Pride', 'is eye', 'passion to behold', 'fellows of his crime', 'followers rather', \"beheld in bliss) condemn'd\", 'have their lot in pain', \"is fault amerc't\", 'from Eternal Splendors flung', 'is revolt', 'yet faithfull how they stood', 'rest Oaks', 'growth though bare', 'lasted Heath', \"ow prepar'd\", \"ereat their doubl'd Ranks they bend\", 'close him round', 'is Peers: attention held them mute', 'spite of scorn', 'ears such as Angels weep', 'burst forth: at last', 'found out their way', 'was dire', 'is place testifies', 'is dire change', 'ateful to utter: but what power of mind', 'seeing or presaging', 'from the Depth', 'knowledge past or present', \"have fear'd\", 'force of Gods', 'stood like these', 'know repulse', 'yet beleeve', 'though after loss', 'issant Legions', \"tied Heav'n\", 'faile to re-ascend', 'repossess their native seat', \"be witness all the Host of Heav'n\", 'counsels different', 'have lost our hopes', 'ill then as one secure', 'is Throne', 'held by old repute', 'sent or custome', 'is Regal State', \"is strength conceal'd\", 'tempted our attempt', 'wrought our fall', 'is might we know', 'know our own', 'better part remains', 'close design', 'force effected not: that he no less', 'from us may find', 'come but half his foe', 'produce new Worlds', 'ereof so rife', \"went a fame in Heav'n that he ere long\", 'ended to create', 'erein plant', 'is choice regard', 'equal to the Sons of Heaven:', 'be perhaps', 'hither or elsewhere:', 'is Infernal Pit shall never hold', 'is despaird', 'think Submission', \"stood must be resolv'd\", 'is words', 'flaming swords', 'drawn from the thighs', 'den blaze', \"round illumin'd hell: highly they rag'd\", 'gainst the Highest', \"sped arm's\", 'sounding shields the din of war', \"oward the vault of Heav'n\", 'stood a Hill not far whose griesly top', 'rowling smoak', 'rest entire', 'hid metallic Ore', 'work of Sulphur', \"hither wing'd with speed\", 'run the Royal Camp', 'rench a Field', 'cast a Rampart', 'led them on', 'erected Spirit that fell', 'looks & thoughts', 'ere always downward bent', \"aught divine or holy else enjoy'd\", 'beatific: by him first', 'is suggestion taught', 'bowels of thir mother Earth', 'better hid', 'had his crew', 'ill a spacious wound', 'grow in Hell', 'serve the pretious bane', 'let those', 'boast in mortal things', 'wondring tell', 'works of MEMPHIAN Kings', 'atest Monuments of Fame', 'are easily outdone', 'hands innumerable scarce perform', \"many cells prepar'd\", 'had veins of liquid fire', 'from the Lake', 'founded the massie Ore', 'ring each kinde', \"had form'd within the ground\", 'from the boyling cells', \"range conveyance fill'd each hollow nook\", 'from one blast of wind', 'sound-board breaths', 'arth a Fabrick huge', 'like an Exhalation', 'like a Temple', 'ere PILASTERS round', 'illars overlaid', 'den Architrave', 'did there want', \"res grav'n\", 'was fretted Gold', 'eat ALCAIRO such magnificence', 'thir glories', 'thir Gods', 'ascending pile', 'ately highth', 'strait the dores', 'iscover wide', 're the smooth', 'from the arched roof', 'endant by suttle Magic many a row', 'blazing Cressets fed', 'yeilded light', 'from a sky', 'hasty multitude', 'work some praise', 'is hand was known', 'red structure high', 'held thir residence', 'sat as Princes', 'reme King', 'gave to rule', 'is Herarchie', \"heard or unador'd\", \"call'd him MULCIBER\", 'ow he fell', 'thrown by angry JOVE', 'from Morn', 'from Noon to dewy Eve', 'setting Sun', 'falling Star', 'is rebellious rout', \"avail'd him now\", \"have built in Heav'n high Towrs\", 'did he scape', 'is Engins', 'was headlong sent', 'is industrious crew to build in hell', 'winged Haralds by command', 'ran power', 'sound throughout the Host proclaim', 'be held', \"is Peers: thir summons call'd\", 'ared Regiment', 'place or choice the worthiest', 'reds and with thousands trooping came', \"ended: all access was throng'd\", \"like a cover'd field\", 'ere Champions bold', \"ride in arm'd\", 'best of Panim chivalry', 'reer with Lance)', 'round and in the air', 'iss of russling wings', 'ring time', 're forth thir populous youth about the Hive', 'resh dews and flowers', 'lie to and fro', 'smoothed Plank', 'built Cittadel', 'ate and confer', 'ate affairs', 'thick the aerie crowd', \"warm'd and were straitn'd\", \"ill the Signal giv'n\", 'hold a wonder', 'ow who seemd', 'pass Earths Giant Sons', 'ow less then smallest Dwarfs', 'ow room', 'like that Pigmean Race', 'rest side', 'belated Peasant sees', 'reams he sees', 'erer to the Earth', 'heels her pale course', 'mirth & dance', 'harm his ear', 'heart rebounds', 'oreal Spirits to smallest forms', 'thir shapes immense', 'ere at large', 'ber still amidst the Hall', 'infernal Court', 'like themselves', 'eat Seraphic Lords and Cherubim', 'close recess and secret conclave sat', \"golden seat's\", 'requent and full', 'summons read', 'consult began', 'gorgeous East with richest hand', 'owrs on her Kings BARBARIC Pearl & Gold', 'exalted sat', \"merit rais'd\", 'from despair', 'lifted beyond hope', 'satiate to pursue', 'is proud imaginations thus displaid', 'owers and Dominions', 'since no deep within her gulf can hold', \"rest and fall'n\", \"give not Heav'n for lost\", 'is descent', 'read then from no fall', 'fear no second fate:', 'though just right', \"fixt Laws of Heav'n\", 'ate your Leader', 'bin achievd of merit', 'is loss', \"least recover'd\", 'hath much more', 'isht in a safe unenvied Throne', 'full consent', 'happier state', 'follows dignity', 'from each inferior', 'ill envy whom the highest place exposes', 'gainst the Thunderers aime', 'atest share', 'endless pain', 'is then no good', 'grow up there', 'aim in hell', 'is so small', 'sent pain', 'ill covet more', 'is advantage then', 'firm Faith', 'firm accord', \"be in Heav'n\", 'ow return', 'aim our just inheritance of old', 'prosper then prosperity', \"have assur'd us\", 'best way', 'open Warr or covert guile', 'ow debate', 'next him MOLOC', 'fiercest Spirit', \"fought in Heav'n\", 'ow fiercer by despair:', \"is trust was with th' Eternal to be deem'd\", 'be less', 'be at all', 'are lost', 'is fear: of God', 'reckd not', 'ereafter spake', 'sentence is for open Warr: Of Wiles', 'let those', 'sit contriving', 'stand in Arms', 'longing wait', 'sit lingring here', 'dwelling place', 'is dark opprobrious Den of shame', 'let us rather choose', 'flames and fury all at once', 'istless way', 'rid Arms', 'gainst the Torturer', 'meet the noise', 'is Almighty Engin he shall hear', 'shot with equal rage', 'is Angels', 'is Throne it self', 'range fire', 'is own invented Torments', 'seems difficult and steep to scale', 'gainst a higher foe', 'bethink them', 'sleepy drench', 'getful Lake benumme not still', 'oper motion we ascend', 'eat: descent and fall', 'is adverse', 'felt of late', \"hung on our brok'n Rear\", 'compulsion and laborious flight', 'sunk thus low', 'is easie then', \"is fear'd\", 'gain provoke', 'is wrath may find', 'be in Hell', \"be worse destroy'd: what can be worse\", 'dwell here', 'from bliss', 'is abhorred deep to utter woe', 'ishable fire', 'ise us without hope of end', 'is anger', 'ring houre', \"destroy'd then thus\", 'isht and expire', 'fear we then', 'doubt we to incense', 'is utmost ire', 'ill either quite consume us', 'is essential', 'have eternal being:', 'be indeed Divine', 'cease to be', 'are at worst', 'is side nothing', \"isturb his Heav'n\", 'rodes to Allarme', 'is fatal Throne:', 'ended frowning', \"look denounc'd\", 'side up rose', 'ore graceful and humane', \"lost not Heav'n\", \"compos'd and high exploit:\", 'was false and hollow', 'is Tongue', 'make the worse appear', 'better reason', 'is thoughts were low', \"yet he pleas'd the eare\", 'wasive accent thus began', 'open Warr', 'behind in hate', \"was urg'd\", 'ate Warr', 'isswade me most', 'seem to cast', 're on the whole success:', 'excels in fact of Arms', 'counsels and in what excels', 'rounds his courage on despair', 'utter dissolution', 'is aim', 're revenge', \"are fill'd\", 'render all access', 'ring Deep', 'thir Legions', 're wing', 'farr and wide into the Realm of night', 'break our way', 'heels all Hell should rise', 'lackest Insurrection', 'rest Light', 'eat Enemie', 'is Throne', 'ereal mould', 'purge off the baser fire', 'is rage', 'end us', 'be our cure', 'be no more', 'full of pain', 'tellectual being', 'thoughts that wander through Eternity', 'perish rather', 'lowd up and lost', 'ated night', 'void of sense and motion', 'is be good', 'give it', 'ill ever', 'ow he can', 'is sure', 'is ire', 'like through impotence', 'is Enemies thir wish', 'is anger', 'is anger saves', 'ish endless', 'cease we then', 'counsel Warr', 'are decreed', 'suffer more', 'suffer worse', 'is this then worst', 'led amain', 'afflicting Thunder', 'shelter us', \"is Hell then seem'd\", 'from those wounds: or when we lay', 'burning Lake', 'was worse', \"eath that kindl'd those grim fires\", 'blow them into sevenfold rage', 'plunge us in the Flames', 'from above', 'intermitted vengeance Arme again', 'is red right hand to plague us', \"tores were op'n'd\", 'is Firmament', 'spout her Cataracts of Fire', 'hideous fall', 'exhorting glorious Warr', \"be hurl'd\", 'rock transfixt', 'racking whirlwinds', 'ever sunk', 'boyling Ocean', 'wrapt in Chains', 'lasting groans', 'hopeless end', 'is would be worse', \"open or conceal'd\", 'force or guile', 'is mind', \"from heav'ns highth\", 'sees and derides', 'ist our might', 'ise to frustrate all our plots and wiles', 'live thus vile', 'suffer here', 'better these then worse', 'ate inevitable', 'is equal', \"is was at first resolv'd\", 'ere wise', 'gainst so great a foe', 'doubtful what might fall', 'are bold', 'fail them', 'shrink and fear', 'know must follow', 'sentence of thir Conquerour: This is now', 'sustain and bear', 'ream Foe in time may much remit', \"farr remov'd\", 'mind us not offending', \"is punish't\", 'raging fires', 'is breath stir not thir flames', 'ill overcome', \"hang'd at length\", 'place conformd', 'temper and in nature', 'fierce heat', 'void of pain', 'grow milde', 'is darkness light', 'ending flight', 're days may bring', 'sent lot appeers', 'though but ill', 'ill not worst', 'ore woe', 'reasons garb', \"isinthrone the King of Heav'n\", 'be best', 'lost: him to unthrone we then', 'lasting Fate shall yeild', 'fickle Chance', 'judge the strife:', 'vain to hope argues as vain', 'be for us', 'ish Grace to all', 'ise made', 'yes could we', 'is presence humble', 'is Throne', 'is Godhead sing', 'envied Sovran', 'is Altar breathes', 'is must be our task', 'is our delight', 'spent in worship paid', 'force impossible', \"leave obtain'd\", \"though in Heav'n\", 'did vassalage', 'good from our selves', 'from our own', 'is vast recess', 'berty before the easie yoke', 'eatness will appear', 'eat things of small', 'prosperous of adverse', \"place so e're\", 'work ease out of pain', 'labour and endurance', 'is deep world', 'do we dread', 'ow oft amidst', \"doth Heav'ns all-ruling Sire\", \"is Glory unobscur'd\", 'is Throne', 'from whence deep thunders roar', 'ring thir rage', 'resembles Hell', 'is Light', 'ate when we please', 'is Desart soile', 'hidden lustre', 'kill or art', 'from whence to raise', 'shew more', 'torments also may in length of time', 'come our Elements', 'piercing Fires', 'soft as now severe', \"temper chang'd\", 'needs remove', \"settl'd State\", 'best we may', 'sent evils', 'are and where', 'have what I advise', 'had finisht', 'murmur filld', 'hollow Rocks retain', 'ring winds', 'ow with hoarse cadence lull', 'ring men orewatcht', 'was heard', \"is Sentence pleas'd\", 'ising peace: for such another Field', 'readed worse then Hell: so much the fear', 'ill within them', 'found this nether Empire', \"site to Heav'n\", \"rising seem'd\", 'illar of State', 'is Front engraven', 'sat and publick care', 'is face yet shon', 'though in ruin: sage he stood', 'shoulders fit to bear', 'weight of mightiest Monarchies', 'dience and attention still as Night', \"ring of heav'n\", \"hanging stile be call'd\", 'ere to continue', 'build up here', 'growing Empire', \"know not that the King of Heav'n hath doom'd\", 'is place our dungeon', 'is Potent arm', 'live exempt', 'is Throne', \"though thus far remov'd\", 'is captive multitude: For he', 'last will Reign', 'is Kingdom loose no part', \"is Golden those in Heav'n\", 'sit we then projecting Peace and Warr', \"hath determin'd us\", 'foild with loss', 'yet none', \"be giv'n\", 'ower hostility and hate', 'revenge though slow', 'plotting how the Conquerour least', 'is conquest', 'least rejoyce', 'suffering feel', 'ill occasion want', 'fear no assault or Siege', 'from the Deep', 'easier enterprize', 'is a place', 'happy seat', \"call'd MAN\", 'is time', 'like to us', 'ower and excellence', \"favour'd more\", 'rules above', 'is will', \"shook Heav'ns whol circumference\", 'let us bend all our thoughts', 'ere inhabit', 'thir Power', 'ere thir weakness', 'tempted best', \"lety: Though Heav'n be shut\", 'sit secure', 'is own strength', \"is place may lye expos'd\", 'is Kingdom', 'hold it: here perhaps', \"be achiev'd\", 'den onset', 'is whole Creation', 'drive as we were driven', 'hem to our Party', 'thir God', 'prove thir foe', 'repenting hand', 'ish his own works', 'is would surpass', 'is joy', 'is disturbance', 'is darling Sons', 'take with us', 'faded bliss', 'ise if this be worth', 'sit in darkness here', 'vain Empires', 'is devilish Counsel', \"art propos'd: for whence\", 'from the Author of all ill could Spring', 'found the race', 'mankind in one root', 'arth with Hell', 'mingle and involve', 'done all to spite', 'eat Creatour', 'ill serves', 'is glory to augment', 'infernal States', 'thir eyes', 'full assent', 'is speech he thus renews', \"have ye judg'd\", 'ended long debate', 'like to what ye are', \"eat things resolv'd\", 'from the lowest deep', 'lift us up', 'erer our ancient Seat', 'haps in view', 'right confines', 'ring Arms', 'some milde Zone', \"sited of Heav'ns fair Light\", 'rightning Orient beam', 'is gloom', 'soft delicious Air', 'heal the scarr of these corrosive Fires', 'eath her balme', 'is new world', 'ring feet', 'infinite Abyss', 'find out', 'is uncouth way', 'spread his aerie flight', 'born with indefatigable wings', 'ere he arrive', 'happy Ile', 'art can then', 'bear him safe', 'enteries and Stations thick', 'watching round', 'had need', 'ow no less', 'last hope relies', 'expectation held', 'look suspence', \"waiting who appeer'd\", 'sat mute', 'ring the danger with deep thoughts', 'is own dismay', 'isht: none among the choice and prime', 'be found', 'die as to proffer or accept', 'readful voyage', 'ill at last', \"ranscendent glory rais'd\", 'is fellows', 'hath deep silence and demurr', 'ismaid: long is the way', 'leads up to Light', 'ison strong', 'is huge convex of Fire', 'res us round', 'burning Adamant', 'prohibit all egress', 'void profound', 'sential Night receives him next', 'utter loss of being', 'scape into what ever world', 'known Region', 'remains him less', 'known dangers and as hard escape', 'come this Throne', \"is Imperial Sov'ranty\", \"arm'd with power\", \"aught propos'd\", 'from attempting', 'erefore do I assume', 'refuse to Reign', 'sing to accept as great a share', 'hazard as of honour', 'hazard more', 'honourd sits', 'ore mighty powers', \"error of Heav'n\", 'tend at home', 'be our home', 'best may ease', 'sent misery', 'render Hell', 'be cure or charm', 'respite or deceive', 'lack the pain', 'is ill Mansion: intermit no watch', 'gainst a wakeful Foe', 'coasts of dark destruction seek', 'liverance for us all: this enterprize', 'take with me', 'saying rose', 'prevented all reply', \"is resolution rais'd\", 'offer now', \"be refus'd) what erst they feard\", \"refus'd might in opinion stand\", 'winning cheap the high repute', 'hazard huge must earn', \"readed not more th' adventure then his voice\", 'rising all at once was as the sound', 'heard remote', 'owards him they bend', 'erence prone', \"equal to the highest in Heav'n:\", \"fail'd they to express how much they prais'd\", \"is own: for neither do the Spirits damn'd\", 'thir vertue', 'least bad men should boast', 'deeds on earth', \"close ambition varnisht o're with zeal\", 'consultations dark', 'rejoycing in thir matchless Chief:', 'from mountain tops the dusky clouds', 'wind sleeps', 'hearful face', 'wring Element', \"ore the dark'nd lantskip Snow\", 'arewell sweet', \"is ev'ning beam\", 'fields revive', 'thir notes renew', 'eating herds', 'thir joy', 'ill and valley rings', 'shame to men', 'men onely disagree', 'eatures rational', 'though under hope', 'aiming peace', 'live in hatred', 'ruel warres', 'induce us to accord)', 'had not hellish foes anow besides', 'is destruction waite', 'came the grand infernal Peers', 'came thir mighty Paramount', \"gonist of Heav'n\", 'read Emperour with pomp Supream', 'like imitated State', \"be of fierie Seraphim inclos'd\", 'right imblazonrie', 'rent Arms', 'ended they bid cry', 'eat result:', 'oward the four winds four speedy Cherubim', 'sounding Alchymie', 'hollow Abyss', 'farr and wide', 'deafning shout', \"return'd them loud acclaim\", \"ore at ease thir minds and somwhat rais'd\", 'resumptuous hope', 'ranged powers', 'is several way', 'liest find', 'is restless thoughts', 'some hours', 'is great Chief return', 'art on the Plain', 'curb thir fierie Steeds', 'shun the Goal', 'fronted Brigads form', 'warn proud Cities warr appears', 'before each Van', 'thir spears', 'ill thickest Legions close', 'eats of Arms', \"end of Heav'n the welkin burns\", 'ore fell', 'end up both Rocks and Hills', 'ride the Air', 'holds the wilde uproar', \"from OEALIA Crown'd\", \"felt th' envenom'd robe\", 'roots THESSALIAN Pines', 'from the top of OETA threw', 'ore milde', 'ated in a silent valley', 'many a Harp', 'deeds and hapless fall', 'doom of Battel', 'complain that Fate', 'ree Vertue should enthrall to Force or Chance', 'was partial', 'took with ravishment', 'thronging audience', 'iscourse more sweet', 'harms the Sense', \"sat on a Hill retir'd\", 'thoughts more elevate', \"reason'd high\", 'found no end', 'ring mazes lost', \"good and evil much they argu'd then\", 'happiness and final misery', 'isdom all', 'sing sorcerie could charm', 'red brest', 'born patience as with triple steel', 'art in Squadrons and gross Bands', 'iscover wide', 'ismal world', 'yeild them easier habitation', 'flying March', 'infernal Rivers that disgorge', 'burning Lake thir baleful streams', 'red STYX the flood of deadly hate', 'lack and deep', 'lamentation loud', 'eard on the ruful stream', 'rent fire inflame with rage', 'from these a slow and silent stream', 'trie Labyrinth', 'ereof who drinks', 'is former state and being forgets', 'gets both joy and grief', 're and pain', 'is flood a frozen Continent', 'beat with perpetual storms', 're Hail', 'firm land', 'gathers heap', 'ruin seems', 'ow and ice', 'found as that SERBONIAN Bog', 'twixt DAMIATA and mount CASIUS old', 'have sunk: the parching Air', \"performs th' effect of Fire\", \"hither by harpy-footed Furies hail'd\", \"revolutions all the damn'd\", 'brought: and feel by turns the bitter change', 'fierce extreams', 'change more fierce', 're to starve in Ice', 'ereal warmth', 'ere to pine', 'frozen round', 'hurried back to fire', 'is LETHEAN Sound', 'ow to augment', 'ish and struggle', 'tempting stream', 'drop to loose', 'getfulness all pain and woe', 'neer the brink', 'ate withstands', \"oppose th' attempt\", 'error guards', 'ater flies', 'living wight', 'roving on', 'march forlorn', 'ring horror pale', 'yes agast', 'lamentable lot', 'rest: through many a dark and drearie Vaile', 'many a Region dolorous', 're many a Frozen', 'many a Fierie Alpe', 'hades of death', 'ere all life dies', 're breeds', \"have feign'd\", \"fear conceiv'd\", \"thoughts inflam'd of highest design\", 'ates of Hell', 'is solitary flight', 'hand coast', 'som times the left', 'haves with level wing the Deep', 'ring high', \"farr off at Sea a Fleet descri'd\", 'from BENGALA', 'stemming nightly toward the Pole', 'flying Fiend: at last appeer', 'bounds high reaching to the horrid Roof', 'reefold the Gates', 'ere Brass', 'ree of Adamantine Rock', 'circling fire', 'ates there sat', 'side a formidable shape', \"seem'd Woman to the waste\", 'ended foul in many a scaly fould', \"pent arm'd\", \"cry of Hell Hounds never ceasing bark'd\", 'full loud', 'hideous Peal: yet', \"isturb'd thir noyse\", \"ere still bark'd and howl'd\", 'abhorrd then these', 'bathing in the Sea that parts', 'from the hoarce TRINACRIAN shore:', 'lier follow the Night-Hag', 'riding through the Air she comes', 'fant blood', 'ring Moon', 'thir charms', \"call'd that shape had none\", 'istinguishable in member', \"call'd that shadow seem'd\", \"seem'd either\", 'stood as Night', 'errible as Hell', 'readful Dart', \"seem'd his head\", 'had on', 'was now at hand', 'is seat', 'came as fast', 'rid strides', 'trembled as he strode', \"is might be admir'd\", 'is Son except', \"ated thing naught vallu'd he nor shun'd\", 'look thus first began', 'art thou', 'though grim and terrible', 'iscreated Front athwart my way', 'yonder Gates', 'mean to pass', \"be assur'd\", 'askt of thee:', 'taste thy folly', 'learn by proof', \"contend with Spirits of Heav'n\", \"full of wrauth reply'd\", 'thou that Traitor Angel', 'art thou hee', \"broke peace in Heav'n and Faith\", 'bellious Arms', \"rew after him the third part of Heav'ns Sons\", 'gainst the highest', 'from God', \"are here condemn'd\", 'waste Eternal daies in woe and pain', \"self with Spirits of Heav'n\", 'ere and scorn', 'ere I reign King', 'thee more', 'thy punishment', 'add wings', 'is Dart', 'range horror seise thee', 'felt before', 'lie terrour', 'speaking and so threatning', 'grew ten fold', \"readful and deform: on th' other side\", \"met burn'd\", 'res the length of OPHIUCUS huge', 'is horrid hair', 'is deadly aime', 'thir fatall hands', \"cast at th' other\", 'lack Clouds', 'illery fraught', 'come rattling on', 'front to front', 'ring a space', 'ill Winds the signal blow', 'thir dark Encounter in mid air:', 'frownd the mighty Combatants', 'rew darker at thir frown', 'matcht they stood', 'was either like', 'meet so great a foe: and now great deeds', \"been achiev'd\", 'had rung', 'eress that sat', 'kept the fatal Key', \"cry rush'd between\", 'intends thy hand', 'gainst thy only Son', 'bend that mortal Dart', 'gainst thy Fathers head', \"know'st for whom\", 'sits above and laughs the while', 'is drudge', 'is wrath', 'calls Justice', 'is wrath which one day will destroy ye both', 'ish Pest', 'range thy outcry', 'thy words so strange', 'den hand', 'tell thee yet by deeds', 'know of thee', 'thou art', \"met thou call'st\", \"call'st my Son\", 'know thee not', 'saw till now', 'ore detestable then him and thee', \"ate reply'd\", 'got me then', 'do I seem', 'ye so foul', 'deemd so fair', \"thee combin'd\", \"gainst Heav'ns King\", 'iserable pain', 'dim thine eyes', 'flames thick and fast', \"left side op'ning wide\", \"thee in shape and count'nance bright\", \"shining heav'nly fair\", \"rung: amazement seis'd\", 'back they recoild affraid', \"call'd me SIN\", 'held me', 'active graces won', 'full oft', 'self in me thy perfect image viewing', \"thou took'st\", \"womb conceiv'd\", 'growing burden', \"fought in Heav'n\", 'art loss and rout', 'down they fell', 'from the Pitch of Heaven', 'is Deep', 'is powerful Key', \"hand was giv'n\", 'ates for ever shut', \"thout my op'ning\", 'ere I sat', 'sat not', 'ill my womb', 'regnant by thee', 'ow excessive grown', 'felt and rueful throes', 'is odious offspring whom thou seest', 'own begotten', 'breaking violent way', 'ore through my entrails', 'fear and pain', 'hape thus grew', \"ransform'd: but he my inbred enemie\", 'randishing his fatal Dart', 'destroy: I fled', \"cry'd out DEATH\", 'hideous Name', 'back resounded DEATH', 'though more', 'took his mother all dismaid', 'embraces forcible and foule', 'ring with me', 'yelling Monsters that with ceasless cry', 'thou sawst', 'ow infinite', 'ist into the womb', 'red them they return', 'owle and gnaw', 'bursting forth', 'resh with conscious terrours vex me round', 'ission none I find', 'sition sits', 'sets them on', 'arent would full soon devour', 'want of other prey', 'is end with mine involvd', 'knows that I', 'prove a bitter Morsel', 'is bane', 'ever that shall be', \"ate pronounc'd\", 'thou O Father', 'warn thee', 'is deadly arrow', 'vainly hope', 'be invulnerable in those bright Arms', \"temper'd heav'nly\", 'reigns above', 'is lore', 'answerd smooth', \"aim'st me for thy Sire\", 'ere showst me', 'ear pledge', \"had with thee in Heav'n\", 'ow sad to mention', 're change', 'falln us unforeseen', 'come no enemie', 'set free', 'is dark and dismal house of pain', \"retenses arm'd\", 'from on high: from them I go', 'rand sole', 'self expose', 'founded deep', 'void immense', 'ring quest a place foretold', 'ring signs', 'ated vast and round', 'place of bliss', \"lieues of Heav'n\", \"erein plac't\", 'start Creatures', 'haps our vacant room', \"ore remov'd\", 'is or aught', \"is more secret now design'd\", 'is once known', 'bring ye to the place where Thou and Death', 'dwell at ease', 'down unseen', 'lently the buxom Air', \"be fed and fill'd\", 'be your prey', 'seemd highly pleasd', \"is famine should be fill'd\", 'is mawe', \"good hour: no less rejoyc'd\", 'is mother bad', 'bespake her Sire', 'is infernal Pit by due', \"mand of Heav'ns all-powerful King\", 'bidden to unlock', 'mantine Gates', 'gainst all force', 'ready stands to interpose his dart', 'living might', 'is commands above', 'ates me', 'thrust me down', 'is gloom of TARTARUS profound', \"sit in hateful Office here confin'd\", 'gonie and pain', 'passt round', 'mine own brood', 'bowels feed:', 'art my Father', 'thou my Author', \"being gav'st me\", 'bring me soon', 'light and bliss', 'live at ease', 'ere I shall Reign', 'hand voluptuous', 'aughter and thy darling', 'from her side the fatal Key', 'ment of all our woe', 'bestial train', 'is high up drew', 'self not all the STYGIAN powers', \"have mov'd\", 'ate wards', 'every Bolt and Bar', \"den op'n flie\", 'ring sound', 'infernal dores', 'thir hinges great', 'lowest bottom shook', \"ates wide op'n stood\", 'ended wings a Bannerd Host', 'spread Ensigns marching might pass through', 'rankt in loose array', 'like a Furnace mouth', 'dounding smoak and ruddy flame', 'yes in sudden view appear', 'rets of the hoarie deep', 'thout bound', 'are lost', 'ere eldest Night', 'endless warrs and by confusion stand', 'ere for Maistrie', 'round the flag', 'is faction', 'thir several Clanns', \"arm'd or heavy\", \"ber'd as the Sands\", 'rid soil', 'ring Winds', 'lighter wings', 'rules a moment', 're sits', 'ision more imbroiles the fray', 'next him high Arbiter', 'governs all', 'is wilde Abyss', 're and perhaps her Grave', 'uses mixt', 'ever fight', 'hem ordain', 'is dark materials to create more Worlds', 'is wilde Abyss the warie fiend', \"look'd a while\", 'is Voyage', 'ow frith', 'had to cross', \"are less peal'd\", 'ises loud and ruinous (to compare', 'eat things with small) then when BELLONA storms', 'bent to rase', 'is frame', 'ere falling', 'had from her Axle torn', 'is Sail-broad Vannes', 'spreads for flight', 'surging smoak', 'lifted spurns the ground', 'many a League', 'ascending rides', 'eat soon failing', 'is pennons vain plumb down he drops', 'dom deep', 'is hour', 'had been falling', 'had not by ill chance', 'rebuff of som tumultuous cloud', 'hurried him', \"many miles aloft: that furie stay'd\", 'founderd on he fares', 'reading the crude consistence', 'are and Saile', 'winged course ore Hill or moarie Dale', 'sues the ARIMASPIAN', 'is wakeful custody purloind', 'guarded Gold: So eagerly the fiend', 're bog or steep', 'pursues his way', 'swims or sinks', \"sounds and voices all confus'd\", 'is eare', 'hither he plyes', 'meet there what ever power', 'ise reside', 'rest coast of darkness lyes', 'ring on light', 'hold the Throne', 'is dark Pavilion spread', 'wasteful Deep', 'vested Night', 'is Reign', 'hem stood', 'readed name', 'next and Chance', 'iscord with a thousand various mouths', 'turning boldly', 'is nethermost Abyss', 'come no Spie', 'ore or to disturb', 'rets of your Realm', 'is darksome desart', 're up to light', 'thout guide', 'readiest path leads where your gloomie bounds', 'som other place', 'ereal King', 'hither to arrive', 'is profound', 'direct my course', 'mean recompence it brings', \"usurpation thence expell'd\", 'sent journey) and once more', 'ere of ANCIENT NIGHT', \"be th' advantage all\", 'mine the revenge', \"isage incompos'd\", 'know thee', 'thou art', 'leading Angel', \"gainst Heav'ns King\", 'saw and heard', 'led not in silence through the frighted deep', 'ruin upon ruin', 'illions her victorious Bands', 'eres here', 'ill serve', 'left so to defend', 'ill through our intestine broiles', 'retching far and wide beneath', 'ately Heaven and Earth', 'ore my Realm', 'golden Chain', 'from whence your Legions fell:', 'be your walk', 'have not farr', 'erer danger', 'goe and speed', 'are my gain', 'aid not to reply', 'find a shore', \"force renew'd\", 'like a Pyramid of fire', 'fighting Elements', 'sides round', 'is way', \"ore endanger'd\", 'twixt the justling Rocks:', 'labour hard', 'labour hee', 'hee once past', 'man fell', 'eath amain', 'is track', \"was the will of Heav'n\", \"beat'n way\", 'boiling Gulf', 'wondrous length', \"reaching th' utmost Orbe\", 'is frail World', 'pass to and fro', 'ish mortals', 'good Angels guard by special grace', 'last the sacred influence', 'light appears', \"from the walls of Heav'n\", 'dim Night', 'glimmering dawn', 'ere Nature first begins', \"from her outmost works a brok'n foe\", 'ow with ease', 'wave by dubious light', 'beaten Vessel holds', 'though Shrouds and Tackle torn', 'spread wings', 're to behold', \"real Heav'n\", 'are or round', \"owrs and Battlements adorn'd\", 'living Saphire', 'is native Seat', 'golden Chain', 'is pendant world', 'close by the Moon', 'ischievous revenge', 'cursed hour he hies', \"ring of Heav'n first-born\", \"thee unblam'd\", 'is light', 'approached light', 'from Eternitie', 'dwelt then in thee', 'right effluence of bright essence increate', \"hear'st thou rather pure Ethereal stream\", 'before the Sun', 'ore the Heavens thou wert', 'didst invest', 'rising world of waters dark and deep', 'from the void and formless infinite', 'sit now with bolder wing', \"though long detain'd\", 're sojourn', 'utter and through middle darkness borne', \"notes then to th' ORPHEAN Lyre\", 'venture down', 'are: thee I revisit safe', 'ran vital Lamp', \"sit'st not these eyes\", 'owle in vain', 'find thy piercing ray', 'find no dawn', 'drop serene hath quencht thir Orbs', 'dim suffusion veild', 'uses haunt', 'hadie Grove', 'love of sacred song', 'flowrie Brooks beneath', 'wash thy hallowd feet', 'warbling flow', 'sit: nor somtimes forget', \"equal'd with me in Fate\", \"ere I equal'd with them in renown\", 'feed on thoughts', 'wakeful Bird', 'hadiest Covert hid', 'turnal Note', \"approach of Ev'n or Morn\", 'sight of vernal bloom', 'man face divine', 'cloud in stead', 'ring dark', 'hearful waies of men', 'knowledg fair', 'sented with a Universal blanc', \"works to mee expung'd and ras'd\", 'rance quite shut out', 'thou Celestial light', 'mind through all her powers', 'ere plant eyes', 'ist from thence', 'urge and disperse', 'see and tell', 'isible to mortal sight', 'had the Almighty Father from above', 'ere he sits', 'is eye', 'is own works and their works at once to view:', 'thick as Starrs', \"is sight receiv'd\", 'eatitude past utterance', 'is right', 'is Glory sat', 'is onely Son', 'arth he first beheld', 'yet the onely two', \"happie Garden plac't\", 'joy and love', 'issful solitude', 'is side Night', 'ready now', 'stoop with wearied wings', 'illing feet', 'are outside of this World', 'thout Firmament', 'holding from his prospect high', 're he beholds', 'seeing spake', 'gotten Son', 'seest thou what rage', 'ransports our adversarie', 'barrs of Hell', 'yet the main Abyss', 'interrupt can hold', 'bent he seems', 'is own rebellious head', 'broke loose he wings his way', \"farr off Heav'n\", 'recincts of light', 'ated World', \"ere plac't\", 'force he can destroy', 'guile pervert', \"heark'n to his glozing lyes\", 'ransgress the sole Command', 'is obedience: So will fall', 'is faithless Progenie: whose fault', 'is own', 'had of mee', 'made him just and right', 'have stood', 'ree to fall', \"ated all th' Ethereal Powers\", 'stood & them who faild', 'stood who stood', 'fell who fell', 'have givn sincere', 'rue allegiance', 'needs must do', 'ise could they receive', 'from such obedience paid', 'is choice)', 'dom both despoild', 'passive both', 'had servd necessitie', 'erefore as to right belongd', 'ere created', 'thir making', 'thir Fate', \"redestination over-rul'd\", \"ispos'd by absolute Decree\", 'hemselves decreed', 'own revolt', 'knowledge had no influence on their fault', \"had no less prov'd certain unforeknown\", 'hadow of Fate', 'lie foreseen', 'hemselves in all', 'judge and what they choose', 'formd them free', 'ree they must remain', 'ill they enthrall themselves: I else must change', 'revoke the high Decree', 'thir fall', 'own suggestion fell', \"falls deceiv'd\", 'find grace', 'glorie excel', 'last shall brightest shine', \"rance fill'd\", 'blessed Spirits elect', \"joy ineffable diffus'd:\", 'are the Son of God was seen', 'is Father shon', 'is face', 'passion visibly appeerd', 'thout end', 're Grace', 'is Father spake', \"was that word which clos'd\", 'ran sentence', 'find grace', 'arth shall high extoll', 'red Songs', 'erewith thy Throne', \"pass'd shall resound thee ever blest\", 'be lost', \"ate so lov'd\", 'thy youngest Son', 'circumvented thus by fraud', 'is own folly', 'from thee farr', 'from thee', 'art Judge', 'judgest onely right', 'ate thine', 'goodness bring to naught', 'is heavier doom', \"ish't and to Hell\", 'thy self', 'ish thy Creation', 'hast made', 'goodness and thy greatness both', \"questiond and blaspheam'd without defence\", \"eat Creatour thus reply'd\", 'hath chief delight', 'art alone', 'thoughts are', 'hath decreed:', 'be lost', 'ill in him', 'ill renew', 'is lapsed powers', \"though forfeit and enthrall'd\", 'sin to foul exorbitant desires', 'held by me', 'yet once more he shall stand', 'round against his mortal foe', 'know how frail', \"is fall'n condition is\", \"is deliv'rance\", 'have chosen of peculiar grace', 'is my will:', 'hear me call', 'be warnd', 'sinful state', 'appease betimes', 'incensed Deitie', 'offerd grace', 'ill cleer thir senses dark', \"soft'n stonie hearts\", 'bring obedience due', 'bedience due', 'ere intent', 'are shall not be slow', 'ye not shut', 'ill place within them as a guide', 're CONSCIENCE', 'ill hear', \"light well us'd they shall attain\", 'end persisting', 'sufferance and my day of grace', 'neglect and scorn', 'ever taste', \"be hard'nd\", 'be blinded more', 'stumble on', 'from mercy I exclude', 'is not don', 'breaks his fealtie', \"gainst the high Supremacie of Heav'n\", 'sing all', 'is Treason hath naught left', 'red and devote', 'is whole posteritie must die', 'hee or Justice must', 'eath for death', 'find such love', 'be mortal to redeem', 'wels in all Heaven charitie so deare', 'stood mute', \"was in Heav'n: on mans behalf\", 'is own head draw', 'ransom set', 'redemption all mankind', 'have bin lost', 'eath and Hell', 'doom severe', 'had not the Son of God', 'love divine', 'arest mediation thus renewd', 'is past', 'find grace', 'find means', 'finds her way', 'winged messengers', 'sit all thy creatures', 'ever seek', 'sins and lost', 'ring meet', 'hath none to bring:', 'hold mee then', 'let thine anger fall', 'count mee man', 'is sake will leave', 'is glorie next to thee', 'put off', 'lastly die', 'is rage', 'is gloomie power I shall not long', 'hast givn me to possess', 'self for ever', 'thee I live', 'eath I yeild', 'is due', 'yet that debt paid', 'leave me in the loathsom grave', 'suffer my unspotted Soule', 'ere to dwell', 'rise Victorious', 'is vanted spoile', 'is deaths wound shall then receive', \"is mortall sting disarm'd\", 're Hell', 'owers of darkness bound', 'look down and smile', \"is'd I ruin all my Foes\", 'is Carcass glut the Grave:', 'enter Heaven long absent', 'see thy face', 'erein no cloud', 'be no more', 'resence Joy entire', 'is words here ended', 'is meek aspect', 'yet spake', \"eath'd immortal love\", 'bedience: as a sacrifice', \"be offer'd\", 'tends the will', 'is great Father', 'is might mean', 'hither tend', 'arth the only peace', 'mankind under wrauth', \"know'st how dear\", 'are all my works', 'last created', 'from my bosom and right hand', 'sing thee a while', 'erefore whom thou only canst redeeme', 're also to thy Nature joyne', 'be thy self Man among men on Earth', 'wondrous birth: Be thou in ADAMS room', 'though ADAMS Son', 'perish all men', \"from a second root shall be restor'd\", \"are restor'd\", 'thee none', 'makes guiltie all his Sons', 'puted shall absolve them who renounce', 'own both righteous and unrighteous deeds', 'live in thee transplanted', 'from thee', 'is most just', 'satisfie for Man', \"be judg'd and die\", 'dying rise', 'rising with him raise', 'ransomd with his own dear life', 'love shal outdoo Hellish hate', 'dying to redeeme', 'ish hate', 'ill destroyes', 'accept not grace', 'descending to assume', 'degrade thine owne', 'thou hast', \"though Thron'd in highest bliss\", 'equally enjoying', 'quitted all to save', 'from utter loss', 'been found', 'ore then Birthright Son of God', 'be so by being Good', 'eat or High', 'because in thee', 'bounded more then Glory abounds', 'erefore thy Humiliation shall exalt', 'is Throne', 'sit incarnate', 'ere shalt Reigne', 'give thee', 'reign for ever', 'thee as Head Supream', 'thee shall bow', 'hem that bide', 'arth in Hell', \"from Heav'n\", 'from thee send', 'summoning Arch-Angels to proclaime', 'read Tribunal: forthwith from all Windes', 'cited dead', 'past Ages to the general Doom', 'rouse thir sleep', \"thy Saints assembl'd\", 'thou shalt judge', 'men and Angels', 'eath thy Sentence', 'bers full', 'be for ever shut', 'from her ashes spring', 'erein the just shall dwell', 'thir tribulations long', 'golden days', 'golden deeds', 'lay by', 'ore shall need', 'be All in All', 'ye Gods', 'pass all this dies', 'dore the Son', 'honour him as mee', \"had th' Almighty ceas't\", 'from numbers without number', 'from blest voices', 'lowly reverent', 'owards either Throne they bow', 'doration down they cast', 'rant and Gold', 'ree of Life', 'mans offence', 'ere first it grew', 'hading the Fount of Life', 'iss through midst of Heavn', 'ber stream', 'fade the Spirits Elect', \"eath'd with beams\", 'thrown off', 'like a Sea of Jasper shon', \"gold'n Harps they took\", \"ever tun'd\", 'glittering by their side', 'harming symphonie they introduce', 'red Song', 'waken raptures high', 'well could joine', \"is in Heav'n\", 'sung Omnipotent', 'thee Author of all being', 'self invisible', \"ere thou sit'st\", \"thou shad'st\", 'full blaze of thy beams', 'round about thee like a radiant Shrine', 'thy skirts appeer', \"dazle Heav'n\", 'rightest Seraphim', 'wings veil thir eyes', 'sang of all Creation first', 'eature can behold', 'is Glorie abides', \"ransfus'd on thee his ample Spirit rests\", 'owers therein', 'thee created', 'threw down', 'ring Dominations: thou that day', 'readful Thunder didst not spare', 'flaming Chariot wheels', 'lasting Frame', 're the necks', 'ring Angels disarraid', 'from pursuit thy Powers with loud acclaime', 'hee only extold', 'thy Fathers might', 'cute fierce vengeance on his foes', 'didst not doome', 'ore to pitie encline:', 'did thy dear and onely Son', 'doom frail Man', \"ore to pitie enclin'd\", 'appease thy wrauth', 'end the strife', \"thy face discern'd\", 'iss wherein hee sat', 'self to die', 'mans offence', 'found less then Divine', 'be the copious matter of my Song', 'thy praise', 'ise disjoine', 'starry Sphear', 'hymning spent', 'firm opacous Globe', 'round World', 'vex divides', 'inferior Orbs', 'lighted walks: a Globe farr off', 'seems a boundless Continent', 'frown of Night', 'eatning storms', 'ring round', \"from the wall of Heav'n\", 'istant farr som small reflection gaines', 'glimmering air less vext with tempest loud:', \"walk'd the Fiend at large in spacious field\", 'ridge the roving TARTAR bounds', 'islodging from a Region scarce of prey', 'gorge the flesh of Lambs or yeanling Kids', 'are fed', 'lies toward the Springs', 'lights on the barren plaines', 'gons light:', 'is windie Sea of Land', 'is prey', 'is place', 'found was none', 'from the earth', 'hither like Aereal vapours flew', 'sitorie and vain', 'had filld the works of men:', 'vain things', 'lasting fame', \"is or th' other life\", 'have thir reward on Earth', 'erstition and blind Zeal', 'seeking but the praise of men', 'thir deeds', 'isht works of Natures hand', 'issolvd on earth', 'ill final dissolution', 'ring Moon', 'have dreamd', 'likely habitants', \"twixt th' Angelical and Human kinde:\", 'ill-joynd Sons and Daughters born', 'from the ancient World those Giants came', 'vain exploit', 'though then renownd:', 'builders next of BABEL on the Plain', 'vain designe', 'had they wherewithall', 'came single', 'be deemd', \"leap'd fondly into AETNA flames\", 'hee who to enjoy', \"leap'd into the Sea\", 'ore too long', 'lack and Grey', 'thir trumperie', 'ere Pilgrims roam', 'farr to seek', \"lives in Heav'n\", 'be sure of Paradise', 'put on the weeds of DOMINIC', \"pass disguis'd\", 'pass the Planets seven', 'pass the fixt', 'hear whose ballance weighs', 'repidation talkt', \"ow Saint PETER at Heav'ns Wicket seems\", 'is Keys', 'ow at foot', 'lift thir Feet', 'from either Coast', 'ransverse ten thousand Leagues awry', 'ye see', 'arers tost', 'utterd into Raggs', 'backside of the World farr off', 'ise of Fools', \"found as he pass'd\", 'last a gleame', 'light turnd thither-ward in haste', \"is travell'd steps\", 'istant hee descries', 'ending by degrees magnificent', 're high', 'top whereof', 'ore rich appeerd', 'work as of a Kingly Palace Gate', 'sparkling orient Gemmes', 'hading Pencil drawn', 'ere such as whereon JACOB saw', 'ascending and descending', 'from ESAU fled', 'open Skie', \"waking cri'd\", \"is is the Gate of Heav'n\", 'was meant', \"drawn up to Heav'n somtimes\", \"eath a bright Sea flow'd\", 'came from Earth', \"flew o're the Lake\", 'drawn by fiery Steeds', 'let down', 'end by easie ascent', 'is sad exclusion from the dores of Bliss', \"gainst which op'nd from beneath\", 'issful seat of Paradise', \"passage down to th' Earth\", 'passage wide', 'farr then that of after-times', 'ere large', 'sit oft those happy Tribes', 'is Angels to and fro', 'is eye with choice regard', 'fount of JORDANS flood', 'bounds were set', 'bound the Ocean wave', 'from hence now on the lower stair', 'wonder at the sudden view', 'is World at once', 'yes with peril gone', 'break of chearful dawne', 'some high-climbing Hill', 'is eye discovers unaware', 'goodly prospect of some forein land', 'renownd Metropolis', 'istering Spires and Pinnacles adornd', 'ising Sun guilds with his beams', \"wonder seis'd\", 'though after Heaven seen', \"ore envy seis'd\", 'beheld so faire', 'well might', 'ere he stood', 'circling Canopie', 'ended shade', 'from Eastern Point', 'from Pole to Pole', 'views in bredth', 'thout longer pause', 'own right into the Worlds first Region throws', 'light precipitant', 'windes with ease', 'is oblique way', 'seemd other Worlds', 'happy Iles', \"dens fam'd of old\", 'roves and flourie Vales', 'happy Iles', 'dwelt happy there', 'stayd not to enquire: above them all', 'golden Sun in splendor likest Heaven', 'is eye: Thither his course he bends', 'ere the great Luminarie', 'tellations thick', 'is Lordly eye keep distance due', 'ispenses Light from farr', 'bers that compute', 'hearing Lamp', 'are turnd', 'is Magnetic beam', 'isible vertue even to the deep:', 'wondrously was set his Station bright', 'ere lands the Fiend', 'like which perhaps', \"is glaz'd Optic Tube yet never saw\", 'found beyond expression bright', 'aught on Earth', 'parts like', 'like informd', 'glowing Iron with fire', 'seemd Gold', 'art Silver cleer', 'welve that shon', 'ere seen', 'like to that which here below', 'have sought', 'though by thir powerful Art they binde', 'call up unbound', 'from the Sea', 'is Native forme', 'wonder then if fields and regions here', 'eathe forth ELIXIR pure', 'from us remote', 'restrial Humor mixt', 'ere in the dark so many precious things', 'ere matter new to gaze the Devil met', 'is eye commands', 'found here', 'is Beams at Noon', \"from th' AEQUATOR\", 'ill direct', 'hadow from body opaque can fall', 'ere so cleer', 'is visual ray', 'istant farr', 'ereby he soon', 'saw also in the Sun:', 'is back was turnd', 'is brightness hid', 'beaming sunnie Raies', 'golden tiar', 'is Head', 'is Locks behind', 'is Shoulders fledge with wings', 'waving round', \"eat charge imploy'd\", 'fixt in cogitation deep', 'was the Spirit impure as now in hope', 'find who might direct his wandring flight', 'ise the happie seat of Man', 'is journies end and our beginning woe', 'is proper shape', 'work him danger or delay:', 'stripling Cherube he appeers', 'is face', 'every Limb', 'well he feignd', 'is flowing haire', 'curles on either cheek plaid', 'wings he wore', \"many a colourd plume sprinkl'd with Gold\", 'is habit fit for speed succinct', 'is decent steps a Silver wand', 'drew not nigh unheard', 'drew nigh', 'is radiant visage turnd', 'isht by his eare', 'was known', 'is Throne', 'ready at command', 'are his Eyes', \"run through all the Heav'ns\", \"down to th' Earth\", 'rands over moist and dry', 're Sea and Land: him SATAN thus accostes', \"thou of those seav'n Spirits that stand\", \"sight of God's high Throne\", 'wont his great authentic will', \"reter through highest Heav'n to bring\", 'is Sons thy Embassie attend', 'liest by supream decree', 'honour to obtain', 'is Eye', 'sit oft this new Creation round', 'speakable desire to see', 'wondrous works', 'fly Man', 'light and favour', 'wondrous he ordaind', 'brought me from the Quires of Cherubim', 'rightest Seraph tell', 'shining Orbes hath Man', 'is fixed seat', 'fixed seat hath none', 'shining Orbes his choice to dwell', 'find him', 'ret gaze', 'open admiration him behold', 'eat Creator hath bestowd', 'hath all these graces powrd', 'is meet', 'is Rebell Foes', 'deepest Hell', 'repair that loss', 'is new happie Race of Men', 'are all his wayes', 'issembler unperceivd', 'is permissive will', 'isdom wake', 'isdoms Gate', 'goodness thinks no ill', \"seems: Which now for once beguil'd\", 'though Regent of the Sun', \"sharpest sighted Spirit of all in Heav'n\", 'lent Impostor foule', 'answer thus returnd', 'tends to know', 'works of God', 'ereby to glorifie', 'eat Work-Maister', 'leads to no excess', 'reaches blame', 'merits praise', 'seems excess', 'led thee hither', 'real Mansion thus alone', 'yes what some perhaps', \"are onely in heav'n:\", 'are all his works', 'be all', 'rance alwayes with delight', 'ated mind can comprehend', 'isdom infinite', 'brought them forth', 'hid thir causes deep', 'saw when at his Word the formless Mass', 'is worlds material mould', 'came to a heap:', 'heard his voice', \"stood vast infinitude confin'd\", 'is second bidding darkness fled', 'isorder sprung:', 'hasted then', \"is Ethereal quintessence of Heav'n\", 'spirited with various forms', 'owld orbicular', 'turnd to Starrs', 'thou seest', 'ow they move', 'had his place appointed', 'is course', 'is Universe', 'hither side', 'light from hence', 'though but reflected', 'is Earth the seat of Man', 'ring Moon', 'site fair Starr) her aide', 'light her countenance triform', \"lighten th' Earth\", 'dominion checks the night', 'is PARADISE', 'hades his Bowre', 'thou canst not miss', 'mine requires', 'bowing low', 'wont in Heaven', 'ere honour due and reverence none neglects', 'arth beneath', \"from th' Ecliptic\", \"sped with hop'd success\", 'light with many an Aerie wheele', 'ill on NIPHATES top he lights', 'warning voice', 'heard cry in Heaven aloud', 'put to second rout', \"be reveng'd on men\", 'arents had bin warnd', 'coming of thir secret foe', 'is mortal snare', \"ow first inflam'd with rage\", \"ere th' Accuser of man-kind\", 'is loss', 'light to Hell:', 'is speed', 'cause to boast', 'is dire attempt', 'is tumultuous brest', 'ish Engine back recoiles', 'doubt distract', \"is troubl'd thoughts\", 'from the bottom stirr', 'round about him', 'from Hell', 'from himself can fly', 'wakes despair', 'wakes the bitter memorie', 'sufferings must ensue', 'metimes towards EDEN which now in his view', 'look he fixes sad', 'blazing Sun', 'sat high in his Meridian Towre:', 'sighs began', 'passing Glory crownd', 'from thy sole Dominion like the God', 'is new World', 'sight all the Starrs', 'isht heads', 'thee I call', 'endly voice', 'add thy name', 'tell thee how I hate thy beams', 'rance from what state', 'thy Spheare', 'threw me down', \"gainst Heav'ns matchless King:\", 'deservd no such return', 'ated what I was', 'right eminence', 'is good', 'is service hard', 'be less then to afford him praise', 'easiest recompence', 'pay him thanks', \"good prov'd ill in me\", 'wrought but malice', 'lifted up so high', 'sdeind subjection', 'thought one step higher', 'set me highest', 'ment quit', 'endless gratitude', 'ill to ow', 'from him I still receivd', 'stood not that a grateful mind', 'owing owes not', 'ill pays', 'burden then', 'had his powerful Destiny ordaind', 'some inferiour Angel', 'had stood', \"had rais'd\", 'som other Power', \"have aspir'd\", 'though mean', 'is part', 'owers as great', \"stand unshak'n\", 'from without', \"temptations arm'd\", 'ill and Power to stand', 'hadst: whom hast thou then or what to accuse', 'dealt equally to all', 'is Love accurst', 'love or hate', 'deals eternal woe', 'be thou', 'is thy will', 'reely what it now so justly rues', 'infinite despaire', 'lie is Hell', 'self am Hell', 'lowest deep a lower deep', 'opens wide', \"suffer seems a Heav'n\", 'is there no place', 'don left', 'left but by submission', 'bids me', 'read of shame', 'ises and other vaunts', 'boasting I could subdue', 'boast so vaine', 'torments inwardly I groane', 'dore me on the Throne of Hell', 'lower still I fall', 'joy Ambition findes', 'say I could repent and could obtaine', 'former state', 'recal high thoughts', 'ow soon unsay', 'wore: ease would recant', 'made in pain', 'lent and void', 'rue reconcilement grow', \"have peirc'd so deep:\", 'lead me to a worse relapse', 'purchase deare', 'ission bought with double smart', 'knows my punisher', 'erefore as farr', 'ranting hee', 'from begging peace:', 'hope excluded thus', 'hold in stead', 'is new delight', 'is World', 'wel Hope', 'wel Fear', 'is lost', 'be thou my Good', 'thee at least', \"re with Heav'ns King I hold\", 'ill reigne', 'ere long', 'is new World shall know', \"passion dimm'd his face\", \"hang'd with pale\", 'envie and despair', \"is borrow'd visage\", 'ye beheld', 'istempers foule', 're ever cleer', 'ereof hee soon aware', \"smooth'd with outward calme\", 'was the first', 'isd falshood under saintly shew', \"couch't with revenge:\", 'had practisd to deceive', \"ye pursu'd him down\", 'ore then could befall', 'is gestures fierce', 'markd and mad demeanour', 'ere delicious Paradise', 're green', 'thicket overgrown', 'oftiest shade', 'ranching Palm', 'ranks ascend', 'hade above shade', 'woodie Theatre', 'liest view', 'thir tops', 'ise up sprung:', 'gave prospect large', 'is neather Empire neighbouring round', 'circling row', 'goodliest Trees loaden with fairest Fruit', 'golden hue', 'ours mixt:', 'is beams', 'hath showrd the earth', 'lovely seemd', 're now purer aire', 'is approach', 'heart inspires', 'light and joy', 'ow gentle gales', 'doriferous wings dispense', 'isper whence they stole', 'hem who saile', 'are past', 'windes blow', 'from the spicie shoare', 'lack thir course', 'many a League', 'heard with the grateful smell old Ocean smiles', 'entertaind those odorous sweets the Fiend', 'came thir bane', \"better pleas'd\", 'fishie fume', 'drove him', 'from the Spouse', 'ascent of that steep savage Hill', 'had journied on', 'pensive and slow', 'found none', \"thick entwin'd\", 'had perplext', 'past that way:', 'ate there onely was', \"look'd East\", 'fellon saw', 'rance he disdaind', \"light bound high overleap'd all bound\", 'ill or highest Wall', 'sheer within', 'is feet', 'rowling Wolfe', 'seek new haunt for prey', 'ere Shepherds pen thir Flocks at eeve', 're the fence with ease into the Fould:', 'bent to unhoord the cash', 'some rich Burgher', 'bolted fast', 'fear no assault', 'dow climbes', 're the tiles', 'rand Thief into Gods Fould:', 'is Church lewd Hirelings climbe', 'ree of Life', 'ere that grew', 'like a Cormorant', 'rue Life', 'sat devising Death', \"hem who liv'd\", 'giving Plant', 'had bin the pledge', 'value right', 'good before him', 'best things', 'meanest use', 'wonder now he views', \"light of human sense expos'd\", 'res whole wealth', 'issful Paradise', 'den was', 'retchd her Line', 'eat SELEUCIA', 'built by GRECIAN Kings', 'ere the Sons of EDEN long before', 'is pleasant soile', 'is farr more pleasant Garden God ordaind', \"round he caus'd to grow\", 'rees of noblest kind for sight', 'stood the Tree of Life', 'blooming Ambrosial Fruit', 'getable Gold', 'next to Life', 'grew fast by', 'knowing ill', 'went a River large', 'is course', 'eath ingulft', 'had thrown', \"is Garden mould high rais'd\", 'arth with kindly thirst up drawn', 'resh Fountain', 'many a rill', 'aterd the Garden', 'united fell', 'own the steep glade', 'met the neather Flood', 'passage now appeers', 'divided into four main Streams', 'ring many a famous Realme', 'try whereof here needs no account', 'tell how', 'isped Brooks', 'owling on Orient Pearl and sands of Gold', 'endant shades', 'siting each plant', 'ise which not nice Art', 're boon', 'ill and Dale and Plaine', 'warmly smote', 'open field', \"ere the unpierc't shade\", 'round the noontide Bowrs: Thus was this place', 'eat of various view', 'wept odorous Gumms and Balme', 'burnisht with Golden Rinde', 'twixt them Lawns', 'evel Downs', 'sing the tender herb', 'spread her store', 'ours of all hue', 'thout Thorn the Rose:', 're which the mantling Vine', 'yes forth her purple Grape', 'murmuring waters fall', 'slope hills', 'fringed Bank with Myrtle crownd', 'unite thir streams', 're apply', 'eathing the smell of field and grove', 'trembling leaves', 're field', 'ring flours', 'self a fairer Floure by gloomie DIS', 'cost CERES all that pain', 'seek her through the world', 'weet Grove', 'is Paradise', 'ere old CHAM', 'call and LIBYAN JOVE', 'rid Son', \"is Stepdame RHEA'S eye\", 'issue Guard', \"is by som suppos'd\", 'ise under the ETHIOP Line', 'shining Rock', 'yes journey high', 'is ASSYRIAN Garden', 'ere the Fiend', 'lighted all delight', 'living Creatures new to sight and strange:', 'erect and tall', 'seemd Lords of all', 'looks Divine', 'thir glorious Maker shon', 'ere and pure', \"dom plac't\", 'rue autoritie in men', 'equal seemd', 'hee and valour formd', 'softness shee and sweet attractive Grace', 'shee for God in him:', \"is fair large Front and Eye sublime declar'd\", 'is parted forelock manly hung', 'is shoulders broad:', 'down to the slender waste', 'golden tresses wore', \"lets wav'd\", 'curles her tendrils', \"requir'd with gentle sway\", 'best receivd', 'reluctant amorous delay', 'ere then conceald', 'was not guiltie shame', 'res works', \"have ye troubl'd all mankind\", 'shews instead', 'seeming pure', 'isht from mans life his happiest life', 'spotless innocence', 'passd they naked on', 'shund the sight', 'thought no ill:', 'hand in hand they passd', 'liest pair', 'loves imbraces met', 'goodliest man of men since borne', 'rest of her Daughters EVE', 'hade that on a green', 'whispering soft', 'resh Fountain side', 'sat them down', 'ore toil', \"thir sweet Gardning labour then suffic'd\", 'recommend coole ZEPHYR', 'made ease', 'som thirst and appetite', 'thir Supper Fruits they fell', 'compliant boughes', 'sat recline', 'askt with flours:', 'ill as they thirsted scoop the brimming stream', 'ring smiles', 'dalliance as beseems', 'happie nuptial League', 'isking playd', 'is paw', 'before them', 'wieldy Elephant', \"make them mirth us'd all his might\", 'is Lithe Proboscis', 'close the Serpent sly', 'readed train', 'is fatal guile', 'gazing sat', 'ruminating: for the Sun', 'hasting now with prone carreer', 'ascending Scale', 'ill in gaze', 'faild speech recoverd sad', 'doe mine eyes with grief behold', \"iss thus high advanc't\", 'eatures of other mould', \"yet to heav'nly Spirits bright\", 'thoughts pursue', 'lively shines', 'hem Divine resemblance', 'hand that formd them on thir shape hath pourd', 'think how nigh', 'change approaches', 'liver ye to woe', 'is now of joy', \"ill secur'd\", \"is high seat your Heav'n\", 'keep out such a foe', 'is enterd', \"yet no purpos'd foe\", 'pittie thus forlorne', 'tied: League with you I seek', 'dwelling haply may not please', 'is fair Paradise', 'gave it me', 'reely give', 'entertain you two', 'send forth all her Kings', 'be room', 'like these narrow limits', 'better place', 'puts me loath to this revenge', 'wrong me not for him who wrongd', 'harmless innocence', 'yet public reason just', \"re with revenge enlarg'd\", 'is new World', 'compels me now', 'do what else though damnd I should abhorre', 'spake the Fiend', 'rants plea', 'is devilish deeds', 'is loftie stand on that high Tree', 'lights among the sportful Herd', 'footed kindes', 'self now one', 'is end', 'is prey', 'ate he more might learn', 'markt: about them round', 'ow he stalkes with fierie glare', \"hath spi'd\", 'lieu two gentle Fawnes at play', 'couches close', 'rising changes oft', 'is couchant watch', 'is ground', 'rushing he might surest seise them both', 'moving speech', 'are to heare new utterance flow', 'artner and sole part of all these joyes', 'arer thy self then all', 'needs must the Power', 'made us', 'is ample World', 'is good', 'beral and free as infinite', \"is'd us from the dust and plac't us here\", 'is happiness', 'is hand', 'ereof hee hath need', 'hee who requires', 'is easie charge', 'are delicious fruit', 'taste that onely Tree', 'planted by the Tree of Life', 'grows Death to Life', 'ere Death is', 'readful thing no doubt', 'thou knowst', 'taste that Tree', 'bedience left', 'many signes of power and rule', 'errd upon us', 'eatures that possesse', 'let us not think hard', 'easie prohibition', 'leave so large to all things else', 'manifold delights:', 'ise him', 'lightful task', 'rune these growing Plants', 'tend these Flours', 'ere it toilsom', 'ere sweet', 'thou for whom', 'from whom I was formd flesh of thy flesh', 'thout whom am to no end', 'said is just and right', 'ises owe', 'fly who enjoy', 'farr the happier Lot', 'reeminent by so much odds', 'ere find', 'oft remember', 'from sleep', \"found my self repos'd\", 'hade on flours', 'wondring where', 'hither brought', 'istant far from thence a murmuring sound', \"issu'd from a Cave and spread\", \"stood unmov'd\", \"re as th' expanse of Heav'n\", 'hither went', 'laid me downe', 'reen bank', 'look into the cleer', 'seemd another Skie', 'bent down to look', 'try gleam appeerd', 'ending to look on me', 'started back', 'started back', 'answering looks', 'had fixt', 'ill now', 'vain desire', 'warnd me', 'thou seest', 'seest fair Creature is thy self', 'came and goes: but follow me', 'hadow staies', 'soft imbraces', 'thou art', 'thou shall enjoy', 'shalt beare', 'like thy self', \"be call'd\", 'man Race: what could I doe', 'follow strait', 'isibly thus led', \"ill I espi'd thee\", 'methought less faire', 'winning soft', 'lie milde', 'try image', 'back I turnd', \"cryd'st aloud\", 'turn fair EVE', \"thou fli'st\", 'thou art', 'give thee being I lent', 'side to thee', 'rest my heart', 'have thee by my side', 'solace dear', 'seek thee', 'thee claim', 'thy gentle hand', 'from that time see', 'is excelld by manly grace', 'is truly fair', 'spake our general Mother', \"action unreprov'd\", 'imbracing leand', 'swelling Breast', 'met his under the flowing Gold', 'hid: he in delight', 'issive Charms', 'regns the Clouds', 'shed MAY Flowers', \"ress'd her Matron lip\", 'isses pure: aside the Devil turnd', 'yet with jealous leer maligne', 'hem askance', 'self thus plaind', \"is't in one anothers arms\", 'happier EDEN', 'enjoy thir fill', 'iss on bliss', 'ere neither joy nor love', 'fierce desire', 'torments not the least', \"fill'd with pain of longing pines\", \"have gain'd\", 'own mouths', 'is not theirs it seems:', \"ledge call'd\", \"ledge forbidd'n\", 'thir Lord', 'hem that', 'be sin to know', 'be death', 'do they onely stand', 'is that thir happie state', 'bedience and thir faith', 'foundation laid whereon to build', 'ill excite thir minds', 'ore desire to know', 'invented with designe', 'knowledge might exalt', 'be such', 'lier can ensue', 'walk round', \"leave unspi'd\", 'ere I may meet', \"ring Spirit of Heav'n\", \"hade retir'd\", 'from him to draw', 'be learnt', 'ye may', 'happie pair', 'ill I return', 'are to succeed', \"is proud step he scornful turn'd\", 'is roam', 'utmost Longitude', 'arth and Ocean meets', 'setting Sun', 'right aspect', 'gainst the eastern Gate of Paradise', 'is eevning Rayes: it was a Rock', 'winding with one ascent', 'from Earth', 'rance high', 'rest was craggie cliff', 'ill as it rose', 'rockie Pillars GABRIEL sat', \"is'd Heroic Games\", \"armed Youth of Heav'n\", 'came URIEL', 'gliding through the Eeven', 'shooting Starr', 'arts the night', 'ress the Air', 'shews the Mariner', 'pass to beware', 'began in haste', \"thee thy cours by Lot hath giv'n\", 'is happie place', 'enter in', 'came to my Spheare', \"ore of th' Almighties works\", 'fly Man', 'is way', 'is Aerie Gate', 'lies from EDEN North', 'ere he first lighted', 'iscernd his looks', \"lien from Heav'n\", \"passions foul obscur'd:\", \"ye pursu'd him still\", 'sight of him', 'isht crew', 'from the deep', 'are must be to find', 'winged Warriour thus returnd:', 'wonder if thy perfet sight', 'ere thou sitst', 'is Gate none pass', \"ere plac't\", \"known from Heav'n\", 'ridian hour', 'eature thence: if Spirit of other sort', 'have oreleapt these earthie bounds', 'knowst it to exclude', 'oreal barr', 'hape he lurk', 'dawning I shall know', \"is'd hee\", 'is charge', 'turnd on that bright beam', 'point now raisd', \"downward to the Sun now fall'n\", \"eath th' AZORES\", 'hither the prime Orb', 'redible how swift', \"had thither rowl'd\", 'is less volubil Earth', \"light to th' East\", 'had left him there', 'reflected Purple and Gold', 'is Western Throne attend:', 'came still Eevning on', 'light gray', 'ber Liverie all things clad', 'thir grassie Couch', 'thir Nests', 'wakeful Nightingale', \"was pleas'd: now glow'd the Firmament\", 'living Saphirs: HESPERUS that led', 'starrie Host', 'ill the Moon', 'ising in clouded Majestie', 'arent Queen unvaild her peerless light', 're the dark her Silver Mantle threw', \"retir'd to rest\", 'like repose', 'hath set', 'falling with soft slumbrous weight inclines', 'eatures all day long', 'need rest', 'is daily work of body or mind', 'ares his Dignitie', 'is waies', 'active range', 'takes no account', 'ere fresh Morning streak the East', 'approach of light', \"be ris'n\", 'lies green', 'walks at noon', 'ranches overgrown', 'mock our scant manuring', 'hands then ours to lop thir wanton growth:', 'soms also', 'dropping Gumms', 'lie bestrowne unsightly and unsmooth', 'read with ease', 're wills', 'bids us rest', 'beauty adornd', 'thou bidst', 'is thy Law', 'know no more', 'knowledge and her praise', 'get all time', 'thir change', 'please alike', 'is the breath of morn', 'rising sweet', 'liest Birds', 'lightful Land he spreads', 'is orient Beams', 'istring with dew', 'rant the fertil earth', 'soft showers', 'coming on', 'grateful Eevning milde', 'lent Night', 'is her solemn Bird and this fair Moon', 'starrie train:', 'eath of Morn when she ascends', 'liest Birds', 'rising Sun', 'lightful land', 'istring with dew', 'rance after showers', 'grateful Evening mild', 'lent Night', 'is her solemn Bird', 'walk by Moon', 'light without thee is sweet', 'shine these', 'is glorious sight', 'sleep hath shut all eyes', 'aughter of God and Man', 'have thir course to finish', 'round the Earth', 'ow Eevning', 'from Land to Land', 'yet unborn', \"light prepar'd\", 'set and rise', 'ish life', 're and all things', 'soft fires', 'foment and warme', 'art shed down', 'tellar vertue on all kinds that grow', 'made hereby apter to receive', 'from the Suns more potent Ray', 'beheld in deep of night', 'ere none', 'want spectators', 'want praise', 'walk the Earth', 'ise his works behold', 'from the steep', 'have we heard', 'responsive each to others note', 'eat Creator: oft in bands', 'keep watch', 'rounding walk', 'touch of instrumental sounds', 'harmonic number joind', 'thoughts to Heaven', \"talking hand in hand alone they pass'd\", 'issful Bower', 'was a place', 'ran Planter', 'lightful use', 'was inwoven shade', 'rel and Mirtle', 'rant leaf', 'dorous bushie shrub', 'beauteous flour', 'isht heads between', 'underfoot the Violet', \"ore colour'd then with stone\", 'liest Emblem: other Creature here', 'enter none', 'was thir awe of man', 'hadier Bower', 'ore sacred and sequesterd', 'though but feignd', 'ever slept', 'close recess', 'smelling Herbs', 'used EVE deckt first her Nuptial Bed', 'res the Hymenaean sung', \"beauty more adorn'd\", 'lovely then PANDORA', 'dowd with all thir gifts', 'iser Son', 're looks', \"be aveng'd\", 'stole JOVES authentic fire', \"hadie Lodge arriv'd\", 'made both Skie', \"arth & Heav'n\", 'resplendent Globe', \"starrie Pole: Thou also mad'st the Night\", 'thou the Day', 'pointed work imployd', 'isht happie in our mutual help', 'own of all our bliss', 'is delicious place', 'dance wants', 'falls to the ground', \"is'd from us two a Race\", 'fill the Earth', 'goodness infinite', 'thy gift of sleep', 'said unanimous', 'doration pure', 'likes best', 'thir inmost bower', 'putting off', 'isguises which wee wear', 'ere laid', 'turnd I weene', 'is fair Spouse', 'atever Hypocrites austerely talk', 'place and innocence', 're what God declares', 'commands to som', 'leaves free to all', 'bids increase', 'bids abstain', 'wedded Love', 'man ofspring', 'ise of all things common else', 'from men', 'bestial herds to raunge', 'ere known', 'be it', 'thee sin or blame', 'liest place', \"is undefil'd and chast pronounc't\", 'golden shafts imploies', 'is constant Lamp', 'is purple wings', 'ere and revels', 'bought smile', 'wanton Mask', \"starv'd Lover sings\", 'is proud fair', 'best quitted with disdain', 'gales imbraceing slept', 'naked limbs the flourie roof', 'yet happiest if ye seek', 'happier state', 'know to know no more', 'addowie Cone', 'is vast Sublunar Vault', 'from thir Ivorie Port the Cherubim', 'stood armd', 'watches in warlike Parade', 'is next in power thus spake', 'draw off', 'coast the South', 'heel the North', 'meets full West', 'flame they part', 'wheeling to the Shield', 'strong and suttle Spirits he calld', 'neer him stood', 'gave them thus in charge', 'wingd speed', 'is Garden', 'searcht no nook', 'fly where those two fair Creatures Lodge', 'sleep secure of harme', \"is Eevning from the Sun's decline arriv'd\", 'tells of som infernal Spirit seen', 'have thought', 'barrs of Hell', 'rand bad no doubt:', 'ere ye find', 'hither bring', 'is radiant Files', 'ower direct', 'ere they found', 'like a Toad', 'close at the eare of EVE', 'saying by his Devilish art to reach', 'hem forge', 'from pure blood arise', 'from Rivers pure', 'least distemperd', 'ring pride', 'is Spear', 'likeness: up he starts', \"iscoverd and surpriz'd\", 'som Magazin to store', 'gainst a rumord Warr', \"blaze diffus'd\", 'flames the Aire:', 'started up in his own shape the Fiend', 'hold the grieslie King', 'cost him soon', \"bell Spirits adjudg'd to Hell\", 'thy prison', 'satst thou like an enemie in waite', 'watching at the head of these that sleep', 'said SATAN', 'filld with scorn', 'ye not me', 'knew me once no mate', 'sitting where ye durst not soare', 'know mee argues your selves unknown', 'lowest of your throng', 'ye know', 'ask ye', 'like to end as much in vain', 'answering scorn with scorn', 'thy shape the same', 'isht brightness', 'be known', \"stoodst in Heav'n upright and pure\", 'wast good', 'from thee', \"resembl'st now\", 'doom obscure and foule', 'give account', 'sent us', 'is to keep', 'is place inviolable', 'from harm', 'spake the Cherube', 'is grave rebuke', 'ere in youthful beautie', 'goodness is', 'ow lovly', 'find here observd', \"is lustre visibly impar'd\", 'ender not the sent', 'be wonn', 'be lost', 'said ZEPHON bold', 'save us trial what the least can doe', 'gainst thee wicked', \"repli'd not\", 'come with rage', 'like a proud Steed reind', 'went hautie on', 'is iron curb: to strive or flie', 'held it vain', 'had quelld', 'drew they nigh', 'rounding guards', 'stood in squadron joind', 'waiting next command', 'thir Chief', 'calld aloud', 'read of nimble feet', 'is way', 'ow by glimps discerne', 'comes a third of Regal port', 'faded splendor wan', 'is gate', 'seems the Prince of Hell', 'likely to part hence without contest', 'look defiance lours', 'had ended', 'related whom they brought', 're coucht', 'regard thus GABRIEL spake', 'hast thou', \"broke the bounds prescrib'd\", 'thy transgressions', 'isturbd the charge', 'prove not to transgress', 'thy example', 'have power and right', 'rance on this place', 'seems to violate sleep', 'planted here in bliss', 'temptuous brow', \"hadst in Heav'n th' esteem of wise\", 'held thee', 'is question askt', 'loves his pain', 'break loose from Hell', 'hither doomd', 'thy self', 'atever place', 'from pain', 'ere thou mightst hope to change', 'ment with ease', 'is place I sought', 'thee no reason', 'knowst only good', \"hast not tri'd: and wilt object\", 'bound us', 'let him surer barr', 'is Iron Gates', 'intends our stay', 'rance: thus much what was askt', 'is true', 'found me where they say', 'lies not violence or harme', 'hee in scorn', \"like Angel mov'd\", \"isdainfully half smiling thus repli'd\", 'judge of wise', 'lie overthrew', \"is prison scap't\", 'hold them wise', 'ask what boldness brought him hither', \"bounds in Hell prescrib'd\", 'fly from pain', 'is punishment', 'judge thou still', 'ill the wrauth', \"thou incurr'st by flying\", 'meet thy flight', 'isdom back to Hell', 'taught thee yet no better', \"equal anger infinite provok't\", 'erefore thou alone', 'erefore with thee', 'broke loose', 'is pain to them', 'be fled', 'thou then they', 'die to endure', 'light from pain', \"had'st thou alleg'd\", 'deserted host this cause of flight', 'hadst not come sole fugitive', 'answerd frowning stern', 'from pain', 'knowst I stood', 'thy aide', 'made all speed', 'readed Spear', 'ill thy words at random', 'thy inexperience what behooves', 'ill successes past', 'faithful Leader', 'hazard all', \"yes of danger by himself untri'd\", 'ate Abyss', 'is new created World', 'ereof in Hell', 'is not silent', 'ere in hope to find', 'afflicted Powers', 'settle here on Earth', 'put to try once more', 'are against', 'ere to serve thir Lord', 'is Throne', \"is'd distances to cringe\", 'say and strait unsay', 'lie pain', 'sing next the Spie', 'thou faithful add', \"red name of faithfulness profan'd\", 'bellious crew', 'fit body to fit head', \"is your discipline and faith ingag'd\", \"knowledg'd Power supream\", 'thou sly hypocrite', 'ow wouldst seem', 'ore then thou', \"illy ador'd\", 'erefore but in hope', 'ispossess him', 'self to reigne', 'thee now', 'lie thither whence thou fledst: if from this houre', 'lowd limits thou appeer', 'drag thee chaind', 'thee so', 'lightly barrd', \"eatn'd hee\", \"ore in rage repli'd\", 'thy captive talk of chaines', 'ere then', 'self expect to feel', 'revailing arme', 'though Heavens King', 'thy wings', 'thy Compeers', 'is triumphant wheels', \"ress through the rode of Heav'n Star-pav'd\", 'sharpning in mooned hornes', 'began to hemm him round', 'ported Spears', 'thick as when a field', 'waving bends', 'bearded Grove of ears', 'areful Plowman doubting stands', 'is hopeful sheaves', \"side SATAN allarm'd\", 'is might dilated stood', 'is stature reacht the Skie', 'is Crest', 'is graspe', 'readful deeds', \"have ensu'd\", 'is commotion', 'gon to rack', 'isturbd and torne', 'is conflict', 'had not soon', 'rid fray', 'golden Scales', 'twixt ASTREA and the SCORPION signe', 'ated first he weighd', \"round Earth with ballanc't Aire\", 'ponders all events', 'put two weights', 'parting and of fight', 'kickt the beam', 'bespake the Fiend', 'know thy strength', 'knowst mine', \"own but giv'n\", 'lie then', 'boast what Arms can doe', 'since thine no more', 'doubld now', 'look up', 'read thy Lot in yon celestial Sign', \"ere thou art weigh'd\", 'shown how light', 'thou resist', 'lookt up and knew', 'is mounted scale aloft: nor more', 'hades of night', \"ow Morn her rosie steps in th' Eastern Clime\", 'arth with Orient Pearle', 'is sleep', 'from pure digestion bred', 'temperat vapors bland', 'leaves and fuming rills', 'ill Matin Song', 'every bough', \"find unwak'nd EVE\", \"resses discompos'd\", 'glowing Cheek', 'is side', 'looks of cordial Love', 'waking or asleep', 'hand soft touching', 'atest found', 'last best gift', 'ever new delight', 'morning shines', 'resh field', 'lose the prime', 'ow spring', 'ended Plants', 'blows the Citron Grove', 'drops the Myrrhe', 'paints her colours', 'ow the Bee', 'extracting liquid sweet', \"whispering wak'd her\", \"startl'd eye\", 'find all repose', 'is Night', \"is I never pass'd\", 'oft am wont', 'ows next designe', 'is irksom night', \"call'd me forth to walk\", 'thought it thine', 'sleepst thou EVE', 'is the pleasant time', 'save where silence yields', 'warbling Bird', 'ow awake', \"love-labor'd song\", 'sing light', 'hadowie sets off the face of things', 'is eyes', 'hold but thee', 'sight all things joy', 'beauty still to gaze', 'rose as at thy call', 'found thee not', 'find thee I directed then my walk', \"pass'd through ways\", 'brought me on a sudden to the Tree', \"ledge: fair it seem'd\", 'rer to my Fancie then by day:', 'wondring lookt', 'beside it stood', \"from Heav'n\", 'oft seen', \"is dewie locks distill'd\", \"ree he also gaz'd\", 'taste thy sweet', \"is Knowledge so despis'd\", 'bids to taste', 'bid who will', 'from me withhold', 'offerd good', 'set here', \"said he paus'd not\", \"damp horror chil'd\", 'words voucht with a deed so bold:', 'thy self', 'ore sweet thus cropt', 'make Gods of Men:', 'ore abundant growes', 'honourd more', 'take thou also', 'though thou art', 'thou mayst be', 'be henceforth among the Gods', 'self a Goddess', 'arth confind', 'somtimes in the Air', \"end to Heav'n\", 'merit thine', 'live there', 'live thou', 'drew nigh', 'held part', 'had pluckt', 'eath beheld', 'stretcht immense', 'light and change', 'is high exaltation', 'was gon', 'fell asleep', \"ow glad I wak'd\", 'find this but a dream', 'answerd sad', 'arer half', 'is night in sleep', 'is uncouth dream', 'rung I fear', 'thee can harbour none', 'know that in the Soule', 're many lesser Faculties that serve', 'watchful Senses represent', 'forms Imaginations', 'joyning or disjoyning', 'affirm or what deny', 'knowledge or opinion', 'ate Cell when Nature rests', 'mimic Fansie wakes', 'ate her', 'isjoyning shapes', 'work produces oft', 'deeds long past or late', 'methinks I find', 'last Eevnings talk', 'is thy dream', 'addition strange', 'be not sad', 'mind of God or Man', 'come and go', 'gives me hope', 'sleep thou didst abhorr to dream', 'sent to do', \"heart'nd then\", 'cloud those looks', 'wont to be more chearful and serene', 'smiles on the World', 'let us to our fresh imployments rise', \"open now thir choicest bosom'd smells\", 'from night', 'kept for thee in store', 'heard he his fair Spouse', 'was cheard', 'let fall', 'hem with her haire', 'ready stood', 'thir chrystal sluce', 'ere they fell', \"iss'd as the gracious signs of sweet remorse\", 'have offended', 'was cleard', 'hadie arborous roof', 'come to open sight', 'scarce up risen', \"ring o're the Ocean brim\", 'is dewie ray', 'iscovering in wide Lantskip all the East', 'ise and EDENS happie Plains', \"bow'd adoring\", 'wanted they to praise', \"rains pronounc't or sung\", 'prompt eloquence', 'from thir lips', 'rose or numerous Verse', 'needed Lute or Harp', 'add more sweetness', 'are thy glorious works', 'arent of good', 'is universal Frame', 'wondrous fair', 'wondrous then', 'sitst above these Heavens', 'isible or dimly seen', 'lowest works', 'yet these declare', 'goodness beyond thought', 'ower Divine:', 'best can tell', 'ye Sons of light', 'hold him', 'thout Night', 'is Throne rejoycing', \"yee in Heav'n\", 'eatures to extoll', 'thout end', 'rest of Starrs', 'last in the train of Night', 'better thou belong not to the dawn', 'ledge of day', 'smiling Morn', 'thy bright Circlet', 'ise him in thy Spheare', 'weet hour of Prime', 'is great World both Eye and Soule', 'knowledge him thy Greater', 'is praise', 'thy eternal course', \"thou climb'st\", 'hast gaind', 'thou fallst', 'meetst the orient Sun', 'fixt Starrs', 'fixt in thir Orb that flies', 'ring Fires that move', 'thout Song', \"call'd up Light\", 'ye Elements the eldest birth', 'res Womb', 'aternion run', 'ish all things', 'let your ceasless change', 'eat Maker still new praise', 'ists and Exhalations that now rise', 'ill or steaming Lake', 'paint your fleecie skirts with Gold', 'eat Author rise', 'deck with Clouds the uncolourd skie', 'falling showers', 'advance his praise', 'is praise ye Winds', 'from four Quarters blow', 'soft or loud', 'wave your tops', 'every Plant', 'ye flow', 'is praise', 'living Souls', 'singing up to Heaven Gate ascend', 'is praise', 'aters glide', 'yee that walk', 'ately tread', 'lowly creep', 'be silent', 'resh shade', 'taught his praise', 'be bounteous still', 'give us onely good', 'gathered aught of evil or conceald', 'light dispels the dark', \"pray'd they innocent\", 'thir thoughts', 'wonted calm', 'work they haste', 'weet dewes and flours', 'ere any row', 'woodie reachd too farr', 'hands to check', 'led the Vine', \"dowr th' adopted Clusters\", 'is barren leaves', 'hem thus imploid beheld', \"pittie Heav'ns high King\", 'travel with TOBIAS', 'is marriage with the seaventimes-wedded Maid', \"hear'st what stir on Earth\", \"from Hell scap't through the darksom Gulf\", 'isd in Paradise', 'ow disturbd', 'is night the human pair', 'ow he designes', 'ruin all mankind', 'is day as friend with friend', 're or shade', \"find'st him from the heat of Noon retir'd\", 'is day-labour with repast', 'bring on', 'ise him of his happie state', 'left free to will', 'is own free Will', 'is Will though free', 'warne him to beware', 'tell him withall', 'from whom', \"from Heav'n\", 'is plotting now', 'from like state of bliss', 'be withstood', 'is let him know', 'ransgressing he pretend', \"spake th' Eternal Father\", 'laid the winged Saint', 'is charge receivd', 'from among', 'ere he stood', 'gorgeous wings', 'ringing light', 'hand parting', 'gave way', 'real road', 'ill at the Gate', 'opend wide', 'golden Hinges turning', \"had fram'd\", 'is sight', 'owever small he sees', 'shining Globes', \"arth and the Gard'n of God\", 'from amidst the CYCLADES', 'ring kenns', 'cloudy spot', 'hither prone in flight', 'ereal Skie', 'between worlds & worlds', 'die wing', 'ow on the polar windes', 'ows the buxom Air', 'ill within soare', 'wring Eagles', 'owles he seems', \"is reliques in the Sun's\", 'is proper shape returns', 'wings he wore', 'is lineaments Divine', \"came mantling o're his brest\", 'regal Ornament', 'is waste', 'is loines and thighes with downie Gold', \"dipt in Heav'n\", 'is feet', 'addowd from either heele with featherd maile', 'shook his Plumes', 'rance filld', 'knew him all the bands', 'is state', 'is message high in honour rise', 'som message high they guessd him bound', 'glittering Tents he passd', 'is come', 'issful field', 'roves of Myrrhe', 'ring Odours', 're here', 'laid at will', 'ring forth more sweet', 'rule or art', 'rest onward com', 'dore he sat', 'is coole Bowre', 'ow the mounted Sun', 'is fervid Raies', 'arths inmost womb', 'warmth then ADAM need', 'taste to please', 'isrelish thirst', 'aughts between', 'from milkie stream', \"errie or Grape: to whom thus ADAM call'd\", 'hither EVE', 'thy sight behold', 'is way moving', 'seems another Morn', \"is'n on mid-noon\", \"from Heav'n\", 'haps he brings', 'ill voutsafe', 'is day to be our Guest', 'goe with speed', 'tores contain', 'bring forth and poure', 'honour and receive', 'well we may afford', 'givers thir own gifts', 'ere Nature multiplies', \"isburd'ning grows\", 'instructs us not to spare', 'lowd mould', 'tore will serve', 'hangs on the stalk', 'ring firmness gains', 'ist consumes:', 'from each bough and break', 'pluck such choice', 'entertain our Angel guest', 'holding shall confess that here on Earth', \"ispenst his bounties as in Heav'n\", 'looks in haste', 'thoughts intent', 'use for delicacie best', 'well joynd', 'liest change', 'stirs her then', 'from each tender stalk', 'bearing Mother yeilds', \"smooth rin'd\", 'bearded husk', 'ring hand', 'drink the Grape', 'many a berrie', 'from sweet kernels prest', 'tempers dulcet creams', 'fit vessels pure', 'rews the ground', \"from the shrub unfum'd\", 'eat Sire', 'god-like Guest', 'ore train', 'is own compleat', 'is state', 'ore solemn then the tedious pomp that waits', 'thir rich Retinue long', 'smeard with Gold', 'sets them all agape', 'is presence ADAM though not awd', 'iss approach and reverence meek', 'hape contain', 'descending from the Thrones above', 'hast deignd a while', 'honour these', 'voutsafe with us', 'ran gift possess', 'is spacious ground', 'hadie Bowre', 'den choicest bears', 'sit and taste', 'is meridian heat', 'ore coole decline', 'answerd milde', 'erefore came', 'art thou such', 'hast here to dwell', 'oft invite', \"though Spirits of Heav'n\", 'sit thee', 'ere thy Bowre', 'ill Eevning rise', 'have at will', \"like POMONA'S Arbour smil'd\", \"deck't and fragrant smells\", 'lovely fair', \"rest Goddess feign'd\", 'ree that in Mount IDA naked strove', \"from Heav'n\", 'thought infirme', 'blest MARIE', 'fill the World more numerous with thy Sons', 'rees of God', 'is Table', \"is'd of grassie terf\", 'had round', 'are from side to side', 'though SPRING and AUTUMN here', 'hand in hand', 'iscourse they hold', 'fear lest Dinner coole', 'please to taste', \"good unmeasur'd out\", \"light hath caus'd\", 'arth to yeild', 'is I know', 'gives to all', 'erefore what he gives', 'sung) to man in part', 'rest Spirits be found', 'grateful food: and food alike those pure', 'telligential substances require', 'doth your Rational', 'lower facultie', 'ereby they hear', 'oreal to incorporeal turn', 'atever was created', 'be sustaind and fed', 'feeds the purer', 'arth the sea', 'arth and the Sea feed Air', 'lowest first the Moon', 'round those spots', 'yet into her substance turnd', 'ishment exhale', 'ist Continent to higher Orbes', 'light imparts to all', 'is alimental recompence', \"though in Heav'n the Trees\", 'from off the boughs each Morn', 'rush mellifluous Dewes', 'find the ground', 'hath here', 'is bounty so with new delights', 'are with Heaven', 'be nice', 'down they sat', 'thir viands fell', 'common gloss', 'real hunger', 'holds it possible to turn', 're to perfet Gold', 'from the Mine', 'flowing cups', \"own'd: O innocence\", 'have bin', \"bidinous reign'd\", \"had suffic'd\", 'mind arose', \"let th' occasion pass\", 'is great Conference to know', 'is World', 'thir being', \"dwell in Heav'n\", 'excellence he saw', 'ranscend his own so farr', 'ower so far', 'is wary speech', \"ister he fram'd\", 'know I well', 'is honour done to man', \"hast voutsaf't\", 'arthly fruits to taste', 'yet accepted so', 'illingly thou couldst not seem', 'have fed: yet what compare', \"winged Hierarch repli'd\", 'from good', 'matter all', \"ore refin'd\", \"erer to him plac't or neerer tending\", 'hears assignd', 'ill body up to spirit work', 'from the root', 'lighter the green stalk', 'from thence the leaves', 'last the bright consummate floure', 'breathes: flours and thir fruit', \"scale sublim'd\", 'give both life and sense', 'is her being', 'oftest yours', 'is ours', 'ring but in degree', 'saw good', 'refuse not', 'oper substance', 'come when men', 'light Fare:', 'from these corporal nutriments perhaps', 'last turn all to Spirit', 'act of time', 'wingd ascend', 'ises dwell', 'found obedient', 'love entire', 'is happie state', \"mankind repli'd\", 'favourable spirit', 'taught the way that might direct', 're set', 'enter to circumference', 'ated things', 'ascend to God', 'meant that caution joind', 'bedience then', 'love desert', 'from the dust', 're of what bliss', 'seek or apprehend', 'tend: That thou art happie', 'owe to God', \"thou continu'st such\", 'thy self', 'thy obedience', \"is was that caution giv'n thee\", 'made thee perfet', 'made thee', 'left it in thy power', 'thy will', 're free', \"be tri'd whether they serve\", 'illing or no', 'ill but what they must', \"self and all th' Angelic Host that stand\", \"sight of God enthron'd\", 'happie state', 'bedience holds', 'rety none', 'reely we serve', 'reely love', 'love or not', 'is we stand or fall:', \"are fall'n\", \"isobedience fall'n\", \"from Heav'n to deepest Hell\", 'iss into what woe', 'eat Progenitor', 'lighted eare', 'have heard', 'from neighbouring Hills', 'send: nor knew I not', 'be both will and deed created free', 'get to love', 'bey him whose command', 'is yet so just', 'ill assure: though what thou tellst', \"past in Heav'n\", 'doubt within me move', 'ore desire to hear', 'thou consent', 'full relation', 'needs be strange', 'be heard', 'have yet large day', 'scarce the Sun', 'isht half his journey', 'scarce begins', \"is other half in the great Zone of Heav'n\", 'made request', 'pause assenting', 'matter thou injoinst me', 'ask and hard', 'ow shall I relate', 'isible exploits', 'ring Spirits', 'thout remorse', 'many glorious once', 'perfet while they stood', 'last unfould', 'rets of another world', 'yet for thy good', \"is is dispenc't\", 'surmounts the reach', 'man sense', 'ate so', 'ress them best', 'though what if Earth', \"addow of Heav'n\", 'is thought', 'is world was not', \"ere these Heav'ns now rowl\", 'ere Earth now rests', \"enter pois'd\", 'though in Eternitie', 'measures all things durable', 're) on such day', 'brings forth', 'real Host', \"summons call'd\", \"before th' Almighties Throne\", \"from all the ends of Heav'n appeerd\", 'thir Hierarchs in orders bright', \"thousand thousand Ensignes high advanc'd\", 'twixt Van and Reare', 'reame in the Aire', 'istinction serve', \"bear imblaz'd\", 'acts of Zeale and Love', 'ressible they stood', 'sat the Son', 'from a flaming Mount', 'made invisible', 'ear my Decree', \"revok't shall stand\", 'have begot whom I declare', 'is holy Hill', 'have anointed', 'ye now behold', 'right hand', 'have sworn to him shall bow', 'confess him Lord:', 'is great Vice-gerent Reign abide', 'happie: him who disobeyes', 'from God and blessed vision', 'utter darkness', 'thout redemption', \"spake th' Omnipotent\", 'is words', \"seemd well pleas'd\", 'ere not all', 'dance about the sacred Hill', 'yonder starrie Spheare', 'fixt in all her Wheeles', 'regular they seem:', 'harmonie Divine', 'harming tones', 'own ear', 'have also our Eevning and our Morn', 'change delectable', 'from dance to sweet repast they turn', 'are set', \"den pil'd\", 'rubied Nectar flows:', \"growth of Heav'n\", 'refection sweet', \"before th' all bounteous King\", 'rejoycing in thir joy', \"ow when ambrosial Night with Clouds exhal'd\", 'light & shade', 'had changd', 'light (for Night comes not there', \"roseat Dews dispos'd\", 'sleeping eyes of God to rest', 'is globous Earth in Plain outspred', \"are the Courts of God) Th' Angelic throng\", 'isperst in Bands and Files thir Camp extend', 'living Streams among the Trees of Life', 'den reard', 'ere they slept', 'save those who in thir course', 'ran Throne', \"ate all night long: but not so wak'd\", 'call him now', 'is former name', \"heard no more Heav'n\", 'eat in Power', 'favour and praeeminence', 'gainst the Son of God', 'is great Father', 'ride that sight', 'thought himself impaird', 'conceiving & disdain', 'brought on the duskie houre', 'sleep and silence', 'is Legions to dislodge', \"bey'd the Throne supream\", 'is next subordinate', 'ret spake', 'thou Companion dear', 'sleep can close', 'rest what Decree', 'ate hath past the lips', 'thy thoughts', 'wont to impart', 'ere one', 'ow then can now', 'sleep dissent', \"seest impos'd\", 'from him who reigns', 'minds may raise', 'doubtful may ensue', 'is place', 'is not safe', 'lead the chief', 'hem that by command', 'ere yet dim Night', 'hadowie Cloud withdraws', 'thir Banners wave', 'flying march where we possess', 'arters of the North', 'ere to prepare', 'receive our King', 'eat MESSIAH', 'is new commands', 'speedily through all the Hierarchies', 'pass triumphant', 'give Laws', 'spake the false Arch-Angel', 'unwarie brest', 'is Associate', 'gether calls', 'everal one by one', 'was taught', 'ere Night', \"had disincumberd Heav'n\", 'was to move', 'suggested cause', 'casts between', 'words and jealousies', 'taint integritie', 'wonted signal', 'eat Potentate', 'eat indeed', \"is degree in Heav'n\", 'starrie flock', \"rew after him the third part of Heav'ns Host:\", 'sight discernes', 'is holy Mount', 'golden Lamps that burne', 'before him', 'saw without thir light', 'saw in whom', 'is high Decree', 'is onely Son thus said', 'thou in whom my glory I behold', 'full resplendence', 'be sure', 'hold what anciently we claim', 'erect his Throne', 'is thought to trie', 'ower is', 'is hazard draw', 'is left', 'ares we lose', 'is our high place', 'thy foes', 'hast in derision', 'vain designes and tumults vain', 'thir hate', 'see all Regal Power', 'thir pride', 'be dextrous to subdue', \"found the worst in Heav'n\", 'spake the Son', 'is Powers', 'winged speed', 'every leaf and every flouer', 'thir triple Degrees', 'thy Dominion', 'is no more', 'is Garden is to all the Earth', 'from one entire globose', 'retcht into Longitude', \"having pass'd\", 'limits of the North', 'is Royal seat', \"is'd on a Mount\", 'eat LUCIFER', 'reted) which not long after', 'equality with God', \"was declar'd in sight of Heav'n\", \"regation call'd\", 'is Train', 'ending so commanded to consult', 'eat reception of thir King', 'hither to come', 'held thir ears', 'yet remain', 'meerly titular', 'since by Decree', \"hath to himself ingross't\", 'is haste', 'hurried meeting here', 'is onely to consult how we may best', \"is'd of honours new\", 'coming to receive from us', 'yet unpaid', \"double how endur'd\", \"is image now proclaim'd\", 'better counsels might erect', 'teach us to cast off this Yoke', 'submit your necks', 'use to bend', 'ill not', 'know ye right', 'know your selves', 'equal all', 'well consist', 'reason then or right assume', 'live by right', 'dor less', 'dome equal', 'thout law', 'is to be our Lord', \"look for adoration to th' abuse\", \"being ordain'd to govern\", 'is bold discourse without controule', \"ore zeale ador'd\", \"commands obei'd\", 'flame of zeale severe', \"is fury thus oppos'd\", 'ment blasphemous', \"are ever to hear in Heav'n\", 'from thee', 'self so high above thy Peeres', 'thou with impious obloquie condemne', 'ree of God', \"is only Son by right endu'd\", \"every Soule in Heav'n\", 'bend the knee', 'honour due', 'rightful King', 'thou saist', 'binde with Laws the free', 'let Reigne', 'succeeded power', 'give Law to God', 'thou dispute', 'points of libertie', 'thou art', \"ow'rs of Heav'n\", 'thir being', 'know how good', 'ow provident he is', 'from thought', 'make us less', 'bent rather to exalt', 'ate under one Head more neer', 'rant it thee unjust', 'equal over equals Monarch Reigne:', 'dost thou count', 're joind in one', 'gotten Son', 'is Word the mighty Father made', 'ated in thir bright degrees', 'ownd them with Glory', \"thir Glory nam'd\", \"is Reign obscur'd\", 'illustrious made', 'since he the Head', \"ber thus reduc't becomes\", 'is Laws our Laws', 'honour to him done', 'turns our own', 'is impious rage', 'tempt not these', \"hast'n to appease\", 'incensed Father', 'incensed Son', 'found in time besought', 'spake the fervent Angel', 'is zeale', \"season judg'd\", 'singular and rash', \"ore haughty thus repli'd\", 'ist thou', 'ask transferd', 'is Son', 'range point and new', 'know whence learnt: who saw', 'is creation was', 'gave thee being', 'know no time when we were not as now', 'before us', \"own quick'ning power\", 'is full Orbe', \"is our native Heav'n\", 'issance is our own', 'own right hand', 'teach us highest deeds', 'is our equal: then thou shalt behold', \"begirt th' Almighty Throne\", 'seeching or besieging', 'anointed King', 'ere evil intercept thy flight', 'aters deep', 'is words applause', 'infinite Host', 'flaming Seraph fearless', \"pass'd round with foes\", 'answerd bold', 'lienate from God', 'see thy fall', \"rew involv'd\", 'is perfidious fraud', 'ishment: henceforth', \"be troubl'd how to quit the yoke\", 'indulgent Laws', \"be now voutsaf't\", 'are gon forth without recall', 'didst reject', 'ise and breake', 'didst advise', 'ise or threats I fly', 'least the wrauth', 'raging into sudden flame', 'istinguish not: for soon expect to feel', 'is Thunder on thy head', 'ated thee lamenting learne', 'ate thee thou shalt know', 'spake the Seraph ABDIEL faithful found', 'faithful only hee', 'is Loyaltie he kept', 'from truth', 'is constant mind', 'hem forth he passd', \"fear'd aught\", \"is back he turn'd\", \"owrs to swift destruction doom'd\", \"readless Angel unpursu'd\", 'is way', 'circling Hours', 'ates of Light', 'is a Cave', 'is Throne', 'light and darkness in perpetual round', 'islodge by turns', \"makes through Heav'n\", 'like Day and Night', 'issues forth', 'ill her houre', \"veile the Heav'n\", 'ere might well', 'light here', 'went forth the Morn', 'isht Night', 'thick embatteld Squadrons bright', 'flaming Armes', 'blaze on blaze', 'met his view:', 'ready known what he for news had thought', 'have reported: gladly then he mixt', \"endly Powers who him receav'd\", 'joy and acclamations loud', \"many Myriads fall'n\", 'lost: On to the sacred hill', 'led him high applauded', 'eat supream', 'from whence a voice', 'was heard', 'hast thou fought', 'better fight', 'hast maintaind', 'gainst revolted multitudes the Cause', 'hast born', 'is was all thy care', \"stand approv'd in sight of God\", 'thee perverse: the easier conquest now', 'is host of friends', 'ore glorious to return', 'didst depart', 'reason for thir Law refuse', 'reason for thir Law', 'thir King', 'right of merit Reigns', 'thou in Military prowess next', 'lead forth to Battel these my Sons', 'armed Saints', \"rang'd for fight\", 'ber to that Godless crew', 're and hostile Arms', \"ow of Heav'n\", 'from God and bliss', 'place of punishment', 'ready opens wide', 'is fiery CHAOS to receave thir fall', 'ran voice', 'darken all the Hill', 'read the loud', 'from on high gan blow:', 'mand the Powers Militant', \"stood for Heav'n\", \"ate joyn'd\", 'thir bright Legions', \"armonie that breath'd\", \"dor to advent'rous deeds\", 'like Leaders', 'is MESSIAH', \"reit'ning Vale\", 'ream divides', 'perfet ranks', 'march was', 'passive Air upbore', 'summond over EDEN to receive', 'names of thee', 'many a tract', 'many a Province wide', 'is terrene: at last', 'skirt to skirt a fierie Region', 'erer view', \"istl'd with upright beams innumerable\", \"mets throng'd\", 'boastful Argument portraid', 'hasting on', 'self same day by fight', 'is State', \"thoughts prov'd fond and vain\", 'range to us it seemd', 'fierce hosting meet', 'wont to meet', 'oft in Festivals of joy and love', 'eat Sire', 'ow began', 'rushing sound', 'ended soon each milder thought', 'exalted as a God', 'is Sun-bright Chariot sate', 'dol of Majestie Divine', 'golden Shields', 'lighted from his gorgeous Throne', 'was left', 'readful interval', 'stood in terrible array', 'hideous length: before the cloudie Van', \"ere it joyn'd\", \"rides advanc't\", 'mant and Gold', \"endur'd not\", 'ere he stood', 'bent on highest deeds', 'heart explores', 'resemblance of the Highest', 'yet remain', 'ere faith and realtie', 'ore should not strength & might', 'fail where Vertue fails', 'weakest prove', 'though to sight unconquerable', \"trusting in th' Almightie's aide\", 'mean to try', \"have tri'd\", 'sound and false', 'is it aught but just', 'ate of Truth hath won', 'win in Arms', 'putes alike', 'ish that contest and foule', 'hath to deal with force', 'is that Reason overcome', 'armed Peers', 'stepping opposite', 'is daring foe', 'is prevention more', \"rely him defi'd\", 'art thou met', 'have reacht', \"ring unoppos'd\", 'is side', 'dond at the terror of thy Power', 'think how vain', 'rise in Arms', 'thout end', \"is'd incessant Armies to defeat\", 'beyond all limit', 'have finisht thee', 'thou seest', 'are not of thy Train', 'be who Faith', 'thee not visible', 'thy World erroneous to dissent', 'thou seest', 'learn too late', 'somtimes may know', 'thousands err', 'rand foe with scornful eye askance', 'isht houre', 'sought for thou returnst', 'merited reward', \"is right hand provok't\", 'since first that tongue', 'durst oppose', 'art of the Gods', 'gour Divine within them', 'thou comst', 'ore thy fellows', 'som Plume', 'thy success may show', 'pause between', 'answerd least thou boast) to let thee know', \"bertie and Heav'n\", 'had bin all one', 'had rather serve', 'raind up in Feast and Song', \"hast thou arm'd\", \"relsie of Heav'n\", 'dom to contend', 'is day shall prove', 'ill thou errst', 'end wilt find', 'from the path of truth remote:', \"thou deprav'st it with the name\", 'serve whom God ordains', 'bid the same', 'is worthiest', 'hem whom he governs', 'is is servitude', \"serve th' unwise\", 'hath rebelld', 'is worthier', 'serve thee', 'self not free', \"self enthrall'd\", 'istring upbraid', 'thy Kingdom', 'let mee serve', 'ever blessed', 'is Divine', \"be obey'd\", 'mean while', 'erst thou saidst', 'is greeting on thy impious Crest receive', 'lifted high', 'hung not', 'rest of SATAN', 'is Shield', 'ruin intercept: ten paces huge', 'back recoild', 'ended knee', 'is massie Spear upstaid', 'round or waters forcing way', \"had push't a Mountain from his seat\", 'is Pines', 'bel Thrones', 'ater rage to see', 'thir mightiest', 'ours joy filld', 'resage of Victorie and fierce desire', 'bid sound', 'faithful Armies rung', 'stood at gaze', \"hideous joyn'd\", 'rid shock: now storming furie rose', \"heard in Heav'n till now\", \"clashing bray'd\", 'adding Wheeles', 'was the noise', 'ismal hiss', 'lies flew', 'flying vaulted either Host with fire', \"gether rush'd\", 'ruinous assault', 'ishable rage', 'had Earth bin then', 'enter shook', 'ring Angels fought', 'least of whom could weild', 'arm him with the force', 'ore of Power', 'gainst Armie numberless to raise', 'readful combustion warring', 'thir happie Native seat', \"hold of Heav'n high over-rul'd\", 'thir might', 'berd such', 'have seemd', 'armed hand', 'led in fight', 'yet Leader seemd', 'single as in Chief', 'turn the sway', 'ridges of grim Warr', 'thought of flight', 'coming deed', \"self reli'd\", 'is arm the moment lay', 'deeds of eternal fame', 'was spred', 'somtimes on firm ground', 'standing fight', 'ring on main wing', 'mented all the Air', 'seemd then', 're: long time in eeven scale', 'had shewn', 'met in Armes', 're attack', \"fighting Seraphim confus'd\", 'ere the Sword of MICHAEL smote', 'handed sway', 'came down', 'rockie Orb', 'tenfold Adamant', 'is ample Shield', 'is approach', 'is warlike toile', 'hoping here to end', \"drag'd in Chains\", \"isage all enflam'd first thus began\", 'known till thy revolt', 'thou seest', 'ateful strife', 'ateful to all', 're on thy self', \"rents: how hast thou disturb'd\", 'blessed peace', 're brought', 'ated till the crime', 'thy Rebellion', \"hast thou instill'd\", \"ow prov'd false\", 'think not here', 'trouble Holy Rest', 'casts thee out', 'eat of bliss', 'works of violence and Warr', 'go with thee along', 'place of evil', 'thy wicked crew', 'ere mingle broiles', 'is avenging Sword begin thy doome', 'from God', 'ate thee with augmented paine', 'spake the Prince of Angels', 'think thou with wind', 'eats to aw whom yet with deeds', 'least of these', 'ransact with mee', 'thou shouldst hope', 'hase me hence', 're not that so shall end', \"call'st evil\", 'wee style', 'mean to win', \"is Heav'n it self into the Hell\", 'dwell free', 'mean while thy utmost force', 'thy aid', 'lie not', 'have sought thee farr and nigh', 'ended parle', 'addrest for fight', 'though with the tongue', 'arth conspicuous', 'man imagination to such highth', 'like Power: for likest Gods they seemd', \"eat Heav'n\", \"ow wav'd thir fierie Swords\", 'rid Circles', 'thir Shields', 'expectation stood', \"hand with speed retir'd\", 'was thickest fight', 'left large field', 'set forth', 'eat things by small', 'res concord broke', 'tellations warr were sprung', 'rushing from aspect maligne', 'sition in mid Skie', 'hears confound', 'gether both with next to Almightie Arme', \"lifted imminent one stroke they aim'd\", 'need repeate', 'from the Armorie of God', 'temperd so', 'ist that edge: it met', 'force to smite', 'cut sheere', 'heele reverse', \"ring shar'd\", 'is right side', 'knew pain', \"fro convolv'd\", 'iscontinuous wound', \"ereal substance clos'd\", 'from the gash', \"issuing flow'd\", 'is Armour staind ere while so bright', 'is aide was run', 'many and strong', 'bore him on thir Shields', 'is Chariot', \"stood retir'd\", 'ere they him laid', 'ish and despite and shame', 'find himself not matchless', 'is pride', 'farr beneath', 'is confidence to equal God in power', 'live throughout', 'every part', 'annihilating die', 're mortal wound', 'ore then can the fluid Aire:', 'art they live', 'hape or size', 'likes them best', 'condense or rare', 'like deeds deservd', 'ere the might of GABRIEL fought', \"signes pierc'd the deep array\", 'is Chariot wheeles to drag him bound', \"lie One of Heav'n\", 'is tongue blasphemous', \"own clov'n to the waste\", 'led bellowing', 'is vaunting foe', 'be less then Gods', 'thoughts learnd in thir flight', 'ate and Maile', 'stood unmindful ABDIEL to annoy', 'ist crew', \"doubl'd blow\", 'lasted overthrew', 'ate of thousands', 'thir names', 'ere on Earth', \"contented with thir fame in Heav'n\", 'ise of men: the other sort', 'wondrous and in Acts of Warr', 'own less eager', 'yet by doome', \"from Heav'n and sacred memorie\", 'let them dwell', 'divided and from Just', 'naught merits but dispraise', 'yet to glorie aspires', 'seeks fame:', 'be thir doome', 'ow thir mightiest quelld', \"many an inrode gor'd\", \"armour strow'n\", 'lay overturnd', 'foaming Steeds', 'faint Satanic Host', \"fear surpris'd\", \"is'd and sense of paine\", 'sinne of disobedience', 'ill that hour', 'light or paine', \"ise th' inviolable Saints\", \"firm advanc't entire\", 'thir innocence', 'thir foes', 'have sinnd', \"have disobei'd\", 'fight they stood', \"be pain'd\", \"from thir place by violence mov'd\", 'ow Night her course began', \"grateful truce impos'd\", \"die covert both retir'd\", 'isht: on the foughten field', 'is Angels prevalent', 'thir Watches round', \"waving fires: on th' other part\", 'is rebellious disappeerd', 'void of rest', \"call'd by night\", \"ismai'd began\", \"ow in danger tri'd\", 'known in Armes', 'be overpowerd', 'bertie alone', 'mean pretense', 'ore affect', 'have sustaind one day in doubtful fight', 'had powerfullest to send', 'is Throne', 'subdue us to his will', 'proves not so: then fallible', 're we may deem him', 'ill now', \"firmly arm'd\", \"isadvantage we endur'd and paine\", 'ill now not known', 'known as soon contemnd', 'find this our Empyreal forme', \"though peirc'd with wound\", \"gour heal'd\", 'easie think', 'ore valid Armes', 'ore violent', 'next we meet', 'better us', 'made the odds', 'hidden cause', 'hem Superiour', 'hurt our mindes', 'standing sound', 'consultation will disclose', 'next upstood', \"stood escap't from cruel fight\", \"is riv'n Armes to havoc hewn\", 'answering spake', 'liverer from new Lords', 'leader to free', 'right as Gods', 'work we find', 'gainst unequal armes to fight in paine', 'from which evil', 'needs ensue', 'quelld with pain', 'makes remiss the hands', 're we may well', 'are out of life perhaps', 'live content', 'is the calmest life:', 'is perfet miserie', 'erefore can invent', 'ore forcible we may offend', 'wounded Enemies', 'like defence', 'liverance what we owe', \"look compos'd SATAN repli'd\", 'invented that', 'thou aright', 'holds the bright surface', 'is Ethereous mould whereon we stand', \"is continent of spacious Heav'n\", 'ye so superficially surveyes', 'from whence they grow', 'aterials dark and crude', 'shoot forth', 'thir dark Nativitie the Deep', 'yeild us', 'regnant with infernal flame', 'low Engins long and round', 'bore with touch of fire', 'send forth', 'ise among our foes', 'ischief as shall dash', 'atever stands', 'have disarmd', 'readed bolt', 'be our labour', 'ere dawne', 'end our wish', 'rength and counsel joind', 'be despaird', 'is words thir drooping chere', \"isht hope reviv'd\", \"invention all admir'd\", \"enter miss'd\", 'easie it seemd', 'found most would have thought', 'yet haply of thy Race', 're dayes', 'intent on mischief', 'ish machination might devise', 'plague the Sons of men', 'aughter bent', 'from Councel to the work they flew', 'arguing stood', 'ment up they turnd', 'saw beneath', 're in thir crude', \"adusted they reduc'd\", 'lackest grain', 'tore conveyd:', \"hidd'n veins diggd up (nor hath this Earth\", 'like) of Mineral and Stone', 'found thir Engins and thir Balls', 'issive ruin', 'art incentive reed', 'touch to fire', 'ere day spring', \"ret they finish'd\", \"lent circumspection unespi'd\", \"ow when fair Morn Orient in Heav'n appeerd\", 'rose the Victor Angels', 'den Panoplie', 'from the dawning Hills', 'light-armed scoure', 'istant foe', 'hither fled', 'moving nigh', 'firm Battalion', 'back with speediest Sail', \"re aloud thus cri'd\", 'led we thought', 'save us long pursuit', 'is flight', 'thick a Cloud', 'is face I see', 'let each', 'is Adamantine coat gird well', 'is Helme', 'is orbed Shield', 'is day will pour down', 're aught', 'drizling showr', 'ows barbd with fire', 'are themselves', 'quit of all impediment', 'took Allarm', 'move Embattelld', 'istant far with heavie pace the Foe', 'hollow Cube', 'is devilish Enginrie', 'addowing Squadrons Deep', 'hide the fraud', 'view both stood', 'denly at head appeerd', 'heard Commanding loud', 'see who hate us', 'ow we seek', 'open brest', 'readie to receive them', 'back perverse', 'witness Heaven', 'witness thou anon', 'pointed stand', 'have in charge', 'fly touch', 'scoffing in ambiguous words', 'iscoverd new and strange', 'illars laid', \"like to Pillars most they seem'd\", 'made of Oak or Firr', 'ranches lopt', 'had not thir mouthes', \"hideous orifice gap't on us wide\", 'ending hollow truce', 'is hand a Reed', 'waving tipt with fire', \"stood within our thoughts amus'd\", 'thir Reeds', \"ow vent appli'd\", 'ate in a flame', 'ated Engins belcht', 'ise the Air', 'ish glut', 'thir feet might stand', 'standing else as Rocks', 'down they fell', 'thir Arms', \"arm'd they might\", 'evaded swift', 'action or remove', \"issipation follow'd and forc't rout\", 'serried files', \"yet more despis'd\", 'thir foes a laughter', 'rankt of Seraphim another row', 'isplode thir second tire', 'defeated to return', 'beheld thir plight', \"is Mates thus in derision call'd\", 'come not on these Victors proud', 'ere coming', 'entertain them fair with open Front', 'pounded terms', \"hang'd thir minds\", 'range vagaries fell', 'dance they seemd', 'offerd peace: but I suppose', 'gain were heard', 'compel them to a quick result', 'like gamesom mood', 'sent were terms of weight', \"force urg'd home\", \"perceive amus'd them all\", 'receives them right', 'from head to foot well understand', 'have besides', 'walk not upright', 'hemselves in pleasant veine', 'thoughts beyond', 'doubt of Victorie', \"thir inventions they presum'd\", 'made a scorn', 'is Host derided', 'stood not long', 'prompted them at length', 'found them arms', 'ish mischief fit to oppose', 'hold the excellence', \"is mighty Angels plac'd)\", \"is variety from Heav'n\", 'situate in Hill and Dale)', 'foundations loosning to and fro', 'pluckt the seated Hills with all thir load', 'bore them in thir hands: Amaze', \"is'd the rebel Host\", 'read they saw', 'ill on those cursed Engins triple-row', 'saw them whelmd', 'thir confidence', 'buried deep', 'invaded next', 'thir heads', \"rest whole Legions arm'd\", \"help'd thir harm\", \"rush't in and brus'd\", 'thir substance pent', 'wrought them pain', 'dolorous groan', 'strugling underneath', 'ere they could wind', 'rest light', 'rest at first', 'ow gross by sinning grown', 'rest in imitation to like Armes', 'ring Hills uptore', 'ills amid the Air encounterd Hills', 'fro with jaculation dire', 'round they fought in dismal shade', \"seem'd a civil Game\", 'is uproar', 'rid confusion heapt', \"rose: and now all Heav'n\", 'gone to wrack', 'ruin overspred', 'ere he sits', \"is Sanctuarie of Heav'n secure\", 'permitted all', 'is great purpose he might so fulfill', \"is Anointed Son aveng'd\", 'is enemies', \"ransferr'd: whence to his Son\", 'is Throne he thus began', 'isible is beheld', 'hand what by Decree I doe', 'are past', \"pute the dayes of Heav'n\", 'went forth to tame', 'been thir fight', 'liest was', \"met arm'd\", 'left them', 'thou knowst', \"ere form'd\", 'hath impaird', 'hath wrought', 'spend thir doom', 'needs must last', 'be found:', \"wearied hath perform'd what Warr can do\", \"isorder'd rage let loose the reines\", \"work in Heav'n\", 'are therefore past', 'is thine', \"have ordain'd it\", 'be thine', 'ending this great Warr', 'since none but Thou', 'end it', 'thee such Vertue and Grace', \"have transfus'd\", 'thy Power above compare', 'governd thus', 'be Heir', 'be Heir and to be King', 'red Unction', 'served right', 'thy Fathers might', 'end my Chariot', 'guide the rapid Wheeles', \"shake Heav'ns basis\", 'bring forth all my Warr', 'issant Thigh', 'sue these sons of Darkness', 'drive them out', 'bounds into the utter Deep:', 'let them learn', 'likes them', 'is anointed King', 'is Son with Rayes direct', 'is Father full exprest', \"is face receiv'd\", 'answering spake', \"ream of heav'nly Thrones\", 'yes seekst', 'thy Son', 'yes thee', 'is most just', 'is I my Glorie account', \"thou in me well pleas'd\", 'thy will', 'is all my bliss', 'lier shall resign', 'be All in All', \"thou lov'st:\", \"thou hat'st\", 'put on', 'put thy mildness on', 'thee in all things', 'thy might', \"rid heav'n of these rebell'd\", 'driven down', 'undying Worm', 'from thy just obedience could revolt', 'is happiness entire', 'thy Saints unmixt', \"from th' impure\", 'thy holy Mount', 'thee sing', 'hem chief', 'is Scepter bowing', 'hand of Glorie where he sate', 'began to shine', \"rush'd with whirlwind sound\", 'thick flames', 'heele within Wheele undrawn', 'self instinct with Spirit', 'dies all', 'set with Eyes', 'yes the Wheels', 'areering Fires between', 'thir heads a chrystal Firmament', 'ereon a Saphir Throne', 'laid with pure', 'showrie Arch', 'lie all armd', 'work divinely wrought', 'is right hand Victorie', 'is Bow', \"ree-bolted Thunder stor'd\", 'from about him fierce Effusion rowld', 'ring flame', 'sparkles dire', 'ended with ten thousand thousand Saints', 'coming shon', 'wentie thousand (I thir number heard)', 'hand were seen:', 'wings of Cherub rode sublime', 'farr and wide', 'is own', \"expected joy surpriz'd\", \"eat Ensign of MESSIAH blaz'd\", 'oft by Angels born', \"is Sign in Heav'n:\", 'died all in one', \"is way prepar'd\", \"is command the uprooted Hills retir'd\", 'is place', 'heard his voice and went', 'wonted face renewd', \"ill and Valley smil'd\", 'saw his hapless Foes', \"stood obdur'd\", 'lied thir Powers', 'from despair', 'perverseness dwell', 'convince the proud what Signs availe', \"move th' obdurate to relent\", 'ore by what might most reclame', 'see his Glorie', 'is highth', \"tell'd fierce\", 'force or fraud', 'gainst God and MESSIAH', 'ruin last', 'faint retreat', 'eat Son of God', 'is Host on either hand thus spake', 'ill in bright array ye Saints', 'is day from Battel rest', 'been your Warfare', 'is righteous Cause', 'have receivd', 'have ye don', 'is cursed crew', 'ishment to other hand belongs', 'is his', \"is dayes work is not ordain'd\", 'stand onely and behold', \"have despis'd\", 'is all thir rage', 'cause the Father', 'dom and Power and Glorie appertains', 'is will', \"erefore to mee thir doom he hath assig'n'd\", 'have thir wish', 'trie with mee', 'stronger proves', 'gainst them', 'since by strength', 're all', 'are who them excells', 'do I voutsafe', 'spake the Son', \"errour chang'd\", \"is count'nance too severe to be beheld\", 'is Enemies', 'red out thir Starrie wings', 'readful shade contiguous', 'is fierce Chariot rowld', 'rent Floods', 'is impious Foes right onward drove', 'burning Wheeles', 'shook throughout', 'self of God', \"hem he arriv'd\", 'is right hand', 'thousand Thunders', \"thir Soules infix'd\", 'isht all resistance lost', \"weapons drop'd\", 're Shields and Helmes', 'helmed heads he rode', \"ish'd the Mountains now might be again\", 'is ire', 'side tempestuous fell', \"isag'd Foure\", 'istinct with eyes', 'living Wheels', 'istinct alike with multitude of eyes', \"hem rul'd\", 'every eye', 'shot forth pernicious fire', 'witherd all thir strength', 'gour left them draind', 'put not forth', 'is Thunder in mid Volie', \"root them out of Heav'n:\", \"thrown he rais'd\", 'gether throngd', 'before him Thunder-struck', 'errors and with furies to the bounds', 'wastful Deep', 'hem with horror backward', 'hem behind', 'hemselvs they threw', \"from the verge of Heav'n\", 'hem to the bottomless pit', \"heard th' unsufferable noise\", 'have fled', 'had cast too deep', 'had bound', 'yes they fell', 'founded CHAOS roard', 'felt tenfold confusion in thir fall', 'is wilde Anarchie', 'berd him with ruin: Hell at last', 'receavd them whole', \"hem clos'd\", 'aught with fire', 'use of woe and paine', \"isburd'nd Heav'n rejoic'd\", 'returning whence it rowld', 'is Foes', 'is triumphal Chariot turnd:', 'meet him all his Saints', 'lent stood', 'is Almightie Acts', \"lie advanc'd\", 'haded with branching Palme', 'sung Victorious King', 'ated rode', \"is mightie Father Thron'd\", 'sits at the right hand of bliss', \"ring things in Heav'n by things on Earth\", 'thy request', 'ist beware', 'is past', \"have reveal'd\", 'have else to human Race bin hid', 'iscord which befel', 'thy state', 'is plotting how he may seduce', 'from obedience', 'ist partake', 'is solace and revenge', 'gainst the most High', 'is woe', \"ist'n not to his Temptations\", 'have heard', 'errible Example the reward', 'have stood', 'fear to transgress', \"from Heav'n URANIA\", \"art call'd\", 'ill I soare', 'light of PEGASEAN wing', 'call: for thou', 'uses nine', 'lie borne', 'ills appeerd', 'isdom didst converse', 'isdom thy Sister', 'didst play', \"resence of th' Almightie Father\", 'thy Celestial Song', 'led by thee', \"have presum'd\", 'lie Guest', 'drawn Empyreal Aire', 'guided down', \"flying Steed unrein'd\", 'from a lower Clime)', 'ere to wander and forlorne', 'yet remaines unsung', 'ower bound', 'isible Diurnal Spheare', 'ore safe I Sing with mortal voice', 'oarce or mute', \"fall'n on evil dayes\", \"yes though fall'n\", 'past rouud', 'yet not alone', \"sit'st my slumbers Nightly\", 'govern thou my Song', 'dience find', 'drive farr off the barbarous dissonance', 'is Revellers', 'tore the THRACIAN Bard', 'had Eares', 'clamor dround', 'use defend', 'fail not thou', 'thee implores:', \"art Heav'nlie\", 'shee an empty dreame', 're example to beware', 'fell in Heaven', 'like befall', 'ise to ADAM or his Race', 'touch the interdicted Tree', 'light that sole command', 'beyd amid the choice', 'please thir appetite', 'is consorted EVE', 'heard attentive', \"was fill'd\", 'use to heare', 'thir thought', \"ate in Heav'n\", 'neer the Peace of God in bliss', 'back redounded as a flood on those', 'rose: and now', 're to know', 'erer might concern him', 'is World', 'arth conspicuous first began', 'ereof created', 'was done', 'is memorie', \"lay'd still eyes the current streame\", 'heard new thirst excites', \"ask his Heav'nly Guest\", 'wonder in our eares', 'is World', \"hast reveal'd\", 'favour sent', 'from the Empyrean to forewarne', 'have bin our loss', 'knowledg could not reach:', 'is admonishment', 'ran will', \"hast voutsaf't\", 'instruction to impart', 'arthly thought', 'yet concernd', 'isdom seemd', 'end now lower', 'availe us known', \"began this Heav'n which we behold\", 'istant so high', 'moving Fires adornd', 'is which yeelds or fills', \"re wide interfus'd\", 'round this florid Earth', 'is holy Rest', 'ate to build', 'work begun', 'ist unfould', 'ore the secrets aske', 'is Eternal Empire', 'is works', 'ore we know', 'eat Light of Day yet wants to run', 'is Race though steep', \"pens in Heav'n\", 'thy voice', 'thy potent voice he heares', 'lay to heare thee tell', 'rising Birth', 'arent Deep:', 'thy audience', 'ill bring', 'istning to thee will watch', 'is absence', 'ill thy Song', 'ismiss thee ere the Morning shine', 'is illustrous Guest besought:', 'answerd milde', 'is also thy request with caution askt', 'recount Almightie works', 'tongue of Seraph can suffice', 'heart of man suffice to comprehend', 'thou canst attain', 'best may serve', 'glorifie the Maker', 'hee also happier', 'be withheld', 'ission from above', \"have receav'd\", 'answer thy desire', 'knowledge within bounds', 'let thine own inventions hope', 'isible King', 'rest in Night', 'arth or Heaven:', 'left besides to search and know', 'is as food', 'needs no less', 'rance over Appetite', 're what the mind may well contain', 'resses else with Surfet', \"from Heav'n\", 'call him', 'righter once amidst the Host', 'is flaming Legions through the Deep', 'is place', 'eat Son returnd', 'is Saints', 'is Throne beheld', 'is Son thus spake', \"hath fail'd\", 'like himself rebellious', 'is inaccessible high strength', \"have seis'd\", 'knows here no more', 'have kept', 'yet populous retaines', 'ber sufficient to possess her Realmes', 'is high Temple to frequent', 'isteries due and solemn Rites:', 'heart exalt him in the harme', \"have dispeopl'd Heav'n\", 'be to lose', 'ill create', 'men innumerable', 'ere to dwell', \"ill by degrees of merit rais'd\", 'open to themselves at length the way', \"bedience tri'd\", \"be chang'd to Heavn\", 'thout end', \"ye Powers of Heav'n\", 'thou my Word', 'is I perform', 'be it don:', 'hadowing Spirit and might with thee', 'send along', 'bid the Deep', \"bounds be Heav'n and Earth\", 'because I am who fill', 'self retire', 'put not forth my goodness', 'is free', 'act or not', 'sitie and Chance', 'is Fate', \"spake th' Almightie\", 'are the Acts of God', 'man ears', 'be told', 'told as earthly notion can receave', \"was in Heav'n\", \"heard declar'd the Almightie's will\", 'sung to the most High', 're men', 'dwellings peace:', 'avenging ire', 'godly from his sight', \"had ordain'd\", 'better Race to bring', 'thir vacant room', 'good to Worlds and Ages infinite', 'sang the Hierarchies: Mean while the Son', \"is great Expedition now appeer'd\", 'is Father in him shon', \"is Chariot numberless were pour'd\", 'stand of old', \"between two brazen Mountains lodg'd\", 'gainst a solemn day', 'came forth', 'hem Spirit livd', \"tendant on thir Lord: Heav'n op'nd wide\", 'ring Gates', 'golden Hinges moving', 'let forth', 'is powerful Word', 'coming to create new Worlds', 'round they stood', 'from the shore', \"view'd the vast immeasurable Abyss\", \"from the bottom turn'd by furious windes\", 'surging waves', 'enter mix the Pole', \"ye troubl'd waves\", 'thou Deep', \"aid then th' Omnific Word\", 'iscord end:', 'aternal Glorie rode', 'heard his voice: him all his Traine', \"low'd in bright procession to behold\", 'wonders of his might', 'aid the fervid Wheeles', 'is hand', 'took the golden Compasses', 'ated things:', 'farr extend', 'thy bounds', 'is be thy just Circumference', 'void: Darkness profound', 'trie calme', 'is brooding wings the Spirit of God outspred', \"downward purg'd\", 'areous cold infernal dregs', 'rest to several place', 'spun out the Air', 'enter hung', 'be Light', 'rung from the Deep', 'from her Native East', \"hear'd in a radiant Cloud\", 'yet the Sun', 'die Tabernacle', 'saw the Light was good', 'light from darkness by the Hemisphere', \"was the first Day Eev'n and Morn:\", 'past uncelebrated', 'from Darkness they beheld', 'joy and shout', \"hollow Universal Orb they fill'd\", \"touch't thir Golden Harps\", \"hymning prais'd\", 'is works', 'eatour him they sung', 'let ther be Firmament', 'let it divide', 'from the Waters: and God made', 'uttermost convex', 'is great Round: partition firm and sure', 'from those above', 'aters calme', \"farr remov'd\", 'least fierce extreames', 'istemper the whole frame:', \"ment: So Eev'n\", 'sung the second Day', \"was form'd\", \"re involv'd\", \"soft'ning all her Globe\", 'eat Mother to conceave', 'ate with genial moisture', \"aters under Heav'n\", 'let dry Land appeer', 'ately the Mountains huge appeer', 'are backs upheave', 'ascend the Skie:', 'hollow bottom broad and deep', 'hither they', 'drops on dust conglobing from the drie', 'crystal Wall', 'ridge direct', \"light the great command impress'd\", 'hast heard)', 'thir Standard', 'trie throng', 'rowling after Wave', 'ere way they found', 'rent rapture', 'stood them Rock or Hill', 'pent errour wandring', 'found thir way', 'washie Oose deep Channels wore', 'had bid the ground be drie', 'ere Rivers now', 'draw thir humid traine', 'dry Land', 'eat receptacle', \"call'd Seas:\", 'saw that it was good', 'yeilding Seed', 'yeilding Fruit after her kind', 'is in her self upon the Earth', 'had said', 'are Earth', 'tender Grass', 're clad', 'every leaf', \"den flour'd\", 'thir various colours', 'made gay', 'som smelling sweet: and these scarce blown', \"ish't thick the clustring Vine\", 'smelling Gourd', 'stood the cornie Reed', 'add the humble Shrub', 'ately Trees', 'ranches hung with copious Fruit', 'ere crownd', 'lies & each fountain side', 'arth now', \"like to Heav'n\", 'ere Gods might dwell', 'wander with delight', 'love to haunt', \"hades: though God had yet not rain'd\", 'ill the ground', 'from the Earth a dewie Mist', 'aterd all the ground', 'was in the Earth', 'every Herb', 'before it grew', 'reen stemm', 'saw that it was good:', 'recorded the Third Day', \"gain th' Almightie spake: Let there be Lights\", 'from Night', 'let them be for Signes', 'circling Years', 'let them be for Lights as I ordaine', \"ment of Heav'n\", 'give Light on the Earth', 'was so', 'made two great Lights', 'eat for thir use', 'have rule by Day', 'made the Starrs', \"set them in the Firmament of Heav'n\", 'ate the Earth', 'rule the Day', 'thir vicissitude', 'rule the Night', 'from Darkness to divide', 'is great Work', 'was good:', 'dies first the Sun', \"are he fram'd\", \"ereal Mould: then form'd the Moon\", 'everie magnitude of Starrs', 'thick as a field:', 'ater part he took', 'ransplanted from her cloudie Shrine', 'made porous to receive', 'drink the liquid Light', 'firm to retaine', \"gather'd beams\", 'eat Palace now of Light', 'thir Fountain other Starrs', \"gold'n Urns draw Light\", 'is horns', 're or reflection they augment', 'from human sight', 'farr remote', 'diminution seen', 'is East the glorious Lamp was seen', 'vested with bright Rayes', \"is Longitude through Heav'ns high rode: the gray\", \"before him danc'd\", 'weet influence: less bright the Moon', 'site in leveld West was set', 'full face borrowing her Light', 'light she needed none', 'istance keepes', 'turn she shines', 'eat Axle', 'thousand lesser Lights dividual holds', 'thousand thousand Starres', 'isphere: then first adornd', 'thir bright Luminaries that Set and Rose', 'ownd the fourth day', 'let the Waters generate', 'lie above the Earth', \"layd on the op'n Firmament of Heav'n\", 'ated the great Whales', 'aters generated by thir kindes', 'is kinde', 'saw that it was good', \"bless'd them\", 'running Streams the waters fill', \"multiply'd on the Earth\", 'reek & Bay', 'shining Scales', 'reen Wave', 'single or with mate', 'thir pasture', 'sporting with quick glance', 'dropt with Gold', 'lie shells at ease', 'thir food', 'watch: on smooth the Seale', 'lay: part huge of bulk', 'thir Gate', 'ere Leviathan', 'living Creatures', 'sleeps or swimmes', 'seems a moving Land', 'is Gilles', 'runck spouts out a Sea', 'from the Egg that soon', \"re forth disclos'd\", 'callow young', 'eatherd soon and fledge', 'thir Penns', \"ring th' air sublime\", \"is'd the ground\", 'ere the Eagle and the Stork', 'tops thir Eyries build:', 'art loosly wing the Region', 'ore wise', \"rang'd in figure wedge thir way\", 'telligent of seasons', 'set forth', 'sing thir flight', 'stears the prudent Crane', 'born on Windes', \"ber'd plumes:\", 'ranch to Branch the smaller Birds with song', 'painted wings', 'soft layes:', 'downie Brest', 'hite wings mantling proudly', 'ate with Oarie feet: yet oft they quit', 'rising on stiff Pennons', 'ereal Skie: Others on ground', 'rested Cock whose clarion sounds', 'lent hours', 'rid hue', 'bows and Starrie Eyes', 'aters thus', 'ish replenisht', 're with Fowle', 'last arose', 'living in her kinde', 'reeping things', \"arth obey'd\", 'living Creatures', 'grown: out of the ground up-rose', 'is Laire the wilde Beast where he wonns', 'rest wilde', 'rees in Pairs they rose', 'dowes green:', 'are and solitarie', 'ring at once', \"ow Calv'd\", \"ow half appeer'd\", 'get free', 'is hinder parts', 'broke from Bonds', 'is Brinded main', 'arth above them threw', 'from under ground', 'ranching head: scarse from his mould', \"born of Earth upheav'd\", \"is vastness: Fleec't the Flocks and bleating rose\", 'between Sea and Land', 'lie Crocodile', 'came forth whatever creeps the ground', 'ber fans', 'ments exact', 'spots of Gold and Purple', 're and green:', 'dimension drew', 'round with sinuous trace', 'some of Serpent kinde', 'added wings', \"heart enclos'd\", 'equalitie perhaps', \"join'd in her popular Tribes\", \"warming next appeer'd\", 'feeds her Husband Drone', 'builds her waxen Cells', 'are numberless', \"res know'st\", 'hem Names', 'thee repeaed', \"pent suttl'st Beast of all the field\", 'though to thee', 'bedient at thy call', \"ow Heav'n in all her Glorie shon\", 'eat first-Movers hand', 'thir course', 'arth in her rich attire', \"ate lovly smil'd\", \"yet remain'd\", 'wanted yet the Master work', 'yet don', 'eature who not prone', 'right with Front serene', 'from thence', \"respond with Heav'n\", 'knowledge whence his good', 'heart and voice and eyes', 'rected in Devotion', 'worship God Supream', 'made him chief', 'is works: therefore the Omnipotent', 'is not hee', 'sent) thus to his Son audibly spake', 'make now Man in our image', 'let them rule', 'creeping thing that creeps the ground', 'formd thee', 'thee O Man', \"thy nostrils breath'd\", 'eath of Life', 'is own Image hee', 'living Soul', 'ated thee', 'thy consort', \"bless'd Mankinde\", 'fill the Earth', 'living thing that moves on the Earth', 'erever thus created', 'istinct by name', \"thou know'st\", 'brought thee into this delicious Grove', 'planted with the Trees of God', 'hold and taste', 'reely all thir pleasant fruit for food', \"are here that all th' Earth yeelds\", 'thout end', 'knowledge of Good and Evil', \"thou eat'st\", \"is the penaltie impos'd\", 'govern well thy appetite', 'lack attendant Death', \"ish'd hee\", 'had made', 'hold all was entirely good', \"ish'd the Sixt day:\", 'is work', 'is high abode', 'hold this new created World', 'addition of his Empire', \"ow it shew'd\", 'is Throne', 'is great Idea', 'lowd with acclamation and the sound', \"thousand Harpes that tun'd\", 'harmonies: the Earth', 'thou heardst)', 'tellations rung', \"ist'ning stood\", 'ended jubilant', 'lasting Gates', 'living dores', 'is work returnd', 'is Six days work', 'ill deigne', 'sit oft the dwellings of just Men', 'requent intercourse', 'send his winged Messengers', 'rands of supernal Grace', \"ascending: He through Heav'n\", 'blazing Portals', 'direct the way', 'is Gold', 'ment Starrs', 'thee appeer', 'thou seest', 'arth the Seaventh', 'rose in EDEN', 'light from the East came on', 'ated top', 'ereal Throne', 'fixt for ever firm and sure', \"ower arriv'd\", 'sate him down', 'is great Father (for he also went', 'aid (such priviledge', \"work ordain'd\", 'end of all things', 'from work', \"bless'd and hallowd the Seav'nth day\", 'is work', 'rested not', 'weet stop', 'ring or Golden Wire', 'soft Tunings', 'mixt with Voice', 'ison: of incense Clouds', 'hid the Mount', 'eation and the Six dayes acts they sung', 'are thy works', 'thought can measure thee or tongue', 'ater now in thy return', 'from the Giant Angels', 'thee that day', 'ater then created to destroy', 'impair thee', 'thir Counsels vaine', 'hast repeld', 'hee to diminish', 'from thee withdraw', 'ber of thy worshippers', 'lessen thee', 'is purpose serves', 'is evil', \"from thence creat'st more good\", 'made World', 'ate not farr', 'founded in view', 'cleer HYALINE', 'haps a World', \"thou know'st\", 'eat of men', \"arth with her nether Ocean circumfus'd\", 'dwelling place', 'happie men', \"hath thus advanc't\", 'is Image', 'ere to dwell', 'worship him', 'reward to rule', 'multiply a Race of Worshippers', 'happie if they know', 'ere upright', 'sung they', 'rean rung', 'was Sabbath kept', \"think now fulfill'd\", 'is World and face of things began', 'before thy memorie was don', 'thee might know', 'thou seekst', 'passing human measure', \"gratefully repli'd\", 'thanks sufficient', 'have I to render thee', 'hast allayd', 'had of knowledge', 'is friendly condescention to relate', 'is due', 'tributed to the high', 'doubt remaines', 'thy solution can resolve', 'goodly Frame', 'arth consisting', 'is Earth a spot', \"ment compar'd\", 'berd Starrs', 'seem to rowle', 'rehensible (for such', 'istance argues and thir swift return', 'ate light', 'is opacous Earth', 'is punctual spot', 'thir vast survey', 'reasoning I oft admire', 'ise and frugal could commit', 'dies to create', 'is one use', 'aught appeers', 'thir Orbs impose', 'restless revolution day by day', 'dentarie Earth', 'pass move', 'ore noble then her self', 'end without least motion', 'journey brought', 'oreal speed', 'warmth and light', 'be whose swiftness Number failes', 'spake our Sire', \"is count'nance seemd\", 'thoughts abstruse', \"sat retir'd in sight\", 'from her seat', 'saw to wish her stay', 'went forth among her Fruits and Flours', \"sit how they prosper'd\", 'coming sprung', 'lier grew', 'went she not', \"was high: such pleasure she reserv'd\", \"ater she preferr'd\", 'knew would intermix', 'solve high dispute', 'is Lip', 'meet now', 'like demeanour forth she went', 'waited still', 'from about her shot Darts of desire', 'ish her still in sight', \"doubt propos'd\", \"lent and facil thus repli'd\", 'ask or search I blame thee not', 'before thee set', 'read his wondrous Works', 'is to attain', 'move or Earth', \"reck'n right\", 'eat Architect', 'isely to conceal', \"is secrets to be scann'd by them who ought\", 'ist to try', \"is Fabric of the Heav'ns\", 'left to thir disputes', 'haps to move', 'is laughter at thir quaint Opinions wide', \"come to model Heav'n\", 'ate the Starrs', 'ill weild', 'save appeerances', 'ow gird the Sphear', 'readie by thy reasoning this I guess', 'thy ofspring', 'ater should not serve', 'sitting still', 'benefit: consider first', 'errs not Excellence: the Earth', \"ison of Heav'n\", 'good containe', 'ore plenty then the Sun that barren shines', 'workes no effect', 'ere first receavd', 'gor find', 'are those bright Luminaries', 'thee Earths habitant', 'let it speak', 'is Line stretcht out so farr', 'know he dwells not in his own', 'is Lord best known', 'is Omnipotence', 'oreal substances could adde', 'thinkst not slow', \"from Heav'n\", 'ere God resides', \"ere mid-day arriv'd\", 'have name', 'is I urge', \"doubt it mov'd\", 'though so it seem', 'hast thy dwelling here on Earth', 'is wayes from human sense', 'from Earth so farr', 'arthly sight', 're in things too high', 'enter to the World', 'is attractive vertue and thir own', 'dance about him various rounds', 'ring course now high', 'standing still', 'thou seest', 'though she seem', 'rent Motions move', 'hears thou must ascribe', 'art obliquities', 'is labour', \"turnal and Diurnal rhomb suppos'd\", 'isible else above all Starrs', 'needs not thy beleefe', 'self fetch Day', 'art averse', 'meet Night', 'is ray', 'ranspicuous aire', 'restrial Moon be as a Starr', 'be there', 'thou seest', \"soft'nd Soile\", 'some to eate', 'tendant Moons thou wilt descrie', 'ate the World', 'some that live', 're unpossest', 'living Soule', 'yet scarce to contribute', 'conveyd so farr', 'is habitable', 'back to them', 'is obvious to dispute', \"dominant in Heav'n\", 'ise on the Earth', 'rise on the Sun', 'is flaming rode begin', 'from West her silent course advance', 'spinning sleeps', 'soft Axle', \"paces Eev'n\", 'bears thee soft with the smooth Air along', 'thoughts with matters hid', 'hem to God above', 'serve and feare', 'pleases best', 'ispose: joy thou', 'gives to thee', 're EVE', 'is for thee too high', 'passes there', 'lie wise:', 'thee and thy being', 'ream not of other Worlds', 'eatures there', \"been reveal'd\", \"arth onely but of highest Heav'n\", 'cleerd of doubt', \"satisfi'd mee\", \"telligence of Heav'n\", 'from intricacies', 'taught to live', 'easiest way', 'interrupt the sweet of Life', 'dwell farr off all anxious cares', 'molest us', 'ring thoughts', 'is to roave', 'is no end', 'know at large of things remote', 're and suttle', 'lies in daily life', 'is more', 'renders us in things that most concerne', 'ill to seek', 'is high pitch let us descend', 'lower flight', 'speak of things at hand', 'mention may arise', 'somthing not unseasonable to ask', \"wonted favour deign'd\", 'heard relating what was don', 'hear mee relate', 'hast not heard', 'is yet not spent', 'ill then thou seest', 'thee I devise', 'hear while I relate', 'ere it not in hope of thy reply:', 'sit with thee', \"seem in Heav'n\", 'iscourse is to my eare', 'ree pleasantest to thirst', 'hunger both', 'weet repast', 'thy words with Grace Divine', 'bring to thir sweetness no satietie', \"answer'd heav'nly meek\", 'are thy lips ungraceful', 're of men', 'tongue ineloquent', \"is gifts hath also pour'd\", 'is image faire:', 'mute all comliness and grace', \"think wee in Heav'n of thee on Earth\", 'fellow servant', 'yes of God with Man:', \"see hath honour'd thee\", 'is equal Love: say therefore on', 'was absent', 'ates of Hell', 'full Legion (such command we had)', \"see that none thence issu'd forth a spie\", 'is work', 'hee incenst at such eruption bold', 'have mixt', 'leave attempt', 'sends upon his high behests', 'ran King', 'prompt obedience', 'ismal Gates', \"do'd strong\", 'heard within', 'sound of Dance or Song', 'lowd lament', \"return'd up to the coasts of Light\", 'had in charge', 'relation now', 'thy words no less then thou with mine', 'like Power', 'tell how human Life began', 'beginning knew', 'thee still longer to converse', 'from soundest sleep', 'found me laid', 'is Beames the Sun', 'isture fed', 'wondring Eyes I turnd', 'instinctive motion up I sprung', 'hitherward endevoring', 'round I saw', 'hadie Woods', 'murmuring Streams', 'eatures that livd', 'ranches warbling', \"heart oreflow'd\", \"self I then perus'd\", 'metimes went', 'metimes ran', 'lively vigour led:', 'from what cause', \"speak I tri'd\", 'readily could name', 're I saw', \"light'nd Earth\", 'resh and gay', 'live and move', 'ye saw', 'came I thus', 'eat Maker then', 'goodness and in power praeeminent', 'know him', 'have that thus I move and live', 'feel that I am happier then I know', 'knew not whither', 'drew Aire', 'is happie Light', \"answer none return'd\", 'hadie Bank profuse of Flours', 'sate me down', 'ere gentle sleep', 'found me', \"soft oppression seis'd\", 'used sense', 'though I thought', 'passing to my former state', 'stood at my Head a dream', 'believe I yet had being', 'livd: One came', 'hape Divine', 'wants thee', \"call'd by thee I come thy Guide\", 'den of bliss', \"eat prepar'd\", \"took me rais'd\", 'thout step', 'led me up', 'woodie Mountain', 'was plaine', 'goodliest Trees', 'before scarse pleasant seemd', 'rest Fruit', 'hung to the Eye', \"stirr'd in me sudden appetite\", 'pluck and eate', \"ereat I wak'd\", 'yes all real', 'lively shadowd: Here had new begun', 'had not hee who was my Guide', \"from among the Trees appeer'd\", 'is feet I fell', \"iss: he rear'd me\", 'soughtst I am', 'is thou seest', 'round about thee or beneath', 'is Paradise I give thee', 'count it thine', 'ill and keep', 'ree that in the Garden growes', 'ate freely with glad heart', 'fear here no dearth:', 'ree whose operation brings', 'good and ill', 'have set', 'warne thee', 'shun to taste', 'shun the bitter consequence: for know', \"eat'st thereof\", 'thou shalt dye', 'is happie State', 'from hence into a World', 'readful in mine eare', 'though in my choice', 'is cleer aspect', \"turn'd and gratious purpose thus renew'd\", 'thee and to thy Race I give', 'erein live', 'live in Sea', 'ereof each Bird and Beast behold', 'thir kindes', 'bring them to receave', 'thee thir Names', 'thee fealtie', 'low subjection', 'stand the same', 'ish within thir watry residence', 'hither summond', 'since they cannot change', 'draw the thinner Aire', 'wring low', \"stoop'd on his wing\", \"knowledg God endu'd\", 'rehension: but in these', 'found not what me thought I wanted still', \"ision thus presum'd\", 'thou above all these', 'aught then mankinde higher', 'passest farr my naming', 'ow may I', 'is Universe', 'good to man', 'well being', 'hands so liberal', 'hast provided all things: but with mee', 'see not who partakes', 'enjoy alone', 'ment find', 'ision bright', \"smile more bright'nd\", \"call'st thou solitude\", 'is not the Earth', 'living creatures', 'thy command', 'lay before thee', \"know'st thou not\", 'thir wayes', 'reason not contemptibly', 'are rule', 'is large', 'spake the Universal Lord', \"leave of speech implor'd\", \"recation thus repli'd\", 'offend thee', 'be propitious while I speak', 'made me here thy substitute', 'beneath me set', 'equals what societie', 'harmonie or true delight', 'be mutual', 'ill remiss', 'suite with either', 'fellowship I speak', 'fit to participate', 'erein the brute', 'be human consort', 'thir kinde', \"hast combin'd\", 'ish with Fowle', 'well converse', 'least of all', \"ereto th' Almighty answer'd\", 'happiness I see', 'self proposest', 'thy Associates', 'wilt taste', 'though in pleasure', 'thinkst thou then of mee', 'is my State', 'thee sufficiently possest', 'equal much less', 'have I then with whom to hold converse', 'eatures which I made', 'are to thee', \"lowly answer'd\", 'thy Eternal wayes', 'come short', 'ream of things', 'self art perfet', 'is Man', 'is desire', 'sation with his like to help', 'is defects', 'need that thou', 'bers absolute', 'is to manifest', 'is single imperfection', 'is like', \"is Image multipli'd\", 'rest amitie', 'resie although alone', 'self accompanied', \"yet so pleas'd\", 'ise thy Creature to what highth thou wilt', 'sing cannot these erect', 'yes complacence find', \"dom us'd\", 'acceptance found', 'answer from the gratious voice Divine', 'try thee', \"was pleas'd\", 'knowing not of Beasts alone', \"hast rightly nam'd\", 'thy self', 'sing well the spirit within thee free', 'parted to the Brute', 'fellowship therefore unmeet for thee', 'was thou freely shouldst dislike', 'be so minded still', \"ere thou spak'st\", 'good for Man to be alone', \"thou saw'st\", \"see how thou could'st judge of fit and meet:\", 'bring shall please thee', 'thy fit help', 'thy other self', 'hearts desire', 'heard no more', \"is Heav'nly overpowerd\", 'stood under', 'reind to the highth', 'excels the sense', 'sought repair', 'fell on me', 're as in aide', 'mine eyes', \"yes he clos'd\", 'left the Cell', 'methought I saw', 'ere I lay', 'saw the shape', 'wake I stood', \"stooping op'nd my left side\", 'streaming fresh', 'was the wound', \"fill'd up & heal'd:\", 'is hands', 'is forming hands a Creature grew', 'rent sex', 'seemd fair in all the World', \"from that time infus'd\", 'weetness into my heart', \"from her Aire inspir'd\", 'love and amorous delight', 'left me dark', 'find her', 'ever to deplore', 'res all abjure:', 'farr off', 'saw her in my dream', 'arth or Heaven could bestow', 'make her amiable: On she came', 'guided by his voice', 'marriage Rites:', 'was in all her steps', 're dignitie and love', 'bear aloud', 'made amends', \"hast fulfill'd\", 'eator bounteous and benigne', 'rest this', 'thy gifts', 'ow see', 'is cause he shall forgoe', 'is Wife adhere', 'be one Flesh', 'heard me thus', 'though divinely brought', \"be woo'd\", 'be won', 'ore desirable', 'say all', 're her self', 're of sinful thought', 'seeing me', \"follow'd her\", 'was Honour knew', 'pleaded reason', \"led her blushing like the Morn: all Heav'n\", 'tellations on that houre', 'electest influence', 'resh Gales and gentle Aires', \"isper'd it to the Woods\", 'from thir wings', 'from the spicie Shrub', 'ill the amorous Bird of Night', 'haste the Eevning Starr', 'is Hill top', 'light the bridal Lamp', 'have told thee all my State', 'arthly bliss', 'confess to find', 'light indeed', 'works in the mind no change', 'ment desire', 'mean of Taste', 'die of Birds', 'ransported I behold', 'passion first I felt', 'enjoyments else', 'ere onely weake', 'harm of Beauties powerful glance', 'faild in mee', 'left some part', 'from my side subducting', 'ore then enough', \"least on her bestow'd\", 'stand in the prime end', \"re her th' inferiour\", 'resembling less', 'made both', \"acter of that Dominion giv'n\", 're other Creatures', 'yet when I approach', 'self compleat', 'well to know', 'do or say', 'knowledge in her presence falls', 'isdom in discourse with her', 'like folly shewes', 'ended first', 'ate all', 'eatness of mind and nobleness thir seat', 'ate an awe', \"guard Angelic plac't\", 'acted brow', 'use not Nature', 'don her part', 'thou but thine', 'be not diffident', 'thee not', 'ismiss not her', 'needst her nigh', 'attributing overmuch to things', \"self perceav'st\", 'ransports thee so', 'thy well', 'thy love', 'thy subjection: weigh with her thy self', 'value: Oft times nothing profits more', 'rounded on just and right', \"kill the more thou know'st\", 'knowledge thee her Head', 'yeild all her shows', 'light the more', 'ist love', 'seen least wise', 'touch whereby mankind', 'seem such dear delight', \"think the same voutsaf't\", \"made common & divulg'd\", \"erein enjoy'd were worthy to subdue\", 'passion in him move', 'thou findst', 'dost well', 'passion not', 'ists not', 'heart enlarges', 'is seat', 'is judicious', 'is the scale', 'ist ascend', 'sunk in carnal pleasure', 'ate for thee was found', 'side formd so fair', 'eation common to all kindes', 'erence I deem)', 'lights me', 'thousand decencies that daily flow', 'words and actions', 'mixt with Love', 'weet compliance', \"are unfeign'd\", 'hold in wedded pair', 'harmonious sound to the eare', 'thee disclose', 'erefore foild', 'meet with various objects', 'from the sense', 'ill free', 'prove the best', 'follow what I approve', \"love thou blam'st me not\", 'love thou saist', 'is both the way and guide', 'ear with me then', 'ow thir Love', 'looks onely', 'do they mix', 'ate touch', \"smile that glow'd\", 'oper hue', \"thee that thou know'st\", 'thout Love no happiness', \"atever pure thou in the body enjoy'st\", 'ated) we enjoy', 'find none', 're with Pure', \"restrain'd conveyance need\", 'mix with Flesh', 'ow no more', 'parting Sun', 'reen Cape and verdant Isles', 'love is to obey', 'is great command', 'take heed least Passion sway', 'do aught', 'ree Will', 'thy Sons', \"is plac't\", 'ring shall rejoyce', 'stand fast', 'stand or fall', 'ree in thine own Arbitrement it lies', 'aid require', 'ransgress repel', \"low'd with benediction\", 'heavenly Guest', 'goodness I adore', 'hath been', \"be honour'd ever\", 'grateful Memorie: thou to mankind', 'good and friendly still', 'oft return', 'parted they', 'thick shade', 'is Bowre', 'ere God or Angel Guest', 'is Friend', 'sit indulgent', 'permitting him the while', \"iscourse unblam'd: I now must change\", 'isloyal on the part of Man', \"isobedience: On the part of Heav'n\", 'istance and distaste', \"judgement giv'n\", 'brought into this World a world of woe', 'hadow Death', 'eaths Harbinger: Sad task', 'ore Heroic then the wrauth', \"is Foe pursu'd\", \"re or JUNO'S\", 'answerable style I can obtaine', \"sitation unimplor'd\", 'ates to me slumbring', 'ated Verse:', 'is subject for Heroic Song', 'beginning late', 're to indite', 'hitherto the onely Argument', 'istrie to dissect', \"havoc fabl'd Knights\", 'better fortitude', 'be Races and Games', 'tilting Furniture', 'isons and Steeds', 'kill of Artifice or Office mean', 'gives Heroic name', 'killd nor studious', 'self to raise', 'ended wing', 'be mine', 'brings it nightly to my Ear', 'was sunk', 'is to bring', 'light upon the Earth', 'from end to end', 'had veild the Horizon round:', 'led before the threats', 'ated fraud and malice', 'mans destruction', 're what might hap', 'passing the Earth', 'warnd the Cherubim', 'kept thir watch', \"ish driv'n\", \"even continu'd Nights he rode\", 'thrice the Equinoctial Line', \"cross'd the Carr of Night\", 'sing each Colure', 'rance or Cherubic Watch', 'suspected way', 'was a place', 'aught the change', 'ere TIGRIS at the foot of Paradise', 'shot under ground', 'rising Mist', 'lie hid', 'had searcht and Land', 'beyond the River OB', 'ownward as farr Antartic', \"from ORANTES to the Ocean barr'd\", 'ere flowes', 'ow search', \"sider'd every Creature\", 'is Wiles', 'pent suttlest Beast of all the Field', \"thoughts revolv'd\", 'sentence chose', 'fittest Imp of fraud', 'is dark suggestions hide', 'lie Snake', 'atever sleights none would suspicious mark', 'is wit and native suttletie', \"get of Diabolic pow'r\", 'beyond the sense of brute', 'from inward griefe', \"bursting passion into plaints thus pour'd:\", \"like to Heav'n\", 'eat worthier of Gods', 'was old', 'better worse would build', \"round by other Heav'ns\", 'bear thir bright officious Lamps', 'thee alone', 'ring all thir precious beams', \"red influence: As God in Heav'n\", 'tends to all', 'from all those Orbs', 'known vertue appeers', 'ate with gradual life', 'light could I have walkt thee round', 'joy in aught', 'rest crownd', 'place or refuge', 'ore I see', 'res about me', 'ore I feel', 'ment within me', 'from the hateful siege', 'good to me becomes', 'be my state', 'seek I', \"istring Heav'ns Supreame\", 'be my self less miserable', 'make such', 'ereby worse to me redound:', 'finde ease', 'relentless thoughts', 'won to what may work his utter loss', 'is was made', 'is will soon', 'be the glorie sole among', 'infernal Powers', \"have marr'd\", 'knows how long', 'had bin contriving', 'since I in one Night freed', 'welnigh half', 'left the throng', \"is adorers: hee to be aveng'd\", \"is numbers thus impair'd\", 'spent of old now faild', 'ore Angels to Create', 'is Created or to spite us more', 'advance into our room', \"eature form'd of Earth\", 'from so base original', 'spoils: What he decreed', 'is World', 'is seat', 'is service Angel wings', 'isters to watch and tend', 'lie Charge: Of these the vigilance', 'wrapt in mist', 'glide obscure', 'every Bush and Brake', 'ere hap may finde', 'pent sleeping', 'hide me', 'intent I bring', 'erst contended', 'sit the highest', 'ow constraind', 'bestial slime', 'is essence to incarnate and imbrute', 'ill not Ambition and Revenge', 'down as low', 'though sweet', 'back on it self recoiles', 'reck not', \"light well aim'd\", 'fall short', 'is new Favorite', 'is Man of Clay', \"is Maker rais'd\", 'is best repaid', 'ist low creeping', 'held on', 'is midnight search', 'ere soonest he might finde', 'sleeping soon he found', \"round self-rowl'd\", 'is head the midst', \"well stor'd with suttle wiles:\", 'hade or dismal Den', 'is Mouth', 'is brutal sense', 'heart or head', \"sing soon inspir'd\", 'act intelligential', 'is sleep', \"close th' approach of Morn\", 'began to dawne', 'morning Incense', 'send up silent praise', 'is Nostrils fill', 'gratefull Smell', 'came the human pair', 'thir vocal Worship to the Quire', 'eatures wanting voice', 'weetest Sents and Aires:', 'best may ply', 'growing work: for much thir work outgrew', 'ispatch of two Gardning so wide', 'ill to dress', 'ill to tend Plant', \"ask enjoyn'd\", 'ill more hands', 'work under our labour grows', 'growth derides', 'ending to wilde', 'erefore now advise', 'hear what to my mind first thoughts present', 'divide our labours', 'ere choice', 'ere most needs', 'round this Arbour', 'ere to climb', 'yonder Spring of Roses intermixt', 'find what to redress till Noon:', 'ear each other thus all day', 'ask we choose', 'wonder if no near', 'object new', 'iscourse draw on', 'brought to little', \"comes unearn'd\", \"answer ADAM thus return'd\", 'are above all living Creatures deare', \"hast thou motion'd\", 'thoughts imployd', 'fill the work which here', \"hath assign'd us\", 'shalt pass', 'lovelier can be found', 'hold good', 'good workes in her Husband to promote', \"hath our Lord impos'd\", 'barr us when we need', 'talk between', 'is sweet intercourse', 'looks and smiles', 'from Reason flow', \"brute deni'd\", 'are of Love the food', 'lowest end of human life', 'som toile', 'made us', \"light to Reason joyn'd\", 'doubt not but our joynt', 'from Wilderness with ease', 'need walk', 'hands ere long', 'ist us: But if much converse perhaps', 'is best societie', 'urges sweet returne', 'doubt possesses me', 'from me', 'thou knowst', \"warn'd us\", 'is own', 'seeks to work us woe and shame', 'ere nigh at hand', 'hope to find', 'is wish and best advantage', 'circumvent us joynd', 'die aide might lend at need', 'is first design be to withdraw', 'from God', 'haps no bliss', 'is envie more', 'leave not the faithful side', 'gave thee being', 'hades thee and protects', 'ishonour lurks', 'seemliest by her Husband staies', 'guards her', 'some unkindness meets', \"re thus reply'd\", \"ring of Heav'n and Earth\", 'arths Lord', 'enemie we have', 'thee informd I learne', 'from the parting Angel over-heard', 'stood behind', 'shut of Evening Flours', 'erefore doubt', 'have a foe', 'tempt it', 'expected not to hear', 'is violence thou fearst not', 'eath or paine', 'is fraud is then thy fear', 'fear that my firm Faith and Love', \"is fraud be shak'n or seduc't\", 'found they harbour in thy Brest', 'isthought of her to thee so dear', \"healing words ADAM reply'd\", 'aughter of God and Man', 'thou art', 'from sin and blame entire:', 'do I dissuade', 'from my sight', 'tempt it self', 'ended by our Foe', 'hee who tempts', 'though in vain', 'least asperses', 'ishonour foul', 'corruptible of Faith', 'gainst temptation: thou thy self with scorne', \"sent the offer'd wrong\", 'found: misdeem not then', 'front I labour to avert', 'thee alone', 'ill hardly dare', 'assault shall light', 'is malice and false guile contemn', 'needs must be', 'think superfluous others aid', 'looks receave', 'every Vertue', 'thy sight', 'need were', 'looking on', 'come or over-reacht', 'gor raise', \"is'd unite\", 'like sense within thee feel', 'thy trial choose', \"best witness of thy Vertue tri'd\", 'is care', 'tributed to her Faith sincere', 'reply with accent sweet renewd', 'is be our condition', \"strait'nd by a Foe\", 'like defence', 'are we happie', 'fear of harm', 'harm precedes not sin: onely our Foe', 'is foul esteem', 'is foul esteeme', 'ishonor on our Front', 'ore shund or feard', 'double honour gaine', \"is surmise prov'd false\", 'finde peace within', \"from Heav'n\", \"from th' event\", 'is Faith', 'help sustaind', 'happie State', 'perfet by the Maker wise', \"single or combin'd\", 'is our happiness', 'is be so', \"ere no EDEN thus expos'd\", 'are all things as the will', 'ordaind them', 'is creating hand', 'perfet or deficient left', 'is happie State secure', 'from outward force', 'lies within his power:', 'is will he can receave no harme', 'left free the Will', 'made right', 'bid her well beware', 'ill erect', \"good surpris'd\", 'ate false', 'issinforme the Will', 'do what God expresly hath forbid', 'love enjoynes', 'thee oft', 'mind thou me', 'yet possible to swerve', 'object by the Foe subornd', 'fall into deception unaware', 'keeping strictest watch', 'was warnd', 'temptation then', 'lie if from mee', 'ever not', 'come unsought', 'prove thy constancie', 'thy obedience', 'seeing thee attempted', 'thou think', 'sought may finde', 'warnd thou seemst', 'thy stay', 'sents thee more', 'thy native innocence', 'hast of vertue', 'is part', 'spake the Patriarch of Mankinde', 'ission then', 'fly by what thy own last reasoning words', 'least sought', \"finde us both perhaps farr less prepar'd\", 'illinger I goe', 'ill first the weaker seek', 'is repulse', 'hand her hand', 'oft she withdrew', 'like a Wood-Nymph light', 'took her to the Groves', \"pass'd and Goddess-like deport\", 'ow and Quiver armd', 'yet rude', 'had formd', 'from JOVE', \"look his EYE pursu'd\", 'ring more her stay', 'is charge of quick returne', \"shee to him as oft engag'd\", 'be returnd by Noon amid the Bowre', 'best order to invite', \"resum'd return\", 'from that houre in Paradise', 'weet repast', 'found repose', 'hid among sweet Flours and Shades', 'rancor imminent', 'thy way', 'send thee back', 'break of dawne the Fiend', 'pent in appearance', 'was come', 'is Quest', 'liest he might finde', 'included Race', 'is purposd prey', 're and Field he sought', 'ere any tuft', 'ore pleasant lay', 'dance or Plantation for delight', 'hadie Rivulet', 'sought them both', \"ish'd his hap might find\", \"dom chanc'd\", 'is wish', 'is hope', 'ate he spies', 'ere she stood', 'thick the Roses bushing round', 'stooping to support', 'ender stalk', 'though gay', 'hem she upstaies', 'mindless the while', 'rest unsupported Flour', 'best prop so farr', 'torn so nigh', \"walk travers'd\", 'liest Covert', 'borets and Flours', 'hand of EVE:', \"ore delicious then those Gardens feign'd\", \"reviv'd ADONIS\", 'ere the Sapient King', \"hee the Place admir'd\", 'uses thick and Sewers annoy the Aire', 'issuing on a Summers Morn', 'illages and Farmes', 'met conceaves delight', 'like step fair Virgin pass', 'sing seemd', 'pleases more', 'look summs all Delight', 'took the Serpent to behold', 'is Flourie Plat', 'recess of EVE', 'ore soft', 'every Aire', 're or lest action overawd', \"weet bereav'd\", 'is fierceness of the fierce intent it brought:', 'acted stood', 'is own evil', 'yes in him burnes', 'is delight', 'res him now more', 'ore he sees', \"re not for him ordain'd: then soon\", 'ate he recollects', 'is thoughts', 'have he led me', 'ransported to forget', 'brought us', 'ise for Hell', 'ere to taste', 're to destroy', 'is in destroying', 'is lost', 'let me not let pass', 'ow smiles', 'view far round', 'tellectual more I shun', 'restrial mould', 'from wound', \"hath Hell debas'd\", \"was in Heav'n\", 'fit Love for Gods', 'be in Love', 'approacht by stronger hate', \"shew of Love well feign'd\", 'ruin now I tend', 'spake the Enemie of Mankind', 'oward EVE', 'is way', 'dented wave', 'is reare', 'rising foulds', 'surging Maze', 'is Eyes', 'burnisht Neck of verdant Gold', 'is circling Spires', 'is shape', 'pent kind', 'is with her who bore', 'act oblique', 'sought access', 'is way', 'tearsman wrought', 'ere the Wind', 'oft so steers', 'shifts her Saile', 'varied hee', 'is tortuous Traine', 'eath in sight of EVE', 're her Eye', 'heard the sound', 'rusling Leaves', 'minded not', 'isport before her through the Field', 'every Beast', 'ore duteous at her call', \"call the Herd disguis'd\", \"call'd before her stood\", 'ring: Oft he bowd', 'is turret Crest', \"namel'd Neck\", 'round whereon she trod', 'is play', 'pent Tongue', 'is fraudulent temptation thus began', 'art sole Wonder', \"ispleas'd that I approach thee thus\", 'have feard', \"ore awful thus retir'd\", 'rest resemblance of thy Maker faire', 'living things gaze on', 'thy Celestial Beautie adore', 'ishment beheld', 'best beheld', \"ere universally admir'd\", 'is enclosure wild', 'low to discerne', 'is fair', 'man except', 'sees thee', 'is one', 'be seen', \"dor'd and serv'd\", 'thy daily Train', \"is Proem tun'd\", 'made way', 'answer spake', 'is mean', 'man sense exprest', \"thought deni'd\", 'ated mute to all articulat sound', 'thir looks', 'thir actions oft appeers', 'beast of all the field', \"man voice endu'd\", 'is miracle', 'speakable of mute', 'grown above the rest', 'are in sight', 'wonder claims attention due', \"guileful Tempter thus reply'd\", 'is fair World', 'tell thee all', 'thou commandst', 'be obeyd:', 'was at first as other Beasts that graze', 'den Herb', 'thoughts and low', 'was my food', \"aught but food discern'd\", 'ended nothing high:', 'ill on a day roaving the field', 'goodly Tree farr distant to behold', 'rest colours mixt', 'arer drew to gaze', \"from the boughes a savorie odour blow'n\", 'ateful to appetite', \"ore pleas'd my sense\", 'weetest Fenel', 'dropping with Milk at Eevn', 'tend thir play', 'satisfie the sharp desire I had', 'tasting those fair Apples', 'hunger and thirst at once', 'ring fruit', 'runk I wound me soon', 'ranches would require', 'reach or ADAMS: Round the Tree', 'like desire', 'envying stood', 'ree now got', 'ere plentie hung', 'pluck and eat my fill', 'ill that hour', 'had I found', 'ated at length', 'ere long I might perceave', 'range alteration in me', 'is shape retaind', 'turnd my thoughts', \"isible in Heav'n\", 'good in thy Divine', \"thy Beauties heav'nly Ray\", 'lent or second', 'though importune perhaps', \"thee of right declar'd\", 'ran of Creatures', 'spirited sly Snake', \"ore amaz'd unwarie thus reply'd\", 'leaves in doubt', \"thee first prov'd:\", 'grows the Tree', 'from hence how far', 'are the Trees of God that grow', 'lies our choice', 'leaves a greater store of Fruit untoucht', 'hanging incorruptible', 'ow up to thir provision', 'ore hands', 'isburden Nature of her Bearth', 'lie Adder', 'is readie', 'blowing Myrrh and Balme', 'thou accept', 'bring thee thither soon', 'leading swiftly rowld', 'make intricate seem strait', 'ischief swift', 'is Crest', 'ring Fire', 'act of unctuous vapor', 'some evil Spirit attends', 'blazing with delusive Light', \"isleads th' amaz'd Night-wanderer from his way\", 'oft through Pond or Poole', \"ere swallow'd up and lost\", 'from succour farr', \"ister'd the dire Snake and into fraud\", 'redulous Mother', 'root of all our woe', 'guide she spake', \"have spar'd our coming hither\", 'be here to excess', 'rest with thee', 'cause of such effects', 'is Tree we may not taste nor touch', 'left that Command', 'is voice', 'is our Law', \"guilefully repli'd\", 'said that of the Fruit', 'ye shall not eate', 'arth or Aire', 'yet sinless', 'ree in the Garden we may eate', 'is fair Tree amidst', 'hath said', 'touch it', 'ye die', 'had said', 'ore bold', 'shew of Zeale and Love', 'is wrong', 'puts on', \"passion mov'd\", 'eat matter to begin', 'som Orator renound', 'ree ROME', 'eat cause addrest', 'self collected', 'won audience ere the tongue', 'is Zeal of Right', 'passiond thus began', 'isdom-giving Plant', 'feel thy Power', 'thir Causes', 'trace the wayes', 'owever wise', 'is Universe', 'doe not believe', 'eats of Death', 'ye shall not Die:', 'ow should ye', 'gives you Life', 'look on mee', \"have touch'd and tasted\", 'yet both live', 'have attaind then Fate', 'ring higher then my Lot', 'shut to Man', 'is ire', 'retty Trespass', \"eath denounc't\", 'atever thing Death be', 'from atchieving what might leade', 'happier life', 'knowledge of Good and Evil', 'is evil', 'since easier shunnd', 'erefore cannot hurt ye', 'be just', 'feard then', 'are it self of Death removes the feare', 'is forbid', 'keep ye low and ignorant', 'knows that in the day', 'ate thereof', 'seem so cleere', 'are but dim', 'be then', 'be as Gods', 'owing both Good and Evil as they know', 'be as Gods', 'since I as Man', 'is but proportion meet', 'brute human', 'yee of human Gods', 'die perhaps', 'putting off', 'put on Gods', 'be wisht', 'is can bring', 'are Gods that Man may not become', 'like food', 'are first', 'from them proceeds', 'question it', 'is fair Earth I see', \"arm'd by the Sun\", 'producing every kind', 'hem nothing: If they all things', 'is Tree', 'eats thereof', 'isdom without their leave', 'erein lies', 'attain to know', 'knowledge hurt him', 'is Tree', 'is will if all be his', 'is it envie', 'envie dwell', 'many more', 'is fair Fruit', 'reely taste', 'is words replete with guile', 'heart too easie entrance won:', 'tempt alone', 'ears the sound', 'rung of his perswasive words', 'drew on', \"is'd by the smell\", 'grown to touch or taste', 'cited her longing eye', 'sing a while', \"self she mus'd\", 'are thy Vertues', 'best of Fruits', 'kept from Man', \"be admir'd\", 'cution to the mute', 'made for Speech to speak thy praise:', 'ise hee also who forbids thy use', 'from us', 'thee the Tree', 'knowledge both of good and evil', 'bids us then to taste', 'is forbidding', 'thee more', 'errs the good', 'thee communicated', 'good unknown', 'is not had', 'yet unknown', 'had at all', 'bids he but to know', 'bids us good', 'be wise', 'binde not', 'profits then', 'is fair Fruit', 'doom is', 'dies the Serpent', \"eat'n and lives\", 'ill then', 'eath invented', 'tellectual food', \"beasts reserv'd\", 'seems: yet that one Beast which first', 'brings with joy', \"good befall'n him\", 'endly to man', 'from deceit or guile', 'fear I then', 'know to feare', 'rance of Good and Evil', 'grows the Cure of all', 'is Fruit Divine', 'inviting to the Taste', 'make wise: what hinders then', 'die and Mind', 'hand in evil hour', 'reaching to the Fruit', 'felt the wound', 'from her seat', 'gave signs of woe', 'was lost', 'guiltie Serpent', 'well might', 'ow wholly on her taste', 'light till then', 'ever tasted', 'fansied so', 'expectation high', 'from her thought', \"gorg'd without restraint\", 'knew not eating Death: Satiate at length', 'singly began', 'recious of all Trees', 'operation blest', 'let hang', 'early care', 'thout Song', 'tend thee', 'burden ease', \"ranches offer'd free to all\", 'grow mature', 'envie what they cannot give', 'had the gift bin theirs', 'had not here', 'thee I owe', 'following thee', 'had remaind', 'isdoms way', 'ret she retire', 'haps am secret', 'is high', 'see from thence distinct', 'are perhaps', 'have diverted from continual watch', 'eat Forbidder', 'is Spies', 'make known', 'yet my change', 'give him to partake', 'happiness with mee', 'ledge in my power', 'add what wants', 'is Love', 'ore equal', 'is free', 'have seen', 'eath ensue', 'be no more', 'wedded to another EVE', 'live with her enjoying', 'eath to think', \"firm'd then I resolve\", 'are with me in bliss or woe:', 'love him', 'live no life', 'from the Tree her step she turnd', 'erence don', 'dwelt within', \"had infus'd\", 'plant sciential sap', 'drink of Gods', 'ours a Garland to adorne', 'ours crown', 'are wont thir Harvest Queen', \"is'd to his thoughts\", 'is heart', 'somthing ill', 'ring measure felt', 'meet her went', 'ledge he must pass', 'ere he her met', 'from the Tree returning', \"rest fruit that downie smil'd\", 'ill she thus addrest', 'thou not wonderd', 'have misst', 'thought it long', 'love till now', 'be twice', 'ever more', 'from thy sight', 'bin the cause', 'wonderful to heare:', 'are told', 'open Eyes', 'make them Gods who taste', 'tasted such', 'pent wise', 'restraind as wee', \"eat'n of the fruit\", 'is become', \"are threatn'd\", 'man voice and human sense', 'wasively hath so prevaild', 'have also found', 'opener mine Eyes', 'growing up to Godhead', 'fly I sought', 'thee can despise', 'hast part', 'is bliss', 'erefore also taste', 'equal Lot', 'joyne us', 'equal Love', 'thou not tasting', 'ate renounce', 'ate will not permit', 'istemper flushing glowd', 'pass don by EVE', 'stood and Blank', 'is veins', \"is joynts relax'd\", \"is slack hand the Garland wreath'd for EVE\", 'faded Roses shed:', 'stood and pale', 'ill thus at length', 'self he inward silence broke', 'rest of Creation', 'last and best', \"eature in whom excell'd\", 'fight or thought be found', 'art thou lost', 'ow on a sudden lost', 'eath devote', 'hast thou yeelded to transgress', 'ow to violate', \"red Fruit forbidd'n\", 'cursed fraud', \"beguil'd thee\", 'thee hath ruind', 'is to Die', 'live without thee', \"weet Converse and Love so dearly joyn'd\", 'live again in these wilde Woods forlorn', 'ate another EVE', 'yet loss of thee', 'from my heart', 'draw me: Flesh of Flesh', 'thou art', 'from thy State', 'be parted', 'iss or woe', 'having said', 'from sad dismay', 'thoughts disturbd', 'seemd remediless', 'is Words to EVE he turnd', \"hast presum'd\", \"eat provok't\", \"hast dar'd\", 'coveting to Eye', 'red Fruit', 'red to abstinence', 'taste it under banne to touch', 'past who can recall', 'don undoe', 'thou shalt not Die', 'haps the Fact', \"fan'd first by the Serpent\", 'ere one tastes', 'found deadly', 'yet lives', 'thou saidst', 'live as Man', 'ree of Life', 'likely tasting to attaine', 'be Gods', 'think that God', 'ill in earnest so destroy', 'is prime Creatures', 'is Works', 'needs with us must faile', 'labour loose', \"well conceav'd of God\", 'is Power', 'eation could repeate', 'be loath', 'least the Adversary', 'ate whom God', 'please him long', 'ill he next', 'given the Foe', 'have fixt my Lot', 'goe like doom', 'sort with thee', 'is to mee as Life', 'heart I feel', 'draw me to my owne', 'own in thee', 'is mine', 'be severd', 'are one', 'ere to loose my self', 'exceeding Love', 'thy perfection', 'ow shall I attaine', 'are side I boast me sprung', 'are thee speak', 'good prooff', 'is day affords', 'ring thee resolvd', 'eath or aught then Death more dread', 'ate us', 'goe with mee one Guilt', 'is fair Fruit', 'good still good proceeds', 'hath presented', 'is happie trial of thy Love', 'had bin known', \"thought Death menac't would ensue\", 'is my attempt', 'sustain alone', 'perswade thee', 'thee with a fact', 'thy Peace', 'ate of thy so true', 'faithful Love unequald', \"ise th' event\", 'weet before', 'toucht my sense', 'seems to this', 'liver to the Windes', 'won that he his Love', 'ispleasure for her sake', 'recompence (for such compliance bad', 'from the bough', 'gave him of that fair enticing Fruit', \"hand: he scrupl'd not to eat\", 'is better knowledge', 'come with Femal charm', 'from her entrails', 'gave a second groan', 'uttering Thunder', 'som sad drops', 'eating of the mortal Sin', 'took no thought', 'is fill', \"pass fear'd\", 'ore to soothe', 'ated both', 'swim in mirth', 'fansie that they feel', 'breeding wings', 'erewith to scorn the Earth: but that false Fruit', 'operation first displaid', 're enflaming', 'hee on EVE', 'cast lascivious Eyes', 'wantonly repaid', \"ill ADAM thus 'gan EVE to dalliance move\", 'see thou art exact of taste', 'meaning savour we apply', 'call judicious', \"is day thou hast purvey'd\", 'have lost', 'lightful Fruit', 'known till now', 're be', \"be wish'd\", 'had bin forbidden ten', \"well refresh't\", 'let us play', 'meet is', 'did thy Beautie since the day', 'saw thee first and wedded thee', 'flame my sense', 'dor to enjoy thee', 'is vertuous Tree', 'said he', 'bore not glance or toy', 'darted contagious Fire', \"hand he seis'd\", 'hadie bank', 'led her nothing loath', 'ere the Couch', 'softest lap', 'fill of Love and Loves disport', 'thir mutual guilt the Seale', 'thir sin', 'ill dewie sleep', 'wearied with thir amorous play', 'fallacious Fruit', 'pour bland', 'had plaid', \"was now exhal'd\", 'red of unkindly fumes', 'had left them', 'from unrest', \"found thir Eyes how op'nd\", 'thir minds', 'knowing ill', 'from about them', \"guiltie shame hee cover'd\", 'is Robe', 'rose the DANITE strong', 'from the Harlot-lap', 'is strength', 'destitute and bare', 'thir vertue: silent', 'founded long they sate', \"struck'n mute\", 'though not less then EVE abasht', 'gave utterance to these words constraind', 'give care', 'ever taught', 'counterfet Mans voice', 'rue in our Fall', \"is'd Rising\", 'since our Eyes', 'find indeed', 'find we know', 'lost and Evil got', 'is be to know', 'leaves us naked thus', 'wonted Ornaments now soild and staind', 'dent the signes', 'last of evils', 're then', 'hold the face', 'earst with joy', 're so oft beheld', 'is earthly', 'thir blaze', 'live savage', 'some glad', 'ere highest Woods impenetrable', 'spread thir umbrage broad', 'ye Pines', 'see them more', 'let us now', 'sent serve to hide', 'from other', 'seem most', 'shame obnoxious', 'seemliest seen', 'gether sowd', 'girded on our loyns', 'cover round', 'is new commer', 'sit not', 'reproach us as unclean', \"counsel'd hee\", 'gether went', 'thickest Wood', 'ere soon they chose', 'is day to INDIANS known', 'reds her Armes', 'take root', 'aughters grow', 'illard shade', 'echoing Walks between', 'ere oft the INDIAN Herdsman shunning heate', 'is pasturing Herds', 'hade: Those Leaves', 'kill they had', 'thir waste', 'ring if to hide', 'readed shame', 'ow unlike', 'naked Glorie', \"found th' AMERICAN to girt\", 'eatherd Cincture', 'naked else and wilde', 'woodie Shores', 'thir shame in part', 'rest or ease of Mind', 'sate them down to weep', 'thir Eyes', 'shook sore', 'ate of Mind', 'full of Peace', 'ow tost and turbulent:', \"standing rul'd not\", 'eard not her lore', 'from beneathe', 'ran Reason claimd', 'istemperd brest', \"rang'd in look and alterd stile\", 'intermitted thus to EVE renewd', \"hadst heark'nd to my words\", 'besought thee', 'is unhappie Morn', 'know not whence possessd thee', 'had then', 'ill happie', 'seek needless cause to approve', 'earnestly they seek', 'begin to faile', 'touch of blame thus EVE', 'have past thy Lips', \"put'st thou that to my default\", \"call'st it\", \"have happ'nd thou being by\", 'hadst thou bin there', \"bere th' attempt\", 'have discernd', 'speaking as he spake', 'round of enmitie between us known', 'mean me ill', 'seek to harme', 'have never parted from thy side', 'have grown there still a liveless Rib', 'didst not thou the Head', 'mand me absolutely not to go', 'thou saidst', 'didst not much gainsay', 'fixt in thy dissent', \"had I transgress'd\", 'thou with mee', 'is the Love', 'is the recompence', 'mine to thee', 'thou wert lost', \"have liv'd and joyd immortal bliss\", 'eath with thee:', 'ow upbraided', 'thy transgressing', 'restraint: what could I more', \"warn'd thee\", \"ish'd thee\", 'lurking Enemie', 'lay in wait', 'had bin force', 'ere no place', 'bore thee on', 'meet no danger', \"err'd in overmuch admiring\", 'seemd in thee so perfet', 'tempt thee', 'errour now', 'come my crime', \"thou th' accuser\", 'men overtrusting', 'ill rule', 'restraint she will not brook', 'left to her self', 'is weak indulgence will accuse', 'sation spent', \"vain contest appeer'd no end\", 'full act', 'done in Paradise', 'had perverted EVE', 'taste the fatall fruit', \"known in Heav'n\", 'scape the Eye', 'is Heart', 'ise and just', 'tempt the minde', 'rength entire', \"ill arm'd\", \"have discover'd and repulst\", 'seeming Friend', 'ill they knew', \"have still remember'd\", 'taste that Fruit', 'manifold in sin', 'ise in hast', 'mute and sad', 'is state by this they knew', 'had stoln', 'come news', \"arth arriv'd at Heaven Gate\", 'ere who heard', 'did not spare', 'ated not thir bliss', 'ereal People ran', 'hear and know', 'fell: they towards the Throne Supream', 'made haste to make appear', 'righteous plea', 'thir utmost vigilance', 'is secret Cloud', 'is voice', \"ye Powers return'd\", 'be not dismaid', 'from the Earth', 'are could not prevent', 'come to pass', \"is Tempter cross'd the Gulf from Hell\", 'told ye then he should prevail and speed', 'is bad Errand', \"be seduc't\", 'is Maker', 'ree of mine', 'sitate his Fall', 'lightest moment of impulse', 'is free Will', 'own inclining left', \"fall'n he is\", 'is transgression', \"eath denounc't that day\", 'ready vain and void', 'yet inflicted', 'ate stroak', 'bearance no acquittance ere day end', \"return as bountie scorn'd\", 'send I to judge them', \"have transferr'd\", 'seen that I intend', 'som and Redeemer voluntarie', \"self to judge Man fall'n\", 'spake the Father', 'unfoulding bright', 'is Glorie', 'clouded Deitie', 'is Father manifest', \"answer'd milde\", 'is to decree', 'do thy will', \"thy Son belov'd\", \"rest well pleas'd\", 'go to judge', 'thy transgressors', 'thou knowst', 'ate thir doom', 'yet I shall temper so', 'ate most', 'fully satisfied', 'thee appease', 'dance none shall need', 'hold the Judgement', \"sent is condemn'd\", 'bel to all Law', 'pent none belongs', 'is radiant Seat he rose', 'ateral glorie: him Thrones and Powers', 'companied to Heaven Gate', 'ended strait', 'speed of Gods', 'counts not', \"though with swiftest minutes wing'd\", 'was the Sun in Western cadence low', 'res due at thir hour', \"arth now wak'd\", 'from wrauth more coole', 'sentence Man: the voice of God they heard', 'walking in the Garden', 'soft windes', 'thir Ears', 'hid themselves among', 'thickest Trees', \"call'd aloud\", 'ere art thou ADAM', 'wont with joy to meet', 'coming seen far off', 'iss thee here', 'entertaind with solitude', \"ere obvious dutie erewhile appear'd unsaught:\", 'come I less conspicuous', 'chance detains', 'was not in thir looks', 'arent guilt', 'ring long', \"answer'd brief\", 'heard thee in the Garden', 'thy voice', 'hid my self', \"revile repli'd\", 'hast heard', \"hast not fear'd\", \"ill rejoyc't\", 'is it now become', 'readful to thee', 'art naked', 'told thee', 'aten of the Tree', 'gave thee charge thou shouldst not eat', \"set repli'd\", 'is day I stand', 'ore my Judge', 'self the total Crime', 'artner of my life', 'expose to blame', 'sin and punishment', 'hold my peace', 'detect what I conceale', \"is Woman whom thou mad'st to be my help\", 'thy perfet gift', 'hand I could suspect no ill', 'atever in it self', \"seem'd to justifie the deed\", 'gave me of the Tree', 'did eate', \"ran Presence thus repli'd\", 'thy God', 'didst obey', 'is voice', 'made thy guide', \"did'st resigne thy Manhood\", 'made of thee', \"farr excell'd\", 'real dignitie: Adornd', 'was indeed', 'lovely to attract', \"ere such as under Government well seem'd\", 'are rule', 'was thy part', 'known thy self aright', 'having said', 'is this which thou hast done', \"shame nigh overwhelm'd\", 'before her Judge', \"beguil'd and I did eate\", \"proceeded on th' accus'd\", 'though brute', 'made him instrument', 'from the end', 'is Creation', 'ated in Nature: more to know', 'since he no further knew)', 'is offence', 'yet God at last', \"is doom apply'd\", 'is curse let fall', 'done this', 'art accurst', 'thy Belly groveling thou shalt goe', 'eat all the days of thy Life', 'ill put', 'between thine and her Seed', 'ise thy head', 'ise his heel', 'is Oracle', \"from Heav'n\", 'rising from his Grave', 'open shew', 'ascention bright', 'led captive through the Aire', 'self of Satan long usurpt', 'read at last under our feet', 'is fatal bruise', \"is Sentence turn'd\", 'eatly multiplie', 'thy Conception', 'ren thou shalt bring', 'ow forth', 'thy Husbands will', 'thee shall rule', \"last thus judgement he pronounc'd\", \"heark'nd to the voice of thy Wife\", 'aten of the Tree concerning which', 'saying: Thou shalt not eate thereof', 'round for thy sake', 'thou in sorrow', 'ate thereof all the days of thy Life', 'bring thee forth', \"ate th' Herb of th' Field\", 'ate Bread', 'ill thou return unto the ground', 'round wast taken', 'know thy Birth', 'thou art', 'shalt to dust returne', \"eath denounc't that day\", 'farr off', 'ow they stood', 'ore him naked to the aire', 'suffer change', \"isdain'd not to begin\", 'forme of servant to assume', \"wash'd his servants feet\", 'lie he clad', 'nakedness with Skins of Beasts', 'ate repaid', 'is Enemies:', 'thir outward onely with the Skins', 'is Robe of righteousness', 'is Fathers sight', 'ascent he up returnd', \"is blissful bosom reassum'd\", 'had past with Man', 'mixing intercession sweet', \"was sin'd and judg'd on Earth\", 'sate Sin and Death', 'view within the Gates', 'open wide', 'belching outrageous flame', \"pass'd through\", 'eath began', 'sit we here each other viewing', 'eat Author thrives', 'eat provides', 'is ofspring deare', 'tends him', \"had return'd\", 'is Avenger', 'like this', 'is punishment', 'feel new strength within me rise', 'is Deep', 'atever drawes me on', 'som connatural force', 'istance to unite', 'like kinde', 'retest conveyance', 'from Sin no power can separate', 'passing back', 'is returne perhaps over this Gulfe', 'let us try', 'yet to thy power and mine', 'found a path', 'is Maine from Hell to that new World', 'ere Satan now prevailes', \"merit high to all th' infernal Host\", 'passage hence', 'thir lot shall lead', 'iss the way', 'strongly drawn', 'felt attraction and instinct', 'answerd soon', 'hither Fate and inclination strong', 'lag behinde', 'sent I draw', 'from all things there that live:', 'work thou enterprisest', 'thee equal aid', \"light he snuff'd the smell\", 'change on Earth', 'though many a League remote', 'lie encampt', \"sent of living Carcasses design'd\", 'following day', 'die fight', 'sented the grim Feature', 'is Nostril wide into the murkie Air', 'is Quarrey from so farr', 'from out Hell Gates into the waste', 'damp and dark', 'was great)', 'ring upon the Waters', 'raging Sea', 'crowded drove', 'side shoaling towards the mouth of Hell', 'blowing adverse', \"stop th' imagin'd way\", 'ated Soyle', 'is Mace petrific', 'rident smote', \"fix't as firm\", 'floating once', 'is look', 'gor not to move', \"gather'd beach\", 'aught on', 'foaming deep high Archt', 'joyning to the Wall', 'is now fenceless world', 'passage broad', 'down to Hell', \"be compar'd\", 'bertie of GREECE to yoke', 'is MEMNONIAN Palace high', 'is way', \"many a stroak th' indignant waves\", 'brought the work by wondrous Art', 'ridge of pendent Rock', 'vext Abyss', 'following the track', 'ere hee', 'lighted from his Wing', 'landed safe', 'side bare', 'round World: with Pinns of Adamant', 'made all fast', 'ow in little space', \"met of Empyrean Heav'n\", 'is World', 'left hand Hell', \"reach interpos'd\", \"ree sev'ral wayes\", 'ree places led', \"had descri'd\", 'ise first tending', 'likeness of an Angel bright', 'twixt the CENTAURE and the SCORPION stearing', \"isguis'd he came\", 'is Children dear', \"arent soon discern'd\", 'though in disguise', 'hanging shape', 'serve the sequel', 'saw his guileful act', 'though all unweeting', 'saw thir shame that sought', 'saw descend', 'judge them', 'hoping to escape', 'is wrauth', 'denly inflict', 'istning where the hapless Paire', 'ate in thir sad discourse', 'is own doom', 're time', \"ow return'd\", 'neer the foot', 'wondrous Pontifice', 'meet him came', 'is Ofspring dear', 'was at thir meeting', \"is joy encreas'd\", 'ring stood', 'are thy magnific deeds', \"thou view'st as not thine own\", 'art thir Author and prime Architect:', \"art divin'd\", 'ret harmonie', 'moves with thine', \"joyn'd in connexion sweet\", \"hadst prosper'd\", 'thy looks', 'ow also evidence', 'istant from thee Worlds between', 'is thy Son', 'unites us three:', 'hold us in her bounds', 'is unvoyageable Gulf obscure', 'from following thy illustrious track', \"hast atchiev'd our libertie\", 'ates till now', \"thou us impow'rd\", 'fortifie thus farr', 'is portentous Bridge the dark Abyss', 'is all this World', 'hath won', 'hands builded not', \"isdom gain'd\", 'hath lost', \"fully aveng'd\", \"foile in Heav'n\", 'ere thou shalt Monarch reign', 'didst not', 'let him still Victor sway', \"hath adjudg'd\", 'is new World', 'is own doom alienated', 'thee divide', \"parted by th' Empyreal bounds\", 'from thy Orbicular World', 'is Throne', 'answerd glad', 'randchild both', \"have giv'n to be the Race\", 'glorie in the name', \"gonist of Heav'ns Almightie King)\", 'have merited of me', \"neer Heav'ns dore\", 'have met', 'is glorious Work', 'made one Realm', 'is World', 'easie thorough-fare', 'erefore while I', 'end through Darkness', 'ate Powers', 'hem to acquaint', 'hem rejoyce', 'is way', 'ise descend', 'dwell & Reign in bliss', 'ise and in the Aire', 'fly on Man', 'make sure your thrall', 'lastly kill', 'send ye', 'matchless might', 'gor now', 'hold of this new Kingdom all depends', \"eath expos'd by my exploit\", 'ower prevaile', 'res of Hell', 'need feare', 'goe and be strong', \"saying he dismiss'd them\", 'tellations held', 'reading thir bane', 'lookt wan', 'went down', 'usey to Hell Gate', 'built exclaimd', 'bounding surge the barrs assaild', 'is indignation: through the Gate', 'open and unguarded', 'found desolate', 'sit there', 'had left thir charge', 'lown to the upper World', 'rest were all', 'right Starr to SATAN paragond', 'kept thir Watch the Legions', 'thir Emperour sent', 'gave command', 'is RUSSIAN Foe', 'owie Plaines', 'from the hornes', 'leaves all waste beyond', 'is retreate', 'left desert utmost Hell', 'areful Watch', 'thir Metropolis', 'ow expecting', 'from the search', 'rein Worlds: he through the midst unmarkt', 'beian Angel militant', 'lowest order', 'from the dore', 'is high Throne', 're spred', 'regal lustre', 'own a while', 'saw unseen:', 'is fulgent head', \"right appeer'd\", 'issive glory since his fall', 'left him', 'blaze the STYGIAN throng', 'thir aspect', \"ish'd beheld\", \"was th' acclaime:\", 'haste the great consulting Peers', \"is'd from thir dark DIVAN\", 'like joy', \"approach'd him\", 'words attention won', 'possession such', 'are ye now', 'beyond hope', 'ye forth', 'is infernal Pit', 'use of woe', 'rant: Now possess', 'venture hard', \"eat atchiev'd\", 'ere to tell', 'have don', \"is pav'd\", 'expedite your glorious march', 'actable Abysse', \"rets fiercely oppos'd\", 'journey strange', 'clamorous uproare', 'ate supreame', 'ow I found', 'ated World', 'had foretold', \"have seduc'd\", 'is Creator', 'ore to increase', \"hath giv'n up\", 'loved Man and all his World', 'eath a prey', 'thout our hazard', 'labour or allarme', 'range in', \"have rul'd\", \"hath judg'd\", 'pent in whose shape', 'put between', 'ise his heel', 'is not set', 'ise my head:', 'purchase with a bruise', 'ore grievous pain', \"have th' account\", 'performance: What remaines', 'enter now into full bliss', 'having said', 'shout and high applause', 'is eare', 'from innumerable tongues', 'ismal universal hiss', 'wondring at himself now more', 'drawn he felt to sharp and spare', 'is Armes clung to his Ribs', 'is Leggs entwining', 'planted down he fell', 'is Belly prone', 'ater power', \"ow rul'd him\", \"isht in the shape he sin'd\", 'have spoke', 'iss for hiss returnd with forked tongue', 'forked tongue', \"ere all transform'd\", 'pents all as accessories', 'readful was the din', 'hissing through the Hall', 'warming now', 'ated monsters', \"warm'd once the Soil\", 'dropt with blood of Gorgon', 'atest hee the midst', 'gon grown', 'enderd in the PYTHIAN Vale on slime', \"is Power no less he seem'd\", 'rest still to retain', \"issuing forth to th' open Field\", 'left of that revolted Rout', 'stood or just array', 'expectation when to see', 'issuing forth thir glorious Chief', 'sight instead', 'hem fell', 'rid sympathie', 'felt themselvs now changing', 'down thir arms', 'fell both Spear and Shield', 'down they as fast', \"iss renew'd\", 're form', 'like in punishment', 'thir crime', \"was th' applause they meant\", 'exploding hiss', 'from thir own mouths', 'rove hard by', 'rung up with this thir change', 'is will who reigns above', 'den with fair Fruit', 'grew in Paradise', \"yes they fix'd\", 'bidden Tree a multitude', 'work them furder woe or shame', 'hunger fierce', 'elude them sent', 'sat thicker then the snakie locks', \"reedily they pluck'd\", 'like that which grew', \"ere SODOM flam'd\", 'is more delusive', 'thinking to allay', 'ended taste', 'rejected: oft they assayd', 'thirst constraining', \"isrelish writh'd thir jaws\", 'oft they fell', \"ere they plagu'd\", 'worn with Famin', 'lost shape', \"is annual humbling certain number'd days\", 'dash thir pride', \"joy for Man seduc't\", \"some tradition they dispers'd\", 'purchase got', 'ow the Serpent', 'had first the rule', 'was born', 'ise the hellish pair', 'ere in power before', 'ow in body', 'behind her DEATH', 'following pace for pace', 'mounted yet', 'is pale Horse: to whom SIN thus began', 'conquering Death', 'thinkst thou of our Empire now', 'avail difficult', 'better farr', 'have sate watch', \"self half starv'd\", 'answerd soon', 'ere most with ravin I may meet', 'is Maw', 'bound Corps', 'erefore on these Herbs', 'atever thing', 'owes down', 'ill I in Man residing through the Race', 'actions all infect', 'last and sweetest prey', 'took them several wayes', 'ranscendent Seat the Saints among', 'is voice', 'eat these Dogs of Hell advance', 'yonder VVorld', 'good created', 'had still', 'had not the folly of Man', 'wastful Furies', 'doth the Prince of Hell', 'is Adherents', 'suffer them to enter and possess', \"place so heav'nly\", 'conniving seem', 'scornful Enemies', 'ransported with some fit', 'had quitted all', 'random yeilded up to their misrule', 'drew them thither', 'lick up the draff and filth', 'hath shed', 'was pure', \"ill cramm'd and gorg'd\", 'glutted offal', 'thy victorious Arm', 'yawning GRAVE at last', 'obstruct the mouth of Hell', 'is ravenous Jawes', 'made pure', 'receive no staine:', \"ill then the Curse pronounc't on both precedes\", 'dience loud', 'sound of Seas', 'sung: Just are thy ways', 'ate thee', 'torer of Mankind', 'arth shall to the Ages rise', \"from Heav'n descend\", 'was thir song', 'calling forth by name', 'gave them several charge', 'sent things', 'is precept so to move', 'arth with cold and heat', 'from the North to call', 'from the South to bring', 'taught the fixt', 'rising with the Sun', 'prove tempestuous: To the Winds they set', 'ereal Hall', 'is Angels turne ascanse', 'rees and more', \"labour push'd\", \"from th' Equinoctial Rode\", \"readth to TAURUS with the Seav'n\", 'down amaine', 'bring in change', 'had the Spring', 'arth with vernant Flours', 'hem Day', 'benighted shon', 'low Sun', 'is distance', 'thir sight', \"rounded still th' HORIZON\", 'had forbid the Snow', 'tasted Fruit', 'from THYESTEAN Banquet', 'is course intended', 'had the World', 'ore then now', 'voided pinching cold and scorching heate', \"changes in the Heav'ns\", 'change on Sea and Land', 'from the North', 'thir brazen Dungeon', 'armd with ice', 'haile and stormie gust and flaw', 'rend the Woods and Seas upturn', 'from the South', 'lack with thundrous Clouds', 'art of these as fierce', 'rush the LEVANT and the PONENT VVindes', 'ateral noise', 'liveless things', 'iscord first', 'aughter of Sin', \"eath introduc'd through fierce antipathie:\", 'ow with Beast gan war', 'owle with Fowle', 'ish with Fish', 'graze the Herb all leaving', 'stood much in awe', 'led him', \"count'nance grim\", 'passing: these were from without', 'growing miseries', 'readie in part', 'hid in gloomiest shade', 'ow abandond', 'felt within', 'passion tost', \"isburd'n sought with sad complaint\", 'iserable of happie', 'is this the end', 'is new glorious World', 'ow becom', 'hide me from the face', 'hold was then my highth', 'yet well', 'ere would end', 'own deservings', 'is will not serve', 'ate or drink', 'ated curse', 'eath to heare', 'curses on my head', 'brought by me', 'are our Ancestor impure', 'is we may thank ADAM', 'is thanks', 'be the execration', 'bide upon me', 'from mee', 'reflux on mee redound', 'enter light', 'though in thir place', 'are bought with lasting woes', 'request thee', 'from my Clay', 'mould me Man', 'did I sollicite thee', 'promote me', 'ere place', 'is delicious Garden', 'ere but right', 'equal to reduce me to my dust', 'render back', 'was to hold', 'good I sought not', 'hast thou added', 'endless woes', 'say truth', 'have been refusd', \"ere propos'd:\", 'didst accept them', 'thou enjoy the good', 'cavil the conditions', 'though God', 'thee without thy leave', 'thy Son', 'get me', 'sought it not:', 'is contempt of thee', 'yet him not thy election', 'sity begot', 'made thee of choice his own', 'is own', 'serve him', 'is grace', 'ishment then justly is at his Will', 'is doom is fair', 'dust I am', 'dust returne:', 'welcom hour whenever', 'cute what his Decree', 'is day', 'do I overlive', 'mockt with death', 'eathless pain', 'ow gladly would I meet', 'be Earth', 'lay me down', 'ere I should rest', 'sleep secure', 'readful voice no more', 'fear of worse', 'ring would torment me', 'ruel expectation', 'sues me still', 'least all I cannot die', 'eath of Life', 'gether perish', 'is corporeal Clod', 'ismal place', 'living Death', 'was but breath', 'had life', 'die properly hath neither', 'is appease', 'reach no further knows', 'be infinite', 'is wrauth also', 'is not so', 'ow can he exercise', 'eath must end', 'make deathless Death', 'ere to make', 'is held', 'isht man', 'satisfie his rigour', 'ere to extend', 'is Sentence beyond dust and Natures Law', 'uses else according still', 'matter act', 'own Spheare', 'be not one stroak', 'endless miserie', 'is day onward', 'feel begun', 'thout me', 'readful revolution', 'eath and I', 'found Eternal', 'ate both', 'art single', 'stands curst: Fair Patrimonie', 'leave ye', 'ere I able', 'waste it all my self', 'leave ye none', 'isinherited how would ye bless', 'ow your Curse', \"be condemn'd\", 'from mee what can proceed', \"ill deprav'd\", 'do onely', 'ill the same', 'quitted stand', 'sight of God', 'absolve: all my evasions vain', 'though through Mazes', 'lead me still', 'own conviction: first and last', 'ourse and spring', 'lights due', 'thou support', 'arth to bear', \"thou desir'st\", 'thou fearst', 'like destroyes all hope', 'thee miserable', 'past example and future', 'like both crime and doom', \"hast thou driv'n me\", 'find no way', \"from deep to deeper plung'd\", 'self lamented loud', 'ill Night', 'ere man fell', 'som and cool', 'lack Air', 'readful gloom', 'is evil Conscience represented', 'double terror: On the ground', 'stretcht he lay', 'is Creation', \"eath as oft accus'd\", 'is offence', 'comes not Death', 'acceptable stroke', 'end me', 'fail to keep her word', 'be just', 'comes not at call', 'prayers or cries', 'taught your Shades', 'resound farr other Song', 'afflicted when sad EVE beheld', 'ate where she sate', \"passion she assay'd:\", \"regard he thus repell'd\", 'name best', \"thee with him leagu'd\", 'self as false', 'thy shape', 'pentine may shew', 'warn all Creatures from thee', \"least that too heav'nly form\", 'ish falshood', 'had persisted happie', 'had not thy pride', 'ring vanitie', 'was safe', 'be trusted', 'be seen', 'pent meeting', 'from my side', 'gainst all assaults', 'stood not all was but a shew', 'ow appears', 'ister from me drawn', 'thrown out', 'ber found', 'did God', 'ate at last', 'is noveltie on Earth', 'is fair defect', 'fill the World at once', 'thout Feminine', 'find some other way to generate', \"had not then befall'n\", 'ore that shall befall', 'isturbances on Earth through Femal snares', 'is Sex: for either', 'find out fit Mate', 'brings him', 'ishes most shall seldom gain', 'see her gaind', 'farr worse', 'is happiest choice too late', 'readie linkt and Wedlock-bound', 'fell Adversarie', 'is hate or shame:', 'infinite calamitie shall cause', 'mane life', 'hold peace confound', 'added not', \"from her turn'd\", \"ears that ceas'd not flowing\", 'resses all disorderd', 'is feet', 'imbracing them', 'proceeded in her plaint', 'love sincere', 'erence in my heart', 'are thee', 'have offended', 'thy knees', 'bereave me not', 'ereon I live', 'thy gentle looks', 'is uttermost distress', 'stay: forlorn of thee', 'take me', 'yet we live', 'scarse one short hour perhaps', 'let there be peace', \"joyn'd in injuries\", \"gainst a Foe by doom express assign'd us\", 'ise not', \"is miserie befall'n\", 'ready lost', 'thy self', \"have sin'd\", 'gainst God onely', 'gainst God and thee', 'ill return', 'ere with my cries importune Heaven', \"sentence from thy head remov'd may light\", 'is woe', 'is ire', 'ended weeping', 'lie plight', 'from fault', \"knowledg'd and deplor'd\", 'heart relented', 'is life so late and sole delight', 'is feet submissive in distress', 'is reconcilement seeking', \"had displeas'd\", 'is anger all he lost', \"is'd her soon\", 'knowst not', 'ishment all on thy self', 'are thine own first', 'ill able to sustaine', 'is full wrauth whose thou feelst as yet lest part', 'bearst so ill', 'alter high Decrees', 'before thee', 'be louder heard', 'be visited', \"firmer Sex forgiv'n\", \"committed and by me expos'd\", 'let us no more contend', \"ow we may light'n\", 'are of woe', \"is days Death denounc't\", 'prove no sudden', \"low-pac't evill\", 'dying to augment our paine', 'hapless Seed', 'ment I know', 'thee can finde', 'hopeful to regaine', 'ment of my heart', 'from thee I will not hide', \"are ris'n\", 'ending to som relief of our extremes', 'though sharp and sad', 'easier choice', 'are of our descent perplex us most', 'born to certain woe', 'eath at last', 'iserable it is', 'be to others cause of misery', 'own begotten', 'is cursed World a woful Race', 'be at last', 'thy power', 'ere Conception to prevent', 'being yet unbegot', 'thou art', 'is glut', \"satisfie his Rav'nous Maw\", 'judge it hard and difficult', 'embraces sweet', 'ish without hope', 'sent object languishing', 'like desire', 'be miserie', 'torment less then none of what we dread', 'fear for both', 'make short', 'seek Death', 'hee not found', 'is Office on our selves', 'stand we longer shivering under feares', 'end but Death', 'have the power', 'die the shortest choosing', 'ended heer', 'ment despaire', 'eath her thoughts', 'heeks with pale', \"counsel nothing sway'd\", 'is more attentive minde', \"had rais'd\", 're seems', 'thee somthing more sublime', 'minde contemnes', 'erefore saught', 'thought in thee', 'thy contempt', 'ish and regret', \"re overlov'd\", 'covet death', 'utmost end', 'thinking to evade', \"penaltie pronounc't\", 'doubt not but God', \"lier arm'd his vengeful ire then so\", \"be forestall'd\", 'fear least Death', 'from the paine', 'are by doom to pay', 'ill provoke the highest', 'live: Then let us seek', 'have in view', 'calling to minde with heed', 'art of our Sentence', 'thy Seed shall bruise', 'pents head', 'rand Foe', \"hath contriv'd\", 'is deceit: to crush his head', 'be revenge indeed', 'be lost', 'brought on our selves', 'thou proposest', \"is punishment ordain'd\", 'double ours upon our heads', \"be mention'd then of violence\", 'gainst our selves', 'cuts us off from hope', 'ours onely', 'is just yoke', 'aid on our Necks', 'ber with what mild', \"heard and judg'd\", 'thout wrauth or reviling', 'meant by Death that day', 'bearing were foretold', 'bringing forth', \"recompenc't with joy\", 'thy Womb: On mee the Curse aslope', 'labour I must earne', 'had bin worse', 'ill sustain me', 'least Cold', 'eat should injure us', 'is timely care', 'besaught provided', 'is hands', \"pitying while he judg'd\", 'ow much more', 'pray him', 'is ear', 'heart to pitie incline', 'teach us further by what means to shun', 'ment Seasons', 'ow the Skie with various Face begins', 'is Mountain', 'ist and keen', 'ring the graceful locks', 'reading Trees', 'bids us seek', 'better shroud', 'warmth to cherish', 'is diurnal Starr', \"is gather'd beams\", 'ere foment', 'ision of two bodies grinde', 'ate the Clouds', 'thir shock', \"art flame driv'n down\", 'bark of Firr or Pine', 'sends a comfortable heat from farr', 'lie the Sun: such Fire to use', 'be remedie or cure', 'have wrought', 'instruct us praying', 'need not fear', 'pass commodiously this life', 'many comforts', 'ill we end', 'rest and native home', 'better can we do', \"ring where he judg'd us\", 'ore him reverent', 'ere confess', 'don beg', 'atering the ground', 'sighs the Air', 'sent from hearts contrite', \"ow unfeign'd\", 'doubtedly he will relent and turn', 'is displeasure', 'look serene', \"seem'd and most severe\", 'spake our Father penitent', 'remorse: they forthwith to the place', 'ate fell', 'ore him reverent', 'thir faults', \"don beg'd\", 'atering the ground', 'thir sighs the Air', 'sent from hearts contrite', \"ow unfeign'd\", 'light repentant stood', 'from the Mercie-seat above', \"descending had remov'd\", 'from thir hearts', 'made new flesh', 'grow instead', \"ow breath'd\", 'dier flight', 'yet thir port', 'mean suiters', 'important less', 'thir Petition', 'yet then these', 'haste PYRRHA to restore', 'before the Shrine', 'stood devout', 'thir prayers', 'issed the way', 'ate: in they passd', \"mentionless through Heav'nly dores\", \"ere the Golden Altar fum'd\", 'eat Intercessor', 'came in sight', 'ore the Fathers Throne: Them the glad Son', 'are sprung', 'planted Grace in Man', 'is Golden Censer', 'before thee bring', 'from thy seed', 'is heart', 'is own hand manuring all the Trees', \"have produc't\", 'bend thine eare', 'are his sighs though mute', 'words to pray', 'ret for him', 'is Advocate', 'is works on mee', 'good ingraft', 'eath shall pay', 'from these receave', 'oward Mankinde', 'let him live', \"thee reconcil'd\", 'is days', 'is doom (which I', 'ate thus plead', 'better life shall yeeld him', 'ere with mee', 'dwell in joy and bliss', 'thee am one', 'request for Man', 'was my Decree:', 'ise to dwell', 'gave to Nature him forbids:', 're immortal Elements that know', 'harmoneous mixture foule', 'tainted now', 'purge him off', 're as gross', 'ispose him best', 'wrought by Sin', 'istemperd all things', 'ated him endowd', \"is other serv'd but to eternize woe\", 'ill I provided Death', 'eath becomes', 'is final remedie', 'sharp tribulation', 'faithful works', 'renovation of the just', 'arth renewd', 'call to Synod all the Blest', 'from them I will not hide', 'ow with Mankind I proceed', 'ate they saw', 'thir state', 'stood more confirmd', 'gave signal high', 'ister that watchd', 'heard in OREB since perhaps', 'haps once more', 'sound at general Doom', 'issful Bowrs', 'aters of Life', 'ere ere they sate', 'fellowships of joy: the Sons of Light', 'resorting to the Summons high', 'took thir Seats', 'is Throne supream', 'ran Will', 'is become', 'know both Good and Evil', 'is taste', 'ended Fruit', 'let him boast', 'knowledge of Good lost', 'have known', 'ows now', 'prayes contrite', 'heart I know', 'ow variable and vain', 'is now bolder hand', 'ree of Life', 'live for ever', 'ream at least to live', 'move him I decree', 'send him from the Garden forth to Till', 'round whence he was taken', 'have thou in charge', 'from among the Cherubim', 'flaming Warriours', 'least the Fiend', 'behalf of Man', 'possession som new trouble raise:', 'ise of God', 'drive out the sinful Pair', \"round th' unholie\", 'from thence', 'least they faint', \"gorously urg'd\", \"hold them soft'nd and with tears\", 'wailing thir excess', 'error hide', 'bidding they obey', 'ismiss them not disconsolate', 'come in future dayes', 'thee enlighten', 'seed renewd', 'send them forth', 'yet in peace:', 'side of the Garden place', 'rance up from EDEN easiest climbes', 'approach farr off to fright', 'passage to the Tree of Life:', 'ise a receptacle prove', 'rees thir prey', 'ore to delude', \"changelic Power prepar'd\", 'watchful Cherubim', 'faces each', 'like a double JANUS', 'thir shape', 'yes more numerous then those', 'wakeful then to drouze', \"harm'd with ARCADIAN Pipe\", 'is opiate Rod', 'resalute the World with sacred Light', 'resh dews imbalmd', 'ended now thir Orisons', 'added from above', 'hope to spring', 'fear yet linkt', 'come words renewd', 'good which we enjoy', \"from Heav'n descends\", \"from us ought should ascend to Heav'n\", 'revalent as to concerne the mind', 'is will', 'lief may seem', 'is will Prayer', 'mane breath', 'eat of God', 'since I saught', 'ended Deitie to appease', \"before him humbl'd all my heart\", 'saw him placable and mild', 'ending his eare', 'wasion in me grew', 'heard with favour', 'ise our Foe', 'minded in dismay', 'res me that the bitterness of death', \"rightly call'd\", 'since by thee', 'is to live', 'live for Man', 'meanour meek', 'thee ordaind', 'came thy snare', 'istrust and all dispraise:', 'was my Judge', 'brought Death on all', 'ourse of life', 'favourable thou', \"entitle me voutsaf't\", 'name deserving', \"calls us now with sweat impos'd\", 'sleepless Night', 'see the Morn', \"concern'd with our unrest\", 'ress smiling', 'let us forth', 'from thy side henceforth to stray', 'erere our days work lies', 'though now enjoind', 'ill day droop', 'ere we dwell', 'toilsom in these pleasant Walkes', 'let us live', \"fall'n state\", \"ish'd much-humbl'd EVE\", 'gave Signs', \"re suddenly eclips'd\", 'stoopt from his aerie tour', 'before him drove:', 'from a Hill the Beast that reigns in Woods', 'bent thir flight', 'is Eye the chase', 'waits us nigh', 're shews', 'runners of his purpose', 're of our discharge', 'from death releast', 'ill then our life', 'ore then this', 'are dust', 'hither must return and be no more', 'is double object in our sight', \"light pursu'd in th' Air and ore the ground\", 'self-same hour', 'ere Dayes mid-course', 'ore orient in yon VVestern Cloud that draws', 'blew Firmament a radiant white', 'low descends', \"somthing heav'nly fraught\", \"err'd not\", \"is the heav'nly Bands\", 'lighted now', 'made alt', 'had not doubt', \"fear that day dimm'd ADAMS eye\", 'ore glorious', 'ere he saw', 'is Guardians bright', 'flaming Mount appeerd', \"cover'd with a Camp of Fire\", 'gainst the SYRIAN King', 'had levied Warr', 'thir bright stand', 'left his Powers to seise', 'finde where ADAM shelterd', 'took his way', 'sitant approachd', 'eat tidings', 'ill soon determin', \"be observ'd\", 'blazing Cloud that veils the Hill', 'is Gate', 'eat Potentate', 'yet not terrible', 'erence I must meet', 'thou retire', 'drew nigh', 'is shape Celestial', 'meet Man', 'is lucid Armes', 'lier then MELIBOEAN', \"worn by Kings and Hero's old\", 'had dipt the wooff', \"is starrie Helme unbuckl'd shew'd him prime\", 'ere Youth ended', 'is side', 'istering ZODIAC hung the Sword', 're dread', 'is hand the Spear', 'bowd low', 'is State', \"coming thus declar'd\", 'behest no Preface needs:', 'are heard', 'sentence when thou didst transgress', 'is seisure many dayes', 'thee of Grace', \"erein thou may'st repent\", 'deeds well done', \"thy Lord appeas'd\", 'from Deaths rapacious claimes', 'is Paradise to dwell', 'move thee I am come', 'send thee from the Garden forth to till', \"round whence thou wast tak'n\", 'added not', 'illing gripe of sorrow stood', 'is senses bound', 'had heard', \"iscover'd soon the place of her retire\", 'expected stroke', 'leave thee Paradise', 'hee Native Soile', 'happie Walks and Shades', 'haunt of Gods', 'had hope to spend', 'though sad', 'respit of that day', 'be mortal to us both', 'ate grow', 'early visitation', 'tender hand', 'gave ye Names', 'are ye to the Sun', \"from th' ambrosial Fount\", 'lastly nuptial Bowre', 'was sweet', 'ow shall I part', 'hither wander down', 'lower World', 'is obscure', 'eath in other Aire', 'interrupted milde', 'ment not EVE', 'hast lost', 'set thy heart', 'is not thine', 'going is not lonely', 'thee goes', 'follow thou art bound', 'ere he abides', 'think there thy native soile', 'is from the cold sudden damp', 'is scatterd spirits returnd', 'is humble words addressd', 'hem the Highest', 'hape may seem', 'hast thou tould', 'telling wound', 'performing end us', 'ow and dejection and despair', 'thy tidings bring', 'is happy place', 'places else', 'appeer and desolate', 'knowing us nor known: and if by prayer', 'change the will', 'wearie him with my assiduous cries:', 'is absolute Decree', 'gainst the winde', 'back on him that breaths it forth:', 'is great bidding I submit', 'is most afflicts me', 'parting hence', 'is face I shall be hid', \"is blessed count'nance\", 'ere I could frequent', \"ere he voutsaf'd\", 'is Mount he appeerd', 'is Tree', 'is voice', \"is Fountain talk'd:\", 'grateful Altars I would reare', 'pile up every Stone', 'from the brook', 'ment to Ages', 'smelling Gumms & Fruits and Flours:', 'yonder nether World where shall I seek', 'is bright appearances', 'led him angrie', 'isd Race', 'hold though but his utmost skirts', 'is steps adore', 'regard benigne', \"know'st Heav'n his\", 'is Rock onely', 'is Omnipresence fills', 'every kinde that lives', 'is virtual power and warmd:', 'gave thee to possess and rule', 'ise not then', \"bounds confin'd\", 'had been', 'thy Capital Seate', 'had spred', 'had hither come', \"ends of th' Earth\", 'erence thee thir great Progenitor', 'is praeeminence thou hast lost', 'round now with thy Sons:', 'lie and in Plaine', 'is as here', 'found alike', 'is presence many a signe', 'following thee', 'passing thee round', 'goodness and paternal Love', 'is steps the track Divine', 'thou mayst beleeve', 'be confirmd', 'from hence depart', 'know I am sent', 'come in future dayes', 'thee and to thy Ofspring', 'good with bad', 'sinfulness of Men', 'ereby to learn', 'joy with fear', 'ate to beare', 'thou lead', 'thy life', \"best prepar'd endure\", 'passage when it comes', 'have drencht her eyes)', \"sleep below while thou to foresight wak'st\", 'thou slepst', 'was formd', \"gratefully repli'd\", 'follow thee', \"lead'st me\", \"hand of Heav'n submit\", 'arming to overcom', 'from labour won', 'ise the highest', 'from whose top', 'isphere of Earth in cleerest Ken', 'reach of prospect lay', 'looking round', 'rent cause the Tempter set', 'domes and thir Glory', 'is Eye might there command wherever stood', 'from the destind Walls', 'eat MOGUL', 'golden CHERSONESE', 'is eye not ken', 'is utmost Port', 'thought OPHIR', 'from NIGER Flood to ATLAS Mount', 'doms of ALMANSOR', 'was to sway', 'haps he also saw', 'eat of MOTEZUME', \"yet unspoil'd\", 'eat Citie GERYONS Sons', \"from ADAMS eyes the Filme remov'd\", 'arer sight', 'isual Nerve', 'had much to see', \"drops instill'd\", \"dients pierc'd\", 'eat of mental sight', 'close his eyes', 'came intranst:', \"is attention thus recall'd\", 'ow ope thine eyes', 'hath wrought', 'from thee', \"ever touch'd\", 'thy sin', 'from that sin derive', 'bring forth more violent deeds', \"is eyes he op'nd\", 'beheld a field', 'art arable and tilth', 'ereon were Sheaves', 'walks and foulds', 'mark stood', 'is Tillage brought', 'reen Eare', 'yellow Sheaf', 'came to hand', 'came with the Firstlings of his Flock', 'thir Fat', 'left Wood', \"is Offring soon propitious Fire from Heav'n\", 'grateful steame', 'is was not sincere', \"lie rag'd\", 'beat out life', \"is Soul with gushing bloud effus'd\", 'is heart', \"haste to th' Angel cri'd\", \"ischief hath befall'n\", \"had sacrific'd\", 're Devotion paid', \"hee also mov'd\", 'are Brethren', 'thy loyns', 'hath slain', 'is Brothers Offering found', 'die Fact', \"be aveng'd\", 'see him die', 'owling in dust and gore', 'have I now seen Death', 'is the way', 'return to native dust', 'rid to think', 'ow horrible to feel', 'hast seen', 'is first shape on man', 'many shapes', 'are the wayes that lead', 'is grim Cave', 'yet to sense', 'rance then within', \"thou saw'st\", 'lent stroke shall die', 'rance more', 'eats and Drinks', 'arth shal bring', 'thee shall appear', 'thou mayst know', \"iserie th' inabstinence of EVE\", 'bring on men', 'ately a place', 'is eyes appeard', 'use it seemd', 'erein were laid', \"bers of all diseas'd\", 'racking torture', 'heart-sick Agonie', 'racking Rheums', 'was the tossing', 'from Couch to Couch', 'is Dart', 'laid to strike', \"though oft invok't\", 'thir chief good', 'heart of Rock could long', 'man born', 'is best of Man', 'gave him up to tears', 'restraind excess', \"is plaint renew'd\", 'iserable Mankind', \"ate reserv'd\", 'end heer unborn', \"is life giv'n\", 'from us', 'ruded on us thus', 'lay it down', 'ismist in peace', 'ated once', 'goodly and erect', 'though faultie since', \"sufferings be debas't\", 'man pains', 'ill Divine similitude', 'from such deformities be free', 'is Makers Image sake exempt', \"hemselves they villifi'd\", \"govern'd appetite\", \"is Image whom they serv'd\", 'ish vice', 'sin of EVE', 'is thir punishment', 'isfiguring not Gods likeness', 'thir own', 'is likeness', \"hemselves defac't\", 'healthful rules', 'som sickness', 'did not reverence in themselves', 'yeild it just', 'is there yet no other way', 'ow we may come', 'mix with our connatural dust', 'thou well observe', 'rule of not too much', 'rance taught', 'eatst and drinkst', 'seeking from thence', 'gluttonous delight', 'ill many years over thy head return:', 'ist thou live', 'like ripe Fruit thou drop', 'thy Mothers lap', 'be with ease', 'eath mature:', 'is is old age', 'thou must outlive', 'ill change', 'witherd weak & gray', 'thy Senses then', 'taste of pleasure must forgoe', 'thou hast', 're of youth', 'opeful and cheerful', 'ill reigne', 'damp of cold and dry', 'thy spirits down', 'last consume', 'lie not Death', 'bent rather how I may be quit', 'is combrous charge', 'pointed day', 'ring up', 'love thy Life', 'thou livst', \"ow long or short permit to Heav'n:\", 'are thee for another sight', 'saw a spacious Plaine', 'ere Tents of various hue', 'ere herds', 'grazing: others', 'made melodious chime', 'seen: his volant touch', 'low and high', 'ransverse the resonant fugue', 'stood one who at the Forge', 'found where casual fire', 'woods on Mountain or in Vale', 'own to the veins of Earth', 'gliding hot', 'som Caves mouth', 'washt by stream', 'round) the liquid Ore he dreind', \"fit moulds prepar'd\", 'from which he formd', 'is own Tooles', 'be wrought', 'rent sort', 'ring Hills', 'was thir Seat', 'ended: by thir guise', 'men they seemd', 'thir study bent', 'worship God aright', 'know his works', 'lost which might preserve', 'dom and Peace to men: they on the Plain', 'had not walkt', 'from the Tents behold', 'wanton dress', 'oft amorous Ditties', 'came on:', 'though grave', 'let thir eyes', 'thout rein', 'ill in the amorous Net', 'is liking chose', \"love they treat till th' Eevning Star\", 'binger appeerd', 'light the Nuptial Torch', 'bid invoke', \"marriage Rites invok't\", 'view and fair event', 'love & youth not lost', \"harming Symphonies attach'd the heart\", 'admit delight', 'bent of Nature', 'opener of mine eyes', 'seems this Vision', 'ore hope', 'yes portends', 'ate and death', 'seems fulfilld in all her ends', 'is best', 'seeming meet', 'thou art', 'lie and pure', 'sawst so pleasant', 'ere the Tents', 'is Race', 'is Brother', 'ish Life', 'mindful of thir Maker', 'is Spirit', \"knowledg'd none\", 'beauteous ofspring shall beget', 'thou sawst', 'good wherein consists', 'domestic honour and chief praise', 'completed to the taste', 'troule the Tongue', 'roule the Eye', 'ber Race of Men', 'hem the Sons of God', 'yeild up all thir vertue', 'thir fame', 'rains and to the smiles', 'swim in joy', 'swim at larg) and laugh', 'erelong a world of tears must weepe', 'joy bereft', 'pittie and shame', 'live well', 'side to tread', 'see the tenor of Mans woe', 'from Woman to begin', 'ate slackness it begins', \"aid th' Angel\", 'hold his place', 'are thee for another Scene', 'saw wide Territorie spred', 'works between', 'ates and Towrs', 'ours in Arms', 'eatning Warr', 'art wield thir Arms', 'foaming Steed', 'ring stood', 'from forage drives', 're Oxen and faire Kine', 'dow ground', 'eating Lambs over the Plaine', 'scarce with Life the Shepherds flye', 'call in aide', 'tacks a bloody Fray', 'ruel Tournament the Squadrons joine', \"ere Cattel pastur'd late\", 'ow scatterd lies', 'sanguind Field', 'from the Wall defend', \"art and Jav'lin\", 'hand slaughter and gigantic deeds', \"art the scepter'd Haralds call\", 'ates: anon', 'headed men and grave', 'ours mixt', 'are heard', 'actious opposition', 'ill at last', 'ise deport', 'spake much of Right and Wrong', 'from above: him old and young', \"had seiz'd with violent hands\", \"descending snatch'd him thence\", 'seen amid the throng: so violence', 'was found', 'was all in tears', 'is guide', 'full sad', 'are these', 'deal Death', 'manly to men', 'thousand fould the sin of him who slew', 'thir Brethren', 'men of men', 'was that Just Man', \"had not Heav'n\", 'had in his Righteousness bin lost', 'are the product', \"ated Marriages thou saw'st\", 'good with bad were matcht', 'rudence mixt', 'die or mind', 'ere these Giants', 'men of high renown', \"be admir'd\", 'come in Battel', 'bring home spoils with infinite', 'held the highest pitch', 'man Glorie', \"be styl'd great Conquerours\", \"call'd and Plagues of men\", \"be achiev'd\", 'renown on Earth', 'merits fame in silence hid', 'from thee', 'thou beheldst', 'righteous in a World perverse', 'erefore hated', 'erefore so beset', 'be just', 'utter odious Truth', 'is Saints: Him the most High', 'winged Steeds', 'thou sawst', 'walk with God', 'from Death', 'thee what reward', 'waits the good', 'rest what punishment', 'yes and soon behold', \"saw the face of things quite chang'd\", 'had ceast to roar', \"was turn'd to jollitie and game\", 'luxurie and riot', 'passing faire', 'from Cups to civil Broiles', 'erend Sire among them came', \"islike declar'd\", 'gainst thir wayes', 'requented thir Assemblies', 'hem preachd', 'ison under Judgements imminent:', 'vain: which when he saw', 'is Tents farr off', 'from the Mountain hewing Timber tall', 'build a Vessel of huge bulk', 'round with Pitch', 'side a dore', 'laid in large', 'wonder strange', 'everie Beast', 'enterd in', 'last the Sire', 'is three Sons', 'thir four Wives', 'made fast the dore', 'wind rose', 'lack wings', 'gether drove', 'ills to their supplie', \"thick'nd Skie\", \"down rush'd the Rain\", 'ill the Earth', 'was seen', 'floating Vessel swum', 'beaked prow', 're the Waves', 'dwellings else', 'thir pomp', 'ater rould', \"cover'd Sea\", 'thout shoar', 'thir Palaces', \"ate reign'd\", 'didst thou grieve then', 'end of all thy Ofspring', 'end so sad', 'thee another Floud', \"thee also drown'd\", 'thee as thy Sons', 'ill gently reard', 'stoodst at last', 'destroyd at once', 'utterdst thus thy plaint', 'isions ill foreseen', 'had I', 'rant of future', 'had borne', 'art of evil onely', 'yes lot', 'ere dispenst', 'many Ages', 'knowledge gaining Birth', 'ere thir being', 'thought that they must be', 'man seek', 'told what shall befall', 'is Childern', 'be sure', 'knowing can prevent', 're evil shall no less', 'rehension then in substance feel', 'are now is past', \"is not whom to warne: those few escap't\", 'ish will at last consume', 'had hope', \"was ceas't\", 'have then gon well', 'have crownd', 'happy days the race of man', \"was farr deceav'd\", 'ow I see', 'corrupt no less then Warr to waste', 'comes it thus', 'ere the Race of man will end', 'last thou sawst', 'seen in acts of prowess eminent', 'eat exploits', 'rue vertu void', 'having spilt much blood', 'don much waste', 'change thir course to pleasure', 'wantonness and pride', 'ise out of friendship hostil deeds in Peace', 'conquerd also', 'lost all vertu loose', 'are of God', \"from whom thir pietie feign'd\", 'found no aide', 'erefore coold in zeale', 'live secure', 'lie or dissolute', 'thir Lords', 'leave them to enjoy', 'arth shall bear', 'ore then anough', \"rance may be tri'd:\", 'turn degenerate', 'gainst example good', 'fearless of reproach and scorn', 'thir wicked wayes', 'hem admonish', 'before them set', 'ore safe', 'full of peace', 'denouncing wrauth to come', 'thir impenitence', 'hem derided', 'is command', 'wondrous Ark', 'thou beheldst', 'hold from amidst', 'vote to universal rack', 'hee with them of Man and Beast', \"be lodg'd\", 'shelterd round', 'set open on the Earth shall powre', 'fountaines of the Deep', 'heave the Ocean to usurp', 'ill inundation rise', 'is Mount', 'ise by might of Waves be moovd', 'is place', 'horned floud', \"is verdure spoil'd\", 'rees adrift', \"eat River to the op'ning Gulf\", 'take root an Iland salt and bare', 'haunt of Seales and Orcs', 'teach thee that God attributes to place', 'hither brought', 'ere frequent', 'erein dwell', 'ow what further shall ensue', 'saw the Ark hull on the floud', 'ow abated', 'ere fled', 'blowing drie', 'is wide watrie Glass', 'resh Wave largely drew', 'made thir flowing shrink', 'standing lake to tripping ebbe', 'soft foot towards the deep', 'had stopt', 'is windows shut', 'ore now flotes', 'seems on ground', 'som high mountain fixt', 'ills as Rocks appeer', 'rents drive', 'retreating Sea thir furious tyde', 'from out the Arke a Raven flies', 'rer messenger', 'sent forth once and agen to spie', 'round whereon his foot may light', 'is Bill', 'live leafe he brings', 'round appeers', 'is Arke', 'is Train', 'lifted hands', 'yes devout', \"ateful to Heav'n\", 'is head beholds', 'lifted colours gay', 'from God', 'heart of ADAM erst so sad', 'broke forth', 're things canst represent', 'is last sight', 'seed preserve', 'lament for one whole World', 'found so perfet and so just', 'ise another World', 'is anger to forget', 'mean those colourd streaks in Heavn', \"istended as the Brow of God appeas'd\", 'serve they as a flourie verge to binde', 'trie Cloud', 'issolve and showr the Earth', \"thou aim'st\", 'is Ire', \"ate repenting him of Man deprav'd\", 'is heart', 'looking down he saw', \"fill'd with violence\", 'thir way', \"yet those remoov'd\", 'find in his sight', 'blot out mankind', 'makes a Covenant never to destroy', 'gain by flood', 'let the Sea', 'pass his bounds', 'own the World', 'erein or Beast', 'arth a Cloud', 'erein set', \"is triple-colour'd Bow\", 'ereon to look', \"call to mind his Cov'nant: Day and Night\", 'eat and hoary Frost', 'hold thir course', 'ill fire purge all things new', 'erein the just shall dwell', 'seen one World begin and end', 'from a second stock proceed', 'hast yet to see', 'sight to faile', 'needs impaire and wearie human sense:', 'is to com I will relate', 'give due audience', 'is second sours of Men', 'yet but few', 'read of judgement past remains', 'resh in thir mindes', 'fearing the Deitie', 'is just and right', 'lead thir lives', 'lie apace', 'ring the soile', 'reaping plenteous crop', 'wine and oyle', 'from the herd or flock', 'sacrificing Bullock', \"rings pour'd\", 'red Feast', \"yes in joy unblam'd\", 'lies and Tribes', 'aternal rule', 'ill one shall rise', \"ate Dominion undeserv'd\", 'is brethren', 'quite dispossess', 'from the Earth', 'is game)', 'are such as refuse', 'is Empire tyrannous:', \"be styl'd\", 'ore the Lord', \"spite of Heav'n\", \"from Heav'n claming second Sovrantie\", 'is name', 'bellion others he accuse', 'like Ambition joyns', 'from EDEN towards the West', 'erein a black bituminous gurge', 'from under ground', 'cast to build', \"reach to Heav'n\", 'get themselves a name', 'least far disperst', 'be lost', 'good or evil fame', 'sit men', 'thir habitations walks', 'mark thir doings', 'holding soon', 'see thir Citie', 'ere the Tower', 'ision sets', 'thir Tongues a various Spirit to rase', 'thir Native Language', 'ise of words unknown:', 'rises loud', 'mockt they storm', \"was in Heav'n\", 'looking down', 'see the hubbub strange', 'hear the din', 'building left', \"work Confusion nam'd\", \"ereto thus ADAM fatherly displeas'd\", 'is Brethren', 'self affirming', \"from God not giv'n:\", 'gave us onely over Beast', 'right we hold', 'is donation', 'made not Lord', 'left from human free', 'is Usurper his encroachment proud', 'yes not on Man', 'is Tower intends', 'retched man', 'hither to sustain', 'is rash Armie', 'ere thin Aire', 'is entrails gross', 'ish him of Breath', \"thou abhorr'st\", 'ate of men', 'trouble brought', 'affecting to subdue', 'know withall', 'thy original lapse', 'yes with right Reason dwells', 'from her hath no dividual being:', \"man obscur'd\", 'ately inordinate desires', 'start Passions catch the Government', 'ill then free', 'erefore since hee permits', 'self unworthie Powers to reign', 'ree Reason', 'ment just', 'from without to violent Lords', 'servedly enthrall', 'rannie must be', 'rant thereby no excuse', 'ill decline so low', 'is reason', 'curse annext', 'thir outward libertie', 'rent Son', 'built the Ark', 'is Father', 'heard this heavie curse', 'is vitious Race', 'is latter', 'former World', 'from bad to worse', 'ill God at last', 'earied with their iniquities', 'is presence from among them', 'is holy Eyes', 'resolving from thenceforth', 'leave them to thir own polluted wayes', \"be invok'd\", 'from one faithful man to spring:', 'is side EUPHRATES yet residing', 'red up in Idol-worship', 'thou believe', 'be so stupid grown', \"yet the Patriark liv'd\", 'living God', 'work in Wood and Stone', 'yet him God the most High voutsafes', 'call by Vision from his Fathers house', 'is kindred and false Gods', 'ill shew him', 'from him will raise', 'is benediction so', 'is Seed', 'be blest', 'hee straight obeys', 'knowing to what Land', 'yet firm believes:', 'see him', 'thou canst not', 'leaves his Gods', 'passing now the Ford', 'ring poor', 'is wealth', \"call'd him\", 'ow attains', 'see his Tents', 'ring Plaine', 'ise he receaves', 'is Progenie of all that Land', 'thir names I call', \"yet unnam'd)\", 'eat Western Sea', 'place behold', 'point them', 'ere the double-founted stream', 'rue limit Eastward', 'is Sons', 'dwell to SENIR', 'ridge of Hills', 'is Seed be blessed', 'meant thy great deliverer', 'pents head', 'ereof to thee anon', 'lier shall be reveald', 'is Patriarch blest', 'rand-childe leaves', 'randchilde with twelve Sons increast', \"ereafter call'd\", 'ere it flows', 'gorging at seaven mouthes', 'sojourn in that Land', 'comes invited by a yonger Son', 'thy deeds', 'ise him to be the second in that Realme', 'ere he dies', 'leaves his Race', 'owing into a Nation', 'ow grown', 'stop thir overgrowth', 'ate guests', 'makes them slaves', 'kills thir infant Males:', 'ill by two brethren (those two brethren call', 'sent from God to claime', 'is people from enthralment', \"is'd Land\", 'know thir God', 'be compelld by Signes and Judgements dire', 'be turnd', 'lies must all his Palace fill', 'fill all the land', 'is Cattel must of Rot and Murren die', 'is flesh imboss', 'is people', 'mixt with Haile', \"heel on th' Earth\", 'ring where it rouls', 'devours not', 'warming down', 'leave nothing green:', 'hadow all his bounds', 'ree dayes', \"gon tam'd at length submits\", 'is sojourners depart', 'born heart', 'ill as Ice', \"ore hard'nd after thaw\", 'is rage', 'ate dismissd', 'is Host', 'lets pass', 'istal walls', \"is rescu'd gain thir shoar:\", 'wondrous power God to his Saint will lend', 'sent in his Angel', 'ore them in a Cloud', 'illar of Fire', 'guide them in thir journey', 'ill pursue', 'is approach', 'between till morning Watch', 'illar and the Cloud', 'looking forth will trouble all his Host', 'thir Chariot wheels: when by command', 'is potent Rod extends', 'is Rod obeys', 'telld ranks the Waves return', 'thir Warr: the Race elect', 'from the shoar advance', 'readiest way', 'ring on the CANAANITE allarmd', 'errifie them inexpert', 'is more sweet', 'raind in Armes', 'leads not on', 'is also shall they gain by thir delay', 'ere they shall found', 'ate choose', 'welve Tribes', 'rule by Laws ordaind:', 'from the Mount of SINAI', 'hem Lawes', 'art such as appertaine', 'religious Rites', 'meanes he shall achieve', 'are is dreadful', 'is will', 'error cease', 'rants them thir desire', 'is no access', 're beares', 'thir Age the times', 'eat MESSIAH shall sing', 'light hath God in Men', 'is will', 'is Tabernacle', \"is prescript a Sanctuary is fram'd\", 'laid with Gold', \"is Cov'nant\", 'between the wings', 'right Cherubim', 'before him burn', 'rest by Day', 'gleame by Night', 'isd to ABRAHAM and his Seed: the rest', 'ere long to tell', 'many Battels fought', 'many Kings destroyd', 'doms won', 'stand still', 'ourse adjourne', 'thou Moon in the vale of AIALON', 'ill ISRAEL overcome', 'call the third', 'from him', 'is whole descent', \"ere ADAM interpos'd\", \"sent from Heav'n\", 'lightner of my darkness', 'hast reveald', 'fly which concerne', 'is Seed: now first I finde', \"rue op'ning\", \"heart much eas'd\", 'thoughts what would becom', 'be blest', 'merited by me', \"knowledge by forbidd'n means\", 'is yet I apprehend not', 'dwell on Earth', \"are giv'n\", 'many Laws argue so many sins', 'ow can God with such reside', 'ill reign among them', 'thee begot', 'given them to evince', 'ring up', 'gainst Law to fight', 'iscover sin', 'hadowie expiations weak', 'be paid for Man', 'hem by Faith imputed', 'owards God', 'performing cannot live', 'appears imperfet', 'full time', \"better Cov'nant\", 'hadowie Types to Truth', 'from Flesh to Spirit', 'sition of strict Laws', 'from servil fear', 'works of Law to works of Faith', 'erefore shall not MOSES', 'though of God', 'being but the Minister', 'is people into CANAAN lead', 'is Name and Office bearing', 'bring back', 'wanderd man', 'ise of rest', \"arthly CANAAN plac't\", 'dwell and prosper', 'interrupt thir public peace', 'ise them enemies:', 'saves them penitent', 'issant deeds', 'ise shall receive', 'is Regal Throne', 'ever shall endure', 'like shall sing', 'is King) shall rise', 'thee foretold', 'told to ABRAHAM', 'is Reign shall be no end', \"is next Son for Wealth and Wisdom fam'd\", 'ill then in Tents', 'follow him', 'be registerd', 'ill so incense', 'leave them', 'expose thir Land', 'is holy Ark', 'is sacred things', 'scorn and prey', \"thou saw'st\", 'lets them dwell', 'eventie years', 'brings them back', \"is Cov'nant sworn\", \"isht as the dayes of Heav'n\", 'leave of Kings', 'use of God', 'live moderate', 'actious they grow', 'issension springs', 'tend the Altar', 'thir strife pollution brings', 'last they seise', 'regard not DAVIDS Sons', 'loose it to a stranger', 'be born', 'is right', 'is Birth a Starr', \"seen before in Heav'n proclaims him com\", 'guides the Eastern Sages', 'offer Incense', 'is place of birth a solemn Angel tells', 'watch by night', 'hither haste', 'hear his Carol sung', 'ower of the most High', 'bound his Reign', 'arths wide bounds', \"is glory with the Heav'ns\", 'iscerning ADAM with such joy', \"had like grief bin dew'd in tears\", 'thout the vent of words', 'utmost hope', 'clear I understand', 'have searcht in vain', \"be call'd\", 'seed of Woman: Virgin Mother', \"love of Heav'n\", 'from my Loynes', 'shalt proceed', 'from thy Womb the Son', 'man unites', 'is capital bruise', 'say where and when', 'ise the Victors heel', 'ream not of thir fight', 'erefore joynes the Son', 'ore strength to foil', 'is overcome', \"from Heav'n\", 'lier bruise', \"isabl'd not to give thee thy deaths wound:\", 'comes thy Saviour', 'destroying SATAN', 'is works', 'is be', 'filling that which thou didst want', 'bedience to the Law of God', 'penaltie of death', 'suffering death', 'ransgression due', 'ill grow:', 'rest appaid', 'act he shall fulfill', 'bedience and by love', 'fill the Law', 'coming in the Flesh', 'reproachful life and cursed death', 'aiming Life to all who shall believe', 'is redemption', 'is obedience', 'puted becomes theirs by Faith', 'save them', 'thir own', 'though legal works', 'live hated', \"is'd on by force\", 'eath condemnd', 'shameful and accurst', 'is own Nation', 'slaine for bringing Life', 'thy Enemies', 'is against thee', \"ere crucifi'd\", 'ore who rightly trust', 'is his satisfaction', 'eath over him no power', 'ere the third dawning light', 'see him rise', 'is grave', 'resh as the dawning light', 'ransom paid', 'from death redeems', 'is death for Man', 'offerd Life', 'benefit imbrace', 'is God-like act', 'thy doom', \"have dy'd\", 'from life', 'ise the head of SATAN', 'is strength', 'eating Sin and Death', 'is two maine armes', 'is head thir stings', 'ise the Victors heel', 'like sleep', 'resurrection shall he stay', 'arth then certaine times to appeer', \"follow'd him\", 'leave in charge', \"teach all nations what of him they learn'd\", 'is Salvation', 'hem who shall beleeve', 'washing them from guilt of sin to Life', \"mind prepar'd\", \"like that which the redeemer dy'd\", 'from that day', 'be Preacht', 'erever through the world', 'seed all Nations shall be blest', 'triumphing through the aire', 'is foes and thine', 'ere shall surprise', 'drag in Chaines', 'is realme', 'founded leave', 'enter into glory', 'is Seat at Gods right hand', \"names in Heav'n\", 'is worlds dissolution shall be ripe', 'judge both quick & dead', \"judge th' unfaithful dead\", 'receave them into bliss', 'be Paradise', 'happier place', 'is of EDEN', 'happier daies', 'changel MICHAEL', 'eat period', \"wonder thus repli'd\", 'goodness infinite', 'good of evil shall produce', 'turn to good', 'brought forth', 'doubt I stand', 'repent me now of sin', 'done and occasiond', 'good thereof shall spring', 'ore glory', 'good will to Men', \"liverer up to Heav'n\", 'betide the few', \"left among th' unfaithful herd\", 'enemies of truth', 'ill they not deale', 'is followers then with him they dealt', 're they will', \"said th' Angel\", \"from Heav'n\", 'is own a Comforter will send', 'ise of the Father', 'is Spirit within them', 'hearts shall write', 'guide them in all truth', 'is fierie darts', 'gainst them', 'gainst such cruelties', 'supported so as shall amaze', 'cuters: for the Spirit', 'is Apostles', 'evangelize the Nations', 'wondrous gifts endue', 'speak all Tongues', 'do all Miracles', 'before them', 'bers of each Nation to receave', \"brought from Heav'n: at length\", \"istry perform'd\", 'well run', 'written left', 'thir room', 'succeed for teachers', \"red mysteries of Heav'n\", 'own vile advantages shall turne', 're and ambition', 'erstitions and traditions taint', 'written Records pure', 'seek to avail themselves of names', 'ill to act', 'hemselves appropriating', \"isd alike and giv'n\", 'from that pretense', 'ower shall force', 'every conscience', 'hem inrould', 'heart engrave', 'ill they then', 'force the Spirit of Grace it self', 'is consort Libertie', 'living Temples', 'built by Faith to stand', 'own Faith not anothers: for on Earth', 'gainst Faith and Conscience can be heard', 'ill presume:', 'cution shall arise', 'worship persevere', 'ater part', 'ill deem in outward Rites and specious formes', 'works of Faith', 'found: so shall the World goe on', 'good malignant', 'men benigne', 'own waight groaning', 'ill the day', 'respiration to the just', \"is'd to thy aid\", 'mans seed', 'rely then foretold', 'known thy Saviour and thy Lord', \"from Heav'n to be reveald\", 'is perverted World', 'rant mass', 'endless date', 'righteousness and peace and love', 'bring forth fruits Joy and eternal Bliss', \"last reply'd\", 'hath thy prediction', 'ransient World', 'is all abyss', 'ye can reach', 'instructed I shall hence depart', 'eatly in peace of thought', 'have my fill', 'is vessel can containe', 'was my folly to aspire', 'is best', 'love with feare the onely God', 'is presence', 'ever to observe', 'is works', 'coming evil', 'ishing great things', 'deemd weak', 'ply meek', 'suffering for Truths sake', 'ate of Life', 'is by his example whom I now', 'knowledge my Redeemer ever blest', \"last repli'd:\", 'is having learnt', 'hast attaind the summe', 'hope no higher', 'though all the Starrs', 'knewst by name', 'ereal Powers', 'rets of the deep', 'res works', \"works of God in Heav'n\", 'is World enjoydst', 'knowledge answerable', \"call'd Charitie\", 'rest: then wilt thou not be loath', 'leave this Paradise', 'shalt possess', 'ise within thee', 'is top', 'parting hence', 'see the Guards', 'yonder Hill', 'flaming Sword', 'waves fiercely round', 'stay: go', \"have calm'd\", 'ission: thou at season fit', 'take what thou hast heard', 'fly what may concern her Faith to know', 'liverance by her Seed to come', 'ye may live', 'be many dayes', 'though sad', 'cause for evils past', \"yet much more cheer'd\", 'happie end', 'end the Hill', 'ere EVE', 'sleeping ran before', \"found her wak't\", \"words not sad she him receav'd\", 'thou returnst', 'hither wentst', 'is also in sleep', 'reams advise', 'sent propitious', 'eat good', 'hearts distress', 'sleep: but now lead on', 'is no delay', 'thee to goe', 'stay here', 'ere to stay', 'go hence unwilling', 'thou to mee', 'places thou', 'isht hence', 'is further consolation yet secure', 'carry hence', 'is lost', 'favour I unworthie am voutsaft', \"is'd Seed shall all restore\", 'spake our Mother EVE', \"answer'd not\", 'ow too nigh', 'changel stood', 'from the other Hill', 'fixt Station', 'right array', \"is'n from a River o're the marish glides\", 'round fast at the Labourers heel', \"randisht Sword of God before them blaz'd\", 'rid heat', 'pour as the LIBYAN Air adust', 'ate Clime', 'hand the hastning Angel caught', 'ring Parents', 'hem direct', 'down the Cliff as fast', 'subjected Plaine', 'looking back', 'side beheld', 'ate thir happie seat', 'flaming Brand', \"readful Faces throng'd and fierie Armes:\", \"tears they drop'd\", 'hem soon', 'before them', 'ere to choose', 'place of rest', 'thir guide:', 'hand in hand with wandring steps and slow', 'took thir solitarie way', 'bidden tree whose mortal taste', 'eath into the World', 'ater Man', 'issful seat', 'ret top', 'chosen seed', 'beginning how the heavens and earth', 'light thee more', 'brook that flowed', 'aid to my adventurous song', 'light intends to soar', 'rose or rhyme', 'fly thou', 'dost prefer', 'heart and pure', \"thou know'st\", 'from the first', 'wings outspread', \"sat'st brooding on the vast Abyss\", 'is dark', 'is low raise and support', 'is great argument', 'assert Eternal Providence', 'justify the ways of God to men', 'hides nothing from thy view', 'say first what cause', 'rand parents', 'happy state', 'red of Heaven so highly', 'fall off', 'ransgress his will', 'seduced them to that foul revolt', 'infernal Serpent', 'was whose guile', 'red up with envy and revenge', 'is pride', 'from Heaven', 'is host', 'bel Angels', 'is peers', 'have equalled the Most High', 'gainst the throne and monarchy of God', 'ised impious war in Heaven and battle proud', 'vain attempt', \"from th' ethereal sky\", 'hideous ruin and combustion', 'ere to dwell', 'mantine chains and penal fire', \"durst defy th' Omnipotent to arms\", 'measures day and night', 'is horrid crew', 'rolling in the fiery gulf', 'is doom', 'served him to more wrath', 'ow the thought', 'lasting pain', 'round he throws his baleful eyes', 'witnessed huge affliction and dismay', 'ate pride and steadfast hate', 'situation waste and wild', 'sides round', 'eat furnace flamed', 'from those flames', 'iscover sights of woe', 'rest can never dwell', 'hope never comes', 'comes to all', 're without end', 'burning sulphur unconsumed', 'has prepared', 'ison ordained', 'utter darkness', 'light of Heaven', \"from the centre thrice to th' utmost pole\", 'from whence they fell', 'is fall', 'winds of tempestuous fire', 'is side', 'self in power', 'next in crime', 'known in Palestine', 'called Satan', 'rid silence', 'beest he--but O how fallen', 'realms of light', 'ranscendent brightness', 'thoughts and counsels', 'hazard in the glorious enterprise', 'isery hath joined', 'equal ruin', 'thou seest', 'fallen: so much the stronger proved', 'is thunder', 'ill then who knew', 'force of those dire arms', 'is rage', 'do I repent', 'changed in outward lustre', 'fixed mind', 'isdain from sense of injured merit', 'raised me to contend', 'brought along', 'force of Spirits armed', 'islike his reign', 'is utmost power with adverse power opposed', 'shook his throne', 'be lost', 'is not lost--the unconquerable will', 'study of revenge', 'submit or yield:', 'is else not to be overcome', 'is wrath or might', 'from me', 'bow and sue for grace', 'is power', 'is arm', 'is empire--that were low indeed', 'ere an ignominy and shame beneath', 'rength of Gods', 'is empyreal sybstance', 'is great event', 'arms not worse', 'oresight much advanced', 'hope resolve', 'force or guile eternal war', 'rand Foe', 'ow triumphs', 'holds the tyranny of Heaven', 'ate Angel', 'though in pain', 'racked with deep despair', 'answered soon his bold compeer:--', 'many throned Powers', \"led th' embattled Seraphim to war\", 'thy conduct', 'readful deeds', \"ered Heaven's perpetual King\", 'put to proof his high supremacy', 'held by strength', 'see and rue the dire event', 'throw and foul defeat', 'lost us Heaven', 'is mighty host', 'laid thus low', 'heavenly Essences', 'perish: for the mind and spirit remains', 'gour soon returns', 'happy state', 'swallowed up in endless misery', 'believe almighty', 'since no less', \"have o'erpowered such force as ours)\", 'left us this our spirit and strength entire', 'suffer and support our pains', 'is vengeful ire', 'is thralls', 'right of war', 'is business be', 'heart of Hell to work in fire', 'rands in the gloomy Deep', 'avail though yet we feel', 'go eternal punishment', \"ereto with speedy words th' Arch-Fiend replied:--\", 'is miserable', 'suffering: but of this be sure--', 'good never will be our task', 'do ill our sole delight', 'is high will', 'is providence', 'seek to bring forth good', 'be to pervert that end', 'find means of evil', 'succeed so as perhaps', 'grieve him', 'fail not', 'is inmost counsels from their destined aim', 'hath recalled', 'is ministers of vengeance and pursuit', 'ates of Heaven: the sulphurous hail', 'blown hath laid', 'from the precipice', 'received us falling', 'lightning and impetuous rage', 'is shafts', 'ceases now', 'boundless Deep', \"slip th' occasion\", 'satiate fury yield it from our Foe', 'reary plain', 'eat of desolation', 'void of light', 'glimmering of these livid flames', 'let us tend', 'sing of these fiery waves', 'rest can harbour there', 'assembling our afflicted powers', 'ow we may henceforth most offend', 'own loss how repair', 'come this dire calamity', 'gain from hope', 'from despair', 'arest mate', 'lift above the wave', 'sparkling blazed', 'is other parts besides', 'ended long and large', 'floating many a rood', 'name of monstrous size', 'red on Jove', 'areos or Typhon', 'is works', \"ated hugest that swim th' ocean-stream\", 'bering on the Norway foam', 'foundered skiff', 'some island', 'men tell', 'is scaly rind', 'is side under the lee', 'ished morn delays', 'stretched out huge in length the Arch-fiend lay', 'burning lake', 'ever thence', 'is head', 'ission of all-ruling Heaven', 'is own dark designs', 'ated crimes he might', 'self damnation', 'enraged might see', 'served but to bring forth', 'from off the pool', 'is mighty stature', 'hand the flames', 'pointing spires', \"leave i' th' midst a horrid vale\", 'is flight', 'bent on the dusky air', 'felt unusual weight', 'dry land', 'lights--if it were land that ever burned', 'ared in hue as when the force', 'ranean wind transports a hill', 'from Pelorus', 'shattered side', 'ring Etna', 'led entrails', 'conceiving fire', 'mineral fury', 'aid the winds', 'leave a singed bottom all involved', 'found the sole', 'blest feet', 'is next mate', 'have scaped the Stygian flood', 'covered strength', 'sufferance of supernal Power', 'is the region', 'is the soil', 'lost Archangel', 'is the seat', 'change for Heaven', 'is mournful gloom', 'is sovereign can dispose and bid', 'is best', 'hath equalled', 'made supreme', 'is equals', 'ere joy for ever dwells', 'possessor--one who brings', 'changed by place or time', 'is its own place', 'make a Heaven of Hell', 'matter where', 'be still the same', 'made greater', 'ere at least', 'be free', 'hath not built', 'is envy', 'drive us hence:', 'ere we may reign secure', 'is worth ambition', 'though in Hell:', 'reign in Hell than serve in Heaven', 'let we then our faithful friends', 'ates and co-partners of our loss', \"ished on th' oblivious pool\", 'are with us their part', 'is unhappy mansion', 'lied arms to try what may be yet', 'gained in Heaven', 'lost in Hell', 'answered:--\"Leader of those armies bright', 'have foiled', 'hear that voice', 'liveliest pledge', 'heard so oft', 'perilous edge', 'rest signal--they will soon resume', 'though now they lie', 'ate on yon lake of fire', 'fallen such a pernicious height', 'are had ceased when the superior Fiend', 'moving toward the shore', 'ponderous shield', 'is shoulders like the moon', 'ist views', 'from the top of Fesole', 'cry new lands', 'spotty globe', 'is spear--to equal which the tallest pine', 'be the mast', 'eat ammiral', 'ere but a wand--', 'walked with', 'support uneasy steps', 'burning marl', 'like those steps', 'rid clime', 'ore besides', 'vaulted with fire', 'ill on the beach', 'inflamed sea he stood', 'is legions--Angel Forms', 'lay entranced', 'leaves that strow the brooks', \"ere th' Etrurian shades\", 'arched embower', 'scattered sedge', 'winds Orion armed', 'vexed the Red-Sea coast', \"waves o'erthrew\", 'is and his Memphian chivalry', 'red they pursued', 'sojourners of Goshen', 'floating carcases', 'broken chariot-wheels', 'thick bestrown', 'ring the flood', 'hideous change', 'called so loud that all the hollow deep', 'lower of Heaven--once yours', 'ishment as this can seize', 'have ye chosen this place', 'toil of battle to repose', 'wearied virtue', 'ease you find', 'ber here', 'have ye sworn', 'dore the Conqueror', 'ow beholds', 'rolling in the flood', 'scattered arms and ensigns', 'pursuers from Heaven-gates discern', 'read us down', 'linked thunderbolts', 'ransfix us to the bottom of this gulf', 'be for ever fallen', 'ere abashed', 'wont to watch', 'sleeping found by whom they dread', 'bestir themselves ere well awake', 'did they not perceive the evil plight', 'fierce pains not feel', 'round the coast', 'called a pitchy cloud', 'warping on the eastern wind', 'realm of impious Pharaoh hung', 'darkened all the land of Nile', 'berless were those bad Angels seen', 'ring on wing under the cope of Hell', 'rounding fires', 'lifted spear', 'waving to direct', 'down they light', 'firm brimstone', 'fill all the plain:', 'like which the populous North', 'from her frozen loins to pass', 'barbarous sons', 'like a deluge on the South', 'eath Gibraltar to the Libyan sands', 'form every squadron and each band', 'hither haste where stood', 'godlike Shapes', 'sat on thrones', 'records now', 'blotted out and rased', 'from the Books of Life', 'had they yet among the sons of Eve', 'hem new names', \"ring o'er the earth\", 'sufferance for the trial of man', 'sities and lies the greatest part', 'corrupted to forsake', 'made them to transform', 'image of a brute', 'full of pomp and gold', 'dore for deities:', 'known to men by various names', 'dols through the heathen world', 'names then known', 'used from the slumber on that fiery couch', \"eat Emperor's call\", 'next in worth', 'stood on the bare strand', 'stood yet aloof', 'ere those who', 'from the pit of Hell', 'seek their prey on Earth', 'eat of God', 'is altar', 'durst abide', 'ring out of Sion', 'ween the Cherubim', 'is sanctuary itself their shrines', 'cursed things', 'is holy rites and solemn feasts profaned', 'is light', 'ared with blood', 'man sacrifice', \"arents' tears\", 'ise of drums and timbrels loud', 'heard that passed through fire', 'is grim idol', 'atery plain', 'gob and in Basan', 'utmost Arnon', 'isest heart', 'led by fraud to build', 'is temple right against the temple of God', 'made his grove', 'lack Gehenna called', \"read of Moab's sons\", 'roar to Nebo and the wild', 'flowery dale of Sibma clad with vines', 'is other name', 'from Nile', 'do him wanton rites', 'cost them woe', 'is lustful orgies he enlarged', 'ill of scandal', 'good Josiah drove them thence to Hell', 'came they who', 'from the bordering flood', 'ates to the brook that parts', 'is their essence pure', 'led with joint or limb', 'founded on the brittle strength of bones', 'hape they choose', 'ated or condensed', 'right or obscure', 'cute their airy purposes', 'love or enmity fulfil', 'oft forsook', 'requented left', 'is righteous altar', 'lowly down', 'bestial gods', 'down in battle', 'before the spear', 'rescent horns', 'right image nightly by the moon', 'donian virgins paid their vows and songs', 'led by fair idolatresses', 'dols foul', 'came next behind', 'wound in Lebanon allured', 'is fate', 'is from his native rock', 'supposed with blood', 'wounded: the love-tale', 'like heat', 'passions in the sacred porch', 'ision led', 'is eye surveyed the dark idolatries', 'lienated Judah', 'came one', 'mourned in earnest', 'aimed his brute image', 'hands lopt off', 'is own temple', 'fell flat and shamed his worshippers:', 'downward fish', 'had his temple high', 'ared in Azotus', 'readed through the coast', 'frontier bounds', 'followed Rimmon', 'lightful seat', 'gainst the house of God was bold:', 'gained a king--', 'is sottish conqueror', 'isparage and displace', 'ereon to burn', 'is odious offerings', 'dore the gods', 'had vanquished', 'rew who', 'names of old renown--', 'hapes and sorceries abused', 'gods disguised in brutish forms', 'did Israel scape', 'gold composed', 'bel king', 'led that sin in Bethel and in Dan', 'is Maker to the grazed ox--', 'born and all her bleating gods', 'came last', 'ore lewd', 'from Heaven', 'ore gross to love', 'yet who more oft than he', \"did Eli's sons\", 'violence the house of God', 'ere the noise', 'ascends above their loftiest towers', 'kens the streets', 'wander forth the sons', 'flown with insolence and wine', 'reets of Sodom', 'void worse rape', 'ere the prime in order and in might:', 'rest were long to tell', 'though far renowned', \"gods--of Javan's issue held\", 'confessed later than Heaven and Earth', 'boasted parents', 'is enormous brood', 'right seized', 'from mightier Jove', \"is own and Rhea's son\", 'like measure found', 'usurping reigned', 'owy top', 'led the middle air', 'turn old', \"led over Adria to th' Hesperian fields\", 'roamed the utmost Isles', 'came flocking', 'cast and damp', 'erein appeared', 'found their Chief', 'found themselves not lost', 'is countenance cast', 'doubtful hue', 'wonted pride', 'fainting courage', 'ispelled their fears', 'commands that', 'like sound', 'is mighty standard', 'honour claimed', 'is right', 'from the glittering staff unfurled', 'full high advanced', 'meteor streaming to the wind', 'golden lustre rich emblazed', 'arms and trophies', 'metal blowing martial sounds:', \"tore Hell's concave\", 'reign of Chaos and old Night', 'ere seen', 'rise into the air', 'waving: with them rose', 'rest huge of spears', 'thronging helms', 'serried shields in thick array', 'perfect phalanx to the Dorian mood', 'soft recorders--such as raised', 'blest temper heroes old', 'berate valour breathed', 'light or foul retreat', 'ate and swage', 'touches troubled thoughts', 'ish and doubt and fear and sorrow and pain', 'fixed thought', 'soft pipes that charmed', 'burnt soil', 'stand--a horrid front', 'readful length and dazzling arms', 'ered spear and shield', 'waiting what command their mighty Chief', 'armed files', 'is experienced eye', 'views--their order due', 'isages and stature as of gods', 'last he sums', 'is heart', 'istends with pride', 'is strength', 'ated Man', 'died force as', 'named with these', 'ore than that small infantry', 'ranes--though all the giant brood', 'ere joined', 'fought at Thebes and Ilium', \"mance of Uther's son\", 'ish and Armoric knights', 'baptized or infidel', 'sent from Afric shore', 'is peerage fell', 'are of mortal prowess', 'read Commander', 're proudly eminent', 'like a tower', 'had yet not lost', 'changel ruined', 'red: as when the sun new-risen', 'isty air', 'is beams', 'from behind the moon', 'dim eclipse', 'light sheds', 'fear of change', 'is face', 'had intrenched', 'faded cheek', 'ate pride', 'is eye', 'remorse and passion', 'fellows of his crime', 'followers rather', 'beheld in bliss)', 'have their lot in pain--', 'is fault amerced', 'from eternal splendours flung', 'is revolt--yet faithful how they stood', \"heaven's fire\", 'rest oaks or mountain pines', 'ately growth', 'lasted heath', 'ow prepared', 'ranks they bend', 'wing to wing', 'close him round', 'is peers: attention held them mute', 'spite of scorn', 'burst forth: at last', 'found out their way:--', 'was dire', 'is place testifies', 'is dire change', 'ateful to utter', 'ower of mind', 'seeing or presaging', 'from the depth', 'knowledge past or present', 'have feared', 'force of gods', 'stood like these', 'know repulse', 'yet believe', 'though after loss', 'issant legions', 'tied Heaven', 'fail to re-ascend', 'repossess their native seat', 'be witness all the host of Heaven', 'counsels different', 'have lost our hopes', 'ill then as one secure', 'is throne', 'held by old repute', 'sent or custom', 'is regal state', 'is strength concealed--', 'tempted our attempt', 'wrought our fall', 'is might we know', 'know our own', 'better part remains', 'close design', 'force effected not', 'from us may find', 'come but half his foe', 'produce new Worlds', 'ereof so rife', 'went a fame in Heaven that he ere long', 'ended to create', 'erein plant', 'is choice regard', 'equal to the Sons of Heaven', 'be perhaps', 'is infernal pit shall never hold', 'counsel must mature', 'is despaired', 'think submission', 'pen or understood', 'be resolved', 'is words', 'flaming swords', 'drawn from the thighs', 'den blaze', 'round illumined Hell', 'gainst the Highest', 'sped arms', 'lashed on their sounding shields the din of war', 'oward the vault of Heaven', 'stood a hill not far', 'isly top', 're and rolling smoke', 'rest entire', 'doubted sign', 'hid metallic ore', 'work of sulphur', 'winged with speed', 'hastened: as when bands', 'run the royal camp', 'rench a field', 'cast a rampart', 'led them on--', 'erected Spirit that fell', 'looks and thoughts', 'ere always downward bent', \"heaven's pavement\", 'aught divine or holy else enjoyed', 'ision beatific', 'is suggestion taught', 'led the bowels of their mother Earth', 'better hid', 'had his crew', 'ill a spacious wound', 'digged out ribs of gold', 'grow in Hell', 'serve the precious bane', 'let those', 'boast in mortal things', 'wondering tell', 'works of Memphian kings', 'atest monuments of fame', 'are easily outdone', 'hands innumerable', 'many cells prepared', 'had veins of liquid fire', 'from the lake', 'founded the massy ore', 'ring each kind', 'scummed the bullion-dross', 'formed within the ground', 'from the boiling cells', 'filled each hollow nook', 'from one blast of wind', 'sound-board breathes', 'arth a fabric huge', 'like an exhalation', 'like a temple', 'lasters round', 'illars overlaid', 'golden architrave', 'did there want', 'res graven', 'was fretted gold', 'eat Alcairo such magnificence', 'led in all their glories', 'is their gods', 'ascending pile', 'fixed her stately height', 'pening their brazen folds', \"paces o'er the smooth\", 'from the arched roof', 'endent by subtle magic', 'many a row', 'blazing cressets', 'from a sky', 'hasty multitude', 'work some praise', 'some the architect', 'is hand was known', 'ered structure high', 'held their residence', 'sat as Princes', 'reme King', 'gave to rule', 'is Hierarchy', 'heard or unadored', 'called him Mulciber', 'ow he fell', 'thrown by angry Jove', 'crystal battlements: from morn', 'from noon to dewy eve', 'setting sun', 'from the zenith', 'falling star', 'is rebellious rout', 'led him now', 'have built in Heaven high towers', 'did he scape', 'is engines', 'was headlong sent', 'is industrious crew', 'build in Hell', 'winged Heralds', 'ereign power', 'be held', 'is peers', 'summons called', 'ared regiment', 'hiest: they anon', 'reds and with thousands trooping came', 'was thronged', 'covered field', 'ere champions bold', 'ride in armed', 'best of Paynim chivalry', 'areer with lance)', 'round and in the air', 'rushed with the hiss of rustling wings', 'resh dews and flowers', 'smoothed plank', 'built citadel', 'bed with balm', 'ate-affairs: so thick the airy crowd', 'warmed and were straitened', 'hold a wonder', 'ow who seemed', \"pass Earth's giant sons\", 'ow less than smallest dwarfs', 'ow room', 'like that pygmean race', 'belated peasant sees', 'reams he sees', 'arer to the Earth', 'ourse: they', 'mirth and dance', 'harm his ear', 'heart rebounds', 'oreal Spirits to smallest forms', 'hapes immense', 'ere at large', 'ber still', 'infernal court', 'like themselves', 'eat Seraphic Lords and Cherubim', 'close recess and secret conclave sat', 'gods on golden seats', 'requent and full', 'summons read', 'consult began', 'shone the wealth or Ormus and of Ind', 'gorgeous East with richest hand', 'owers on her kings barbaric pearl and gold', 'exalted sat', 'merit raised', 'lifted beyond hope', 'satiate to pursue', 'is proud imaginations thus displayed:--', 'since no deep within her gulf can hold', 'pressed and fallen', 'is descent', 'rising will appear', 'read than from no fall', 'fear no second fate', 'though just right', 'fixed laws of Heaven', 'ate your leader--next', 'besides in council or in fight', 'is loss', 'least recovered', 'hath much more', 'ished in a safe', 'full consent', 'happier state', 'follows dignity', 'from each inferior', 'ill envy whom the highest place exposes', \"gainst the Thunderer's aim\", 'atest share', 'endless pain', 'ere there is', 'grow up there', 'aim in Hell', 'is so small', 'sent pain that with ambitious mind', 'ill covet more', 'is advantage', 'firm faith', 'firm accord', 'be in Heaven', 'ow return', 'aim our just inheritance of old', 'prosper than prosperity', 'assured us', 'best way', 'open war or covert guile', 'ow debate', 'ise may speak', 'next him Moloch', 'fiercest Spirit', 'fought in Heaven', 'ow fiercer by despair', \"is trust was with th' Eternal to be deemed\", 'be less', 'ared not to be at all', 'are lost', 'is fear: of God', 'recked not', 'ereafter spake:--', 'sentence is for open war', 'let those', 'sit contriving', 'stand in arms', 'longing wait', 'sit lingering here', 'is dark opprobrious den of shame', 'ranny who reigns', 'let us rather choose', 'flames and fury', 'istless way', 'rid arms', 'gainst the Torturer', 'meet the noise', 'is almighty engine', 'shot with equal rage', 'is Angels', 'is throne itself', 'arean sulphur and strange fire', 'is own invented torments', 'seems difficult', 'gainst a higher foe', 'bethink them', 'sleepy drench', 'getful lake benumb not still', 'oper motion we ascend', 'is adverse', 'felt of late', 'broken rear', 'pursued us through the Deep', 'compulsion and laborious flight', 'sunk thus low', 'is easy', 'is feared', 'gain provoke', 'is wrath may find', 'be in Hell', 'be worse destroyed', 'be worse', 'dwell here', 'from bliss', 'is abhorred deep to utter woe', 'ishable fire', 'ise us without hope of end', 'is anger', 'ring hour', 'destroyed than thus', 'be quite abolished', 'fear we then', 'doubt we to incense', 'is utmost ire', 'ill either quite consume us', 'sential--happier far', 'have eternal being', 'be indeed divine', 'cease to be', 'are at worst', 'is side nothing', 'isturb his Heaven', 'is fatal throne:', 'is yet revenge', 'ended frowning', 'look denounced', 'side up rose', 'ore graceful and humane', 'lost not Heaven', 'was false and hollow', 'is tongue', 'make the worse appear', 'better reason', 'is thoughts were low--', 'pleased the ear', 'open war', 'behind in hate', 'was urged', 'persuade immediate war', 'issuade me most', 'seem to cast', 're on the whole success', 'excels in fact of arms', 'counsels and in what excels', 'rounds his courage on despair', 'utter dissolution', 'is aim', 're revenge', 'are filled', 'armed watch', 'render all access', 'ring Deep', 're wing', 'realm of Night', 'break our way', 'heels all Hell should rise', 'lackest insurrection to confound', 'rest light', 'eat Enemy', 'is throne', 'ereal mould', 'purge off the baser fire', 'is rage', 'end us', 'be our cure--', 'be no more', 'full of pain', 'tellectual being', 'thoughts that wander through eternity', 'perish rather', 'swallowed up and lost', 'ated Night', 'void of sense and motion', 'is be good', 'give it', 'ill ever', 'ow he can', 'is sure', 'is ire', 'like through impotence or unaware', 'is enemies their wish', 'is anger whom his anger saves', 'ish endless', 'cease we', 'counsel war', 'are decreed', 'destined to eternal woe', 'suffer more', 'suffer worse', 'led amain', 'pursued and struck', 'afflicting thunder', 'shelter us', 'is Hell then seemed', 'from those wounds', 'burning lake', 'was worse', 'kindled those grim fires', 'blow them into sevenfold rage', 'plunge us in the flames', 'from above', 'intermitted vengeance arm again', 'is red right hand to plague us', 'tores were opened', 'is firmament', 'spout her cataracts of fire', 'hideous fall', 'exhorting glorious war', 'aught in a fiery tempest', 'be hurled', 'rock transfixed', 'racking whirlwinds', 'ever sunk', 'boiling ocean', 'wrapt in chains', 'lasting groans', 'hopeless end', 'is would be worse', 'open or concealed', 'force or guile', 'is mind', \"from Heaven's height\", 'sees and derides', 'ist our might', 'ise to frustrate all our plots and wiles', 'live thus vile--the race of Heaven', 'suffer here', 'ate inevitable', 'is equal', 'is was at first resolved', 'ere wise', 'gainst so great a foe', 'doubtful what might fall', 'are bold', 'fail them', 'know must follow--to endure', 'sentence of their Conqueror', 'is is now', 'sustain and bear', 'reme Foe in time may much remit', 'mind us not offending', 'is punished', 'raging fires', 'is breath stir not their flames', 'ill overcome', 'changed at length', 'place conformed', 'temper and in nature', 'fierce heat', 'void of pain', 'grow mild', 'is darkness light', 'ending flight', 're days may bring', 'sent lot appears', 'though but ill', 'ill not worst', 'ore woe', \"clothed in reason's garb\", 'led ignoble ease and peaceful sloth', 'senthrone the King of Heaven', 'be best', 'own right lost', 'unthrone we then', 'lasting Fate shall yield', 'fickle Chance', 'judge the strife', 'vain to hope', 'argues as vain', 'be for us', 'ish grace to all', 'ise made', 'yes could we', 'is presence humble', 'is throne', 'led hymns', 'is Godhead sing', 'envied sovereign', 'is altar breathes', 'dours and ambrosial flowers', 'is must be our task', 'is our delight', 'spent in worship paid', 'force impossible', 'leave obtained', 'though in Heaven', 'did vassalage', 'good from ourselves', 'from our own', 'is vast recess', 'ree and to none accountable', 'berty before the easy yoke', 'eatness will appear', 'eat things of small', 'prosperous of adverse', \"place soe'er\", 'work ease out of pain', 'labour and endurance', 'is deep world', 'do we dread', 'ow oft amidst', \"doth Heaven's all-ruling Sire\", 'is glory unobscured', 'is throne', 'from whence deep thunders roar', 'ring their rage', 'resembles Hell', 'is light', 'ate when we please', 'is desert soil', 'hidden lustre', 'kill or art from whence to raise', 'show more', 'torments also may', 'come our elements', 'piercing fires', 'soft as now severe', 'temper changed', 'needs remove', 'led state', 'best we may', 'sent evils', 'are and where', 'thoughts of war', 'have what I advise', 'had finished', 'murmur filled', 'rocks retain', 'ring winds', 'used the sea', 'ow with hoarse cadence lull', \"ring men o'erwatched\", 'bark by chance', 'was heard', 'sentence pleased', 'ising peace: for such another field', 'readed worse than Hell', 'ill within them', 'found this nether empire', 'site to Heaven', 'perceived--than whom', 'sat--with grave', 'rising seemed', 'illar of state', 'is front engraven', 'is face yet shone', 'though in ruin', 'fit to bear', 'weight of mightiest monarchies', 'dience and attention still as night', 'ere to continue', 'build up here', 'growing empire', 'know not that the King of Heaven hath doomed', 'is place our dungeon', 'is potent arm', 'live exempt', 'is throne', 'though thus far removed', 'is captive multitude', 'be sure', 'last will reign', 'is kingdom lose no part', 're rule', 'golden those in Heaven', 'sit we then projecting peace and war', 'led with loss', 'yet none', 'fed or sought', 'be given', 'stripes and arbitrary punishment', 'plotting how the Conqueror least', 'is conquest', 'least rejoice', 'suffering feel', 'ill occasion want', 'fear no assault or siege', 'from the Deep', 'easier enterprise', 'is a place', 'happy seat', 'some new race', 'is time', 'like to us', 'ower and excellence', 'red more', 'rules above', 'is will', \"shook Heaven's whole circumference confirmed\", 'let us bend all our thoughts', 'ere inhabit', 'ere their weakness: how attempted best', 'force of subtlety', 'be shut', 'sit secure', 'is own strength', 'lie exposed', 'is kingdom', 'hold it: here', 'be achieved', 'set--either with Hell-fire', 'is whole creation', 'ere driven', 'hem to our party', 'prove their foe', 'repenting hand', 'ish his own works', 'is would surpass', 'is joy', 'joy upraise', 'is disturbance', 'is darling sons', 'take with us', 'faded bliss--', 'ise if this be worth', 'sit in darkness here', 'vain empires', 'is devilish counsel--first devised', 'art proposed: for whence', 'from the author of all ill', 'found the race', 'mankind in one root', 'arth with Hell', 'mingle and involve', 'done all to spite', 'eat Creator', 'ill serves', 'is glory to augment', 'eased highly those infernal States', 'led in all their eyes: with full assent', 'is speech he thus renews:--', 'have ye judged', 'ended long debate', 'like to what ye are', 'eat things resolved', 'from the lowest deep', 'lift us up', 'spite of fate', 'arer our ancient seat--perhaps in view', 'right confines', 'ring arms', 'some mild zone', \"sited of Heaven's fair light\", 'rightening orient beam', 'is gloom: the soft delicious air', 'heal the scar of these corrosive fires', 'eathe her balm', 'is new World', 'ring feet', 'find out', 'is uncouth way', 'spread his airy flight', 'borne with indefatigable wings', 'ere he arrive', 'happy Isle', 'bear him safe', 'senteries and stations thick', 'watching round', 'had need', 'ow no less', 'weight of all', 'last hope', 'expectation held', 'look suspense', 'waiting who appeared', 'perilous attempt', 'sat mute', 'ring the danger with deep thoughts', 'read his own dismay', 'be found', 'proffer or accept', 'readful voyage', 'ranscendent glory raised', 'is fellows', 'moved thus spake:--', 'hath deep silence and demur', 'is the way', 'leads up to light', 'ison strong', 'is huge convex of fire', 'res us round', 'burning adamant', 'red over us', 'prohibit all egress', 'void profound', 'sential Night receives him next', 'utter loss of being', 'plunged in that abortive gulf', 'atever world', 'known region', 'remains him less', 'known dangers', 'come this throne', 'is imperial sovereignty', 'armed with power', 'aught proposed', 'judged of public moment in the shape', 'from attempting', 'erefore do I assume', 'refuse to reign', 'sing to accept as great a share', 'hazard as of honour', 'ore as he above the rest', 'red sits', 'error of Heaven', 'tend at home', 'be our home', 'best may ease', 'sent misery', 'render Hell', 'be cure or charm', 'lack the pain', 'is ill mansion: intermit no watch', 'gainst a wakeful foe', 'coasts of dark destruction seek', 'liverance for us all', 'take with me', 'prevented all reply', 'is resolution raised', 'offer now', 'be refused', 'erst they feared', 'winning cheap the high repute', 'hazard huge must earn', \"readed not more th' adventure than his voice\", 'rising all at once was as the sound', 'heard remote', 'owards him they bend', 'erence prone', 'equal to the Highest in Heaven', 'failed they to express how much they praised', 'is own: for neither do the Spirits damned', 'men should boast', 'deeds on earth', \"close ambition varnished o'er with zeal\", 'consultations dark', 'rejoicing in their matchless Chief:', 'from mountain-tops the dusky clouds', 'wind sleeps', 'heerful face', 'ring element', 'darkened landscape snow or shower', 'chance the radiant sun', 'arewell sweet', 'is evening beam', 'fields revive', 'notes renew', 'eating herds', 'ill and valley rings', 'shame to men', 'men only disagree', 'eatures rational', 'though under hope', 'heavenly grace', 'aiming peace', 'live in hatred', 'ruel wars', 'induce us to accord)', 'had not hellish foes enow besides', 'is destruction wait', 'came the grand infernal Peers:', 'came their mighty Paramount', 'gonist of Heaven', 'read Emperor', 'god-like imitated state: him round', 'be of fiery Seraphim enclosed', 'right emblazonry', 'rent arms', 'ended they bid cry', 'eat result:', 'oward the four winds four speedy Cherubim', 'sounding alchemy', 'hollow Abyss', 'eard far and wide', 'turned them loud acclaim', 'ore at ease their minds', 'somewhat raised', 'resumptuous hope', 'ranged Powers', 'is several way', 'liest find', 'is restless thoughts', 'some hours', 'is great Chief return', 'art on the plain', 'wing or in swift race contend', 'curb their fiery steeds', 'shun the goal', 'fronted brigades form:', 'warn proud cities', 'led sky', 'armies rush', 'before each van', 'couch their spears', 'ill thickest legions close', 'eats of arms', 'end of heaven the welkin burns', 'rocks and hills', 'ride the air', 'holds the wild uproar:--', 'from Oechalia crowned', \"felt th' envenomed robe\", 'roots Thessalian pines', 'from the top of Oeta threw', 'ated in a silent valley', 'many a harp', 'own heroic deeds', 'hapless fall', 'doom of battle', 'complain that Fate', 'ree Virtue should enthrall to Force or Chance', 'was partial', 'took with ravishment', 'thronging audience', 'iscourse more sweet', 'harms the Sense)', 'sat on a hill retired', 'thoughts more elevate', 'reasoned high', 'found no end', 'ring mazes lost', 'good and evil much they argued then', 'happiness and final misery', 'isdom all', 'sing sorcery', 'red breast', 'born patience as with triple steel', 'iscover wide', 'ismal world', 'yield them easier habitation', 'flying march', 'infernal rivers', 'burning lake their baleful streams--', 'lack and deep', 'named of lamentation loud', 'rueful stream', 'rent fire inflame with rage', 'from these', 'low and silent stream', 'atery labyrinth', 'ereof who drinks', 'is former state and being forgets--', 'gets both joy and grief', 're and pain', 'is flood a frozen continent', 'beat with perpetual storms', 're hail', 'firm land', 'gathers heap', 'ruin seems', 'ow and ice', 'found as that Serbonian bog', 'twixt Damiata and Mount Casius old', 'have sunk: the parching air', \"performs th' effect of fire\", 'footed Furies haled', 'revolutions all the damned', 'feel by turns the bitter change', 'fierce extremes', 'change more fierce', 'beds of raging fire to starve in ice', 'ereal warmth', 'ere to pine', 'frozen round', 'hurried back to fire', 'is Lethean sound', 'ow to augment', 'ish and struggle', 'tempting stream', 'drop to lose', 'getfulness all pain and woe', 'ear the brink', 'ate withstands', \"oppose th' attempt\", 'gonian terror guards', 'ater flies', 'living wight', 'roving on', 'used march forlorn', 'ring horror pale', 'yes aghast', 'lamentable lot', 'reary vale', 'region dolorous', 'many a frozen', 'many a fiery alp', 'hades of death--', 'ere all life dies', 're breeds', 'have feigned or fear conceived', 'thoughts inflamed of highest design', 'ates of Hell', 'light: sometimes', 'hand coast', 'metimes the left', 'haves with level wing the deep', 'ring high', 'from Bengala', 'ate and Tidore', 'stemming nightly toward the pole: so seemed', 'flying Fiend', 'last appear', 'reaching to the horrid roof', 'reefold the gates', 'ere brass', 'ree of adamantine rock', 'led with circling fire', 'ates there sat', 'side a formidable Shape', 'seemed woman to the waist', 'ended foul in many a scaly fold', 'pent armed', 'cry of Hell-hounds never-ceasing barked', 'berean mouths full loud', 'hideous peal', 'isturbed their noise', 'ere still barked and howled', 'red than these', 'bathing in the sea that parts', 'from the hoarse Trinacrian shore', 'lier follow the night-hag', 'riding through the air she comes', 'red with the smell of infant blood', 'ring moon', 'called that shape had none', 'istinguishable in member', 'called that shadow seemed', 'stood as Night', 'errible as Hell', 'readful dart: what seemed his head', 'had on', 'was now at hand', 'is seat', 'came as fast', 'rid strides', 'trembled as he strode', 'is might be admired--', 'ared (God and his Son except', 'ated thing naught valued he nor shunned)', 'look thus first began:--', 'art thou', 'though grim and terrible', 'iscreated front athwart my way', 'yonder gates', 'mean to pass', 'be assured', 'asked of thee', 'taste thy folly', 'learn by proof', 'contend with Spirits of Heaven', 'full of wrath', 'thou that traitor Angel', 'art thou he', 'broke peace in Heaven and faith', 'bellious arms', \"rew after him the third part of Heaven's sons\", 'gainst the Highest--for which both thou', 'from God', 'are here condemned', 'waste eternal days in woe and pain', 'self with Spirits of Heaven', 'ere and scorn', 'ere I reign king', 'thee more', 'thy punishment', 'add wings', 'is dart', 'range horror seize thee', 'felt before', 'isly Terror', 'speaking and so threatening', 'readful and deform', 'comet burned', 'res the length of Ophiuchus huge', 'is horrid hair', 'is deadly aim', \"cast at th' other as when two black clouds\", 'illery fraught', 'came rattling on', 'front to front', 'ring a space', 'ill winds the signal blow', 'join their dark encounter in mid-air', 'frowned the mighty combatants that Hell', 'rew darker at their frown', 'matched they stood', 'was wither like', 'meet so great a foe', 'eat deeds', 'been achieved', 'had rung', 'kept the fatal key', 'cry rushed between', 'intends thy hand', 'gainst thy only son', 'bend that mortal dart', \"gainst thy father's head\", \"know'st for whom\", 'sits above', 'laughs the while', 'is drudge to execute', 'is wrath', 'calls justice', 'destroy ye both', 'ish Pest', 'bore: then these to her Satan returned:--', 'range thy outcry', 'thy words so strange', 'den hand', 'tell thee yet by deeds', 'know of thee', 'thou art', 'is infernal vale first met', \"call'st my son\", 'know thee not', 'saw till now', 'ore detestable than him and thee', 'ate replied:--', 'got me', 'do I seem', 'ye so foul', 'deemed so fair', 'thee combined', \"gainst Heaven's King\", 'iserable pain', 'yes and dizzy swum', 'flames thick and fast', 'left side opening wide', 'thee in shape and countenance bright', 'shining heavenly fair', 'goddess armed', 'thy head I sprung', 'led afraid', 'called me Sin', 'held me', 'active graces won', 'thee chiefly', 'self in me thy perfect image viewing', \"thou took'st\", 'ret that my womb conceived', 'growing burden', 'fought in Heaven: wherein remained', 'art loss and rout', 'own they fell', 'from the pitch of Heaven', 'is Deep', 'is powerful key', 'hands was given', 'ates for ever shut', 'thout my opening', 'ere I sat', 'sat not', 'ill my womb', 'regnant by thee', 'ow excessive grown', 'felt and rueful throes', 'is odious offspring whom thou seest', 'own begotten', 'breaking violent way', 'ore through my entrails', 'fear and pain', 'hape thus grew', 'formed: but he my inbred enemy', 'randishing his fatal dart', 'cried out Death', 'trembled at the hideous name', 'back resounded Death', 'pursued (though more', 'flamed with lust than rage)', 'embraces forcible and foul', 'ring with me', 'yelling monsters', 'ceaseless cry', \"saw'st--hourly conceived\", 'ow infinite', 'red them they return', 'vex me round', 'ission none I find', 'sition sits', 'set them on', 'full soon devour', 'want of other prey', 'is end with mine involved', 'knows that I', 'prove a bitter morsel', 'is bane', 'be: so Fate pronounced', 'warn thee', 'is deadly arrow', 'vainly hope', 'be invulnerable in those bright arms', 'ered heavenly', 'reigns above', 'is lore', 'answered smooth:--', \"aim'st me for thy sire\", \"ere show'st me\", 'ear pledge', 'had with thee in Heaven', 'ow sad to mention', 're change', 'fallen us unforeseen', 'come no enemy', 'set free', 'is dark and dismal house of pain', 'heavenly host', 'retences armed', 'from on high', 'hem I go', 'rand sole', 'founded Deep', 'void immense', 'ring quest', 'place foretold', 'ring signs', 'round--a place of bliss', 'lieus of Heaven', 'erein placed', 'start creatures', 'haps our vacant room', 'ore removed', 'surcharged with potent multitude', 'move new broils', 'is more secret', 'is once known', 'bring ye to the place where thou and Death', 'dwell at ease', 'down unseen', 'lently the buxom air', 'be fed and filled', 'be your prey', 'seemed highly pleased', 'hastly smile', 'is famine should be filled', 'is maw', 'good hour', 'is mother bad', 'bespake her sire:--', 'is infernal Pit', \"mand of Heaven's all-powerful King\", 'bidden to unlock', 'mantine gates', 'gainst all force', 'ready stands to interpose his dart', 'living might', 'is commands above', 'ates me', 'thrust me down', 'is gloom of Tartarus profound', 'sit in hateful office here confined', 'heavenly born--', 'gony and pain', 'passed round', 'mine own brood', 'bowels feed', 'art my father', 'thou my author', \"being gav'st me\", 'bring me soon', 'light and bliss', 'live at ease', 'ere I shall reign', 'hand voluptuous', 'aughter and thy darling', 'from her side the fatal key', 'ment of all our woe', 'bestial train', 'is high up-drew', 'have moved', 'ate wards', 'every bolt and bar', 'rock with ease', 'open fly', 'ring sound', 'infernal doors', 'lowest bottom shook', 'led her power: the gates wide open stood', 'ended wings a bannered host', 'spread ensigns marching', 'pass through', 'ranked in loose array', 'like a furnace-mouth', 'smoke and ruddy flame', 'yes in sudden view appear', 'rets of the hoary Deep--a dark', 'ere eldest Night', 'endless wars', 'ere for mastery', 'round the flag', 'is faction', 'everal clans', 'armed or heavy', 'bered as the sands', 'rid soil', 'ring winds', 'lighter wings', 'rules a moment: Chaos umpire sits', 'ision more embroils the fray', 'reigns: next him', 'governs all', 'is wild Abyss', 'womb of Nature', 'haps her grave', 'uses mixed', 'ever fight', 'hem ordain', 'is dark materials to create more worlds--', 'is wild Abyss the wary Fiend', 'looked a while', 'is voyage', 'ow frith', 'had to cross', 'is ear less pealed', 'ises loud and ruinous (to compare', 'eat things with small) than when Bellona storms', 'ring engines', 'bent to rase', 'is frame', 'ere falling', 'had from her axle torn', 'is sail-broad vans', 'spread for flight', 'surging smoke', 'spurns the ground', 'many a league', 'cloudy chair', 'eat soon failing', 'is pennons vain', 'down he drops', 'thousand fathom deep', 'is hour', 'had been falling', 'ill chance', 'rebuff of some tumultuous cloud', 're and nitre', 'many miles aloft', 'boggy Syrtis', 'good dry land--nigh foundered', 'reading the crude consistence', 'behoves him now both oar and sail', 'winged course', 'ill or moory dale', 'sues the Arimaspian', 'is wakeful custody purloined', 'guarded gold', 'bog or steep', 'pursues his way', 'hollow dark', 'is ear', 'hither he plies', 'meet there whatever Power', 'ise reside', 'arest coast of darkness lies', 'ring on light', 'hold the throne', 'is dark pavilion spread', 'wasteful Deep', 'vested Night', 'is reign', 'hem stood', 'readed name', 'iscord with a thousand various mouths', 'is nethermost Abyss', 'come no spy', 'ore or to disturb', 'rets of your realm', 'is darksome desert', 're up to light', 'thout guide', 'readiest path leads where your gloomy bounds', 'some other place', 'dominion won', 'ereal King', 'hither to arrive', 'is profound', 'rect my course:', 'mean recompense it brings', 'region lost', 'usurpation thence expelled', 'sent journey)', 'standard there of ancient Night', \"be th' advantage all\", 'mine the revenge', 'isage incomposed', 'know thee', 'thou art--', 'leading Angel', \"gainst Heaven's King\", 'saw and heard', 'led not in silence through the frighted Deep', 'ruin upon ruin', 'illions her victorious bands', 'frontiers here', 'ill serve', 'left so to defend', 'ill through our intestine broils', 're of old Night: first', 'retching far and wide beneath', 'ately Heaven and Earth', 'golden chain', 'from whence your legions fell', 'be your walk', 'have not far', 'arer danger', 'are my gain', 'stayed not to reply', 'find a shore', 'force renewed', 'like a pyramid of fire', 'fighting elements', 'sides round', 'is way', 'go passed', 'twixt the justling rocks', 'oard shunned', 'labour hard', 'labour he', 'eath amain', 'is track (such was the will of Heaven)', 'beaten way', 'boiling gulf', 'wondrous length', \"reaching th' utmost orb\", 'is frail World', 'pass to and fro', 'ish mortals', 'good Angels guard by special grace', 'last the sacred influence', 'light appears', 'from the walls of Heaven', 'dim Night', 'glimmering dawn', 'ere Nature first begins', 'arthest verge', 'from her outmost works', 'broken foe', 'ow with ease', 'wave by dubious light', 'beaten vessel', 'though shrouds and tackle torn', 'spread wings', 'isure to behold', 'real Heaven', 'are or round', 'owers and battlements adorned', 'living sapphire', 'is native seat', 'golden chain', 'is pendent World', 'close by the moon', 'ischievous revenge', 'cursed hour', 'ring of Heaven firstborn', \"thee unblam'd\", 'is light', 'approached light', 'from eternity', 'dwelt then in thee', 'right effluence of bright essence increate', \"hear'st thou rather pure ethereal stream\", 'fountain who shall tell', 'before the sun', 'ore the Heavens thou wert', 'rising world of waters dark and deep', 'from the void and formless infinite', 'sit now with bolder wing', \"though long detain'd\", 're sojourn', 'utter and through middle darkness borne', 'notes than to the Orphean lyre', 'sung of Chaos and eternal Night', 'venture down', 'are:  Thee I revisit safe', 'ran vital lamp', \"sit'st not these eyes\", 'roll in vain', 'find thy piercing ray', 'find no dawn', \"drop serene hath quench'd their orbs\", \"dim suffusion veil'd\", 'ease I to wander', 'uses haunt', 'hady grove', 'love of sacred song', 'flowery brooks beneath', \"wash thy hallow'd feet\", 'warbling flow', 'sit:  nor sometimes forget', \"ere I equall'd with them in renown\", 'ran command', 'find grace', 'feed on thoughts', 'wakeful bird', 'hadiest covert hid', 'turnal note', 'approach of even or morn', 'sight of vernal bloom', 'man face divine', 'cloud instead', 'ring dark', 'from the cheerful ways of men', 'knowledge fair', 'sented with a universal blank', \"works to me expung'd and ras'd\", 'rance quite shut out', 'mind through all her powers', 'ere plant eyes', 'ist from thence', 'urge and disperse', 'see and tell', 'isible to mortal sight', 'had the Almighty Father from above', 'ere he sits', 'is eye', 'is own works and their works at once to view:', 'thick as stars', \"is sight receiv'd\", 'eatitude past utterance', 'is right', 'is glory sat', 'is only son', 'arth he first beheld', 'yet the only two', \"mankind in the happy garden plac'd\", 'joy and love', 'issful solitude', 'is side Night', 'ready now', 'stoop with wearied wings', 'illing feet', 'are outside of this world', 'holding from his prospect high', 'seeing spake', 'gotten Son', 'seest thou what rage', 'ransports our Adversary', \"rescrib'd no bars of Hell\", 'yet the main abyss', 'bent he seems', 'ate revenge', 'is own rebellious head', 'broke loose', 'is way', 'recincts of light', 'ated world', \"ere plac'd\", 'force he can destroy', 'guile pervert', 'hearken to his glozing lies', 'ransgress the sole command', 'is obedience:  So will fall', 'is faithless progeny:  Whose fault', 'is own', 'had of me', 'made him just and right', 'have stood', 'ree to fall', 'ated all the ethereal Powers', 'hem who stood', \"hem who fail'd\", 'stood who stood', 'fell who fell', 'have given sincere', 'rue allegiance', 'faith or love', \"needs must do appear'd\", 'ise could they receive', 'from such obedience paid', 'is choice)', \"dom both despoil'd\", 'passive both', \"had serv'd necessity\", \"right belong'd\", 'ere created', \"redestination over-rul'd\", \"ispos'd by absolute decree\", 'knowledge they themselves decreed', 'own revolt', 'knowledge had no influence on their fault', 'had no less proved certain unforeknown', 'hadow of fate', 'aught by me immutably foreseen', 'hemselves in all', 'ree: and free they must remain', 'ill they enthrall themselves', 'revoke the high decree', \"dom: they themselves ordain'd their fall\", 'own suggestion fell', \"self-deprav'd:  Man falls\", 'find grace', 'rightest shine', \"rance fill'd\", 'blessed Spirits elect', \"joy ineffable diffus'd\", 'are the Son of God was seen', 'is Father shone', 'is face', \"passion visibly appear'd\", 'thout end', 're grace', 'is Father spake', \"was that word which clos'd\", 'ran command', 'find grace', 'arth shall high extol', 'red songs', 'erewith thy throne', \"pass'd shall resound thee ever blest\", 'be lost', \"ate so lov'd\", 'thy youngest son', 'circumvented thus by fraud', 'is own folly', 'from thee far', 'from thee', 'art judge', 'judgest only right', 'ate thine', 'goodness bring to nought', 'is heavier doom', \"revenge accomplish'd\", 'thou thyself', 'ish thy creation', 'hast made', 'goodness and thy greatness both', \"question'd and blasphem'd without defence\", 'eat Creator thus replied', 'hath chief delight', 'art alone', 'thoughts are', 'hath decreed', 'be lost', 'ill in him', 'ill renew', 'is lapsed powers', 'sin to foul exorbitant desires', 'held by me', 'yet once more he shall stand', 'round against his mortal foe', 'know how frail', 'fallen condition is', 'is deliverance', 'have chosen of peculiar grace', 'is my will:', 'hear me call', \"be warn'd\", 'sinful state', 'appease betimes', 'incensed Deity', \"offer'd grace\", 'clear their senses dark', 'soften stony hearts', 'bring obedience due', 'bedience due', 'ere intent', 'be slow', 'ye not shut', 'ill place within them as a guide', 're Conscience', 'ill hear', 'is my long sufferance', 'neglect and scorn', 'ever taste', \"be harden'd\", 'be blinded more', 'stumble on', 'from mercy I exclude', 'is not done', 'breaks his fealty', 'gainst the high supremacy of Heaven', 'sing all', 'is treason hath nought left', 'red and devote', 'is whole posterity', 'eath for death', 'find such love', 'be mortal', 'wells in all Heaven charity so dear', 'stood mute', \"was in Heaven: on Man's behalf\", \"intercessour none appear'd\", 'is own head draw', 'ransom set', 'redemption all mankind', 'have been lost', 'eath and Hell', 'doom severe', 'had not the Son of God', 'love divine', \"arest mediation thus renew'd\", 'is past', 'find grace', 'find means', 'finds her way', 'winged messengers', 'sit all thy creatures', 'ever seek', 'ment for himself', 'ring meet', 'hath none to bring', 'hold me then:  me for him', 'let thine anger fall', 'count me Man', 'is sake will leave', 'is glory next to thee', 'put off', 'lastly die', 'is rage', 'is gloomy power I shall not long', 'given me to possess', 'self for ever', 'thee I live', 'eath I yield', 'is due', 'leave me in the loathsome grave', 'suffer my unspotted soul', 'ere to dwell', 'rise victorious', 'is vaunted spoil', \"is death's wound shall then receive\", 'is mortal sting disarmed', 're Hell', 'owers of darkness bound', 'look down and smile', 'thee raised', 'ruin all my foes', 'is carcase glut the grave', 'enter Heaven', 'see thy face', 'erein no cloud', 'be no more', 'resence joy entire', 'is words here ended', 'is meek aspect', 'yet spake', 'breathed immortal love', 'bedience: as a sacrifice', 'be offered', 'tends the will', 'is great Father', 'is might mean', 'hither tend', 'arth the only peace', 'mankind under wrath', \"know'st how dear\", 'are all my works', 'last created', 'from my bosom and right hand', 'sing thee a while', 'thou only canst redeem', 're also to thy nature join', 'be thyself Man among men on Earth', 'wondrous birth', \"be thou in Adam's room\", \"though Adam's son\", 'perish all men', 'from a second root', 'be restored', 'are restored', 'thee none', 'makes guilty all his sons', 'absolve them who renounce', 'own both righteous and unrighteous deeds', 'live in thee transplanted', 'from thee', 'is most just', 'satisfy for Man', 'be judged and die', 'dying rise', 'rising with him raise', 'ransomed with his own dear life', 'love shall outdo hellish hate', 'dying to redeem', 'ish hate', 'ill destroys', 'accept not grace', 'shalt thou', 'descending to assume', 'degrade thine own', 'thou hast', 'though throned in highest bliss', 'equally enjoying', 'from utter loss', 'been found', 'ore than birthright Son of God', 'be so by being good', 'eat or high', 'because in thee', 'bounded more than glory abounds', 'erefore thy humiliation shall exalt', 'is throne:', 'sit incarnate', 'ere shalt reign', 'give thee', 'reign for ever', 'thee shall bow', 'hem that bide', 'arth in Hell', 'from Heaven', 'from thee send', 'summoning Arch-Angels to proclaim', 'read tribunal', 'from all winds', 'cited dead', 'past ages', 'rouse their sleep', 'thy saints assembled', 'thou shalt judge', 'eath thy sentence', 'bers full', 'be for ever shut', 'from her ashes spring', 'erein the just shall dwell', 'golden days', 'golden deeds', 'joy and peace triumphing', 'lay by', 'ore shall need', 'be all in all', 'ye Gods', 'pass all this dies', 'dore the Son', 'honour him as me', 'had the Almighty ceased', 'from numbers without number', 'from blest voices', 'regions:  Lowly reverent', 'owards either throne they bow', 'doration down they cast', 'rant and gold', 'flower which once', 'ree of life', \"man's offence\", 'ere first it grew', 'hading the fount of life', 'iss through midst of Heaven', 'flowers her amber stream', 'fade the Spirits elect', 'eathed with beams', 'thrown off', 'like a sea of jasper shone', 'roses smiled', 'golden harps they took', 'ever tuned', 'glittering by their side', 'reamble sweet', 'harming symphony they introduce', 'red song', 'waken raptures high', 'well could join', 'is in Heaven', 'sung Omnipotent', \"ere thou sit'st\", 'thou shadest', 'full blaze of thy beams', 'round about thee like a radiant shrine', 'thy skirts appear', 'dazzle Heaven', 'rightest Seraphim', 'wings veil their eyes', 'sang of all creation first', 'eature can behold', 'is glory abides', 'used on thee his ample Spirit rests', 'owers therein', 'thee created', 'threw down', 'ring Dominations:  Thou that day', 'readful thunder didst not spare', 'flaming chariot-wheels', 'lasting frame', 'drovest of warring Angels disarrayed', 'from pursuit thy Powers with loud acclaim', 'hee only extolled', \"thy Father's might\", 'cute fierce vengeance on his foes', 'didst not doom', 'pity incline:', 'did thy dear and only Son', 'doom frail Man', 'pity inclined', 'appease thy wrath', 'end the strife', 'thy face discerned', 'iss wherein he sat', 'ered himself to die', 'led love', 'found less than Divine', 'be the copious matter of my song', 'heart thy praise', 'ise disjoin', 'starry sphere', 'hymning spent', 'firm opacous globe', 'round world', 'vex divides', 'inferiour orbs', 'lighted walks:  A globe far off', 'seems a boundless continent', 'frown of Night', 'threatening storms', 'ring round', 'from the wall of Heaven', 'istant far', 'reflection gains', 'glimmering air less vexed with tempest loud:', 'walked the Fiend at large in spacious field', 'ridge the roving Tartar bounds', 'islodging from a region scarce of prey', 'gorge the flesh of lambs or yeanling kids', 'are fed', 'lies toward the springs', 'lights on the barren plains', 'ere Chineses drive', 'gons light:', 'is windy sea of land', 'down alone', 'is prey', 'is place', 'found was none', 'from the earth', 'hither like aereal vapours flew', 'sitory and vain', 'filled the works of men:', 'vain things', 'lasting fame', 'is or the other life', 'have their reward on earth', 'erstition and blind zeal', 'seeking but the praise of men', \"ished works of Nature's hand\", 'issolved on earth', 'ill final dissolution', 'have dreamed', 'likely habitants', 'twixt the angelical and human kind', 'ill-joined sons and daughters born', 'from the ancient world those giants came', 'vain exploit', 'though then renowned:', 'builders next of Babel on the plain', 'vain design', 'had they wherewithal', 'came single', 'be deemed', 'leaped fondly into Aetna flames', 'leaped into the sea', 'ore too long', 'ere pilgrims roam', 'yed so far to seek', 'gotha him dead', 'lives in Heaven', 'be sure of Paradise', 'put on the weeds of Dominick', 'pass disguised', 'pass the planets seven', 'pass the fixed', 'crystalling sphere whose balance weighs', 'repidation talked', \"ow Saint Peter at Heaven's wicket seems\", 'is keys', 'ow at foot', 'lift their feet', 'from either coast', 'lows them transverse', 'thousand leagues awry', 'ye see', 'uttered into rags', 'winds:  All these', 'backside of the world far off', 'ise of Fools', 'found as he passed', 'last a gleam', 'light turned thither-ward in haste', 'is travelled steps: far distant he descries', 'ending by degrees magnificent', 're high', 'top whereof', 'ore rich', 'work as of a kingly palace-gate', 'ispiece of diamond and gold', 'sparkling orient gems', 'hading pencil', 'ere such as whereon Jacob saw', 'ascending and descending', 'guardians bright', 'from Esau fled', 'open sky', 'waking cried', 'is is the gate of Heaven', 'was meant', 'drawn up to Heaven sometimes', 'eath a bright sea flowed', 'came from earth', \"flew o'er the lake\", 'drawn by fiery steeds', 'let down', 'end by easy ascent', 'is sad exclusion from the doors of bliss:', 'gainst which opened from beneath', 'issful seat of Paradise', 'passage down to the Earth', 'passage wide', 'ere large', 'ised Land to God so dear', 'sit oft those happy tribes', 'is angels to and fro', 'is eye with choice regard', \"fount of Jordan's flood\", 'ere the Holy Land', 'opening seemed', 'bounds were set', 'bound the ocean wave', 'from hence', 'lower stair', 'gold to Heaven-gate', 'wonder at the sudden view', 'is world at once', 'peril gone', 'break of cheerful dawn', 'some high-climbing hill', 'is eye discovers unaware', 'goodly prospect of some foreign land', 'renowned metropolis', 'istering spires and pinnacles adorned', 'rising sun gilds with his beams:', 'wonder seised', 'though after Heaven seen', 'ore envy seised', 'beheld so fair', 'well might', 'ere he stood', 'circling canopy', 'ended shade', 'from eastern point', 'star that bears', 'from pole to pole', 'views in breadth', 'thout longer pause', 'region throws', 'light precipitant', 'winds with ease', 'is oblique way', 'seemed other worlds', 'happy isles', 'famed of old', 'flowery vales', 'happy isles', 'dwelt happy there', 'aid not to inquire:  Above them all', 'golden sun', 'likest Heaven', 'is eye', 'is course he bends', 'ere the great luminary', 'tellations thick', 'is lordly eye keep distance due', 'light from far', 'bers that compute', 'is all-cheering lamp', 'are turned', 'is magnetick beam', 'isible virtue even to the deep', 'wonderously was set his station bright', 'ere lands the Fiend', 'like which perhaps', 'is glazed optick tube yet never saw', 'found beyond expression bright', 'ared with aught on earth', 'metal or stone', 'parts like', 'like informed', 'glowing iron with fire', 'seemed gold', 'art silver clear', 'carbuncle most or chrysolite', 'welve that shone', 'ere seen', 'like to that which here below', 'have sought', 'art they bind', 'call up unbound', 'from the sea', 'is native form', 'wonder then if fields and regions here', 'eathe forth Elixir pure', 'hemick sun', 'from us remote', 'restrial humour mixed', 'ere in the dark so many precious things', 'ere matter new to gaze the Devil met', 'is eye commands', 'found here', 'is beams at noon', 'from the equator', 'ill direct', 'hadow from body opaque can fall', 'ere so clear', 'is visual ray', 'istant far', 'ereby he soon', 'saw also in the sun:', 'is back was turned', 'is brightness hid', 'golden tiar', 'is head', 'is locks behind', 'is shoulders fledge with wings', 'waving round', 'eat charge employed', 'fixed in cogitation deep', 'was the Spirit impure', 'ow in hope', 'find who might direct his wandering flight', 'eat of Man', \"is journey's end and our beginning woe\", 'is proper shape', 'work him danger or delay:', 'stripling Cherub he appears', 'is face', 'smiled celestial', 'every limb', 'well he feigned:', 'is flowing hair', 'heek played', 'wings he wore', 'red plume', 'led with gold', 'is habit fit for speed succinct', 'is decent steps a silver wand', 'drew not nigh unheard', 'drew nigh', 'is radiant visage turned', 'ished by his ear', 'was known', 'arest to his throne', 'ready at command', 'are his eyes', 'run through all the Heavens', 'down to the Earth', 'rands over moist and dry', 'thou of those seven Spirits that stand', \"sight of God's high throne\", 'wont his great authentick will', 'reter through highest Heaven to bring', 'is sons thy embassy attend', 'liest by supreme decree', 'honour to obtain', 'is eye', 'sit oft this new creation round', 'speakable desire to see', 'wonderous works', 'fly Man', 'light and favour', 'wonderous he ordained', 'brought me from the quires of Cherubim', 'shining orbs hath Man', 'is fixed seat', 'fixed seat hath none', 'shining orbs his choice to dwell', 'find him', 'ret gaze', 'open admiration him behold', 'eat Creator hath bestowed', 'hath all these graces poured', 'is meet', 'is rebel foes', 'deepest Hell', 'repair that loss', 'is new happy race of Men', 'are all his ways', 'issembler unperceived', 'is permissive will', 'isdom wake', \"isdom's gate\", 'goodness thinks no ill', 'seems:  Which now for once beguiled', 'regent of the sun', 'sharpest-sighted Spirit of all in Heaven', 'lent impostor foul', 'is uprightness', 'answer thus returned', 'tends to know', 'works of God', 'ereby to glorify', 'eat Work-master', 'leads to no excess', 'reaches blame', 'merits praise', 'seems excess', 'led thee hither', 'real mansion thus alone', 'yes what some perhaps', 'hear only in Heaven:', 'are all his works', 'be all', 'rance always with delight', 'ated mind can comprehend', 'isdom infinite', 'brought them forth', 'hid their causes deep', 'saw when at his word the formless mass', \"is world's material mould\", 'came to a heap:', 'heard his voice', 'stood vast infinitude confined', 'is second bidding Darkness fled', 'isorder sprung:', 'hasted then', 'is ethereal quintessence of Heaven', 'spirited with various forms', 'rolled orbicular', 'turned to stars', 'thou seest', 'ow they move', 'had his place appointed', 'is course', 'is universe', 'downward on that globe', 'hither side', 'light from hence', 'though but reflected', 'is Earth', 'eat of Man', 'ring moon', 'site fair star) her aid', 'light her countenance triform', 'lighten the Earth', 'dominion checks the night', 'ofty shades', 'thou canst not miss', 'mine requires', 'wont in Heaven', 'ere honour due and reverence none neglects', 'arth beneath', 'from the ecliptick', 'sped with hoped success', 'light in many an aery wheel', \"ates' top he lights\", 'warning voice', 'heard cry in Heaven aloud', 'put to second rout', 'be revenged on men', 'arents had been warned', 'coming of their secret foe', 'are:  For now', 'inflamed with rage', 'ere the accuser of mankind', 'is loss', 'light to Hell:', 'is speed', 'cause to boast', 'is dire attempt', 'is tumultuous breast', 'ish engine back recoils', 'doubt distract', 'is troubled thoughts', 'from the bottom stir', 'round about him', 'from Hell', 'from himself', 'wakes despair', 'wakes the bitter memory', 'sufferings must ensue', 'metimes towards Eden', 'is view', 'look he fixes sad', 'metimes towards Heaven', 'blazing sun', 'sat high in his meridian tower:', 'sighs began', 'passing glory crowned', 'from thy sole dominion like the God', 'is new world', 'sight all the stars', 'ished heads', 'thee I call', 'endly voice', 'add thy name', 'tell thee how I hate thy beams', 'rance from what state', 'thy sphere', 'threw me down', \"gainst Heaven's matchless King:\", 'served no such return', 'ated what I was', 'right eminence', 'is good', 'is service hard', 'be less than to afford him praise', 'easiest recompence', 'pay him thanks', 'good proved ill in me', 'wrought but malice', 'lifted up so high', 'sdeined subjection', 'thought one step higher', 'set me highest', 'ment quit', 'endless gratitude', 'ill paying', 'ill to owe', 'from him I still received', 'stood not that a grateful mind', 'owing owes not', 'ill pays', 'burden then', 'had his powerful destiny ordained', 'some inferiour Angel', 'had stood', 'had raised', 'some other Power', 'have aspired', 'is part', 'owers as great', 'stand unshaken', 'from without', 'temptations armed', 'ill and power to stand', 'hadst: whom hast thou then or what to accuse', 'love dealt equally to all', 'love accursed', 'love or hate', 'deals eternal woe', 'be thou', 'is thy will', 'reely what it now so justly rues', 'infinite despair', 'fly is Hell', 'self am Hell', 'lowest deep', 'lower deep', 'threatening to devour me opens wide', 'suffer seems a Heaven', 'last relent:  Is there no place', 'don left', 'left but by submission', 'isdain forbids me', 'read of shame', 'ises and other vaunts', 'boasting I could subdue', 'boast so vain', 'torments inwardly I groan', 'dore me on the throne of Hell', 'lower still I fall', 'isery:  Such joy ambition finds', 'say I could repent', 'act of grace', 'former state', 'call high thoughts', 'ow soon unsay', 'ission swore', 'made in pain', 'lent and void', 'rue reconcilement grow', 'have pierced so deep:', 'lead me to a worse relapse', 'purchase dear', 'ission bought with double smart', 'knows my Punisher', 'erefore as far', 'ranting he', 'from begging', 'hope excluded thus', 'is new delight', 'is world', 'hope farewell', 'good to me is lost', 'be thou my good', 'thee at least', \"re with Heaven's King I hold\", 'ill reign', 'ere long', 'is new world', 'passion dimmed his face', 'changed with pale', 'is borrowed visage', 'ye beheld', 'istempers foul', 're ever clear', 'ereof he soon aware', 'smoothed with outward calm', 'was the first', 'ised falsehood under saintly show', 'couched with revenge:', 'had practised to deceive', 'pursued him down', 'ore than could befall', 'happy sort', 'is gestures fierce', 'marked and mad demeanour', 'ere delicious Paradise', 're green', 'thicket overgrown', 'oftiest shade', 'ranching palm', 'ranks ascend', 'hade above shade', 'woody theatre', 'liest view', 'ise upsprung', 'gave prospect large', 'is nether empire neighbouring round', 'circling row', 'goodliest trees', 'rest fruit', 'golden hue', 'led colours mixed:', 'is beams', 'evening cloud', 'ered the earth', 'lovely seemed', 're now purer air', 'is approach', 'heart inspires', 'light and joy', 'ow gentle gales', 'doriferous wings', 'isper whence they stole', 'hem who fail', 'are past', 'winds blow', 'from the spicy shore', 'pleased they slack their course', 'many a league', 'grateful smell old Ocean smiles:', 'entertained those odorous sweets the Fiend', 'came their bane', 'better pleased', 'fishy fume', 'drove him', 'from the spouse', 'ascent of that steep savage hill', 'had journeyed on', 'pensive and slow', 'found none', 'thick entwined', 'continued brake', 'had perplexed', 'passed that way', 'ate there only was', 'looked east', 'side: which when the arch-felon saw', 'rance he disdained', 'light bound high over-leaped all bound', 'ill or highest wall', 'sheer within', 'is feet', 'rowling wolf', 'seek new haunt for prey', 'ere shepherds pen their flocks at eve', 'led cotes amid the field secure', 'ease into the fold:', 'bent to unhoard the cash', 'some rich burgher', 'barred and bolted fast', 'fear no assault', 'dow climbs', \"rand thief into God's fold\", 'is church lewd hirelings climb', 'ree of life', 'ere that grew', 'like a cormorant', 'rue life', 'sat devising death', 'hem who lived', 'giving plant', 'used had been the pledge', 'value right', 'good before him', 'best things', 'meanest use', 'wonder now he views', 'light of human sense exposed', 'ow room', \"re's whole wealth\", 'issful Paradise', 'den was', 'den planted', 'stretched her line', 'ran eastward to the royal towers', 'eat Seleucia', 'built by Grecian kings', 'ere the sons of Eden long before', 'is pleasant soil', 'is far more pleasant garden God ordained', 'used to grow', 'rees of noblest kind for sight', 'stood the tree of life', 'blooming ambrosial fruit', 'getable gold', 'next to life', 'ree of knowledge', 'grew fast by', 'knowing ill', 'went a river large', 'changed his course', 'eath ingulfed', 'had thrown', 'is garden-mould high raised', 'arth with kindly thirst up-drawn', 'resh fountain', 'many a rill', 'atered the garden', 'united fell', 'own the steep glade', 'met the nether flood', 'passage now appears', 'divided into four main streams', 'ring many a famous realm', 'needs no account', 'tell how', 'isped brooks', 'earl and sands of gold', 'endant shades', 'siting each plant', 'lowers worthy of Paradise', 'beds and curious knots', 're boon', 'red forth profuse on hill', 'warmly smote', 'open field', 'pierced shade', 'is place', 'eat of various view', 'wept odorous gums and balm', 'golden rind', 'twixt them lawns', 'evel downs', 'tender herb', 'flowery lap', 'spread her store', 'lowers of all hue', 'thout thorn the rose:', 'mantling vine', 'murmuring waters fall', 'slope hills', 'fringed bank with myrtle crowned', 'crystal mirrour holds', 'unite their streams', 're apply', 'eathing the smell of field and grove', 'trembling leaves', 'ours in dance', 'roserpine gathering flowers', 'flower by gloomy Dis', 'eres all that pain', 'seek her through the world', 'weet grove', 'is Paradise', 'den strive', 'ere old Cham', 'call and Libyan Jove', 'rid son', \"is stepdame Rhea's eye\", 'issue guard', 'is by some supposed', 'ise under the Ethiop line', 'closed with shining rock', 'journey high', 'is Assyrian garden', 'ere the Fiend', 'living creatures', 'erect and tall', 'honour clad', 'seemed lords of all:', 'thy seemed', 'looks divine', 'image of their glorious Maker shone', 'ere and pure', 'dom placed', 'rue authority in men', 'equal seemed', 'softness she and sweet attractive grace', 'is fair large front and eye sublime declared', 'thine locks', 'is parted forelock manly hung', 'is shoulders broad:', 'down to the slender waist', 'golden tresses wore', 'lets waved', 'required with gentle sway', 'best received', 'ere then concealed', 'was not guilty shame', \"re's works\", 'have ye troubled all mankind', 'shows instead', 'seeming pure', \"ished from man's life his happiest life\", 'spotless innocence', 'passed they naked on', 'shunned the sight', 'thought no ill:', 'hand in hand they passed', 'loveliest pair', \"love's embraces met\", 'goodliest man of men since born', 'rest of her daughters Eve', 'hade that on a green', 'whispering soft', 'resh fountain side', 'sat them down', 'ore toil', 'weet gardening labour than sufficed', 'recommend cool Zephyr', 'made ease', 'some thirst and appetite', 'compliant boughs', 'sat recline', 'asked with flowers:', 'ill as they thirsted', 'scoop the brimming stream', 'ring smiles', 'linked in happy nuptial league', 'isking played', 'beasts of the earth', 'wood or wilderness', 'rest or den', 'is paw', 'led the kid', 'led before them', 'wieldy elephant', 'make them mirth', 'used all his might', 'is lithe proboscis', 'close the serpent sly', 'is braided train', 'is fatal guile', 'filled with pasture gazing sat', 'bedward ruminating', 'hasting now with prone career', 'ascending scale', 'evening rose:', 'ill in gaze', 'covered sad', 'do mine eyes with grief behold', 'iss thus high advanced', 'eatures of other mould', 'yet to heavenly Spirits bright', 'thoughts pursue', 'lively shines', 'hem divine resemblance', 'formed them on their shape hath poured', 'think how nigh', 'change approaches', 'liver ye to woe', 'is now of joy', 'ill secured', 'is high seat your Heaven', 'keep out such a foe', 'is entered', 'yet no purposed foe', 'pity thus forlorn', 'tied:  League with you I seek', 'dwelling haply may not please', 'is fair Paradise', 'gave it me', 'give:  Hell shall unfold', 'entertain you two', 'send forth all her kings', 'be room', 'like these narrow limits', 'better place', 'puts me loth to this revenge', 'wrong me not for him who wronged', 'harmless innocence', 'yet publick reason just', 're with revenge enlarged', 'is new world', 'compels me now', 'do what else', 'spake the Fiend', \"rant's plea\", 'used his devilish deeds', 'is lofty stand on that high tree', 'lights among the sportful herd', 'footed kinds', 'self now one', 'served best his end', 'arer to view his prey', 'ate he more might learn', 'action marked', 'hem round', 'ow he stalks with fiery glare', 'hath spied', 'lieu two gentle fawns at play', 'couches close', 'is couchant watch', 'is ground', 'rest seize them both', 'moving speech', 'hear new utterance flow', 'arer thyself than all', 'needs must the Power', 'made us', 'is ample world', 'infinitely good', 'is good', 'beral and free as infinite', 'raised us from the dust', 'placed us here', 'is happiness', 'is hand', 'ereof he hath need', 'is easy charge', 'bear delicious fruit', 'taste that only tree', 'planted by the tree of life', 'grows death to life', \"ate'er death is\", 'readful thing no doubt', 'thou knowest', 'taste that tree', 'bedience left', 'many signs of power and rule', 'red upon us', 'dominion given', 'eatures that possess', 'let us not think hard', 'leave so large to all things else', 'manifold delights:', 'ise him', 'lightful task', 'rune these growing plants', 'tend these flowers', 'ere it toilsome', 'ere sweet', 'thou for whom', 'from whom I was formed', 'thy flesh', 'thout whom am to no end', 'said is just and right', 'ises owe', 'happier lot', 're-eminent by so much odds', 'ere find', 'oft remember', 'from sleep', 'found myself reposed', 'hade on flowers', 'wondering where', 'hither brought', 'istant far from thence a murmuring sound', 'issued from a cave', 'stood unmoved', 're as the expanse of Heaven', 'hither went', 'laid me down', 'reen bank', 'look into the clear', 'seemed another sky', 'bent down to look', 'atery gleam appeared', 'ending to look on me:  I started back', 'started back', 'pleased I soon returned', 'answering looks', 'love:  There I had fixed', 'ill now', 'vain desire', 'warned me', 'thou seest', 'ere thou seest', 'came and goes: but follow me', 'hadow stays', 'soft embraces', 'thou art', 'thou shalt enjoy', 'shalt bear', 'like thyself', 'be called', 'man race', 'follow straight', 'isibly thus led', 'ill I espied thee', 'methought less fair', 'winning soft', 'atery image:  Back I turned', 'cryedst aloud', 'flyest thou', 'thou flyest', 'thou art', 'give thee being I lent', 'side to thee', 'arest my heart', 'have thee by my side', 'solace dear', 'seek thee', 'thee claim', 'thy gentle hand', 'ised mine: I yielded', 'from that time see', 'is excelled by manly grace', 'is truly fair', 'spake our general mother', 'action unreproved', 'swelling breast', 'met his', 'flowing gold', 'hid: he in delight', 'issive charms', 'led with superiour love', 'regns the clouds', 'shed Mayflowers', 'pressed her matron lip', 'isses pure:  Aside the Devil turned', 'yet with jealous leer malign', 'yed them askance', 'self thus plained', \"ised in one another's arms\", 'happier Eden', 'enjoy their fill', 'iss on bliss', 'ere neither joy nor love', 'fierce desire', 'torments not the least', 'filled with pain of longing pines', 'have gained', 'is not theirs', 'ere stands', 'knowledge called', 'ledge forbidden', 'hem that', 'be sin to know', 'be death', 'do they only stand', 'happy state', 'bedience and their faith', 'foundation laid whereon to build', 'ill excite their minds', 'ore desire to know', 'invented with design', 'keep them low', 'knowledge might exalt', 'be such', 'lier can ensue', 'walk round', 'leave unspied', 'ere I may meet', 'ring Spirit of Heaven by fountain side', 'hade retired', 'from him to draw', 'be learned', 'ye may', 'happy pair', 'ill I return', 'are to succeed', 'is proud step he scornful turned', 'utmost longitude', 'arth and ocean meets', 'setting sun', 'right aspect', 'gainst the eastern gate of Paradise', 'is evening rays:  It was a rock', 'led up to the clouds', 'winding with one ascent', 'from earth', 'rance high', 'rest was craggy cliff', 'ill as it rose', 'rocky pillars Gabriel sat', 'lick guards', 'ised heroick games', 'armed youth of Heaven', 'came Uriel', 'gliding through the even', 'shooting star', 'arts the night', 'ours fired', 'ress the air', 'shows the mariner', 'pass to beware', 'began in haste', 'thee thy course by lot hath given', 'is happy place', 'enter in', 'came to my sphere', \"ore of the Almighty's works\", 'fly Man', 'is way', 'is aery gait', 'lies from Eden north', 'ere he first lighted', 'iscerned his looks', 'lien from Heaven', 'passions foul obscured:', 'pursued him still', 'ished crew', 'from the deep', 'are must be to find', 'winged warriour thus returned', 'wonder if thy perfect sight', 'ere thou sitst', 'is gate none pass', 'ere placed', 'known from Heaven', 'ridian hour', 'eature thence:  If Spirit of other sort', \"have o'er-leaped these earthly bounds\", 'knowest it to exclude', 'oreal bar', 'hape he lurk', 'dawning I shall know', 'ised he', 'is charge', 'turned on that bright beam', 'point now raised', 'downward to the sun now fallen', 'eath the Azores', 'redible how swift', 'had thither rolled', 'is less volubil earth', 'light to the east', 'had left him there', 'reflected purple and gold', 'is western throne attend', 'came still Evening on', 'light gray', 'livery all things clad', 'beast and bird', 'wakeful nightingale', 'pleased:  Now glowed the firmament', 'living sapphires:  Hesperus', 'starry host', 'ill the moon', 'ising in clouded majesty', 'arent queen unveiled her peerless light', 'mantle threw', 'retired to rest', 'like repose', 'hath set', 'falling with soft slumbrous weight', 'eatures all day long', 'need rest', 'is daily work of body or mind', 'ares his dignity', 'is ways', 'active range', 'takes no account', 'ere fresh morning streak the east', 'approach of light', 'be risen', 'flowery arbours', 'yonder alleys green', 'walk at noon', 'ranches overgrown', 'mock our scant manuring', 'hands than ours to lop their wanton growth:', 'blossoms also', 'dropping gums', 'lie bestrown', 'sightly and unsmooth', 'read with ease', 're wills', 'bids us rest', 'beauty adorned', 'thou bidst', 'bey:  So God ordains', 'is thy law', 'know no more', \"man's happiest knowledge\", 'get all time', 'please alike', 'is the breath of Morn', 'rising sweet', 'liest birds:  pleasant the sun', 'lightful land he spreads', 'is orient beams', 'istering with dew', 'rant the fertile earth', 'soft showers', 'coming on', 'grateful Evening mild', 'lent Night', 'is her solemn bird', 'is fair moon', 'starry train:', 'eath of Morn', 'liest birds', 'rising sun', 'lightful land', 'istering with dew', 'rance after showers', 'grateful Evening mild', 'lent Night', 'is her solemn bird', 'walk by moon', 'glittering star-light', 'is sweet', 'shine these', 'is glorious sight', 'sleep hath shut all eyes', 'aughter of God and Man', 'have their course to finish round the earth', 'ow evening', 'from land to land', 'yet unborn', 'light prepared', 'set and rise', 'ish life', 're and all things', 'soft fires', 'foment and warm', 'art shed down', 'tellar virtue on all kinds that grow', 'made hereby apter to receive', \"from the sun's more potent ray\", 'beheld in deep of night', 'ere none', 'want spectators', 'want praise:', 'walk the earth', 'ceaseless praise his works behold', 'from the steep', 'have we heard', 'responsive each to others note', 'eat Creator', 'oft in bands', 'keep watch', 'rounding walk', 'touch of instrumental sounds', 'harmonick number joined', 'thoughts to Heaven', 'hand in hand alone they passed', 'issful bower: it was a place', 'ran Planter', 'lightful use', 'was inwoven shade', 'rel and myrtle', 'rant leaf', 'dorous bushy shrub', 'beauteous flower', 'is all hues', 'ared high their flourished heads between', 'underfoot the violet', 'ered the ground', 'ore coloured than with stone', 'liest emblem:  Other creature here', 'enter none', 'was their awe of Man', 'hadier bower', 'ore sacred and sequestered', 'though but feigned', 'ever slept', 'close recess', 'smelling herbs', 'used Eve decked first her nuptial bed', 'res the hymenaean sung', 'beauty more adorned', 'dowed with all their gifts', 'iser son', 'be avenged', \"stole Jove's authentick fire\", 'hady lodge arrived', 'open sky adored', 'made both sky', 'resplendent globe', 'madest the night', 'thou the day', 'pointed work employed', 'happy in our mutual help', 'own of all our bliss', 'is delicious place', 'dance wants', 'falls to the ground', 'ised from us two a race', 'fill the earth', 'goodness infinite', 'thy gift of sleep', 'said unanimous', 'doration pure', 'likes best', 'putting off', 'isguises which we wear', 'ere laid', 'is fair spouse', 'love refused:', 'atever hypocrites austerely talk', 're what God declares', 'commands to some', 'leaves free to all', 'bids encrease', 'bids abstain', 'man offspring', 'ise of all things common else', 'from men', 'bestial herds to range', 'ere known', 'be it', 'thee sin or blame', 'liest place', 'domestick sweets', 'is undefiled and chaste pronounced', 'golden shafts employs', 'is constant lamp', 'is purple wings', 'ere and revels', 'bought smile', 'wanton mask', 'lover sings', 'is proud fair', 'best quitted with disdain', 'lulled by nightingales', 'flowery roof', 'morn repaired', 'ye seek', 'happier state', 'know to know no more', 'had night measured with her shadowy cone', 'is vast sublunar vault', 'from their ivory port the Cherubim', 'issuing at the accustomed hour', 'watches in warlike parade', 'is next in power thus spake', 'draw off', 'coast the south', 'heel the north', 'meets full west', 'flame they part', 'wheeling to the shield', 'strong and subtle Spirits he called', 'ear him stood', 'gave them thus in charge', 'winged speed', 'is garden', 'leave unsearched no nook', 'fly where those two fair creatures lodge', 'laid perhaps asleep', 're of harm', \"is evening from the sun's decline arrived\", 'tells of some infernal Spirit seen', 'have thought', 'bars of Hell', 'rand bad no doubt:', 'ere ye find', 'hither bring', 'is radiant files', 'bower direct', 'ere they found', 'like a toad', 'close at the ear of Eve', 'saying by his devilish art to reach', 'hem forge', 'from pure blood arise', 'from rivers pure', 'least distempered', 'ring pride', 'is spear', 'likeness:  Up he starts', 'covered and surprised', 'some magazine to store', 'gainst a rumoured war', 'blaze diffused', 'flames the air', 'started up in his own shape the Fiend', 'hold the grisly king', 'moved with fear', 'cost him soon', 'bel Spirits adjudged to Hell', 'scaped thy prison', \"sat'st thou like an enemy in wait\", 'watching at the head of these that sleep', 'said Satan', 'filled with scorn', 'ye not me', 'knew me once no mate', 'sitting where ye durst not soar:', 'know me argues yourselves unknown', 'lowest of your throng', 'ye know', 'ask ye', 'like to end as much in vain', 'answering scorn with scorn', 'thy shape the same', 'ished brightness to be known', 'stoodest in Heaven upright and pure', 'wast good', 'from thee', 'resemblest now', 'doom obscure and foul', 'give account', 'sent us', 'is to keep', 'is place inviolable', 'from harm', 'spake the Cherub', 'is grave rebuke', 'ere in youthful beauty', 'shed the Devil stood', 'goodness is', 'ow lovely', 'find here observed', 'is lustre visibly impaired', 'be won', 'be lost', 'said Zephon bold', 'save us trial what the least can do', 'gainst thee wicked', 'lied not', 'come with rage', 'like a proud steed reined', 'went haughty on', 'is iron curb:  To strive or fly', 'held it vain', 'had quelled', 'drew they nigh', 'rounding guards', 'stood in squadron joined', 'waiting next command', 'called aloud', 'read of nimble feet', 'is way', 'ow by glimpse discern', 'comes a third of regal port', 'faded splendour wan', 'is gait', 'seems the Prince of Hell', 'likely to part hence without contest', 'look defiance lours', 'had ended', 'related whom they brought', 're couched', 'regard thus Gabriel spake', 'hast thou', 'broke the bounds prescribed', 'thy transgressions', 'isturbed the charge', 'prove not to transgress', 'thy example', 'have power and right', 'rance on this place', 'ate sleep', 'planted here in bliss', 'temptuous brow', 'hadst in Heaven the esteem of wise', 'held thee', 'is question asked', 'loves his pain', 'break loose from Hell', 'hither doomed', 'atever place', 'from pain', 'ere thou mightst hope to change', 'ment with ease', 'is place I sought', 'thee no reason', 'knowest only good', 'hast not tried: and wilt object', 'bounds us', 'rer bar', 'is iron gates', 'intends our stay', 'rance:  Thus much what was asked', 'is true', 'found me where they say', 'lies not violence or harm', 'like Angel moved', 'isdainfully half smiling', 'judge of wise', \"is prison 'scaped\", 'hold them wise', 'ask what boldness brought him hither', 'bounds in Hell prescribed', 'fly from pain', 'is punishment', 'judge thou still', 'ill the wrath', 'rest by flying', 'meet thy flight', 'isdom back to Hell', 'taught thee yet no better', 'equal anger infinite provoked', 'erefore thou alone', 'erefore with thee', 'broke loose', 'thou than they', 'light from pain', 'hadst thou alleged', 'deserted host this cause of flight', 'hadst not come sole fugitive', 'end thus answered', 'from pain', 'knowest I stood', 'thy aid', 'made all speed', 'readed spear', 'ill thy words at random', 'thy inexperience what behoves', 'says and ill successes past', 'faithful leader', 'hazard all', 'self untried:', 'ate abyss', 'is new created world', 'ereof in Hell', 'is not silent', 'ere in hope to find', 'afflicted Powers', 'settle here on earth', 'put to try once more', 'are against', 'ere to serve their Lord', 'is throne', 'ised distances to cringe', 'say and straight unsay', 'fly pain', 'sing next the spy', 'leader but a liar traced', 'thou faithful add', 'red name of faithfulness profaned', 'bellious crew', 'fit body to fit head', 'is your discipline and faith engaged', 'knowledged Power supreme', 'ow wouldst seem', 'ore than thou', 'ispossess him', 'self to reign', 'thee now', 'thou fledst', 'is hour', 'lowed limits thou appear', 'drag thee chained', 'thee so', 'lightly barred', 'atened he', 'ore in rage replied', 'thy captive talk of chains', 'ere then', 'self expect to feel', 'revailing arm', \"though Heaven's King\", 'thy wings', 'thy compeers', 'is triumphant wheels', 'ress through the road of Heaven star-paved', 'lick squadron bright', 'pening in mooned horns', 'began to hem him round', 'ported spears', 'thick as when a field', 'waving bends', 'bearded grove of ears', 'areful plowman doubting stands', 'is hopeless sheaves', 'is might', 'is stature reached the sky', 'is crest', 'is grasp', 'readful deeds', 'have ensued', 'is commotion', 'starry cope', 'gone to wrack', 'isturbed and torn', 'is conflict', 'had not soon', 'rid fray', 'golden scales', 'twixt Astrea and the Scorpion sign', 'ated first he weighed', 'round earth with balanced air', 'ponders all events', 'put two weights', 'parting and of fight:', 'kicked the beam', 'bespake the Fiend', 'know thy strength', 'knowest mine', 'given:  What folly then', 'boast what arms can do', 'since thine no more', 'led now', 'look up', 'read thy lot in yon celestial sign', 'ere thou art weighed', 'shown how light', 'thou resist', 'looked up', 'is mounted scale aloft:  Nor more', 'hades of night', 'arth with orient pearl', 'is sleep', 'from pure digestion bred', 'ate vapours bland', 'leaves and fuming rills', 'ill matin song', 'birds on every bough', 'find unwakened Eve', 'resses discomposed', 'glowing cheek', 'rest:  He', 'is side', 'looks of cordial love', 'waking or asleep', 'hand soft touching', 'atest found', 'last best gift', 'ever new delight', 'wake:  The morning shines', 'resh field', 'lose the prime', 'ow spring', 'tender plants', 'blows the citron grove', 'drops the myrrh', 'paints her colours', 'ow the bee', 'bloom extracting liquid sweet', 'whispering waked her', 'startled eye', 'find all repose', 'morn returned', 'is night', 'have dreamed', 'oft am wont', \"ow's next design\", 'is irksome night:  Methought', 'called me forth to walk', 'thought it thine: It said', 'sleepest thou', 'is the pleasant time', 'save where silence yields', 'warbling bird', 'ow awake', 'love-laboured song', 'bed the moon', 'sing light', 'hadowy sets off the face of things', 'is eyes', 'hold but thee', 'sight all things joy', 'beauty still to gaze', 'rose as at thy call', 'found thee not', 'find thee I directed then my walk', 'passed through ways', 'brought me on a sudden to the tree', 'knowledge: fair it seemed', 'rer to my fancy than by day:', 'wondering looked', 'beside it stood', 'shaped and winged like one of those from Heaven', 'oft seen', 'is dewy locks distilled', 'ree he also gazed', 'said he', 'ease thy load', 'taste thy sweet', 'knowledge so despised', 'bids to taste', 'bid who will', 'from me withhold', 'ered good', 'set here', 'used not', 'damp horrour chilled', 'words vouched with a deed so bold:', 'weet of thyself', 'ore sweet thus cropt', 'make Gods of Men:', 'ore abundant grows', 'red more', 'lick Eve', 'take thou also', 'though thou art', 'yest be', 'be henceforth among the Gods', 'self a Goddess', 'arth confined', 'metimes in the air', 'end to Heaven', 'merit thine', 'live there', 'live thou', 'drew nigh', 'held part', 'had plucked', 'quickened appetite', 'eath beheld', 'stretched immense', 'light and change', 'is high exaltation', 'guide was gone', 'fell asleep', 'ow glad I waked', 'find this but a dream', 'answered sad', 'image of myself', 'arer half', 'is night in sleep', 'is uncouth dream', 'thee can harbour none', 'know that in the soul', 're many lesser faculties', 'watchful senses represent', 'forms imaginations', 'joining or disjoining', 'affirm or what deny', 'knowledge or opinion', 'ate cell', 're rests', 'mimick Fancy wakes', 'ate her', 'work produces oft', 'deeds long past or late', \"last evening's talk\", 'is thy dream', 'addition strange', 'be not sad', 'mind of God or Man', 'come and go', 'gives me hope', 'sleep thou didst abhor to dream', 'sent to do', 'heartened then', 'cloud those looks', 'wont to be more cheerful and serene', 'smiles on the world', 'let us to our fresh employments rise', 'isest bosomed smells', 'served from night', 'kept for thee in store', 'is fair spouse', 'was cheered', 'let fall', 'hem with her hair', 'ready stood', 'crystal sluice', 'ere they fell', 'weet remorse', 'have offended', 'was cleared', 'hady arborous roof', 'come to open sight', \"hovering o'er the ocean-brim\", 'is dewy ray', 'iscovering in wide landskip all the east', \"ise and Eden's happy plains\", 'bowed adoring', 'morning duly paid', 'wanted they to praise', 'rains pronounced', 'prompt eloquence', 'from their lips', 'rose or numerous verse', 'needed lute or harp', 'add more sweetness', 'are thy glorious works', 'arent of good', 'is universal frame', 'wonderous fair', 'wonderous then', 'sitst above these heavens', 'dimly seen', 'lowest works', 'yet these declare', 'goodness beyond thought', 'ower divine', 'best can tell', 'ye sons of light', 'hold him', 'thout night', 'is throne rejoicing', 'ye in Heaven', 'eatures to extol', 'thout end', 'rest of stars', 'last in the train of night', 'better thou belong not to the dawn', 'ledge of day', 'smiling morn', 'thy bright circlet', 'ise him in thy sphere', 'weet hour of prime', 'is great world both eye and soul', 'knowledge him thy greater', 'is praise', 'thy eternal course', 'thou climbest', 'hast gained', 'thou fallest', 'meetest the orient sun', 'fixed Stars', 'fixed in their orb that flies', 'ring Fires', 'dance not without song', 'called up light', 'ye Elements', \"re's womb\", 'aternion run', 'ish all things', 'ceaseless change', 'eat Maker still new praise', 'ists and Exhalations', 'ow rise', 'ill or steaming lake', 'paint your fleecy skirts with gold', 'eat Author rise', 'deck with clouds the uncoloured sky', 'falling showers', 'advance his praise', 'from four quarters blow', 'soft or loud', 'wave your tops', 'every plant', 'worship wave', 'ye that warble', 'ye flow', 'is praise', 'living Souls:  Ye Birds', 'singing up to Heaven-gate ascend', 'is praise', 'aters glide', 'ye that walk', 'ately tread', 'lowly creep', 'be silent', 'morn or even', 'resh shade', 'taught his praise', 'be bounteous still', 'give us only good', 'gathered aught of evil', 'light dispels the dark', 'prayed they innocent', 'covered soon', 'wonted calm', 'work they haste', 'weet dews and flowers', 'ere any row', 'woody reached too far', 'ered boughs', 'hands to check', 'led the vine', 'marriageable arms', 'dopted clusters', 'is barren leaves', 'yed beheld', \"pity Heaven's high King\", 'travel with Tobias', 'is marriage with the seventimes-wedded maid', 'arest what stir on Earth', \"from Hell 'scaped through the darksome gulf\", 'raised in Paradise', 'ow disturbed', 'is night the human pair', 'ow he designs', 'ruin all mankind', 'is day as friend with friend', 'bower or shade', 'findest him from the heat of noon retired', 'is day-labour with repast', 'bring on', 'ise him of his happy state', 'left free to will', 'is own free will', 'is will though free', 'warn him to beware', 'swerve not', 're:  Tell him withal', 'from whom', 'fallen himself from Heaven', 'is plotting now', 'from like state of bliss', 'be withstood', 'lies:  This let him know', 'spake the Eternal Father', 'layed the winged Saint', 'is charge received', 'from among', 'ere he stood', 'gorgeous wings', 'ringing light', 'lick quires', 'hand parting', 'gave way', 'real road', 'opened wide', 'golden hinges turning', 'had framed', 'is sight', 'owever small he sees', 'formed to other shining globes', 'den of God', 'regions in the moon:', 'from amidst the Cyclades', 'cloudy spot', 'hither prone in flight', 'ereal sky', 'between worlds and worlds', 'ow on the polar winds', 'ows the buxom air', 'ring eagles', 'owls he seems', 'gazed by all as that sole bird', \"is reliques in the Sun's\", 'is proper shape returns', 'winged:  Six wings he wore', 'is lineaments divine', \"came mantling o'er his breast\", 'regal ornament', 'is waist', 'is loins and thighs with downy gold', 'dipt in Heaven', 'is feet', 'hadowed from either heel with feathered mail', 'shook his plumes', 'rance filled', 'knew him all the bands', 'is state', 'is message high', 'honour rise', 'some message high they guessed him bound', 'glittering tents he passed', 'is come', 'issful field', 'roves of myrrh', 'flowering odours', 'wilderness of sweets', 're here', 'layed at will', 'ring forth more sweet', 'rule or art', 'rest onward come', 'door he sat', 'is cool bower', 'ow the mounted sun', 'is fervid rays to warm', \"arth's inmost womb\", 'warmth than Adam needs:', 'taste to please', 'isrelish thirst', 'aughts between', 'from milky stream', 'erry or grape:  To whom thus Adam called', 'thy sight behold', 'is way moving', 'seems another morn', 'isen on mid-noon', 'from Heaven', 'haps he brings', 'ill vouchsafe', 'is day to be our guest', 'go with speed', 'tores contain', 'honour and receive', 'ranger:  Well we may afford', 'givers their own gifts', 'ere Nature multiplies', 'isburthening grows', 'instructs us not to spare', 'lowed mould', 'tore will serve', 'hangs on the stalk', 'ring firmness gains', 'ist consumes:', 'ill haste', 'from each bough and brake', 'plant and juciest gourd', 'pluck such choice', 'entertain our Angel-guest', 'holding shall confess', 'ere on Earth', 'ispensed his bounties as in Heaven', 'looks in haste', 'thoughts intent', 'choose for delicacy best', 'contrived as not to mix', 'well joined', 'liest change', 'stirs her then', 'from each tender stalk', 'smooth rind', 'bearded husk', 'ring hand', 'drink the grape', 'many a berry', 'from sweet kernels pressed', 'tempers dulcet creams', 'fit vessels pure', 'strows the ground', 'rose and odours from the shrub unfumed', 'eat sire', 'is God-like guest', 'ore train', 'is own complete', 'is state', 'ore solemn than the tedious pomp that waits', 'retinue long', 'ared with gold', 'sets them all agape', 'arer his presence Adam', 'though not awed', 'iss approach and reverence meek', 'bowing low', 'hape contain', 'descending from the thrones above', 'hast deigned a while', 'honour these', 'vouchsafe with us', 'ran gift possess', 'is spacious ground', 'hady bower', 'den choicest bears', 'sit and taste', 'is meridian heat', 'ore cool decline', 'answered mild', 'erefore came', 'art thou such', 'hast here to dwell', 'oft invite', 'though Spirits of Heaven', 'sit thee', 'ere thy bower', 'ill evening rise', 'have at will', \"like Pomona's arbour smiled\", 'flowerets decked', 'rant smells', 'decked save with herself', 'lovely fair', 'rest Goddess feigned', 'ree that in mount Ida naked strove', 'from Heaven', 'thought infirm', 'ered her cheek', 'blest Mary', 'fill the world more numerous with thy sons', 'rees of God', 'is table', 'ised of grassy turf', 'had round', 'are from side to side', 'autumn piled', 'ring and autumn here', 'hand in hand', 'iscourse they hold', 'fear lest dinner cool', 'please to taste', 'perfect good', 'light hath caused', 'arth to yield', 'is I know', 'gives to all', 'erefore what he gives', 'sung) to Man in part', 'rest Spirits be found', 'grateful food:  And food alike those pure', 'telligential substances require', 'doth your rational', 'lower faculty', 'ereby they hear', 'oreal to incorporeal turn', 'atever was created', 'stained and fed:  Of elements', 'feeds the purer', 'arth the sea', 'arth and the sea feed air', 'lowest first the moon', 'round those spots', 'yet into her substance turned', 'ishment exhale', 'ist continent to higher orbs', 'light imparts to all', 'is alimental recompence', 'from off the boughs each morn', 'rush mellifluous dews', 'find the ground', 'ered with pearly grain:  Yet God hath here', 'is bounty so with new delights', 'are with Heaven', 'be nice', 'down they sat', 'common gloss', 'real hunger', 'ransubstantiate:  What redounds', 'holds it possible to turn', 'ore to perfect gold', 'from the mine', 'flowing cups', 'owned:  O innocence', 'have been', 'red at that sight', 'bidinous reigned', \"lover's hell\", 'had sufficed', 'burdened nature', 'mind arose', 'let the occasion pass', 'is great conference to know', 'is world', 'dwell in Heaven', 'excellence he saw', 'ranscend his own so far', 'is wary speech', 'ister he framed', 'know I well', 'is honour done to Man', 'hast vouchsafed', 'arthly fruits to taste', 'yet accepted so', 'illingly thou couldst not seem', 'have fed: yet what compare', 'winged Hierarch replied', 'from good', 'matter all', 'ore refined', 'arer to him placed', 'arer tending', 'eres assigned', 'ill body up to spirit work', 'from the root', 'lighter the green stalk', 'from thence the leaves', 'last the bright consummate flower', 'flowers and their fruit', 'scale sublimed', 'give both life and sense', 'is her being', 'oftest yours', 'is ours', 'ring but in degree', 'saw good', 'refuse not', 'oper substance', 'light fare', 'from these corporal nutriments perhaps', 'last turn all to spirit', 'proved by tract of time', 'ises dwell', 'found obedient', 'love entire', 'is happy state', 'mankind replied', 'favourable Spirit', 'taught the way that might direct', 're set', 'enter to circumference', 'ated things', 'ascend to God', 'meant that caution joined', 'be found', 'bedience then', 'love desert', 'formed us from the dust and placed us here', 're of what bliss', 'seek or apprehend', 'art happy', 'owe to God', 'continuest such', 'owe to thyself', 'thy obedience', 'given thee', 'made thee perfect', 'made thee', 'left it in thy power', 'thy will', 're free', 'led by fate', 'be tried whether they serve', 'illing or no', 'ill but what they must', 'lick host', 'sight of God', 'happy state', 'bedience holds', 'rety none:  Freely we serve', 'reely love', 'love or not', 'is we stand or fall:', 'are fallen', 'isobedience fallen', 'from Heaven to deepest Hell', 'ate of bliss', 'eat progenitor', 'lighted ear', 'have heard', 'from neighbouring hills', 'send:  Nor knew I not', 'be both will and deed created free', 'get to love', 'bey him whose command', 'is yet so just', 'ill assure:  Though what thou tellest', 'passed in Heaven', 'doubt within me move', 'ore desire to hear', 'thou consent', 'full relation', 'needs be strange', 'be heard', 'have yet large day', 'scarce the sun', 'ished half his journey', 'scarce begins', 'is other half in the great zone of Heaven', 'made request', 'pause assenting', 'matter thou enjoinest me', 'ask and hard:  For how shall I relate', 'isible exploits', 'ring Spirits', 'many glorious once', 'perfect while they stood', 'last unfold', 'rets of another world', 'yet for thy good', 'is is dispensed', 'surmounts the reach', 'man sense', 'ate so', 'likening spiritual to corporal forms', 'ress them best', 'though what if Earth', 'hadow of Heaven', 'is thought', 'is world was not', 'ere these Heavens now roll', 'ere Earth now rests', 'enter poised', 'though in eternity', 'measures all things durable', 'brings forth', 'real host', 'summons called', \"before the Almighty's throne\", 'from all the ends of Heaven', 'thousand thousand ensigns high advanced', \"gonfalons 'twixt van and rear\", 'ream in the air', 'istinction serve', 'bear imblazed', 'acts of zeal and love', 'ressible they stood', 'sat the Son', 'from a flaming mount', 'made invisible', 'ye Angels', 'ear my decree', 'revoked shall stand', 'have begot whom I declare', 'is holy hill', 'have anointed', 'ye now behold', 'right hand', 'have sworn', 'confess him Lord:', 'is great vice-gerent reign abide', 'happy:  Him who disobeys', 'from God and blessed vision', 'utter darkness', 'thout redemption', 'spake the Omnipotent', 'is words', 'seemed well pleased', 'ere not all', 'dance about the sacred hill', 'yonder starry sphere', 'regular they seem', 'harmony divine', 'harming tones', 'own ear', 'ow approached', 'have also our evening and our morn', 'change delectable', 'from dance to sweet repast they turn', 'circles as they stood', 'are set', 'den piled', 'rubied nectar flows', 'growth of Heaven', 'flowers reposed', 'flowerets crowned', 'communion sweet', 'ere full measure only bounds', 'before the all-bounteous King', 'rejoicing in their joy', 'ow when ambrosial night with clouds exhaled', 'light and shade', 'had changed', 'grateful twilight', 'comes not there', 'roseate dews disposed', 'sleeping eyes of God to rest', 'is globous earth in plain outspread', 'are the courts of God) the angelick throng', 'ispersed in bands and files', 'living streams among the trees of life', 'den reared', 'ere they slept', 'ran throne', 'ate all night long: but not so waked', 'call him now', 'is former name', 'heard no more in Heaven', 'eat in power', 'favour and pre-eminence', 'gainst the Son of God', 'is great Father', 'ride that sight', 'thought himself impaired', 'conceiving and disdain', 'brought on the dusky hour', 'sleep and silence', 'is legions to dislodge', 'is next subordinate', 'ret spake', 'sleep can close', 'rest what decree', 'passed the lips', 'thy thoughts', 'wont to impart', 'ere one', 'ow then can now', 'sleep dissent', 'seest imposed', 'from him who reigns', 'minds may raise', 'counsels to debate', 'is place', 'is not safe', 'lead the chief', 'ere yet dim night', 'hadowy cloud withdraws', 'flying march', 'ere we possess', 'arters of the north', 'ere to prepare', 'receive our King', 'eat Messiah', 'is new commands', 'speedily through all the hierarchies', 'pass triumphant', 'give laws', 'spake the false Arch-Angel', 'is associate:  He together calls', 'everal one by one', 'regent Powers', 'was taught', 'ere night', 'had disincumbered Heaven', 'standard was to move', 'suggested cause', 'casts between', 'words and jealousies', 'taint integrity:  But all obeyed', 'wonted signal', 'eat Potentate', 'eat indeed', 'is degree in Heaven', 'morning-star that guides', 'starry flock', \"rew after him the third part of Heaven's host\", 'sight discerns', 'is holy mount', 'golden lamps that burn', 'before him', 'saw without their light', 'saw in whom', 'is high decree', 'is only Son thus said', 'thou in whom my glory I behold', 'full resplendence', 'be sure', 'hold what anciently we claim', 're:  Such a foe', 'erect his throne', 'is thought to try', 'ower is', 'is hazard draw', 'is left', 'ares we lose', 'is our high place', 'thy foes', 'hast in derision', 'vain designs and tumults vain', 'see all regal power', 'quell their pride', 'be dextrous to subdue', 'found the worst in Heaven', 'spake the Son', 'is Powers', 'advanced on winged speed', 'stars of night', 'stars of morning', 'every leaf and every flower', 'regions to which', 'thy dominion', 'is no more', 'is garden is to all the earth', 'from one entire globose', 'retched into longitude', 'having passed', 'limits of the north', 'is royal seat', 'ised on a mount', 'rocks of gold', 'eat Lucifer', 're in the dialect of men', 'equality with God', 'ared in sight of Heaven', 'regation called', 'is train', 'ending so commanded to consult', 'eat reception of their King', 'hither to come', 'held their ears', 'yet remain', 'erely titular', 'since by decree', 'hath to himself engrossed', 'eclipsed under the name', 'is haste', 'hurried meeting here', 'is only to consult how we may best', 'ised of honours new', 'coming to receive from us', 'yet unpaid', 'double how endured', 'is image now proclaimed', 'better counsels might erect', 'teach us to cast off this yoke', 'submit your necks', 'choose to bend', 'ill not', 'know ye right', 'know yourselves', 'possessed before', 'equal all', 'well consist', 'reason then', 'live by right', 'dour less', 'dom equal', 'edict on us', 'thout law', 'is to be our Lord', 'look for adoration', 'being ordained to govern', 'is bold discourse without controul', 'ore zeal adored', 'commands obeyed', 'flame of zeal severe', 'is fury thus opposed', 'ment blasphemous', 'hear in Heaven', 'from thee', 'self so high above thy peers', 'thou with impious obloquy condemn', 'ree of God', 'pronounced and sworn', 'is only Son', 'right endued', 'regal scepter', 'soul in Heaven', 'bend the knee', 'honour due', 'rightful King', 'bind with laws the free', 'let reign', 'succeeded power', 'give law to God', 'thou dispute', 'points of liberty', 'thou art', 'formed the Powers of Heaven', 'bed their being', 'know how good', 'good and of our dignity', 'ow provident he is', 'from thought', 'make us less', 'bent rather to exalt', 'happy state', 'ore near', 'rant it thee unjust', 'equal over equals monarch reign:', 'eat and glorious', 'dost thou count', 're joined in one', 'gotten Son', 'is Word', 'ated in their bright degrees', 'owned them with glory', 'is reign obscured', 'illustrious made', 'since he the head', 'ber thus reduced becomes', 'is laws our laws', 'honour to him done', 'turns our own', 'is impious rage', 'tempt not these', 'hasten to appease', 'incensed Father', 'incensed Son', 'found in time besought', 'spake the fervent Angel', 'is zeal', 'season judged', 'singular and rash:  Whereat rejoiced', 'formed then sayest thou', 'ask transferred', 'is Son', 'range point and new', 'know whence learned: who saw', 'is creation was', 'gave thee being', 'know no time when we were not as now', 'before us', 'own quickening power', 'is full orb', 'is our native Heaven', 'issance is our own', 'own right hand', 'teach us highest deeds', 'is our equal:  Then thou shalt behold', 'begirt the almighty throne', 'seeching or besieging', 'anointed King', 'ere evil intercept thy flight', 'aters deep', 'is words applause', 'infinite host', 'flaming Seraph fearless', 'passed round with foes', 'answered bold', 'lienate from God', 'see thy fall', 'rew involved', 'is perfidious fraud', 'ishment:  Henceforth', 'led how to quit the yoke', 'indulgent laws', 'be now vouchsafed', 'are gone forth without recall', 'golden scepter', 'didst reject', 'ise and break', 'didst advise', 'eats I fly', 'raging into sudden flame', 'istinguish not:  For soon expect to feel', 'is thunder on thy head', 'ated thee lamenting learn', 'ate thee thou shalt know', 'spake the Seraph Abdiel', 'faithful only he', 'is loyalty he kept', 'from truth', 'is constant mind', 'hem forth he passed', 'ared aught', 'retorted scorn', 'is back he turned', 'owers to swift destruction doomed', 'readless Angel', 'is way', 'circling Hours', 'barred the gates of light', 'is a cave', 'is throne', 'light and darkness in perpetual round', 'islodge by turns', 'makes through Heaven', 'like day and night', 'issues forth', 'ill her hour', 'veil the Heaven', 'ere might well', 'light here:  And now went forth the Morn', 'yed in gold', 'vanished Night', 'led squadrons bright', 'flaming arms', 'blaze on blaze', 'met his view:', 'ready known what he for news had thought', 'have reported:  Gladly then he mixed', 'endly Powers', 'joy and acclamations loud', 'many myriads fallen', 'turned not lost', 'red hill', 'led him high applauded', 'eat supreme', 'from whence a voice', 'golden cloud', 'was heard', 'hast thou fought', 'better fight', 'hast maintained', 'gainst revolted multitudes the cause', 'hast borne', 'is was all thy care', 'proved in sight of God', 'thee perverse:  The easier conquest now', 'is host of friends', 'ore glorious to return', 'didst depart', 'reason for their law refuse', 'reason for their law', 'right of merit reigns', 'armies prince', 'owess next', 'lead forth to battle these my sons', 'armed Saints', 'thousands and by millions', 'ranged for fight', 'ber to that Godless crew', 'bellious:  Them with fire and hostile arms', 'ow of Heaven', 'from God and bliss', 'place of punishment', 'ready opens wide', 'is fiery Chaos to receive their fall', 'ran Voice', 'clouds began', 'darken all the hill', 'smoke to roll', 'read the loud', \"from on high 'gan blow:\", 'mand the Powers militant', 'stood for Heaven', 'ate joined', 'right legions', 'mental harmony', 'dour to adventurous deeds', 'like leaders', 'is Messiah', 'straitening vale', 'perfect ranks', 'march was', 'passive air upbore', 'summoned over Eden to receive', 'names of thee', 'many a tract', 'many a province wide', 'is terrene:  At last', 'skirt to skirt a fiery region', 'arer view', 'istled with upright beams innumerable', 'mets thronged', 'boastful argument portrayed', 'hasting on', 'self-same day', 'fight or by surprise', 'win the mount of God', 'is throne', 'is state', 'proved fond and vain', 'range to us it seemed', 'fierce hosting meet', 'wont to meet', 'oft in festivals of joy and love', 'eat Sire', 'ow began', 'rushing sound', 'ended soon each milder thought', 'exalted as a God', 'is sun-bright chariot sat', 'dol of majesty divine', 'flaming Cherubim', 'golden shields', 'lighted from his gorgeous throne', 'was left', 'readful interval', 'front to front', 'stood in terrible array', 'hideous length:  Before the cloudy van', 'ere it joined', 'rides advanced', 'armed in adamant and gold', 'diel that sight endured not', 'ere he stood', 'bent on highest deeds', 'heart explores', 'resemblance of the Highest', 'yet remain', 'ere faith and realty', 'erefore should not strength and might', 'fail where virtue fails', 'weakest prove', 'fight unconquerable', \"trusting in the Almighty's aid\", 'mean to try', 'have tried', 'sound and false', 'is it aught but just', 'ate of truth hath won', 'win in arms', 'putes alike', 'ish that contest and foul', 'hath to deal with force', 'is that reason overcome', 'armed peers', 'stepping opposite', 'is daring foe', 'is prevention more', 'rely him defied', 'art thou met', 'have reached', 'ring unopposed', 'is side', 'thy power', 'tongue:  Fool', 'think how vain', 'rise in arms', 'raised incessant armies to defeat', 'beyond all limit', 'have finished thee', 'thou seest', 'are not of thy train', 'thee not visible', 'thy world erroneous to dissent', 'thou seest', 'learn too late', 'metimes may know', 'thousands err', 'rand foe', 'ye askance', 'ished hour', 'sought for', 'merited reward', 'is right hand provoked', 'since first that tongue', 'red with contradiction', 'art of the Gods', 'gour divine within them', 'thou comest', 'ore thy fellows', 'some plume', 'thy success may show', 'pause between', 'answered lest thou boast) to let thee know', 'berty and Heaven', 'had been all one', 'had rather serve', 'rained up in feast and song', 'hast thou armed', 'relsy of Heaven', 'dom to contend', 'ared this day shall prove', 'diel stern replied', 'ill thou errest', 'end wilt find', 'from the path of truth remote:', 'thou depravest it with the name', 'serve whom God ordains', 'bid the same', 'is worthiest', 'hem whom he governs', 'is is servitude', 'serve the unwise', 'hath rebelled', 'is worthier', 'serve thee', 'self not free', 'self enthralled', 'arest our ministring upbraid', 'thou in Hell', 'let me serve', 'ever blest', 'is divine', 'be obeyed', 'expect:  Mean while', 'erst thou saidst', 'is greeting on thy impious crest receive', 'lifted high', 'hung not', 'rest of Satan', 'is shield', 'ruin intercept:  Ten paces huge', 'back recoiled', 'ended knee', 'is massy spear upstaid', 'aters forcing way', 'had pushed a mountain from his seat', 'is pines', 'bel Thrones', 'ater rage', 'led their mightiest', 'ours joy filled', 'resage of victory', 'fierce desire', 'bid sound', 'armies rung', 'stood at gaze', 'hideous joined', 'rid shock', 'ow storming fury rose', 'heard in Heaven till now', 'clashing brayed', 'adding wheels', 'was the noise', 'ismal hiss', 'lies flew', 'flying vaulted either host with fire', 'gether rushed', 'ruinous assault', 'ishable rage', 'had Earth been then', 'enter shook', 'ring Angels fought', 'least of whom could wield', 'arm him with the force', 'ore of power', 'gainst army numberless to raise', 'readful combustion warring', 'happy native seat', 'hold of Heaven', 'limited their might', 'bered such', 'have seemed', 'armed hand', 'led in fight', 'yet leader seemed', 'single as in chief', 'turn the sway', 'thought of flight', 'coming deed', 'argued fear', 'self relied', 'is arm the moment lay', 'victory:  Deeds of eternal fame', 'was spread', 'metimes on firm ground', 'standing fight', 'ring on main wing', 'mented all the air', 'seemed then', 'even scale', 'had shown', 'met in arms', 'ranging through the dire attack', 'fighting Seraphim confused', 'ere the sword of Michael smote', 'handed sway', 'came down', 'rocky orb', 'tenfold adamant', 'is ample shield', 'is approach', 'is warlike toil', 'hoping here to end', 'dragged in chains', 'isage all inflamed first thus began', 'known till thy revolt', 'named in Heaven', 'thou seest', 'ateful strife', 'ateful to all', 're on thyself', 'rents:  How hast thou disturbed', 'blessed peace', 're brought', 'ated till the crime', 'thy rebellion', 'hast thou instilled', 'proved false', 'think not here', 'trouble holy rest', 'casts thee out', 'eat of bliss', 'works of violence and war', 'go with thee along', 'place of evil', 'thy wicked crew', 'ere mingle broils', 'is avenging sword begin thy doom', 'ore sudden vengeance', 'winged from God', 'ate thee with augmented pain', 'spake the Prince of Angels', 'think thou with wind', 'eats to awe whom yet with deeds', 'turned the least of these', 'ransact with me', 'thou shouldst hope', 'hase me hence', 'callest evil', 'mean to win', 'is Heaven itself into the Hell', 'dwell free', 'reign:  Mean while thy utmost force', 'named Almighty to thy aid', 'fly not', 'have sought thee far and nigh', 'ended parle', 'addressed for fight', 'though with the tongue', 'arth conspicuous', 'man imagination to such highth', 'like power', 'likest Gods they seemed', 'eat Heaven', 'waved their fiery swords', 'rid circles', 'hand with speed retired', 'was thickest fight', 'lick throng', 'left large field', 'set forth', 'eat things by small', \"re's concord broke\", 'tellations war were sprung', 'rushing from aspect malign', 'fiercest opposition', 'ring spheres confound', 'gether both with next to almighty arm', 'need repeat', 'ower at once', 'prevention:  But the sword', 'from the armoury of God', 'given him tempered so', 'ist that edge: it met', 'force to smite', 'cut sheer', 'heel reverse', 'is right side:  Then Satan first knew pain', 'fro convolved', 'iscontinuous wound', 'ereal substance closed', 'from the gash', 'issuing flowed', 'is armour stained', 'ere while so bright', 'is aid was run', 'many and strong', 'bore him on their shields', 'is chariot', 'stood retired', 'ere they him laid', 'find himself not matchless', 'is pride', 'led by such rebuke', 'is confidence to equal God in power', 'live throughout', 'every part', 'heart of head', 'liver or reins', 'annihilating die', 're mortal wound', 'ore than can the fluid air:', 'heart they live', 'limb themselves', 'likes them best', 'condense or rare', 'like deeds deserved', 'ere the might of Gabriel fought', 'pierced the deep array', 'is chariot-wheels to drag him bound', 'from the Holy One of Heaven', 'is tongue blasphemous', 'loven to the waist', 'shattered arms', 'led bellowing', 'is vaunting foe', 'rock of diamond armed', 'be less than Gods', 'learned in their flight', 'led with ghastly wounds through plate and mail', 'stood unmindful Abdiel to annoy', 'ist crew', 'led blow', 'scorched and blasted', 'ate of thousands', 'ere on earth', 'contented with their fame in Heaven', 'ise of men:  The other sort', 'wonderous and in acts of war', 'renown less eager', 'yet by doom', 'from Heaven and sacred memory', 'let them dwell', 'from truth divided', 'from just', 'merits but dispraise', 'yet to glory aspires', 'seeks fame:', 'be their doom', 'many an inroad gored', 'shivered armour strown', 'lay overturned', 'foaming steeds', 'faint Satanick host', 'fear surprised', 'fear surprised', 'sense of pain', 'sin of disobedience', 'ill that hour', 'ise the inviolable Saints', 'hem above their foes', 'have sinned', 'have disobeyed', 'fight they stood', 'be pained', 'from their place by violence moved', 'ow Night her course began', 'grateful truce imposed', 'cloudy covert both retired', 'ished:  On the foughten field', 'is Angels prevalent', 'watches round', 'waving fires:  On the other part', 'is rebellious disappeared', 'void of rest', 'called by night', 'ismayed began', 'ow in danger tried', 'known in arms', 'be overpowered', 'berty alone', 'mean pretence', 'ore affect', 'have sustained one day in doubtful fight', 'had powerfullest to send', 'is throne', 'subdue us to his will', 'proves not so:  Then fallible', 're we may deem him', 'ill now', 'firmly armed', 'isadvantage we endured and pain', 'ill now not known', 'find this our empyreal form', 'pierced with wound', 'gour healed', 'ore valid arms', 'ore violent', 'next we meet', 'better us', 'made the odds', 'hidden cause', 'hem superiour', 'hurt our minds', 'standing sound', 'consultation will disclose', 'next upstood', 'stood escaped from cruel fight', 'is riven arms to havock hewn', 'answering spake', 'liverer from new Lords', 'leader to free', 'right as Gods', 'work we find', 'gainst unequal arms to fight in pain', 'from which evil', 'needs ensue', 'led with pain', 'makes remiss the hands', 're we may well', 'are out of life perhaps', 'live content', 'is the calmest life:', 'is perfect misery', 'erefore can invent', 'ore forcible we may offend', 'wounded enemies', 'like defence', 'liverance what we owe', 'look composed Satan replied', 'invented that', 'thou aright', 'lievest so main to our success', 'holds the bright surface', 'is ethereous mould whereon we stand', 'is continent of spacious Heaven', 'ye so superficially surveys', 'from whence they grow', 'aterials dark and crude', 'shoot forth', 'opening to the ambient light', 'yield us', 'regnant with infernal flame', 'hollow engines', 'bore with touch of fire', 'ated and infuriate', 'send forth', 'ring noise', 'ments of mischief', 'atever stands', 'have disarmed', 'readed bolt', 'be our labour', 'ere dawn', 'end our wish', 'rength and counsel joined', 'be despaired', 'is words their drooping cheer', 'ished hope revived', 'invention all admired', 'enter missed', 'found most would have thought', 'thy race', 're days', 'intent on mischief', 'ish machination', 'plague the sons of men', 'aughter bent', 'from council to the work they flew', 'arguing stood', 'ment up they turned', 'saw beneath', 're in their crude', 'adusted they reduced', 'lackest grain', 'tore conveyed:', 'hidden veins digged up (nor hath this earth', 'like) of mineral and stone', 'found their engines and their balls', 'issive ruin', 'art incentive reed', 'touch to fire', 'ere day-spring', 'ret they finished', 'lent circumspection', 'ow when fair morn orient in Heaven appeared', 'rose the victor-Angels', 'sung:  In arms they stood', 'golden panoply', 'from the dawning hills', 'light-armed scour', 'cry the distant foe', 'hither fled', 'spread ensigns moving nigh', 'firm battalion', 'back with speediest sail', 'arm for fight', 'led we thought', 'save us long pursuit', 'is flight', 'thick a cloud', 'is face I see', 're:  Let each', 'is adamantine coat gird well', 'is helm', 'is orbed shield', 'even or high', 'is day will pour down', 're aught', 'drizzling shower', 'rattling storm of arrows barbed with fire', 'warned he them', 'quit of all impediment', 'took alarm', 'moved embattled:  When behold', 'istant far with heavy pace the foe', 'hollow cube', 'is devilish enginery', 'hadowing squadrons deep', 'hide the fraud', 'view both stood', 'denly at head appeared', 'heard commanding loud', 'left the front unfold', 'see who hate us', 'ow we seek', 'open breast', 'ready to receive them', 'back perverse:', 'witness thou anon', 'reely our part: ye', 'pointed stand', 'have in charge', 'fly touch', 'scoffing in ambiguous words', 'left the front', 'yes discovered', 'illars laid', 'like to pillars most they seemed', 'made of oak or fir', 'ranches lopt', 'wood or mountain felled', 'had not their mouths', 'hideous orifice gaped on us wide', 'ending hollow truce:  At each behind', 'is hand a reed', 'waving tipt with fire', 'stood within our thoughts amused', 'den all at once their reeds', 'ow vent applied', 'ate in a flame', 'red with smoke', 'ated engines belched', 'ise the air', 'ish glut', 'chained thunderbolts and hail', 'victor host', 'standing else as rocks', 'down they fell', 'action or remove', 'issipation followed', 'forced rout', 'served it to relax their serried files', 'yet more despised', 'ranked of Seraphim another row', 'isplode their second tire', 'defeated to return', 'beheld their plight', 'is mates thus in derision called', 'come not on these victors proud', 'ere coming', 'entertain them fair with open front', 'pounded terms', 'changed their minds', 'range vagaries fell', 'dance they seemed', 'ered peace:  But I suppose', 'gain were heard', 'compel them to a quick result', 'like gamesome mood', 'sent were terms of weight', 'force urged home', 'used them all', 'receives them right', 'from head to foot well understand', 'have besides', 'walk not upright', 'hemselves in pleasant vein', 'thoughts beyond', 'doubt of victory:  Eternal Might', 'inventions they presumed', 'made a scorn', 'is host derided', 'stood not long', 'prompted them at length', 'found them arms', 'ish mischief fit to oppose', 'hold the excellence', 'is mighty Angels placed', 'arms away they threw', 'is variety from Heaven', 'situate in hill and dale', 'lightning glimpse they ran', 'foundations loosening to and fro', 'plucked the seated hills', 'bore them in their hands:  Amaze', 'seized the rebel host', 'read they saw', \"ill on those cursed engines' triple-row\", 'saw them whelmed', 'buried deep', 'invaded next', 'pressed whole legions armed', 'helped their harm', 'rushed in and bruised', 'wrought them pain', 'dolorous groan', 'struggling underneath', 'ere they could wind', 'rest light', 'rest at first', 'ow gross by sinning grown', 'like arms', 'ring hills uptore:', 'ered hills', 'fro with jaculation dire', 'round they fought in dismal shade', 'seemed a civil game', 'is uproar', 'rid confusion heaped', 'rose:  And now all Heaven', 'gone to wrack', 'ruin overspread', 'ere he sits', 'is sanctuary of Heaven secure', 'permitted all', 'is great purpose he might so fulfil', 'is anointed Son avenged', 'is enemies', 'ransferred:  Whence to his Son', 'is throne', 'isible is beheld', 'hand what by decree I do', 'are past', 'pute the days of Heaven', 'went forth to tame', 'isobedient:  Sore hath been their fight', 'liest was', 'met armed', 'left them', 'thou knowest', 'ere formed', 'hath impaired', 'hath wrought', 'spend their doom', 'needs must last', 'be found:', 'formed what war can do', 'isordered rage let loose the reins', 'work in Heaven', 'are therefore past', 'is thine', 'have ordained it', 'be thine', 'ending this great war', 'since none but Thou', 'end it', 'thee such virtue and grace', 'have transfused', 'thy power above compare', 'governed thus', 'be Heir', 'be Heir', 'be King', 'red unction', 'served right', \"thy Father's might\", 'end my chariot', 'guide the rapid wheels', \"shake Heaven's basis\", 'bring forth all my war', 'bow and thunder', 'issant thigh', 'sue these sons of darkness', 'drive them out', 'bounds into the utter deep:', 'let them learn', 'likes them', 'is anointed King', 'is Son with rays direct', 'is Father full expressed', 'is face received', 'answering spake', 'reme of heavenly Thrones', \"thou always seek'st\", 'thy Son', 'is most just:  This I my glory account', 'well pleased', 'arest thy will', 'is all my bliss', 'lier shall resign', 'be all in all', 'thou lovest:', 'thou hatest', 'put on', 'put thy mildness on', 'thee in all things', 'thy might', 'rid Heaven of these rebelled', 'ared ill mansion driven down', 'undying worm', 'from thy just obedience could revolt', 'is happiness entire', 'thy Saints unmixed', 'from the impure', 'thy holy mount', 'thee sing', 'hem Chief', 'is scepter bowing', 'hand of Glory where he sat', 'began to shine', 'rushed with whirlwind sound', 'aternal Deity', 'thick flames', 'heel within wheel undrawn', 'self instinct with Spirit', 'faces each', 'dies all', 'set with eyes', 'yes the wheels', 'areering fires between', 'crystal firmament', 'ereon a sapphire throne', 'laid with pure', 'showery arch', 'ply all armed', 'work divinely wrought', 'is right hand Victory', 'is bow', 'ree-bolted thunder stored', 'from about him fierce effusion rolled', 'ring flame', 'sparkles dire:', 'ended with ten thousand thousand Saints', 'coming shone', 'wenty thousand (I their number heard)', 'wings of Cherub rode sublime', 'crystalline sky', 're throned', 'is own', 'seen:  Them unexpected joy surprised', 'eat ensign of Messiah blazed', 'oft by Angels borne', 'is sign in Heaven', 'used on either wing', 'died all in one', 'is way prepared', 'is command the uprooted hills retired', 'is place', 'heard his voice', 'wonted face renewed', 'flowerets hill and valley smiled', 'saw his hapless foes', 'stood obdured', 'lied their Powers', 'from despair', 'perverseness dwell', 'convince the proud what signs avail', 'wonders move the obdurate to relent', 'ore by what might most reclaim', 'see his glory', 'is highth', 'led fierce', 'force or fraud', 'gainst God and Messiah', 'ruin last', 'faint retreat', 'eat Son of God', 'is host on either hand thus spake', 'ill in bright array', 'is day from battle rest:', 'been your warfare', 'is righteous cause', 'have received', 'have ye done', 'is cursed crew', 'ishment to other hand belongs', 'is his', \"is day's work is not ordained\", 'godless poured', 'have despised', 'is all their rage', 'cause the Father', 'red me', 'is will', 'erefore to me their doom he hath assigned', 'have their wish', 'try with me', 'stronger proves', 'gainst them', 'since by strength', 're all', 'are who them excels', 'do I vouchsafe', 'spake the Son', 'errour changed', 'is countenance too severe to be beheld', 'is enemies', 'spread out their starry wings', 'readful shade contiguous', 'is fierce chariot rolled', 'rent floods', 'is impious foes right onward drove', 'burning wheels', 'shook throughout', 'self of God', 'hem he arrived', 'is right hand', 'thousand thunders', 'souls infixed', 'istance lost', 'weapons dropt:', 'helmed heads he rode', 'ished the mountains now might be again', 'own on them', 'is ire', 'side tempestuous fell', 'isaged Four', 'istinct with eyes', 'living wheels', 'istinct alike with multitude of eyes', 'hem ruled', 'every eye', 'shot forth pernicious fire', 'withered all their strength', 'gour left them drained', 'put not forth', 'is thunder in mid volley', 'root them out of Heaven:', 'thrown he raised', 'goats or timorous flock together thronged', 'before him thunder-struck', 'crystal wall of Heaven', 'wasteful deep:  The monstrous sight', 'hem with horrour backward', 'behind:  Headlong themselves they threw', 'from the verge of Heaven', 'hem to the bottomless pit', 'heard the unsufferable noise', 'from Heaven', 'have fled', 'had cast too deep', 'had bound', 'founded Chaos roared', 'felt tenfold confusion in their fall', 'is wild anarchy', 'bered him with ruin:  Hell at last', 'received them whole', 'hem closed', 'fit habitation', 'aught with fire', 'use of woe and pain', 'isburdened Heaven rejoiced', 'returning whence it rolled', 'is foes', 'is triumphal chariot turned:', 'meet him all his Saints', 'lent stood', 'is almighty acts', 'haded with branching palm', 'sung victorious King', 'dominion given', 'reign:  He', 'is Mighty Father throned', 'sits at the right hand of bliss', 'ring things in Heaven by things on Earth', 'thy request', 'yest beware', 'is past', 'have revealed', 'have else to human race been hid', 'iscord which befel', 'lick Powers', 'thy state', 'is plotting how he may seduce', 'from obedience', 'ereaved of happiness', 'yest partake', 'is solace and revenge', 'gainst the Most High', 'is woe', 'listen not to his temptations', 'have heard', 'errible example', 'have stood', 'fear to transgress', 'from Heaven', 'art called', 'ill I soar', 'light of Pegasean wing', 'call: for thou', 'uses nine', 'ills appeared', 'fountain flowed', 'isdom didst converse', 'isdom thy sister', 'didst play', 'resence of the Almighty Father', 'thy celestial song', 'led by thee', 'have presumed', 'arthly guest', 'drawn empyreal air', 'guided down', 'turn me to my native element:', 'flying steed unreined', 'from a lower clime', 'ere to wander', 'remains unsung', 'ower bound', 'isible diurnal sphere', 'sing with mortal voice', 'oarse or mute', 'fallen on evil days', 'though fallen', 'passed round', 'yet not alone', 'sitest my slumbers nightly', 'govern thou my song', 'dience find', 'drive far off the barbarous dissonance', 'is revellers', 'tore the Thracian bard', 'rocks had ears', 'ill the savage clamour drowned', 'use defend', 'fail not thou', 'thee implores:', 'art heavenly', 'sued when Raphael', 're example', 'befel in Heaven', 'like befall', 'ise to Adam or his race', 'touch the interdicted tree', 'light that sole command', 'beyed amid the choice', 'please their appetite', 'is consorted Eve', 'heard attentive', 'was filled', 'ate in Heaven', 'ear the peace of God in bliss', 'dounded as a flood on those', 'rose: and now', 're to know', 'arer might concern him', 'is world', 'arth conspicuous first began', 'ereof created', 'is memory', 'layed still eyes the current stream', 'heard new thirst excites', 'ask his heavenly guest', 'wonder in our ears', 'is world', 'hast revealed', 'favour sent', 'from the empyrean', 'have been our loss', 'knowledge could not reach', 'infinitely Good we owe', 'is admonishment', 'ran will', 'hast vouchsafed', 'arthly thought', 'yet concerned', 'isdom seemed', 'end now lower', 'avail us known', 'began this Heaven which we behold', 'istant so high', 'moving fires adorned', 'is which yields or fills', 'round this floried Earth', 'is holy rest', 'ate to build', 'work begun', 'bid thou mayest unfold', 'ore the secrets ask', 'is eternal empire', 'is works', 'ore we know', 'light of day yet wants to run', 'is race though steep', 'pense in Heaven', 'thy voice', 'thy potent voice', 'lay to hear thee tell', 'rising birth', 'arent Deep:', 'evening and the moon', 'thy audience', 'ill bring', 'listening to thee', 'is absence', 'ill thy song', 'ismiss thee ere the morning shine', 'is illustrious guest besought:', 'answered mild', 'is also thy request', 'recount almighty works', 'tongue of Seraph can suffice', 'heart of man suffice to comprehend', 'thou canst attain', 'best may serve', 'glorify the Maker', 'hee also happier', 'be withheld', 'ission from above', 'have received', 'answer thy desire', 'knowledge within bounds', 'let thine own inventions hope', 'isible King', 'pressed in night', 'arth or Heaven:', 'left besides to search and know', 'knowledge is as food', 'needs no less', 'rance over appetite', 're what the mind may well contain', 'resses else with surfeit', 'isdom to folly', 'ishment to wind', 'from Heaven', 'call him', 'righter once amidst the host', 'star the stars among', 'is flaming legions through the deep', 'is place', 'eat Son returned', 'is Saints', 'is throne beheld', 'is Son thus spake', 'hath failed', 'like himself rebellious', 'is inaccessible high strength', 'have seised', 'knows here no more:', 'have kept', 'ber sufficient to possess her realms', 'is high temple to frequent', 'isteries due', 'heart exalt him in the harm', 'have dispeopled Heaven', 'be to lose', 'ill create', 'man a race', 'men innumerable', 'ere to dwell', 'rees of merit raised', 'open to themselves at length the way', 'bedience tried', 'changed to Heaven', 'thout end', 'ye Powers of Heaven', 'thou my Word', 'is I perform', 'be it done', 'hadowing Spirit and Might with thee', 'send along', 'bid the Deep', 'bounds be Heaven and Earth', 'because I Am who fill', 'put not forth my goodness', 'is free', 'act or not', 'sity and Chance', 'is Fate', 'spake the Almighty', 'are the acts of God', 'man ears', 'be told', 'told as earthly notion can receive', 'was in Heaven', \"heard declared the Almighty's will\", 'sung to the Most High', 're men', 'dwellings peace', 'avenging ire', 'godly from his sight', 'had ordained', 'better race to bring', 'good to worlds and ages infinite', 'sang the Hierarchies:  Mean while the Son', 'is great expedition now appeared', 'is Father in him shone', 'is chariot numberless were poured', 'armoury of God', 'stand of old', 'between two brazen mountains lodged', 'gainst a solemn day', 'harnessed at hand', 'came forth', 'hem Spirit lived', 'opened wide', 'ring gates', 'golden hinges moving', 'let forth', 'is powerful Word', 'coming to create new worlds', 'round they stood', 'from the shore', 'viewed the vast immeasurable abyss', 'turned by furious winds', 'surging waves', 'enter mix the pole', 'led Waves', 'thou Deep', 'aid then the Omnifick Word', 'iscord end', 'wings of Cherubim', 'aternal glory rode', 'heard his voice:  Him all his train', 'lowed in bright procession', 'wonders of his might', 'aid the fervid wheels', 'is hand', 'took the golden compasses', 'ated things:', 'thy bounds', 'is be thy just circumference', 'formed and void:  Darkness profound', 'atery calm', 'is brooding wings the Spirit of God outspread', 'downward purged', 'areous cold infernal dregs', 'rest to several place', 'spun out the air', 'enter hung', 'be light', 'rung from the deep', 'from her native east', 'journey through the aery gloom began', 'ered in a radiant cloud', 'yet the sun', 'cloudy tabernacle', 'light was good', 'light from darkness by the hemisphere', 'light the Day', 'was the first day even and morn:', 'past uncelebrated', 'from darkness they beheld', 'joy and shout', 'hollow universal orb they filled', 'touched their golden harps', 'hymning praised', 'is works', 'eator him they sung', 'evening was', 'be firmament', 'let it divide', 'from the waters', 'uttermost convex', 'is great round', 'artition firm and sure', 'from those above', 'aters calm', 'fierce extremes', 'istemper the whole frame:', 'named the Firmament:  So even', 'sung the second day', 'was formed', 'womb as yet', 're involved', 'ared not: over all the face of Earth', 'softening all her globe', 'eat mother to conceive', 'ate with genial moisture', 'gathered now ye waters under Heaven', 'let dry land appear', 'ately the mountains huge appear', 'are backs upheave', 'ascend the sky:', 'heaved the tumid hills', 'hollow bottom broad and deep', 'hither they', 'drops on dust conglobing from the dry:', 'crystal wall', 'ridge direct', 'light the great command impressed', 'armies at the call', 'hast heard)', 'atery throng', 'rolling after wave', 'ere way they found', 'rent rapture', 'rock or hill', 'pent errour wandering', 'found their way', 'washy oose deep channels wore', 'had bid the ground be dry', 'ere rivers now', 'draw their humid train', 'dry land', 'eat receptacle', 'ated waters', 'called Seas:', 'saw that it was good', 'yielding seed', 'yielding fruit after her kind', 'seed is in herself upon the Earth', 'had said', 'are Earth', 'art and bare', 'tender grass', 're clad', 'every leaf', 'den flowered', 'pening their various colours', 'made gay', 'smelling sweet: and', 'scarce blown', 'ished thick the clustering vine', 'swelling gourd', 'stood the corny reed', 'led in her field', 'led hair implicit:  Last', 'ately trees', 'ranches hung with copious fruit', 'woods the hills were crowned', 'fountain side', 'arth now', 'like to Heaven', 'ere Gods might dwell', 'wander with delight', 'love to haunt', 'hades: though God had yet not rained', 'ill the ground', 'from the Earth a dewy mist', 'atered all the ground', 'was in the Earth', 'every herb', 'before it grew', 'saw that it was good:', 'recorded the third day', 'gain the Almighty spake', 'be lights', 'from night', 'let them be for signs', 'circling years', 'let them be for lights', 'firmament of Heaven', 'light on the Earth', 'was so', 'made two great lights', 'eat for their use', 'have rule by day', 'made the stars', 'set them in the firmament of Heaven', 'ate the Earth', 'rule the day', 'rule the night', 'light from darkness to divide', 'is great work', 'was good:', 'dies first the sun', 'ere he framed', 'formed the moon', 'every magnitude of stars', 'owed with stars the Heaven', 'thick as a field:', 'light by far the greater part he took', 'ransplanted from her cloudy shrine', 'made porous to receive', 'drink the liquid light', 'firm to retain', 'gathered beams', 'eat palace now of light', 'golden urns draw light', 'morning-planet gilds her horns', 're or reflection they augment', 'from human sight', 'diminution seen', 'is east the glorious lamp was seen', 'vested with bright rays', \"is longitude through Heaven's high road\", 'before him danced', 'weet influence:  Less bright the moon', 'site in levelled west was set', 'full face borrowing her light', 'light she needed none', 'istance keeps', 'turn she shines', 'eat axle', 'lights dividual holds', 'thousand thousand stars', 'isphere:  Then first adorned', 'set and rose', 'owned the fourth day', 'aters generate', 'fly above the Earth', 'layed on the open firmament of Heaven', 'ated the great whales', 'aters generated by their kinds', 'is kind', 'saw that it was good', 'blessed them', 'running streams', 'aters fill', 'let the fowl be multiplied', 'sounds and seas', 'reek and bay', 'fish that with their fins', 'shining scales', 'reen wave', 'art single', 'weed their pasture', 'sporting with quick glance', 'waved coats dropt with gold', 'early shells at ease', 'rocks their food', 'watch: on smooth the seal', 'lay: part huge of bulk', 'ere leviathan', 'living creatures', 'sleeps or swims', 'seems a moving land', 'is gills', 'runk spouts out', 'from the egg that soon', 're forth disclosed', 'callow young', 'ered soon and fledge', 'summed their pens', 'ring the air sublime', 'ised the ground', 'ere the eagle and the stork', 'tops their eyries build:', 'loosely wing the region', 'ore wise', 'ranged in figure', 'wedge their way', 'telligent of seasons', 'set forth', 'sing their flight', 'rudent crane', 'borne on winds', 'fanned with unnumbered plumes:', 'ranch to branch the smaller birds with song', 'spread their painted wings', 'soft lays:', 'downy breast', 'arched neck', 'hite wings mantling proudly', 'ate with oary feet', 'yet oft they quit', 'rising on stiff pennons', 'ereal sky:  Others on ground', 'rested cock whose clarion sounds', 'lent hours', 'rid hue', 'bows and starry eyes', 'aters thus', 'fish replenished', 'morn solemnized the fifth day', 'eation last', 'evening harps and matin', 'living in her kind', 'creeping things', 'beast of the Earth', 'arth obeyed', 'pening her fertile womb teemed at a birth', 'living creatures', 'grown:  Out of the ground up rose', 'is lair', 'beast where he wons', 'rest wild', 'rees in pairs they rose', 'meadows green:', 'are and solitary', 'ring at once', 'ow calved', 'ow half appeared', 'get free', 'is hinder parts', 'broke from bonds', 'is brinded mane', 'led earth above them threw', 'from under ground', 'ranching head:  Scarce from his mould', 'born of earth upheaved', 'is vastness:  Fleeced the flocks and bleating rose', 'between sea and land', 'came forth whatever creeps the ground', 'waved their limber fans', 'ments exact', \"liveries decked of summer's pride\", 'gold and purple', 're and green:', 'dimension drew', 'round with sinuous trace', 'some of serpent-kind', 'added wings', 'heart enclosed', 'equality perhaps', 'joined in her popular tribes', 'warming next appeared', 'feeds her husband drone', 'builds her waxen cells', 'are numberless', 'res knowest', 'gavest them names', 'thee repeated', 'beast of all the field', 'mane terrifick', 'though to thee', 'bedient at thy call', 'ow Heaven in all her glory shone', \"eat first Mover's hand\", 'led their course:  Earth in her rich attire', 'lovely smiled', 'yet remained:', 'wanted yet the master-work', 'yet done', 'brute as other creatures', 'front serene', 'from thence', 'respond with Heaven', 'knowledge whence his good', 'hither with heart', 'rected in devotion', 'worship God Supreme', 'made him chief', 'is works:  therefore the Omnipotent', 'is not he', 'is Son audibly spake', 'make now Man in our image', 'let them rule', 'fish and fowl of sea and air', 'creeping thing that creeps the ground', 'formed thee', 'thy nostrils breathed', 'eath of life', 'is own image he', 'image of God', 'camest a living soul', 'ated thee', 'thy consort', 'blessed mankind', 'fill the Earth', 'dominion hold', 'fish of the sea', 'owl of the air', 'living thing that moves on the Earth', 'erever thus created', 'istinct by name', 'thou knowest', 'brought thee into this delicious grove', 'planted with the trees of God', 'hold and taste', 'reely all their pleasant fruit for food', 'are here that all the Earth yields', 'thout end', 'knowledge of good and evil', 'yest not', 'thou eatest', 'is the penalty imposed', 'govern well thy appetite', 'lack attendant Death', 'ished he', 'had made', 'hold all was entirely good', 'ished the sixth day:', 'is work', 'is high abode', 'hold this new created world', 'addition of his empire', 'ow it showed', 'is throne', 'is great idea', 'lowed with acclamation', 'thousand harps', 'harmonies:  The earth', 'thou heardst', 'tellations rung', 'listening stood', 'ended jubilant', 'lasting gates', 'living doors', 'is work returned', 'is six days work', 'ill deign', 'sit oft the dwellings of just men', 'requent intercourse', 'send his winged messengers', 'rands of supernal grace', 'ascending:  He through Heaven', 'blazing portals', 'direct the way', 'is gold', 'ment stars', 'thee appear', 'circling zone', 'ered with stars', 'arth the seventh', 'rose in Eden', 'light from the east came on', 'ated top', 'fixed for ever firm and sure', 'ower arrived', 'sat him down', 'is great Father', 'work ordained', 'blessed and hallowed the seventh day', 'is work', 'kept: the harp', 'rested not', 'weet stop', 'golden wire', 'ered soft tunings', 'mixed with voice', 'ison: of incense clouds', 'golden censers', 'hid the mount', 'eation and the six days acts they sung:', 'are thy works', 'thought can measure thee', 'ater now in thy return', 'from the giant Angels:  Thee that day', 'ater than created to destroy', 'impair thee', 'counsels vain', 'hast repelled', 'hee to diminish', 'from thee withdraw', 'ber of thy worshippers', 'lessen thee', 'is purpose serves', 'is evil', 'from thence createst more good', 'made world', 'ate not far', 'founded in view', 'clear hyaline', 'haps a world', 'destined habitation', 'thou knowest', 'eat of Men', 'happy Men', 'hath thus advanced', 'is image', 'ere to dwell', 'worship him', 'reward to rule', 'is works', 'multiply a race of worshippers', 'ere upright', 'sung they', 'rean rung', 'was sabbath kept', 'think now fulfilled', 'is world and face of things began', 'before thy memory was done', 'formed by thee', 'know:  If else thou seekest', 'passing human measure', 'harming left his voice', 'ill speaking', 'stood fixed to hear', 'gratefully replied', 'thanks sufficient', 'have I to render thee', 'hast allayed', 'had of knowledge', 'is friendly condescension to relate', 'is due', 'tributed to the high', 'mething yet of doubt remains', 'thy solution can resolve', 'goodly frame', 'arth consisting', 'firmament compared', 'bered stars', 'seem to roll', 'istance argues', 'ate light', 'is opacous Earth', 'is punctual spot', 'reasoning I oft admire', 'ise and frugal could commit', 'dies to create', 'ater so manifold', 'is one use', 'aught appears', 'restless revolution day by day', 'dentary Earth', 'pass move', 'ore noble than herself', 'end without least motion', 'journey brought', 'oreal speed', 'warmth and light', 'be whose swiftness number fails', 'spake our sire', 'is countenance seemed', 'thoughts abstruse', 'sat retired in sight', 'from her seat', 'saw to wish her stay', 'went forth among her fruits and flowers', 'sit how they prospered', 'coming sprung', 'touched by her fair tendance', 'went she not', 'was high: such pleasure she reserved', 'ater she preferred', 'solve high dispute', 'aresses: from his lip', 'pleased her', 'meet now', 'love and mutual honour joined', 'like demeanour forth she went', 'waited still', 'from about her shot darts of desire', 'ish her still in sight', 'doubt proposed', 'lent and facile thus replied', 'ask or search', 'thee not', 'before thee set', 'read his wonderous works', 'is to attain', 'move or Earth', 'reckon right', 'eat Architect', 'isely to conceal', 'is secrets to be scanned by them who ought', 'ist to try', 'is fabrick of the Heavens', 'left to their disputes', 'haps to move', 'is laughter at their quaint opinions wide', 'come to model Heaven', 'ate the stars', 'ill wield', 'save appearances', 'ow gird the sphere', \"led o'er\", 'ready by thy reasoning this I guess', 'thy offspring', 'ater should not serve', 'journeys run', 'sitting still', 'benefit:  Consider first', 'excellence: the Earth', 'ison of Heaven', 'good contain', 'ore plenty than the sun that barren shines', 'works no effect', 'ere first received', 'gour find', 'are those bright luminaries', 'let it speak', 'stretched out so far', 'know he dwells not in his own', 'is Lord best known', 'circles attribute', 'is Omnipotence', 'oreal substances could add', 'thinkest not slow', 'from Heaven', 'ere God resides', 'ere mid-day arrived', 'have name', 'is I urge', 'doubt it moved', 'though so it seem', 'hast thy dwelling here on Earth', 'is ways from human sense', 'from Earth so far', 'arthly sight', 'err in things too high', 'enter to the world', 'is attractive virtue and their own', 'dance about him various rounds', 'ring course now high', 'standing still', 'thou seest', 'eventh to these', 'though she seem', 'rent motions move', 'eres thou must ascribe', 'art obliquities', 'is labour', 'turnal and diurnal rhomb supposed', 'isible else above all stars', 'needs not thy belief', 'dustrious of herself', 'art averse', 'meet night', 'is ray', 'ranspicuous air', 'restrial moon be as a star', 'lightening her by day', 'be there', 'thou seest', 'clouds may rain', 'rain produce', 'softened soil for some to eat', 'tendant moons', 'thou wilt descry', 'ate the world', 'tored in each orb perhaps with some that live', 're unpossessed', 'living soul', 'art and desolate', 'yet scarce to contribute', 'yed so far', 'is habitable', 'back to them', 'is obvious to dispute', 'dominant in Heaven', 'ise on the earth', 'rise on the sun', 'is flaming road begin', 'from west her silent course advance', 'spinning sleeps', 'soft axle', 'paces even', 'bears thee soft with the smooth hair along', 'thoughts with matters hid', 'hem to God above', 'pleases best', 'let him dispose', 'gives to thee', 'thy fair Eve', 'is for thee too high', 'passes there', 'be lowly wise:', 'concerns thee', 'thy being', 'ream not of other worlds', 'eatures there', 'been revealed', 'arth only', 'ared of doubt', 'satisfied me', 'telligence of Heaven', 'from intricacies', 'taught to live', 'easiest way', 'interrupt the sweet of life', 'dwell far off all anxious cares', 'molest us', 'ring thoughts', 'is to rove', 'is no end', 'know at large of things remote', 're and subtle', 'lies in daily life', 'isdom:  What is more', 'renders us', 'ill to seek', 'is high pitch let us descend', 'lower flight', 'speak of things at hand', 'mention may arise', 'mething not unseasonable to ask', 'wonted favour', 'heard relating what was done', 'rance: now', 'hear me relate', 'hast not heard', 'is not yet spent', 'ill then thou seest', 'thee I devise', 'hear while I relate', 'ere it not in hope of thy reply:', 'sit with thee', 'seem in Heaven', 'iscourse is to my ear', 'ree pleasantest to thirst', 'hunger both', 'weet repast', 'thy words', 'bring to their sweetness no satiety', 'answered heavenly meek', 'are thy lips ungraceful', 're of men', 'tongue ineloquent', 'is gifts hath also poured', 'is image fair:', 'comeliness and grace', 'think we in Heaven of thee on Earth', 'hath honoured thee', 'love:  Say therefore on', 'was absent', 'ates of Hell', 'ared in full legion (such command we had)', 'issued forth a spy', 'is work', 'incensed at such eruption bold', 'have mixed', 'leave attempt', 'sends upon his high behests', 'ran King', 'prompt obedience', 'ismal gates', 'doed strong', 'heard within', 'dance or song', 'turned up to the coasts of light', 'had in charge', 'relation now', 'eased with thy words no less than thou with mine', 'like Power', 'tell how human life began', 'beginning knew', 'thee still longer to converse', 'from soundest sleep', 'found me laid', 'is beams the sun', 'isture fed', 'wondering eyes I turned', 'gazed a while the ample sky', 'instinctive motion', 'hitherward endeavouring', 'round I saw', 'hady woods', 'murmuring streams', 'lived and moved', 'ranches warbling', \"heart o'erflowed\", 'self I then perused', 'limb by limb', 'metimes went', 'metimes ran', 'lively vigour led:', 'from what cause', 'speak I tried', 'tongue obeyed', 'readily could name', \"ate'er I saw\", 'lightened Earth', 'resh and gay', 'live and move', 'ye saw', 'came thus', 'eat Maker then', 'goodness and in power pre-eminent:', 'know him', 'have that thus I move and live', 'feel that I am happier than I know', 'knew not whither', 'drew air', 'is happy light', 'answer none returned', 'hady bank', 'use of flowers', 'sat me down:  There gentle sleep', 'found me', 'soft oppression seised', 'used sense', 'though I thought', 'passing to my former state', 'stood at my head a dream', 'believe I yet had being', 'lived:  One came', 'hape divine', 'wants thee', 'men innumerable ordained', 'called by thee', 'come thy guide', 'den of bliss', 'eat prepared', 'took me raised', 'fields and waters', 'thout step', 'led me up', 'woody mountain', 'was plain', 'goodliest trees', 'before scarce pleasant seemed', 'hung to the eye', 'stirred in me sudden appetite', 'pluck and eat', 'ereat I waked', 'yes all real', 'lively shadowed:  Here had new begun', 'had not he', 'was my guide', 'from among the trees appeared', 'is feet I fell', 'ared me', 'soughtest I am', 'is thou seest', 'round about thee', 'is Paradise I give thee', 'count it thine', 'ill and keep', 'ree that in the garden grows', 'reely with glad heart', 'fear here no dearth:', 'ree whose operation brings', 'good and ill', 'have set', 'ledge of thy obedience and thy faith', 'ree of life', 'warn thee', 'shun to taste', 'shun the bitter consequence: for know', 'atest thereof', 'thou shalt die', 'is happy state', 'from hence into a world', 'readful in mine ear', 'though in my choice', 'is clear aspect', 'thee and to thy race I give', 'erein live', 'live in sea', 'beast behold', 'bring them to receive', 'thee their names', 'thee fealty', 'low subjection', 'stand the same', 'fish within their watery residence', 'hither summoned', 'since they cannot change', 'draw the thinner air', 'beast behold', 'cowering low', 'stooped on his wing', 'named them', 'knowledge God endued', 'rehension:  But in these', 'found not what methought I wanted still', 'ision thus presumed', 'thou above all these', 'aught than mankind higher', 'passest far my naming', 'ow may I', 'is universe', 'good to man', 'well being', 'hands so liberal', 'hast provided all things:  But with me', 'see not who partakes', 'enjoy alone', 'ment find', 'ision bright', 'smile more brightened', 'callest thou solitude', 'living creatures', 'thy command', 'lay before thee', 'thou not', 'reason not contemptibly:  With these', 'bear rule', 'is large', 'spake the Universal Lord', 'ring:  I', 'leave of speech implored', 'offend thee', 'be propitious while I speak', 'made me here thy substitute', 'beneath me set', 'equals what society', 'rue delight', 'be mutual', 'ill remiss', 'well suit with either', 'fellowship I speak', 'fit to participate', 'light: wherein the brute', 'be human consort:  They rejoice', 'hast combined:', 'bird with beast', 'fish with fowl', 'well converse', 'man with beast', 'least of all', 'ereto the Almighty answered', 'self proposest', 'thy associates', 'wilt taste', 'though in pleasure', 'thinkest thou then of me', 'is my state', 'thee sufficiently possessed', 'equal much less', 'have I then with whom to hold converse', 'eatures which I made', 'are to thee', 'lowly answered', 'thy eternal ways', 'come short', 'reme of things', 'self art perfect', 'found:  Not so is Man', 'is desire', 'sation with his like to help', 'is defects', 'need that thou', 'bers absolute', 'is to manifest', 'is single imperfection', 'is like', 'is image multiplied', 'arest amity', 'resy although alone', 'self accompanied', 'ise thy creature to what highth thou wilt', 'placence find', 'dened spake', 'dom used', 'acceptance found', 'answer from the gracious Voice Divine', 'try thee', 'was pleased', 'find thee knowing', 'beasts alone', 'hast rightly named', 'sing well the spirit within thee free', 'parted to the brute', 'fellowship therefore unmeet for thee', 'was thou freely shouldst dislike', 'be so minded still:  I', 'ere thou spakest', 'good for Man to be alone', 'thou sawest', 'see how thou couldest judge of fit and meet:', 'bring shall please thee', 'thy fit help', 'thy other self', \"heart's desire\", 'heard no more', 'is heavenly overpowered', 'stood under', 'rained to the highth', 'colloquy sublime', 'excels the sense', 'led and spent', 'sought repair', 'fell on me', 're as in aid', 'closed mine eyes', 'yes he closed', 'left the cell', 'act as in a trance', 'methought I saw', 'ere I lay', 'saw the shape', 'wake I stood:', 'stooping opened my left side', 'streaming fresh', 'was the wound', 'filled up and healed:', 'fashioned with his hands', 'is forming hands a creature grew', 'rent sex', 'lovely fair', 'seemed fair in all the world', 'summed up', 'from that time infused', 'weetness into my heart', 'from her air inspired', 'love and amorous delight', 'left me dark', 'find her', 'ever to deplore', 'res all abjure:', 'saw her in my dream', 'arth or Heaven could bestow', 'make her amiable:  On she came', 'heavenly Maker', 'guided by his voice', 'marriage rites:', 'was in all her steps', 're dignity and love', 'bear aloud', 'made amends', 'hast fulfilled', 'eator bounteous and benign', 'rest this', 'thy gifts', 'ow see', 'is her name', 'is cause he shall forego', 'is wife adhere', 'be one flesh', 'heard me thus', 'though divinely brought', 'be wooed', 'be won', 'ore desirable', 'say all', 're of sinful thought', 'followed her', 'was honour knew', 'pleaded reason', 'led her blushing like the morn: All Heaven', 'happy constellations', 'electest influence', 'resh gales and gentle airs', 'ispered it to the woods', 'from their wings', 'from the spicy shrub', 'ill the amorous bird of night', 'haste the evening-star', 'is hill top', 'light the bridal lamp', 'have I told thee all my state', 'arthly bliss', 'confess to find', 'light indeed', 'used or not', 'works in the mind no change', 'ment desire', 'mean of taste', 'birds: but here', 'ransported I behold', 'passion first I felt', 'enjoyments else', 'ere only weak', \"harm of Beauty's powerful glance\", 'failed in me', 'left some part', 'object to sustain', 'from my side subducting', 'ore than enough', 'least on her bestowed', 'stand in the prime end', 're her the inferiour', 'resembling less', 'made both', 'dominion given', 'eatures:  Yet when I approach', 'self complete', 'well to know', 'do or say', 'knowledge in her presence falls', 'isdom in discourse with her', 'like Folly shows', 'ended first', 'ate all', 'eatness of mind and Nobleness their seat', 'ate an awe', 'guard angelick placed', 'acted brow', 'use not Nature', 'done her part', 'thou but thine', 'be not diffident', 'thee not', 'ismiss not her', 'needest her nigh', 'attributing overmuch to things', 'self perceivest', 'rest thou', 'ransports thee so', 'thy well', 'thy love', 'thy subjection:  Weigh with her thyself', 'value:  Oft-times nothing profits more', 'rounded on just and right', 'kill the more thou knowest', 'knowledge thee her head', 'yield all her shows:', 'light the more', 'yest love', 'seen least wise', 'sense of touch', 'seem such dear delight', 'think the same vouchsafed', 'made common and divulged', 'erein enjoyed were worthy to subdue', 'soul of man', 'passion in him move', 'thou findest', 'dost well', 'passion not', 'love consists not:  Love refines', 'heart enlarges', 'is seat', 'is judicious', 'is the scale', 'love thou mayest ascend', 'sunk in carnal pleasure', 'beasts no mate for thee was found', 'formed so fair', 'eation common to all kinds', 'bed by far', 'erence I deem', 'lights me', 'thousand decencies', 'mixed with love', 'weet compliance', 'are unfeigned', 'hold in wedded pair', 'harmonious sound to the ear', 'thee disclose', 'erefore foiled', 'meet with various objects', 'from the sense', 'prove the best', 'follow what I approve', 'thou blamest me not', 'is both the way and guide', 'ear with me then', 'heavenly Spirits', 'ow their love', 'looks only', 'do they mix', 'ate touch', 'smile that glowed', 'oper hue', 'thee that thou knowest', 'love no happiness', 'atever pure thou in the body enjoyest', 'ated) we enjoy', 'find none', 're with pure', 'restrained conveyance need', 'mix with flesh', 'soul with soul', 'ow no more', 'parting sun', 'reen Cape and verdant Isles', 'love is to obey', 'is great command', 'passion sway', 'do aught', 'ree will', 'admit: thine', 'thy sons', 'is placed', 'ring shall rejoice', 'stand or fall', 'ree in thine own arbitrement it lies', 'aid require', 'ransgress repel', 'lowed with benediction', 'goodness I adore', 'hath been', 'be honoured ever', 'grateful memory:  Thou to mankind', 'good and friendly still', 'oft return', 'parted they', 'thick shade', 'is bower', 'ere God or Angel guest', 'is friend', 'sit indulgent', 'permitting him the while', \"iscourse unblam'd\", 'ow must change', 'notes to tragick', 'isloyal on the part of Man', 'isobedience: on the part of Heaven', 'istance and distaste', 'judgement given', 'brought into this world a world of woe', 'hadow Death', \"eath's harbinger: Sad task\", 'ore heroick than the wrath', 'is foe pursued', \"erea's son:\", 'answerable style I can obtain', \"sitation unimplor'd\", 'ates to me slumbering', 'ated verse:', 'is subject for heroick song', 'beginning late', 're to indite', 'hitherto the only argument', \"deem'd chief mastery to dissect\", 'led knights', 'better fortitude', 'be races and games', 'tilting furniture', 'isons and steeds', 'kill of artifice or office mean', 'gives heroick name', \"kill'd nor studious\", 'self to raise', 'ended wing', 'be mine', 'brings it nightly to my ear', 'was sunk', 'is to bring', 'light upon the earth', 'from end to end', \"had veil'd the horizon round:\", 'led before the threats', 'ated fraud and malice', 're what might hap', 'passing the earth', 'regent of the sun', 'oreworned the Cherubim', 'kept their watch', 'ish driven', 'continued nights he rode', 'thrice the equinoctial line', 'crossed the car of night', 'pole to pole', 'sing each colure', 'coast averse', 'rance or Cherubick watch', 'suspected way', 'was a place', 'wrought the change', 'shot under ground', 'ree of life:', 'rising mist', 'lie hid', 'had searched', 'den over Pontus and the pool', 'beyond the river Ob', 'ownward as far antarctick', 'from Orontes to the ocean barred', 'ere flows', 'ow search', 'ered every creature', 'is wiles', 'beast of all the field', 'thoughts revolved', 'sentence chose', 'fittest imp of fraud', 'is dark suggestions hide', 'sharpest sight: for', 'is wit and native subtlety', 'beasts observed', 'get of diabolick power', 'beyond the sense of brute', 'from inward grief', 'bursting passion into plaints thus poured', 'eat worthier of Gods', 'was old', 'like to Heaven', 'round by other Heavens', 'bear their bright officious lamps', 'thee alone', 'ring all their precious beams', 'red influence', 'tends to all', 'receivest from all those orbs: in thee', 'known virtue appears', 'ate with gradual life', 'summed up in Man', 'light could I have walked thee round', 'joy in aught', 'rest crowned', 'place or refuge', 'ore I see', 'res about me', 'ore I feel', 'ment within me', 'from the hateful siege', 'good to me becomes', 'be my state', 'seek I', \"ring Heaven's Supreme\", 'be myself less miserable', 'make such', 'ereby worse to me redound:', 'find ease', 'relentless thoughts', 'won to what may work his utter loss', 'is was made', 'is will soon', 'linked in weal or woe', 'be the glory sole among', 'infernal Powers', 'have marred', 'knows how long', 'had been contriving', 'since I', 'well nigh half', 'lick name', 'left the throng', 'is adorers: He', 'be avenged', 'is numbers thus impaired', 'spent of old now failed', 'ore Angels to create', 'is created', 'spite us more', 'advance into our room', 'formed of earth', 'from so base original', 'heavenly spoils', 'spoils: What he decreed', 'is world', 'is seat', 'is service angel-wings', 'isters to watch and tend', 'arthly charge: Of these the vigilance', 'wrapt in mist', 'pour glide obscure', 'every bush and brake', 'ere hap may find', 'pent sleeping', 'hide me', 'intent I bring', 'erst contended', 'sit the highest', 'ow constrained', 'bestial slime', 'is essence to incarnate and imbrute', 'ill not ambition and revenge', 'down as low', 'though sweet', 'ere long', 'back on itself recoils:', 'reck not', 'light well aimed', 'fall short', 'is new favourite', 'is man of clay', 'ore to spite', 'is Maker raised', 'is best repaid', 'thicket dank or dry', 'ist low-creeping', 'held on', 'ere soonest he might find', 'sleeping soon he found', 'round self-rolled', 'is head the midst', 'tored with subtile wiles:', 'hade or dismal den', 'ared he slept: in at his mouth', 'is brutal sense', 'heart or head', 'act intelligential', 'is sleep', 'close the approach of morn', 'began to dawn', 'den on the humid flowers', 'morning incense', 'send up silent praise', 'is nostrils fill', 'grateful smell', 'came the human pair', 'joined their vocal worship to the quire', 'eatures wanting voice', 'weetest scents and airs:', 'best may ply', 'growing work: for much their work out-grew', 'ispatch of two gardening so wide', 'ill to dress', 'ill to tend plant', 'ask enjoined', 'ill more hands', 'work under our labour grows', 'growth derides', 'ending to wild', 'erefore now advise', 'bear what to my mind first thoughts present:', 'divide our labours', 'ere most needs', 'woodbine round this arbour', 'ere to climb', 'roses intermixed', 'find what to redress till noon:', 'ear each other thus all day', 'ask we choose', 'wonder if so near', 'object new', 'iscourse draw on', 'brought to little', 'comes unearned', 'answer Adam thus returned', 'are above all living creatures dear', 'hast thou motioned', 'thoughts employed', 'best fulfil the work which here', 'hath assigned us', 'shalt pass', 'lovelier can be found', 'hold good', 'good works in her husband to promote', 'hath our Lord imposed', 'bar us when we need', 'talk between', 'is sweet intercourse', 'looks and smiles', 'from reason flow', 'brute denied', 'love the food', 'lowest end of human life', 'some toil', 'made us', 'light to reason joined', 'doubt not but our joint hands', 'from wilderness with ease', 'need walk', 'hands ere long', 'converse perhaps', 'metimes is best society', 'urges sweet return', 'doubt possesses me', 'from me', 'thou knowest', 'warned us', 'is own', 'seeks to work us woe and shame', 'ere nigh at hand', 'hope to find', 'is wish and best advantage', 'circumvent us joined', 'aid might lend at need:', 'is first design be to withdraw', 'from God', 'haps no bliss', 'is envy more', 'leave not the faithful side', 'gave thee being', 'hades thee', 'ishonour lurks', 'seemliest by her husband stays', 'guards her', 'some unkindness meets', 'ere composure thus replied', 'ring of Heaven and Earth', \"arth's Lord\", 'formed I learn', 'from the parting Angel over-heard', 'stood behind', 'turned at shut of evening flowers', 'erefore doubt', 'have a foe', 'tempt it', 'expected not to hear', 'arest not', 'eath or pain', 'is fraud is then thy fear', 'equal fear', 'firm faith and love', 'is fraud be shaken or seduced', 'found they harbour in thy breast', 'is-thought of her to thee so dear', 'healing words Adam replied', 'aughter of God and Man', 'thou art', 'from sin and blame entire:', 'do I dissuade', 'from my sight', 'tempt itself', 'ended by our foe', 'though in vain', 'least asperses', 'ishonour foul', 'corruptible of faith', 'gainst temptation: Thou thyself with scorn', 'sent the offered wrong', 'found: misdeem not then', 'front I labour to avert', 'thee alone', 'ill hardly dare', 'assault shall light', 'is malice and false guile contemn', 'needs must be', \"think superfluous other's aid\", 'from the influence of thy looks', 'every virtue', 'thy sight', 'need were', 'looking on', 'come or over-reached', 'gour raise', 'raised unite', 'like sense within thee feel', 'thy trial choose', 'best witness of thy virtue tried', 'is care', 'tributed to her faith sincere', 'reply with accent sweet renewed', 'is be our condition', 'straitened by a foe', 'like defence', 'are we happy', 'fear of harm', 'harm precedes not sin: only our foe', 'is foul esteem', 'is foul esteem', 'ishonour on our front', 'erefore shunned or feared', 'double honour gain', 'is surmise proved false', 'find peace within', 'from Heaven', 'from the event', 'is faith', 'help sustained', 'happy state', 'perfect by the Maker wise', 'single or combined', 'is our happiness', 'is be so', 'ere no Eden', 'are all things as the will', 'is creating hand', 'perfect or deficient left', 'is happy state secure', 'from outward force', 'lies within his power:', 'is will he can receive no harm', 'left free the will', 'made right', 'be ware', 'ill erect', 'good surprised', 'ate false', 'is-inform the will', 'do what God expressly hath forbid', 'tender love', 'thee oft', 'mind thou me', 'yet possible to swerve', 'object by the foe suborned', 'fall into deception unaware', 'keeping strictest watch', 'was warned', 'temptation then', 'from me', 'come unsought', 'prove thy constancy', 'thy obedience', 'seeing thee attempted', 'thou think', 'sought may find', 'warned thou seemest', 'thy stay', 'sents thee more', 'thy native innocence', 'hast of virtue', 'is part', 'spake the patriarch of mankind', 'ission then', 'fly by what thy own last reasoning words', 'least sought', 'find us both perhaps far less prepared', 'illinger I go', 'ill first the weaker seek', 'is repulse', 'hand her hand', 'oft she withdrew', 'like a Wood-Nymph light', 'read or Dryad', 'took her to the groves', 'like deport', 'bow and quiver armed', 'yet rude', 'eres in her prime', 'roserpina from Jove', 'look his eye pursued', 'ring more her stay', 'is charge of quick return', 'oft engaged', 'turned by noon amid the bower', 'best order to invite', 'resumed return', 'from that hour in Paradise', 'weet repast', 'sound repose', 'hid among sweet flowers and shades', 'rancour imminent', 'thy way', 'send thee back', 'led of innocence', 'break of dawn', 'ere serpent in appearance', 'was come', 'is quest', 'liest he might find', 'included race', 'is purposed prey', 'bower and field he sought', 'ere any tuft', 'ore pleasant lay', 'plantation for delight', 'hady rivulet', 'sought them both', 'ished his hap might find', 'dom chanced', 'is wish', 'is hope', 'ate he spies', 'led in a cloud of fragrance', 'ere she stood', 'roses blushing round', 'stooping to support', 'flower of slender stalk', 'specked with gold', 'hem she upstays', 'mindless the while', 'rest unsupported flower', 'best prop so far', 'storm so nigh', 'arer he drew', 'walk traversed', 'liest covert', 'thick-woven arborets', 'ered on each bank', 'hand of Eve:', 'ore delicious than those gardens feigned', 'revived Adonis', 'ere the sapient king', 'place admired', 'uses thick and sewers annoy the air', \"issuing on a summer's morn\", 'illages and farms', 'met conceives delight', 'like step', 'sing seemed', 'pleases more', 'look sums all delight:', 'took the Serpent to behold', 'is flowery plat', 'recess of Eve', 'heavenly form', 'ore soft', 'every air', 'least action', 'weet bereaved', 'is fierceness of the fierce intent it brought:', 'acted stood', 'is own evil', 'is delight', 'res him now more', 'ore he sees', 'ordained: then soon', 'ate he recollects', 'is thoughts', 'have ye led me', 'brought us', 'ise for Hell', 'ere to taste', 're to destroy', 'is in destroying', 'is lost', 'let me not let pass', 'ow smiles', 'view far round', 'tellectual more I shun', 'restrial mould', 'from wound', 'hath Hell debased', 'was in Heaven', 'love for Gods', 'be in love', 'approached by stronger hate', 'love well feigned', 'ruin now I tend', 'spake the enemy of mankind', 'oward Eve', 'dressed his way: not with indented wave', 'is rear', 'rising folds', 'surging maze', 'is eyes', 'burnished neck of verdant gold', 'is circling spires', 'is shape', 'since of serpent-kind', 'is with her who bore', 'act oblique', 'sought access', 'is way', 'men wrought', 'ere the wind', 'oft so steers', 'shifts her sail:', 'varied he', 'is tortuous train', 'led many a wanton wreath in sight of Eve', 're her eye', 'heard the sound', 'rusling leaves', 'minded not', 'isport before her through the field', 'every beast', 'ore duteous at her call', 'call the herd disguised', 'called before her stood', 'ring: oft he bowed', 'is turret crest', 'led neck', 'round whereon she trod', 'is play', 'is fraudulent temptation thus began', 'art sole wonder', 'ispleased that I approach thee thus', 'have feared', 'ore awful thus retired', 'rest resemblance of thy Maker fair', 'living gaze on', 'beauty adore', 'ishment beheld', 'best beheld', 'ere universally admired', 'is enclosure wild', 'beasts among', 'low to discern', 'is fair', 'man except', 'sees thee', 'is one', 'be seen', 'dored and served', 'thy daily train', 'glozed the Tempter', 'is proem tuned:', 'made way', 'answer spake', 'is mean', 'man pronounced', 'tongue of brute', 'man sense expressed', 'thought denied', 'ated mute to all articulate sound:', 'beast of all the field', 'man voice endued', 'is miracle', 'speakable of mute', 'grown above the rest', 'are in sight', 'wonder claims attention due', 'guileful Tempter thus replied', 'is fair world', 'tell thee all', 'thou commandest', 'be obeyed:', 'beasts that graze', 'den herb', 'thoughts and low', 'was my food', 'aught but food discerned', 'ended nothing high:', 'roving the field', 'goodly tree far distant to behold', 'rest colours mixed', 'arer drew to gaze', 'from the boughs a savoury odour blown', 'ateful to appetite', 'pleased my sense', 'weetest fennel', 'goat dropping with milk at even', 'sucked of lamb or kid', 'tend their play', 'satisfy the sharp desire I had', 'tasting those fair apples', 'hunger and thirst at once', 'quickened at the scent', 'ring fruit', 'urged me so keen', 'runk I wound me soon', 'from ground', 'ranches would require', \"reach or Adam's: Round the tree\", 'beasts that saw', 'like desire', 'envying stood', 'ree now got', 'ere plenty hung', 'pluck and eat my fill', 'ared not', 'ill that hour', 'feed or fountain', 'had I found', 'ated at length', 'ere long I might perceive', 'range alteration in me', 'reason in my inward powers', 'is shape retained', 'turned my thoughts', 'isible in Heaven', 'good in thy divine', \"beauty's heavenly ray\", 'lent or second', 'though importune perhaps', 'thee of right declared', 'ran of creatures', 'talked the spirited sly Snake', 'ore amazed', 'leaves in doubt', 'thee first proved:', 'grows the tree', 'from hence how far', 'are the trees of God that grow', 'lies our choice', 'leaves a greater store of fruit untouched', 'hanging incorruptible', 'ow up to their provision', 'ore hands', 'isburden Nature of her birth', 'is ready', 'ow of myrtles', 'thicket past', 'blowing myrrh and balm: if thou accept', 'bring thee thither soon', 'made intricate seem straight', 'ischief swift', 'is crest', 'ring fire', 'act of unctuous vapour', 'led through agitation to a flame', 'some evil Spirit attends', 'blazing with delusive light', 'isleads the amazed night-wanderer from his way', 'bogs and mires', 'oft through pond or pool', 'swallowed up and lost', 'from succour far', 'istered the dire Snake', 'redulous mother', 'root of all our woe', 'guide she spake', 'have spared our coming hither', 'be here to excess', 'rest with thee', 'cause of such effects', 'is tree we may not taste nor touch', 'left that command', 'is voice', 'is our law', 'guilefully replied', 'said that of the fruit', 'ye shall not eat', 'ared of all in earth or air', 'ree in the garden we may eat', 'is fair tree amidst', 'hath said', 'touch it', 'ye die', 'had said', 'ore bold', 'show of zeal and love', 'is wrong', 'puts on', 'passion moved', 'comely and in act', 'eat matter to begin', 'some orator renowned', 'ree Rome', 'eat cause addressed', 'self collected', 'won audience ere the tongue', 'metimes in highth began', 'reface brooking', 'is zeal of right:', 'isdom-giving Plant', 'feel thy power', 'trace the ways', 'owever wise', 'is universe', 'do not believe', 'eats of death: ye shall not die:', 'ow should you', 'gives you life', 'look on me', 'have touched and tasted', 'yet both live', 'have attained than Fate', 'ring higher than my lot', 'shut to Man', 'is ire', 'eath denounced', 'atever thing death be', 'from achieving what might lead', 'happier life', 'knowledge of good and evil', 'is evil', 'since easier shunned', 'erefore cannot hurt ye', 'be just', 'ared then', 'moves the fear', 'is forbid', 'keep ye low and ignorant', 'knows that in the day', 'eat thereof', 'seem so clear', 'are but dim', 'be then', 'pened and cleared', 'be as Gods', 'good and evil', 'be as Gods', 'since I as Man', 'is but proportion meet', 'die perhaps', 'putting off', 'put on Gods', 'be wished', 'is can bring', 'are Gods', 'like food', 'are first', 'from them proceeds:', 'question it', 'is fair earth I see', 'armed by the sun', 'producing every kind', 'good and evil in this tree', 'eats thereof', 'isdom without their leave', 'erein lies', 'attain to know', 'knowledge hurt him', 'is tree', 'is will', 'be his', 'is it envy', 'envy dwell', 'heavenly breasts', 'many more', 'is fair fruit', 'reely taste', 'is words', 'lete with guile', 'heart too easy entrance won:', 'tempt alone', 'ears the sound', 'rung of his persuasive words', 'drew on', 'raised by the smell', 'grown to touch or taste', 'cited her longing eye', 'sing a while', 'self she mused', 'are thy virtues', 'best of fruits', 'kept from man', 'be admired', 'cution to the mute', 'made for speech to speak thy praise:', 'ise he also', 'bids thy use', 'from us', 'thee the tree', 'knowledge both of good and evil', 'bids us then to taste', 'is forbidding', 'thee more', 'infers the good', 'thee communicated', 'known sure is not had', 'yet unknown', 'had at all', 'bids he but to know', 'bids us good', 'be wise', 'bind not', 'profits then', 'is fair fruit', 'doom is', 'dies the Serpent', 'aten and lives', 'ill then', 'eath invented', 'tellectual food', 'beasts reserved', 'seems: yet that one beast which first', 'tasted envies not', 'brings with joy', 'good befallen him', 'endly to man', 'from deceit or guile', 'fear I then', 'know to fear', 'good and evil', 'grows the cure of all', 'is fruit divine', 'inviting to the taste', 'make wise:  What hinders then', 'feed at once both body and mind', 'hand in evil hour', 'reaching to the fruit', 'felt the wound', 'from her seat', 'gave signs of woe', 'was lost', 'thicket slunk', 'well might', 'ow wholly on her taste', 'light till then', 'ever tasted', 'fancied so', 'expectation high', 'from her thought', 'gorged without restraint', 'knew not eating death:  Satiate at length', 'hightened as with wine', 'singly began', 'recious of all trees', 'operation blest', 'let hang', 'early care', 'thout song', 'tend thee', 'burden ease', 'ranches offered free to all', 'dieted by thee', 'grow mature', 'envy what they cannot give:', 'had the gift been theirs', 'had not here', 'thee I owe', 'following thee', 'had remained', \"isdom's way\", 'givest access', 'ret she retire', 'is high', 'see from thence distinct', 'are perhaps', 'have diverted from continual watch', 'eat Forbidder', 'is spies', 'make known', 'yet my change', 'give him to partake', 'happiness with me', 'knowledge in my power', 'add what wants', 'is love', 'ore equal', 'is free', 'have seen', 'eath ensue', 'be no more', 'wedded to another Eve', 'live with her enjoying', 'eath to think', 'firmed then I resolve', 'are with me in bliss or woe:', 'love him', 'live no life', 'from the tree her step she turned', 'erence done', 'dwelt within', 'had infused', 'plant sciential sap', 'drink of Gods', 'flowers a garland', 'ours crown', 'are wont their harvest-queen', 'ised to his thoughts', 'is heart', 'mething ill', 'ring measure felt', 'meet her went', 'parted: by the tree', 'knowledge he must pass', 'ere he her met', 'from the tree returning', 'rest fruit', 'downy smiled', 'words at will', 'thou not wondered', 'have missed', 'thought it long', 'love till now', 'be twice', 'ever more', 'tried I sought', 'from thy sight', 'been the cause', 'wonderful to hear:', 'is tree is not', 'are told', 'pening the way', 'open eyes', 'make them Gods who taste', 'tasted such:  The serpent wise', 'restrained as we', 'aten of the fruit', 'is become', 'are threatened', 'man voice and human sense', 'hath so prevailed', 'have also found', 'opener mine eyes', 'growing up to Godhead', 'fly I sought', 'thee can despise', 'hast part', 'is bliss', 'ared with thee', 'erefore also taste', 'equal lot', 'join us', 'equal love', 'thou not tasting', 'ate renounce', 'ate will not permit', 'countenance blithe her story told', 'istemper flushing glowed', 'side Adam', 'pass done by Eve', 'stood and blank', 'is veins', 'is joints relaxed', 'is slack hand the garland wreathed for Eve', 'roses shed:', 'stood and pale', 'ill thus at length', 'self he inward silence broke', 'rest of Creation', 'last and best', 'eature in whom excelled', 'be formed', 'art thou lost', 'ow on a sudden lost', 'eath devote', 'hast thou yielded to transgress', 'ow to violate', 'red fruit forbidden', 'cursed fraud', 'led thee', 'thee hath ruined', 'is to die:', 'live without thee', 'weet converse', 'love so dearly joined', 'live again in these wild woods forlorn', 'ate another Eve', 'yet loss of thee', 'heart: no', 'draw me: flesh of flesh', 'thou art', 'from thy state', 'be parted', 'iss or woe', 'having said', 'from sad dismay', 'thoughts disturbed', 'seemed remediless', 'is words to Eve he turned', 'hast presumed', 'eat provoked', 'hast dared', 'been only coveting to eye', 'red fruit', 'red to abstinence', 'taste it under ban to touch', 'past who can recall', 'done undo', 'thou shalt not die', 'haps the fact', 'faned first by the serpent', 'ere our taste', 'found deadly', 'yet he lives', 'thou saidst', 'gains to live', 'ree of life', 'likely tasting to attain', 'be Gods', 'think that God', 'ill in earnest so destroy', 'is prime creatures', 'is works', 'needs with us must fail', 'labour lose', 'well conceived of God', 'is power', 'eation could repeat', 'be loth', 'ate whom God', 'please him long', 'ill he next', 'given the Foe', 'have fixed my lot', 'go like doom:  If death', 'sort with thee', 'is to me as life', 'heart I feel', 'draw me to my own', 'own in thee', 'is mine', 'be severed', 'are one', 'lose thee were to lose myself', 'exceeding love', 'thy perfection', 'ow shall I attain', 'from whose dear side I boast me sprung', 'hear thee speak', 'soul in both', 'good proof', 'is day affords', 'ring thee resolved', 'eath more dread', 'ate us', 'love so dear', 'go with me one guilt', 'is fair fruit', 'good still good proceeds', 'is happy trial of thy love', 'had been known', 'thought death menaced would ensue', 'is my attempt', 'sustain alone', 'persuade thee', 'thee with a fact', 'thy peace', 'ate of thy so true', 'love unequalled: but I feel', 'ise the event', 'weet before', 'touched my sense', 'seems to this', 'liver to the winds', 'embraced him', 'is love', 'ispleasure for her sake', 'recompence (for such compliance bad', 'from the bough', 'gave him of that fair enticing fruit', 'hand: he scrupled not to eat', 'is better knowledge', 'come with female charm', 'trembled from her entrails', 'gave a second groan', 'some sad drops', 'leting of the mortal sin', 'took no thought', 'is fill', 'pass feared', 'ore to sooth', 'loved society', 'ated both', 'swim in mirth', 'fancy that they feel', 'breeding wings', 'erewith to scorn the earth:  But that false fruit', 'operation first displayed', 're inflaming', 'cast lascivious eyes', 'wantonly repaid', \"ill Adam thus 'gan Eve to dalliance move\", 'see thou art exact of taste', 'meaning savour we apply', 'call judicious', 'is day thou hast purveyed', 'have lost', 'lightful fruit', 'known till now', 're be', 'be wished', 'had been forbidden ten', 'well refreshed', 'let us play', 'meet is', 'did thy beauty', 'since the day', 'saw thee first and wedded thee', 'flame my sense', 'dour to enjoy thee', 'is virtuous tree', 'said he', 'bore not glance or toy', 'darted contagious fire', 'hand he seised', 'hady bank', 'led her nothing loth', 'flowers were the couch', 'softest lap', \"love and love's disport\", 'solace of their sin', 'ill dewy sleep', 'wearied with their amorous play', 'fallacious fruit', 'pour bland', 'had played', 'was now exhaled', 'red of unkindly fumes', 'had left them', 'from unrest', 'found their eyes how opened', 'knowing ill', 'from about them', 'is robe', 'rose the Danite strong', 'from the harlot-lap', 'istean Dalilah', 'is strength', 'destitute and bare', 'strucken mute:', 'though not less than Eve abashed', 'gave utterance to these words constrained', 'give ear', 'ever taught', \"counterfeit Man's voice\", 'rue in our fall', 'ised rising', 'since our eyes', 'find indeed', 'find we know', 'good and evil', 'is be to know', 'leaves us naked thus', 'honour void', 'soiled and stained', 'faces evident the signs', 'last of evils', 're then', 'hold the face', 'erst with joy', 're so oft beheld', 'heavenly shapes', 'is earthly with their blaze', 'live savage', 'some glade', 'ere highest woods', 'star or sun-light', 'spread their umbrage broad', 'own as evening:  Cover me', 'see them more', 'let us now', 'sent serve to hide', 'from other', 'seem most', 'shame obnoxious', 'seemliest seen', 'leaves together sewed', 'girded on our loins', 'cover round', 'is new comer', 'sit not', 'reproach us as unclean', 'led he', 'gether went', 'thickest wood', 'ere soon they chose', 'is day', 'spreads her arms', 'ranching so broad and long', 'take root', 'aughters grow', 'ared shade', 'walks between:', 'ere oft the Indian herdsman', 'is pasturing herds', 'hade:  Those leaves', 'kill they had', 'gird their waist', 'readed shame', 'naked glory', 'found the American', 'ered cincture', 'woody shores', 'shame in part', 'rest or ease of mind', 'sat them down to weep', 'winds worse within', 'shook sore', 'ate of mind', 'region once', 'full of peace', 'ow tost and turbulent:', 'standing ruled not', 'eard not her lore', 'from beneath', 'ran Reason claimed', 'istempered breast', 'ranged in look and altered style', 'intermitted thus to Eve renewed', 'hadst hearkened to my words', 'besought thee', 're of wandering', 'is unhappy morn', 'know not whence possessed thee', 'had then', 'ill happy', 'seek needless cause to approve', 'faith they owe', 'earnestly they seek', 'begin to fail', 'moved with touch of blame', 'have passed thy lips', 'putest thou that to my default', 'callest it', 'have happened thou being by', 'self perhaps', 'been there', 'ere the attempt', 'have discerned', 'speaking as he spake', 'round of enmity between us known', 'mean me ill', 'seek to harm', 'have never parted from thy side', 'have grown there still a lifeless rib', 'didst not thou', 'mand me absolutely not to go', 'thou saidst', 'didst not much gainsay', 'fixed in thy dissent', 'had I transgressed', 'thou with me', 'is the love', 'is this the recompence', 'mine to thee', 'thou wert lost', 'have lived', 'yed immortal bliss', 'eath with thee', 'aided as the cause', 'thy transgressing', 'restraint:  What could I more', 'warned thee', 'ished thee', 'lurking enemy', 'lay in wait', 'had been force', 'ere no place', 'bore thee on', 'meet no danger', 'seemed in thee so perfect', 'tempt thee', 'errour now', 'come my crime', 'thou the accuser', 'men overtrusting', 'restraint she will not brook', 'left to herself', 'is weak indulgence will accuse', 'sation spent', 'ared no end', 'spiteful act', 'done in Paradise', 'had perverted Eve', 'taste the fatal fruit', 'known in Heaven', 'scape the eye', 'is heart', 'ise and just', 'ered not Satan to attempt the mind', 'ill armed', 'have discovered and repulsed', 'seeming friend', 'ill they knew', 'have still remembered', 'taste that fruit', 'red what could they less', 'manifold in sin', 'served to fall', 'ise in haste', 'guards ascended', 'is state by this they knew', 'had stolen', 'come news', 'arrived at Heaven-gate', 'ere who heard', 'did not spare', 'ated not their bliss', 'ereal people ran', 'hear and know', 'befel:  They towards the throne supreme', 'make appear', 'righteous plea', 'utmost vigilance', 'is secret cloud', 'uttered thus his voice', 'ye Powers returned', 'be not dismayed', 'from the earth', 'are could not prevent', 'come to pass', 'crossed the gulf from Hell', 'told ye then he should prevail', 'is bad errand', 'be seduced', 'ered out of all', 'is Maker', 'ree of mine', 'sitate his fall', 'lightest moment of impulse', 'is free will', 'own inclining left', 'even scale', 'fallen he is', 'sentence pass', 'is transgression', 'eath denounced that day', 'ready vain and void', 'yet inflicted', 'ate stroke', 'bearance no acquittance', 'ere day end', 'return as bounty scorned', 'send I to judge them', 'have transferred', 'seen that I intend', 'ransom and Redeemer voluntary', 'self to judge Man fallen', 'spake the Father', 'is glory', 'clouded Deity: He full', 'is Father manifest', 'answered mild', 'is to decree', 'do thy will', 'thou in me', 'thy Son beloved', 'rest well pleased', 'go to judge', 'thy transgressours', 'thou knowest', 'ate their doom', 'yet I shall temper so', 'ate most', 'fully satisfied', 'thee appease', 'dance none shall need', 'hold the judgement', 'sent is condemned', 'bel to all law:', 'pent none belongs', 'is radiant seat he rose', 'ateral glory: Him Thrones', 'companied to Heaven-gate', 'ended straight', 'speed of Gods', 'counts not', 'though with swiftest minutes winged', 'was the sun in western cadence low', 'arth now waked', 'evening cool', 'from wrath more cool', 'sentence Man:  The voice of God they heard', 'walking in the garden', 'soft winds', 'hid themselves among', 'thickest trees', 'man and wife', 'called aloud', 'ere art thou', 'wont with joy to meet', 'coming seen far off', 'iss thee here', 'entertained with solitude', 'ared unsought:', 'come I less conspicuous', 'chance detains', 'was not in their looks', 'arent guilt', 'answered brief', 'heard thee in the garden', 'thy voice', 'revile replied', 'hast heard', 'hast not feared', 'ill rejoiced', 'is it now become', 'readful to thee', 'art naked', 'told thee', 'aten of the tree', 'gave thee charge thou shouldst not eat', 'set replied', 'is day I stand', 'ore my Judge', 'self the total crime', 'artner of my life', 'faith to me remains', 'expose to blame', 'complaint: but strict necessity', 'sin and punishment', 'hold my peace', 'detect what I conceal', 'madest to be my help', 'gavest me as thy perfect gift', 'hand I could suspect no ill', 'atever in itself', 'seemed to justify the deed', 'gave me of the tree', 'did eat', 'ran Presence thus replied', 'thy God', 'didst obey', 'is voice', 'made thy guide', 'didst resign thy manhood', 'made of thee', 'perfection far excelled', 'real dignity', 'was indeed', 'thy subjection', 'government well seemed', 'bear rule', 'was thy part', 'known thyself aright', 'having said', 'is this which thou hast done', 'shame nigh overwhelmed', 'before her Judge', 'shed replied', 'pent me beguiled', 'did eat', 'judgement he proceeded on the accused', 'made him instrument', 'from the end', 'is creation', 'ated in nature:  More to know', 'since he no further knew)', 'is offence', 'yet God at last', 'is doom applied', 'judged as then best:', 'is curse let fall', 'done this', 'art accursed', 'beast of the field', 'belly groveling thou shalt go', 'eat all the days of thy life', 'thee and the woman I will put', 'between thine and her seed', 'seed shall bruise thy head', 'ise his heel', 'is oracle', 'from Heaven', 'rising from his grave', 'led Principalities and Powers', 'open show', 'led captive through the air', 'self of Satan', 'read at last under our feet', 'is fatal bruise', 'sentence turned', 'eatly multiply', 'thy conception', 'ren thou shalt bring', 'ow forth', \"thy husband's will\", 'thee shall rule', 'last thus judgement he pronounced', 'hearkened to the voice of thy wife', 'aten of the tree', 'charged thee', 'eat thereof:', 'round for thy sake', 'thou in sorrow', 'eat thereof', 'thy life', 'bring thee forth', 'eat the herb of the field', 'eat of thy face shalt thou eat bread', 'ill thou return unto the ground', 'round wast taken', 'know thy birth', 'thou art', 'shalt to dust return', 'judged he Man', 'instant stroke of death', 'denounced that day', 'moved far off', 'pitying how they stood', 'ore him naked to the air', 'suffer change', 'isdained not to begin', 'form of servant to assume', 'washed his servants feet', 'is family', 'nakedness with skins of beasts', 'is enemies', 'is robe of righteousness', \"covered from his Father's sight\", 'ascent he up returned', 'is blissful bosom reassumed', 'passed with Man', 'mixing intercession sweet', 'was sinned and judged on Earth', 'sat Sin and Death', 'view within the gates', 'open wide', 'belching outrageous flame', 'passed through', 'eath began', 'sit we here each other viewing', 'eat author', 'eat provides', 'is offspring dear', 'tends him', 'had returned', 'is avengers', 'like this', 'is punishment', 'feel new strength within me rise', 'given me large', 'is deep', 'draws me on', 'some connatural force', 'istance to unite', 'ret amity', 'like kind', 'retest conveyance', 'from Sin no power can separate', 'passing back', 'is return perhaps over this gulf', 'let us try', 'yet to thy power and mine', 'found a path', 'is main from Hell to that new world', 'ere Satan now prevails', 'merit high to all the infernal host', 'passage hence', 'iss the way', 'strongly drawn', 'felt attraction and instinct', 'answered soon', 'lag behind', 'from all things there that live:', 'work thou enterprisest', 'thee equal aid', 'light he snuffed the smell', 'change on earth', 'though many a league remote', 'gainst the day of battle', 'lie encamped', 'living carcasses designed', 'following day', 'scented the grim Feature', 'is nostril wide into the murky air', 'is quarry from so far', 'from out Hell-gates', 'damp and dark', 'was great)', 'ring upon the waters', 'raging sea', 'gether crouded drove', 'side shoaling towards the mouth of Hell', 'stop the imagined way', 'ated soil', 'is mace petrifick', 'fixed as firm', 'is look', 'gonian rigour not to move', 'gathered beach', 'wrought on', 'foaming deep high-arched', 'joining to the wall', 'is now fenceless world', 'passage broad', 'down to Hell', 'be compared', 'berty of Greece to yoke', 'is Memnonian palace high', 'is way', 'ope with Asia joined', 'scourged with many a stroke the indignant waves', 'brought the work by wonderous art', 'ridge of pendant rock', 'vexed abyss', 'following the track', 'ere he', 'lighted from his wing', 'landed safe', 'side bare', 'round world:  With pins of adamant', 'made all fast', 'ow in little space', 'met of empyrean Heaven', 'is World', 'left hand', 'reach interposed', 'ree several ways', 'ree places led', 'had descried', 'ise first tending', 'likeness of an Angel bright', 'twixt the Centaur and the Scorpion steering', 'isguised he came', 'is children dear', 'arent soon discerned', 'though in disguise', 'wood fast by', 'serve the sequel', 'saw his guileful act', 'though all unweeting', 'saw their shame that sought', 'saw descend', 'judge them', 'hoping to escape', 'is wrath', 'denly inflict', 'listening where the hapless pair', 'is own doom', 're time', 'ow returned', 'ear the foot', 'wonderous pontifice', 'meet him came', 'is offspring dear', 'was at their meeting', 'is joy encreased', 'ring stood', 'are thy magnifick deeds', 'thou viewest as not thine own', 'art their author', 'heart divined', 'ret harmony', 'moves with thine', 'joined in connexion sweet', 'hadst prospered', 'thy looks', 'ow also evidence', 'istant from thee worlds between', 'is thy son', 'unites us three', 'hold us in our bounds', 'is unvoyageable gulf obscure', 'from following thy illustrious track', 'hast achieved our liberty', 'ates till now', 'thou us impowered', 'fortify thus far', 'is portentous bridge', 'is all this world', 'hath won', 'hands builded not', 'isdom gained', 'hath lost', 'fully avenged', 'foil in Heaven', 'ere thou shalt monarch reign', 'didst not', 'let him still victor sway', 'hath adjudged', 'is new world', 'is own doom alienated', 'thee divide', 'parted by the empyreal bounds', 'from thy orbicular world', 'is throne', 'answered glad', 'randchild both', 'have given to be the race', \"gonist of Heaven's Almighty King\", 'have merited of me', 'infernal empire', \"ear Heaven's door\", 'have met', 'is glorious work', 'made one realm', 'is world', 'end through darkness', 'ate Powers', 'hem to acquaint', 'hem rejoice', 'is way', 'ise descend', 'reign in bliss', 'ise and in the air', 'fly on Man', 'make sure your thrall', 'lastly kill', 'send ye', 'matchless might', 'gour now', 'hold of this new kingdom all depends', 'eath exposed by my exploit', 'ower prevail', 'need fear', 'be strong', 'saying he dismissed them', 'tellations held', 'reading their bane', 'looked wan', 'went down', 'ate:  On either side', 'built exclaimed', 'bounding surge the bars assailed', 'is indignation:  Through the gate', 'open and unguarded', 'found desolate', 'sit there', 'had left their charge', 'lown to the upper world', 'rest were all', 'right star to Satan paragoned', 'kept their watch the legions', 'intercept their emperour sent', 'gave command', 'is Russian foe', 'owy plains', 'actrin Sophi', 'from the horns', 'ish crescent', 'leaves all waste beyond', 'realm of Aladule', 'is retreat', 'is or Casbeen:  So these', 'left desart utmost Hell', 'areful watch', 'ow expecting', 'eat adventurer', 'from the search', 'reign worlds:  He through the midst unmarked', 'beian Angel militant', 'lowest order', 'from the door', 'is high throne', 're spread', 'placed in regal lustre', 'own a while', 'saw unseen:', 'from a cloud', 'is fulgent head', 'right appeared', 'issive glory since his fall', 'left him', 'blaze the Stygian throng', 'ished beheld', 'turned: loud was the acclaim:', 'rushed in haste the great consulting peers', 'ised from their dark Divan', 'like joy', 'approached him', 'words attention', 'possession such', 'call ye', 'are ye now', 'beyond hope', 'ye forth', 'is infernal pit', 'use of woe', 'rant:  Now possess', 'venture hard', 'eat achieved', 'ere to tell', 'have done', 'is paved', 'expedite your glorious march', 'led out my uncouth passage', 'forced to ride', 'actable abyss', 'plunged in the womb', 'journey strange', 'clamorous uproar', 'ate supreme', 'ow I found', 'ated world', 'had foretold', 'have seduced', 'is Creator', 'ore to encrease', 'given up', 'loved Man', 'is world', 'eath a prey', 'thout our hazard', 'range in', 'have ruled', 'hath judged', 'pent in whose shape', 'deceived: that which to me belongs', 'put between', 'ise his heel', 'is not set', 'ise my head:', 'purchase with a bruise', 'ore grievous pain', 'have the account', 'performance:  What remains', 'enter now into full bliss', 'having said', 'is ear', 'from innumerable tongues', 'ismal universal hiss', 'lick scorn', 'wondering at himself now more', 'drawn he felt to sharp and spare', 'is arms clung to his ribs', 'is legs entwining', 'planted down he fell', 'is belly prone', 'ater power', 'led him', 'ished in the shape he sinned', 'have spoke', 'turned with forked tongue', 'forked tongue', 'ere all transformed', 'pents all', 'readful was the din', 'hissing through the hall', 'warming now', 'ated monsters head and tail', 'isbaena dire', 'lops drear', 'warmed once the soil', 'dropt with blood of Gorgon', 'atest he the midst', 'gon grown', 'ered in the Pythian vale or slime', 'is power no less he seemed', 'rest still to retain', 'issuing forth to the open field', 'left of that revolted rout', 'stood or just array', 'expectation when to see', 'issuing forth their glorious Chief', 'sight instead', 'hem fell', 'rid sympathy', 'felt themselves', 'down their arms', 'fell both spear and shield', 'down they as fast', 'iss renewed', 're form', 'like in punishment', 'was the applause they meant', 'exploding hiss', 'from their own mouths', 'rove hard by', 'rung up with this their change', 'is will who reigns above', 'den with fair fruit', 'grew in Paradise', 'yes they fixed', 'bidden tree a multitude', 'work them further woe or shame', 'hunger fierce', 'elude them sent', 'rolled in heaps', 'sat thicker than the snaky locks', 'led Megaera: greedily they plucked', 'like that which grew', 'ere Sodom flamed', 'is more delusive', 'thinking to allay', 'hewed bitter ashes', 'ended taste', 'rejected: oft they assayed', 'thirst constraining', 'drugged as oft', 'isrelish writhed their jaws', 'oft they fell', 'triumphed once lapsed', 'ere they plagued', 'worn with famine', 'ceaseless hiss', 'lost shape', 'is annual humbling certain numbered days', 'dash their pride', 'some tradition they dispersed', 'purchase got', 'led how the Serpent', 'had first the rule', 'turn driven', 'was born', 'ise the hellish pair', 'ere in power before', 'ow in body', 'behind her Death', 'following pace for pace', 'mounted yet', 'is pale horse: to whom Sin thus began', 'thinkest thou of our empire now', 'travel difficult', 'better far', 'have sat watch', 'self half starved', 'answered soon', 'mine pine', 'ere most with ravine I may meet', 'is maw', 'bound corps', 'erefore on these herbs', 'beast next', 'sithe of Time mows down', 'last and sweetest prey', 'took them several ways', 'ranscendent seat the Saints among', 'uttered thus his voice', 'dogs of Hell advance', 'yonder world', 'good created', 'had still', 'had not the folly of Man', 'wasteful furies', 'doth the Prince of Hell', 'is adherents', 'suffer them to enter and possess', 'place so heavenly', 'scornful enemies', 'ransported with some fit', 'had quitted all', 'random yielded up to their misrule', 'know not that I called', 'drew them thither', 'lick up the draff and filth', 'hath shed', 'was pure', 'rammed and gorged', 'sucked and glutted offal', 'thy victorious arm', 'yawning Grave', 'obstruct the mouth of Hell', 'is ravenous jaws', 'made pure', 'receive no stain:', 'curse pronounced on both precedes', 'dience loud', 'sound of seas', 'sung:  Just are thy ways', 'are thy decrees on all thy works', 'ate thee', 'torer of mankind', 'arth shall to the ages rise', 'from Heaven descend', 'was their song', 'calling forth by name', 'is mighty Angels', 'gave them several charge', 'sent things', 'is precept so to move', 'arth with cold and heat', 'from the north to call', 'from the south to bring', 'taught the fixed', 'rising with the sun', 'prove tempestuous:  To the winds they set', 'ereal hall', 'is Angels turn ascanse', 'poles of earth', 'rees and more', 'labour pushed', 'be:  Some say', 'from the equinoctial road', 'readth to Taurus with the seven', 'down amain', 'bring in change', 'seasons to each clime', 'had the spring', 'smiled on earth with vernant flowers', 'hem day', 'benighted shone', 'low sun', 'is distance', 'rounded still the horizon', 'had forbid the snow', 'tasted fruit', 'from Thyestean banquet', 'is course intended', 'had the world', 'ore than now', 'voided pinching cold and scorching heat', 'changes in the Heavens', 'change on sea and land', 'from the north', 'armed with ice', 'stormy gust and flaw', 'rend the woods', 'from the south', 'lack with thunderous clouds', 'art of these', 'rush the Levant and the Ponent winds', 'ateral noise', 'from lifeless things', 'iscord first', 'aughter of Sin', 'fierce antipathy:', \"beast 'gan war\", 'owl with fowl', 'fish with fish', 'graze the herb all leaving', 'red each other', 'stood much in awe', 'led him', 'countenance grim', 'ared on him passing', 'from without', 'growing miseries', 'ready in part', 'hid in gloomiest shade', 'ow abandoned', 'felt within', 'passion tost', 'isburden sought with sad complaint', 'iserable of happy', 'is the end', 'is new glorious world', 'ow become', 'hide me from the face', 'hold was then my highth', 'ere would end', 'served it', 'own deservings', 'is will not serve:', 'eat or drink', 'ated curse', 'rease and multiply', 'eath to hear', 'curses on my head', 'brought by me', 'are our ancestor impure', 'is we may thank Adam', 'is thanks']\n"
     ]
    }
   ],
   "source": [
    "verb_phrase=[]\n",
    "for line in finalLines:\n",
    "    try: \n",
    "        for verb in verbs:\n",
    "            if verb in line:\n",
    "                index=line.find(verb)\n",
    "                if (len(line[index:].split())>=2):\n",
    "                    verb_phrase.append(line[index:])\n",
    "                    raise StopIteration\n",
    "    except StopIteration:\n",
    "        pass\n",
    "\n",
    "print(verb_phrase)"
   ]
  },
  {
   "cell_type": "code",
   "execution_count": 387,
   "id": "572b2f01",
   "metadata": {},
   "outputs": [],
   "source": [
    "connected_verb = [verb.split()[0] for verb in verb_phrase]"
   ]
  },
  {
   "cell_type": "code",
   "execution_count": 393,
   "id": "be8ae260",
   "metadata": {},
   "outputs": [],
   "source": [
    "connected_noun = [' '.join(verb.split()[1:]) for verb in verb_phrase]"
   ]
  },
  {
   "cell_type": "code",
   "execution_count": 396,
   "id": "4ab95171",
   "metadata": {},
   "outputs": [
    {
     "data": {
      "text/plain": [
       "['[connnected_verb:based][connected_noun:on the legends and stories of]',\n",
       " '[connnected_verb:many][connected_noun:North American Indian tribes]',\n",
       " '[connnected_verb:collected][connected_noun:by Henry Rowe Schoolcraft]',\n",
       " '[connnected_verb:married][connected_noun:Jane]',\n",
       " '[connnected_verb:man][connected_noun:of the Green]',\n",
       " '[connnected_verb:hite][connected_noun:Fisher)]',\n",
       " '[connnected_verb:be][connected_noun:at La Pointe]',\n",
       " '[connnected_verb:credited][connected_noun:with having researched]',\n",
       " '[connnected_verb:compiled][connected_noun:much of the material Schoolcraft]',\n",
       " '[connnected_verb:included][connected_noun:in his Algic Researches (1839) and a revision published]',\n",
       " '[connnected_verb:is][connected_noun:latter revision]',\n",
       " '[connnected_verb:used][connected_noun:as the basis for The Song of Hiawatha]',\n",
       " '[connnected_verb:began][connected_noun:Hiawatha on June 25]',\n",
       " '[connnected_verb:completed][connected_noun:it]',\n",
       " '[connnected_verb:published][connected_noun:its popularity was assured]',\n",
       " '[connnected_verb:criticized][connected_noun:as a plagiary of the]',\n",
       " '[connnected_verb:ish][connected_noun:epic poem Kalevala]',\n",
       " '[connnected_verb:made][connected_noun:no secret of the]',\n",
       " '[connnected_verb:used][connected_noun:the meter of the Kalevala]',\n",
       " '[connnected_verb:gave][connected_noun:credit to Schoolcraft in his notes to the]',\n",
       " '[connnected_verb:add][connected_noun:a personal note here]',\n",
       " '[connnected_verb:roots][connected_noun:include]',\n",
       " '[connnected_verb:is][connected_noun:mother]',\n",
       " '[connnected_verb:aret][connected_noun:Caroline Davenport]',\n",
       " '[connnected_verb:aughter][connected_noun:of Susan des Carreaux]',\n",
       " '[connnected_verb:used][connected_noun:to rock me to sleep reading portions of]',\n",
       " '[connnected_verb:lay][connected_noun:me]',\n",
       " '[connnected_verb:sleep][connected_noun:I close my eyelids]',\n",
       " '[connnected_verb:ask][connected_noun:me]',\n",
       " '[connnected_verb:ends][connected_noun:and traditions]',\n",
       " '[connnected_verb:dors][connected_noun:of the forest]',\n",
       " '[connnected_verb:damp][connected_noun:of meadows]',\n",
       " '[connnected_verb:smoke][connected_noun:of wigwams]',\n",
       " '[connnected_verb:rushing][connected_noun:of great rivers]',\n",
       " '[connnected_verb:requent][connected_noun:repetitions]',\n",
       " '[connnected_verb:tell][connected_noun:you]',\n",
       " '[connnected_verb:rests][connected_noun:and the prairies]',\n",
       " '[connnected_verb:eat][connected_noun:lakes of the Northland]',\n",
       " '[connnected_verb:ere][connected_noun:the heron]',\n",
       " '[connnected_verb:reeds][connected_noun:and rushes]',\n",
       " '[connnected_verb:repeat][connected_noun:them as I heard them]',\n",
       " '[connnected_verb:weet][connected_noun:singer]',\n",
       " '[connnected_verb:ask][connected_noun:where Nawadaha]',\n",
       " '[connnected_verb:ends][connected_noun:and traditions]',\n",
       " '[connnected_verb:tell][connected_noun:you]',\n",
       " \"[connnected_verb:bird's-nests][connected_noun:of the forest]\",\n",
       " '[connnected_verb:lodges][connected_noun:of the beaver]',\n",
       " '[connnected_verb:sang][connected_noun:them to him]',\n",
       " '[connnected_verb:lands][connected_noun:and the fen-lands]',\n",
       " '[connnected_verb:ask][connected_noun:me]',\n",
       " '[connnected_verb:is][connected_noun:Nawadaha]',\n",
       " '[connnected_verb:answer][connected_noun:your inquiries]',\n",
       " '[connnected_verb:words][connected_noun:as follow]',\n",
       " '[connnected_verb:reen][connected_noun:and silent valley]',\n",
       " '[connnected_verb:singer][connected_noun:Nawadaha]',\n",
       " '[connnected_verb:read][connected_noun:the meadows and the corn-fields]',\n",
       " '[connnected_verb:stood][connected_noun:the forest]',\n",
       " '[connnected_verb:singing][connected_noun:pine-trees]',\n",
       " '[connnected_verb:reen][connected_noun:in Summer]',\n",
       " '[connnected_verb:hite][connected_noun:in Winter]',\n",
       " '[connnected_verb:trace][connected_noun:them through the valley]',\n",
       " '[connnected_verb:rushing][connected_noun:in the Spring-time]',\n",
       " '[connnected_verb:hite][connected_noun:fog in the Autumn]',\n",
       " '[connnected_verb:lack][connected_noun:line in the Winter]',\n",
       " '[connnected_verb:dwelt][connected_noun:the singer]',\n",
       " '[connnected_verb:reen][connected_noun:and silent valley]',\n",
       " '[connnected_verb:sang][connected_noun:of Hiawatha]',\n",
       " '[connnected_verb:wondrous][connected_noun:birth and being]',\n",
       " '[connnected_verb:prayed][connected_noun:and how be fasted]',\n",
       " '[connnected_verb:ow][connected_noun:he lived]',\n",
       " '[connnected_verb:bes][connected_noun:of men might prosper]',\n",
       " '[connnected_verb:advance][connected_noun:his people]',\n",
       " '[connnected_verb:love][connected_noun:the haunts of Nature]',\n",
       " '[connnected_verb:shine][connected_noun:of the meadow]',\n",
       " '[connnected_verb:hadow][connected_noun:of the forest]',\n",
       " '[connnected_verb:wind][connected_noun:among the branches]',\n",
       " '[connnected_verb:shower][connected_noun:and the snow-storm]',\n",
       " '[connnected_verb:rushing][connected_noun:of great rivers]',\n",
       " '[connnected_verb:isades][connected_noun:of pine-trees]',\n",
       " '[connnected_verb:like][connected_noun:eagles in their eyries]',\n",
       " '[connnected_verb:isten][connected_noun:to these wild traditions]',\n",
       " '[connnected_verb:is][connected_noun:Song of Hiawatha]',\n",
       " \"[connnected_verb:love][connected_noun:a nation's legends]\",\n",
       " '[connnected_verb:from][connected_noun:afar off]',\n",
       " '[connnected_verb:pause][connected_noun:and listen]',\n",
       " '[connnected_verb:ear][connected_noun:distinguish]',\n",
       " '[connnected_verb:sung][connected_noun:or spoken]',\n",
       " '[connnected_verb:isten][connected_noun:to this Indian Legend]',\n",
       " '[connnected_verb:is][connected_noun:Song of Hiawatha]',\n",
       " '[connnected_verb:are][connected_noun:fresh and simple]',\n",
       " '[connnected_verb:have][connected_noun:faith in God and Nature]',\n",
       " '[connnected_verb:believe][connected_noun:that in all ages]',\n",
       " '[connnected_verb:heart][connected_noun:is human]',\n",
       " '[connnected_verb:even][connected_noun:savage bosoms]',\n",
       " '[connnected_verb:are][connected_noun:longings]',\n",
       " '[connnected_verb:comprehend][connected_noun:not]',\n",
       " '[connnected_verb:hands][connected_noun:and helpless]',\n",
       " '[connnected_verb:hand][connected_noun:in that darkness]',\n",
       " '[connnected_verb:are][connected_noun:lifted up and strengthened]',\n",
       " '[connnected_verb:isten][connected_noun:to this simple story]',\n",
       " '[connnected_verb:is][connected_noun:Song of Hiawatha]',\n",
       " '[connnected_verb:reen][connected_noun:lanes of the country]',\n",
       " '[connnected_verb:led][connected_noun:barberry-bushes]',\n",
       " '[connnected_verb:neglected][connected_noun:graveyard]',\n",
       " '[connnected_verb:effaced][connected_noun:inscription]',\n",
       " '[connnected_verb:kill][connected_noun:of song-craft]',\n",
       " '[connnected_verb:hope][connected_noun:and yet of heart-break]',\n",
       " '[connnected_verb:tender][connected_noun:pathos]',\n",
       " '[connnected_verb:read][connected_noun:this rude inscription]',\n",
       " '[connnected_verb:is][connected_noun:Song of Hiawatha]',\n",
       " '[connnected_verb:eat][connected_noun:Red Pipe-stone Quarry]',\n",
       " '[connnected_verb:red][connected_noun:crags of the quarry]',\n",
       " '[connnected_verb:called][connected_noun:the nations]',\n",
       " '[connnected_verb:led][connected_noun:the tribes of men together]',\n",
       " '[connnected_verb:flowed][connected_noun:a river]',\n",
       " '[connnected_verb:light][connected_noun:of morning]',\n",
       " '[connnected_verb:plunging][connected_noun:downward]',\n",
       " '[connnected_verb:like][connected_noun:Ishkoodah]',\n",
       " '[connnected_verb:is][connected_noun:finger on the meadow]',\n",
       " '[connnected_verb:winding][connected_noun:pathway for it]',\n",
       " '[connnected_verb:is][connected_noun:way]',\n",
       " '[connnected_verb:red][connected_noun:stone of the quarry]',\n",
       " '[connnected_verb:broke][connected_noun:a fragment]',\n",
       " '[connnected_verb:fashioned][connected_noun:it with figures]',\n",
       " '[connnected_verb:reed][connected_noun:for a pipe-stem]',\n",
       " '[connnected_verb:leaves][connected_noun:upon it]',\n",
       " '[connnected_verb:led][connected_noun:the pipe with bark of willow]',\n",
       " '[connnected_verb:red][connected_noun:willow]',\n",
       " '[connnected_verb:neighboring][connected_noun:forest]',\n",
       " '[connnected_verb:chafe][connected_noun:together]',\n",
       " '[connnected_verb:burst][connected_noun:and kindled]',\n",
       " '[connnected_verb:erect][connected_noun:upon the mountains]',\n",
       " '[connnected_verb:rose][connected_noun:slowly]',\n",
       " '[connnected_verb:ranquil][connected_noun:air of morning]',\n",
       " '[connnected_verb:single][connected_noun:line of darkness]',\n",
       " '[connnected_verb:hite][connected_noun:cloud unfolding]',\n",
       " '[connnected_verb:ree-tops][connected_noun:of the forest]',\n",
       " '[connnected_verb:touched][connected_noun:the top of heaven]',\n",
       " '[connnected_verb:broke][connected_noun:against the heaven]',\n",
       " '[connnected_verb:rolled][connected_noun:outward all around it]',\n",
       " '[connnected_verb:roves][connected_noun:of Tuscaloosa]',\n",
       " '[connnected_verb:beheld][connected_noun:the signal]',\n",
       " '[connnected_verb:smoke][connected_noun:ascending]',\n",
       " '[connnected_verb:ending][connected_noun:like a wand of willow]',\n",
       " '[connnected_verb:hand][connected_noun:that beckons]',\n",
       " '[connnected_verb:bes][connected_noun:of men together]',\n",
       " '[connnected_verb:is][connected_noun:council]',\n",
       " '[connnected_verb:own][connected_noun:the rivers]',\n",
       " '[connnected_verb:drawn][connected_noun:together]',\n",
       " '[connnected_verb:eat][connected_noun:Red Pipe-stone Quarry]',\n",
       " '[connnected_verb:stood][connected_noun:there on the meadow]',\n",
       " '[connnected_verb:weapons][connected_noun:and their war-gear]',\n",
       " '[connnected_verb:leaves][connected_noun:of Autumn]',\n",
       " '[connnected_verb:like][connected_noun:the sky of morning]',\n",
       " '[connnected_verb:glaring][connected_noun:at each other]',\n",
       " '[connnected_verb:faces][connected_noun:stern defiance]',\n",
       " '[connnected_verb:hearts][connected_noun:the feuds of ages]',\n",
       " '[connnected_verb:ereditary][connected_noun:hatred]',\n",
       " '[connnected_verb:thirst][connected_noun:of vengeance]',\n",
       " '[connnected_verb:eator][connected_noun:of the nations]',\n",
       " '[connnected_verb:hem][connected_noun:with compassion]',\n",
       " '[connnected_verb:love][connected_noun:and pity]',\n",
       " '[connnected_verb:rels][connected_noun:among children]',\n",
       " '[connnected_verb:fights][connected_noun:of children]',\n",
       " '[connnected_verb:stretched][connected_noun:his right hand]',\n",
       " '[connnected_verb:subdue][connected_noun:their stubborn natures]',\n",
       " '[connnected_verb:lay][connected_noun:their thirst and fever]',\n",
       " '[connnected_verb:hadow][connected_noun:of his right hand]',\n",
       " '[connnected_verb:hem][connected_noun:with voice majestic]',\n",
       " '[connnected_verb:sound][connected_noun:of far-off waters]',\n",
       " '[connnected_verb:is][connected_noun:wise:]',\n",
       " '[connnected_verb:isten][connected_noun:to the words of wisdom]',\n",
       " '[connnected_verb:isten][connected_noun:to the words of warning]',\n",
       " '[connnected_verb:eat][connected_noun:Spirit]',\n",
       " '[connnected_verb:made][connected_noun:you]',\n",
       " '[connnected_verb:have][connected_noun:given you lands to hunt in]',\n",
       " '[connnected_verb:have][connected_noun:given you streams to fish in]',\n",
       " '[connnected_verb:have][connected_noun:given you bear and bison]',\n",
       " '[connnected_verb:have][connected_noun:given you roe and reindeer]',\n",
       " '[connnected_verb:have][connected_noun:given you brant and beaver]',\n",
       " '[connnected_verb:led][connected_noun:the marshes full of wild-fowl]',\n",
       " '[connnected_verb:led][connected_noun:the rivers full of fishes:]',\n",
       " '[connnected_verb:are][connected_noun:you not contented]',\n",
       " '[connnected_verb:hunt][connected_noun:each other]',\n",
       " '[connnected_verb:weary][connected_noun:of your quarrels]',\n",
       " '[connnected_verb:eary][connected_noun:of your wars and bloodshed]',\n",
       " '[connnected_verb:prayers][connected_noun:for vengeance]',\n",
       " '[connnected_verb:ranglings][connected_noun:and dissensions]',\n",
       " '[connnected_verb:is][connected_noun:in your union]',\n",
       " '[connnected_verb:is][connected_noun:in discord]',\n",
       " '[connnected_verb:be][connected_noun:at peace henceforward]',\n",
       " '[connnected_verb:live][connected_noun:together]',\n",
       " '[connnected_verb:send][connected_noun:a Prophet to you]',\n",
       " '[connnected_verb:liverer][connected_noun:of the nations]',\n",
       " '[connnected_verb:guide][connected_noun:you and shall teach you]',\n",
       " '[connnected_verb:toil][connected_noun:and suffer with you]',\n",
       " '[connnected_verb:listen][connected_noun:to his counsels]',\n",
       " '[connnected_verb:multiply][connected_noun:and prosper]',\n",
       " '[connnected_verb:pass][connected_noun:unheeded]',\n",
       " '[connnected_verb:fade][connected_noun:away and perish]',\n",
       " '[connnected_verb:before][connected_noun:you]',\n",
       " '[connnected_verb:from][connected_noun:your faces]',\n",
       " '[connnected_verb:from][connected_noun:your fingers]',\n",
       " '[connnected_verb:is][connected_noun:quarry]',\n",
       " '[connnected_verb:make][connected_noun:it into Peace-Pipes]',\n",
       " '[connnected_verb:grow][connected_noun:beside you]',\n",
       " '[connnected_verb:rightest][connected_noun:feathers]',\n",
       " '[connnected_verb:met][connected_noun:together]',\n",
       " '[connnected_verb:live][connected_noun:henceforward]',\n",
       " '[connnected_verb:round][connected_noun:the warriors]',\n",
       " '[connnected_verb:rew][connected_noun:their cloaks and shirts of deer-skin]',\n",
       " '[connnected_verb:weapons][connected_noun:and their war-gear]',\n",
       " '[connnected_verb:rushing][connected_noun:river]',\n",
       " '[connnected_verb:from][connected_noun:their faces]',\n",
       " '[connnected_verb:flowed][connected_noun:the water]',\n",
       " '[connnected_verb:from][connected_noun:the footprints]',\n",
       " '[connnected_verb:flowed][connected_noun:the water]',\n",
       " '[connnected_verb:stained][connected_noun:with streaks of crimson]',\n",
       " '[connnected_verb:mingled][connected_noun:with it]',\n",
       " '[connnected_verb:came][connected_noun:the warriors]',\n",
       " '[connnected_verb:washed][connected_noun:from all their war-paint]',\n",
       " '[connnected_verb:like][connected_noun:weapons]',\n",
       " '[connnected_verb:eat][connected_noun:Spirit]',\n",
       " '[connnected_verb:is][connected_noun:helpless children]',\n",
       " '[connnected_verb:red][connected_noun:stone of the quarry]',\n",
       " '[connnected_verb:formed][connected_noun:it into Peace-Pipes]',\n",
       " '[connnected_verb:reeds][connected_noun:by the river]',\n",
       " '[connnected_verb:rightest][connected_noun:feathers]',\n",
       " '[connnected_verb:departed][connected_noun:each one homeward]',\n",
       " '[connnected_verb:opening][connected_noun:of cloud-curtains]',\n",
       " '[connnected_verb:doorways][connected_noun:of the heaven]',\n",
       " '[connnected_verb:ished][connected_noun:from before their faces]',\n",
       " '[connnected_verb:rolled][connected_noun:around him]',\n",
       " '[connnected_verb:cried][connected_noun:the old men]',\n",
       " '[connnected_verb:came][connected_noun:in triumph homeward]',\n",
       " '[connnected_verb:red][connected_noun:Belt of Wampum]',\n",
       " '[connnected_verb:regions][connected_noun:of the North-Wind]',\n",
       " '[connnected_verb:dom][connected_noun:of Wabasso]',\n",
       " '[connnected_verb:hite][connected_noun:Rabbit]',\n",
       " '[connnected_verb:stolen][connected_noun:the Belt of Wampum]',\n",
       " '[connnected_verb:eat][connected_noun:Bear of the mountains]',\n",
       " '[connnected_verb:error][connected_noun:of the nations]',\n",
       " '[connnected_verb:sleep][connected_noun:and cumbrous]',\n",
       " '[connnected_verb:rock][connected_noun:with mosses on it]',\n",
       " '[connnected_verb:own][connected_noun:and gray with mosses]',\n",
       " '[connnected_verb:stole][connected_noun:upon him]',\n",
       " '[connnected_verb:ill][connected_noun:the red nails of the monster]',\n",
       " '[connnected_verb:touched][connected_noun:him]',\n",
       " '[connnected_verb:ared][connected_noun:him]',\n",
       " '[connnected_verb:is][connected_noun:nostrils]',\n",
       " '[connnected_verb:armed][connected_noun:the hands of Mudjekeewis]',\n",
       " '[connnected_verb:drew][connected_noun:the Belt of Wampum]',\n",
       " '[connnected_verb:round][connected_noun:ears]',\n",
       " '[connnected_verb:heard][connected_noun:not]',\n",
       " '[connnected_verb:saw][connected_noun:not]',\n",
       " '[connnected_verb:lack][connected_noun:muffle of the nostrils]',\n",
       " '[connnected_verb:armed][connected_noun:the hands of Mudjekeewis]',\n",
       " '[connnected_verb:swung][connected_noun:aloft his war-club]',\n",
       " '[connnected_verb:is][connected_noun:war-cry]',\n",
       " '[connnected_verb:smote][connected_noun:him]',\n",
       " '[connnected_verb:blow][connected_noun:bewildered]',\n",
       " '[connnected_verb:eat][connected_noun:Bear of the mountains]',\n",
       " '[connnected_verb:is][connected_noun:knees beneath him trembled]',\n",
       " '[connnected_verb:whimpered][connected_noun:like a woman]',\n",
       " '[connnected_verb:reeled][connected_noun:and staggered forward]',\n",
       " '[connnected_verb:sat][connected_noun:upon his haunches]',\n",
       " '[connnected_verb:before][connected_noun:him]',\n",
       " '[connnected_verb:isdainfully][connected_noun:in this wise:]',\n",
       " '[connnected_verb:are][connected_noun:a coward]',\n",
       " '[connnected_verb:cry][connected_noun:and whimper]',\n",
       " '[connnected_verb:iserable][connected_noun:woman]',\n",
       " '[connnected_verb:are][connected_noun:hostile]',\n",
       " '[connnected_verb:have][connected_noun:been at war together]',\n",
       " '[connnected_verb:are][connected_noun:strongest]',\n",
       " '[connnected_verb:go][connected_noun:sneaking in the forest]',\n",
       " '[connnected_verb:go][connected_noun:hiding in the mountains]',\n",
       " '[connnected_verb:conquered][connected_noun:me in battle]',\n",
       " '[connnected_verb:have][connected_noun:uttered]',\n",
       " '[connnected_verb:sit][connected_noun:here and whimper]',\n",
       " '[connnected_verb:disgrace][connected_noun:your tribe by crying]',\n",
       " '[connnected_verb:retched][connected_noun:Shaugodaya]',\n",
       " '[connnected_verb:owardly][connected_noun:old woman]',\n",
       " '[connnected_verb:raised][connected_noun:his war-club]',\n",
       " '[connnected_verb:gain][connected_noun:the Mishe-Mokwa]',\n",
       " '[connnected_verb:is][connected_noun:forehead]',\n",
       " '[connnected_verb:is][connected_noun:skull]',\n",
       " '[connnected_verb:is][connected_noun:broken]',\n",
       " '[connnected_verb:fish][connected_noun:in Winter]',\n",
       " '[connnected_verb:slain][connected_noun:the Mishe-Mokwa]',\n",
       " '[connnected_verb:eat][connected_noun:Bear of the mountains]',\n",
       " '[connnected_verb:error][connected_noun:of the nations]',\n",
       " '[connnected_verb:exclaimed][connected_noun:the people]',\n",
       " '[connnected_verb:be][connected_noun:the West-Wind]',\n",
       " '[connnected_verb:ereafter][connected_noun:and forever]',\n",
       " '[connnected_verb:hold][connected_noun:supreme dominion]',\n",
       " '[connnected_verb:winds][connected_noun:of heaven]',\n",
       " '[connnected_verb:ore][connected_noun:Mudjekeewis]',\n",
       " '[connnected_verb:is][connected_noun:chosen]',\n",
       " '[connnected_verb:kept][connected_noun:the West-Wind]',\n",
       " '[connnected_verb:is][connected_noun:children]',\n",
       " '[connnected_verb:gave][connected_noun:the East-Wind]',\n",
       " '[connnected_verb:fierce][connected_noun:Kabibonokka]',\n",
       " '[connnected_verb:beautiful][connected_noun:was Wabun]',\n",
       " '[connnected_verb:brought][connected_noun:the morning]',\n",
       " '[connnected_verb:was][connected_noun:whose silver arrows]',\n",
       " \"[connnected_verb:hased][connected_noun:the dark o'er hill and valley]\",\n",
       " '[connnected_verb:was][connected_noun:whose cheeks were painted]',\n",
       " '[connnected_verb:reaks][connected_noun:of crimson]',\n",
       " '[connnected_verb:awoke][connected_noun:the village]',\n",
       " '[connnected_verb:led][connected_noun:the deer]',\n",
       " '[connnected_verb:called][connected_noun:the hunter]',\n",
       " '[connnected_verb:sang][connected_noun:gayly to him]',\n",
       " '[connnected_verb:flowers][connected_noun:of the meadow]',\n",
       " '[connnected_verb:led][connected_noun:the air with odors for him]',\n",
       " '[connnected_verb:rests][connected_noun:and the rivers]',\n",
       " '[connnected_verb:shouted][connected_noun:at his coming]',\n",
       " '[connnected_verb:heart][connected_noun:was sad within him]',\n",
       " '[connnected_verb:was][connected_noun:alone in heaven]',\n",
       " '[connnected_verb:was][connected_noun:sleeping]',\n",
       " '[connnected_verb:lay][connected_noun:on the river]',\n",
       " '[connnected_verb:goes][connected_noun:at sunrise]',\n",
       " '[connnected_verb:beheld][connected_noun:a maiden walking]',\n",
       " '[connnected_verb:ater-flags][connected_noun:and rushes]',\n",
       " '[connnected_verb:beheld][connected_noun:there]',\n",
       " '[connnected_verb:looking][connected_noun:at him]',\n",
       " '[connnected_verb:loved][connected_noun:the lonely maiden]',\n",
       " '[connnected_verb:waited][connected_noun:for his coming]',\n",
       " '[connnected_verb:ere][connected_noun:solitary]',\n",
       " '[connnected_verb:arth][connected_noun:and he in heaven]',\n",
       " '[connnected_verb:wooed][connected_noun:her with caresses]',\n",
       " '[connnected_verb:is][connected_noun:smile of sunshine]',\n",
       " '[connnected_verb:wooed][connected_noun:her]',\n",
       " '[connnected_verb:sighing][connected_noun:and his singing]',\n",
       " '[connnected_verb:whispers][connected_noun:in the branches]',\n",
       " '[connnected_verb:drew][connected_noun:her to his bosom]',\n",
       " '[connnected_verb:is][connected_noun:robes of crimson]',\n",
       " '[connnected_verb:changed][connected_noun:her]',\n",
       " '[connnected_verb:is][connected_noun:bosom]',\n",
       " '[connnected_verb:orever][connected_noun:in the heavens]',\n",
       " '[connnected_verb:are][connected_noun:seen together walking]',\n",
       " '[connnected_verb:fierce][connected_noun:Kabibonokka]',\n",
       " '[connnected_verb:is][connected_noun:dwelling among icebergs]',\n",
       " '[connnected_verb:lasting][connected_noun:snow-drifts]',\n",
       " '[connnected_verb:dom][connected_noun:of Wabasso]',\n",
       " '[connnected_verb:hite][connected_noun:Rabbit]',\n",
       " '[connnected_verb:hand][connected_noun:in Autumn]',\n",
       " '[connnected_verb:rees][connected_noun:with scarlet]',\n",
       " '[connnected_verb:leaves][connected_noun:with red and yellow]',\n",
       " '[connnected_verb:sent][connected_noun:the snow-flake]',\n",
       " '[connnected_verb:hissing][connected_noun:through the forest]',\n",
       " '[connnected_verb:rove][connected_noun:the loon and sea-gull southward]',\n",
       " '[connnected_verb:rant][connected_noun:and curlew]',\n",
       " '[connnected_verb:realms][connected_noun:of Shawondasee]',\n",
       " '[connnected_verb:fierce][connected_noun:Kabibonokka]',\n",
       " '[connnected_verb:is][connected_noun:lodge of snow-drifts]',\n",
       " '[connnected_verb:is][connected_noun:home among the icebergs]',\n",
       " '[connnected_verb:is][connected_noun:hair]',\n",
       " '[connnected_verb:ow][connected_noun:besprinkled]',\n",
       " '[connnected_verb:like][connected_noun:a river]',\n",
       " '[connnected_verb:try][connected_noun:river]',\n",
       " '[connnected_verb:howled][connected_noun:and hurried southward]',\n",
       " '[connnected_verb:frozen][connected_noun:lakes and moorlands]',\n",
       " '[connnected_verb:ere][connected_noun:among the reeds and rushes]',\n",
       " '[connnected_verb:fish][connected_noun:behind him]',\n",
       " '[connnected_verb:frozen][connected_noun:fens and moorlands]',\n",
       " '[connnected_verb:ring][connected_noun:still among the moorlands]',\n",
       " '[connnected_verb:had][connected_noun:long departed]',\n",
       " '[connnected_verb:fierce][connected_noun:Kabibonokka]',\n",
       " '[connnected_verb:ares][connected_noun:to brave me]',\n",
       " '[connnected_verb:ares][connected_noun:to stay in my dominions]',\n",
       " '[connnected_verb:has][connected_noun:departed]',\n",
       " '[connnected_verb:goose][connected_noun:has gone southward]',\n",
       " '[connnected_verb:departed][connected_noun:southward]',\n",
       " '[connnected_verb:go][connected_noun:into his wigwam]',\n",
       " '[connnected_verb:put][connected_noun:his smouldering fire out]',\n",
       " '[connnected_verb:came][connected_noun:wild and wailing]',\n",
       " '[connnected_verb:ow][connected_noun:in drifts about it]',\n",
       " '[connnected_verb:down][connected_noun:into the smoke-flue]',\n",
       " '[connnected_verb:is][connected_noun:fury]',\n",
       " '[connnected_verb:had][connected_noun:he for firewood]',\n",
       " '[connnected_verb:fishes][connected_noun:served him]',\n",
       " '[connnected_verb:sat][connected_noun:there]',\n",
       " '[connnected_verb:arm][connected_noun:and merry]',\n",
       " '[connnected_verb:are][connected_noun:but my fellow-mortal]',\n",
       " '[connnected_verb:though][connected_noun:Shingebis]',\n",
       " '[connnected_verb:is][connected_noun:presence by the coldness]',\n",
       " '[connnected_verb:is][connected_noun:icy breath upon him]',\n",
       " '[connnected_verb:cease][connected_noun:his singing]',\n",
       " '[connnected_verb:leave][connected_noun:his laughing]',\n",
       " '[connnected_verb:turned][connected_noun:the log a little]',\n",
       " '[connnected_verb:made][connected_noun:the fire burn brighter]',\n",
       " '[connnected_verb:fly][connected_noun:up the smoke-flue]',\n",
       " '[connnected_verb:besprinkled][connected_noun:tresses]',\n",
       " '[connnected_verb:fell][connected_noun:fast and heavy]',\n",
       " '[connnected_verb:from][connected_noun:drooping boughs of hemlock]',\n",
       " '[connnected_verb:melting][connected_noun:snow in spring-time]',\n",
       " '[connnected_verb:hollows][connected_noun:in the snow-drifts]',\n",
       " '[connnected_verb:rose][connected_noun:defeated]',\n",
       " '[connnected_verb:bear][connected_noun:the heat and laughter]',\n",
       " '[connnected_verb:bear][connected_noun:the merry singing]',\n",
       " '[connnected_verb:rushed][connected_noun:headlong through the door-way]',\n",
       " '[connnected_verb:ow][connected_noun:upon them harder]',\n",
       " '[connnected_verb:hem][connected_noun:thicker]',\n",
       " '[connnected_verb:come][connected_noun:forth and wrestle with him]',\n",
       " '[connnected_verb:come][connected_noun:forth and wrestle naked]',\n",
       " '[connnected_verb:frozen][connected_noun:fens and moorlands]',\n",
       " '[connnected_verb:went][connected_noun:Shingebis]',\n",
       " '[connnected_verb:led][connected_noun:all night with the North-Wind]',\n",
       " '[connnected_verb:led][connected_noun:naked on the moorlands]',\n",
       " '[connnected_verb:fierce][connected_noun:Kabibonokka]',\n",
       " '[connnected_verb:grew][connected_noun:fainter]',\n",
       " '[connnected_verb:grew][connected_noun:feebler]',\n",
       " '[connnected_verb:reeled][connected_noun:and staggered backward]',\n",
       " '[connnected_verb:dom][connected_noun:of Wabasso]',\n",
       " '[connnected_verb:hite][connected_noun:Rabbit]',\n",
       " '[connnected_verb:ring][connected_noun:still the gusty laughter]',\n",
       " '[connnected_verb:are][connected_noun:but my fellow-mortal]',\n",
       " '[connnected_verb:is][connected_noun:dwelling far to southward]',\n",
       " '[connnected_verb:ending][connected_noun:Summer]',\n",
       " '[connnected_verb:sent][connected_noun:the wood-birds]',\n",
       " '[connnected_verb:sent][connected_noun:the swallow]',\n",
       " '[connnected_verb:smoke][connected_noun:ascending]',\n",
       " '[connnected_verb:led][connected_noun:the sky with haze and vapor]',\n",
       " '[connnected_verb:led][connected_noun:the air with dreamy softness]',\n",
       " '[connnected_verb:winkle][connected_noun:to the water]',\n",
       " '[connnected_verb:ills][connected_noun:with smoothness]',\n",
       " '[connnected_verb:tender][connected_noun:Indian Summer]',\n",
       " '[connnected_verb:reary][connected_noun:Moon of Snow-shoes]',\n",
       " '[connnected_verb:had][connected_noun:one shadow]',\n",
       " '[connnected_verb:had][connected_noun:he]',\n",
       " '[connnected_verb:gazing][connected_noun:northward]',\n",
       " '[connnected_verb:beheld][connected_noun:a maiden standing]',\n",
       " '[connnected_verb:ender][connected_noun:maiden]',\n",
       " '[connnected_verb:ere][connected_noun:all her garments]',\n",
       " '[connnected_verb:like][connected_noun:the sunshine]',\n",
       " '[connnected_verb:gazed][connected_noun:upon her]',\n",
       " '[connnected_verb:sighed][connected_noun:with passion]',\n",
       " '[connnected_verb:heart][connected_noun:within him]',\n",
       " '[connnected_verb:love][connected_noun:and longing]',\n",
       " '[connnected_verb:yellow][connected_noun:tresses]',\n",
       " '[connnected_verb:was][connected_noun:too fat and lazy]',\n",
       " '[connnected_verb:bestir][connected_noun:himself and woo her]',\n",
       " '[connnected_verb:dolent][connected_noun:and easy]',\n",
       " '[connnected_verb:pursue][connected_noun:her and persuade her]',\n",
       " '[connnected_verb:gazed][connected_noun:upon her]',\n",
       " '[connnected_verb:sat][connected_noun:and sighed with passion]',\n",
       " '[connnected_verb:maiden][connected_noun:of the prairie]',\n",
       " '[connnected_verb:ill][connected_noun:one morning]',\n",
       " '[connnected_verb:beheld][connected_noun:her yellow tresses]',\n",
       " \"[connnected_verb:covered][connected_noun:o'er with whiteness]\",\n",
       " '[connnected_verb:hitest][connected_noun:snow-flakes]',\n",
       " '[connnected_verb:from][connected_noun:the North-land]',\n",
       " '[connnected_verb:dom][connected_noun:of Wabasso]',\n",
       " '[connnected_verb:hite][connected_noun:Rabbit]',\n",
       " '[connnected_verb:have][connected_noun:stolen the maiden from me]',\n",
       " '[connnected_verb:have][connected_noun:laid your hand upon her]',\n",
       " '[connnected_verb:have][connected_noun:wooed and won my maiden]',\n",
       " '[connnected_verb:retched][connected_noun:Shawondasee]',\n",
       " '[connnected_verb:is][connected_noun:sorrow]',\n",
       " '[connnected_verb:warm][connected_noun:with sighs of passion]',\n",
       " '[connnected_verb:sighs][connected_noun:of Shawondasee]',\n",
       " '[connnected_verb:seemed][connected_noun:full of snow-flakes]',\n",
       " '[connnected_verb:istle-down][connected_noun:the prairie]',\n",
       " '[connnected_verb:like][connected_noun:sunshine]',\n",
       " '[connnected_verb:ished][connected_noun:from his sight forever]',\n",
       " '[connnected_verb:did][connected_noun:Shawondasee]',\n",
       " '[connnected_verb:yellow][connected_noun:tresses]',\n",
       " '[connnected_verb:gazed][connected_noun:at]',\n",
       " '[connnected_verb:maiden][connected_noun:that you sighed for]',\n",
       " '[connnected_verb:was][connected_noun:the prairie dandelion]',\n",
       " '[connnected_verb:reamy][connected_noun:Summer]',\n",
       " '[connnected_verb:had][connected_noun:gazed at with such longing]',\n",
       " '[connnected_verb:had][connected_noun:sighed for with such passion]',\n",
       " '[connnected_verb:had][connected_noun:puffed away forever]',\n",
       " '[connnected_verb:lown][connected_noun:into the air with sighing]',\n",
       " '[connnected_verb:ere][connected_noun:divided]',\n",
       " '[connnected_verb:self][connected_noun:the West-Wind only]',\n",
       " '[connnected_verb:ownward][connected_noun:through the evening twilight]',\n",
       " '[connnected_verb:are][connected_noun:forgotten]',\n",
       " '[connnected_verb:remembered][connected_noun:ages]',\n",
       " '[connnected_verb:fell][connected_noun:Nokomis]',\n",
       " '[connnected_verb:beautiful][connected_noun:Nokomis]',\n",
       " '[connnected_verb:sporting][connected_noun:with her women]',\n",
       " '[connnected_verb:winging][connected_noun:in a swing of grape-vines]',\n",
       " '[connnected_verb:wing][connected_noun:asunder]',\n",
       " '[connnected_verb:isted][connected_noun:grape-vines]',\n",
       " '[connnected_verb:fell][connected_noun:affrighted]',\n",
       " '[connnected_verb:ownward][connected_noun:through the evening twilight]',\n",
       " '[connnected_verb:full][connected_noun:of blossoms]',\n",
       " '[connnected_verb:star][connected_noun:falls]',\n",
       " '[connnected_verb:said][connected_noun:the people]',\n",
       " '[connnected_verb:is][connected_noun:falling]',\n",
       " '[connnected_verb:ere][connected_noun:among the ferns and mosses]',\n",
       " '[connnected_verb:ere][connected_noun:among the prairie lilies]',\n",
       " '[connnected_verb:light][connected_noun:and the starlight]',\n",
       " '[connnected_verb:bore][connected_noun:a daughter]',\n",
       " '[connnected_verb:called][connected_noun:her name Wenonah]',\n",
       " '[connnected_verb:born][connected_noun:of her daughters]',\n",
       " '[connnected_verb:aughter][connected_noun:of Nokomis]',\n",
       " '[connnected_verb:like][connected_noun:the prairie lilies]',\n",
       " '[connnected_verb:rew][connected_noun:a tall and slender maiden]',\n",
       " '[connnected_verb:beauty][connected_noun:of the moonlight]',\n",
       " '[connnected_verb:beauty][connected_noun:of the starlight]',\n",
       " '[connnected_verb:warned][connected_noun:her often]',\n",
       " '[connnected_verb:oft][connected_noun:repeating]',\n",
       " '[connnected_verb:are][connected_noun:of Mudjekeewis]',\n",
       " '[connnected_verb:tells][connected_noun:you]',\n",
       " '[connnected_verb:down][connected_noun:upon the meadow]',\n",
       " '[connnected_verb:down][connected_noun:among the lilies]',\n",
       " '[connnected_verb:come][connected_noun:and harm you]',\n",
       " '[connnected_verb:heeded][connected_noun:not the warning]',\n",
       " '[connnected_verb:words][connected_noun:of wisdom]',\n",
       " '[connnected_verb:came][connected_noun:at evening]',\n",
       " \"[connnected_verb:lightly][connected_noun:o'er the prairie]\",\n",
       " '[connnected_verb:leaves][connected_noun:and blossoms]',\n",
       " '[connnected_verb:ending][connected_noun:low the flowers and grasses]',\n",
       " '[connnected_verb:beautiful][connected_noun:Wenonah]',\n",
       " '[connnected_verb:ere][connected_noun:among the lilies]',\n",
       " '[connnected_verb:is][connected_noun:words of sweetness]',\n",
       " '[connnected_verb:is][connected_noun:soft caresses]',\n",
       " '[connnected_verb:bore][connected_noun:a son in sorrow]',\n",
       " '[connnected_verb:love][connected_noun:and sorrow]',\n",
       " '[connnected_verb:born][connected_noun:my Hiawatha]',\n",
       " '[connnected_verb:born][connected_noun:the child of wonder]',\n",
       " '[connnected_verb:aughter][connected_noun:of Nokomis]',\n",
       " '[connnected_verb:died][connected_noun:deserted]',\n",
       " '[connnected_verb:heartless][connected_noun:Mudjekeewis]',\n",
       " '[connnected_verb:aughter][connected_noun:long and loudly]',\n",
       " '[connnected_verb:wept][connected_noun:the sad Nokomis]',\n",
       " '[connnected_verb:ere][connected_noun:dead]',\n",
       " '[connnected_verb:ere][connected_noun:dead]',\n",
       " '[connnected_verb:thou][connected_noun:art]',\n",
       " '[connnected_verb:ore][connected_noun:work]',\n",
       " '[connnected_verb:ore][connected_noun:weeping]',\n",
       " '[connnected_verb:ores][connected_noun:of Gitche Gumee]',\n",
       " '[connnected_verb:shining][connected_noun:Big-Sea-Water]',\n",
       " '[connnected_verb:rose][connected_noun:the forest]',\n",
       " '[connnected_verb:lack][connected_noun:and gloomy pine-trees]',\n",
       " '[connnected_verb:beat][connected_noun:the water]',\n",
       " '[connnected_verb:clear][connected_noun:and sunny water]',\n",
       " '[connnected_verb:shining][connected_noun:Big-Sea-Water]',\n",
       " '[connnected_verb:led][connected_noun:old Nokomis]',\n",
       " '[connnected_verb:is][connected_noun:linden cradle]',\n",
       " '[connnected_verb:soft][connected_noun:in moss and rushes]',\n",
       " '[connnected_verb:bound][connected_noun:with reindeer sinews]',\n",
       " '[connnected_verb:is][connected_noun:fretful wail by saying]',\n",
       " '[connnected_verb:hear][connected_noun:thee]',\n",
       " '[connnected_verb:led][connected_noun:him into slumber]',\n",
       " '[connnected_verb:is][connected_noun:this]',\n",
       " '[connnected_verb:lights][connected_noun:the wigwam]',\n",
       " '[connnected_verb:lights][connected_noun:the wigwam]',\n",
       " '[connnected_verb:taught][connected_noun:him]',\n",
       " '[connnected_verb:shine][connected_noun:in heaven]',\n",
       " '[connnected_verb:owed][connected_noun:him Ishkoodah]',\n",
       " '[connnected_verb:eath-Dance][connected_noun:of the spirits]',\n",
       " '[connnected_verb:ring][connected_noun:far away to northward]',\n",
       " '[connnected_verb:frosty][connected_noun:nights of Winter]',\n",
       " '[connnected_verb:hite][connected_noun:road in heaven]',\n",
       " '[connnected_verb:cross][connected_noun:the heavens]',\n",
       " '[connnected_verb:owded][connected_noun:with the ghosts]',\n",
       " '[connnected_verb:door][connected_noun:on summer evenings]',\n",
       " '[connnected_verb:whispering][connected_noun:of the pine-trees]',\n",
       " '[connnected_verb:eard][connected_noun:the lapping of the waters]',\n",
       " '[connnected_verb:words][connected_noun:of wonder]',\n",
       " '[connnected_verb:said][connected_noun:the Pine-trees]',\n",
       " '[connnected_verb:said][connected_noun:the water]',\n",
       " '[connnected_verb:winkle][connected_noun:of its candle]',\n",
       " '[connnected_verb:sang][connected_noun:the song of children]',\n",
       " '[connnected_verb:taught][connected_noun:him:]',\n",
       " '[connnected_verb:lay][connected_noun:me]',\n",
       " '[connnected_verb:sleep][connected_noun:I close my eyelids]',\n",
       " '[connnected_verb:rise][connected_noun:from the water]',\n",
       " '[connnected_verb:rounding][connected_noun:from the water]',\n",
       " '[connnected_verb:hadows][connected_noun:on it]',\n",
       " '[connnected_verb:is][connected_noun:that]',\n",
       " '[connnected_verb:good][connected_noun:Nokomis answered:]',\n",
       " '[connnected_verb:is][connected_noun:grandmother]',\n",
       " '[connnected_verb:threw][connected_noun:her]',\n",
       " '[connnected_verb:threw][connected_noun:her]',\n",
       " '[connnected_verb:see][connected_noun:there]',\n",
       " '[connnected_verb:bow][connected_noun:in the heaven]',\n",
       " '[connnected_verb:is][connected_noun:that]',\n",
       " '[connnected_verb:good][connected_noun:Nokomis answered:]',\n",
       " '[connnected_verb:see][connected_noun:there]',\n",
       " '[connnected_verb:flowers][connected_noun:of the forest]',\n",
       " '[connnected_verb:lies][connected_noun:of the prairie]',\n",
       " '[connnected_verb:fade][connected_noun:and perish]',\n",
       " '[connnected_verb:som][connected_noun:in that heaven above us]',\n",
       " '[connnected_verb:heard][connected_noun:the owls at midnight]',\n",
       " '[connnected_verb:laughing][connected_noun:in the forest]',\n",
       " '[connnected_verb:is][connected_noun:that]',\n",
       " '[connnected_verb:cried][connected_noun:in terror]',\n",
       " '[connnected_verb:is][connected_noun:that]',\n",
       " '[connnected_verb:good][connected_noun:Nokomis answered:]',\n",
       " '[connnected_verb:is][connected_noun:but the owl and owlet]',\n",
       " '[connnected_verb:scolding][connected_noun:at each other]',\n",
       " '[connnected_verb:earned][connected_noun:of every bird its language]',\n",
       " '[connnected_verb:earned][connected_noun:their names and all their secrets]',\n",
       " '[connnected_verb:built][connected_noun:their nests in Summer]',\n",
       " '[connnected_verb:hid][connected_noun:themselves in Winter]',\n",
       " '[connnected_verb:met][connected_noun:them]',\n",
       " '[connnected_verb:led][connected_noun:them \"Hiawatha\\'s Chickens]',\n",
       " '[connnected_verb:learned][connected_noun:the language]',\n",
       " '[connnected_verb:earned][connected_noun:their names and all their secrets]',\n",
       " '[connnected_verb:built][connected_noun:their lodges]',\n",
       " '[connnected_verb:hid][connected_noun:their acorns]',\n",
       " '[connnected_verb:ran][connected_noun:so swiftly]',\n",
       " '[connnected_verb:was][connected_noun:so timid]',\n",
       " '[connnected_verb:met][connected_noun:them]',\n",
       " '[connnected_verb:led][connected_noun:them \"Hiawatha\\'s Brothers]',\n",
       " '[connnected_verb:eat][connected_noun:boaster]',\n",
       " '[connnected_verb:traveller][connected_noun:and the talker]',\n",
       " '[connnected_verb:end][connected_noun:of old Nokomis]',\n",
       " '[connnected_verb:made][connected_noun:it]',\n",
       " '[connnected_verb:made][connected_noun:the arrows]',\n",
       " '[connnected_verb:winged][connected_noun:with feathers]',\n",
       " '[connnected_verb:made][connected_noun:of deer-skin]',\n",
       " '[connnected_verb:said][connected_noun:to Hiawatha:]',\n",
       " '[connnected_verb:ere][connected_noun:the red deer herd together]',\n",
       " '[connnected_verb:ill][connected_noun:for us a famous roebuck]',\n",
       " '[connnected_verb:ill][connected_noun:for us a deer with antlers]',\n",
       " '[connnected_verb:rest][connected_noun:straightway]',\n",
       " '[connnected_verb:walked][connected_noun:Hiawatha]',\n",
       " '[connnected_verb:is][connected_noun:bow and arrows]',\n",
       " '[connnected_verb:sang][connected_noun:round him]',\n",
       " '[connnected_verb:shoot][connected_noun:us]',\n",
       " '[connnected_verb:shoot][connected_noun:us]',\n",
       " '[connnected_verb:close][connected_noun:beside him]',\n",
       " '[connnected_verb:rang][connected_noun:the squirrel]',\n",
       " '[connnected_verb:chattered][connected_noun:from the oak-tree]',\n",
       " '[connnected_verb:said][connected_noun:between his laughing]',\n",
       " '[connnected_verb:shoot][connected_noun:me]',\n",
       " '[connnected_verb:is][connected_noun:pathway]',\n",
       " '[connnected_verb:erect][connected_noun:upon his haunches]',\n",
       " '[connnected_verb:fear][connected_noun:and half in frolic]',\n",
       " '[connnected_verb:shoot][connected_noun:me]',\n",
       " '[connnected_verb:heeded][connected_noun:not]',\n",
       " '[connnected_verb:heard][connected_noun:them]',\n",
       " '[connnected_verb:is][connected_noun:thoughts were with the red deer]',\n",
       " '[connnected_verb:is][connected_noun:eyes were fastened]',\n",
       " '[connnected_verb:downward][connected_noun:to the river]',\n",
       " '[connnected_verb:cross][connected_noun:the river]',\n",
       " '[connnected_verb:walked][connected_noun:he]',\n",
       " '[connnected_verb:den][connected_noun:in the alder-bushes]',\n",
       " '[connnected_verb:waited][connected_noun:till the deer came]',\n",
       " '[connnected_verb:saw][connected_noun:two antlers lifted]',\n",
       " '[connnected_verb:look][connected_noun:from the thicket]',\n",
       " '[connnected_verb:point][connected_noun:to windward]',\n",
       " '[connnected_verb:came][connected_noun:down the pathway]',\n",
       " '[connnected_verb:light][connected_noun:and shadow]',\n",
       " '[connnected_verb:heart][connected_noun:within him fluttered]',\n",
       " '[connnected_verb:leaves][connected_noun:above him]',\n",
       " '[connnected_verb:came][connected_noun:down the pathway]',\n",
       " '[connnected_verb:aimed][connected_noun:an arrow]',\n",
       " '[connnected_verb:moved][connected_noun:with his motion]',\n",
       " '[connnected_verb:stirred][connected_noun:or rustled]',\n",
       " '[connnected_verb:is][connected_noun:hoofs together]',\n",
       " '[connnected_verb:istened][connected_noun:with one foot uplifted]',\n",
       " '[connnected_verb:meet][connected_noun:the arrow]',\n",
       " '[connnected_verb:buzzed][connected_noun:and stung him]',\n",
       " '[connnected_verb:lay][connected_noun:there in the forest]',\n",
       " '[connnected_verb:cross][connected_noun:the river]',\n",
       " '[connnected_verb:heart][connected_noun:no longer]',\n",
       " '[connnected_verb:heart][connected_noun:of Hiawatha]',\n",
       " '[connnected_verb:shouted][connected_noun:and exulted]',\n",
       " '[connnected_verb:bore][connected_noun:the red deer homeward]',\n",
       " '[connnected_verb:coming][connected_noun:with applauses]',\n",
       " '[connnected_verb:hide][connected_noun:Nokomis]',\n",
       " \"[connnected_verb:red][connected_noun:deer's flesh Nokomis]\",\n",
       " '[connnected_verb:is][connected_noun:honor]',\n",
       " '[connnected_verb:came][connected_noun:and feasted]',\n",
       " '[connnected_verb:raised][connected_noun:Hiawatha]',\n",
       " '[connnected_verb:led][connected_noun:him Strong-Heart]',\n",
       " '[connnected_verb:led][connected_noun:him Loon-Heart]',\n",
       " '[connnected_verb:grown][connected_noun:my Hiawatha]',\n",
       " '[connnected_verb:killed][connected_noun:in all the craft of hunters]',\n",
       " '[connnected_verb:ore][connected_noun:of old men]',\n",
       " '[connnected_verb:arts][connected_noun:and labors]',\n",
       " '[connnected_verb:was][connected_noun:Hiawatha]',\n",
       " '[connnected_verb:shoot][connected_noun:an arrow from him]',\n",
       " '[connnected_verb:run][connected_noun:forward with such fleetness]',\n",
       " '[connnected_verb:fell][connected_noun:behind him]',\n",
       " '[connnected_verb:shoot][connected_noun:ten arrows upward]',\n",
       " '[connnected_verb:rength][connected_noun:and swiftness]',\n",
       " '[connnected_verb:had][connected_noun:left the bow-string]',\n",
       " '[connnected_verb:had][connected_noun:fallen]',\n",
       " '[connnected_verb:had][connected_noun:mittens]',\n",
       " '[connnected_verb:made][connected_noun:of deer-skin]',\n",
       " '[connnected_verb:wore][connected_noun:them]',\n",
       " '[connnected_verb:rocks][connected_noun:asunder]',\n",
       " '[connnected_verb:grind][connected_noun:them into powder]',\n",
       " '[connnected_verb:had][connected_noun:moccasins enchanted]',\n",
       " '[connnected_verb:sins][connected_noun:of deer-skin]',\n",
       " '[connnected_verb:bound][connected_noun:them round his ankles]',\n",
       " '[connnected_verb:tied][connected_noun:them]',\n",
       " '[connnected_verb:ride][connected_noun:a mile he measured]',\n",
       " '[connnected_verb:questioned][connected_noun:old Nokomis]',\n",
       " '[connnected_verb:is][connected_noun:father Mudjekeewis]',\n",
       " '[connnected_verb:from][connected_noun:her the fatal secret]',\n",
       " '[connnected_verb:is][connected_noun:mother]',\n",
       " '[connnected_verb:is][connected_noun:father]',\n",
       " '[connnected_verb:heart][connected_noun:was hot within him]',\n",
       " '[connnected_verb:heart][connected_noun:was]',\n",
       " '[connnected_verb:said][connected_noun:to old Nokomis]',\n",
       " '[connnected_verb:go][connected_noun:to Mudjekeewis]',\n",
       " '[connnected_verb:ares][connected_noun:it with my father]',\n",
       " '[connnected_verb:doorways][connected_noun:of the West-Wind]',\n",
       " '[connnected_verb:went][connected_noun:Hiawatha]',\n",
       " '[connnected_verb:ressed][connected_noun:for travel]',\n",
       " '[connnected_verb:armed][connected_noun:for hunting]',\n",
       " '[connnected_verb:ressed][connected_noun:in deer-skin shirt and leggings]',\n",
       " '[connnected_verb:wrought][connected_noun:with quills and wampum]',\n",
       " '[connnected_verb:is][connected_noun:head his eagle-feathers]',\n",
       " '[connnected_verb:is][connected_noun:waist his belt of wampum]',\n",
       " '[connnected_verb:is][connected_noun:hand his bow of ash-wood]',\n",
       " '[connnected_verb:rung][connected_noun:with sinews of the reindeer]',\n",
       " '[connnected_verb:oaken][connected_noun:arrows]',\n",
       " '[connnected_verb:winged][connected_noun:with feathers]',\n",
       " '[connnected_verb:is][connected_noun:mittens]',\n",
       " '[connnected_verb:is][connected_noun:moccasins enchanted]',\n",
       " '[connnected_verb:said][connected_noun:the old Nokomis]',\n",
       " '[connnected_verb:dom][connected_noun:of the West-Wind]',\n",
       " '[connnected_verb:realms][connected_noun:of Mudjekeewis]',\n",
       " '[connnected_verb:harm][connected_noun:you with his magic]',\n",
       " '[connnected_verb:kill][connected_noun:you with his cunning]',\n",
       " '[connnected_verb:fearless][connected_noun:Hiawatha]',\n",
       " \"[connnected_verb:man's][connected_noun:warning]\",\n",
       " '[connnected_verb:strode][connected_noun:into the forest]',\n",
       " '[connnected_verb:ride][connected_noun:a mile he measured]',\n",
       " '[connnected_verb:seemed][connected_noun:the sky above him]',\n",
       " '[connnected_verb:seemed][connected_noun:the earth beneath him]',\n",
       " '[connnected_verb:close][connected_noun:the air around him]',\n",
       " '[connnected_verb:smoke][connected_noun:and fiery vapors]',\n",
       " '[connnected_verb:burning][connected_noun:woods and prairies]',\n",
       " '[connnected_verb:heart][connected_noun:was hot within him]',\n",
       " '[connnected_verb:heart][connected_noun:was]',\n",
       " '[connnected_verb:journeyed][connected_noun:westward]',\n",
       " '[connnected_verb:behind][connected_noun:him]',\n",
       " '[connnected_verb:lope][connected_noun:and bison]',\n",
       " '[connnected_verb:rushing][connected_noun:Esconaba]',\n",
       " '[connnected_verb:ows][connected_noun:and Foxes]',\n",
       " '[connnected_verb:dwellings][connected_noun:of the Blackfeet]',\n",
       " '[connnected_verb:dom][connected_noun:of the West-Wind]',\n",
       " '[connnected_verb:ere][connected_noun:upon the gusty summits]',\n",
       " '[connnected_verb:winds][connected_noun:of heaven]',\n",
       " '[connnected_verb:led][connected_noun:with awe was Hiawatha]',\n",
       " '[connnected_verb:is][connected_noun:father]',\n",
       " '[connnected_verb:streamed][connected_noun:his cloudy tresses]',\n",
       " '[connnected_verb:drifting][connected_noun:snow his tresses]',\n",
       " '[connnected_verb:ared][connected_noun:like Ishkoodah]',\n",
       " '[connnected_verb:star][connected_noun:with fiery tresses]',\n",
       " '[connnected_verb:led][connected_noun:with joy was Mudjekeewis]',\n",
       " '[connnected_verb:looked][connected_noun:on Hiawatha]',\n",
       " '[connnected_verb:rise][connected_noun:up before him]',\n",
       " '[connnected_verb:beauty][connected_noun:of Wenonah]',\n",
       " '[connnected_verb:rise][connected_noun:up before him]',\n",
       " '[connnected_verb:said][connected_noun:he]',\n",
       " '[connnected_verb:dom][connected_noun:of the West-Wind]',\n",
       " '[connnected_verb:have][connected_noun:I been waiting for you]',\n",
       " '[connnected_verb:is][connected_noun:lovely]',\n",
       " '[connnected_verb:is][connected_noun:lonely]',\n",
       " '[connnected_verb:is][connected_noun:fiery]',\n",
       " '[connnected_verb:is][connected_noun:frosty]',\n",
       " '[connnected_verb:bring][connected_noun:back the days departed]',\n",
       " '[connnected_verb:bring][connected_noun:back my youth of passion]',\n",
       " '[connnected_verb:beautiful][connected_noun:Wenonah]',\n",
       " '[connnected_verb:talked][connected_noun:together]',\n",
       " '[connnected_verb:is][connected_noun:ancient prowess]',\n",
       " '[connnected_verb:is][connected_noun:perilous adventures]',\n",
       " '[connnected_verb:is][connected_noun:indomitable courage]',\n",
       " '[connnected_verb:is][connected_noun:invulnerable body]',\n",
       " \"[connnected_verb:istening][connected_noun:to his father's boasting]\",\n",
       " '[connnected_verb:sat][connected_noun:and listened]',\n",
       " '[connnected_verb:ered][connected_noun:neither threat nor menace]',\n",
       " '[connnected_verb:look][connected_noun:betrayed him]',\n",
       " '[connnected_verb:heart][connected_noun:was hot within him]',\n",
       " '[connnected_verb:heart][connected_noun:was]',\n",
       " '[connnected_verb:harm][connected_noun:you]',\n",
       " '[connnected_verb:are][connected_noun:afraid of]',\n",
       " '[connnected_verb:rand][connected_noun:and gracious in his boasting]',\n",
       " '[connnected_verb:is][connected_noun:nothing]',\n",
       " '[connnected_verb:rock][connected_noun:yonder]',\n",
       " '[connnected_verb:looked][connected_noun:at Hiawatha]',\n",
       " '[connnected_verb:look][connected_noun:and benignant]',\n",
       " '[connnected_verb:countenance][connected_noun:paternal]',\n",
       " '[connnected_verb:ride][connected_noun:upon the beauty]',\n",
       " '[connnected_verb:is][connected_noun:tall and graceful figure]',\n",
       " '[connnected_verb:harm][connected_noun:you]',\n",
       " '[connnected_verb:are][connected_noun:afraid of]',\n",
       " '[connnected_verb:is][connected_noun:peace]',\n",
       " '[connnected_verb:is][connected_noun:nothing]',\n",
       " '[connnected_verb:rush][connected_noun:yonder]',\n",
       " '[connnected_verb:eat][connected_noun:Apukwa]',\n",
       " '[connnected_verb:is][connected_noun:hand to pluck the bulrush]',\n",
       " '[connnected_verb:cried][connected_noun:in terror]',\n",
       " '[connnected_verb:issembled][connected_noun:terror]',\n",
       " '[connnected_verb:touch][connected_noun:it]',\n",
       " '[connnected_verb:said][connected_noun:Mudjekeewis]',\n",
       " '[connnected_verb:touch][connected_noun:it]',\n",
       " '[connnected_verb:talked][connected_noun:of other matters]',\n",
       " '[connnected_verb:beautiful][connected_noun:Wenonah]',\n",
       " '[connnected_verb:remembered][connected_noun:and related]',\n",
       " '[connnected_verb:killed][connected_noun:Wenonah]',\n",
       " '[connnected_verb:led][connected_noun:it beneath your footsteps]',\n",
       " '[connnected_verb:confess][connected_noun:it]',\n",
       " '[connnected_verb:confess][connected_noun:it]',\n",
       " '[connnected_verb:is][connected_noun:tresses]',\n",
       " '[connnected_verb:is][connected_noun:hoary head in anguish]',\n",
       " '[connnected_verb:lent][connected_noun:nod assented]',\n",
       " '[connnected_verb:started][connected_noun:Hiawatha]',\n",
       " '[connnected_verb:look][connected_noun:and gesture]',\n",
       " '[connnected_verb:is][connected_noun:hand upon the black rock]',\n",
       " '[connnected_verb:laid][connected_noun:it]',\n",
       " '[connnected_verb:is][connected_noun:mittens]',\n",
       " '[connnected_verb:jutting][connected_noun:crag asunder]',\n",
       " '[connnected_verb:rushed][connected_noun:it into fragments]',\n",
       " '[connnected_verb:is][connected_noun:father]',\n",
       " '[connnected_verb:remorseful][connected_noun:Mudjekeewis]',\n",
       " '[connnected_verb:heart][connected_noun:was hot within him]',\n",
       " '[connnected_verb:heart][connected_noun:was]',\n",
       " '[connnected_verb:ruler][connected_noun:of the West-Wind]',\n",
       " '[connnected_verb:from][connected_noun:him]',\n",
       " '[connnected_verb:is][connected_noun:nostrils]',\n",
       " '[connnected_verb:is][connected_noun:anger]',\n",
       " '[connnected_verb:is][connected_noun:assailant]',\n",
       " '[connnected_verb:roots][connected_noun:and fibres]',\n",
       " '[connnected_verb:laughed][connected_noun:Hiawatha]',\n",
       " '[connnected_verb:began][connected_noun:the deadly conflict]',\n",
       " '[connnected_verb:hand][connected_noun:among the mountains]',\n",
       " '[connnected_verb:is][connected_noun:eyry screamed the eagle]',\n",
       " '[connnected_verb:eat][connected_noun:war-eagle]',\n",
       " '[connnected_verb:round][connected_noun:them]',\n",
       " '[connnected_verb:is][connected_noun:wings above them]',\n",
       " '[connnected_verb:ree][connected_noun:in the tempest]',\n",
       " '[connnected_verb:lashed][connected_noun:the giant bulrush]',\n",
       " '[connnected_verb:fell][connected_noun:the fatal Wawbeek]',\n",
       " '[connnected_verb:shook][connected_noun:with the tumult]',\n",
       " '[connnected_verb:was][connected_noun:full of shoutings]',\n",
       " '[connnected_verb:retreated][connected_noun:Mudjekeewis]',\n",
       " '[connnected_verb:down][connected_noun:the mountains]',\n",
       " '[connnected_verb:retreated][connected_noun:fighting]',\n",
       " '[connnected_verb:pursued][connected_noun:by Hiawatha]',\n",
       " '[connnected_verb:doorways][connected_noun:of the West-Wind]',\n",
       " '[connnected_verb:remotest][connected_noun:border]',\n",
       " '[connnected_verb:ere][connected_noun:into the empty spaces]',\n",
       " '[connnected_verb:cried][connected_noun:Mudjekeewis]',\n",
       " '[connnected_verb:kill][connected_noun:me]',\n",
       " '[connnected_verb:kill][connected_noun:the immortal]',\n",
       " '[connnected_verb:have][connected_noun:put you to this trial]',\n",
       " '[connnected_verb:know][connected_noun:and prove your courage]',\n",
       " '[connnected_verb:receive][connected_noun:the prize of valor]',\n",
       " '[connnected_verb:back][connected_noun:to your home and people]',\n",
       " '[connnected_verb:toil][connected_noun:among them]',\n",
       " '[connnected_verb:harms][connected_noun:it]',\n",
       " '[connnected_verb:fishing-grounds][connected_noun:and rivers]',\n",
       " '[connnected_verb:lay][connected_noun:all monsters and magicians]',\n",
       " '[connnected_verb:slew][connected_noun:the Mishe-Mokwa]',\n",
       " '[connnected_verb:eat][connected_noun:Bear of the mountains]',\n",
       " '[connnected_verb:draws][connected_noun:near you]',\n",
       " '[connnected_verb:yes][connected_noun:of Pauguk]',\n",
       " '[connnected_verb:are][connected_noun:upon you in the darkness]',\n",
       " '[connnected_verb:are][connected_noun:my kingdom with you]',\n",
       " '[connnected_verb:be][connected_noun:thenceforward]',\n",
       " '[connnected_verb:fought][connected_noun:that famous battle]',\n",
       " '[connnected_verb:readful][connected_noun:days of Shah-shah]',\n",
       " '[connnected_verb:since][connected_noun:departed]',\n",
       " '[connnected_verb:dom][connected_noun:of the West-Wind]',\n",
       " '[connnected_verb:hunter][connected_noun:sees its traces]',\n",
       " \"[connnected_verb:ered][connected_noun:far o'er hill and valley]\",\n",
       " '[connnected_verb:rush][connected_noun:growing]',\n",
       " '[connnected_verb:ill][connected_noun:in every valley]',\n",
       " '[connnected_verb:went][connected_noun:Hiawatha]',\n",
       " '[connnected_verb:round][connected_noun:him]',\n",
       " '[connnected_verb:was][connected_noun:the air above him]',\n",
       " '[connnected_verb:departed][connected_noun:wholly from him]',\n",
       " '[connnected_verb:is][connected_noun:brain the thought of vengeance]',\n",
       " '[connnected_verb:burning][connected_noun:fever]',\n",
       " '[connnected_verb:is][connected_noun:pace he slackened]',\n",
       " '[connnected_verb:used][connected_noun:or halted]',\n",
       " '[connnected_verb:used][connected_noun:to purchase heads of arrows]',\n",
       " '[connnected_verb:gleam][connected_noun:among the oak-trees]',\n",
       " '[connnected_verb:leap][connected_noun:into the valley]',\n",
       " '[connnected_verb:ere][connected_noun:the ancient Arrow-maker]',\n",
       " '[connnected_verb:is][connected_noun:arrow-heads of sandstone]',\n",
       " '[connnected_verb:ow-heads][connected_noun:of chalcedony]',\n",
       " '[connnected_verb:ow-heads][connected_noun:of flint and jasper]',\n",
       " '[connnected_verb:sharpened][connected_noun:at the edges]',\n",
       " '[connnected_verb:dwelt][connected_noun:his dark-eyed daughter]',\n",
       " '[connnected_verb:hade][connected_noun:and sunshine]',\n",
       " '[connnected_verb:smiled][connected_noun:and frowned alternate]',\n",
       " '[connnected_verb:flowing][connected_noun:like the water]',\n",
       " '[connnected_verb:named][connected_noun:her from the river]',\n",
       " '[connnected_verb:named][connected_noun:her]',\n",
       " '[connnected_verb:ow-heads][connected_noun:of chalcedony]',\n",
       " '[connnected_verb:ow-heads][connected_noun:of flint and jasper]',\n",
       " '[connnected_verb:see][connected_noun:the maiden]',\n",
       " '[connnected_verb:from][connected_noun:behind the curtain]',\n",
       " '[connnected_verb:rustling][connected_noun:of her garments]',\n",
       " '[connnected_verb:waving][connected_noun:curtain]',\n",
       " '[connnected_verb:sees][connected_noun:the Minnehaha]',\n",
       " '[connnected_verb:glancing][connected_noun:through the branches]',\n",
       " '[connnected_verb:hears][connected_noun:the Laughing Water]',\n",
       " '[connnected_verb:behind][connected_noun:its screen of branches]',\n",
       " '[connnected_verb:say][connected_noun:what thoughts and visions]',\n",
       " '[connnected_verb:ill][connected_noun:the fiery brains of young men]',\n",
       " '[connnected_verb:say][connected_noun:what dreams of beauty]',\n",
       " '[connnected_verb:heart][connected_noun:of Hiawatha]',\n",
       " '[connnected_verb:told][connected_noun:to old Nokomis]',\n",
       " '[connnected_verb:reached][connected_noun:the lodge at sunset]',\n",
       " '[connnected_verb:meeting][connected_noun:with his father]',\n",
       " '[connnected_verb:is][connected_noun:fight with Mudjekeewis]',\n",
       " '[connnected_verb:said][connected_noun:of arrows]',\n",
       " '[connnected_verb:hear][connected_noun:how Hiawatha]',\n",
       " '[connnected_verb:fasted][connected_noun:in the forest]',\n",
       " '[connnected_verb:kill][connected_noun:in hunting]',\n",
       " '[connnected_verb:ater][connected_noun:craft in fishing]',\n",
       " '[connnected_verb:triumphs][connected_noun:in the battle]',\n",
       " '[connnected_verb:renown][connected_noun:among the warriors]',\n",
       " '[connnected_verb:profit][connected_noun:of the people]',\n",
       " '[connnected_verb:built][connected_noun:a lodge for fasting]',\n",
       " '[connnected_verb:shining][connected_noun:Big-Sea-Water]',\n",
       " '[connnected_verb:built][connected_noun:it]',\n",
       " '[connnected_verb:isions][connected_noun:many]',\n",
       " '[connnected_verb:even][connected_noun:whole days and nights he fasted]',\n",
       " '[connnected_verb:is][connected_noun:fasting]',\n",
       " '[connnected_verb:woods][connected_noun:he wandered]',\n",
       " '[connnected_verb:start][connected_noun:from the thicket]',\n",
       " '[connnected_verb:is][connected_noun:burrow]',\n",
       " '[connnected_verb:eard][connected_noun:the pheasant]',\n",
       " '[connnected_verb:eard][connected_noun:the squirrel]',\n",
       " '[connnected_verb:is][connected_noun:hoard of acorns]',\n",
       " '[connnected_verb:locks][connected_noun:the wild-goose]',\n",
       " '[connnected_verb:lying][connected_noun:to the fen-lands northward]',\n",
       " '[connnected_verb:wailing][connected_noun:far above him]',\n",
       " '[connnected_verb:lives][connected_noun:depend on these things]',\n",
       " '[connnected_verb:is][connected_noun:fasting]',\n",
       " '[connnected_verb:illing][connected_noun:all the air with fragrance]',\n",
       " '[connnected_verb:lives][connected_noun:depend on these things]',\n",
       " '[connnected_verb:is][connected_noun:fasting]',\n",
       " '[connnected_verb:sat][connected_noun:and pondered]',\n",
       " '[connnected_verb:drops][connected_noun:like beads of wampum]',\n",
       " '[connnected_verb:yellow][connected_noun:perch]',\n",
       " '[connnected_verb:beam][connected_noun:in the water]',\n",
       " '[connnected_verb:lives][connected_noun:depend on these things]',\n",
       " '[connnected_verb:is][connected_noun:fasting]',\n",
       " '[connnected_verb:lay][connected_noun:exhausted]',\n",
       " '[connnected_verb:leaves][connected_noun:and branches]',\n",
       " '[connnected_verb:open][connected_noun:eyelids]',\n",
       " '[connnected_verb:hadowy][connected_noun:dreams and visions]',\n",
       " '[connnected_verb:gleaming][connected_noun:of the water]',\n",
       " '[connnected_verb:dor][connected_noun:of the sunset]',\n",
       " '[connnected_verb:saw][connected_noun:a youth approaching]',\n",
       " '[connnected_verb:ressed][connected_noun:in garments green and yellow]',\n",
       " '[connnected_verb:dor][connected_noun:of the sunset]',\n",
       " '[connnected_verb:is][connected_noun:forehead]',\n",
       " '[connnected_verb:is][connected_noun:hair was soft and golden]',\n",
       " '[connnected_verb:open][connected_noun:doorway]',\n",
       " '[connnected_verb:looked][connected_noun:at Hiawatha]',\n",
       " '[connnected_verb:pity][connected_noun:and compassion]',\n",
       " '[connnected_verb:is][connected_noun:wasted form and features]',\n",
       " '[connnected_verb:like][connected_noun:the sighing]',\n",
       " '[connnected_verb:heard][connected_noun:in heaven]',\n",
       " '[connnected_verb:pray][connected_noun:not like the others]',\n",
       " '[connnected_verb:kill][connected_noun:in hunting]',\n",
       " '[connnected_verb:ater][connected_noun:craft in fishing]',\n",
       " '[connnected_verb:renown][connected_noun:among the warriors]',\n",
       " '[connnected_verb:profit][connected_noun:of the people]',\n",
       " '[connnected_verb:end][connected_noun:of man]',\n",
       " '[connnected_verb:warn][connected_noun:you and instruct you]',\n",
       " '[connnected_verb:struggle][connected_noun:and by labor]',\n",
       " '[connnected_verb:prayed][connected_noun:for]',\n",
       " '[connnected_verb:ise][connected_noun:up from your bed of branches]',\n",
       " '[connnected_verb:wrestle][connected_noun:with me]',\n",
       " '[connnected_verb:is][connected_noun:bed of branches]',\n",
       " '[connnected_verb:light][connected_noun:of his wigwam]',\n",
       " '[connnected_verb:wrestled][connected_noun:with Mondamin]',\n",
       " '[connnected_verb:felt][connected_noun:new courage]',\n",
       " '[connnected_verb:is][connected_noun:brain and bosom]',\n",
       " '[connnected_verb:hope][connected_noun:and vigor]',\n",
       " '[connnected_verb:every][connected_noun:nerve and fibre]',\n",
       " '[connnected_verb:wrestled][connected_noun:there together]',\n",
       " '[connnected_verb:strove][connected_noun:and struggled]',\n",
       " '[connnected_verb:grew][connected_noun:Hiawatha]',\n",
       " '[connnected_verb:fell][connected_noun:around them]',\n",
       " '[connnected_verb:cry][connected_noun:of lamentation]',\n",
       " '[connnected_verb:ream][connected_noun:of pain and famine]',\n",
       " '[connnected_verb:is][connected_noun:enough]',\n",
       " '[connnected_verb:said][connected_noun:Mondamin]',\n",
       " '[connnected_verb:come][connected_noun:again to try you]',\n",
       " '[connnected_verb:seen][connected_noun:not]',\n",
       " '[connnected_verb:sinking][connected_noun:as the rain sinks]',\n",
       " '[connnected_verb:rising][connected_noun:as the mists rise]',\n",
       " '[connnected_verb:saw][connected_noun:not]',\n",
       " '[connnected_verb:saw][connected_noun:that he had vanished]',\n",
       " '[connnected_verb:isty][connected_noun:lake below him]',\n",
       " '[connnected_verb:reeling][connected_noun:stars above him]',\n",
       " '[connnected_verb:ow][connected_noun:and the next day]',\n",
       " '[connnected_verb:heaven][connected_noun:descending]',\n",
       " '[connnected_verb:burning][connected_noun:cinder]',\n",
       " '[connnected_verb:hearth][connected_noun:of the Great Spirit]',\n",
       " ...]"
      ]
     },
     "execution_count": 396,
     "metadata": {},
     "output_type": "execute_result"
    }
   ],
   "source": [
    "doSth=[]\n",
    "for i, word in enumerate(connected_verb):\n",
    "    doSth.append('[connnected_verb:'+word+'][connected_noun:'+connected_noun[i]+']')\n",
    "doSth"
   ]
  },
  {
   "cell_type": "code",
   "execution_count": 12,
   "id": "66200695",
   "metadata": {},
   "outputs": [],
   "source": [
    "python_words = ['and', 'as', 'assert', 'async', 'await', 'break', 'class', 'continue', 'def', 'del', 'elif', 'else', 'except', 'False', 'finally', 'for', 'from', 'global', 'if', 'import', 'in', 'is', 'lambda', 'None', 'nonlocal', 'not', 'or', 'pass', 'raise', 'return', 'True', 'try', 'while', 'with', 'yield']"
   ]
  },
  {
   "cell_type": "code",
   "execution_count": 38,
   "id": "3d9e6bb4",
   "metadata": {},
   "outputs": [],
   "source": [
    "import tracery\n",
    "from tracery.modifiers import base_english"
   ]
  },
  {
   "cell_type": "markdown",
   "id": "27a5f030",
   "metadata": {},
   "source": [
    "{noun}: word string\n",
    "\n",
    "{sentence}: sentence string\n",
    "\n",
    "    \n",
    "{variable_name}: \n",
    "    0 - noun\n",
    "    1 - noun phrase combines with _\n",
    "\n",
    "{class_name}:\n",
    "    0 - noun\n",
    "    1 - noun phrase combines with _\n",
    "    \n",
    "{function_name}:\n",
    "    0 - verb\n",
    "    1 - verb phrase combines with _\n",
    "\n",
    "{module_name}:\n",
    "    0 - {noun}\n",
    "    1 - {noun}.{noun}...\n",
    "\n",
    "\n",
    "\n",
    "comments: # sentence\n",
    "\n",
    "module:\n",
    "    0 - import {noun}\n",
    "    1 - from {noun} import {noun}\n",
    "    2 - from {noun} import {noun} as {noun}\n",
    "    \n",
    " \n",
    "    \n",
    "variables_definition:\n",
    "    0 - {variable_name} = {value}   --  ['=']\n",
    "    1 - {variable_name} = {noun}   --  ['='] \n",
    "    2 - {variable_name} = [{noun},....,{noun}] / {sentence} / {\"a word\": {noun}/{sentence}, ...}\n",
    "    3 - {variable_name} = None\n",
    "    4 - {variable_name} = True / False\n",
    "    5 - {variable_name} = {other variable_name} = ...\n",
    "      \n",
    "\n",
    "{conditions}:\n",
    "    ={value} -- {variable_name} ['==', '!=', '<', '>', '<=', '>='] {value}\n",
    "    ={noun} -- {variable_name} ['==', '!=', 'is'] {variable_name}/{noun} \n",
    "    ={sentence} / {array} -- {other variable_name = {value}/{noun}}/{noun} ['in', 'not in'] {variable_name}\n",
    "    =None -- {variable_name} ['is','is not','=='] None\n",
    "    =True / False -- {variable_name} ['=='] True/False \n",
    "\n",
    "{execute_statement}:\n",
    "    ={sentence} -- {variable_name} ['+=','-='] {noun}/{sentence}\n",
    "    ={array} -- {variable_name}.array_operations\n",
    "    ={dictinary} -- {variable_name}[\"xxx\"] ['='] {variable_name}/{noun}/{sentence}\n",
    "    ={noun}/None -- {variable_name} ['='] {variable_name}/{noun}\n",
    "    ={value} -- {variable_name} ['++','--']     /    {variable_name} ['='] {value}\n",
    "    = True/False -- {variable_name} = False/True \n",
    "\n",
    "\n",
    "{special_execute_statement}:\n",
    "    print(xxx)\n",
    "    .split()\n",
    "    .strip()\n",
    "    {noun}.join{variables_definition=array}\n",
    "    {variables_definition=array/sentence}.replace(exist word, new word)\n",
    "    \n",
    "\n",
    "{if_condition}:\n",
    "    if {conditions}:\n",
    "        {execute_statement}\n",
    "    if {conditions} and {conditions}:\n",
    "    ...\n",
    "    if {conditions} or {conditions}:\n",
    "    ...\n",
    "    \n",
    "    elif\n",
    "    ...\n",
    "    else\n",
    "\n",
    "\n",
    "    break/continue/ #TODO:  pass\n",
    "{while_conditions}:\n",
    "    while {conditions}:\n",
    "        {execute_statement}...\n",
    "        \n",
    "        \n",
    "        maybe if {conditions}:\n",
    "        \n",
    "\n",
    "\n",
    "{for_condition}:\n",
    "    for {a new word} in {variable_name = array / sentence}:\n",
    "        {execute_statement}...\n",
    "        \n",
    "        \n",
    "        maybe if {conditions}:\n",
    "        \n",
    "{try_condition}:\n",
    "    try:\n",
    "        function\n",
    "    except: / except Exception as {a new word}\n",
    "        function\n",
    "    finally:\n",
    "        function\n",
    "    \n",
    "\n",
    "{def_function}: (call in progress)\n",
    "    {function_name}()/({variable_name},...):\n",
    "        {execute_statement}\n",
    "          nothing / renturn ...\n",
    "\n",
    "     \n",
    "\n",
    "function_execute:\n",
    "    {def_function}()\n",
    "\n",
    "\n"
   ]
  },
  {
   "cell_type": "markdown",
   "id": "70212ff4",
   "metadata": {},
   "source": [
    "text=\n",
    "\"It's so nice\n",
    "to wake up in the morning\n",
    " all alone\n",
    "and not have to tell somebody\n",
    " you love them\n",
    "when you don't love them\n",
    " any more.\"\n",
    " \n",
    " you = {\"wake_up all alone\": \"in the morning\", \"have_to_tell\": \"\"}\n",
    " \n",
    "\"when\" -> choose if/while\n",
    "\n",
    "if \"them\" not in you[\"love\"]:\n",
    "    \"wake up in the morning all alone\" = \"nice\"\n",
    "    \"tell somebody you love them\" = False\n"
   ]
  },
  {
   "cell_type": "code",
   "execution_count": 503,
   "id": "3587bca9",
   "metadata": {},
   "outputs": [],
   "source": [
    "poems_rules ={\n",
    "    \"origins_for_once\":'#[variableA:#variable_name#][variableB:#variable_name#][#variable_operations#]variable_definition#\\n\\n#logistic_conditions#',\n",
    "#     \"variable_definition\": [\"[variableA:#variable_name#] = #values#\", \"[variableA:#variable_name#] = #noun#\", \"[variableA:#variable_name#] = {}\", \"[variableA:#variable_name#] = #sentence#\", \"[variableA:#variable_name#] = [#noun#, #noun#, #noun#]\", \"[variableA:#variable_name#] = #bool#\", \"[variableA:#variable_name#] = None\", \"[variableA:#variable_name#] = [variableB:#variable_name#] = #noun#\"],\n",
    "#     \"condition\": ['#variableA# #variable_value_operators# #values#', '#variableA# #variable_value_operators# #noun#', '#variableA#[#noun#] #variable_value_operators# #noun#', '#noun# #variable_string_operators# #variableA#', '#noun# #variable_string_operators# #variableA#', '#variableA# = #bool#', '#variableA# #variable_noun_operators# None', '#variableA# #variable_noun_operators# #variableB#'],\n",
    "#     \"execute_statement\": ['#variableA# #variable_value_execute#','#variableA# = #noun#', '#variableA#[#noun#] = #noun#', '#variableA# #variable_sentence_execute# #noun#', '#variableA##variable_array_execute#( #noun# )', '#variableA# = !#variableA#', '#variableA# #variable_sentence_execute# #noun#', '[variableA:#variable_name#] = #noun#\\n[variableB:#variable_name#] = #noun#'],\n",
    "    \"variable_operations\":[\n",
    "        '[variable_definition:#variableA# = #values#][condition:#variableA# #variable_value_operators# #values#][execute_statement:#variableA##variable_value_execute#]',\n",
    "        '[variable_definition:#variableA# = \"#noun#\"][condition:#variableA# #variable_value_operators# \"#noun#\"][execute_statement:#variableA# = \"#noun#\"',\n",
    "        '[variable_definition:#variableA# = {}][condition:#variableA#[\"#noun#\"] #variable_value_operators# \"#noun#\"][execute_statement:#variableA#[\"#noun#\"] = \"#noun#\"]',\n",
    "        '[variable_definition:#variableA# = \"#sentence#\"][condition:\"#noun#\" #variable_string_operators# #variableA#][execute_statement:#variableA# #variable_sentence_execute# \"#noun#\"]',\n",
    "        '[variable_definition:#variableA# = [\"#noun#\", \"#noun#\", \"#noun#\"]][condition:\"#noun#\" #variable_string_operators# #variableA#][execute_statement:#variableA##variable_array_execute#(\"#noun#\")]',\n",
    "        '[variable_definition:#variableA# = #bool#][condition:#variableA# = #bool#][execute_statement:#variableA# = !#variableA#]',\n",
    "        '[variable_definition:#variableA# = None][condition:#variableA# #variable_noun_operators# None][execute_statement:#variableA# #variable_sentence_execute# \"#noun#\"]',\n",
    "        '[variable_definition:#variableA# = #variableB# = \"#noun#\"][condition:#variableA# #variable_noun_operators# #variableB#][execute_statement: #variableA# = \"#noun#\"\\n#variableB# = \"#noun#\"]'\n",
    "    ], \n",
    "    \"values\": [str(random.randint(-100, 101)),'0'],\n",
    "    \"bool\":['True','False'],\n",
    "    \"variable_value_operators\": ['==', '!=', '<', '>', '<=', '>='],\n",
    "    \"variable_noun_operators\": ['==', '!=', 'is', 'is not'],\n",
    "    \"variable_string_operators\":['in', 'not in'],\n",
    "    \"variable_value_execute\": ['++','--'],\n",
    "    \"variable_sentence_execute\": ['+=','-='],\n",
    "    \"variable_array_execute\": ['.append','.insert','.remove','.count'],\n",
    "    \"special_execute\":['print(#variableA#)'],\n",
    "#     \"condition_operators\": ['==', '!=', '<', '>', '<=', '>=', 'is', 'in', 'not in'],\n",
    "    \"operators\":['=','+=','-=','++','--'],\n",
    "#     \"array_operations\":['.append','.insert','.remove','.count','.sort()','.reverse()','.copy()'],\n",
    "    \"conjunctions\": ['and', 'or', 'not'],\n",
    "    \"control_flow\": ['if', 'elif', 'else', 'while', 'for', 'break', 'continue', 'pass'],\n",
    "    \"functions_before\": ['def #verb#():', 'def #connnected_verb#(#connected_noun#):'],\n",
    "    \"functions_after\": ['...', 'pass'],\n",
    "    \"functions_all\":'#functions_before# #functions_after#',\n",
    "#     \"package\": ['import', 'from', 'as'],\n",
    "    \"variable_name\": ['#noun#','#adj_noun#'],\n",
    "    \"adj\":adjectives,\n",
    "    \"noun\":nouns,\n",
    "    \"adj_noun\": random.choice(adjectives)+\"_\"+random.choice(nouns),\n",
    "    \"doSth\":doSth,\n",
    "    \"verb\": verbs,\n",
    "    \"sentence\": finalLines,\n",
    "    \"loop_word\":['#execute_statement#','break','continue','pass','#functions_all#'],\n",
    "    \"try_word\":['#functions_all#','#special_execute#'],\n",
    "    \"if_conditions\":['if #condition#:\\n\\t#execute_statement#', 'if #condition#:\\n\\t#loop_word#\\nelse:\\n\\t#loop_word#'],\n",
    "#     \"while_coditions\":['while #condition#:\\n\\t#execute_statement#','while #condition#:\\n\\t#if_conditions#'],\n",
    "    \"while_coditions\":['while #condition#:\\n\\t#execute_statement#'],\n",
    "#     \"for_conditions\":['for #noun# in '],\n",
    "    \"try_conditions\":['try:\\n\\t#execute_statement#\\nexcept:\\n\\t#special_execute#','try:\\n\\t#execute_statement#\\nexcept Exception as #noun#:\\n\\t#special_execute#'],\n",
    "    \"logistic_conditions\":['#if_conditions#','#while_coditions#','#try_conditions#']\n",
    "}"
   ]
  },
  {
   "cell_type": "markdown",
   "id": "c50da962",
   "metadata": {},
   "source": [
    "## Showcase"
   ]
  },
  {
   "cell_type": "code",
   "execution_count": 498,
   "id": "57b0eb87",
   "metadata": {},
   "outputs": [],
   "source": [
    "grammar = tracery.Grammar(poems_rules)\n",
    "grammar.add_modifiers(base_english)\n",
    "thisSourceCodePoem=grammar.flatten(\"#origins_for_once#\")"
   ]
  },
  {
   "cell_type": "code",
   "execution_count": 451,
   "id": "c2b79b07",
   "metadata": {},
   "outputs": [
    {
     "name": "stdout",
     "output_type": "stream",
     "text": [
      "story = {}\n",
      "\n",
      "if story > remaine:\n",
      "\tstory = graves\n",
      "else:\n",
      "\tcontinue\n"
     ]
    }
   ],
   "source": [
    "print(thisSourceCodePoem)"
   ]
  },
  {
   "cell_type": "code",
   "execution_count": 491,
   "id": "f130e65b",
   "metadata": {},
   "outputs": [
    {
     "name": "stdout",
     "output_type": "stream",
     "text": [
      "couple = 29\n",
      "\n",
      "if couple == 0:\n",
      "\tcouple--\n",
      "else:\n",
      "\tcouple--\n"
     ]
    }
   ],
   "source": [
    "thisSourceCodePoem=grammar.flatten(\"#origins_for_once#\")\n",
    "\n",
    "print(thisSourceCodePoem)"
   ]
  },
  {
   "cell_type": "code",
   "execution_count": 484,
   "id": "a4201fff",
   "metadata": {},
   "outputs": [
    {
     "name": "stdout",
     "output_type": "stream",
     "text": [
      "cycle = fashioned_deservings = \"gripe\"\n",
      "\n",
      "while cycle is not fashioned_deservings:\n",
      "\tif cycle is not fashioned_deservings:\n",
      "\t cycle = \"ox\"\n",
      "fashioned_deservings = \"blackbirds\"\n",
      "else:\n",
      "\tcontinue\n"
     ]
    }
   ],
   "source": [
    "thisSourceCodePoem=grammar.flatten(\"#origins_for_once#\")\n",
    "\n",
    "print(thisSourceCodePoem)"
   ]
  },
  {
   "cell_type": "code",
   "execution_count": 502,
   "id": "84e6a87e",
   "metadata": {},
   "outputs": [
    {
     "name": "stdout",
     "output_type": "stream",
     "text": [
      "greater_herring = \"all summed up in Man\"\n",
      "\n",
      "try:\n",
      "\tgreater_herring -= \"sculls\"\n",
      "except Exception as firebrands:\n",
      "\tprint( greater_herring )\n"
     ]
    }
   ],
   "source": [
    "thisSourceCodePoem=grammar.flatten(\"#origins_for_once#\")\n",
    "print(thisSourceCodePoem)"
   ]
  },
  {
   "cell_type": "code",
   "execution_count": 507,
   "id": "36d0e579",
   "metadata": {
    "scrolled": true
   },
   "outputs": [
    {
     "name": "stdout",
     "output_type": "stream",
     "text": [
      "greater_herring = imploies = \"loses\"\n",
      "\n",
      "while greater_herring == imploies:\n",
      "\t greater_herring = \"nitre\"\n",
      "imploies = \"imprudence\"\n"
     ]
    }
   ],
   "source": [
    "thisSourceCodePoem=grammar.flatten(\"#origins_for_once#\")\n",
    "print(thisSourceCodePoem)"
   ]
  },
  {
   "cell_type": "code",
   "execution_count": 516,
   "id": "8a3ff456",
   "metadata": {
    "scrolled": true
   },
   "outputs": [
    {
     "name": "stdout",
     "output_type": "stream",
     "text": [
      "unconform_imagination = suffering = \"triumph\"\n",
      "\n",
      "try:\n",
      "\t unconform_imagination = \"humour\"\n",
      "suffering = \"wolves\"\n",
      "except:\n",
      "\tprint(unconform_imagination)\n"
     ]
    }
   ],
   "source": [
    "grammar = tracery.Grammar(poems_rules)\n",
    "grammar.add_modifiers(base_english)\n",
    "thisSourceCodePoem=grammar.flatten(\"#origins_for_once#\")\n",
    "print(thisSourceCodePoem)"
   ]
  },
  {
   "cell_type": "code",
   "execution_count": 522,
   "id": "a430bf60",
   "metadata": {
    "scrolled": true
   },
   "outputs": [
    {
     "name": "stdout",
     "output_type": "stream",
     "text": [
      "flowes = {}\n",
      "\n",
      "if flowes <= \"roses\":\n",
      "\tflowes = \"spines\"\n"
     ]
    }
   ],
   "source": [
    "grammar = tracery.Grammar(poems_rules)\n",
    "grammar.add_modifiers(base_english)\n",
    "thisSourceCodePoem=grammar.flatten(\"#origins_for_once#\")\n",
    "print(thisSourceCodePoem)"
   ]
  },
  {
   "cell_type": "code",
   "execution_count": 524,
   "id": "5cd0ebcc",
   "metadata": {
    "scrolled": true
   },
   "outputs": [
    {
     "name": "stdout",
     "output_type": "stream",
     "text": [
      "enjoynes = \"& formd the Pow'rs of Heav'n\"\n",
      "\n",
      "while \"tear\" not in enjoynes:\n",
      "\tenjoynes += \"scarlet\"\n"
     ]
    }
   ],
   "source": [
    "grammar = tracery.Grammar(poems_rules)\n",
    "grammar.add_modifiers(base_english)\n",
    "thisSourceCodePoem=grammar.flatten(\"#origins_for_once#\")\n",
    "print(thisSourceCodePoem)"
   ]
  },
  {
   "cell_type": "code",
   "execution_count": 528,
   "id": "3402a25b",
   "metadata": {},
   "outputs": [
    {
     "name": "stdout",
     "output_type": "stream",
     "text": [
      "unconform_imagination = True\n",
      "\n",
      "if unconform_imagination = False:\n",
      "\tdef passes(): ...\n",
      "else:\n",
      "\tunconform_imagination = !unconform_imagination\n"
     ]
    }
   ],
   "source": [
    "grammar = tracery.Grammar(poems_rules)\n",
    "grammar.add_modifiers(base_english)\n",
    "thisSourceCodePoem=grammar.flatten(\"#origins_for_once#\")\n",
    "print(thisSourceCodePoem)"
   ]
  },
  {
   "cell_type": "markdown",
   "id": "45dd0cd9",
   "metadata": {},
   "source": [
    "# 2. Use a prompt to generate source code poem"
   ]
  },
  {
   "cell_type": "markdown",
   "id": "c1a858ca",
   "metadata": {},
   "source": [
    "### Finetune a GPT model"
   ]
  },
  {
   "cell_type": "code",
   "execution_count": 1,
   "id": "3457f823",
   "metadata": {
    "scrolled": true
   },
   "outputs": [
    {
     "name": "stdout",
     "output_type": "stream",
     "text": [
      "Requirement already satisfied: datasets in /Users/voruin/miniconda3/lib/python3.10/site-packages (2.11.0)\n",
      "Requirement already satisfied: pandas in /Users/voruin/miniconda3/lib/python3.10/site-packages (from datasets) (1.5.3)\n",
      "Requirement already satisfied: huggingface-hub<1.0.0,>=0.11.0 in /Users/voruin/miniconda3/lib/python3.10/site-packages (from datasets) (0.13.3)\n",
      "Requirement already satisfied: tqdm>=4.62.1 in /Users/voruin/miniconda3/lib/python3.10/site-packages (from datasets) (4.64.1)\n",
      "Requirement already satisfied: pyyaml>=5.1 in /Users/voruin/miniconda3/lib/python3.10/site-packages (from datasets) (6.0)\n",
      "Requirement already satisfied: aiohttp in /Users/voruin/miniconda3/lib/python3.10/site-packages (from datasets) (3.8.4)\n",
      "Requirement already satisfied: requests>=2.19.0 in /Users/voruin/.local/lib/python3.10/site-packages (from datasets) (2.28.2)\n",
      "Requirement already satisfied: fsspec[http]>=2021.11.1 in /Users/voruin/miniconda3/lib/python3.10/site-packages (from datasets) (2023.3.0)\n",
      "Requirement already satisfied: pyarrow>=8.0.0 in /Users/voruin/miniconda3/lib/python3.10/site-packages (from datasets) (11.0.0)\n",
      "Requirement already satisfied: multiprocess in /Users/voruin/miniconda3/lib/python3.10/site-packages (from datasets) (0.70.14)\n",
      "Requirement already satisfied: dill<0.3.7,>=0.3.0 in /Users/voruin/miniconda3/lib/python3.10/site-packages (from datasets) (0.3.6)\n",
      "Requirement already satisfied: xxhash in /Users/voruin/miniconda3/lib/python3.10/site-packages (from datasets) (3.2.0)\n",
      "Requirement already satisfied: numpy>=1.17 in /Users/voruin/.local/lib/python3.10/site-packages (from datasets) (1.24.2)\n",
      "Requirement already satisfied: packaging in /Users/voruin/miniconda3/lib/python3.10/site-packages (from datasets) (23.0)\n",
      "Requirement already satisfied: responses<0.19 in /Users/voruin/miniconda3/lib/python3.10/site-packages (from datasets) (0.18.0)\n",
      "Requirement already satisfied: multidict<7.0,>=4.5 in /Users/voruin/miniconda3/lib/python3.10/site-packages (from aiohttp->datasets) (6.0.4)\n",
      "Requirement already satisfied: frozenlist>=1.1.1 in /Users/voruin/miniconda3/lib/python3.10/site-packages (from aiohttp->datasets) (1.3.3)\n",
      "Requirement already satisfied: charset-normalizer<4.0,>=2.0 in /Users/voruin/miniconda3/lib/python3.10/site-packages (from aiohttp->datasets) (2.0.4)\n",
      "Requirement already satisfied: yarl<2.0,>=1.0 in /Users/voruin/miniconda3/lib/python3.10/site-packages (from aiohttp->datasets) (1.8.2)\n",
      "Requirement already satisfied: aiosignal>=1.1.2 in /Users/voruin/miniconda3/lib/python3.10/site-packages (from aiohttp->datasets) (1.3.1)\n",
      "Requirement already satisfied: attrs>=17.3.0 in /Users/voruin/miniconda3/lib/python3.10/site-packages (from aiohttp->datasets) (22.2.0)\n",
      "Requirement already satisfied: async-timeout<5.0,>=4.0.0a3 in /Users/voruin/miniconda3/lib/python3.10/site-packages (from aiohttp->datasets) (4.0.2)\n",
      "Requirement already satisfied: filelock in /Users/voruin/.local/lib/python3.10/site-packages (from huggingface-hub<1.0.0,>=0.11.0->datasets) (3.9.0)\n",
      "Requirement already satisfied: typing-extensions>=3.7.4.3 in /Users/voruin/miniconda3/lib/python3.10/site-packages (from huggingface-hub<1.0.0,>=0.11.0->datasets) (4.4.0)\n",
      "Requirement already satisfied: idna<4,>=2.5 in /Users/voruin/miniconda3/lib/python3.10/site-packages (from requests>=2.19.0->datasets) (3.4)\n",
      "Requirement already satisfied: certifi>=2017.4.17 in /Users/voruin/miniconda3/lib/python3.10/site-packages (from requests>=2.19.0->datasets) (2022.12.7)\n",
      "Requirement already satisfied: urllib3<1.27,>=1.21.1 in /Users/voruin/miniconda3/lib/python3.10/site-packages (from requests>=2.19.0->datasets) (1.26.13)\n",
      "Requirement already satisfied: pytz>=2020.1 in /Users/voruin/miniconda3/lib/python3.10/site-packages (from pandas->datasets) (2022.7.1)\n",
      "Requirement already satisfied: python-dateutil>=2.8.1 in /Users/voruin/miniconda3/lib/python3.10/site-packages (from pandas->datasets) (2.8.2)\n",
      "Requirement already satisfied: six>=1.5 in /Users/voruin/miniconda3/lib/python3.10/site-packages (from python-dateutil>=2.8.1->pandas->datasets) (1.16.0)\n",
      "\n",
      "\u001b[1m[\u001b[0m\u001b[34;49mnotice\u001b[0m\u001b[1;39;49m]\u001b[0m\u001b[39;49m A new release of pip is available: \u001b[0m\u001b[31;49m23.0.1\u001b[0m\u001b[39;49m -> \u001b[0m\u001b[32;49m23.1.2\u001b[0m\n",
      "\u001b[1m[\u001b[0m\u001b[34;49mnotice\u001b[0m\u001b[1;39;49m]\u001b[0m\u001b[39;49m To update, run: \u001b[0m\u001b[32;49mpython -m pip install --upgrade pip\u001b[0m\n"
     ]
    }
   ],
   "source": [
    "import sys\n",
    "!{sys.executable} -m pip install datasets"
   ]
  },
  {
   "cell_type": "code",
   "execution_count": 31,
   "id": "d01c9d7b",
   "metadata": {},
   "outputs": [],
   "source": [
    "import datasets\n",
    "from transformers import pipeline, AutoModelForCausalLM, AutoTokenizer\n"
   ]
  },
  {
   "cell_type": "code",
   "execution_count": 32,
   "id": "d2413bd1",
   "metadata": {},
   "outputs": [],
   "source": [
    "tokenizer = AutoTokenizer.from_pretrained('distilgpt2')\n",
    "model = AutoModelForCausalLM.from_pretrained('distilgpt2')"
   ]
  },
  {
   "cell_type": "code",
   "execution_count": 33,
   "id": "38b27f1f",
   "metadata": {},
   "outputs": [],
   "source": [
    "generator = pipeline('text-generation', model=model, tokenizer=tokenizer)"
   ]
  },
  {
   "cell_type": "code",
   "execution_count": 34,
   "id": "7d9a82ac",
   "metadata": {},
   "outputs": [
    {
     "name": "stderr",
     "output_type": "stream",
     "text": [
      "Setting `pad_token_id` to `eos_token_id`:50256 for open-end generation.\n"
     ]
    },
    {
     "data": {
      "text/plain": [
       "[{'generated_text': \"Such as in evening silence come the first part of the night, so the next morning (as always it is on Sundays) we return on the way home.\\nI am on the last-minute of every waking call. I'm not doing anything\"}]"
      ]
     },
     "execution_count": 34,
     "metadata": {},
     "output_type": "execute_result"
    }
   ],
   "source": [
    "generator(\"Such as in evening silence come\")"
   ]
  },
  {
   "cell_type": "markdown",
   "id": "334e3207",
   "metadata": {},
   "source": [
    "with open(\"combined.txt\", \"w\") as fh:\n",
    "    fh.write(open(\"combined-20000.txt\").read()[:20000])"
   ]
  },
  {
   "cell_type": "code",
   "execution_count": 35,
   "id": "b175b647",
   "metadata": {},
   "outputs": [
    {
     "name": "stderr",
     "output_type": "stream",
     "text": [
      "Found cached dataset text (/Users/voruin/.cache/huggingface/datasets/text/default-649a8d2ae5e0a169/0.0.0/cb1e9bd71a82ad27976be3b12b407850fe2837d80c22c5e03a28949843a8ace2)\n"
     ]
    },
    {
     "name": "stdout",
     "output_type": "stream",
     "text": [
      "huggingface/tokenizers: The current process just got forked, after parallelism has already been used. Disabling parallelism to avoid deadlocks...\n",
      "To disable this warning, you can either:\n",
      "\t- Avoid using `tokenizers` before the fork if possible\n",
      "\t- Explicitly set the environment variable TOKENIZERS_PARALLELISM=(true | false)\n"
     ]
    },
    {
     "data": {
      "application/vnd.jupyter.widget-view+json": {
       "model_id": "82a6b22dfa2b417face5bfcb81c2a2de",
       "version_major": 2,
       "version_minor": 0
      },
      "text/plain": [
       "  0%|          | 0/1 [00:00<?, ?it/s]"
      ]
     },
     "metadata": {},
     "output_type": "display_data"
    }
   ],
   "source": [
    "training_data = datasets.load_dataset('text', data_files=\"combined.txt\")"
   ]
  },
  {
   "cell_type": "code",
   "execution_count": 14,
   "id": "debd5e03",
   "metadata": {},
   "outputs": [
    {
     "data": {
      "application/vnd.jupyter.widget-view+json": {
       "model_id": "",
       "version_major": 2,
       "version_minor": 0
      },
      "text/plain": [
       "Map:   0%|          | 0/2784 [00:00<?, ? examples/s]"
      ]
     },
     "metadata": {},
     "output_type": "display_data"
    }
   ],
   "source": [
    "tokenizer.pad_token = tokenizer.eos_token\n",
    "tokenized_training_data = training_data.map(\n",
    "    lambda x: tokenizer(x['text']),\n",
    "    remove_columns=[\"text\"]\n",
    ")"
   ]
  },
  {
   "cell_type": "code",
   "execution_count": 15,
   "id": "fcfccbf5",
   "metadata": {},
   "outputs": [
    {
     "data": {
      "application/vnd.jupyter.widget-view+json": {
       "model_id": "",
       "version_major": 2,
       "version_minor": 0
      },
      "text/plain": [
       "Map:   0%|          | 0/2784 [00:00<?, ? examples/s]"
      ]
     },
     "metadata": {},
     "output_type": "display_data"
    }
   ],
   "source": [
    "block_size = 64\n",
    "# magic from https://github.com/huggingface/notebooks/blob/master/examples/language_modeling.ipynb\n",
    "def group_texts(examples):\n",
    "    concatenated_examples = {k: sum(examples[k], []) for k in examples.keys()}\n",
    "    total_length = len(concatenated_examples[list(examples.keys())[0]])\n",
    "    total_length = (total_length // block_size) * block_size\n",
    "    result = {\n",
    "        k: [t[i : i + block_size] for i in range(0, total_length, block_size)]\n",
    "        for k, t in concatenated_examples.items()\n",
    "    }\n",
    "    result[\"labels\"] = result[\"input_ids\"].copy()\n",
    "    return result\n",
    "lm_training_data = tokenized_training_data.map(\n",
    "    group_texts,\n",
    "    batched=True,\n",
    "    batch_size=200\n",
    ")"
   ]
  },
  {
   "cell_type": "code",
   "execution_count": 16,
   "id": "356b7fe3",
   "metadata": {},
   "outputs": [],
   "source": [
    "from transformers import Trainer, TrainingArguments\n"
   ]
  },
  {
   "cell_type": "code",
   "execution_count": 17,
   "id": "ee34f864",
   "metadata": {},
   "outputs": [],
   "source": [
    "trainer = Trainer(model=model,\n",
    "                  train_dataset=lm_training_data['train'],\n",
    "                  args=TrainingArguments(\n",
    "                      output_dir='distilgpt2-finetune-victorianLovePoems',\n",
    "                      num_train_epochs=1,\n",
    "                      do_train=True,\n",
    "                      do_eval=False\n",
    "                  ),\n",
    "                  tokenizer=tokenizer)"
   ]
  },
  {
   "cell_type": "code",
   "execution_count": 18,
   "id": "7a480839",
   "metadata": {},
   "outputs": [
    {
     "name": "stderr",
     "output_type": "stream",
     "text": [
      "***** Running training *****\n",
      "  Num examples = 366\n",
      "  Num Epochs = 1\n",
      "  Instantaneous batch size per device = 8\n",
      "  Total train batch size (w. parallel, distributed & accumulation) = 8\n",
      "  Gradient Accumulation steps = 1\n",
      "  Total optimization steps = 46\n"
     ]
    },
    {
     "data": {
      "text/html": [
       "\n",
       "    <div>\n",
       "      \n",
       "      <progress value='46' max='46' style='width:300px; height:20px; vertical-align: middle;'></progress>\n",
       "      [46/46 00:20, Epoch 1/1]\n",
       "    </div>\n",
       "    <table border=\"1\" class=\"dataframe\">\n",
       "  <thead>\n",
       "    <tr style=\"text-align: left;\">\n",
       "      <th>Step</th>\n",
       "      <th>Training Loss</th>\n",
       "    </tr>\n",
       "  </thead>\n",
       "  <tbody>\n",
       "  </tbody>\n",
       "</table><p>"
      ],
      "text/plain": [
       "<IPython.core.display.HTML object>"
      ]
     },
     "metadata": {},
     "output_type": "display_data"
    },
    {
     "name": "stderr",
     "output_type": "stream",
     "text": [
      "\n",
      "\n",
      "Training completed. Do not forget to share your model on huggingface.co/models =)\n",
      "\n",
      "\n"
     ]
    },
    {
     "data": {
      "text/plain": [
       "TrainOutput(global_step=46, training_loss=4.881471716839334, metrics={'train_runtime': 21.6837, 'train_samples_per_second': 16.879, 'train_steps_per_second': 2.121, 'total_flos': 5977163169792.0, 'train_loss': 4.881471716839334, 'epoch': 1.0})"
      ]
     },
     "execution_count": 18,
     "metadata": {},
     "output_type": "execute_result"
    }
   ],
   "source": [
    "trainer.train()"
   ]
  },
  {
   "cell_type": "code",
   "execution_count": 19,
   "id": "f48e1d78",
   "metadata": {},
   "outputs": [
    {
     "name": "stderr",
     "output_type": "stream",
     "text": [
      "Saving model checkpoint to distilgpt2-finetune-victorianLovePoems\n",
      "Configuration saved in distilgpt2-finetune-victorianLovePoems/config.json\n",
      "Model weights saved in distilgpt2-finetune-victorianLovePoems/pytorch_model.bin\n",
      "tokenizer config file saved in distilgpt2-finetune-victorianLovePoems/tokenizer_config.json\n",
      "Special tokens file saved in distilgpt2-finetune-victorianLovePoems/special_tokens_map.json\n"
     ]
    }
   ],
   "source": [
    "trainer.save_model()"
   ]
  },
  {
   "cell_type": "code",
   "execution_count": 36,
   "id": "4d780b7b",
   "metadata": {},
   "outputs": [
    {
     "name": "stderr",
     "output_type": "stream",
     "text": [
      "Setting `pad_token_id` to `eos_token_id`:50256 for open-end generation.\n"
     ]
    },
    {
     "data": {
      "text/plain": [
       "'And days may pass in gay confusion, in our time. And on the eve of the 2015 presidential election, we must take care of the LGBT community. This year has had a profound and profound, multifaceted, and deeply profound impact on gay politics.\\n\\n\\n\\n\\nThis year marks the last time a LGBT-themed ad campaign has been launched that has gone on-the-air against the LGBT community.'"
      ]
     },
     "execution_count": 36,
     "metadata": {},
     "output_type": "execute_result"
    }
   ],
   "source": [
    "generator(\"And days may pass in gay confusion,\", max_length=100)[0]['generated_text']"
   ]
  },
  {
   "cell_type": "code",
   "execution_count": 37,
   "id": "4953b725",
   "metadata": {},
   "outputs": [],
   "source": [
    "my_tokenizer = AutoTokenizer.from_pretrained('distilgpt2-finetune-victorianLovePoems')\n",
    "my_model = AutoModelForCausalLM.from_pretrained('distilgpt2-finetune-victorianLovePoems')"
   ]
  },
  {
   "cell_type": "code",
   "execution_count": 38,
   "id": "1859aefa",
   "metadata": {},
   "outputs": [],
   "source": [
    "my_generator = pipeline(\"text-generation\", model=my_model, tokenizer=my_tokenizer)"
   ]
  },
  {
   "cell_type": "code",
   "execution_count": 39,
   "id": "354f9b19",
   "metadata": {},
   "outputs": [
    {
     "name": "stderr",
     "output_type": "stream",
     "text": [
      "Setting `pad_token_id` to `eos_token_id`:50256 for open-end generation.\n"
     ]
    },
    {
     "data": {
      "text/plain": [
       "\"And days may pass in gay confusion,’ and that day may come after,But they are still left, and one's heart may tremble.And that day may come when the joys of the world shall end:\\nAnd it cannot\""
      ]
     },
     "execution_count": 39,
     "metadata": {},
     "output_type": "execute_result"
    }
   ],
   "source": [
    "my_generator(\"And days may pass in gay confusion,\")[0]['generated_text']\n"
   ]
  },
  {
   "cell_type": "code",
   "execution_count": 40,
   "id": "fead314f",
   "metadata": {},
   "outputs": [
    {
     "name": "stderr",
     "output_type": "stream",
     "text": [
      "Setting `pad_token_id` to `eos_token_id`:50256 for open-end generation.\n"
     ]
    },
    {
     "data": {
      "text/plain": [
       "'And days may pass in gay confusion, it may be the summer of the season, and there is not an old year. Yet on an ice or a summer field its night and day are far beyond the season. The seasons wind, the seasons wind'"
      ]
     },
     "execution_count": 40,
     "metadata": {},
     "output_type": "execute_result"
    }
   ],
   "source": [
    "my_generator(\"And days may pass in gay confusion,\")[0]['generated_text']"
   ]
  },
  {
   "cell_type": "code",
   "execution_count": 41,
   "id": "29b0f7a8",
   "metadata": {},
   "outputs": [],
   "source": [
    "import re"
   ]
  },
  {
   "cell_type": "code",
   "execution_count": 42,
   "id": "639cd8ed",
   "metadata": {},
   "outputs": [],
   "source": [
    "def poem_generator(prompt, min_length=50, max_length=200):\n",
    "    generated_text = my_generator(prompt)[0]['generated_text']\n",
    "    while len(generated_text) < min_length or len(generated_text) > max_length or not re.search(r'[.!?]$', generated_text):\n",
    "        print(generated_text)\n",
    "        generated_text = my_generator(prompt)[0]['generated_text']\n",
    "    return generated_text"
   ]
  },
  {
   "cell_type": "code",
   "execution_count": 43,
   "id": "c457a6d6",
   "metadata": {},
   "outputs": [
    {
     "name": "stderr",
     "output_type": "stream",
     "text": [
      "Setting `pad_token_id` to `eos_token_id`:50256 for open-end generation.\n",
      "Setting `pad_token_id` to `eos_token_id`:50256 for open-end generation.\n"
     ]
    },
    {
     "name": "stdout",
     "output_type": "stream",
     "text": [
      "Did you miss me?Somewhere along the path from there I might never meet thee.I have never met you again.You’ll never know the joy of it, your heart and heart-sore forever.You will never feel\n"
     ]
    },
    {
     "name": "stderr",
     "output_type": "stream",
     "text": [
      "Setting `pad_token_id` to `eos_token_id`:50256 for open-end generation.\n"
     ]
    },
    {
     "name": "stdout",
     "output_type": "stream",
     "text": [
      "Did you miss me?”If what I do then I would die”If it were not for you it would not die”Or you should have it that way then…I do not mean the best words of your grief?�\n"
     ]
    },
    {
     "name": "stderr",
     "output_type": "stream",
     "text": [
      "Setting `pad_token_id` to `eos_token_id`:50256 for open-end generation.\n"
     ]
    },
    {
     "name": "stdout",
     "output_type": "stream",
     "text": [
      "Did you miss me?”That’s a lie. And she’s going to say, ”I’st need to tell you: ",
      "Why,“I don’t know,’What\n"
     ]
    },
    {
     "name": "stderr",
     "output_type": "stream",
     "text": [
      "Setting `pad_token_id` to `eos_token_id`:50256 for open-end generation.\n"
     ]
    },
    {
     "name": "stdout",
     "output_type": "stream",
     "text": [
      "Did you miss me? Did I love you? And if you did, where where am I?\"It might be a kind ooze of an ooze or the ooze to a cold light.In love, where is my lover\n"
     ]
    },
    {
     "name": "stderr",
     "output_type": "stream",
     "text": [
      "Setting `pad_token_id` to `eos_token_id`:50256 for open-end generation.\n"
     ]
    },
    {
     "name": "stdout",
     "output_type": "stream",
     "text": [
      "Did you miss me?\n",
      "You’re the first man who has never left me.You are the best man but how ever you ever left me?What's your name              \n"
     ]
    },
    {
     "name": "stderr",
     "output_type": "stream",
     "text": [
      "Setting `pad_token_id` to `eos_token_id`:50256 for open-end generation.\n"
     ]
    },
    {
     "name": "stdout",
     "output_type": "stream",
     "text": [
      "Did you miss me?”I am just a small nameless, wailing. With your eye open, I feel the tears and tears and tears to me:”I feel no fear nor regret,”But I shall never\n"
     ]
    },
    {
     "name": "stderr",
     "output_type": "stream",
     "text": [
      "Setting `pad_token_id` to `eos_token_id`:50256 for open-end generation.\n"
     ]
    },
    {
     "name": "stdout",
     "output_type": "stream",
     "text": [
      "Did you miss me?I‼I shall not let my dear heart fall away;The sun is there when you lie,My heart is not at your feet,Let‡t see,Let’s go in the morning,Your\n"
     ]
    },
    {
     "name": "stderr",
     "output_type": "stream",
     "text": [
      "Setting `pad_token_id` to `eos_token_id`:50256 for open-end generation.\n"
     ]
    },
    {
     "name": "stdout",
     "output_type": "stream",
     "text": [
      "Did you miss me? Please look, and look, and look, and look, and look, and look, and look, and look, and look, and look, and look, and look, and look, and look, and look,\n"
     ]
    },
    {
     "name": "stderr",
     "output_type": "stream",
     "text": [
      "Setting `pad_token_id` to `eos_token_id`:50256 for open-end generation.\n"
     ]
    },
    {
     "name": "stdout",
     "output_type": "stream",
     "text": [
      "Did you miss me? Do you miss me?’But I say,Don’Hae not give me love,What a night you'll never forget,’Dare you afraid of me?No need’to tell me\n"
     ]
    },
    {
     "name": "stderr",
     "output_type": "stream",
     "text": [
      "Setting `pad_token_id` to `eos_token_id`:50256 for open-end generation.\n"
     ]
    },
    {
     "name": "stdout",
     "output_type": "stream",
     "text": [
      "Did you miss me? I am not lost, for you must know me,For you have not touched me; For you have not touched me,For you might not touch me,For you would have no desire to see me.Now, I\n"
     ]
    },
    {
     "name": "stderr",
     "output_type": "stream",
     "text": [
      "Setting `pad_token_id` to `eos_token_id`:50256 for open-end generation.\n"
     ]
    },
    {
     "name": "stdout",
     "output_type": "stream",
     "text": [
      "Did you miss me?※※If you are alone, what shall I do?You cannot even trust me with what is coming?※It would only take me a minute or two to see my thoughts clear, just like I was\n"
     ]
    },
    {
     "name": "stderr",
     "output_type": "stream",
     "text": [
      "Setting `pad_token_id` to `eos_token_id`:50256 for open-end generation.\n"
     ]
    },
    {
     "name": "stdout",
     "output_type": "stream",
     "text": [
      "Did you miss me?And no one will forgive us:Then let me look at me.Come, come, look at our mother.For me, go, do not let me see her.Come, see for yourself a little.Now,\n"
     ]
    },
    {
     "name": "stderr",
     "output_type": "stream",
     "text": [
      "Setting `pad_token_id` to `eos_token_id`:50256 for open-end generation.\n"
     ]
    },
    {
     "name": "stdout",
     "output_type": "stream",
     "text": [
      "Did you miss me?‼Then I must say that I would love to see her, with which I am afraid of.She, too, may not have left me, except one day. I think perhaps I might have kissed your hand in\n"
     ]
    },
    {
     "name": "stderr",
     "output_type": "stream",
     "text": [
      "Setting `pad_token_id` to `eos_token_id`:50256 for open-end generation.\n"
     ]
    },
    {
     "name": "stdout",
     "output_type": "stream",
     "text": [
      "Did you miss me?Why would you let me say I’d never seen my eye!I would be the sweetheart of death’s eyes if I never saw my mother in tears.But if I knew of your mother, I\n"
     ]
    },
    {
     "name": "stderr",
     "output_type": "stream",
     "text": [
      "Setting `pad_token_id` to `eos_token_id`:50256 for open-end generation.\n"
     ]
    },
    {
     "name": "stdout",
     "output_type": "stream",
     "text": [
      "Did you miss me? Or is there something else you might not know?There is a long way to come, a day to come.I have no idea.I have no idea.I have no idea.I have no idea.I have\n"
     ]
    },
    {
     "name": "stderr",
     "output_type": "stream",
     "text": [
      "Setting `pad_token_id` to `eos_token_id`:50256 for open-end generation.\n"
     ]
    },
    {
     "name": "stdout",
     "output_type": "stream",
     "text": [
      "Did you miss me?‪‪‪’“““The only way.Why?The only way?”“—The only way?”““—That’.You\n"
     ]
    },
    {
     "name": "stderr",
     "output_type": "stream",
     "text": [
      "Setting `pad_token_id` to `eos_token_id`:50256 for open-end generation.\n"
     ]
    },
    {
     "name": "stdout",
     "output_type": "stream",
     "text": [
      "Did you miss me?’I will.’Don’t fall asleep until my heart stops to sing,Your voice will never be heard,No matter what you say.’Come with me in a way only you could imagine\n"
     ]
    },
    {
     "name": "stderr",
     "output_type": "stream",
     "text": [
      "Setting `pad_token_id` to `eos_token_id`:50256 for open-end generation.\n"
     ]
    },
    {
     "name": "stdout",
     "output_type": "stream",
     "text": [
      "Did you miss me?That is, I hear her whisper,My child is crying--but I am afraid of me, my mother-in-law is crying--but I am afraid of her--and I am afraid of her--A love\n"
     ]
    },
    {
     "name": "stderr",
     "output_type": "stream",
     "text": [
      "Setting `pad_token_id` to `eos_token_id`:50256 for open-end generation.\n"
     ]
    },
    {
     "name": "stdout",
     "output_type": "stream",
     "text": [
      "Did you miss me?\n",
      "I feel your eyes, your lips, your ear, your hands, your tongue, your lips.\n",
      "As long as you’ve been there, I must not forget. And you can never touch.But you\n"
     ]
    },
    {
     "name": "stderr",
     "output_type": "stream",
     "text": [
      "Setting `pad_token_id` to `eos_token_id`:50256 for open-end generation.\n"
     ]
    },
    {
     "name": "stdout",
     "output_type": "stream",
     "text": [
      "Did you miss me?\n",
      "\n",
      "\n",
      "But is there any way you can tell me and to your death?I have heard of your and will tell you.Because the word’s true’s true ‖n—d—means\n"
     ]
    },
    {
     "name": "stderr",
     "output_type": "stream",
     "text": [
      "Setting `pad_token_id` to `eos_token_id`:50256 for open-end generation.\n"
     ]
    },
    {
     "name": "stdout",
     "output_type": "stream",
     "text": [
      "Did you miss me? Let my dear.\n",
      "I love you.\n",
      "I love the world you love.But never, never will I love you.The world I love will never forget.In thy life.I love you:Love me only\n"
     ]
    },
    {
     "name": "stderr",
     "output_type": "stream",
     "text": [
      "Setting `pad_token_id` to `eos_token_id`:50256 for open-end generation.\n"
     ]
    },
    {
     "name": "stdout",
     "output_type": "stream",
     "text": [
      "Did you miss me?I can have no joy, I can have no joy,I can have no fear and I can have no fear?All my sorrows and sorrows,My tears and muddying tears,My love cannot be heard\n"
     ]
    },
    {
     "name": "stderr",
     "output_type": "stream",
     "text": [
      "Setting `pad_token_id` to `eos_token_id`:50256 for open-end generation.\n"
     ]
    },
    {
     "name": "stdout",
     "output_type": "stream",
     "text": [
      "Did you miss me? And I am not alone. I have come.You can't have pity on your eyes, you have not. I love you.\"So for those who love me, to me they must have pity on me; it is\n"
     ]
    },
    {
     "name": "stderr",
     "output_type": "stream",
     "text": [
      "Setting `pad_token_id` to `eos_token_id`:50256 for open-end generation.\n"
     ]
    },
    {
     "name": "stdout",
     "output_type": "stream",
     "text": [
      "Did you miss me? I wish to give you the pleasure you need to do just that, to kiss your face. I wish to kiss you every second, to kiss your lips with full-on kisses. But you do not wish to be with\n"
     ]
    },
    {
     "name": "stderr",
     "output_type": "stream",
     "text": [
      "Setting `pad_token_id` to `eos_token_id`:50256 for open-end generation.\n"
     ]
    },
    {
     "name": "stdout",
     "output_type": "stream",
     "text": [
      "Did you miss me?\n",
      "A great time.As soon as you left us, we were all that was necessary, a lot more than we, when it happened.But after my fall, they will take us!No small thing in the world\n"
     ]
    },
    {
     "name": "stderr",
     "output_type": "stream",
     "text": [
      "Setting `pad_token_id` to `eos_token_id`:50256 for open-end generation.\n"
     ]
    },
    {
     "name": "stdout",
     "output_type": "stream",
     "text": [
      "Did you miss me?”\n",
      "\n",
      "“You and I will go into the grave of your brother“I shall not let go by.”Let me look up now; for every day we have all these, see what is coming\n"
     ]
    },
    {
     "name": "stderr",
     "output_type": "stream",
     "text": [
      "Setting `pad_token_id` to `eos_token_id`:50256 for open-end generation.\n"
     ]
    },
    {
     "name": "stdout",
     "output_type": "stream",
     "text": [
      "Did you miss me? Let me take the step of finding those lost ones\n",
      "And make love with them, one that can change you, one that can change people,One that can change you,One that can make Love with them, one that\n"
     ]
    },
    {
     "name": "stderr",
     "output_type": "stream",
     "text": [
      "Setting `pad_token_id` to `eos_token_id`:50256 for open-end generation.\n"
     ]
    },
    {
     "name": "stdout",
     "output_type": "stream",
     "text": [
      "Did you miss me?\n",
      "My soul always said something deep deep: It may never be more love than love, or love—or love—in every aspect, that it truly belongs. The last time I looked with amazement at an apple or\n"
     ]
    },
    {
     "name": "stderr",
     "output_type": "stream",
     "text": [
      "Setting `pad_token_id` to `eos_token_id`:50256 for open-end generation.\n"
     ]
    },
    {
     "name": "stdout",
     "output_type": "stream",
     "text": [
      "Did you miss me?The rest of us is lost in the wild!No one may go in and touch me once with a grain of snow!\"I might have told you of the little dream—perhaps I could have never left a child?\"He\n"
     ]
    },
    {
     "name": "stderr",
     "output_type": "stream",
     "text": [
      "Setting `pad_token_id` to `eos_token_id`:50256 for open-end generation.\n"
     ]
    },
    {
     "name": "stdout",
     "output_type": "stream",
     "text": [
      "Did you miss me?”But you did not see the thing in your heart, and he still said: “And then the light that shone through my eyes for me, I have seen and never again?”And you did not\n"
     ]
    },
    {
     "name": "stderr",
     "output_type": "stream",
     "text": [
      "Setting `pad_token_id` to `eos_token_id`:50256 for open-end generation.\n"
     ]
    },
    {
     "name": "stdout",
     "output_type": "stream",
     "text": [
      "Did you miss me?” —Glee.”” —Glee.”””””””””””””””�\n"
     ]
    },
    {
     "data": {
      "text/plain": [
       "'Did you miss me?”I’m not sure.I’e not sure,I never can’t forget.I never get to get to see you’’And let’s see my eyes?'"
      ]
     },
     "execution_count": 43,
     "metadata": {},
     "output_type": "execute_result"
    }
   ],
   "source": [
    "poem_generator(\"Did you miss me?\", min_length=80, max_length=300)"
   ]
  },
  {
   "cell_type": "code",
   "execution_count": 44,
   "id": "dfb5003e",
   "metadata": {},
   "outputs": [],
   "source": [
    "def poem_generator2(prompt, min_length=50, max_length=200):\n",
    "\n",
    "    generated_text = my_generator(prompt)[0]['generated_text']\n",
    "    \n",
    "    while len(generated_text) < min_length or len(generated_text) > max_length:\n",
    "        generated_text = my_generator(prompt)[0]['generated_text']\n",
    "\n",
    "    if re.search(r'[.!?]$', generated_text):\n",
    "        generated_text=generated_text\n",
    "        \n",
    "    elif not re.search(r'[.!?]$', generated_text):\n",
    "        generated_text=generated_text+\" ...\"\n",
    "\n",
    "    return generated_text\n"
   ]
  },
  {
   "cell_type": "code",
   "execution_count": 45,
   "id": "6b447bf4",
   "metadata": {},
   "outputs": [
    {
     "name": "stderr",
     "output_type": "stream",
     "text": [
      "Setting `pad_token_id` to `eos_token_id`:50256 for open-end generation.\n"
     ]
    },
    {
     "data": {
      "text/plain": [
       "'None would miss me in all the world, yet the world’s will not be the first of them, a dream never born and never even grown.I\\u202ad hear the whisper, a cry that I would never forget: that I ...'"
      ]
     },
     "execution_count": 45,
     "metadata": {},
     "output_type": "execute_result"
    }
   ],
   "source": [
    "poem_generator2(\"None would miss me in all the world,\", min_length=80, max_length=300)"
   ]
  },
  {
   "cell_type": "code",
   "execution_count": 46,
   "id": "4831dad6",
   "metadata": {},
   "outputs": [
    {
     "name": "stderr",
     "output_type": "stream",
     "text": [
      "Setting `pad_token_id` to `eos_token_id`:50256 for open-end generation.\n"
     ]
    },
    {
     "data": {
      "text/plain": [
       "'I miss you, my dear.Dying, weary and tired, I wale, I remember the dark days I must remember, and I may tell the truth of your story.※I love you, you love me, ※ ...'"
      ]
     },
     "execution_count": 46,
     "metadata": {},
     "output_type": "execute_result"
    }
   ],
   "source": [
    "poem_generator2(\"I miss you,\", min_length=100, max_length=400)"
   ]
  },
  {
   "cell_type": "markdown",
   "id": "fbf5730f",
   "metadata": {},
   "source": [
    "### test on Markovify"
   ]
  },
  {
   "cell_type": "code",
   "execution_count": 47,
   "id": "ff7ad5ce",
   "metadata": {},
   "outputs": [],
   "source": [
    "text_lovePoems = open(\"combined.txt\").read()"
   ]
  },
  {
   "cell_type": "code",
   "execution_count": 48,
   "id": "7db23b7c",
   "metadata": {},
   "outputs": [],
   "source": [
    "import markovify"
   ]
  },
  {
   "cell_type": "code",
   "execution_count": 49,
   "id": "3cf182c0",
   "metadata": {},
   "outputs": [],
   "source": [
    "generator_mark = markovify.Text(text_lovePoems)"
   ]
  },
  {
   "cell_type": "code",
   "execution_count": 50,
   "id": "f6150eae",
   "metadata": {},
   "outputs": [
    {
     "name": "stdout",
     "output_type": "stream",
     "text": [
      "On all her loveliness.\n"
     ]
    }
   ],
   "source": [
    "print(generator_mark.make_sentence())"
   ]
  },
  {
   "cell_type": "code",
   "execution_count": 51,
   "id": "b2ac51c5",
   "metadata": {},
   "outputs": [
    {
     "name": "stdout",
     "output_type": "stream",
     "text": [
      "Thus am I mine own prison.\n"
     ]
    }
   ],
   "source": [
    "print(generator_mark.make_short_sentence(50, test_output=False))"
   ]
  },
  {
   "cell_type": "code",
   "execution_count": 52,
   "id": "63e1af78",
   "metadata": {},
   "outputs": [
    {
     "name": "stdout",
     "output_type": "stream",
     "text": [
      "Though I tarry, wait for another life, for more suffering, To give them birth; another life and many more tears And love, to make her eat.\n"
     ]
    }
   ],
   "source": [
    "print(generator_mark.make_short_sentence(400, test_output=False))"
   ]
  },
  {
   "cell_type": "code",
   "execution_count": 53,
   "id": "09b4f3f6",
   "metadata": {},
   "outputs": [],
   "source": [
    "poems_model = markovify.NewlineText(text_lovePoems, state_size=1)"
   ]
  },
  {
   "cell_type": "code",
   "execution_count": 54,
   "id": "f22102be",
   "metadata": {},
   "outputs": [
    {
     "name": "stdout",
     "output_type": "stream",
     "text": [
      "Smiles, tears, hoped for evermore\n",
      "Where the goblins cry:\n",
      "Laura spoke in pain;\n",
      "No later light with haste\n",
      "It lurks like mine be\n",
      "Many in love:\n",
      "One call’d her resistance,\n",
      "It was in secret steps, thou showest me in rosy morn,\n"
     ]
    }
   ],
   "source": [
    "for i in range(8):\n",
    "    print(poems_model.make_sentence())"
   ]
  },
  {
   "cell_type": "code",
   "execution_count": 55,
   "id": "b0d552fe",
   "metadata": {},
   "outputs": [
    {
     "name": "stdout",
     "output_type": "stream",
     "text": [
      "The heart\n"
     ]
    }
   ],
   "source": [
    "print(poems_model.make_sentence(test_output=False))"
   ]
  },
  {
   "cell_type": "markdown",
   "id": "b0c51e68",
   "metadata": {},
   "source": [
    "### giving prompt"
   ]
  },
  {
   "cell_type": "code",
   "execution_count": 57,
   "id": "2461da57",
   "metadata": {},
   "outputs": [],
   "source": [
    "poems_lines = text_lovePoems.split(\"\\n\")"
   ]
  },
  {
   "cell_type": "code",
   "execution_count": 58,
   "id": "e3af9f00",
   "metadata": {},
   "outputs": [],
   "source": [
    "from simpleneighbors import SimpleNeighbors"
   ]
  },
  {
   "cell_type": "code",
   "execution_count": 59,
   "id": "697da966",
   "metadata": {},
   "outputs": [],
   "source": [
    "import numpy as np\n",
    "import spacy\n",
    "import random"
   ]
  },
  {
   "cell_type": "code",
   "execution_count": 60,
   "id": "b26d6668",
   "metadata": {},
   "outputs": [],
   "source": [
    "nlp = spacy.load('en_core_web_md')"
   ]
  },
  {
   "cell_type": "code",
   "execution_count": 61,
   "id": "a6022812",
   "metadata": {},
   "outputs": [],
   "source": [
    "lines = []\n",
    "for line in poems_lines:\n",
    "    if line !=\"\":\n",
    "        lines.append(line.replace('“', '').replace('”', '').strip())"
   ]
  },
  {
   "cell_type": "code",
   "execution_count": 62,
   "id": "a9d0d885",
   "metadata": {},
   "outputs": [
    {
     "data": {
      "text/plain": [
       "2498"
      ]
     },
     "execution_count": 62,
     "metadata": {},
     "output_type": "execute_result"
    }
   ],
   "source": [
    "len(lines)"
   ]
  },
  {
   "cell_type": "code",
   "execution_count": 63,
   "id": "e5ade021",
   "metadata": {},
   "outputs": [],
   "source": [
    "sampled_lines = random.sample(lines,len(lines))"
   ]
  },
  {
   "cell_type": "code",
   "execution_count": 64,
   "id": "7a9e75b6",
   "metadata": {},
   "outputs": [],
   "source": [
    "def summary(sent):\n",
    "    return nlp(sent, disable=['parser', 'tagger', 'ner']).vector"
   ]
  },
  {
   "cell_type": "code",
   "execution_count": 65,
   "id": "50cbc875",
   "metadata": {
    "scrolled": true
   },
   "outputs": [
    {
     "name": "stderr",
     "output_type": "stream",
     "text": [
      "/Users/voruin/miniconda3/lib/python3.10/site-packages/spacy/pipeline/lemmatizer.py:211: UserWarning: [W108] The rule-based lemmatizer did not find POS annotation for one or more tokens. Check that your pipeline includes components that assign token.pos, typically 'tagger'+'attribute_ruler' or 'morphologizer'.\n",
      "  warnings.warn(Warnings.W108)\n"
     ]
    }
   ],
   "source": [
    "embeddings = [summary(line) for line in sampled_lines]"
   ]
  },
  {
   "cell_type": "code",
   "execution_count": 66,
   "id": "70d1a0fc",
   "metadata": {},
   "outputs": [],
   "source": [
    "lookup = SimpleNeighbors(300)\n",
    "for vec, line in zip(embeddings, sampled_lines):\n",
    "    lookup.add_one(line, vec)\n",
    "lookup.build()"
   ]
  },
  {
   "cell_type": "code",
   "execution_count": 67,
   "id": "044f8ff2",
   "metadata": {},
   "outputs": [
    {
     "data": {
      "text/plain": [
       "['Did you miss me?',\n",
       " 'With pulses that beat double. What I do',\n",
       " \"And pray don't remain single for my sake\",\n",
       " 'And wonder what you’ve missed.',\n",
       " \"That I don't give you what I have not got:\",\n",
       " 'Say, I think you’re wonderful. You’re',\n",
       " 'And all winds go sighing',\n",
       " 'Not knowing what now I know',\n",
       " 'so it can’t feel',\n",
       " 'I can’t wear it',\n",
       " 'Come buy, come buy.',\n",
       " 'Come buy, come buy.',\n",
       " 'I dare say Meg or Moll would take',\n",
       " 'And you’re too curious: fie!',\n",
       " 'Nor I half turn to go yet turning stay.',\n",
       " 'And you will never know',\n",
       " 'That I have kissed too much,',\n",
       " 'You need not fear me. I have given',\n",
       " 'You cannot miss that inn.',\n",
       " 'And afterwards remember, do not grieve:']"
      ]
     },
     "execution_count": 67,
     "metadata": {},
     "output_type": "execute_result"
    }
   ],
   "source": [
    "lookup.nearest(summary(\"miss\"), 20)"
   ]
  },
  {
   "cell_type": "code",
   "execution_count": 68,
   "id": "22a6a0e5",
   "metadata": {},
   "outputs": [
    {
     "name": "stderr",
     "output_type": "stream",
     "text": [
      "Setting `pad_token_id` to `eos_token_id`:50256 for open-end generation.\n"
     ]
    },
    {
     "data": {
      "text/plain": [
       "'And wonder what you’ve missed.In her heart’s soft heart,You cannot have dreams—never dreams—but never dreams, never dreams, never dreams, never dreams, never dreams.What life’s ever?What ...'"
      ]
     },
     "execution_count": 68,
     "metadata": {},
     "output_type": "execute_result"
    }
   ],
   "source": [
    "poem_generator2(\"And wonder what you’ve missed.\", min_length=100, max_length=400)"
   ]
  },
  {
   "cell_type": "code",
   "execution_count": 69,
   "id": "649c50c5",
   "metadata": {},
   "outputs": [],
   "source": [
    "import random\n",
    "import spacy\n",
    "\n",
    "nlp = spacy.load('en_core_web_md')\n",
    "input_prompt=\"I sit here, an arch-villain of romance, thinking about you.\""
   ]
  },
  {
   "cell_type": "code",
   "execution_count": 77,
   "id": "d64c9fa6",
   "metadata": {},
   "outputs": [],
   "source": [
    "doc = nlp(text_lovePoems)"
   ]
  },
  {
   "cell_type": "code",
   "execution_count": 78,
   "id": "1dd1f00a",
   "metadata": {},
   "outputs": [],
   "source": [
    "words = [w for w in list(doc) if w.is_alpha]"
   ]
  },
  {
   "cell_type": "code",
   "execution_count": 80,
   "id": "27455d5d",
   "metadata": {},
   "outputs": [],
   "source": [
    "nouns = [w for w in words if w.pos_ == \"NOUN\"]\n",
    "verbs = [w for w in words if w.pos_ == \"VERB\"]"
   ]
  },
  {
   "cell_type": "code",
   "execution_count": 112,
   "id": "669bf3f2",
   "metadata": {},
   "outputs": [],
   "source": [
    "nouns_string = [str(w) for w in nouns]"
   ]
  },
  {
   "cell_type": "code",
   "execution_count": 70,
   "id": "9f085d31",
   "metadata": {},
   "outputs": [
    {
     "name": "stdout",
     "output_type": "stream",
     "text": [
      "thinking\n"
     ]
    }
   ],
   "source": [
    "doc_prompt = nlp(input_prompt)\n",
    "words_in_prompt = [w for w in list(doc_prompt) if w.is_alpha]\n",
    "nouns_in_prompt = [w for w in words_in_prompt if w.pos_ == \"NOUN\"]\n",
    "verbs_in_prompt = [w for w in words_in_prompt if w.pos_ == \"VERB\"]\n",
    "\n",
    "if len(verbs_in_prompt) > 0:\n",
    "    prompt_word = random.choice(verbs_in_prompt)\n",
    "elif len(nouns_in_prompt) > 0:\n",
    "    prompt_word = random.choice(nouns_in_prompt)\n",
    "else:\n",
    "    prompt_word = random.choice(words)\n",
    "\n",
    "print(prompt_word)"
   ]
  },
  {
   "cell_type": "code",
   "execution_count": 88,
   "id": "d910f851",
   "metadata": {},
   "outputs": [
    {
     "name": "stderr",
     "output_type": "stream",
     "text": [
      "Setting `pad_token_id` to `eos_token_id`:50256 for open-end generation.\n"
     ]
    }
   ],
   "source": [
    "nearst_corpus_lists = lookup.nearest(summary(str(prompt_word)), 10)\n",
    "content_generated = poem_generator2(random.choice(nearst_corpus_lists), min_length=100, max_length=400)"
   ]
  },
  {
   "cell_type": "code",
   "execution_count": 89,
   "id": "24cce957",
   "metadata": {},
   "outputs": [
    {
     "data": {
      "text/plain": [
       "'And all the world and I seemed much less cold,I sat all day,Even half my night,I had no more time to think.You shall not think I love you.But you shall not think I love you,Nor did you think ...'"
      ]
     },
     "execution_count": 89,
     "metadata": {},
     "output_type": "execute_result"
    }
   ],
   "source": [
    "content_generated"
   ]
  },
  {
   "cell_type": "code",
   "execution_count": 90,
   "id": "a03ad800",
   "metadata": {},
   "outputs": [],
   "source": [
    "doc_generated = nlp(content_generated)\n",
    "words_generated = [w for w in list(doc_generated) if w.is_alpha]\n",
    "nouns_generated = [w for w in words_generated if w.pos_ == \"NOUN\"]\n",
    "verbs_generated = [w for w in words_generated if w.pos_ == \"VERB\"]\n",
    "sentences = list(doc_generated.sents)"
   ]
  },
  {
   "cell_type": "code",
   "execution_count": 109,
   "id": "ef596421",
   "metadata": {},
   "outputs": [],
   "source": [
    "nouns_generated_string = [str(w) for w in nouns_generated]"
   ]
  },
  {
   "cell_type": "code",
   "execution_count": 110,
   "id": "ab3f74ad",
   "metadata": {},
   "outputs": [
    {
     "data": {
      "text/plain": [
       "['world', 'day', 'night', 'time']"
      ]
     },
     "execution_count": 110,
     "metadata": {},
     "output_type": "execute_result"
    }
   ],
   "source": [
    "nouns_generated_string"
   ]
  },
  {
   "cell_type": "code",
   "execution_count": 111,
   "id": "533b9553",
   "metadata": {},
   "outputs": [],
   "source": [
    "verbs_generated_string =  [str(w) for w in verbs_generated]"
   ]
  },
  {
   "cell_type": "code",
   "execution_count": 101,
   "id": "823fa2bc",
   "metadata": {},
   "outputs": [
    {
     "data": {
      "text/plain": [
       "[And all the world and I seemed much less cold,I sat all day,Even half my night,I had no more time to think.,\n",
       " You shall not think I love you.,\n",
       " But you shall not think I love you,Nor did you think ...]"
      ]
     },
     "execution_count": 101,
     "metadata": {},
     "output_type": "execute_result"
    }
   ],
   "source": [
    "sentences"
   ]
  },
  {
   "cell_type": "code",
   "execution_count": 103,
   "id": "b679b67e",
   "metadata": {},
   "outputs": [],
   "source": [
    "sentenceLines=[]\n",
    "\n",
    "for sentence in sentences:\n",
    "    reSentence = str(sentence).replace(';',',')\n",
    "    reSentence = reSentence.split(',')\n",
    "    for s in reSentence:\n",
    "        if (len(s.split())>=2):\n",
    "            sentenceLines.append(s.strip())\n"
   ]
  },
  {
   "cell_type": "code",
   "execution_count": 104,
   "id": "4fe98b65",
   "metadata": {},
   "outputs": [
    {
     "data": {
      "text/plain": [
       "['And all the world and I seemed much less cold',\n",
       " 'I sat all day',\n",
       " 'Even half my night',\n",
       " 'I had no more time to think.',\n",
       " 'You shall not think I love you.',\n",
       " 'But you shall not think I love you',\n",
       " 'Nor did you think ...']"
      ]
     },
     "execution_count": 104,
     "metadata": {},
     "output_type": "execute_result"
    }
   ],
   "source": [
    "sentenceLines"
   ]
  },
  {
   "cell_type": "markdown",
   "id": "a2ddc48c",
   "metadata": {},
   "source": [
    "### use tracery to finally make poem"
   ]
  },
  {
   "cell_type": "code",
   "execution_count": 76,
   "id": "f2521a9c",
   "metadata": {},
   "outputs": [],
   "source": [
    "import tracery\n",
    "from tracery.modifiers import base_english"
   ]
  },
  {
   "cell_type": "code",
   "execution_count": 113,
   "id": "04ff7379",
   "metadata": {},
   "outputs": [],
   "source": [
    "poems_rules_prompts ={\n",
    "    \"origins_for_once\":'#[variableA:#variable_name#][variableB:#variable_name#][#variable_operations#]variable_definition#\\n\\n#logistic_conditions#',\n",
    "#     \"variable_definition\": [\"[variableA:#variable_name#] = #values#\", \"[variableA:#variable_name#] = #noun#\", \"[variableA:#variable_name#] = {}\", \"[variableA:#variable_name#] = #sentence#\", \"[variableA:#variable_name#] = [#noun#, #noun#, #noun#]\", \"[variableA:#variable_name#] = #bool#\", \"[variableA:#variable_name#] = None\", \"[variableA:#variable_name#] = [variableB:#variable_name#] = #noun#\"],\n",
    "#     \"condition\": ['#variableA# #variable_value_operators# #values#', '#variableA# #variable_value_operators# #noun#', '#variableA#[#noun#] #variable_value_operators# #noun#', '#noun# #variable_string_operators# #variableA#', '#noun# #variable_string_operators# #variableA#', '#variableA# = #bool#', '#variableA# #variable_noun_operators# None', '#variableA# #variable_noun_operators# #variableB#'],\n",
    "#     \"execute_statement\": ['#variableA# #variable_value_execute#','#variableA# = #noun#', '#variableA#[#noun#] = #noun#', '#variableA# #variable_sentence_execute# #noun#', '#variableA##variable_array_execute#( #noun# )', '#variableA# = !#variableA#', '#variableA# #variable_sentence_execute# #noun#', '[variableA:#variable_name#] = #noun#\\n[variableB:#variable_name#] = #noun#'],\n",
    "    \"variable_operations\":[\n",
    "        '[variable_definition:#variableA# = #values#][condition:#variableA# #variable_value_operators# #values#][execute_statement:#variableA##variable_value_execute#]',\n",
    "        '[variable_definition:#variableA# = \"#noun#\"][condition:#variableA# #variable_value_operators# \"#noun#\"][execute_statement:#variableA# = \"#noun#\"',\n",
    "        '[variable_definition:#variableA# = {}][condition:#variableA#[\"#noun#\"] #variable_value_operators# \"#noun#\"][execute_statement:#variableA#[\"#noun#\"] = \"#noun#\"]',\n",
    "        '[variable_definition:#variableA# = \"#sentence#\"][condition:\"#noun#\" #variable_string_operators# #variableA#][execute_statement:#variableA# #variable_sentence_execute# \"#noun#\"]',\n",
    "        '[variable_definition:#variableA# = [\"#noun#\", \"#noun#\", \"#noun#\"]][condition:\"#noun#\" #variable_string_operators# #variableA#][execute_statement:#variableA##variable_array_execute#(\"#noun#\")]',\n",
    "        '[variable_definition:#variableA# = #bool#][condition:#variableA# = #bool#][execute_statement:#variableA# = !#variableA#]',\n",
    "        '[variable_definition:#variableA# = None][condition:#variableA# #variable_noun_operators# None][execute_statement:#variableA# #variable_sentence_execute# \"#noun#\"]',\n",
    "        '[variable_definition:#variableA# = #variableB# = \"#noun#\"][condition:#variableA# #variable_noun_operators# #variableB#][execute_statement: #variableA# = \"#noun#\"\\n#variableB# = \"#noun#\"]'\n",
    "    ], \n",
    "    \"values\": [str(random.randint(-100, 101)),'0'],\n",
    "    \"bool\":['True','False'],\n",
    "    \"variable_value_operators\": ['==', '!=', '<', '>', '<=', '>='],\n",
    "    \"variable_noun_operators\": ['==', '!=', 'is', 'is not'],\n",
    "    \"variable_string_operators\":['in', 'not in'],\n",
    "    \"variable_value_execute\": ['++','--'],\n",
    "    \"variable_sentence_execute\": ['+=','-='],\n",
    "    \"variable_array_execute\": ['.append','.insert','.remove','.count'],\n",
    "    \"special_execute\":['print(#variableA#)'],\n",
    "#     \"condition_operators\": ['==', '!=', '<', '>', '<=', '>=', 'is', 'in', 'not in'],\n",
    "    \"operators\":['=','+=','-=','++','--'],\n",
    "#     \"array_operations\":['.append','.insert','.remove','.count','.sort()','.reverse()','.copy()'],\n",
    "    \"conjunctions\": ['and', 'or', 'not'],\n",
    "    \"control_flow\": ['if', 'elif', 'else', 'while', 'for', 'break', 'continue', 'pass'],\n",
    "    \"functions_before\": ['def #verb#():', 'def #verb#(#noun#):'],\n",
    "    \"functions_after\": ['...', 'pass'],\n",
    "    \"functions_all\":'#functions_before# #functions_after#',\n",
    "#     \"package\": ['import', 'from', 'as'],\n",
    "    \"variable_name\": nouns_generated_string,\n",
    "    \"noun\":nouns_string,\n",
    "    \"verb\": verbs_generated_string,\n",
    "    \"sentence\": sentenceLines,\n",
    "    \"loop_word\":['#execute_statement#','break','continue','pass','#functions_all#'],\n",
    "    \"try_word\":['#functions_all#','#special_execute#'],\n",
    "    \"if_conditions\":['if #condition#:\\n\\t#execute_statement#', 'if #condition#:\\n\\t#loop_word#\\nelse:\\n\\t#loop_word#'],\n",
    "#     \"while_coditions\":['while #condition#:\\n\\t#execute_statement#','while #condition#:\\n\\t#if_conditions#'],\n",
    "    \"while_coditions\":['while #condition#:\\n\\t#execute_statement#'],\n",
    "#     \"for_conditions\":['for #noun# in '],\n",
    "    \"try_conditions\":['try:\\n\\t#execute_statement#\\nexcept:\\n\\t#special_execute#','try:\\n\\t#execute_statement#\\nexcept Exception as #noun#:\\n\\t#special_execute#'],\n",
    "    \"logistic_conditions\":['#if_conditions#','#while_coditions#','#try_conditions#']\n",
    "}"
   ]
  },
  {
   "cell_type": "markdown",
   "id": "86e459af",
   "metadata": {},
   "source": [
    "## Showccase"
   ]
  },
  {
   "cell_type": "code",
   "execution_count": 115,
   "id": "f222b4a6",
   "metadata": {},
   "outputs": [
    {
     "name": "stdout",
     "output_type": "stream",
     "text": [
      "time = None\n",
      "\n",
      "while time is None:\n",
      "\ttime += \"day\"\n"
     ]
    }
   ],
   "source": [
    "grammar_prompts = tracery.Grammar(poems_rules_prompts)\n",
    "grammar_prompts.add_modifiers(base_english)\n",
    "thisSourceCodePoem=grammar_prompts.flatten(\"#origins_for_once#\")\n",
    "print(thisSourceCodePoem)"
   ]
  },
  {
   "cell_type": "code",
   "execution_count": 116,
   "id": "71d2f62b",
   "metadata": {},
   "outputs": [
    {
     "name": "stdout",
     "output_type": "stream",
     "text": [
      "day = 22\n",
      "\n",
      "if day > 22:\n",
      "\tday--\n"
     ]
    }
   ],
   "source": [
    "grammar_prompts = tracery.Grammar(poems_rules_prompts)\n",
    "grammar_prompts.add_modifiers(base_english)\n",
    "thisSourceCodePoem=grammar_prompts.flatten(\"#origins_for_once#\")\n",
    "print(thisSourceCodePoem)"
   ]
  },
  {
   "cell_type": "code",
   "execution_count": 117,
   "id": "450937c8",
   "metadata": {},
   "outputs": [
    {
     "name": "stdout",
     "output_type": "stream",
     "text": [
      "night = time = \"moments\"\n",
      "\n",
      "try:\n",
      "\t night = \"honey\"\n",
      "time = \"hour\"\n",
      "except:\n",
      "\tprint(night)\n"
     ]
    }
   ],
   "source": [
    "grammar_prompts = tracery.Grammar(poems_rules_prompts)\n",
    "grammar_prompts.add_modifiers(base_english)\n",
    "thisSourceCodePoem=grammar_prompts.flatten(\"#origins_for_once#\")\n",
    "print(thisSourceCodePoem)"
   ]
  },
  {
   "cell_type": "code",
   "execution_count": 118,
   "id": "7188ed73",
   "metadata": {},
   "outputs": [
    {
     "name": "stdout",
     "output_type": "stream",
     "text": [
      "world = {}\n",
      "\n",
      "if world > \"life\":\n",
      "\tworld = \"night\"\n"
     ]
    }
   ],
   "source": [
    "grammar_prompts = tracery.Grammar(poems_rules_prompts)\n",
    "grammar_prompts.add_modifiers(base_english)\n",
    "thisSourceCodePoem=grammar_prompts.flatten(\"#origins_for_once#\")\n",
    "print(thisSourceCodePoem)"
   ]
  },
  {
   "cell_type": "code",
   "execution_count": 121,
   "id": "1abae394",
   "metadata": {},
   "outputs": [
    {
     "name": "stdout",
     "output_type": "stream",
     "text": [
      "night = world = \"eyes\"\n",
      "\n",
      "try:\n",
      "\t night = \"glory\"\n",
      "world = \"grain\"\n",
      "except Exception as years:\n",
      "\tprint(night)\n"
     ]
    }
   ],
   "source": [
    "grammar_prompts = tracery.Grammar(poems_rules_prompts)\n",
    "grammar_prompts.add_modifiers(base_english)\n",
    "thisSourceCodePoem=grammar_prompts.flatten(\"#origins_for_once#\")\n",
    "print(thisSourceCodePoem)"
   ]
  }
 ],
 "metadata": {
  "kernelspec": {
   "display_name": "Python 3 (ipykernel)",
   "language": "python",
   "name": "python3"
  },
  "language_info": {
   "codemirror_mode": {
    "name": "ipython",
    "version": 3
   },
   "file_extension": ".py",
   "mimetype": "text/x-python",
   "name": "python",
   "nbconvert_exporter": "python",
   "pygments_lexer": "ipython3",
   "version": "3.10.9"
  }
 },
 "nbformat": 4,
 "nbformat_minor": 5
}
