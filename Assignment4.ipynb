{
 "cells": [
  {
   "cell_type": "markdown",
   "id": "8c98cbcb",
   "metadata": {},
   "source": [
    "## Type a fine tune word:"
   ]
  },
  {
   "cell_type": "code",
   "execution_count": 84,
   "id": "aed7d14d",
   "metadata": {},
   "outputs": [],
   "source": [
    "finetune_word=\"universe\"\n",
    "factor = 0.5"
   ]
  },
  {
   "cell_type": "code",
   "execution_count": 3,
   "id": "4264c0bd",
   "metadata": {},
   "outputs": [],
   "source": [
    "import random\n",
    "import textwrap"
   ]
  },
  {
   "cell_type": "code",
   "execution_count": 4,
   "id": "ad34af70",
   "metadata": {},
   "outputs": [],
   "source": [
    "pictureBook=open('childBook.txt').read()\n",
    "# pictureBookPara= pictureBook.replace('','.')\n",
    "pictureBookPara=pictureBook.split('\\n')\n",
    "bookLines=[]\n",
    "bookSentences=[]\n",
    "for sentence in pictureBookPara:\n",
    "#     reSentence= sentence.replace(',','.')\n",
    "    bookLines.append(sentence.split('.'))\n",
    "\n",
    "for line in bookLines:\n",
    "    for shortLine in line:\n",
    "        if (shortLine!=\"\"):\n",
    "            bookSentences.append(shortLine.strip())\n",
    "# print(bookSentences)"
   ]
  },
  {
   "cell_type": "code",
   "execution_count": 5,
   "id": "43fba942",
   "metadata": {},
   "outputs": [],
   "source": [
    "import spacy\n",
    "nlp = spacy.load('en_core_web_md')"
   ]
  },
  {
   "cell_type": "code",
   "execution_count": 6,
   "id": "a0c8fd13",
   "metadata": {},
   "outputs": [
    {
     "name": "stdout",
     "output_type": "stream",
     "text": [
      "Nouns: ['cat', 'years', 'times', 'tabby', 'people', 'King', 'war', 'cage', 'day', 'arrow', 'middle', 'battle', 'castle', 'garden', 'seaman', 'sea', 'world', 'seas', 'bays', 'boat', 'net', 'rag', 'tree', 'park', 'town', 'circus', 'magician', 'box', 'half', 'crowd', 'mistake', 'pieces', 'hand', 'one', 'tent', 'thief', 'thievery', 'towns', 'night', 'alleys', 'houses', 'dogs', 'dog', 'diamond', 'yard', 'widow', 'lap', 'floor', 'window', 'nap', 'time', 'girl', 'children', 'piggy', 'back', 'tears', 'string', 'neck', 'course', 'wife', 'fish', 'presents', 'mice', 'journeys', 'tigers', 'way', 'front', 'summersaults', 'row', 'kittens', 'ways', 'cats', 'satisfaction', 'sun', 'end', 'boy', 'leaves', 'crowns', 'king', 'forest', 'trunk', 'branches', 'apples', 'seek', 'shade', 'place', 'foxes', 'woods', 'turtles', 'water', 'family', 'light', 'moon', 'egg', 'leaf', 'morning', 'pop', 'out', 'caterpillar', 'food', 'apple', 'pears', 'peddler', 'caps', 'wares', 'top', 'head', 'cap', 'bunch', 'sidewalk', 'street', 'grass', 'crimson', 'bird', 'flight', 'peppermint', 'wind', 'winter', 'breakfast', 'snowsuit', 'snow', 'path', 'crunch', 'feet', 'toes', 'penguin', 'Congratulations', 'Today', 'brains', 'shoes', 'direction', 'guy', 'monkey', 'man', 'straw', 'hat']\n",
      "Adjectives: ['splendid', 'good', 'stray', 'sick', 'wet', 'faraway', 'bayside', 'little', 'biggest', 'dark', 'safe', 'small', 'lonely', 'old', 'first', 'due', 'decrepit', 'tight', 'wild', 'own', 'tabby', 'big', 'best', 'unusual', 'greater', 'greatest', 'amusing', 'better', 'beautiful', 'white', 'angry', 'next', 'many', 'cute', 'more', 'separate', 'high', 'bright', 'tired', 'happy', 'older', 'alone', 'nice', 'sure', 'warm', 'tiny', 'hungry', 'ordinary', 'gray', 'brown', 'blue', 'red', 'soft', 'Crunch', 'curious', 'large', 'yellow']\n",
      "Verbs: ['was', 'lived', 'died', 'loved', 'cried', 'cry', 'belonged', 'hated', 'went', 'put', 'took', 'hit', 'held', 'quit', 'buried', 'fell', 'swim', 'caught', 'pulled', 'soaked', 'got', 'hugged', 'looked', 'saw', 'pull', 'balled', 'clap', 'cheer', 'made', 'dangling', 'clapped', 'cheered', 'take', 'sneaking', 'break', 'had', 'barked', 'go', 'bitten', 'stolen', 'walking', 'crying', 'hold', 'stare', 'sit', 'grew', 'make', 'ride', 'sleep', 'holding', 'wipe', 'tying', 'necked', 'mind', 'dying', 'liked', 'know', 'wanted', 'brought', 'said', 'say', 'live', 'stood', 'turned', 'started', 'stay', 'asked', 'came', 'like', 'became', 'did', 'purring', 'grown', 'purred', 'laid', 'stopped', 'moving', 'Lying', 'born', 'come', 'gather', 'play', 'climb', 'swing', 'eat', 'hide', 'looking', 'going', 'raise', 'flew', 'lay', 'look', 'ate', 'sold', 'carrying', 'carried', 'checked', 'is', 'ends', 'begins', 'grows', 'burns', 'rests', 'cool', 'woke', 'fallen', 'covered', 'see', 'ran', 'piled', 'sank', 'walked', 'pointing', 'have', 'steer', 'choose', 'decide', 'thought']\n"
     ]
    }
   ],
   "source": [
    "# import spacy\n",
    "\n",
    "# nlp = spacy.load('en_core_web_sm')\n",
    "\n",
    "paragraph = pictureBook\n",
    "\n",
    "doc = nlp(paragraph)\n",
    "\n",
    "# Create lists for each type of word\n",
    "nouns = []\n",
    "adjectives = []\n",
    "adverbs = []\n",
    "verbs = []\n",
    "\n",
    "for token in doc:\n",
    "    pos_tag = token.pos_\n",
    "    if pos_tag == 'NOUN' and token.text.lower() not in nouns:\n",
    "        nouns.append(token.text)\n",
    "    elif pos_tag == 'ADJ' and token.text.lower() not in adjectives:\n",
    "        adjectives.append(token.text)\n",
    "#     elif pos_tag == 'ADV' and token.text.lower() not in adverbs:\n",
    "#         adverbs.append(token.text)\n",
    "    elif pos_tag == 'VERB' and token.text.lower() not in verbs:\n",
    "        verbs.append(token.text)\n",
    "\n",
    "# Print the lists for each type of word\n",
    "print(\"Nouns:\", nouns)\n",
    "print(\"Adjectives:\", adjectives)\n",
    "# print(\"Adverbs:\", adverbs)\n",
    "print(\"Verbs:\", verbs)\n"
   ]
  },
  {
   "cell_type": "code",
   "execution_count": 8,
   "id": "81679a4d",
   "metadata": {},
   "outputs": [
    {
     "data": {
      "text/plain": [
       "['universe']"
      ]
     },
     "execution_count": 8,
     "metadata": {},
     "output_type": "execute_result"
    }
   ],
   "source": [
    "nouns_finetune"
   ]
  },
  {
   "cell_type": "code",
   "execution_count": 9,
   "id": "59dd6659",
   "metadata": {
    "scrolled": true
   },
   "outputs": [
    {
     "name": "stdout",
     "output_type": "stream",
     "text": [
      "['was a cat who lived for a million years', 'died a million times', 'lived a million times', 'was truly a splendid tabby-cat', 'died', 'cry', 'belonged to a King', 'hated the King', 'was good at war, so the King always went to war', 'put the cat into a splendid cage and took him along', 'died', 'cried', 'went home to his castle', \"buried the cat in the castle's garden\", 'belonged to a seaman', 'hated the sea', \"took the cat across all the world's seas, and all the world's bays\", 'fell out of the boat', 'swim', 'caught the cat in a net and pulled him back onto the boat', 'was soaked through', 'died', 'cried loudly', 'buried the cat beneath a tree in the park of a faraway bayside town', \"was a circus magician's cat\", 'hated the circus', 'put the cat into a little box, and then saw the box right in half', 'pull the balled-up cat out of the box, and the crowd would clap and cheer', 'saw the cat right in half', 'cried loudly', 'clapped or cheered', \"buried the cat beneath the circus's biggest tent\", \"was a thief's cat\", 'hated thievery', 'take the cat into towns at night, quietly sneaking like a cat down the dark alleys', 'break into houses that had dogs', 'break into the safe', 'was bitten by a dog, and died', 'crying loudly', 'went home and buried the cat in his small yard', \"was a lonely old widow's cat\", 'hated the lonely old widow', 'hold the cat in her lap and stare out a little first-floor window', \"sit in the widow's lap all day, and nap\", 'died', 'cried all day', 'buried the cat underneath the a tree in her garden', \"was a little girl's cat\", 'hated children', 'holding him too tight', \"cried, she would wipe her tears off on the cat's back\", 'made the cat ride piggy-back by tying a string around his neck', 'died', 'cried all day', 'buried the cat underneath a tree in her garden', 'mind dying', \"was nobody's cat\", 'was a wild cat', 'was his own cat', 'liked himself', 'was a truly splendid tabby cat, So of course he made a truly splendid wild cat', \"wanted to be the cat's wife\", 'brought him big fish as presents', 'brought him the best mice as presents', 'brought him presents from unusual journeys', 'was greater than the greatest of tigers', 'died a million times', 'liked himself better than anyone else', 'was only one cat who never looked his way', 'was a beautiful white cat', 'died a million times!\" \"Oh', 'hite cat would say', 'was a little angry, for you know he liked himself better than anyone else', 'hite cat and say: \"You\\'ll probably only live once, you know', 'hite cat would say', 'hite cat and turned three summersaults in a row', 'was a circus cat, you know', 'hite cat would say', 'died a…\" the cat started to say, then: \"Do you mind if I stay with you?\" he asked the white cat', 'said', 'was always with the white cat', 'hite cat had many, many cute little kittens', 'hite cat and all her little kittens more than he liked himself', 'went their separate ways', \"came splendid wild cats, didn't they\", 'said with satisfaction', 'hite cat said, purring softly', 'hite cat grown a little old', 'purred even more softly', 'hite cat', 'hite cat laid beside the cat, and quietly stopped moving', 'cried for the first time ever, all day and all night', 'cried a million million tears', 'was high and bright, he stopped', 'hite cat, he quietly stopped moving', 'was never, ever born again', 'was a tree', 'loved a little boy', 'make them into crowns and play king of the forest', 'climb up her trunk and swing from her branches and eat apples', 'go-seek', 'was tired, he would sleep in her shade', 'loved the tree', 'was happy', 'went by', 'grew older', 'was often alone', 'live', 'looked like a nice place, Mrs', 'was no good', 'was sure to be foxes in the woods or turtles in the water, and she was not going to raise a family where there might be foxes or turtles', 'flew on and on', 'lay on a leaf', 'came up and - pop! - out of the egg came a tiny and very hungry caterpillar', 'started to look for some food', 'ate through one apple', 'was still hungry', 'was still hungry', 'was a peddler who sold caps', 'was not like an ordinary peddler carrying his wares on his back', 'carried them on top of his head', 'had on his own checked cap, then a bunch of gray caps, then a bunch of brown caps, then a bunch of blue caps, and on the very top, a bunch of red caps', 'hite, and there the sun burns crimson bright, and there the moon-bird rests from his flight to cool in the peppermint wind', 'looked out the window', 'had fallen during the night', 'covered everything as far as he could see', 'put on his snowsuit and ran outside', 'was piled up very high along the street to make a path for walking', 'is feet sank into the snow', 'like a penguin', 'is your day', \"eat Places! You're off and away! You have brains in your head\", 'have feet in your shoes', 'steer yourself any direction you choose', 'know what you know', 'go', 'is is George', 'lived in Africa', 'was a good little monkey, and always very curious', 'saw a man', 'had on a large yellow straw hat', 'saw George, too', 'take him home with me']\n"
     ]
    }
   ],
   "source": [
    "doSomething=[]\n",
    "for bookSentence in bookSentences:\n",
    "    try: \n",
    "        for verb in verbs:\n",
    "            if verb in bookSentence:\n",
    "                index=bookSentence.find(verb)\n",
    "                doSomething.append(bookSentence[index:])\n",
    "                raise StopIteration\n",
    "    except StopIteration:\n",
    "        pass\n",
    "\n",
    "print(doSomething)"
   ]
  },
  {
   "cell_type": "code",
   "execution_count": 85,
   "id": "dbe97ced",
   "metadata": {},
   "outputs": [
    {
     "name": "stdout",
     "output_type": "stream",
     "text": [
      "['cat', 'year', 'time', 'tabby', 'person', 'King', 'war', 'cage', 'day', 'arrow', 'middle', 'battle', 'castle', 'garden', 'seaman', 'sea', 'world', 'sea', 'bay', 'boat', 'net', 'rag', 'tree', 'park', 'town', 'circu', 'magician', 'box', 'half', 'crowd', 'mistake', 'piece', 'hand', 'one', 'tent', 'thief', 'thievery', 'town', 'night', 'alley', 'house', 'dog', 'dog', 'diamond', 'yard', 'widow', 'lap', 'floor', 'window', 'nap', 'time', 'girl', 'child', 'piggy', 'back', 'tear', 'string', 'neck', 'course', 'wife', 'fish', 'present', 'mouse', 'journey', 'tiger', 'way', 'front', 'summersault', 'row', 'kitten', 'way', 'cat', 'satisfaction', 'sun', 'end', 'boy', 'leaf', 'crown', 'king', 'forest', 'trunk', 'branch', 'apple', 'seek', 'shade', 'place', 'fox', 'wood', 'turtle', 'water', 'family', 'light', 'moon', 'egg', 'leaf', 'morning', 'pop', 'out', 'caterpillar', 'food', 'apple', 'pear', 'peddler', 'cap', 'ware', 'top', 'head', 'cap', 'bunch', 'sidewalk', 'street', 'gras', 'crimson', 'bird', 'flight', 'peppermint', 'wind', 'winter', 'breakfast', 'snowsuit', 'snow', 'path', 'crunch', 'foot', 'toe', 'penguin', 'Congratulation', 'Today', 'brain', 'shoe', 'direction', 'guy', 'monkey', 'man', 'straw', 'hat']\n"
     ]
    }
   ],
   "source": [
    "import inflect\n",
    "p = inflect.engine()\n",
    "\n",
    "singularNoun=[]\n",
    "\n",
    "# Singularize the words\n",
    "for myNoun in nouns:\n",
    "    if p.singular_noun(myNoun) == False:\n",
    "        singularNoun.append(myNoun)\n",
    "    else:\n",
    "        singularNoun.append(p.singular_noun(myNoun))\n",
    "print(singularNoun)"
   ]
  },
  {
   "cell_type": "markdown",
   "id": "d0201678",
   "metadata": {},
   "source": [
    "## Error message format:\n",
    "\n",
    "[]Error: [Error Message]\n",
    "\n",
    "[Description of the error, including any relevant information such as the invalid input value]\n",
    "\n",
    "[Optional: Suggestions for resolving the error or troubleshooting steps to take]"
   ]
  },
  {
   "cell_type": "code",
   "execution_count": 11,
   "id": "e76f1990",
   "metadata": {},
   "outputs": [],
   "source": [
    "import tracery\n",
    "from tracery.modifiers import base_english"
   ]
  },
  {
   "cell_type": "code",
   "execution_count": 13,
   "id": "86649820",
   "metadata": {},
   "outputs": [],
   "source": [
    "from simpleneighbors import SimpleNeighbors\n",
    "import json\n",
    "prob_lookup = dict(json.load(open(\"./wordfreq-en-25000-log.json\")))"
   ]
  },
  {
   "cell_type": "code",
   "execution_count": 15,
   "id": "40da9294",
   "metadata": {},
   "outputs": [],
   "source": [
    "def vec(s):\n",
    "    return nlp.vocab[s].vector"
   ]
  },
  {
   "cell_type": "code",
   "execution_count": 16,
   "id": "5175f5fe",
   "metadata": {},
   "outputs": [],
   "source": [
    "lookup = SimpleNeighbors(300)\n",
    "for word in prob_lookup.keys():\n",
    "    if nlp.vocab[word].has_vector:\n",
    "        lookup.add_one(word, vec(word))\n",
    "lookup.build()"
   ]
  },
  {
   "cell_type": "code",
   "execution_count": 86,
   "id": "268064ca",
   "metadata": {},
   "outputs": [],
   "source": [
    "fine_tune = nlp(finetune_word)\n",
    "\n",
    "# singularNoun_doc = nlp(\" \".join(singularNoun))\n",
    "singularNoun_finetune= []\n",
    "doSomething_finetune = [None] * len(doSomething)\n",
    "adjectives_finetune = []\n",
    "\n",
    "for token in fine_tune:\n",
    "    pos_tag = token.pos_\n",
    "    if pos_tag == 'NOUN':\n",
    "#         nouns_finetune.append(token.text.lower())\n",
    "        for word in singularNoun:\n",
    "            new_word = random.choice(\n",
    "                lookup.nearest((vec(word)*(1-factor)) + (vec(finetune_word)*factor), 5))\n",
    "            singularNoun_finetune.append(new_word)\n",
    "            \n",
    "        for index,sentence in enumerate(doSomething):\n",
    "            doc = nlp(sentence)\n",
    "            new_sentence = \"\"\n",
    "            for token in doc:\n",
    "                if token.pos_ == \"NOUN\":\n",
    "                    new_sentence += random.choice(\n",
    "            lookup.nearest((vec(sentence.split()[0])*(1-factor)) + (vec(finetune_word)*factor), 5)) + \" \"\n",
    "                else:\n",
    "                    new_sentence += token.text + \" \"\n",
    "            doSomething_finetune[index]=new_sentence.strip()\n",
    "        \n",
    "    elif pos_tag == 'ADJ':\n",
    "        for word in adjectives:\n",
    "            new_word = random.choice(\n",
    "                lookup.nearest((vec(word)*(1-factor)) + (vec(finetune_word)*factor), 5))\n",
    "            adjectives_finetune.append(new_word)\n",
    "#     elif pos_tag == 'ADV' and token.text.lower() not in adverbs:\n",
    "#         adverbs.append(token.text)\n",
    "    elif pos_tag == 'VERB':\n",
    "        for index,sentence in enumerate(doSomething):\n",
    "            doc = nlp(sentence)\n",
    "            new_sentence = \"\"\n",
    "            for token in doc:\n",
    "                if token.pos_ == \"VERB\":\n",
    "                    new_sentence += random.choice(\n",
    "            lookup.nearest((vec(sentence.split()[0])*(1-factor)) + (vec(finetune_word)*factor), 5)) + \" \"\n",
    "                else:\n",
    "                    new_sentence += token.text + \" \"\n",
    "            doSomething_finetune[index]=new_sentence.strip()\n",
    "            \n",
    "\n",
    "# if len(nouns_finetune)>0:\n",
    "#     for word in singularNoun:\n",
    "#         new_word = random.choice(\n",
    "#             lookup.nearest((vec(word)*(1-factor)) + (vec(finetune_word)*factor), 5))\n",
    "#         singularNoun_finetune.append(new_word)\n",
    "# if len(adjectives_finetune)>0:\n",
    "#     for word in adjectives:\n",
    "#         new_word = random.choice(\n",
    "#             lookup.nearest((vec(word)*(1-factor)) + (vec(finetune_word)*factor), 5))\n",
    "#         singularNoun_finetune.append(new_word)"
   ]
  },
  {
   "cell_type": "code",
   "execution_count": 87,
   "id": "77f603fe",
   "metadata": {},
   "outputs": [
    {
     "data": {
      "text/plain": [
       "['was a famously who lived for a million became',\n",
       " 'died a million killed',\n",
       " 'lived a million inhabited',\n",
       " 'was truly a splendid republic - jokingly',\n",
       " 'died',\n",
       " 'cry',\n",
       " 'belonged to a spheres',\n",
       " 'hated the King',\n",
       " 'was good at republic , so the King always went to famously',\n",
       " 'put the put into a splendid come and took him along',\n",
       " 'died',\n",
       " 'cried',\n",
       " 'went home to his goes',\n",
       " \"buried the survives in the uncovered 's descended\",\n",
       " 'belonged to a spheres',\n",
       " 'hated the paranormal',\n",
       " \"took the brought across all the takin 's taken , and all the takin 's taken\",\n",
       " 'fell out of the fell',\n",
       " 'swim',\n",
       " 'caught the disappearing in a disappears and pulled him back onto the vanishing',\n",
       " 'was soaked through',\n",
       " 'died',\n",
       " 'cried loudly',\n",
       " 'buried the uncovered beneath a descended in the descended of a faraway bayside unearthed',\n",
       " \"was a became famously 's jokingly\",\n",
       " 'hated the primitive',\n",
       " 'put the puts into a little puts , and then saw the turn right in come',\n",
       " 'pull the balled - up shoving out of the shoving , and the turn would clap and cheer',\n",
       " 'saw the looked right in looked',\n",
       " 'cried loudly',\n",
       " 'clapped or cheered',\n",
       " \"buried the survives beneath the descended 's biggest descended\",\n",
       " \"was a republic 's jokingly\",\n",
       " 'hated thievery',\n",
       " 'take the take into taker at taker , quietly sneaking like a taker down the dark give',\n",
       " 'break into imagining that had massey',\n",
       " 'break into the safe',\n",
       " 'was bitten by a originally , and died',\n",
       " 'crying loudly',\n",
       " 'went home and buried the goes in his small tricked',\n",
       " \"was a lonely old jokingly 's famously\",\n",
       " 'hated the lonely old paranormal',\n",
       " 'hold the possess in her manipulate and stare out a little first - stand manipulate',\n",
       " \"sit in the listen 's stand all listen , and nap\",\n",
       " 'died',\n",
       " 'cried all imagines',\n",
       " 'buried the destined underneath the a unearthed in her unearthed',\n",
       " \"was a little republic 's famously\",\n",
       " 'hated continent',\n",
       " 'holding him too tight',\n",
       " \"cried , she would wipe her humanity off on the immortality 's humankind\",\n",
       " 'made the created ride transformed - created by tying a groundbreaking around his transformed',\n",
       " 'died',\n",
       " 'cried all imagined',\n",
       " 'buried the destined underneath a uncovered in her unearthed',\n",
       " 'mindy dying',\n",
       " \"was nobody 's became\",\n",
       " 'was a wild republic',\n",
       " 'was his own originally',\n",
       " 'liked himself',\n",
       " 'was a truly splendid tabby famously , So of jokingly he made a truly splendid wild republic',\n",
       " \"wanted to be the desire 's realm\",\n",
       " 'brought him big bring as presents',\n",
       " 'brought him the best encountered as presents',\n",
       " 'brought him bring from unusual encountered',\n",
       " 'was greater than the greatest of originally',\n",
       " 'died a million perished',\n",
       " 'liked himself better than anyone else',\n",
       " 'was only one republic who never looked his republic',\n",
       " 'was a beautiful white originally',\n",
       " 'died a million perished ! \" \" Oh',\n",
       " 'hite immortality would say',\n",
       " 'was a little angry , for you know he liked himself better than anyone else',\n",
       " 'hite humanity and say : \" You \\'ll probably only live once , you know',\n",
       " 'hite sanity would say',\n",
       " 'hite universe and turned three humankind in a humankind',\n",
       " 'was a jokingly originally , you know',\n",
       " 'hite humanity would say',\n",
       " 'died a … \" the died started to say , then : \" Do you mind if I stay with you ? \" he asked the white death',\n",
       " 'said',\n",
       " 'was always with the white famously',\n",
       " 'hite immortality had many , many cute little universe',\n",
       " 'hite sanity and all her little universe more than he liked himself',\n",
       " 'went their separate tricked',\n",
       " \"came splendid wild fledged , did n't they\",\n",
       " 'said with explained',\n",
       " 'hite cat said , purring softly',\n",
       " 'hite humankind grown a little old',\n",
       " 'purred even more softly',\n",
       " 'hite humankind',\n",
       " 'hite universe laid beside the humankind , and quietly stopped moving',\n",
       " 'cried for the first cries ever , all cries and all cries',\n",
       " 'cried a million million terrifying',\n",
       " 'was high and bright , he stopped',\n",
       " 'hite universe , he quietly stopped moving',\n",
       " 'was never , ever born again',\n",
       " 'was a jokingly',\n",
       " 'loved a little worlds',\n",
       " 'make them into accomplish and play achieves of the accomplish',\n",
       " 'climb up her curling and swing from her curling and eat terrain',\n",
       " 'go - seek',\n",
       " 'was tired , he would sleep in her originally',\n",
       " 'loved the lovin',\n",
       " 'was happy',\n",
       " 'went by',\n",
       " 'grew older',\n",
       " 'was often alone',\n",
       " 'live',\n",
       " 'looked like a nice realising , Mrs',\n",
       " 'was no good',\n",
       " 'was sure to be famously in the famously or republic in the famously , and she was not going to raise a republic where there might be jokingly or originally',\n",
       " 'flew on and on',\n",
       " 'lay on a come',\n",
       " 'came up and - fledged ! - brought of the wrought came a tiny and very hungry brought',\n",
       " 'started to look for some progressed',\n",
       " 'ate through one tasted',\n",
       " 'was still hungry',\n",
       " 'was still hungry',\n",
       " 'was a famously who sold republic',\n",
       " 'was not like an ordinary originally carrying his republic on his famously',\n",
       " 'carried them on encountered of his encountering',\n",
       " 'had on his own checked coincidentally , then a evidently of gray evidently , then a coincidentally of brown evidently , then a believed of blue coincidentally , and on the very admittedly , a admittedly of red coincidentally',\n",
       " 'hite , and there the humankind burns immortality bright , and there the sanity - humanity rests from his sanity to cool in the universe universe',\n",
       " 'looked out the imagined',\n",
       " 'had fallen during the coincidentally',\n",
       " 'covered everything as far as he could see',\n",
       " 'put on his put and ran outside',\n",
       " 'was piled up very high along the republic to make a became for walking',\n",
       " 'is is sank into the nature',\n",
       " 'like a imaginary',\n",
       " 'is your nature',\n",
       " \"eat Places ! You 're off and away ! You have edible in your foodstuffs\",\n",
       " 'have certainly in your necessarily',\n",
       " 'steer yourself any familiarity you choose',\n",
       " 'know what you know',\n",
       " 'go',\n",
       " 'is is George',\n",
       " 'lived in Africa',\n",
       " 'was a good little became , and always very curious',\n",
       " 'saw a seen',\n",
       " 'had on a large yellow evidently apparently',\n",
       " 'saw George , too',\n",
       " 'take him home with me']"
      ]
     },
     "execution_count": 87,
     "metadata": {},
     "output_type": "execute_result"
    }
   ],
   "source": [
    "doSomething_finetune"
   ]
  },
  {
   "cell_type": "code",
   "execution_count": 88,
   "id": "9fa49b64",
   "metadata": {},
   "outputs": [
    {
     "data": {
      "text/plain": [
       "['was a cat who lived for a million years',\n",
       " 'died a million times',\n",
       " 'lived a million times',\n",
       " 'was truly a splendid tabby-cat',\n",
       " 'died',\n",
       " 'cry',\n",
       " 'belonged to a King',\n",
       " 'hated the King',\n",
       " 'was good at war, so the King always went to war',\n",
       " 'put the cat into a splendid cage and took him along',\n",
       " 'died',\n",
       " 'cried',\n",
       " 'went home to his castle',\n",
       " \"buried the cat in the castle's garden\",\n",
       " 'belonged to a seaman',\n",
       " 'hated the sea',\n",
       " \"took the cat across all the world's seas, and all the world's bays\",\n",
       " 'fell out of the boat',\n",
       " 'swim',\n",
       " 'caught the cat in a net and pulled him back onto the boat',\n",
       " 'was soaked through',\n",
       " 'died',\n",
       " 'cried loudly',\n",
       " 'buried the cat beneath a tree in the park of a faraway bayside town',\n",
       " \"was a circus magician's cat\",\n",
       " 'hated the circus',\n",
       " 'put the cat into a little box, and then saw the box right in half',\n",
       " 'pull the balled-up cat out of the box, and the crowd would clap and cheer',\n",
       " 'saw the cat right in half',\n",
       " 'cried loudly',\n",
       " 'clapped or cheered',\n",
       " \"buried the cat beneath the circus's biggest tent\",\n",
       " \"was a thief's cat\",\n",
       " 'hated thievery',\n",
       " 'take the cat into towns at night, quietly sneaking like a cat down the dark alleys',\n",
       " 'break into houses that had dogs',\n",
       " 'break into the safe',\n",
       " 'was bitten by a dog, and died',\n",
       " 'crying loudly',\n",
       " 'went home and buried the cat in his small yard',\n",
       " \"was a lonely old widow's cat\",\n",
       " 'hated the lonely old widow',\n",
       " 'hold the cat in her lap and stare out a little first-floor window',\n",
       " \"sit in the widow's lap all day, and nap\",\n",
       " 'died',\n",
       " 'cried all day',\n",
       " 'buried the cat underneath the a tree in her garden',\n",
       " \"was a little girl's cat\",\n",
       " 'hated children',\n",
       " 'holding him too tight',\n",
       " \"cried, she would wipe her tears off on the cat's back\",\n",
       " 'made the cat ride piggy-back by tying a string around his neck',\n",
       " 'died',\n",
       " 'cried all day',\n",
       " 'buried the cat underneath a tree in her garden',\n",
       " 'mind dying',\n",
       " \"was nobody's cat\",\n",
       " 'was a wild cat',\n",
       " 'was his own cat',\n",
       " 'liked himself',\n",
       " 'was a truly splendid tabby cat, So of course he made a truly splendid wild cat',\n",
       " \"wanted to be the cat's wife\",\n",
       " 'brought him big fish as presents',\n",
       " 'brought him the best mice as presents',\n",
       " 'brought him presents from unusual journeys',\n",
       " 'was greater than the greatest of tigers',\n",
       " 'died a million times',\n",
       " 'liked himself better than anyone else',\n",
       " 'was only one cat who never looked his way',\n",
       " 'was a beautiful white cat',\n",
       " 'died a million times!\" \"Oh',\n",
       " 'hite cat would say',\n",
       " 'was a little angry, for you know he liked himself better than anyone else',\n",
       " 'hite cat and say: \"You\\'ll probably only live once, you know',\n",
       " 'hite cat would say',\n",
       " 'hite cat and turned three summersaults in a row',\n",
       " 'was a circus cat, you know',\n",
       " 'hite cat would say',\n",
       " 'died a…\" the cat started to say, then: \"Do you mind if I stay with you?\" he asked the white cat',\n",
       " 'said',\n",
       " 'was always with the white cat',\n",
       " 'hite cat had many, many cute little kittens',\n",
       " 'hite cat and all her little kittens more than he liked himself',\n",
       " 'went their separate ways',\n",
       " \"came splendid wild cats, didn't they\",\n",
       " 'said with satisfaction',\n",
       " 'hite cat said, purring softly',\n",
       " 'hite cat grown a little old',\n",
       " 'purred even more softly',\n",
       " 'hite cat',\n",
       " 'hite cat laid beside the cat, and quietly stopped moving',\n",
       " 'cried for the first time ever, all day and all night',\n",
       " 'cried a million million tears',\n",
       " 'was high and bright, he stopped',\n",
       " 'hite cat, he quietly stopped moving',\n",
       " 'was never, ever born again',\n",
       " 'was a tree',\n",
       " 'loved a little boy',\n",
       " 'make them into crowns and play king of the forest',\n",
       " 'climb up her trunk and swing from her branches and eat apples',\n",
       " 'go-seek',\n",
       " 'was tired, he would sleep in her shade',\n",
       " 'loved the tree',\n",
       " 'was happy',\n",
       " 'went by',\n",
       " 'grew older',\n",
       " 'was often alone',\n",
       " 'live',\n",
       " 'looked like a nice place, Mrs',\n",
       " 'was no good',\n",
       " 'was sure to be foxes in the woods or turtles in the water, and she was not going to raise a family where there might be foxes or turtles',\n",
       " 'flew on and on',\n",
       " 'lay on a leaf',\n",
       " 'came up and - pop! - out of the egg came a tiny and very hungry caterpillar',\n",
       " 'started to look for some food',\n",
       " 'ate through one apple',\n",
       " 'was still hungry',\n",
       " 'was still hungry',\n",
       " 'was a peddler who sold caps',\n",
       " 'was not like an ordinary peddler carrying his wares on his back',\n",
       " 'carried them on top of his head',\n",
       " 'had on his own checked cap, then a bunch of gray caps, then a bunch of brown caps, then a bunch of blue caps, and on the very top, a bunch of red caps',\n",
       " 'hite, and there the sun burns crimson bright, and there the moon-bird rests from his flight to cool in the peppermint wind',\n",
       " 'looked out the window',\n",
       " 'had fallen during the night',\n",
       " 'covered everything as far as he could see',\n",
       " 'put on his snowsuit and ran outside',\n",
       " 'was piled up very high along the street to make a path for walking',\n",
       " 'is feet sank into the snow',\n",
       " 'like a penguin',\n",
       " 'is your day',\n",
       " \"eat Places! You're off and away! You have brains in your head\",\n",
       " 'have feet in your shoes',\n",
       " 'steer yourself any direction you choose',\n",
       " 'know what you know',\n",
       " 'go',\n",
       " 'is is George',\n",
       " 'lived in Africa',\n",
       " 'was a good little monkey, and always very curious',\n",
       " 'saw a man',\n",
       " 'had on a large yellow straw hat',\n",
       " 'saw George, too',\n",
       " 'take him home with me']"
      ]
     },
     "execution_count": 88,
     "metadata": {},
     "output_type": "execute_result"
    }
   ],
   "source": [
    "doSomething"
   ]
  },
  {
   "cell_type": "code",
   "execution_count": 53,
   "id": "1e56da76",
   "metadata": {},
   "outputs": [],
   "source": [
    "if len(singularNoun_finetune)>0:\n",
    "    singularNoun_final=singularNoun_finetune\n",
    "else:    \n",
    "    singularNoun_final=singularNoun\n",
    "    \n",
    "if len(doSomething_finetune)>0:\n",
    "    doSomething_final=doSomething_finetune\n",
    "else:    \n",
    "    doSomething_final=doSomething\n",
    "\n",
    "if len(adjectives_finetune)>0:\n",
    "    adjectives_final=adjectives_finetune\n",
    "else:    \n",
    "    adjectives_final=adjectives\n"
   ]
  },
  {
   "cell_type": "code",
   "execution_count": 54,
   "id": "0ff9bb67",
   "metadata": {},
   "outputs": [],
   "source": [
    "errorRules = {\n",
    "    \"CodeMessage\": \"#errorCode#: #errorMessage#\",\n",
    "    \"errorCode\": [\"#noun.capitalize# Not Found\",\n",
    "                  \"500 Internal #noun.capitalize# Error\",\n",
    "                  \"#noun.capitalize# Timed Out\",\n",
    "                  \"503 #noun.capitalize# Unavailable\",\n",
    "                  \"#noun.capitalize# Error\",\n",
    "                  \"#noun.capitalize# Denied\",\n",
    "                  \"#noun.capitalize# Failed\",\n",
    "                  \"Out of #noun.capitalize#\",\n",
    "                  \"Unexpected Error\",\n",
    "                  \"Bad #noun.capitalize#\",\n",
    "                  \"#noun.capitalize# Timeout\",\n",
    "                  \"#noun.capitalize# Not Implemented\",\n",
    "                  \"#noun.capitalize# Cannot Be Displayed\",\n",
    "                  \"Unauthorized #noun.capitalize#\",\n",
    "                  \"Unknown #noun.capitalize#\",\n",
    "                  \"Invalid #noun.capitalize#\",\n",
    "                  \"Unexpected End of #noun.capitalize#\",\n",
    "                  \"#noun.capitalize#Error\"],\n",
    "    \"errorMessage\":[\"#errorAdj.capitalize# #noun# for #noun# with #noun#\",\n",
    "                    \"Expected #noun# does not match actual #noun#\",\n",
    "                    \"Unsupported #noun# type(s) for #noun#\",\n",
    "                    \"Could not find '#noun#'\",\n",
    "                    \"Expected #noun# to be #adj#, but got #adj#.\",\n",
    "                    \"#noun# out of range.\",\n",
    "                    \"'#noun#' object has no attribute '#noun#'.\",\n",
    "                    \"No #noun# named '#noun#'\",\n",
    "                    \"No such '#noun#' or '#noun#'\"],\n",
    "    \"errorDescription\":[\"The #noun# attempted to #doSth# that does not exist or has #errorAdj.a# #noun#.\",\n",
    "                        \"The #noun# attempted to convert #noun.a# to #noun.a#, but the #noun# is not #validAdj.a# #noun#.\",\n",
    "                        \"The #noun# attempted to add #noun.a# and #noun.a#, which is not #validAdj.a# operation.\",\n",
    "                        \"The #noun# contains #noun.a# error that prevents it from being #adj# or #adj#.\",\n",
    "                        \"The #noun# encountered #noun.a# that failed to #doSth#.\",\n",
    "                        \"The #noun# has #noun.a# error, which means that the #noun# does not #doSth# correctly.\",\n",
    "                        \"The #noun# failed because the expected #noun# did not match the actual #noun#.\",\n",
    "                        \"An error occurred in the #noun#, specifically in the #noun# where #noun.a# and #noun.a# #doSth#.\",\n",
    "                        \"The #noun# expects #noun.a# and #noun.a# to #doSth#, but not #noun.a#.\",\n",
    "                        \"The #noun# cannot process the request due to #errorAdj# #noun# or #errorAdj# #noun#.\",\n",
    "                        \"#noun.a.capitalize# or #noun.a# times out while attempting to #doSth#.\",\n",
    "                        \"#noun.a.capitalize# or #noun.a# is not yet implemented ot supported.\",\n",
    "                        \"The #noun# does not have the necessary permissions or credentials to #doSth#.\",\n",
    "                        \"There is a problem with the #noun#, such as #errorAdj# or #errorAdj# #noun#.\",\n",
    "                        \"The #noun# couldn't find the #noun# you're looking for. It might #doSth#.\"],\n",
    "    \"suggestions\":[\"To resolve this error, make sure that the #noun.s# are of the same #noun#, either both #noun.s# or both #noun.s#.\",\n",
    "                   \"Double-check the #noun# and ensure that the expected #noun# is #adj#.\",\n",
    "                   \"Check the length of the #noun# and make sure that the #noun# is within the #noun#.\",\n",
    "                   \"Ensure that the #noun# is #noun.a# or modify the #noun# to #doSth#.\",\n",
    "                   \"Check the #noun# and make sure that the #noun# exists in the #noun# and can be accessed from #noun#.\",\n",
    "                   \"Update the #noun# and make sure that it is free of #noun#.\",\n",
    "                   \"Verify the #noun# and make sure that the #noun# is not #noun#.\",\n",
    "                   \"Contact #noun# for further assistance.\",\n",
    "                   \"Re#doSth# and try again.\",\n",
    "                   \"Clear your #noun# and #noun# and try again.\",\n",
    "                   \"Increase the amount of #validAdj# #noun# or #noun#.\",\n",
    "                   \"Try using a different #noun# or #noun# to see if the error persists.\"],\n",
    "    \"errorAdj\":[\"invalid\",\n",
    "                \"malformed\",\n",
    "                \"slow\",\n",
    "                \"missing\",\n",
    "                \"incorrect\",\n",
    "                \"corrupted\", \n",
    "                \"unauthorized\", \n",
    "                \"incompatible\", \n",
    "                \"unexpected\",\n",
    "                \"unknown\", \n",
    "                \"broken\", \n",
    "                \"unavailable\", \n",
    "                \"expired\", \n",
    "                \"forbidden\",\n",
    "                \"interrupted\", \n",
    "                \"failed\", \n",
    "                \"unresponsive\", \n",
    "                \"overloaded\",\n",
    "                \"unrecognized\", \n",
    "                \"misconfigured\"],\n",
    "    \"validAdj\":[\"valid\", \"available\", \"correct\", \"accurate\", \"reliable\",\n",
    "               \"complete\", \"verified\", \"functional\", \"acceptable\",\n",
    "               \"suitable\", \"proper\", \"adequate\", \"sufficient\",\n",
    "               \"legitimate\", \"authentic\", \"appropriate\", \"approved\",\n",
    "               \"accepted\", \"usable\", \"accessible\", \"intact\",\n",
    "               \"error-free\", \"working\"],\n",
    "    \"adj\":adjectives_final,\n",
    "    \"noun\":singularNoun_final,\n",
    "    \"doSth\":doSomething_final,\n",
    "}"
   ]
  },
  {
   "cell_type": "code",
   "execution_count": 55,
   "id": "a43b39b3",
   "metadata": {},
   "outputs": [
    {
     "name": "stdout",
     "output_type": "stream",
     "text": [
      "\u001b[31m---------------------------------------------------------------------------\u001b[0m\n",
      "\u001b[31m503 Spheres Unavailable\u001b[0m                   Traceback (most recent call last)\n",
      "Cell \u001b[32mIn [601], line 85\u001b[0m\n",
      "\n",
      "\u001b[31m503 Spheres Unavailable: \u001b[0mExpected darkness does not match actual altogether\n",
      "The universe encountered a landscape that failed to was truly a splendid famously - jokingly.\n",
      "Check the net and make sure that the humanity exists in the possibilities and can be accessed from feral.\n",
      "\n"
     ]
    }
   ],
   "source": [
    "from colorama import Fore, Style\n",
    "def printOutErrorMessage():\n",
    "    grammar = tracery.Grammar(errorRules)\n",
    "    grammar.add_modifiers(base_english)\n",
    "    print(Fore.RED + '---------------------------------------------------------------------------' + Style.RESET_ALL)\n",
    "    errorCodeNow=grammar.flatten(\"#errorCode#\")\n",
    "    print(Fore.RED +errorCodeNow+ Style.RESET_ALL+\" \"*(42-len(errorCodeNow))+\"Traceback (most recent call last)\")\n",
    "    print(\"Cell \" + Fore.GREEN+ \"In [\"+ str(random.randint(1, 999))+\"], line \"+str(random.randint(1, 99))+ Style.RESET_ALL)\n",
    "    print(\"\")\n",
    "    print(Fore.RED+errorCodeNow+\": \"+ Style.RESET_ALL+grammar.flatten(\"#errorMessage#\"))\n",
    "    print(grammar.flatten(\"#errorDescription#\"))\n",
    "    print(grammar.flatten(\"#suggestions#\"))\n",
    "    print(\"\")\n",
    "printOutErrorMessage()    "
   ]
  },
  {
   "cell_type": "code",
   "execution_count": 56,
   "id": "8c3dbd0d",
   "metadata": {
    "scrolled": true
   },
   "outputs": [
    {
     "name": "stdout",
     "output_type": "stream",
     "text": [
      "\u001b[31m---------------------------------------------------------------------------\u001b[0m\n",
      "\u001b[31mCreature Failed\u001b[0m                           Traceback (most recent call last)\n",
      "Cell \u001b[32mIn [34], line 17\u001b[0m\n",
      "\n",
      "\u001b[31mCreature Failed: \u001b[0mExpected freshwater does not match actual worlds\n",
      "The parasitic does not have the necessary permissions or credentials to flew on and on.\n",
      "Rebelonged to a spheres and try again.\n",
      "\n"
     ]
    }
   ],
   "source": [
    "printOutErrorMessage()"
   ]
  },
  {
   "cell_type": "code",
   "execution_count": 57,
   "id": "1e048f71",
   "metadata": {},
   "outputs": [
    {
     "name": "stdout",
     "output_type": "stream",
     "text": [
      "\u001b[31m---------------------------------------------------------------------------\u001b[0m\n",
      "\u001b[31mUnauthorized Galactic\u001b[0m                     Traceback (most recent call last)\n",
      "Cell \u001b[32mIn [851], line 94\u001b[0m\n",
      "\n",
      "\u001b[31mUnauthorized Galactic: \u001b[0mExpected stupidity does not match actual handcuffs\n",
      "The feet encountered a magical that failed to made the transformed ride considered - rendered by tying a transformed around his groundbreaking.\n",
      "Clear your wood and darkness and try again.\n",
      "\n"
     ]
    }
   ],
   "source": [
    "printOutErrorMessage() "
   ]
  },
  {
   "cell_type": "code",
   "execution_count": 58,
   "id": "6427e663",
   "metadata": {},
   "outputs": [
    {
     "name": "stdout",
     "output_type": "stream",
     "text": [
      "\u001b[31m---------------------------------------------------------------------------\u001b[0m\n",
      "\u001b[31mKingdoms Not Implemented\u001b[0m                  Traceback (most recent call last)\n",
      "Cell \u001b[32mIn [498], line 29\u001b[0m\n",
      "\n",
      "\u001b[31mKingdoms Not Implemented: \u001b[0mCould not find 'slayer'\n",
      "An one or a fucking times out while attempting to go - seek.\n",
      "Try using a different kingdoms or granger to see if the error persists.\n",
      "\n"
     ]
    }
   ],
   "source": [
    "printOutErrorMessage() "
   ]
  },
  {
   "cell_type": "code",
   "execution_count": 59,
   "id": "1fe5e3d3",
   "metadata": {},
   "outputs": [
    {
     "name": "stdout",
     "output_type": "stream",
     "text": [
      "\u001b[31m---------------------------------------------------------------------------\u001b[0m\n",
      "\u001b[31mOut of Attain\u001b[0m                             Traceback (most recent call last)\n",
      "Cell \u001b[32mIn [16], line 40\u001b[0m\n",
      "\n",
      "\u001b[31mOut of Attain: \u001b[0mUnsupported foxes type(s) for creature\n",
      "The circle attempted to convert a chests to a humanity, but the immortality is not an adequate planet.\n",
      "Try using a different tac or hare to see if the error persists.\n",
      "\n"
     ]
    }
   ],
   "source": [
    "printOutErrorMessage() "
   ]
  },
  {
   "cell_type": "code",
   "execution_count": 60,
   "id": "0f54a264",
   "metadata": {},
   "outputs": [
    {
     "name": "stdout",
     "output_type": "stream",
     "text": [
      "\u001b[31m---------------------------------------------------------------------------\u001b[0m\n",
      "\u001b[31mCreature Failed\u001b[0m                           Traceback (most recent call last)\n",
      "Cell \u001b[32mIn [445], line 3\u001b[0m\n",
      "\n",
      "\u001b[31mCreature Failed: \u001b[0mMalformed humans for universe with humankind\n",
      "The demon contains a creature error that prevents it from being sick or cute.\n",
      "Ensure that the magical is a humankind or modify the rooster to died.\n",
      "\n"
     ]
    }
   ],
   "source": [
    "printOutErrorMessage() "
   ]
  },
  {
   "cell_type": "code",
   "execution_count": 61,
   "id": "f80fb963",
   "metadata": {},
   "outputs": [
    {
     "name": "stdout",
     "output_type": "stream",
     "text": [
      "\u001b[31m---------------------------------------------------------------------------\u001b[0m\n",
      "\u001b[31mAltogether Error\u001b[0m                          Traceback (most recent call last)\n",
      "Cell \u001b[32mIn [835], line 75\u001b[0m\n",
      "\n",
      "\u001b[31mAltogether Error: \u001b[0mExpected humanity does not match actual sprinter\n",
      "The one failed because the expected shielded did not match the actual creatures.\n",
      "Increase the amount of appropriate existent or creature.\n",
      "\n"
     ]
    }
   ],
   "source": [
    "printOutErrorMessage() "
   ]
  },
  {
   "cell_type": "code",
   "execution_count": 62,
   "id": "f95dd9d6",
   "metadata": {},
   "outputs": [
    {
     "name": "stdout",
     "output_type": "stream",
     "text": [
      "\u001b[31m---------------------------------------------------------------------------\u001b[0m\n",
      "\u001b[31mUnexpected Error\u001b[0m                          Traceback (most recent call last)\n",
      "Cell \u001b[32mIn [276], line 51\u001b[0m\n",
      "\n",
      "\u001b[31mUnexpected Error: \u001b[0mUnsupported postseason type(s) for shin\n",
      "The stupidity has a fucking error, which means that the ancestor does not was not like an ordinary became carrying his republic on his republic correctly.\n",
      "Contact oceanic for further assistance.\n",
      "\n"
     ]
    }
   ],
   "source": [
    "printOutErrorMessage() "
   ]
  },
  {
   "cell_type": "code",
   "execution_count": 63,
   "id": "41d31c73",
   "metadata": {},
   "outputs": [
    {
     "name": "stdout",
     "output_type": "stream",
     "text": [
      "\u001b[31m---------------------------------------------------------------------------\u001b[0m\n",
      "\u001b[31mInvalid Existential\u001b[0m                       Traceback (most recent call last)\n",
      "Cell \u001b[32mIn [626], line 10\u001b[0m\n",
      "\n",
      "\u001b[31mInvalid Existential: \u001b[0m'kingdoms' object has no attribute 'godfather'.\n",
      "The immortality does not have the necessary permissions or credentials to was only one originally who never looked his became.\n",
      "Try using a different virtually or magical to see if the error persists.\n",
      "\n"
     ]
    }
   ],
   "source": [
    "printOutErrorMessage() "
   ]
  },
  {
   "cell_type": "code",
   "execution_count": 64,
   "id": "20e7aafd",
   "metadata": {},
   "outputs": [
    {
     "name": "stdout",
     "output_type": "stream",
     "text": [
      "\u001b[31m---------------------------------------------------------------------------\u001b[0m\n",
      "\u001b[31mIceberg Failed\u001b[0m                            Traceback (most recent call last)\n",
      "Cell \u001b[32mIn [775], line 38\u001b[0m\n",
      "\n",
      "\u001b[31mIceberg Failed: \u001b[0mNo lucifer named 'lotus'\n",
      "The creatures encountered a humanity that failed to go.\n",
      "Ensure that the springer is a nobles or modify the spheres to died a million perished ! \" \" Oh.\n",
      "\n"
     ]
    }
   ],
   "source": [
    "printOutErrorMessage() "
   ]
  },
  {
   "cell_type": "code",
   "execution_count": 65,
   "id": "d63eaf81",
   "metadata": {},
   "outputs": [
    {
     "name": "stdout",
     "output_type": "stream",
     "text": [
      "\u001b[31m---------------------------------------------------------------------------\u001b[0m\n",
      "\u001b[31mInvalid Masterpiece\u001b[0m                       Traceback (most recent call last)\n",
      "Cell \u001b[32mIn [576], line 35\u001b[0m\n",
      "\n",
      "\u001b[31mInvalid Masterpiece: \u001b[0mNo sprinter named 'basically'\n",
      "The virtually failed because the expected magical did not match the actual universe.\n",
      "Contact humankind for further assistance.\n",
      "\n"
     ]
    }
   ],
   "source": [
    "printOutErrorMessage() "
   ]
  },
  {
   "cell_type": "code",
   "execution_count": 66,
   "id": "1f436ee9",
   "metadata": {},
   "outputs": [
    {
     "name": "stdout",
     "output_type": "stream",
     "text": [
      "\u001b[31m---------------------------------------------------------------------------\u001b[0m\n",
      "\u001b[31mUnexpected Error\u001b[0m                          Traceback (most recent call last)\n",
      "Cell \u001b[32mIn [751], line 21\u001b[0m\n",
      "\n",
      "\u001b[31mUnexpected Error: \u001b[0mCould not find 'humankind'\n",
      "A stranger or a hemisphere is not yet implemented ot supported.\n",
      "Check the universe and make sure that the repeating exists in the basically and can be accessed from creature.\n",
      "\n"
     ]
    }
   ],
   "source": [
    "printOutErrorMessage() "
   ]
  },
  {
   "cell_type": "code",
   "execution_count": 74,
   "id": "d9ec5eec",
   "metadata": {},
   "outputs": [
    {
     "name": "stdout",
     "output_type": "stream",
     "text": [
      "\u001b[31m---------------------------------------------------------------------------\u001b[0m\n",
      "\u001b[31mHumanity Timed Out\u001b[0m                        Traceback (most recent call last)\n",
      "Cell \u001b[32mIn [757], line 15\u001b[0m\n",
      "\n",
      "\u001b[31mHumanity Timed Out: \u001b[0mNo flower named 'girl'\n",
      "The net attempted to convert a virtually to a postseason, but the attain is not an usable nobles.\n",
      "Contact net for further assistance.\n",
      "\n"
     ]
    }
   ],
   "source": [
    "printOutErrorMessage() "
   ]
  },
  {
   "cell_type": "code",
   "execution_count": null,
   "id": "c0d148a9",
   "metadata": {},
   "outputs": [],
   "source": []
  }
 ],
 "metadata": {
  "kernelspec": {
   "display_name": "Python 3 (ipykernel)",
   "language": "python",
   "name": "python3"
  },
  "language_info": {
   "codemirror_mode": {
    "name": "ipython",
    "version": 3
   },
   "file_extension": ".py",
   "mimetype": "text/x-python",
   "name": "python",
   "nbconvert_exporter": "python",
   "pygments_lexer": "ipython3",
   "version": "3.10.9"
  }
 },
 "nbformat": 4,
 "nbformat_minor": 5
}
